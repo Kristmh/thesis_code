{
 "cells": [
  {
   "cell_type": "code",
   "execution_count": 1,
   "id": "78f0078c-22bb-4050-848d-0775b492ae34",
   "metadata": {},
   "outputs": [],
   "source": [
    "import pandas as pd"
   ]
  },
  {
   "cell_type": "code",
   "execution_count": 3,
   "id": "2b2e784b-f7d0-42d9-a828-7771d58692b8",
   "metadata": {},
   "outputs": [],
   "source": [
    "input_csv_path = 'Full_Dataset.csv'  # Replace with the path to your large CSV file\n",
    "output_csv_path = 'ds_10000.csv'  # Name of the smaller file\n",
    "rows_to_read = 10000  # Number of rows to read for the smaller file (excluding header)\n",
    "\n",
    "# Read the chunk\n",
    "df = pd.read_csv(input_csv_path, nrows=rows_to_read)\n",
    "\n",
    "# Save the chunk to a new CSV\n",
    "df.to_csv(output_csv_path, index=False)"
   ]
  },
  {
   "cell_type": "code",
   "execution_count": null,
   "id": "1f9e64b9-4ee5-4202-89fd-15caa0642bc2",
   "metadata": {},
   "outputs": [],
   "source": []
  }
 ],
 "metadata": {
  "kernelspec": {
   "display_name": "Python 3 (ipykernel)",
   "language": "python",
   "name": "python3"
  },
  "language_info": {
   "codemirror_mode": {
    "name": "ipython",
    "version": 3
   },
   "file_extension": ".py",
   "mimetype": "text/x-python",
   "name": "python",
   "nbconvert_exporter": "python",
   "pygments_lexer": "ipython3",
   "version": "3.10.12"
  }
 },
 "nbformat": 4,
 "nbformat_minor": 5
}
