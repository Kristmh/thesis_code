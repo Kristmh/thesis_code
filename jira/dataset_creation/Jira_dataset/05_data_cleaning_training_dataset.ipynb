{
 "cells": [
  {
   "cell_type": "markdown",
   "metadata": {},
   "source": [
    "# Data cleaning\n",
    "We want the class with labels as numerical value and the body with clean text.\n",
    "\n",
    "This will remove:\n",
    "* duplicates\n",
    "* NaN entires\n",
    "* non english\n",
    "* url, html\n",
    "\n",
    "* make it lowercase\n",
    "* combine title and body"
   ]
  },
  {
   "cell_type": "code",
   "execution_count": 1,
   "metadata": {},
   "outputs": [],
   "source": [
    "import pandas as pd\n",
    "import sys\n",
    "sys.path.append(\"../../../scripts_shared/\")\n",
    "from preprocess_text import preprocess_text\n"
   ]
  },
  {
   "cell_type": "code",
   "execution_count": 2,
   "metadata": {},
   "outputs": [
    {
     "data": {
      "text/html": [
       "<div>\n",
       "<style scoped>\n",
       "    .dataframe tbody tr th:only-of-type {\n",
       "        vertical-align: middle;\n",
       "    }\n",
       "\n",
       "    .dataframe tbody tr th {\n",
       "        vertical-align: top;\n",
       "    }\n",
       "\n",
       "    .dataframe thead th {\n",
       "        text-align: right;\n",
       "    }\n",
       "</style>\n",
       "<table border=\"1\" class=\"dataframe\">\n",
       "  <thead>\n",
       "    <tr style=\"text-align: right;\">\n",
       "      <th></th>\n",
       "      <th>priority</th>\n",
       "      <th>description</th>\n",
       "      <th>project</th>\n",
       "      <th>labels</th>\n",
       "      <th>issuetype</th>\n",
       "      <th>collection</th>\n",
       "    </tr>\n",
       "  </thead>\n",
       "  <tbody>\n",
       "    <tr>\n",
       "      <th>0</th>\n",
       "      <td>Low</td>\n",
       "      <td>some errors show up as shown in the screenshot...</td>\n",
       "      <td>Sourcetree for Windows</td>\n",
       "      <td>[]</td>\n",
       "      <td>Bug</td>\n",
       "      <td>Jira</td>\n",
       "    </tr>\n",
       "    <tr>\n",
       "      <th>1</th>\n",
       "      <td>Low</td>\n",
       "      <td>I have been using Sourcetree 3.4.4.  We use cu...</td>\n",
       "      <td>Sourcetree for Windows</td>\n",
       "      <td>[]</td>\n",
       "      <td>Bug</td>\n",
       "      <td>Jira</td>\n",
       "    </tr>\n",
       "    <tr>\n",
       "      <th>2</th>\n",
       "      <td>Low</td>\n",
       "      <td>After installing SourceTree for Windows 10 64b...</td>\n",
       "      <td>Sourcetree for Windows</td>\n",
       "      <td>[]</td>\n",
       "      <td>Bug</td>\n",
       "      <td>Jira</td>\n",
       "    </tr>\n",
       "    <tr>\n",
       "      <th>3</th>\n",
       "      <td>Low</td>\n",
       "      <td>On windows, Sourcetree.exe will start \"git.exe...</td>\n",
       "      <td>Sourcetree for Windows</td>\n",
       "      <td>[]</td>\n",
       "      <td>Bug</td>\n",
       "      <td>Jira</td>\n",
       "    </tr>\n",
       "    <tr>\n",
       "      <th>4</th>\n",
       "      <td>Low</td>\n",
       "      <td>Hello,\\r\\n\\r\\nSourceTree 3.4.7.\\r\\n\\r\\nOS: Win...</td>\n",
       "      <td>Sourcetree for Windows</td>\n",
       "      <td>[]</td>\n",
       "      <td>Bug</td>\n",
       "      <td>Jira</td>\n",
       "    </tr>\n",
       "    <tr>\n",
       "      <th>...</th>\n",
       "      <td>...</td>\n",
       "      <td>...</td>\n",
       "      <td>...</td>\n",
       "      <td>...</td>\n",
       "      <td>...</td>\n",
       "      <td>...</td>\n",
       "    </tr>\n",
       "    <tr>\n",
       "      <th>386200</th>\n",
       "      <td>1 - Blocker</td>\n",
       "      <td>I am attempting to to follow the guide found h...</td>\n",
       "      <td>Artifactory Binary Repository</td>\n",
       "      <td>[]</td>\n",
       "      <td>Bug</td>\n",
       "      <td>JFrog</td>\n",
       "    </tr>\n",
       "    <tr>\n",
       "      <th>386201</th>\n",
       "      <td>4 - Normal</td>\n",
       "      <td>In binarystore.xml, maxCacheSize is in bytes b...</td>\n",
       "      <td>Artifactory Binary Repository</td>\n",
       "      <td>[]</td>\n",
       "      <td>Bug</td>\n",
       "      <td>JFrog</td>\n",
       "    </tr>\n",
       "    <tr>\n",
       "      <th>386202</th>\n",
       "      <td>4 - Normal</td>\n",
       "      <td>{color:#000000}We are using an artifact(folder...</td>\n",
       "      <td>Artifactory Binary Repository</td>\n",
       "      <td>[]</td>\n",
       "      <td>New Feature</td>\n",
       "      <td>JFrog</td>\n",
       "    </tr>\n",
       "    <tr>\n",
       "      <th>386203</th>\n",
       "      <td>4 - Normal</td>\n",
       "      <td>Remote repositories created with the repo name...</td>\n",
       "      <td>Artifactory Binary Repository</td>\n",
       "      <td>[]</td>\n",
       "      <td>Bug</td>\n",
       "      <td>JFrog</td>\n",
       "    </tr>\n",
       "    <tr>\n",
       "      <th>386204</th>\n",
       "      <td>4 - Normal</td>\n",
       "      <td>NaN</td>\n",
       "      <td>Artifactory Binary Repository</td>\n",
       "      <td>[]</td>\n",
       "      <td>Improvement</td>\n",
       "      <td>JFrog</td>\n",
       "    </tr>\n",
       "  </tbody>\n",
       "</table>\n",
       "<p>386205 rows × 6 columns</p>\n",
       "</div>"
      ],
      "text/plain": [
       "           priority                                        description  \\\n",
       "0               Low  some errors show up as shown in the screenshot...   \n",
       "1               Low  I have been using Sourcetree 3.4.4.  We use cu...   \n",
       "2               Low  After installing SourceTree for Windows 10 64b...   \n",
       "3               Low  On windows, Sourcetree.exe will start \"git.exe...   \n",
       "4               Low  Hello,\\r\\n\\r\\nSourceTree 3.4.7.\\r\\n\\r\\nOS: Win...   \n",
       "...             ...                                                ...   \n",
       "386200  1 - Blocker  I am attempting to to follow the guide found h...   \n",
       "386201   4 - Normal  In binarystore.xml, maxCacheSize is in bytes b...   \n",
       "386202   4 - Normal  {color:#000000}We are using an artifact(folder...   \n",
       "386203   4 - Normal  Remote repositories created with the repo name...   \n",
       "386204   4 - Normal                                                NaN   \n",
       "\n",
       "                              project labels    issuetype collection  \n",
       "0              Sourcetree for Windows     []          Bug       Jira  \n",
       "1              Sourcetree for Windows     []          Bug       Jira  \n",
       "2              Sourcetree for Windows     []          Bug       Jira  \n",
       "3              Sourcetree for Windows     []          Bug       Jira  \n",
       "4              Sourcetree for Windows     []          Bug       Jira  \n",
       "...                               ...    ...          ...        ...  \n",
       "386200  Artifactory Binary Repository     []          Bug      JFrog  \n",
       "386201  Artifactory Binary Repository     []          Bug      JFrog  \n",
       "386202  Artifactory Binary Repository     []  New Feature      JFrog  \n",
       "386203  Artifactory Binary Repository     []          Bug      JFrog  \n",
       "386204  Artifactory Binary Repository     []  Improvement      JFrog  \n",
       "\n",
       "[386205 rows x 6 columns]"
      ]
     },
     "execution_count": 2,
     "metadata": {},
     "output_type": "execute_result"
    }
   ],
   "source": [
    "file_name = \"test_sets_projects.csv\"\n",
    "df = pd.read_csv(file_name)\n",
    "df"
   ]
  },
  {
   "cell_type": "code",
   "execution_count": 3,
   "metadata": {},
   "outputs": [
    {
     "ename": "KeyError",
     "evalue": "'class'",
     "output_type": "error",
     "traceback": [
      "\u001b[0;31m---------------------------------------------------------------------------\u001b[0m",
      "\u001b[0;31mKeyError\u001b[0m                                  Traceback (most recent call last)",
      "File \u001b[0;32m~/.conda/envs/thesis/lib/python3.11/site-packages/pandas/core/indexes/base.py:3653\u001b[0m, in \u001b[0;36mIndex.get_loc\u001b[0;34m(self, key)\u001b[0m\n\u001b[1;32m   3652\u001b[0m \u001b[38;5;28;01mtry\u001b[39;00m:\n\u001b[0;32m-> 3653\u001b[0m     \u001b[38;5;28;01mreturn\u001b[39;00m \u001b[38;5;28;43mself\u001b[39;49m\u001b[38;5;241;43m.\u001b[39;49m\u001b[43m_engine\u001b[49m\u001b[38;5;241;43m.\u001b[39;49m\u001b[43mget_loc\u001b[49m\u001b[43m(\u001b[49m\u001b[43mcasted_key\u001b[49m\u001b[43m)\u001b[49m\n\u001b[1;32m   3654\u001b[0m \u001b[38;5;28;01mexcept\u001b[39;00m \u001b[38;5;167;01mKeyError\u001b[39;00m \u001b[38;5;28;01mas\u001b[39;00m err:\n",
      "File \u001b[0;32m~/.conda/envs/thesis/lib/python3.11/site-packages/pandas/_libs/index.pyx:147\u001b[0m, in \u001b[0;36mpandas._libs.index.IndexEngine.get_loc\u001b[0;34m()\u001b[0m\n",
      "File \u001b[0;32m~/.conda/envs/thesis/lib/python3.11/site-packages/pandas/_libs/index.pyx:176\u001b[0m, in \u001b[0;36mpandas._libs.index.IndexEngine.get_loc\u001b[0;34m()\u001b[0m\n",
      "File \u001b[0;32mpandas/_libs/hashtable_class_helper.pxi:7080\u001b[0m, in \u001b[0;36mpandas._libs.hashtable.PyObjectHashTable.get_item\u001b[0;34m()\u001b[0m\n",
      "File \u001b[0;32mpandas/_libs/hashtable_class_helper.pxi:7088\u001b[0m, in \u001b[0;36mpandas._libs.hashtable.PyObjectHashTable.get_item\u001b[0;34m()\u001b[0m\n",
      "\u001b[0;31mKeyError\u001b[0m: 'class'",
      "\nThe above exception was the direct cause of the following exception:\n",
      "\u001b[0;31mKeyError\u001b[0m                                  Traceback (most recent call last)",
      "Cell \u001b[0;32mIn[3], line 2\u001b[0m\n\u001b[1;32m      1\u001b[0m \u001b[38;5;66;03m# Count per priority\u001b[39;00m\n\u001b[0;32m----> 2\u001b[0m \u001b[43mdf\u001b[49m\u001b[43m[\u001b[49m\u001b[38;5;124;43m'\u001b[39;49m\u001b[38;5;124;43mclass\u001b[39;49m\u001b[38;5;124;43m'\u001b[39;49m\u001b[43m]\u001b[49m\u001b[38;5;241m.\u001b[39mvalue_counts()\n",
      "File \u001b[0;32m~/.conda/envs/thesis/lib/python3.11/site-packages/pandas/core/frame.py:3761\u001b[0m, in \u001b[0;36mDataFrame.__getitem__\u001b[0;34m(self, key)\u001b[0m\n\u001b[1;32m   3759\u001b[0m \u001b[38;5;28;01mif\u001b[39;00m \u001b[38;5;28mself\u001b[39m\u001b[38;5;241m.\u001b[39mcolumns\u001b[38;5;241m.\u001b[39mnlevels \u001b[38;5;241m>\u001b[39m \u001b[38;5;241m1\u001b[39m:\n\u001b[1;32m   3760\u001b[0m     \u001b[38;5;28;01mreturn\u001b[39;00m \u001b[38;5;28mself\u001b[39m\u001b[38;5;241m.\u001b[39m_getitem_multilevel(key)\n\u001b[0;32m-> 3761\u001b[0m indexer \u001b[38;5;241m=\u001b[39m \u001b[38;5;28;43mself\u001b[39;49m\u001b[38;5;241;43m.\u001b[39;49m\u001b[43mcolumns\u001b[49m\u001b[38;5;241;43m.\u001b[39;49m\u001b[43mget_loc\u001b[49m\u001b[43m(\u001b[49m\u001b[43mkey\u001b[49m\u001b[43m)\u001b[49m\n\u001b[1;32m   3762\u001b[0m \u001b[38;5;28;01mif\u001b[39;00m is_integer(indexer):\n\u001b[1;32m   3763\u001b[0m     indexer \u001b[38;5;241m=\u001b[39m [indexer]\n",
      "File \u001b[0;32m~/.conda/envs/thesis/lib/python3.11/site-packages/pandas/core/indexes/base.py:3655\u001b[0m, in \u001b[0;36mIndex.get_loc\u001b[0;34m(self, key)\u001b[0m\n\u001b[1;32m   3653\u001b[0m     \u001b[38;5;28;01mreturn\u001b[39;00m \u001b[38;5;28mself\u001b[39m\u001b[38;5;241m.\u001b[39m_engine\u001b[38;5;241m.\u001b[39mget_loc(casted_key)\n\u001b[1;32m   3654\u001b[0m \u001b[38;5;28;01mexcept\u001b[39;00m \u001b[38;5;167;01mKeyError\u001b[39;00m \u001b[38;5;28;01mas\u001b[39;00m err:\n\u001b[0;32m-> 3655\u001b[0m     \u001b[38;5;28;01mraise\u001b[39;00m \u001b[38;5;167;01mKeyError\u001b[39;00m(key) \u001b[38;5;28;01mfrom\u001b[39;00m \u001b[38;5;21;01merr\u001b[39;00m\n\u001b[1;32m   3656\u001b[0m \u001b[38;5;28;01mexcept\u001b[39;00m \u001b[38;5;167;01mTypeError\u001b[39;00m:\n\u001b[1;32m   3657\u001b[0m     \u001b[38;5;66;03m# If we have a listlike key, _check_indexing_error will raise\u001b[39;00m\n\u001b[1;32m   3658\u001b[0m     \u001b[38;5;66;03m#  InvalidIndexError. Otherwise we fall through and re-raise\u001b[39;00m\n\u001b[1;32m   3659\u001b[0m     \u001b[38;5;66;03m#  the TypeError.\u001b[39;00m\n\u001b[1;32m   3660\u001b[0m     \u001b[38;5;28mself\u001b[39m\u001b[38;5;241m.\u001b[39m_check_indexing_error(key)\n",
      "\u001b[0;31mKeyError\u001b[0m: 'class'"
     ]
    }
   ],
   "source": [
    "# Count per priority\n",
    "df['class'].value_counts()"
   ]
  },
  {
   "cell_type": "code",
   "execution_count": null,
   "metadata": {},
   "outputs": [],
   "source": [
    "df['issuetype'].value_counts().to_frame()[:50]"
   ]
  },
  {
   "cell_type": "code",
   "execution_count": null,
   "metadata": {},
   "outputs": [],
   "source": [
    "# Unique projects\n",
    "df['project'].nunique()\n"
   ]
  },
  {
   "cell_type": "code",
   "execution_count": null,
   "metadata": {},
   "outputs": [],
   "source": [
    "# Unique collections\n",
    "df['collection'].nunique()"
   ]
  },
  {
   "cell_type": "code",
   "execution_count": null,
   "metadata": {},
   "outputs": [],
   "source": [
    "# Count per collection\n",
    "df['collection'].value_counts().to_frame()"
   ]
  },
  {
   "cell_type": "code",
   "execution_count": null,
   "metadata": {},
   "outputs": [],
   "source": [
    "# Drop duplicates by the content of the description\n",
    "df = df.drop_duplicates(subset=['description'], keep='last')\n",
    "df.dropna(inplace=True)\n",
    "df.reset_index(inplace=True)\n",
    "df.drop(columns=[\"index\"] , inplace= True)\n",
    "df[\"class\"].value_counts()"
   ]
  },
  {
   "cell_type": "code",
   "execution_count": null,
   "metadata": {},
   "outputs": [],
   "source": [
    "print(df[\"description\"][0])"
   ]
  },
  {
   "cell_type": "code",
   "execution_count": null,
   "metadata": {},
   "outputs": [],
   "source": [
    "# Convert to string\n",
    "df[\"text_str\"] = df['description'].astype(str)"
   ]
  },
  {
   "cell_type": "code",
   "execution_count": null,
   "metadata": {},
   "outputs": [],
   "source": [
    "# Clean the data.\n",
    "df[\"text_clean\"] = df[\"text_str\"].map(preprocess_text)"
   ]
  },
  {
   "cell_type": "code",
   "execution_count": null,
   "metadata": {},
   "outputs": [],
   "source": [
    "# save df to csv\n",
    "df.to_csv(\"jira_clean_with_all_cols.csv\", index=False)"
   ]
  },
  {
   "cell_type": "code",
   "execution_count": null,
   "metadata": {},
   "outputs": [],
   "source": [
    "# Extract only cols need\n",
    "df = df[[\"class\", \"text_clean\"]]"
   ]
  },
  {
   "cell_type": "code",
   "execution_count": null,
   "metadata": {},
   "outputs": [],
   "source": [
    "# Row with NaN\n",
    "df[df.isna().any(axis=1)]"
   ]
  },
  {
   "cell_type": "code",
   "execution_count": null,
   "metadata": {},
   "outputs": [],
   "source": [
    "# Need to dropna here since cleaning function returns NaN for not english text.\n",
    "df.dropna(inplace=True)\n",
    "df.reset_index(drop=True,inplace=True)\n",
    "\n",
    "df"
   ]
  },
  {
   "cell_type": "code",
   "execution_count": null,
   "metadata": {},
   "outputs": [],
   "source": [
    "# Rows with NaN\n",
    "df[df.isna().any(axis=1)]"
   ]
  },
  {
   "cell_type": "code",
   "execution_count": null,
   "metadata": {},
   "outputs": [],
   "source": [
    "null_rows = df[df['text_clean'].isnull()]\n",
    "null_rows"
   ]
  },
  {
   "cell_type": "code",
   "execution_count": null,
   "metadata": {},
   "outputs": [],
   "source": [
    "# Clean dataset with clean text and class.\n",
    "name = f\"jira_clean.csv\"\n",
    "df.to_csv(name, index=False)"
   ]
  },
  {
   "cell_type": "code",
   "execution_count": null,
   "metadata": {},
   "outputs": [],
   "source": [
    "import os\n",
    "priority_levels = ['Highest', 'High', 'Medium', 'Low', 'Lowest']\n",
    "\n",
    "for level in priority_levels:\n",
    "    try:\n",
    "        # Make dir with level\n",
    "        os.makedirs(f'{level}', exist_ok=True)\n",
    "        # df with level class\n",
    "        df_level = df[df['class'] == level]\n",
    "        # Save to csv\n",
    "        df_level.to_csv(f'{level}/clean_{level}.csv', index=False)\n",
    "        print(f\"Saved {level}.csv\")\n",
    "    except Exception as e:\n",
    "        print(f\"An error occurred for level {level}: {str(e)}\")"
   ]
  },
  {
   "cell_type": "code",
   "execution_count": null,
   "metadata": {},
   "outputs": [],
   "source": [
    "# Read csv to check if file is saved correctly\n",
    "for level in priority_levels:\n",
    "    try:\n",
    "        df = pd.read_csv(f'{level}/clean_{level}.csv')\n",
    "        print(f\"Read {level}.csv\")\n",
    "    except Exception as e:\n",
    "        print(f\"An error occurred while reading {level}.csv: {str(e)}\")"
   ]
  },
  {
   "cell_type": "code",
   "execution_count": null,
   "metadata": {},
   "outputs": [],
   "source": [
    "pri = pd.read_csv(name)\n",
    "pri"
   ]
  },
  {
   "cell_type": "code",
   "execution_count": null,
   "metadata": {},
   "outputs": [],
   "source": [
    "null_rows = pri[pri['text_clean'].isnull()]\n",
    "null_rows"
   ]
  },
  {
   "cell_type": "code",
   "execution_count": null,
   "metadata": {},
   "outputs": [],
   "source": [
    "# Remove rows with NaN\n",
    "pri = pri.dropna()\n",
    "# Reset index\n",
    "pri.reset_index(drop=True, inplace=True)\n",
    "pri"
   ]
  }
 ],
 "metadata": {
  "kernelspec": {
   "display_name": "Python 3 (ipykernel)",
   "language": "python",
   "name": "python3"
  },
  "language_info": {
   "codemirror_mode": {
    "name": "ipython",
    "version": 3
   },
   "file_extension": ".py",
   "mimetype": "text/x-python",
   "name": "python",
   "nbconvert_exporter": "python",
   "pygments_lexer": "ipython3",
   "version": "3.11.5"
  },
  "vscode": {
   "interpreter": {
    "hash": "9c8c1d29baca421c992713322bc02d129892a44846f1f6fab21a46344afe0421"
   }
  }
 },
 "nbformat": 4,
 "nbformat_minor": 4
}
