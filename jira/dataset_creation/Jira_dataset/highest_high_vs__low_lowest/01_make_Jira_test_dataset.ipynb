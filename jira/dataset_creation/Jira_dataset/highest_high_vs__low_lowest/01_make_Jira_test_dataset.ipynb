{
 "cells": [
  {
   "cell_type": "markdown",
   "metadata": {},
   "source": [
    "# Create dataset: Highest vs rest (high, medium, low, lowest)\n",
    "* Under sampling the majority class.\n",
    "* 50/50 balance per class. "
   ]
  },
  {
   "cell_type": "code",
   "execution_count": null,
   "metadata": {},
   "outputs": [],
   "source": [
    "import pandas as pd\n",
    "# Import csv file\n",
    "file_name = \"clean_Jira\"\n",
    "df = pd.read_csv(f'../csv/{file_name}.csv')\n",
    "df"
   ]
  },
  {
   "cell_type": "code",
   "execution_count": null,
   "metadata": {},
   "outputs": [],
   "source": [
    "# Count class\n",
    "df['priority'].value_counts().to_frame()"
   ]
  },
  {
   "cell_type": "code",
   "execution_count": null,
   "metadata": {},
   "outputs": [],
   "source": [
    "# NaN values\n",
    "df.isnull().sum()"
   ]
  },
  {
   "cell_type": "code",
   "execution_count": null,
   "metadata": {},
   "outputs": [],
   "source": [
    "# Drop NaN values\n",
    "df = df.dropna()\n",
    "df.isnull().sum()"
   ]
  },
  {
   "cell_type": "code",
   "execution_count": null,
   "metadata": {},
   "outputs": [],
   "source": [
    "# Count class\n",
    "df['priority'].value_counts().to_frame()"
   ]
  },
  {
   "cell_type": "code",
   "execution_count": null,
   "metadata": {},
   "outputs": [],
   "source": [
    "# Unique collections\n",
    "df['collection'].unique()"
   ]
  },
  {
   "cell_type": "code",
   "execution_count": null,
   "metadata": {},
   "outputs": [],
   "source": [
    "# Unique projects\n",
    "df['project'].unique().tolist()"
   ]
  },
  {
   "cell_type": "code",
   "execution_count": null,
   "metadata": {},
   "outputs": [],
   "source": [
    "# Number of unique projects \n",
    "len(df['project'].unique())\n"
   ]
  },
  {
   "cell_type": "code",
   "execution_count": null,
   "metadata": {},
   "outputs": [],
   "source": [
    "priority_mapping = {\n",
    "    # Highest priority\n",
    "    'Highest': 'Highest',\n",
    "    'High': 'High',\n",
    "    'Medium': 'Medium',\n",
    "    'Low': 'Low',\n",
    "\n",
    "}\n",
    "# Apply mapping\n",
    "df['class'] = df['priority'].map(priority_mapping)"
   ]
  },
  {
   "cell_type": "code",
   "execution_count": null,
   "metadata": {},
   "outputs": [],
   "source": [
    "# Find the priorities that are not mapped to 'Highest' by checking for nulls in 'class'\n",
    "unmapped_priorities = df[df['class'].isnull()]['priority'].unique()\n",
    "\n",
    "if len(unmapped_priorities)  == 0:\n",
    "    print(\"All priorities are mapped to a new class\")\n",
    "else:\n",
    "    print(\"Priorities not mapped to a new class:\")\n",
    "    for priority in unmapped_priorities:\n",
    "        print(f\"- {priority}\")"
   ]
  },
  {
   "cell_type": "code",
   "execution_count": null,
   "metadata": {},
   "outputs": [],
   "source": [
    "# Count class\n",
    "df['class'].value_counts().to_frame()"
   ]
  },
  {
   "cell_type": "code",
   "execution_count": null,
   "metadata": {},
   "outputs": [],
   "source": [
    "highest = df[df['class'] == 'Highest']\n",
    "highest[\"label\"] = 1\n",
    "highest[\"class_original\"] = \"Highest\"\n",
    "highest[\"class\"] = \"highest\"\n",
    "high = df[df['class'] == 'High']\n",
    "medium = df[df['class'] == 'Medium']\n",
    "low = df[df['class'] == 'Low']"
   ]
  },
  {
   "cell_type": "code",
   "execution_count": null,
   "metadata": {},
   "outputs": [],
   "source": [
    "# Concat all class except highest\n",
    "rest = pd.concat([high, medium, low])\n",
    "# Rename class to class_1\n",
    "rest = rest.rename(columns={'class': 'class_original'})\n",
    "rest[\"class\"] = \"rest\" \n",
    "rest[\"label\"] = 0\n",
    "rest "
   ]
  },
  {
   "cell_type": "code",
   "execution_count": null,
   "metadata": {},
   "outputs": [],
   "source": [
    "# Value count rest class\n",
    "rest['class'].value_counts().to_frame()"
   ]
  },
  {
   "cell_type": "code",
   "execution_count": null,
   "metadata": {},
   "outputs": [],
   "source": [
    "from sklearn.utils import shuffle\n",
    "# Number of rows in the highest class\n",
    "n_highest = highest.shape[0]\n",
    "\n",
    "rest_sampled = rest.sample(n=n_highest, random_state=42)  \n",
    "\n",
    "\n",
    "balanced_data = pd.concat([highest, rest_sampled])\n",
    "\n",
    "# Shuffle the combined dataset\n",
    "balanced_data = shuffle(balanced_data, random_state=42)\n",
    "balanced_data\n"
   ]
  },
  {
   "cell_type": "code",
   "execution_count": null,
   "metadata": {},
   "outputs": [],
   "source": [
    "balanced_data['class'].value_counts().to_frame()"
   ]
  },
  {
   "cell_type": "code",
   "execution_count": null,
   "metadata": {},
   "outputs": [],
   "source": [
    "balanced_data"
   ]
  },
  {
   "cell_type": "code",
   "execution_count": null,
   "metadata": {},
   "outputs": [],
   "source": [
    "# Count label\n",
    "balanced_data['label'].value_counts().to_frame()"
   ]
  },
  {
   "cell_type": "code",
   "execution_count": null,
   "metadata": {},
   "outputs": [],
   "source": [
    "# Count original class\n",
    "balanced_data['class_original'].value_counts().to_frame()"
   ]
  },
  {
   "cell_type": "code",
   "execution_count": null,
   "metadata": {},
   "outputs": [],
   "source": [
    "# New df with only text clean and label\n",
    "balanced_data = balanced_data[['text_clean', 'label']]\n",
    "balanced_data"
   ]
  },
  {
   "cell_type": "code",
   "execution_count": null,
   "metadata": {},
   "outputs": [],
   "source": [
    "# Save to csv\n",
    "full_file_name = f'../csv/{file_name}_balanced.csv'\n",
    "balanced_data.to_csv(full_file_name, index=False)"
   ]
  },
  {
   "cell_type": "code",
   "execution_count": null,
   "metadata": {},
   "outputs": [],
   "source": [
    "# Read csv\n",
    "df = pd.read_csv(full_file_name)\n",
    "df"
   ]
  }
 ],
 "metadata": {
  "kernelspec": {
   "display_name": "Python 3 (ipykernel)",
   "language": "python",
   "name": "python3"
  },
  "language_info": {
   "codemirror_mode": {
    "name": "ipython",
    "version": 3
   },
   "file_extension": ".py",
   "mimetype": "text/x-python",
   "name": "python",
   "nbconvert_exporter": "python",
   "pygments_lexer": "ipython3",
   "version": "3.11.3"
  }
 },
 "nbformat": 4,
 "nbformat_minor": 4
}
