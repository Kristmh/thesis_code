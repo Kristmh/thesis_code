{
 "cells": [
  {
   "cell_type": "code",
   "execution_count": null,
   "metadata": {},
   "outputs": [],
   "source": [
    "import pymongo"
   ]
  },
  {
   "cell_type": "markdown",
   "metadata": {},
   "source": [
    "For more details refer to \n",
    " https://zenodo.org/record/5901956"
   ]
  },
  {
   "cell_type": "markdown",
   "metadata": {},
   "source": [
    "Command used to export the data (this command takes about 15 minutes to complete).\n",
    "\n",
    "`mongodump --db=JiraRepos --gzip --archive=mongodump-JiraRepos.archive`\n",
    "\n",
    "Accompanying command to restore the data (this command takes about 15 minutes to complete). Expanded, this data is ~60GB inside MongoDB.\n",
    "\n",
    "`mongorestore --gzip --archive=mongodump-JiraRepos.archive --nsFrom \"JiraRepos.*\" --nsTo \"JiraRepos.*\"`\n",
    "\n",
    "Change the `--nsTo` command to contain the desired name for the JiraRepos database.\n",
    "mongorestore --gzip --archive=mongodump-JiraRepos.archive --nsFrom \"JiraRepos.*\" --nsTo \"JiraRepos.Apache\"\n",
    "\n",
    "\n",
    "For more information see: https://docs.mongodb.com/manual/tutorial/backup-and-restore-tools/"
   ]
  },
  {
   "cell_type": "markdown",
   "metadata": {},
   "source": [
    "Jira Dataset for TD filtered was extracted from https://zenodo.org/record/5901956  (https://arxiv.org/pdf/2201.08368.pdf) and adapted \n",
    "\n",
    "Montgomery, Lloyd, Lüders, Clara, & Maalej, Prof. Dr. Walid. (2022). The Public Jira Dataset [Data set]. Zenodo. https://doi.org/10.5281/zenodo.5901956\n",
    "\n"
   ]
  },
  {
   "cell_type": "code",
   "execution_count": null,
   "metadata": {},
   "outputs": [],
   "source": [
    "myclient = pymongo.MongoClient(\"mongodb://localhost:27017/\")\n"
   ]
  },
  {
   "cell_type": "code",
   "execution_count": null,
   "metadata": {},
   "outputs": [],
   "source": [
    "mydb = myclient[\"JiraRepos\"]\n",
    "mydb\n"
   ]
  },
  {
   "cell_type": "code",
   "execution_count": null,
   "metadata": {},
   "outputs": [],
   "source": [
    "myapache = mydb[\"Apache\"]\n",
    "myjiraecosystem = mydb[\"JiraEcosystem\"]\n",
    "mySonatype = mydb[\"Sonatype\"]\n",
    "mymongo = mydb[\"MongoDB\"]\n"
   ]
  },
  {
   "cell_type": "code",
   "execution_count": null,
   "metadata": {},
   "outputs": [],
   "source": [
    "collist = mydb.list_collection_names()\n",
    "collist\n"
   ]
  },
  {
   "cell_type": "code",
   "execution_count": null,
   "metadata": {},
   "outputs": [],
   "source": [
    "import pandas as pd"
   ]
  },
  {
   "cell_type": "code",
   "execution_count": null,
   "metadata": {},
   "outputs": [],
   "source": [
    "import pymongo as pm\n",
    "\n",
    "CHUNK_SIZE = 500\n",
    "client = pm.MongoClient()\n",
    "coll = client.get_database('JiraRepos').get_collection('RedHat')\n",
    "cursor = coll.find({}, batch_size=CHUNK_SIZE)\n",
    "\n",
    "\n",
    "def yield_rows(cursor, chunk_size):\n",
    "    \"\"\"\n",
    "    Generator to yield chunks from cursor\n",
    "    :param cursor:\n",
    "    :param chunk_size:\n",
    "    :return:\n",
    "    \"\"\"\n",
    "    chunk = []\n",
    "    for i, row in enumerate(cursor):\n",
    "        if i % chunk_size == 0 and i > 0:\n",
    "            yield chunk\n",
    "            del chunk[:]\n",
    "        chunk.append(row)\n",
    "    yield chunk\n",
    "\n",
    "\n",
    "chunks = yield_rows(cursor, CHUNK_SIZE)\n",
    "for chunk in chunks:\n",
    "    df = pd.json_normalize(\n",
    "        chunk, errors='ignore')\n",
    "\n",
    "    df = df[[\"id\", \"fields.project.name\", \"fields.priority.name\", \"fields.created\", \"fields.labels\", \"fields.summary\", \"fields.description\", \"fields.status.name\",\n",
    "             \"fields.status.description\", \"fields.issuetype.name\", \"fields.issuetype.description\", \"fields.issuetype.subtask\", \"fields.comments\"]]\n",
    "\n",
    "    df.to_csv(f\"RedHat-{df.id[0]}.csv\")\n",
    "\n",
    "    \n",
    "\n",
    "   "
   ]
  },
  {
   "cell_type": "code",
   "execution_count": null,
   "metadata": {},
   "outputs": [],
   "source": [
    "import dask.dataframe as dd\n"
   ]
  },
  {
   "cell_type": "code",
   "execution_count": null,
   "metadata": {},
   "outputs": [],
   "source": [
    "data_Sonatype = dd.read_csv(\"redhat/RedHat-*.csv\")\n"
   ]
  },
  {
   "cell_type": "code",
   "execution_count": null,
   "metadata": {},
   "outputs": [],
   "source": [
    "data_Sonatype = data_Sonatype.compute()\n"
   ]
  },
  {
   "cell_type": "code",
   "execution_count": null,
   "metadata": {},
   "outputs": [],
   "source": [
    "data_Sonatype\n"
   ]
  },
  {
   "cell_type": "code",
   "execution_count": null,
   "metadata": {},
   "outputs": [],
   "source": [
    "data_Sonatype1 = data_Sonatype.drop(columns=\"Unnamed: 0\")\n"
   ]
  },
  {
   "cell_type": "code",
   "execution_count": null,
   "metadata": {},
   "outputs": [],
   "source": [
    "data_Sonatype1\n"
   ]
  },
  {
   "cell_type": "code",
   "execution_count": null,
   "metadata": {},
   "outputs": [],
   "source": [
    "data_Sonatype1[\"fields.issuetype.name\"].value_counts()\n"
   ]
  },
  {
   "cell_type": "code",
   "execution_count": null,
   "metadata": {},
   "outputs": [],
   "source": [
    "data_Sonatype1.reset_index(drop=True, inplace=True)\n"
   ]
  },
  {
   "cell_type": "code",
   "execution_count": null,
   "metadata": {},
   "outputs": [],
   "source": [
    "data_Sonatype1"
   ]
  },
  {
   "cell_type": "code",
   "execution_count": null,
   "metadata": {},
   "outputs": [],
   "source": [
    "data_Sonatype1.to_hdf('jira_all.h5', key=\"sonatype\")\n"
   ]
  },
  {
   "cell_type": "code",
   "execution_count": null,
   "metadata": {},
   "outputs": [],
   "source": [
    "df = pd.read_hdf('jira_all.h5', key=\"apache\")\n",
    "df1 = pd.read_hdf('jira_all.h5', key=\"mongodb\")\n",
    "df2 = pd.read_hdf('jira_all.h5', key=\"sonatype\")\n",
    "df3 = pd.read_hdf('jira_all.h5', key=\"jiraecosystem\")\n"
   ]
  }
 ],
 "metadata": {
  "kernelspec": {
   "display_name": "Python 3.8.12 ('test')",
   "language": "python",
   "name": "python3"
  },
  "language_info": {
   "codemirror_mode": {
    "name": "ipython",
    "version": 3
   },
   "file_extension": ".py",
   "mimetype": "text/x-python",
   "name": "python",
   "nbconvert_exporter": "python",
   "pygments_lexer": "ipython3",
   "version": "3.11.5"
  },
  "orig_nbformat": 4,
  "vscode": {
   "interpreter": {
    "hash": "a64f21293159cd9c4e596ef7fd6c17a9c99d13712885c299cb3370e7a4d97830"
   }
  }
 },
 "nbformat": 4,
 "nbformat_minor": 2
}
