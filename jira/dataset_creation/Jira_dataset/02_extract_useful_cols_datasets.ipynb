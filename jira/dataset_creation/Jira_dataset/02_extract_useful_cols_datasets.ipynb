{
 "cells": [
  {
   "cell_type": "code",
   "execution_count": 1,
   "metadata": {},
   "outputs": [
    {
     "data": {
      "text/plain": [
       "['Spring',\n",
       " 'RedHat',\n",
       " 'Sakai',\n",
       " 'JiraEcosystem',\n",
       " 'Jira',\n",
       " 'Hyperledger',\n",
       " 'Apache',\n",
       " 'SecondLife',\n",
       " 'MariaDB',\n",
       " 'MongoDB',\n",
       " 'Mojang',\n",
       " 'Qt',\n",
       " 'JFrog',\n",
       " 'IntelDAOS',\n",
       " 'Mindville',\n",
       " 'Sonatype']"
      ]
     },
     "execution_count": 1,
     "metadata": {},
     "output_type": "execute_result"
    }
   ],
   "source": [
    "import pymongo\n",
    "# Default connection to localhost\n",
    "myclient = pymongo.MongoClient(\"mongodb://localhost:27017/\")\n",
    "\n",
    "\n",
    "mydb = myclient[\"JiraRepos\"]\n",
    "collist = mydb.list_collection_names()\n",
    "collist"
   ]
  },
  {
   "cell_type": "code",
   "execution_count": 2,
   "metadata": {},
   "outputs": [
    {
     "name": "stdout",
     "output_type": "stream",
     "text": [
      "Created Spring.csv\n",
      "Created RedHat.csv\n",
      "Created Sakai.csv\n",
      "Created JiraEcosystem.csv\n",
      "Created Jira.csv\n",
      "Created Hyperledger.csv\n",
      "Created Apache.csv\n",
      "Created SecondLife.csv\n",
      "Error  [Errno 2] No such file or directory: 'final_dataset/MariaDB.csv' in MariaDB\n",
      "Created MongoDB.csv\n"
     ]
    },
    {
     "name": "stderr",
     "output_type": "stream",
     "text": [
      "/tmp/ipykernel_377332/3414031980.py:7: DtypeWarning: Columns (2) have mixed types. Specify dtype option on import or set low_memory=False.\n",
      "  df = pd.read_csv(f'final_dataset/{collection}.csv')\n"
     ]
    },
    {
     "name": "stdout",
     "output_type": "stream",
     "text": [
      "Created Mojang.csv\n",
      "Created Qt.csv\n",
      "Created JFrog.csv\n",
      "Created IntelDAOS.csv\n",
      "Created Mindville.csv\n",
      "Created Sonatype.csv\n"
     ]
    }
   ],
   "source": [
    "import pandas as pd\n",
    "import os\n",
    "# Create dir if not exists\n",
    "os.makedirs('only_useful_cols', exist_ok=True)\n",
    "for collection in collist:\n",
    "    try:\n",
    "        df = pd.read_csv(f'final_dataset/{collection}.csv')\n",
    "        df = df[[\"fields.priority.name\", \"fields.description\", \"fields.project.name\", \"fields.labels\", \"fields.issuetype.name\"]]\n",
    "        df.to_csv(f'only_useful_cols/{collection}.csv', index=False)\n",
    "        print(f'Created {collection}.csv')\n",
    "    except Exception as e:\n",
    "        print(f'Error  {e} in {collection}')\n",
    "        continue\n",
    "    "
   ]
  }
 ],
 "metadata": {
  "kernelspec": {
   "display_name": "thesis",
   "language": "python",
   "name": "python3"
  },
  "language_info": {
   "codemirror_mode": {
    "name": "ipython",
    "version": 3
   },
   "file_extension": ".py",
   "mimetype": "text/x-python",
   "name": "python",
   "nbconvert_exporter": "python",
   "pygments_lexer": "ipython3",
   "version": "3.11.5"
  }
 },
 "nbformat": 4,
 "nbformat_minor": 2
}
