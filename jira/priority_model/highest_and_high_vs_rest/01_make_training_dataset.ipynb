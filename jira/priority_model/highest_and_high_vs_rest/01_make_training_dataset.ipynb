{
 "cells": [
  {
   "cell_type": "code",
   "execution_count": null,
   "metadata": {},
   "outputs": [],
   "source": [
    "import pandas as pd\n",
    "# Import csv file\n",
    "df = pd.read_csv('all_priority_group_in_classes_clean.csv')\n",
    "df"
   ]
  },
  {
   "cell_type": "code",
   "execution_count": null,
   "metadata": {},
   "outputs": [],
   "source": [
    "# Count class\n",
    "df['class'].value_counts().to_frame()"
   ]
  },
  {
   "cell_type": "code",
   "execution_count": null,
   "metadata": {},
   "outputs": [],
   "source": [
    "# Make df with column collection is MongoDB\n",
    "df_mongo = df[df['collection'] == 'MongoDB']\n",
    "# To csv\n",
    "df_mongo.to_csv('mongoDB_testset_highest_high.csv', index=False)\n",
    "# Count class\n",
    "df_mongo['class'].value_counts().to_frame()\n",
    "\n"
   ]
  },
  {
   "cell_type": "code",
   "execution_count": null,
   "metadata": {},
   "outputs": [],
   "source": [
    "# Remove mongodb from df\n",
    "df = df[df['collection'] != 'MongoDB']\n",
    "df"
   ]
  },
  {
   "cell_type": "code",
   "execution_count": null,
   "metadata": {},
   "outputs": [],
   "source": [
    "df_mongoo = df[df['collection'] == 'MongoDB']\n",
    "df_mongoo"
   ]
  },
  {
   "cell_type": "code",
   "execution_count": null,
   "metadata": {},
   "outputs": [],
   "source": [
    "highestt = df[df['class'] == 'Highest']\n",
    "\n",
    "high = df[df['class'] == 'High']\n",
    "medium = df[df['class'] == 'Medium']\n",
    "low = df[df['class'] == 'Low']\n",
    "lowest = df[df['class'] == 'Lowest']"
   ]
  },
  {
   "cell_type": "code",
   "execution_count": null,
   "metadata": {},
   "outputs": [],
   "source": [
    "# Concat highest and high\n",
    "highest = pd.concat([highestt, high])\n",
    "highest[\"label\"] = 1"
   ]
  },
  {
   "cell_type": "code",
   "execution_count": null,
   "metadata": {},
   "outputs": [],
   "source": [
    "# Concat all class except highest\n",
    "rest = pd.concat([medium, low, lowest])\n",
    "rest[\"label\"] = 0\n",
    "rest "
   ]
  },
  {
   "cell_type": "code",
   "execution_count": null,
   "metadata": {},
   "outputs": [],
   "source": [
    "# Value count rest class\n",
    "rest['class'].value_counts().to_frame()"
   ]
  },
  {
   "cell_type": "code",
   "execution_count": null,
   "metadata": {},
   "outputs": [],
   "source": [
    "from sklearn.utils import shuffle\n",
    "# Number of rows in the highest class\n",
    "n_highest = highest.shape[0]\n",
    "\n",
    "rest_sampled = rest.sample(n=n_highest, random_state=42)  \n",
    "\n",
    "\n",
    "balanced_data = pd.concat([highest, rest_sampled])\n",
    "\n",
    "# Shuffle the combined dataset\n",
    "balanced_data = shuffle(balanced_data, random_state=42)\n",
    "\n"
   ]
  },
  {
   "cell_type": "code",
   "execution_count": null,
   "metadata": {},
   "outputs": [],
   "source": [
    "# class count\n",
    "balanced_data['class'].value_counts().to_frame()"
   ]
  },
  {
   "cell_type": "code",
   "execution_count": null,
   "metadata": {},
   "outputs": [],
   "source": [
    "balanced_data"
   ]
  },
  {
   "cell_type": "code",
   "execution_count": null,
   "metadata": {},
   "outputs": [],
   "source": [
    "# Count label\n",
    "balanced_data['label'].value_counts().to_frame()"
   ]
  },
  {
   "cell_type": "code",
   "execution_count": null,
   "metadata": {},
   "outputs": [],
   "source": [
    "# Unique project\n",
    "balanced_data['project'].nunique()"
   ]
  },
  {
   "cell_type": "code",
   "execution_count": null,
   "metadata": {},
   "outputs": [],
   "source": [
    "# Unique collection\n",
    "balanced_data['collection'].nunique()"
   ]
  },
  {
   "cell_type": "code",
   "execution_count": null,
   "metadata": {},
   "outputs": [],
   "source": [
    "# make a df with only text_clean and label\n",
    "balanced_data = balanced_data[['text_clean', 'label']]\n",
    "balanced_data"
   ]
  },
  {
   "cell_type": "code",
   "execution_count": null,
   "metadata": {},
   "outputs": [],
   "source": [
    "# To csv\n",
    "balanced_data.to_csv('clean_highest_high_vs_rest_5_levels.csv', index=False)"
   ]
  },
  {
   "cell_type": "code",
   "execution_count": null,
   "metadata": {},
   "outputs": [],
   "source": [
    "# Read csv to check the file\n",
    "df = pd.read_csv('clean_highest_high_vs_rest_5_levels.csv')\n",
    "df"
   ]
  }
 ],
 "metadata": {
  "kernelspec": {
   "display_name": "thesis",
   "language": "python",
   "name": "python3"
  },
  "language_info": {
   "codemirror_mode": {
    "name": "ipython",
    "version": 3
   },
   "file_extension": ".py",
   "mimetype": "text/x-python",
   "name": "python",
   "nbconvert_exporter": "python",
   "pygments_lexer": "ipython3",
   "version": "3.11.5"
  }
 },
 "nbformat": 4,
 "nbformat_minor": 2
}
