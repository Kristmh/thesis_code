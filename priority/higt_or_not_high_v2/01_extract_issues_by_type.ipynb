{
 "cells": [
  {
   "cell_type": "code",
   "execution_count": 7,
   "metadata": {},
   "outputs": [],
   "source": [
    "import pandas as pd\n",
    "import re\n",
    "import os"
   ]
  },
  {
   "cell_type": "code",
   "execution_count": 8,
   "metadata": {},
   "outputs": [
    {
     "name": "stdout",
     "output_type": "stream",
     "text": [
      "['issues_all_2021-06-12.csv', 'issues_all_2021-05-05.csv', 'issues_all_2021-04-30.csv', 'issues_all_2021-06-24.csv', 'issues_all_2021-06-06.csv', 'issues_all_2021-01-09.csv', 'issues_all_2021-08-12.csv', 'issues_all_2021-03-21.csv', 'issues_all_2021-05-16.csv', 'issues_all_2021-08-08.csv', 'issues_all_2021-05-03.csv', 'issues_all_2021-05-14.csv', 'issues_all_2021-07-19.csv', 'issues_all_2021-04-21.csv', 'issues_all_2021-05-02.csv', 'issues_all_2021-08-07.csv', 'issues_all_2021-06-05.csv', 'issues_all_2021-07-14.csv', 'issues_all_2021-07-07.csv', 'issues_all_2021-03-04.csv', 'issues_all_2021-02-26.csv', 'issues_all_2021-04-12.csv', 'issues_all_2021-06-26.csv', 'issues_all_2021-08-01.csv', 'issues_all_2021-03-14.csv', 'issues_all_2021-06-04.csv', 'issues_all_2021-01-13.csv', 'issues_all_2021-04-18.csv', 'issues_all_2021-05-08.csv', 'issues_all_2021-06-20.csv', 'issues_all_2021-08-09.csv', 'issues_all_2021-06-19.csv', 'issues_all_2021-04-16.csv', 'issues_all_2021-07-27.csv', 'issues_all_2021-05-30.csv', 'issues_all_2021-06-18.csv', 'issues_all_2021-02-18.csv', 'issues_all_2021-06-28.csv', 'issues_all_2021-03-22.csv', 'issues_all_2021-02-10.csv', 'issues_all_2021-03-30.csv', 'issues_all_2021-06-16.csv', 'issues_all_2021-02-28.csv', 'issues_all_2021-03-28.csv', 'issues_all_2021-01-11.csv', 'issues_all_2021-04-28.csv', 'issues_all_2021-07-17.csv', 'issues_all_2021-01-14.csv', 'issues_all_2021-02-06.csv', 'issues_all_2021-05-29.csv', 'issues_all_2021-01-16.csv', 'issues_all_2021-07-20.csv', 'issues_all_2021-01-30.csv', 'issues_all_2021-07-06.csv', 'issues_all_2021-06-23.csv', 'issues_all_2021-07-26.csv', 'issues_all_2021-04-25.csv', 'issues_all_2021-03-15.csv', 'issues_all_2021-07-25.csv', 'issues_all_2021-03-27.csv', 'issues_all_2021-02-04.csv', 'issues_all_2021-07-28.csv', 'issues_all_2021-06-21.csv', 'issues_all_2021-06-27.csv', 'issues_all_2021-06-22.csv', 'issues_all_2021-02-14.csv', 'issues_all_2021-02-21.csv', 'issues_all_2021-02-22.csv', 'issues_all_2021-02-16.csv', 'issues_all_2021-01-15.csv', 'issues_all_2021-01-10.csv', 'issues_all_2021-01-05.csv', 'issues_all_2021-07-23.csv', 'issues_all_2021-05-18.csv', 'issues_all_2021-05-19.csv', 'issues_all_2021-08-11.csv', 'issues_all_2021-04-04.csv', 'issues_all_2021-02-13.csv', 'issues_all_2021-07-12.csv', 'issues_all_2021-06-08.csv', 'issues_all_2021-02-09.csv', 'issues_all_2021-01-19.csv', 'issues_all_2021-01-31.csv', 'issues_all_2021-03-20.csv', 'issues_all_2021-04-03.csv', 'issues_all_2021-06-15.csv', 'issues_all_2021-07-01.csv', 'issues_all_2021-01-06.csv', 'issues_all_2021-04-24.csv', 'issues_all_2021-04-07.csv', 'issues_all_2021-03-08.csv', 'issues_all_2021-06-25.csv', 'issues_all_2021-07-05.csv', 'issues_all_2021-07-18.csv', 'issues_all_2021-07-31.csv', 'issues_all_2021-08-03.csv', 'issues_all_2021-07-24.csv', 'issues_all_2021-04-13.csv', 'issues_all_2021-05-23.csv', 'issues_all_2021-05-22.csv', 'issues_all_2021-01-17.csv', 'issues_all_2021-07-21.csv', 'issues_all_2021-04-19.csv', 'issues_all_2021-03-12.csv', 'issues_all_2021-02-25.csv', 'issues_all_2021-02-11.csv', 'issues_all_2021-02-19.csv', 'issues_all_2021-04-17.csv', 'issues_all_2021-05-13.csv', 'issues_all_2021-05-06.csv', 'issues_all_2021-08-05.csv', 'issues_all_2021-03-06.csv', 'issues_all_2021-06-29.csv', 'issues_all_2021-08-13.csv', 'issues_all_2021-01-02.csv', 'issues_all_2021-07-15.csv', 'issues_all_2021-08-04.csv', 'issues_all_2021-05-12.csv', 'issues_all_2021-03-23.csv', 'issues_all_2021-01-01.csv', 'issues_all_2021-08-16.csv', 'issues_all_2021-01-03.csv', 'issues_all_2021-08-10.csv', 'issues_all_2021-01-08.csv']\n"
     ]
    }
   ],
   "source": [
    "\n",
    "# folder path\n",
    "dir_path = r'../../csv/all_issue_event_1' ## Point to the extracted folder containing all the issues csv files\n",
    "\n",
    "# list to store files\n",
    "res = []\n",
    "\n",
    "# Iterate directory\n",
    "for path in os.listdir(dir_path):\n",
    "    # check if current path is a file\n",
    "    if os.path.isfile(os.path.join(dir_path, path)):\n",
    "        res.append(path)\n",
    "print(res)"
   ]
  },
  {
   "cell_type": "code",
   "execution_count": 9,
   "metadata": {},
   "outputs": [
    {
     "name": "stdout",
     "output_type": "stream",
     "text": [
      "Processed: issues_all_2021-06-12.csv\n",
      "Processed: issues_all_2021-05-05.csv\n",
      "Processed: issues_all_2021-04-30.csv\n",
      "Processed: issues_all_2021-06-24.csv\n"
     ]
    },
    {
     "name": "stderr",
     "output_type": "stream",
     "text": [
      "/tmp/ipykernel_318031/753060309.py:24: UserWarning: Boolean Series key will be reindexed to match DataFrame index.\n",
      "  filtered_df = filtered_df[\n",
      "/tmp/ipykernel_318031/753060309.py:24: UserWarning: Boolean Series key will be reindexed to match DataFrame index.\n",
      "  filtered_df = filtered_df[\n",
      "/tmp/ipykernel_318031/753060309.py:24: UserWarning: Boolean Series key will be reindexed to match DataFrame index.\n",
      "  filtered_df = filtered_df[\n",
      "/tmp/ipykernel_318031/753060309.py:24: UserWarning: Boolean Series key will be reindexed to match DataFrame index.\n",
      "  filtered_df = filtered_df[\n",
      "/tmp/ipykernel_318031/753060309.py:24: UserWarning: Boolean Series key will be reindexed to match DataFrame index.\n",
      "  filtered_df = filtered_df[\n",
      "/tmp/ipykernel_318031/753060309.py:24: UserWarning: Boolean Series key will be reindexed to match DataFrame index.\n",
      "  filtered_df = filtered_df[\n"
     ]
    },
    {
     "name": "stdout",
     "output_type": "stream",
     "text": [
      "Processed: issues_all_2021-06-06.csv\n",
      "Processed: issues_all_2021-01-09.csv\n"
     ]
    },
    {
     "name": "stderr",
     "output_type": "stream",
     "text": [
      "/tmp/ipykernel_318031/753060309.py:24: UserWarning: Boolean Series key will be reindexed to match DataFrame index.\n",
      "  filtered_df = filtered_df[\n",
      "/tmp/ipykernel_318031/753060309.py:24: UserWarning: Boolean Series key will be reindexed to match DataFrame index.\n",
      "  filtered_df = filtered_df[\n"
     ]
    },
    {
     "name": "stdout",
     "output_type": "stream",
     "text": [
      "Processed: issues_all_2021-08-12.csv\n",
      "Processed: issues_all_2021-03-21.csv\n"
     ]
    },
    {
     "name": "stderr",
     "output_type": "stream",
     "text": [
      "/tmp/ipykernel_318031/753060309.py:24: UserWarning: Boolean Series key will be reindexed to match DataFrame index.\n",
      "  filtered_df = filtered_df[\n",
      "/tmp/ipykernel_318031/753060309.py:24: UserWarning: Boolean Series key will be reindexed to match DataFrame index.\n",
      "  filtered_df = filtered_df[\n"
     ]
    },
    {
     "name": "stdout",
     "output_type": "stream",
     "text": [
      "Processed: issues_all_2021-05-16.csv\n",
      "Processed: issues_all_2021-08-08.csv\n"
     ]
    },
    {
     "name": "stderr",
     "output_type": "stream",
     "text": [
      "/tmp/ipykernel_318031/753060309.py:24: UserWarning: Boolean Series key will be reindexed to match DataFrame index.\n",
      "  filtered_df = filtered_df[\n"
     ]
    },
    {
     "name": "stdout",
     "output_type": "stream",
     "text": [
      "Processed: issues_all_2021-05-03.csv\n"
     ]
    },
    {
     "name": "stderr",
     "output_type": "stream",
     "text": [
      "/tmp/ipykernel_318031/753060309.py:24: UserWarning: Boolean Series key will be reindexed to match DataFrame index.\n",
      "  filtered_df = filtered_df[\n"
     ]
    },
    {
     "name": "stdout",
     "output_type": "stream",
     "text": [
      "Processed: issues_all_2021-05-14.csv\n"
     ]
    },
    {
     "name": "stderr",
     "output_type": "stream",
     "text": [
      "/tmp/ipykernel_318031/753060309.py:24: UserWarning: Boolean Series key will be reindexed to match DataFrame index.\n",
      "  filtered_df = filtered_df[\n"
     ]
    },
    {
     "name": "stdout",
     "output_type": "stream",
     "text": [
      "Processed: issues_all_2021-07-19.csv\n"
     ]
    },
    {
     "name": "stderr",
     "output_type": "stream",
     "text": [
      "/tmp/ipykernel_318031/753060309.py:24: UserWarning: Boolean Series key will be reindexed to match DataFrame index.\n",
      "  filtered_df = filtered_df[\n",
      "/tmp/ipykernel_318031/753060309.py:24: UserWarning: Boolean Series key will be reindexed to match DataFrame index.\n",
      "  filtered_df = filtered_df[\n",
      "/tmp/ipykernel_318031/753060309.py:24: UserWarning: Boolean Series key will be reindexed to match DataFrame index.\n",
      "  filtered_df = filtered_df[\n"
     ]
    },
    {
     "name": "stdout",
     "output_type": "stream",
     "text": [
      "Processed: issues_all_2021-04-21.csv\n",
      "Processed: issues_all_2021-05-02.csv\n",
      "Processed: issues_all_2021-08-07.csv\n"
     ]
    },
    {
     "name": "stderr",
     "output_type": "stream",
     "text": [
      "/tmp/ipykernel_318031/753060309.py:24: UserWarning: Boolean Series key will be reindexed to match DataFrame index.\n",
      "  filtered_df = filtered_df[\n"
     ]
    },
    {
     "name": "stdout",
     "output_type": "stream",
     "text": [
      "Processed: issues_all_2021-06-05.csv\n"
     ]
    },
    {
     "name": "stderr",
     "output_type": "stream",
     "text": [
      "/tmp/ipykernel_318031/753060309.py:24: UserWarning: Boolean Series key will be reindexed to match DataFrame index.\n",
      "  filtered_df = filtered_df[\n"
     ]
    },
    {
     "name": "stdout",
     "output_type": "stream",
     "text": [
      "Processed: issues_all_2021-07-14.csv\n"
     ]
    },
    {
     "name": "stderr",
     "output_type": "stream",
     "text": [
      "/tmp/ipykernel_318031/753060309.py:24: UserWarning: Boolean Series key will be reindexed to match DataFrame index.\n",
      "  filtered_df = filtered_df[\n",
      "/tmp/ipykernel_318031/753060309.py:24: UserWarning: Boolean Series key will be reindexed to match DataFrame index.\n",
      "  filtered_df = filtered_df[\n"
     ]
    },
    {
     "name": "stdout",
     "output_type": "stream",
     "text": [
      "Processed: issues_all_2021-07-07.csv\n",
      "Processed: issues_all_2021-03-04.csv\n"
     ]
    },
    {
     "name": "stderr",
     "output_type": "stream",
     "text": [
      "/tmp/ipykernel_318031/753060309.py:24: UserWarning: Boolean Series key will be reindexed to match DataFrame index.\n",
      "  filtered_df = filtered_df[\n",
      "/tmp/ipykernel_318031/753060309.py:24: UserWarning: Boolean Series key will be reindexed to match DataFrame index.\n",
      "  filtered_df = filtered_df[\n",
      "/tmp/ipykernel_318031/753060309.py:24: UserWarning: Boolean Series key will be reindexed to match DataFrame index.\n",
      "  filtered_df = filtered_df[\n",
      "/tmp/ipykernel_318031/753060309.py:24: UserWarning: Boolean Series key will be reindexed to match DataFrame index.\n",
      "  filtered_df = filtered_df[\n"
     ]
    },
    {
     "name": "stdout",
     "output_type": "stream",
     "text": [
      "Processed: issues_all_2021-02-26.csv\n",
      "Processed: issues_all_2021-04-12.csv\n",
      "Processed: issues_all_2021-06-26.csv\n",
      "Processed: issues_all_2021-08-01.csv\n"
     ]
    },
    {
     "name": "stderr",
     "output_type": "stream",
     "text": [
      "/tmp/ipykernel_318031/753060309.py:24: UserWarning: Boolean Series key will be reindexed to match DataFrame index.\n",
      "  filtered_df = filtered_df[\n",
      "/tmp/ipykernel_318031/753060309.py:24: UserWarning: Boolean Series key will be reindexed to match DataFrame index.\n",
      "  filtered_df = filtered_df[\n"
     ]
    },
    {
     "name": "stdout",
     "output_type": "stream",
     "text": [
      "Processed: issues_all_2021-03-14.csv\n",
      "Processed: issues_all_2021-06-04.csv\n"
     ]
    },
    {
     "name": "stderr",
     "output_type": "stream",
     "text": [
      "/tmp/ipykernel_318031/753060309.py:24: UserWarning: Boolean Series key will be reindexed to match DataFrame index.\n",
      "  filtered_df = filtered_df[\n"
     ]
    },
    {
     "name": "stdout",
     "output_type": "stream",
     "text": [
      "Processed: issues_all_2021-01-13.csv\n"
     ]
    },
    {
     "name": "stderr",
     "output_type": "stream",
     "text": [
      "/tmp/ipykernel_318031/753060309.py:24: UserWarning: Boolean Series key will be reindexed to match DataFrame index.\n",
      "  filtered_df = filtered_df[\n",
      "/tmp/ipykernel_318031/753060309.py:24: UserWarning: Boolean Series key will be reindexed to match DataFrame index.\n",
      "  filtered_df = filtered_df[\n"
     ]
    },
    {
     "name": "stdout",
     "output_type": "stream",
     "text": [
      "Processed: issues_all_2021-04-18.csv\n",
      "Processed: issues_all_2021-05-08.csv\n"
     ]
    },
    {
     "name": "stderr",
     "output_type": "stream",
     "text": [
      "/tmp/ipykernel_318031/753060309.py:24: UserWarning: Boolean Series key will be reindexed to match DataFrame index.\n",
      "  filtered_df = filtered_df[\n"
     ]
    },
    {
     "name": "stdout",
     "output_type": "stream",
     "text": [
      "Processed: issues_all_2021-06-20.csv\n"
     ]
    },
    {
     "name": "stderr",
     "output_type": "stream",
     "text": [
      "/tmp/ipykernel_318031/753060309.py:24: UserWarning: Boolean Series key will be reindexed to match DataFrame index.\n",
      "  filtered_df = filtered_df[\n"
     ]
    },
    {
     "name": "stdout",
     "output_type": "stream",
     "text": [
      "Processed: issues_all_2021-08-09.csv\n"
     ]
    },
    {
     "name": "stderr",
     "output_type": "stream",
     "text": [
      "/tmp/ipykernel_318031/753060309.py:24: UserWarning: Boolean Series key will be reindexed to match DataFrame index.\n",
      "  filtered_df = filtered_df[\n"
     ]
    },
    {
     "name": "stdout",
     "output_type": "stream",
     "text": [
      "Processed: issues_all_2021-06-19.csv\n"
     ]
    },
    {
     "name": "stderr",
     "output_type": "stream",
     "text": [
      "/tmp/ipykernel_318031/753060309.py:24: UserWarning: Boolean Series key will be reindexed to match DataFrame index.\n",
      "  filtered_df = filtered_df[\n",
      "/tmp/ipykernel_318031/753060309.py:24: UserWarning: Boolean Series key will be reindexed to match DataFrame index.\n",
      "  filtered_df = filtered_df[\n"
     ]
    },
    {
     "name": "stdout",
     "output_type": "stream",
     "text": [
      "Processed: issues_all_2021-04-16.csv\n",
      "Processed: issues_all_2021-07-27.csv\n"
     ]
    },
    {
     "name": "stderr",
     "output_type": "stream",
     "text": [
      "/tmp/ipykernel_318031/753060309.py:24: UserWarning: Boolean Series key will be reindexed to match DataFrame index.\n",
      "  filtered_df = filtered_df[\n"
     ]
    },
    {
     "name": "stdout",
     "output_type": "stream",
     "text": [
      "Processed: issues_all_2021-05-30.csv\n"
     ]
    },
    {
     "name": "stderr",
     "output_type": "stream",
     "text": [
      "/tmp/ipykernel_318031/753060309.py:24: UserWarning: Boolean Series key will be reindexed to match DataFrame index.\n",
      "  filtered_df = filtered_df[\n"
     ]
    },
    {
     "name": "stdout",
     "output_type": "stream",
     "text": [
      "Processed: issues_all_2021-06-18.csv\n"
     ]
    },
    {
     "name": "stderr",
     "output_type": "stream",
     "text": [
      "/tmp/ipykernel_318031/753060309.py:24: UserWarning: Boolean Series key will be reindexed to match DataFrame index.\n",
      "  filtered_df = filtered_df[\n",
      "/tmp/ipykernel_318031/753060309.py:24: UserWarning: Boolean Series key will be reindexed to match DataFrame index.\n",
      "  filtered_df = filtered_df[\n"
     ]
    },
    {
     "name": "stdout",
     "output_type": "stream",
     "text": [
      "Processed: issues_all_2021-02-18.csv\n",
      "Processed: issues_all_2021-06-28.csv\n"
     ]
    },
    {
     "name": "stderr",
     "output_type": "stream",
     "text": [
      "/tmp/ipykernel_318031/753060309.py:24: UserWarning: Boolean Series key will be reindexed to match DataFrame index.\n",
      "  filtered_df = filtered_df[\n",
      "/tmp/ipykernel_318031/753060309.py:24: UserWarning: Boolean Series key will be reindexed to match DataFrame index.\n",
      "  filtered_df = filtered_df[\n",
      "/tmp/ipykernel_318031/753060309.py:24: UserWarning: Boolean Series key will be reindexed to match DataFrame index.\n",
      "  filtered_df = filtered_df[\n"
     ]
    },
    {
     "name": "stdout",
     "output_type": "stream",
     "text": [
      "Processed: issues_all_2021-03-22.csv\n",
      "Processed: issues_all_2021-02-10.csv\n",
      "Processed: issues_all_2021-03-30.csv\n"
     ]
    },
    {
     "name": "stderr",
     "output_type": "stream",
     "text": [
      "/tmp/ipykernel_318031/753060309.py:24: UserWarning: Boolean Series key will be reindexed to match DataFrame index.\n",
      "  filtered_df = filtered_df[\n",
      "/tmp/ipykernel_318031/753060309.py:24: UserWarning: Boolean Series key will be reindexed to match DataFrame index.\n",
      "  filtered_df = filtered_df[\n"
     ]
    },
    {
     "name": "stdout",
     "output_type": "stream",
     "text": [
      "Processed: issues_all_2021-06-16.csv\n",
      "Processed: issues_all_2021-02-28.csv\n"
     ]
    },
    {
     "name": "stderr",
     "output_type": "stream",
     "text": [
      "/tmp/ipykernel_318031/753060309.py:24: UserWarning: Boolean Series key will be reindexed to match DataFrame index.\n",
      "  filtered_df = filtered_df[\n",
      "/tmp/ipykernel_318031/753060309.py:24: UserWarning: Boolean Series key will be reindexed to match DataFrame index.\n",
      "  filtered_df = filtered_df[\n"
     ]
    },
    {
     "name": "stdout",
     "output_type": "stream",
     "text": [
      "Processed: issues_all_2021-03-28.csv\n",
      "Processed: issues_all_2021-01-11.csv\n"
     ]
    },
    {
     "name": "stderr",
     "output_type": "stream",
     "text": [
      "/tmp/ipykernel_318031/753060309.py:24: UserWarning: Boolean Series key will be reindexed to match DataFrame index.\n",
      "  filtered_df = filtered_df[\n"
     ]
    },
    {
     "name": "stdout",
     "output_type": "stream",
     "text": [
      "Processed: issues_all_2021-04-28.csv\n"
     ]
    },
    {
     "name": "stderr",
     "output_type": "stream",
     "text": [
      "/tmp/ipykernel_318031/753060309.py:24: UserWarning: Boolean Series key will be reindexed to match DataFrame index.\n",
      "  filtered_df = filtered_df[\n"
     ]
    },
    {
     "name": "stdout",
     "output_type": "stream",
     "text": [
      "Processed: issues_all_2021-07-17.csv\n"
     ]
    },
    {
     "name": "stderr",
     "output_type": "stream",
     "text": [
      "/tmp/ipykernel_318031/753060309.py:24: UserWarning: Boolean Series key will be reindexed to match DataFrame index.\n",
      "  filtered_df = filtered_df[\n"
     ]
    },
    {
     "name": "stdout",
     "output_type": "stream",
     "text": [
      "Processed: issues_all_2021-01-14.csv\n"
     ]
    },
    {
     "name": "stderr",
     "output_type": "stream",
     "text": [
      "/tmp/ipykernel_318031/753060309.py:24: UserWarning: Boolean Series key will be reindexed to match DataFrame index.\n",
      "  filtered_df = filtered_df[\n"
     ]
    },
    {
     "name": "stdout",
     "output_type": "stream",
     "text": [
      "Processed: issues_all_2021-02-06.csv\n"
     ]
    },
    {
     "name": "stderr",
     "output_type": "stream",
     "text": [
      "/tmp/ipykernel_318031/753060309.py:24: UserWarning: Boolean Series key will be reindexed to match DataFrame index.\n",
      "  filtered_df = filtered_df[\n",
      "/tmp/ipykernel_318031/753060309.py:24: UserWarning: Boolean Series key will be reindexed to match DataFrame index.\n",
      "  filtered_df = filtered_df[\n"
     ]
    },
    {
     "name": "stdout",
     "output_type": "stream",
     "text": [
      "Processed: issues_all_2021-05-29.csv\n",
      "Processed: issues_all_2021-01-16.csv\n"
     ]
    },
    {
     "name": "stderr",
     "output_type": "stream",
     "text": [
      "/tmp/ipykernel_318031/753060309.py:24: UserWarning: Boolean Series key will be reindexed to match DataFrame index.\n",
      "  filtered_df = filtered_df[\n",
      "/tmp/ipykernel_318031/753060309.py:24: UserWarning: Boolean Series key will be reindexed to match DataFrame index.\n",
      "  filtered_df = filtered_df[\n"
     ]
    },
    {
     "name": "stdout",
     "output_type": "stream",
     "text": [
      "Processed: issues_all_2021-07-20.csv\n",
      "Processed: issues_all_2021-01-30.csv\n"
     ]
    },
    {
     "name": "stderr",
     "output_type": "stream",
     "text": [
      "/tmp/ipykernel_318031/753060309.py:24: UserWarning: Boolean Series key will be reindexed to match DataFrame index.\n",
      "  filtered_df = filtered_df[\n"
     ]
    },
    {
     "name": "stdout",
     "output_type": "stream",
     "text": [
      "Processed: issues_all_2021-07-06.csv\n"
     ]
    },
    {
     "name": "stderr",
     "output_type": "stream",
     "text": [
      "/tmp/ipykernel_318031/753060309.py:24: UserWarning: Boolean Series key will be reindexed to match DataFrame index.\n",
      "  filtered_df = filtered_df[\n",
      "/tmp/ipykernel_318031/753060309.py:24: UserWarning: Boolean Series key will be reindexed to match DataFrame index.\n",
      "  filtered_df = filtered_df[\n"
     ]
    },
    {
     "name": "stdout",
     "output_type": "stream",
     "text": [
      "Processed: issues_all_2021-06-23.csv\n",
      "Processed: issues_all_2021-07-26.csv\n"
     ]
    },
    {
     "name": "stderr",
     "output_type": "stream",
     "text": [
      "/tmp/ipykernel_318031/753060309.py:24: UserWarning: Boolean Series key will be reindexed to match DataFrame index.\n",
      "  filtered_df = filtered_df[\n",
      "/tmp/ipykernel_318031/753060309.py:24: UserWarning: Boolean Series key will be reindexed to match DataFrame index.\n",
      "  filtered_df = filtered_df[\n"
     ]
    },
    {
     "name": "stdout",
     "output_type": "stream",
     "text": [
      "Processed: issues_all_2021-04-25.csv\n",
      "Processed: issues_all_2021-03-15.csv\n"
     ]
    },
    {
     "name": "stderr",
     "output_type": "stream",
     "text": [
      "/tmp/ipykernel_318031/753060309.py:24: UserWarning: Boolean Series key will be reindexed to match DataFrame index.\n",
      "  filtered_df = filtered_df[\n"
     ]
    },
    {
     "name": "stdout",
     "output_type": "stream",
     "text": [
      "Processed: issues_all_2021-07-25.csv\n"
     ]
    },
    {
     "name": "stderr",
     "output_type": "stream",
     "text": [
      "/tmp/ipykernel_318031/753060309.py:24: UserWarning: Boolean Series key will be reindexed to match DataFrame index.\n",
      "  filtered_df = filtered_df[\n",
      "/tmp/ipykernel_318031/753060309.py:24: UserWarning: Boolean Series key will be reindexed to match DataFrame index.\n",
      "  filtered_df = filtered_df[\n"
     ]
    },
    {
     "name": "stdout",
     "output_type": "stream",
     "text": [
      "Processed: issues_all_2021-03-27.csv\n",
      "Processed: issues_all_2021-02-04.csv\n"
     ]
    },
    {
     "name": "stderr",
     "output_type": "stream",
     "text": [
      "/tmp/ipykernel_318031/753060309.py:24: UserWarning: Boolean Series key will be reindexed to match DataFrame index.\n",
      "  filtered_df = filtered_df[\n"
     ]
    },
    {
     "name": "stdout",
     "output_type": "stream",
     "text": [
      "Processed: issues_all_2021-07-28.csv\n"
     ]
    },
    {
     "name": "stderr",
     "output_type": "stream",
     "text": [
      "/tmp/ipykernel_318031/753060309.py:24: UserWarning: Boolean Series key will be reindexed to match DataFrame index.\n",
      "  filtered_df = filtered_df[\n",
      "/tmp/ipykernel_318031/753060309.py:24: UserWarning: Boolean Series key will be reindexed to match DataFrame index.\n",
      "  filtered_df = filtered_df[\n",
      "/tmp/ipykernel_318031/753060309.py:24: UserWarning: Boolean Series key will be reindexed to match DataFrame index.\n",
      "  filtered_df = filtered_df[\n"
     ]
    },
    {
     "name": "stdout",
     "output_type": "stream",
     "text": [
      "Processed: issues_all_2021-06-21.csv\n",
      "Processed: issues_all_2021-06-27.csv\n",
      "Processed: issues_all_2021-06-22.csv\n"
     ]
    },
    {
     "name": "stderr",
     "output_type": "stream",
     "text": [
      "/tmp/ipykernel_318031/753060309.py:24: UserWarning: Boolean Series key will be reindexed to match DataFrame index.\n",
      "  filtered_df = filtered_df[\n",
      "/tmp/ipykernel_318031/753060309.py:24: UserWarning: Boolean Series key will be reindexed to match DataFrame index.\n",
      "  filtered_df = filtered_df[\n"
     ]
    },
    {
     "name": "stdout",
     "output_type": "stream",
     "text": [
      "Processed: issues_all_2021-02-14.csv\n",
      "Processed: issues_all_2021-02-21.csv\n"
     ]
    },
    {
     "name": "stderr",
     "output_type": "stream",
     "text": [
      "/tmp/ipykernel_318031/753060309.py:24: UserWarning: Boolean Series key will be reindexed to match DataFrame index.\n",
      "  filtered_df = filtered_df[\n"
     ]
    },
    {
     "name": "stdout",
     "output_type": "stream",
     "text": [
      "Processed: issues_all_2021-02-22.csv\n"
     ]
    },
    {
     "name": "stderr",
     "output_type": "stream",
     "text": [
      "/tmp/ipykernel_318031/753060309.py:24: UserWarning: Boolean Series key will be reindexed to match DataFrame index.\n",
      "  filtered_df = filtered_df[\n",
      "/tmp/ipykernel_318031/753060309.py:24: UserWarning: Boolean Series key will be reindexed to match DataFrame index.\n",
      "  filtered_df = filtered_df[\n"
     ]
    },
    {
     "name": "stdout",
     "output_type": "stream",
     "text": [
      "Processed: issues_all_2021-02-16.csv\n",
      "Processed: issues_all_2021-01-15.csv\n"
     ]
    },
    {
     "name": "stderr",
     "output_type": "stream",
     "text": [
      "/tmp/ipykernel_318031/753060309.py:24: UserWarning: Boolean Series key will be reindexed to match DataFrame index.\n",
      "  filtered_df = filtered_df[\n"
     ]
    },
    {
     "name": "stdout",
     "output_type": "stream",
     "text": [
      "Processed: issues_all_2021-01-10.csv\n"
     ]
    },
    {
     "name": "stderr",
     "output_type": "stream",
     "text": [
      "/tmp/ipykernel_318031/753060309.py:24: UserWarning: Boolean Series key will be reindexed to match DataFrame index.\n",
      "  filtered_df = filtered_df[\n",
      "/tmp/ipykernel_318031/753060309.py:24: UserWarning: Boolean Series key will be reindexed to match DataFrame index.\n",
      "  filtered_df = filtered_df[\n",
      "/tmp/ipykernel_318031/753060309.py:24: UserWarning: Boolean Series key will be reindexed to match DataFrame index.\n",
      "  filtered_df = filtered_df[\n"
     ]
    },
    {
     "name": "stdout",
     "output_type": "stream",
     "text": [
      "Processed: issues_all_2021-01-05.csv\n",
      "Processed: issues_all_2021-07-23.csv\n",
      "Processed: issues_all_2021-05-18.csv\n"
     ]
    },
    {
     "name": "stderr",
     "output_type": "stream",
     "text": [
      "/tmp/ipykernel_318031/753060309.py:24: UserWarning: Boolean Series key will be reindexed to match DataFrame index.\n",
      "  filtered_df = filtered_df[\n",
      "/tmp/ipykernel_318031/753060309.py:24: UserWarning: Boolean Series key will be reindexed to match DataFrame index.\n",
      "  filtered_df = filtered_df[\n"
     ]
    },
    {
     "name": "stdout",
     "output_type": "stream",
     "text": [
      "Processed: issues_all_2021-05-19.csv\n",
      "Processed: issues_all_2021-08-11.csv\n"
     ]
    },
    {
     "name": "stderr",
     "output_type": "stream",
     "text": [
      "/tmp/ipykernel_318031/753060309.py:24: UserWarning: Boolean Series key will be reindexed to match DataFrame index.\n",
      "  filtered_df = filtered_df[\n"
     ]
    },
    {
     "name": "stdout",
     "output_type": "stream",
     "text": [
      "Processed: issues_all_2021-04-04.csv\n"
     ]
    },
    {
     "name": "stderr",
     "output_type": "stream",
     "text": [
      "/tmp/ipykernel_318031/753060309.py:24: UserWarning: Boolean Series key will be reindexed to match DataFrame index.\n",
      "  filtered_df = filtered_df[\n",
      "/tmp/ipykernel_318031/753060309.py:24: UserWarning: Boolean Series key will be reindexed to match DataFrame index.\n",
      "  filtered_df = filtered_df[\n"
     ]
    },
    {
     "name": "stdout",
     "output_type": "stream",
     "text": [
      "Processed: issues_all_2021-02-13.csv\n",
      "Processed: issues_all_2021-07-12.csv\n"
     ]
    },
    {
     "name": "stderr",
     "output_type": "stream",
     "text": [
      "/tmp/ipykernel_318031/753060309.py:24: UserWarning: Boolean Series key will be reindexed to match DataFrame index.\n",
      "  filtered_df = filtered_df[\n"
     ]
    },
    {
     "name": "stdout",
     "output_type": "stream",
     "text": [
      "Processed: issues_all_2021-06-08.csv\n"
     ]
    },
    {
     "name": "stderr",
     "output_type": "stream",
     "text": [
      "/tmp/ipykernel_318031/753060309.py:24: UserWarning: Boolean Series key will be reindexed to match DataFrame index.\n",
      "  filtered_df = filtered_df[\n",
      "/tmp/ipykernel_318031/753060309.py:24: UserWarning: Boolean Series key will be reindexed to match DataFrame index.\n",
      "  filtered_df = filtered_df[\n"
     ]
    },
    {
     "name": "stdout",
     "output_type": "stream",
     "text": [
      "Processed: issues_all_2021-02-09.csv\n",
      "Processed: issues_all_2021-01-19.csv\n"
     ]
    },
    {
     "name": "stderr",
     "output_type": "stream",
     "text": [
      "/tmp/ipykernel_318031/753060309.py:24: UserWarning: Boolean Series key will be reindexed to match DataFrame index.\n",
      "  filtered_df = filtered_df[\n",
      "/tmp/ipykernel_318031/753060309.py:24: UserWarning: Boolean Series key will be reindexed to match DataFrame index.\n",
      "  filtered_df = filtered_df[\n"
     ]
    },
    {
     "name": "stdout",
     "output_type": "stream",
     "text": [
      "Processed: issues_all_2021-01-31.csv\n",
      "Processed: issues_all_2021-03-20.csv\n"
     ]
    },
    {
     "name": "stderr",
     "output_type": "stream",
     "text": [
      "/tmp/ipykernel_318031/753060309.py:24: UserWarning: Boolean Series key will be reindexed to match DataFrame index.\n",
      "  filtered_df = filtered_df[\n",
      "/tmp/ipykernel_318031/753060309.py:24: UserWarning: Boolean Series key will be reindexed to match DataFrame index.\n",
      "  filtered_df = filtered_df[\n"
     ]
    },
    {
     "name": "stdout",
     "output_type": "stream",
     "text": [
      "Processed: issues_all_2021-04-03.csv\n",
      "Processed: issues_all_2021-06-15.csv\n"
     ]
    },
    {
     "name": "stderr",
     "output_type": "stream",
     "text": [
      "/tmp/ipykernel_318031/753060309.py:24: UserWarning: Boolean Series key will be reindexed to match DataFrame index.\n",
      "  filtered_df = filtered_df[\n"
     ]
    },
    {
     "name": "stdout",
     "output_type": "stream",
     "text": [
      "Processed: issues_all_2021-07-01.csv\n"
     ]
    },
    {
     "name": "stderr",
     "output_type": "stream",
     "text": [
      "/tmp/ipykernel_318031/753060309.py:24: UserWarning: Boolean Series key will be reindexed to match DataFrame index.\n",
      "  filtered_df = filtered_df[\n",
      "/tmp/ipykernel_318031/753060309.py:24: UserWarning: Boolean Series key will be reindexed to match DataFrame index.\n",
      "  filtered_df = filtered_df[\n",
      "/tmp/ipykernel_318031/753060309.py:24: UserWarning: Boolean Series key will be reindexed to match DataFrame index.\n",
      "  filtered_df = filtered_df[\n"
     ]
    },
    {
     "name": "stdout",
     "output_type": "stream",
     "text": [
      "Processed: issues_all_2021-01-06.csv\n",
      "Processed: issues_all_2021-04-24.csv\n",
      "Processed: issues_all_2021-04-07.csv\n"
     ]
    },
    {
     "name": "stderr",
     "output_type": "stream",
     "text": [
      "/tmp/ipykernel_318031/753060309.py:24: UserWarning: Boolean Series key will be reindexed to match DataFrame index.\n",
      "  filtered_df = filtered_df[\n",
      "/tmp/ipykernel_318031/753060309.py:24: UserWarning: Boolean Series key will be reindexed to match DataFrame index.\n",
      "  filtered_df = filtered_df[\n"
     ]
    },
    {
     "name": "stdout",
     "output_type": "stream",
     "text": [
      "Processed: issues_all_2021-03-08.csv\n",
      "Processed: issues_all_2021-06-25.csv\n"
     ]
    },
    {
     "name": "stderr",
     "output_type": "stream",
     "text": [
      "/tmp/ipykernel_318031/753060309.py:24: UserWarning: Boolean Series key will be reindexed to match DataFrame index.\n",
      "  filtered_df = filtered_df[\n",
      "/tmp/ipykernel_318031/753060309.py:24: UserWarning: Boolean Series key will be reindexed to match DataFrame index.\n",
      "  filtered_df = filtered_df[\n"
     ]
    },
    {
     "name": "stdout",
     "output_type": "stream",
     "text": [
      "Processed: issues_all_2021-07-05.csv\n",
      "Processed: issues_all_2021-07-18.csv\n"
     ]
    },
    {
     "name": "stderr",
     "output_type": "stream",
     "text": [
      "/tmp/ipykernel_318031/753060309.py:24: UserWarning: Boolean Series key will be reindexed to match DataFrame index.\n",
      "  filtered_df = filtered_df[\n"
     ]
    },
    {
     "name": "stdout",
     "output_type": "stream",
     "text": [
      "Processed: issues_all_2021-07-31.csv\n"
     ]
    },
    {
     "name": "stderr",
     "output_type": "stream",
     "text": [
      "/tmp/ipykernel_318031/753060309.py:24: UserWarning: Boolean Series key will be reindexed to match DataFrame index.\n",
      "  filtered_df = filtered_df[\n"
     ]
    },
    {
     "name": "stdout",
     "output_type": "stream",
     "text": [
      "Processed: issues_all_2021-08-03.csv\n"
     ]
    },
    {
     "name": "stderr",
     "output_type": "stream",
     "text": [
      "/tmp/ipykernel_318031/753060309.py:24: UserWarning: Boolean Series key will be reindexed to match DataFrame index.\n",
      "  filtered_df = filtered_df[\n",
      "/tmp/ipykernel_318031/753060309.py:24: UserWarning: Boolean Series key will be reindexed to match DataFrame index.\n",
      "  filtered_df = filtered_df[\n"
     ]
    },
    {
     "name": "stdout",
     "output_type": "stream",
     "text": [
      "Processed: issues_all_2021-07-24.csv\n",
      "Processed: issues_all_2021-04-13.csv\n"
     ]
    },
    {
     "name": "stderr",
     "output_type": "stream",
     "text": [
      "/tmp/ipykernel_318031/753060309.py:24: UserWarning: Boolean Series key will be reindexed to match DataFrame index.\n",
      "  filtered_df = filtered_df[\n",
      "/tmp/ipykernel_318031/753060309.py:24: UserWarning: Boolean Series key will be reindexed to match DataFrame index.\n",
      "  filtered_df = filtered_df[\n",
      "/tmp/ipykernel_318031/753060309.py:24: UserWarning: Boolean Series key will be reindexed to match DataFrame index.\n",
      "  filtered_df = filtered_df[\n"
     ]
    },
    {
     "name": "stdout",
     "output_type": "stream",
     "text": [
      "Processed: issues_all_2021-05-23.csv\n",
      "Processed: issues_all_2021-05-22.csv\n",
      "Processed: issues_all_2021-01-17.csv\n"
     ]
    },
    {
     "name": "stderr",
     "output_type": "stream",
     "text": [
      "/tmp/ipykernel_318031/753060309.py:24: UserWarning: Boolean Series key will be reindexed to match DataFrame index.\n",
      "  filtered_df = filtered_df[\n",
      "/tmp/ipykernel_318031/753060309.py:24: UserWarning: Boolean Series key will be reindexed to match DataFrame index.\n",
      "  filtered_df = filtered_df[\n",
      "/tmp/ipykernel_318031/753060309.py:24: UserWarning: Boolean Series key will be reindexed to match DataFrame index.\n",
      "  filtered_df = filtered_df[\n",
      "/tmp/ipykernel_318031/753060309.py:24: UserWarning: Boolean Series key will be reindexed to match DataFrame index.\n",
      "  filtered_df = filtered_df[\n"
     ]
    },
    {
     "name": "stdout",
     "output_type": "stream",
     "text": [
      "Processed: issues_all_2021-07-21.csv\n",
      "Processed: issues_all_2021-04-19.csv\n",
      "Processed: issues_all_2021-03-12.csv\n",
      "Processed: issues_all_2021-02-25.csv\n"
     ]
    },
    {
     "name": "stderr",
     "output_type": "stream",
     "text": [
      "/tmp/ipykernel_318031/753060309.py:24: UserWarning: Boolean Series key will be reindexed to match DataFrame index.\n",
      "  filtered_df = filtered_df[\n"
     ]
    },
    {
     "name": "stdout",
     "output_type": "stream",
     "text": [
      "Processed: issues_all_2021-02-11.csv\n"
     ]
    },
    {
     "name": "stderr",
     "output_type": "stream",
     "text": [
      "/tmp/ipykernel_318031/753060309.py:24: UserWarning: Boolean Series key will be reindexed to match DataFrame index.\n",
      "  filtered_df = filtered_df[\n"
     ]
    },
    {
     "name": "stdout",
     "output_type": "stream",
     "text": [
      "Processed: issues_all_2021-02-19.csv\n"
     ]
    },
    {
     "name": "stderr",
     "output_type": "stream",
     "text": [
      "/tmp/ipykernel_318031/753060309.py:24: UserWarning: Boolean Series key will be reindexed to match DataFrame index.\n",
      "  filtered_df = filtered_df[\n",
      "/tmp/ipykernel_318031/753060309.py:24: UserWarning: Boolean Series key will be reindexed to match DataFrame index.\n",
      "  filtered_df = filtered_df[\n",
      "/tmp/ipykernel_318031/753060309.py:24: UserWarning: Boolean Series key will be reindexed to match DataFrame index.\n",
      "  filtered_df = filtered_df[\n"
     ]
    },
    {
     "name": "stdout",
     "output_type": "stream",
     "text": [
      "Processed: issues_all_2021-04-17.csv\n",
      "Processed: issues_all_2021-05-13.csv\n",
      "Processed: issues_all_2021-05-06.csv\n"
     ]
    },
    {
     "name": "stderr",
     "output_type": "stream",
     "text": [
      "/tmp/ipykernel_318031/753060309.py:24: UserWarning: Boolean Series key will be reindexed to match DataFrame index.\n",
      "  filtered_df = filtered_df[\n"
     ]
    },
    {
     "name": "stdout",
     "output_type": "stream",
     "text": [
      "Processed: issues_all_2021-08-05.csv\n"
     ]
    },
    {
     "name": "stderr",
     "output_type": "stream",
     "text": [
      "/tmp/ipykernel_318031/753060309.py:24: UserWarning: Boolean Series key will be reindexed to match DataFrame index.\n",
      "  filtered_df = filtered_df[\n"
     ]
    },
    {
     "name": "stdout",
     "output_type": "stream",
     "text": [
      "Processed: issues_all_2021-03-06.csv\n"
     ]
    },
    {
     "name": "stderr",
     "output_type": "stream",
     "text": [
      "/tmp/ipykernel_318031/753060309.py:24: UserWarning: Boolean Series key will be reindexed to match DataFrame index.\n",
      "  filtered_df = filtered_df[\n",
      "/tmp/ipykernel_318031/753060309.py:24: UserWarning: Boolean Series key will be reindexed to match DataFrame index.\n",
      "  filtered_df = filtered_df[\n"
     ]
    },
    {
     "name": "stdout",
     "output_type": "stream",
     "text": [
      "Processed: issues_all_2021-06-29.csv\n",
      "Processed: issues_all_2021-08-13.csv\n"
     ]
    },
    {
     "name": "stderr",
     "output_type": "stream",
     "text": [
      "/tmp/ipykernel_318031/753060309.py:24: UserWarning: Boolean Series key will be reindexed to match DataFrame index.\n",
      "  filtered_df = filtered_df[\n"
     ]
    },
    {
     "name": "stdout",
     "output_type": "stream",
     "text": [
      "Processed: issues_all_2021-01-02.csv\n"
     ]
    },
    {
     "name": "stderr",
     "output_type": "stream",
     "text": [
      "/tmp/ipykernel_318031/753060309.py:24: UserWarning: Boolean Series key will be reindexed to match DataFrame index.\n",
      "  filtered_df = filtered_df[\n",
      "/tmp/ipykernel_318031/753060309.py:24: UserWarning: Boolean Series key will be reindexed to match DataFrame index.\n",
      "  filtered_df = filtered_df[\n"
     ]
    },
    {
     "name": "stdout",
     "output_type": "stream",
     "text": [
      "Processed: issues_all_2021-07-15.csv\n",
      "Processed: issues_all_2021-08-04.csv\n"
     ]
    },
    {
     "name": "stderr",
     "output_type": "stream",
     "text": [
      "/tmp/ipykernel_318031/753060309.py:24: UserWarning: Boolean Series key will be reindexed to match DataFrame index.\n",
      "  filtered_df = filtered_df[\n"
     ]
    },
    {
     "name": "stdout",
     "output_type": "stream",
     "text": [
      "Processed: issues_all_2021-05-12.csv\n"
     ]
    },
    {
     "name": "stderr",
     "output_type": "stream",
     "text": [
      "/tmp/ipykernel_318031/753060309.py:24: UserWarning: Boolean Series key will be reindexed to match DataFrame index.\n",
      "  filtered_df = filtered_df[\n"
     ]
    },
    {
     "name": "stdout",
     "output_type": "stream",
     "text": [
      "Processed: issues_all_2021-03-23.csv\n"
     ]
    },
    {
     "name": "stderr",
     "output_type": "stream",
     "text": [
      "/tmp/ipykernel_318031/753060309.py:24: UserWarning: Boolean Series key will be reindexed to match DataFrame index.\n",
      "  filtered_df = filtered_df[\n"
     ]
    },
    {
     "name": "stdout",
     "output_type": "stream",
     "text": [
      "Processed: issues_all_2021-01-01.csv\n"
     ]
    },
    {
     "name": "stderr",
     "output_type": "stream",
     "text": [
      "/tmp/ipykernel_318031/753060309.py:24: UserWarning: Boolean Series key will be reindexed to match DataFrame index.\n",
      "  filtered_df = filtered_df[\n",
      "/tmp/ipykernel_318031/753060309.py:24: UserWarning: Boolean Series key will be reindexed to match DataFrame index.\n",
      "  filtered_df = filtered_df[\n"
     ]
    },
    {
     "name": "stdout",
     "output_type": "stream",
     "text": [
      "Processed: issues_all_2021-08-16.csv\n",
      "Processed: issues_all_2021-01-03.csv\n"
     ]
    },
    {
     "name": "stderr",
     "output_type": "stream",
     "text": [
      "/tmp/ipykernel_318031/753060309.py:24: UserWarning: Boolean Series key will be reindexed to match DataFrame index.\n",
      "  filtered_df = filtered_df[\n",
      "/tmp/ipykernel_318031/753060309.py:24: UserWarning: Boolean Series key will be reindexed to match DataFrame index.\n",
      "  filtered_df = filtered_df[\n"
     ]
    },
    {
     "name": "stdout",
     "output_type": "stream",
     "text": [
      "Processed: issues_all_2021-08-10.csv\n",
      "Processed: issues_all_2021-01-08.csv\n"
     ]
    }
   ],
   "source": [
    "appended_data = []\n",
    "# Regular expression to capture various variations of \"high priority\"\n",
    "high_priority = r\"\\bhigh\\W*p(?:ri(?:o(?:rity)?)?)?\\b|\\bp(?:ri(?:o(?:rity)?)?)?\\W*high\\b\"\n",
    "# high_priority = r\"\\b(?:high\\W*|critical\\W*|important\\W*|urgent\\W*|essential\\W*|imperative\\W*|paramount\\W*|pressing\\W*|crucial\\W*|vital\\W*|mandatory\\W*|top\\W*priority\\W*|compulsory\\W*|expedient\\W*)p(?:ri(?:o(?:rity)?)?)?\\b|\\bp(?:ri(?:o(?:rity)?)?)?\\W*(?:high|critical|severe|important|urgent|essential|imperative|paramount|pressing|crucial|vital|mandatory|top\\W*priority|compulsory|expedient)\\b\"\n",
    "\n",
    "\n",
    "not_high_priority = r\"\\b(?:high\\W*|critical\\W*|severe\\W*|important\\W*|urgent\\W*|essential\\W*|imperative\\W*|paramount\\W*|pressing\\W*|crucial\\W*|vital\\W*|mandatory\\W*|top\\W*priority\\W*|compulsory\\W*|expedient\\W*)(?:p(?:ri(?:o(?:rity)?)?)?|\\burgent\\b|\\bsevere\\b)\\b|\\b(?:p(?:ri(?:o(?:rity)?)?)?|\\burgent\\b|\\bsevere\\b)\\W*(?:high|critical|severe|important|urgent|essential|imperative|paramount|pressing|crucial|vital|mandatory|top\\W*priority|compulsory|expedient)\\b\"\n",
    "medium_priority = r\"\\b(?:medium|mid)\\W*p(?:ri(?:o(?:rity)?)?)?\\b|\\bp(?:ri(?:o(?:rity)?)?)?\\W*(?:medium|mid)\\b\"\n",
    "\n",
    "low_priority = r\"\\blow\\W*p(?:ri(?:o(?:rity)?)?)?\\b|\\bp(?:ri(?:o(?:rity)?)?)?\\W*low\\b\"\n",
    "\n",
    "pattern=not_high_priority\n",
    "file_name = \"not_high\"\n",
    "for i in res:\n",
    "    try:\n",
    "        file_path = f\"{dir_path}/{i}\"\n",
    "        df = pd.read_csv(file_path, index_col=0)\n",
    "        \n",
    "        # Make sure the dataframe is not empty \n",
    "        filtered_df = df[df['labels'].notnull() & df['labels'].str.strip().astype(bool)]\n",
    "\n",
    "\n",
    "        # ~ Finds NOT in regex\n",
    "        filtered_df = filtered_df[\n",
    "           ~df[\"labels\"].str.contains(pattern, case=False, na=False, regex=True)\n",
    "        ]\n",
    "\n",
    "        if not filtered_df.empty:  # Append non-empty dataframes to the list\n",
    "           appended_data.append(filtered_df)\n",
    "\n",
    "\n",
    "        print(f\"Processed: {i}\")\n",
    "    except Exception as e:\n",
    "        print(f\"Error processing {i}: {e}\")\n",
    "\n",
    "appended_data = pd.concat(appended_data, ignore_index=True)\n"
   ]
  },
  {
   "cell_type": "code",
   "execution_count": 10,
   "metadata": {},
   "outputs": [
    {
     "data": {
      "text/html": [
       "<div>\n",
       "<style scoped>\n",
       "    .dataframe tbody tr th:only-of-type {\n",
       "        vertical-align: middle;\n",
       "    }\n",
       "\n",
       "    .dataframe tbody tr th {\n",
       "        vertical-align: top;\n",
       "    }\n",
       "\n",
       "    .dataframe thead th {\n",
       "        text-align: right;\n",
       "    }\n",
       "</style>\n",
       "<table border=\"1\" class=\"dataframe\">\n",
       "  <thead>\n",
       "    <tr style=\"text-align: right;\">\n",
       "      <th></th>\n",
       "      <th>id</th>\n",
       "      <th>type</th>\n",
       "      <th>created_at</th>\n",
       "      <th>repo</th>\n",
       "      <th>repo_url</th>\n",
       "      <th>action</th>\n",
       "      <th>title</th>\n",
       "      <th>labels</th>\n",
       "      <th>body</th>\n",
       "    </tr>\n",
       "  </thead>\n",
       "  <tbody>\n",
       "    <tr>\n",
       "      <th>0</th>\n",
       "      <td>1.675120e+10</td>\n",
       "      <td>IssuesEvent</td>\n",
       "      <td>2021-06-12 00:00:03</td>\n",
       "      <td>SFDO-Tooling/CumulusCI</td>\n",
       "      <td>https://api.github.com/repos/SFDO-Tooling/Cumu...</td>\n",
       "      <td>closed</td>\n",
       "      <td>Add installation info section to release notes</td>\n",
       "      <td>enhancement</td>\n",
       "      <td>Currently we generate release notes and then m...</td>\n",
       "    </tr>\n",
       "    <tr>\n",
       "      <th>1</th>\n",
       "      <td>1.675120e+10</td>\n",
       "      <td>IssuesEvent</td>\n",
       "      <td>2021-06-12 00:00:15</td>\n",
       "      <td>atatkin/milos-uptime</td>\n",
       "      <td>https://api.github.com/repos/atatkin/milos-uptime</td>\n",
       "      <td>closed</td>\n",
       "      <td>🛑 Minted HTTPS is down</td>\n",
       "      <td>minted-https status</td>\n",
       "      <td>In [`03a8446`](https://github.com/atatkin/milo...</td>\n",
       "    </tr>\n",
       "    <tr>\n",
       "      <th>2</th>\n",
       "      <td>1.675120e+10</td>\n",
       "      <td>IssuesEvent</td>\n",
       "      <td>2021-06-12 00:00:21</td>\n",
       "      <td>longturn/freeciv21</td>\n",
       "      <td>https://api.github.com/repos/longturn/freeciv21</td>\n",
       "      <td>closed</td>\n",
       "      <td>Client crashes when trying to load the aviatio...</td>\n",
       "      <td>bug</td>\n",
       "      <td>More specifically, [this version](https://raw....</td>\n",
       "    </tr>\n",
       "    <tr>\n",
       "      <th>3</th>\n",
       "      <td>1.675120e+10</td>\n",
       "      <td>IssuesEvent</td>\n",
       "      <td>2021-06-12 00:00:26</td>\n",
       "      <td>microsoft/vscode</td>\n",
       "      <td>https://api.github.com/repos/microsoft/vscode</td>\n",
       "      <td>closed</td>\n",
       "      <td>Native Notebooks - Changing kernel causes mark...</td>\n",
       "      <td>bug candidate notebook</td>\n",
       "      <td>- VS Code Version: 1.57.0 &amp; 1.57.0-insider\\r\\n...</td>\n",
       "    </tr>\n",
       "    <tr>\n",
       "      <th>4</th>\n",
       "      <td>1.675120e+10</td>\n",
       "      <td>IssuesEvent</td>\n",
       "      <td>2021-06-12 00:00:27</td>\n",
       "      <td>hashicorp/terraform-provider-kubernetes</td>\n",
       "      <td>https://api.github.com/repos/hashicorp/terrafo...</td>\n",
       "      <td>closed</td>\n",
       "      <td>Feature Request: Generate Resources from Kuber...</td>\n",
       "      <td>acknowledged enhancement stale</td>\n",
       "      <td>At this point in time, the terraform provider ...</td>\n",
       "    </tr>\n",
       "    <tr>\n",
       "      <th>...</th>\n",
       "      <td>...</td>\n",
       "      <td>...</td>\n",
       "      <td>...</td>\n",
       "      <td>...</td>\n",
       "      <td>...</td>\n",
       "      <td>...</td>\n",
       "      <td>...</td>\n",
       "      <td>...</td>\n",
       "      <td>...</td>\n",
       "    </tr>\n",
       "    <tr>\n",
       "      <th>796632</th>\n",
       "      <td>1.475140e+10</td>\n",
       "      <td>IssuesEvent</td>\n",
       "      <td>2021-01-08 05:00:49</td>\n",
       "      <td>nvim-treesitter/nvim-treesitter</td>\n",
       "      <td>https://api.github.com/repos/nvim-treesitter/n...</td>\n",
       "      <td>opened</td>\n",
       "      <td>highlighting works as unexpected after attach ...</td>\n",
       "      <td>bug</td>\n",
       "      <td>**Describe the bug**\\r\\nsee reproduce.\\r\\n\\r\\n...</td>\n",
       "    </tr>\n",
       "    <tr>\n",
       "      <th>796633</th>\n",
       "      <td>1.475140e+10</td>\n",
       "      <td>IssuesEvent</td>\n",
       "      <td>2021-01-08 05:00:51</td>\n",
       "      <td>supabase/ui</td>\n",
       "      <td>https://api.github.com/repos/supabase/ui</td>\n",
       "      <td>closed</td>\n",
       "      <td>Input component has an extra grid space y</td>\n",
       "      <td>bug</td>\n",
       "      <td># Bug report\\r\\n\\r\\nI noticed that the Input c...</td>\n",
       "    </tr>\n",
       "    <tr>\n",
       "      <th>796634</th>\n",
       "      <td>1.475140e+10</td>\n",
       "      <td>IssuesEvent</td>\n",
       "      <td>2021-01-08 05:00:51</td>\n",
       "      <td>supabase/ui</td>\n",
       "      <td>https://api.github.com/repos/supabase/ui</td>\n",
       "      <td>closed</td>\n",
       "      <td>Button to support Ref forwarding</td>\n",
       "      <td>enhancement</td>\n",
       "      <td># Feature request\\r\\n\\r\\n## Is your feature re...</td>\n",
       "    </tr>\n",
       "    <tr>\n",
       "      <th>796635</th>\n",
       "      <td>1.475140e+10</td>\n",
       "      <td>IssuesEvent</td>\n",
       "      <td>2021-01-08 05:01:02</td>\n",
       "      <td>tristanjohnson849/card-demo</td>\n",
       "      <td>https://api.github.com/repos/tristanjohnson849...</td>\n",
       "      <td>closed</td>\n",
       "      <td>We need to merge type 1 and type 2</td>\n",
       "      <td>good first issue</td>\n",
       "      <td>This is purely for practice and fun</td>\n",
       "    </tr>\n",
       "    <tr>\n",
       "      <th>796636</th>\n",
       "      <td>1.475140e+10</td>\n",
       "      <td>IssuesEvent</td>\n",
       "      <td>2021-01-08 05:01:04</td>\n",
       "      <td>nushell/nushell</td>\n",
       "      <td>https://api.github.com/repos/nushell/nushell</td>\n",
       "      <td>closed</td>\n",
       "      <td>Release #4 - Nu Scripts</td>\n",
       "      <td>enhancement pri-1</td>\n",
       "      <td># Requirements for Nu scripts\\r\\n- [x] variabl...</td>\n",
       "    </tr>\n",
       "  </tbody>\n",
       "</table>\n",
       "<p>796637 rows × 9 columns</p>\n",
       "</div>"
      ],
      "text/plain": [
       "                  id         type           created_at  \\\n",
       "0       1.675120e+10  IssuesEvent  2021-06-12 00:00:03   \n",
       "1       1.675120e+10  IssuesEvent  2021-06-12 00:00:15   \n",
       "2       1.675120e+10  IssuesEvent  2021-06-12 00:00:21   \n",
       "3       1.675120e+10  IssuesEvent  2021-06-12 00:00:26   \n",
       "4       1.675120e+10  IssuesEvent  2021-06-12 00:00:27   \n",
       "...              ...          ...                  ...   \n",
       "796632  1.475140e+10  IssuesEvent  2021-01-08 05:00:49   \n",
       "796633  1.475140e+10  IssuesEvent  2021-01-08 05:00:51   \n",
       "796634  1.475140e+10  IssuesEvent  2021-01-08 05:00:51   \n",
       "796635  1.475140e+10  IssuesEvent  2021-01-08 05:01:02   \n",
       "796636  1.475140e+10  IssuesEvent  2021-01-08 05:01:04   \n",
       "\n",
       "                                           repo  \\\n",
       "0                        SFDO-Tooling/CumulusCI   \n",
       "1                          atatkin/milos-uptime   \n",
       "2                            longturn/freeciv21   \n",
       "3                              microsoft/vscode   \n",
       "4       hashicorp/terraform-provider-kubernetes   \n",
       "...                                         ...   \n",
       "796632          nvim-treesitter/nvim-treesitter   \n",
       "796633                              supabase/ui   \n",
       "796634                              supabase/ui   \n",
       "796635              tristanjohnson849/card-demo   \n",
       "796636                          nushell/nushell   \n",
       "\n",
       "                                                 repo_url  action  \\\n",
       "0       https://api.github.com/repos/SFDO-Tooling/Cumu...  closed   \n",
       "1       https://api.github.com/repos/atatkin/milos-uptime  closed   \n",
       "2         https://api.github.com/repos/longturn/freeciv21  closed   \n",
       "3           https://api.github.com/repos/microsoft/vscode  closed   \n",
       "4       https://api.github.com/repos/hashicorp/terrafo...  closed   \n",
       "...                                                   ...     ...   \n",
       "796632  https://api.github.com/repos/nvim-treesitter/n...  opened   \n",
       "796633           https://api.github.com/repos/supabase/ui  closed   \n",
       "796634           https://api.github.com/repos/supabase/ui  closed   \n",
       "796635  https://api.github.com/repos/tristanjohnson849...  closed   \n",
       "796636       https://api.github.com/repos/nushell/nushell  closed   \n",
       "\n",
       "                                                    title  \\\n",
       "0          Add installation info section to release notes   \n",
       "1                                  🛑 Minted HTTPS is down   \n",
       "2       Client crashes when trying to load the aviatio...   \n",
       "3       Native Notebooks - Changing kernel causes mark...   \n",
       "4       Feature Request: Generate Resources from Kuber...   \n",
       "...                                                   ...   \n",
       "796632  highlighting works as unexpected after attach ...   \n",
       "796633          Input component has an extra grid space y   \n",
       "796634                   Button to support Ref forwarding   \n",
       "796635                 We need to merge type 1 and type 2   \n",
       "796636                            Release #4 - Nu Scripts   \n",
       "\n",
       "                                labels  \\\n",
       "0                          enhancement   \n",
       "1                  minted-https status   \n",
       "2                                  bug   \n",
       "3               bug candidate notebook   \n",
       "4       acknowledged enhancement stale   \n",
       "...                                ...   \n",
       "796632                             bug   \n",
       "796633                             bug   \n",
       "796634                     enhancement   \n",
       "796635                good first issue   \n",
       "796636               enhancement pri-1   \n",
       "\n",
       "                                                     body  \n",
       "0       Currently we generate release notes and then m...  \n",
       "1       In [`03a8446`](https://github.com/atatkin/milo...  \n",
       "2       More specifically, [this version](https://raw....  \n",
       "3       - VS Code Version: 1.57.0 & 1.57.0-insider\\r\\n...  \n",
       "4       At this point in time, the terraform provider ...  \n",
       "...                                                   ...  \n",
       "796632  **Describe the bug**\\r\\nsee reproduce.\\r\\n\\r\\n...  \n",
       "796633  # Bug report\\r\\n\\r\\nI noticed that the Input c...  \n",
       "796634  # Feature request\\r\\n\\r\\n## Is your feature re...  \n",
       "796635                This is purely for practice and fun  \n",
       "796636  # Requirements for Nu scripts\\r\\n- [x] variabl...  \n",
       "\n",
       "[796637 rows x 9 columns]"
      ]
     },
     "execution_count": 10,
     "metadata": {},
     "output_type": "execute_result"
    }
   ],
   "source": [
    "appended_data"
   ]
  },
  {
   "cell_type": "code",
   "execution_count": 11,
   "metadata": {},
   "outputs": [
    {
     "data": {
      "text/html": [
       "<div>\n",
       "<style scoped>\n",
       "    .dataframe tbody tr th:only-of-type {\n",
       "        vertical-align: middle;\n",
       "    }\n",
       "\n",
       "    .dataframe tbody tr th {\n",
       "        vertical-align: top;\n",
       "    }\n",
       "\n",
       "    .dataframe thead th {\n",
       "        text-align: right;\n",
       "    }\n",
       "</style>\n",
       "<table border=\"1\" class=\"dataframe\">\n",
       "  <thead>\n",
       "    <tr style=\"text-align: right;\">\n",
       "      <th></th>\n",
       "      <th>count</th>\n",
       "    </tr>\n",
       "    <tr>\n",
       "      <th>labels</th>\n",
       "      <th></th>\n",
       "    </tr>\n",
       "  </thead>\n",
       "  <tbody>\n",
       "    <tr>\n",
       "      <th>bug</th>\n",
       "      <td>98108</td>\n",
       "    </tr>\n",
       "    <tr>\n",
       "      <th>enhancement</th>\n",
       "      <td>94219</td>\n",
       "    </tr>\n",
       "    <tr>\n",
       "      <th>security vulnerability</th>\n",
       "      <td>16071</td>\n",
       "    </tr>\n",
       "    <tr>\n",
       "      <th>question</th>\n",
       "      <td>13304</td>\n",
       "    </tr>\n",
       "    <tr>\n",
       "      <th>documentation</th>\n",
       "      <td>10017</td>\n",
       "    </tr>\n",
       "    <tr>\n",
       "      <th>feature</th>\n",
       "      <td>6763</td>\n",
       "    </tr>\n",
       "    <tr>\n",
       "      <th>Bug</th>\n",
       "      <td>5836</td>\n",
       "    </tr>\n",
       "    <tr>\n",
       "      <th>monika status</th>\n",
       "      <td>5652</td>\n",
       "    </tr>\n",
       "    <tr>\n",
       "      <th>watchout</th>\n",
       "      <td>4382</td>\n",
       "    </tr>\n",
       "    <tr>\n",
       "      <th>stale</th>\n",
       "      <td>3876</td>\n",
       "    </tr>\n",
       "    <tr>\n",
       "      <th>wontfix</th>\n",
       "      <td>3608</td>\n",
       "    </tr>\n",
       "    <tr>\n",
       "      <th>help wanted</th>\n",
       "      <td>3370</td>\n",
       "    </tr>\n",
       "    <tr>\n",
       "      <th>action-needsmoderation</th>\n",
       "      <td>3292</td>\n",
       "    </tr>\n",
       "    <tr>\n",
       "      <th>good first issue</th>\n",
       "      <td>3169</td>\n",
       "    </tr>\n",
       "    <tr>\n",
       "      <th>signature</th>\n",
       "      <td>2999</td>\n",
       "    </tr>\n",
       "    <tr>\n",
       "      <th>alert:boom: environment/moc/zero</th>\n",
       "      <td>2979</td>\n",
       "    </tr>\n",
       "    <tr>\n",
       "      <th>Stale</th>\n",
       "      <td>2814</td>\n",
       "    </tr>\n",
       "    <tr>\n",
       "      <th>alert:boom: environment/moc/zero resolved</th>\n",
       "      <td>2798</td>\n",
       "    </tr>\n",
       "    <tr>\n",
       "      <th>invalid</th>\n",
       "      <td>2497</td>\n",
       "    </tr>\n",
       "    <tr>\n",
       "      <th>feature request</th>\n",
       "      <td>2373</td>\n",
       "    </tr>\n",
       "    <tr>\n",
       "      <th>kind/bug</th>\n",
       "      <td>2263</td>\n",
       "    </tr>\n",
       "    <tr>\n",
       "      <th>enhancement good first issue</th>\n",
       "      <td>2183</td>\n",
       "    </tr>\n",
       "    <tr>\n",
       "      <th>fetched</th>\n",
       "      <td>1770</td>\n",
       "    </tr>\n",
       "    <tr>\n",
       "      <th>enhancement help wanted</th>\n",
       "      <td>1731</td>\n",
       "    </tr>\n",
       "    <tr>\n",
       "      <th>license policy violation</th>\n",
       "      <td>1713</td>\n",
       "    </tr>\n",
       "    <tr>\n",
       "      <th>task</th>\n",
       "      <td>1692</td>\n",
       "    </tr>\n",
       "    <tr>\n",
       "      <th>AssignTo1 House: Hufflepuff</th>\n",
       "      <td>1687</td>\n",
       "    </tr>\n",
       "    <tr>\n",
       "      <th>no-issue-activity</th>\n",
       "      <td>1531</td>\n",
       "    </tr>\n",
       "    <tr>\n",
       "      <th>bug enhancement</th>\n",
       "      <td>1502</td>\n",
       "    </tr>\n",
       "    <tr>\n",
       "      <th>type: bug</th>\n",
       "      <td>1486</td>\n",
       "    </tr>\n",
       "    <tr>\n",
       "      <th>House: Slytherin Needs: Author Feedback</th>\n",
       "      <td>1480</td>\n",
       "    </tr>\n",
       "    <tr>\n",
       "      <th>House: Gryffindor Needs: Attention :wave:</th>\n",
       "      <td>1480</td>\n",
       "    </tr>\n",
       "    <tr>\n",
       "      <th>Type: Bug</th>\n",
       "      <td>1358</td>\n",
       "    </tr>\n",
       "    <tr>\n",
       "      <th>fresh tiny</th>\n",
       "      <td>1342</td>\n",
       "    </tr>\n",
       "    <tr>\n",
       "      <th>documentation enhancement</th>\n",
       "      <td>1316</td>\n",
       "    </tr>\n",
       "    <tr>\n",
       "      <th>Needs: Triage :mag:</th>\n",
       "      <td>1297</td>\n",
       "    </tr>\n",
       "    <tr>\n",
       "      <th>Enhancement</th>\n",
       "      <td>1260</td>\n",
       "    </tr>\n",
       "    <tr>\n",
       "      <th>frontend</th>\n",
       "      <td>1216</td>\n",
       "    </tr>\n",
       "    <tr>\n",
       "      <th>duplicate</th>\n",
       "      <td>1139</td>\n",
       "    </tr>\n",
       "    <tr>\n",
       "      <th>type/bug</th>\n",
       "      <td>1064</td>\n",
       "    </tr>\n",
       "    <tr>\n",
       "      <th>orkut status</th>\n",
       "      <td>1024</td>\n",
       "    </tr>\n",
       "    <tr>\n",
       "      <th>severity.Medium type.FunctionalityBug</th>\n",
       "      <td>1001</td>\n",
       "    </tr>\n",
       "    <tr>\n",
       "      <th>action-needsmoderation browser-fixme</th>\n",
       "      <td>997</td>\n",
       "    </tr>\n",
       "    <tr>\n",
       "      <th>bug help wanted</th>\n",
       "      <td>992</td>\n",
       "    </tr>\n",
       "    <tr>\n",
       "      <th>harmony-bot-website status</th>\n",
       "      <td>986</td>\n",
       "    </tr>\n",
       "    <tr>\n",
       "      <th>backend</th>\n",
       "      <td>966</td>\n",
       "    </tr>\n",
       "    <tr>\n",
       "      <th>ryanjie-google status</th>\n",
       "      <td>950</td>\n",
       "    </tr>\n",
       "    <tr>\n",
       "      <th>new feature</th>\n",
       "      <td>935</td>\n",
       "    </tr>\n",
       "    <tr>\n",
       "      <th>bug good first issue</th>\n",
       "      <td>895</td>\n",
       "    </tr>\n",
       "    <tr>\n",
       "      <th>Feature</th>\n",
       "      <td>863</td>\n",
       "    </tr>\n",
       "  </tbody>\n",
       "</table>\n",
       "</div>"
      ],
      "text/plain": [
       "                                           count\n",
       "labels                                          \n",
       "bug                                        98108\n",
       "enhancement                                94219\n",
       "security vulnerability                     16071\n",
       "question                                   13304\n",
       "documentation                              10017\n",
       "feature                                     6763\n",
       "Bug                                         5836\n",
       "monika status                               5652\n",
       "watchout                                    4382\n",
       "stale                                       3876\n",
       "wontfix                                     3608\n",
       "help wanted                                 3370\n",
       "action-needsmoderation                      3292\n",
       "good first issue                            3169\n",
       "signature                                   2999\n",
       "alert:boom: environment/moc/zero            2979\n",
       "Stale                                       2814\n",
       "alert:boom: environment/moc/zero resolved   2798\n",
       "invalid                                     2497\n",
       "feature request                             2373\n",
       "kind/bug                                    2263\n",
       "enhancement good first issue                2183\n",
       "fetched                                     1770\n",
       "enhancement help wanted                     1731\n",
       "license policy violation                    1713\n",
       "task                                        1692\n",
       "AssignTo1 House: Hufflepuff                 1687\n",
       "no-issue-activity                           1531\n",
       "bug enhancement                             1502\n",
       "type: bug                                   1486\n",
       "House: Slytherin Needs: Author Feedback     1480\n",
       "House: Gryffindor Needs: Attention :wave:   1480\n",
       "Type: Bug                                   1358\n",
       "fresh tiny                                  1342\n",
       "documentation enhancement                   1316\n",
       "Needs: Triage :mag:                         1297\n",
       "Enhancement                                 1260\n",
       "frontend                                    1216\n",
       "duplicate                                   1139\n",
       "type/bug                                    1064\n",
       "orkut status                                1024\n",
       "severity.Medium type.FunctionalityBug       1001\n",
       "action-needsmoderation browser-fixme         997\n",
       "bug help wanted                              992\n",
       "harmony-bot-website status                   986\n",
       "backend                                      966\n",
       "ryanjie-google status                        950\n",
       "new feature                                  935\n",
       "bug good first issue                         895\n",
       "Feature                                      863"
      ]
     },
     "execution_count": 11,
     "metadata": {},
     "output_type": "execute_result"
    }
   ],
   "source": [
    "appended_data.labels.value_counts().to_frame()[:50]"
   ]
  },
  {
   "cell_type": "code",
   "execution_count": 12,
   "metadata": {},
   "outputs": [],
   "source": [
    "# Convert to csv\n",
    "data_to_csv = f\"csv/final_{file_name}_dataset.csv\"\n",
    "appended_data.to_csv(data_to_csv)# type: ignore"
   ]
  }
 ],
 "metadata": {
  "kernelspec": {
   "display_name": "Python 3",
   "language": "python",
   "name": "python3"
  },
  "language_info": {
   "codemirror_mode": {
    "name": "ipython",
    "version": 3
   },
   "file_extension": ".py",
   "mimetype": "text/x-python",
   "name": "python",
   "nbconvert_exporter": "python",
   "pygments_lexer": "ipython3",
   "version": "3.11.5"
  },
  "vscode": {
   "interpreter": {
    "hash": "a64f21293159cd9c4e596ef7fd6c17a9c99d13712885c299cb3370e7a4d97830"
   }
  }
 },
 "nbformat": 4,
 "nbformat_minor": 4
}
