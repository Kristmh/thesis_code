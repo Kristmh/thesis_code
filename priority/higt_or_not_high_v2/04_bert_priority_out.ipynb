{
 "cells": [
  {
   "cell_type": "markdown",
   "id": "f89275a9",
   "metadata": {
    "papermill": {
     "duration": 0.065252,
     "end_time": "2023-11-22T15:59:40.286487",
     "exception": false,
     "start_time": "2023-11-22T15:59:40.221235",
     "status": "completed"
    },
    "tags": []
   },
   "source": [
    "# Importsand preparations"
   ]
  },
  {
   "cell_type": "code",
   "execution_count": 1,
   "id": "d3d342db",
   "metadata": {
    "execution": {
     "iopub.execute_input": "2023-11-22T15:59:40.458547Z",
     "iopub.status.busy": "2023-11-22T15:59:40.458206Z",
     "iopub.status.idle": "2023-11-22T15:59:48.398616Z",
     "shell.execute_reply": "2023-11-22T15:59:48.397629Z"
    },
    "papermill": {
     "duration": 8.039582,
     "end_time": "2023-11-22T15:59:48.402576",
     "exception": false,
     "start_time": "2023-11-22T15:59:40.362994",
     "status": "completed"
    },
    "tags": []
   },
   "outputs": [],
   "source": [
    "import pandas as pd\n",
    "import torch\n",
    "import os\n",
    "import numpy as np\n",
    "import datasets\n",
    "import transformers\n",
    "from GPUtil import showUtilization as gpu_usage\n",
    "from numba import cuda\n",
    "import torch.nn.functional as F\n",
    "\n",
    "from sklearn.metrics import accuracy_score, precision_recall_fscore_support\n",
    "from transformers import (\n",
    "    AutoModelForSequenceClassification,\n",
    "    AutoTokenizer,\n",
    "    Trainer,\n",
    "    TrainingArguments,\n",
    ")\n",
    "\n",
    "from datasets import load_dataset, Dataset, DatasetDict"
   ]
  },
  {
   "cell_type": "code",
   "execution_count": 2,
   "id": "13b3abce",
   "metadata": {
    "execution": {
     "iopub.execute_input": "2023-11-22T15:59:48.561124Z",
     "iopub.status.busy": "2023-11-22T15:59:48.560488Z",
     "iopub.status.idle": "2023-11-22T15:59:48.567604Z",
     "shell.execute_reply": "2023-11-22T15:59:48.566922Z"
    },
    "papermill": {
     "duration": 0.066283,
     "end_time": "2023-11-22T15:59:48.568880",
     "exception": false,
     "start_time": "2023-11-22T15:59:48.502597",
     "status": "completed"
    },
    "tags": []
   },
   "outputs": [],
   "source": [
    "# !watch -n 0.5 nvidia-smi"
   ]
  },
  {
   "cell_type": "code",
   "execution_count": 3,
   "id": "6579d707",
   "metadata": {
    "execution": {
     "iopub.execute_input": "2023-11-22T15:59:48.728465Z",
     "iopub.status.busy": "2023-11-22T15:59:48.728156Z",
     "iopub.status.idle": "2023-11-22T15:59:48.859061Z",
     "shell.execute_reply": "2023-11-22T15:59:48.857845Z"
    },
    "papermill": {
     "duration": 0.219236,
     "end_time": "2023-11-22T15:59:48.860175",
     "exception": false,
     "start_time": "2023-11-22T15:59:48.640939",
     "status": "completed"
    },
    "tags": []
   },
   "outputs": [
    {
     "name": "stdout",
     "output_type": "stream",
     "text": [
      "PyTorch version: 2.0.1+cu117\n",
      "CUDA version: 11.7\n",
      "cuDNN version: 8500\n",
      "Current device: 0\n",
      "Is cuda available: True\n"
     ]
    }
   ],
   "source": [
    "print(f'PyTorch version: {torch.__version__}')  # 1.9.1+cu111\n",
    "print(f'CUDA version: {torch.version.cuda}')  # 11.1\n",
    "print(f'cuDNN version: {torch.backends.cudnn.version()}')  # 8005\n",
    "print(f'Current device: {torch.cuda.current_device()}')  # 0\n",
    "print(f'Is cuda available: {torch.cuda.is_available()}')  # TRUE"
   ]
  },
  {
   "cell_type": "code",
   "execution_count": 4,
   "id": "30504d49",
   "metadata": {
    "execution": {
     "iopub.execute_input": "2023-11-22T15:59:48.992532Z",
     "iopub.status.busy": "2023-11-22T15:59:48.992162Z",
     "iopub.status.idle": "2023-11-22T15:59:48.996407Z",
     "shell.execute_reply": "2023-11-22T15:59:48.995650Z"
    },
    "papermill": {
     "duration": 0.072873,
     "end_time": "2023-11-22T15:59:48.997577",
     "exception": false,
     "start_time": "2023-11-22T15:59:48.924704",
     "status": "completed"
    },
    "tags": []
   },
   "outputs": [
    {
     "name": "stdout",
     "output_type": "stream",
     "text": [
      "Transformers version: 4.32.1\n",
      "Datasets version: 2.14.4\n"
     ]
    }
   ],
   "source": [
    "print(f'Transformers version: {transformers.__version__}')\n",
    "print(f'Datasets version: {datasets.__version__}')"
   ]
  },
  {
   "cell_type": "code",
   "execution_count": 5,
   "id": "1f96c096",
   "metadata": {
    "execution": {
     "iopub.execute_input": "2023-11-22T15:59:49.112560Z",
     "iopub.status.busy": "2023-11-22T15:59:49.112276Z",
     "iopub.status.idle": "2023-11-22T15:59:49.115227Z",
     "shell.execute_reply": "2023-11-22T15:59:49.114717Z"
    },
    "papermill": {
     "duration": 0.054711,
     "end_time": "2023-11-22T15:59:49.116531",
     "exception": false,
     "start_time": "2023-11-22T15:59:49.061820",
     "status": "completed"
    },
    "tags": []
   },
   "outputs": [],
   "source": [
    "# Prevent a warning related to the tokenization process in the transformers library. \n",
    "os.environ[\"TOKENIZERS_PARALLELISM\"] = \"False\"\n",
    "# Makes CUDA operations synchronous\n",
    "os.environ[\"CUDA_LAUNCH_BLOCKING\"] = \"1\""
   ]
  },
  {
   "cell_type": "code",
   "execution_count": 6,
   "id": "855ee0e4",
   "metadata": {
    "execution": {
     "iopub.execute_input": "2023-11-22T15:59:49.260963Z",
     "iopub.status.busy": "2023-11-22T15:59:49.260669Z",
     "iopub.status.idle": "2023-11-22T15:59:49.642022Z",
     "shell.execute_reply": "2023-11-22T15:59:49.641377Z"
    },
    "papermill": {
     "duration": 0.457591,
     "end_time": "2023-11-22T15:59:49.643542",
     "exception": false,
     "start_time": "2023-11-22T15:59:49.185951",
     "status": "completed"
    },
    "tags": []
   },
   "outputs": [
    {
     "name": "stdout",
     "output_type": "stream",
     "text": [
      "Wed Nov 22 16:59:49 2023       \r\n",
      "+---------------------------------------------------------------------------------------+\r\n",
      "| NVIDIA-SMI 530.30.02              Driver Version: 530.30.02    CUDA Version: 12.1     |\r\n",
      "|-----------------------------------------+----------------------+----------------------+\r\n",
      "| GPU  Name                  Persistence-M| Bus-Id        Disp.A | Volatile Uncorr. ECC |\r\n",
      "| Fan  Temp  Perf            Pwr:Usage/Cap|         Memory-Usage | GPU-Util  Compute M. |\r\n",
      "|                                         |                      |               MIG M. |\r\n",
      "|=========================================+======================+======================|\r\n",
      "|   0  NVIDIA GeForce RTX 2080 Ti      On | 00000000:01:00.0 Off |                  N/A |\r\n",
      "| 28%   50C    P2               81W / 250W|   2367MiB / 11264MiB |     29%      Default |\r\n",
      "|                                         |                      |                  N/A |\r\n",
      "+-----------------------------------------+----------------------+----------------------+\r\n",
      "|   1  NVIDIA GeForce RTX 2080 Ti      On | 00000000:23:00.0 Off |                  N/A |\r\n",
      "| 44%   71C    P2              232W / 250W|  10431MiB / 11264MiB |    100%      Default |\r\n",
      "|                                         |                      |                  N/A |\r\n",
      "+-----------------------------------------+----------------------+----------------------+\r\n",
      "|   2  NVIDIA GeForce RTX 2080 Ti      On | 00000000:41:00.0 Off |                  N/A |\r\n",
      "| 45%   72C    P2              168W / 250W|  10431MiB / 11264MiB |    100%      Default |\r\n",
      "|                                         |                      |                  N/A |\r\n",
      "+-----------------------------------------+----------------------+----------------------+\r\n",
      "|   3  NVIDIA GeForce RTX 2080 Ti      On | 00000000:61:00.0 Off |                  N/A |\r\n",
      "| 38%   62C    P2              241W / 250W|  10431MiB / 11264MiB |    100%      Default |\r\n",
      "|                                         |                      |                  N/A |\r\n",
      "+-----------------------------------------+----------------------+----------------------+\r\n",
      "|   4  NVIDIA GeForce RTX 2080 Ti      On | 00000000:81:00.0 Off |                  N/A |\r\n",
      "| 25%   45C    P2               52W / 250W|   1307MiB / 11264MiB |      0%      Default |\r\n",
      "|                                         |                      |                  N/A |\r\n",
      "+-----------------------------------------+----------------------+----------------------+\r\n",
      "|   5  NVIDIA GeForce RTX 2080 Ti      On | 00000000:A1:00.0 Off |                  N/A |\r\n",
      "| 41%   69C    P2              242W / 250W|   3641MiB / 11264MiB |     93%      Default |\r\n",
      "|                                         |                      |                  N/A |\r\n",
      "+-----------------------------------------+----------------------+----------------------+\r\n"
     ]
    },
    {
     "name": "stdout",
     "output_type": "stream",
     "text": [
      "|   6  NVIDIA GeForce RTX 2080 Ti      On | 00000000:C1:00.0 Off |                  N/A |\r\n",
      "| 40%   67C    P2              241W / 250W|   3641MiB / 11264MiB |     46%      Default |\r\n",
      "|                                         |                      |                  N/A |\r\n",
      "+-----------------------------------------+----------------------+----------------------+\r\n",
      "|   7  NVIDIA GeForce RTX 2080 Ti      On | 00000000:E1:00.0 Off |                  N/A |\r\n",
      "| 41%   67C    P2              188W / 250W|  10431MiB / 11264MiB |    100%      Default |\r\n",
      "|                                         |                      |                  N/A |\r\n",
      "+-----------------------------------------+----------------------+----------------------+\r\n",
      "                                                                                         \r\n",
      "+---------------------------------------------------------------------------------------+\r\n",
      "| Processes:                                                                            |\r\n",
      "|  GPU   GI   CI        PID   Type   Process name                            GPU Memory |\r\n",
      "|        ID   ID                                                             Usage      |\r\n",
      "|=======================================================================================|\r\n",
      "|    0   N/A  N/A   2841103      C   python                                     1418MiB |\r\n",
      "|    1   N/A  N/A   1390515      C   ...ml/home/limeng/torch_env/bin/python    10424MiB |\r\n",
      "|    2   N/A  N/A   1390516      C   ...ml/home/limeng/torch_env/bin/python    10424MiB |\r\n",
      "|    3   N/A  N/A   1390517      C   ...ml/home/limeng/torch_env/bin/python    10424MiB |\r\n",
      "|    5   N/A  N/A   2022916      C   python3                                    3636MiB |\r\n"
     ]
    },
    {
     "name": "stdout",
     "output_type": "stream",
     "text": [
      "|    6   N/A  N/A   2025669      C   python3                                    3636MiB |\r\n",
      "|    7   N/A  N/A   1390518      C   ...ml/home/limeng/torch_env/bin/python    10424MiB |\r\n",
      "+---------------------------------------------------------------------------------------+\r\n"
     ]
    }
   ],
   "source": [
    "# Find the GPU with the least memory usage.\n",
    "!nvidia-smi"
   ]
  },
  {
   "cell_type": "code",
   "execution_count": 7,
   "id": "c72ee9e8",
   "metadata": {
    "execution": {
     "iopub.execute_input": "2023-11-22T15:59:49.808462Z",
     "iopub.status.busy": "2023-11-22T15:59:49.808056Z",
     "iopub.status.idle": "2023-11-22T15:59:50.558489Z",
     "shell.execute_reply": "2023-11-22T15:59:50.557688Z"
    },
    "papermill": {
     "duration": 0.816098,
     "end_time": "2023-11-22T15:59:50.560335",
     "exception": false,
     "start_time": "2023-11-22T15:59:49.744237",
     "status": "completed"
    },
    "tags": []
   },
   "outputs": [
    {
     "name": "stdout",
     "output_type": "stream",
     "text": [
      "Initial GPU Usage\n",
      "| ID | GPU  | MEM |\n",
      "-------------------\n",
      "|  0 |  29% | 21% |\n",
      "|  1 | 100% | 93% |\n",
      "|  2 | 100% | 93% |\n",
      "|  3 | 100% | 93% |\n",
      "|  4 |   0% | 12% |\n",
      "|  5 |  92% | 32% |\n",
      "|  6 |  46% | 32% |\n",
      "|  7 |  99% | 93% |\n"
     ]
    },
    {
     "name": "stdout",
     "output_type": "stream",
     "text": [
      "GPU Usage after emptying the cache\n",
      "| ID | GPU  | MEM |\n",
      "-------------------\n",
      "|  0 |  31% | 22% |\n",
      "|  1 |  99% | 93% |\n",
      "|  2 | 100% | 93% |\n",
      "|  3 | 100% | 93% |\n",
      "|  4 |   0% | 12% |\n",
      "|  5 |  92% | 32% |\n",
      "|  6 |  91% | 32% |\n",
      "|  7 |  99% | 93% |\n"
     ]
    }
   ],
   "source": [
    "def free_gpu_cache():\n",
    "    print(\"Initial GPU Usage\")\n",
    "    gpu_usage()                             \n",
    "\n",
    "    # free unreferenced tensors from the GPU memory.\n",
    "    torch.cuda.empty_cache()\n",
    "\n",
    "    cuda.select_device(0)\n",
    "    cuda.close()\n",
    "    cuda.select_device(0)\n",
    "\n",
    "    print(\"GPU Usage after emptying the cache\")\n",
    "    gpu_usage()\n",
    "\n",
    "free_gpu_cache()   "
   ]
  },
  {
   "cell_type": "code",
   "execution_count": 8,
   "id": "9bc89bc2",
   "metadata": {
    "execution": {
     "iopub.execute_input": "2023-11-22T15:59:50.755755Z",
     "iopub.status.busy": "2023-11-22T15:59:50.754665Z",
     "iopub.status.idle": "2023-11-22T15:59:57.143415Z",
     "shell.execute_reply": "2023-11-22T15:59:57.142657Z"
    },
    "papermill": {
     "duration": 6.480342,
     "end_time": "2023-11-22T15:59:57.144798",
     "exception": false,
     "start_time": "2023-11-22T15:59:50.664456",
     "status": "completed"
    },
    "tags": []
   },
   "outputs": [
    {
     "data": {
      "text/html": [
       "<div>\n",
       "<style scoped>\n",
       "    .dataframe tbody tr th:only-of-type {\n",
       "        vertical-align: middle;\n",
       "    }\n",
       "\n",
       "    .dataframe tbody tr th {\n",
       "        vertical-align: top;\n",
       "    }\n",
       "\n",
       "    .dataframe thead th {\n",
       "        text-align: right;\n",
       "    }\n",
       "</style>\n",
       "<table border=\"1\" class=\"dataframe\">\n",
       "  <thead>\n",
       "    <tr style=\"text-align: right;\">\n",
       "      <th></th>\n",
       "      <th>text_clean</th>\n",
       "      <th>label</th>\n",
       "    </tr>\n",
       "  </thead>\n",
       "  <tbody>\n",
       "    <tr>\n",
       "      <th>0</th>\n",
       "      <td>is your feature request related to a problem p...</td>\n",
       "      <td>0</td>\n",
       "    </tr>\n",
       "    <tr>\n",
       "      <th>1</th>\n",
       "      <td>implement an android image picker to browse im...</td>\n",
       "      <td>0</td>\n",
       "    </tr>\n",
       "    <tr>\n",
       "      <th>2</th>\n",
       "      <td>when a video is not playing hover should displ...</td>\n",
       "      <td>0</td>\n",
       "    </tr>\n",
       "    <tr>\n",
       "      <th>3</th>\n",
       "      <td>description escape shuttle accelerates faster ...</td>\n",
       "      <td>0</td>\n",
       "    </tr>\n",
       "    <tr>\n",
       "      <th>4</th>\n",
       "      <td>httpsnotebooksgesisorgbinderjupyteruserrussted...</td>\n",
       "      <td>0</td>\n",
       "    </tr>\n",
       "    <tr>\n",
       "      <th>...</th>\n",
       "      <td>...</td>\n",
       "      <td>...</td>\n",
       "    </tr>\n",
       "    <tr>\n",
       "      <th>444474</th>\n",
       "      <td>cve202024977 medium severity vulnerability det...</td>\n",
       "      <td>1</td>\n",
       "    </tr>\n",
       "    <tr>\n",
       "      <th>444475</th>\n",
       "      <td>tags javascript css php html sql css php html ...</td>\n",
       "      <td>1</td>\n",
       "    </tr>\n",
       "    <tr>\n",
       "      <th>444476</th>\n",
       "      <td>we can access a specific tflite model through ...</td>\n",
       "      <td>1</td>\n",
       "    </tr>\n",
       "    <tr>\n",
       "      <th>444477</th>\n",
       "      <td>autotuneclientregistermodels should be autotun...</td>\n",
       "      <td>1</td>\n",
       "    </tr>\n",
       "    <tr>\n",
       "      <th>444478</th>\n",
       "      <td>issue description shadows have strong magenta ...</td>\n",
       "      <td>1</td>\n",
       "    </tr>\n",
       "  </tbody>\n",
       "</table>\n",
       "<p>444479 rows × 2 columns</p>\n",
       "</div>"
      ],
      "text/plain": [
       "                                               text_clean  label\n",
       "0       is your feature request related to a problem p...      0\n",
       "1       implement an android image picker to browse im...      0\n",
       "2       when a video is not playing hover should displ...      0\n",
       "3       description escape shuttle accelerates faster ...      0\n",
       "4       httpsnotebooksgesisorgbinderjupyteruserrussted...      0\n",
       "...                                                   ...    ...\n",
       "444474  cve202024977 medium severity vulnerability det...      1\n",
       "444475  tags javascript css php html sql css php html ...      1\n",
       "444476  we can access a specific tflite model through ...      1\n",
       "444477  autotuneclientregistermodels should be autotun...      1\n",
       "444478  issue description shadows have strong magenta ...      1\n",
       "\n",
       "[444479 rows x 2 columns]"
      ]
     },
     "execution_count": 8,
     "metadata": {},
     "output_type": "execute_result"
    }
   ],
   "source": [
    "data = pd.read_csv(\"csv/priority_high_low_clean.csv\" , index_col = 0)\n",
    "data"
   ]
  },
  {
   "cell_type": "code",
   "execution_count": 9,
   "id": "f26fa5fc",
   "metadata": {
    "execution": {
     "iopub.execute_input": "2023-11-22T15:59:57.288475Z",
     "iopub.status.busy": "2023-11-22T15:59:57.288163Z",
     "iopub.status.idle": "2023-11-22T15:59:57.311862Z",
     "shell.execute_reply": "2023-11-22T15:59:57.310054Z"
    },
    "papermill": {
     "duration": 0.11211,
     "end_time": "2023-11-22T15:59:57.313180",
     "exception": false,
     "start_time": "2023-11-22T15:59:57.201070",
     "status": "completed"
    },
    "tags": []
   },
   "outputs": [],
   "source": [
    "# Smaller and faster than bert.\n",
    "base_model_id = \"distilbert-base-uncased\"\n",
    "\n",
    "epochs = 5 #Number of full cyles through the training set.\n",
    "num_labels = 2 #Number of labels, high, med, low priority.\n",
    "learning_rate = 5e-5 # Rate the model updates based on the data its trained on.\n",
    "train_batch_size = 16 # Number of training examples in one iteration.\n",
    "eval_batch_size = 32 # Number evalutaion examples in on iteratoion.\n",
    "save_strategy = \"no\" # Should the model be saved automatically during training.\n",
    "save_steps = 500 # How often to save the model during training. No effect since no over.\n",
    "logging_steps = 100\n",
    "model_dir = \"./model\" #Where to save model\n",
    "\n",
    "# Use early stopping to prevent overfitting\n",
    "#load_best_model_at_end=True\n",
    "#metric_for_best_model=\"eval_loss\"\n",
    "#greater_is_better=False"
   ]
  },
  {
   "cell_type": "code",
   "execution_count": 10,
   "id": "c48ccefc",
   "metadata": {
    "execution": {
     "iopub.execute_input": "2023-11-22T15:59:57.505179Z",
     "iopub.status.busy": "2023-11-22T15:59:57.504896Z",
     "iopub.status.idle": "2023-11-22T15:59:57.509079Z",
     "shell.execute_reply": "2023-11-22T15:59:57.508596Z"
    },
    "papermill": {
     "duration": 0.106445,
     "end_time": "2023-11-22T15:59:57.510775",
     "exception": false,
     "start_time": "2023-11-22T15:59:57.404330",
     "status": "completed"
    },
    "tags": []
   },
   "outputs": [],
   "source": [
    "\n",
    "# Split dataframe into three parts: training, validation and testing.\n",
    "def train_validate_test_split(df, train_percent=.8, validate_percent=.1, seed=42):\n",
    "    np.random.seed(seed)\n",
    "    # Shuffle index of dataframe\n",
    "    perm = np.random.permutation(df.index)\n",
    "    \n",
    "    df_length = len(df.index)\n",
    "    \n",
    "    # Number of row in training set\n",
    "    train_end = int(train_percent * df_length)\n",
    "    # Number of rows in validate set\n",
    "    validate_end = int(validate_percent * df_length) + train_end\n",
    "    \n",
    "    # From start to train end\n",
    "    train = df.iloc[perm[:train_end]]\n",
    "    # From train_end to validate_end\n",
    "    validate = df.iloc[perm[train_end:validate_end]]\n",
    "    # From validate to the last row in dataframe.\n",
    "    test = df.iloc[perm[validate_end:]]\n",
    "    return train, validate, test"
   ]
  },
  {
   "cell_type": "code",
   "execution_count": 11,
   "id": "830cb234",
   "metadata": {
    "execution": {
     "iopub.execute_input": "2023-11-22T15:59:57.695844Z",
     "iopub.status.busy": "2023-11-22T15:59:57.695567Z",
     "iopub.status.idle": "2023-11-22T15:59:57.815342Z",
     "shell.execute_reply": "2023-11-22T15:59:57.814630Z"
    },
    "papermill": {
     "duration": 0.197882,
     "end_time": "2023-11-22T15:59:57.817223",
     "exception": false,
     "start_time": "2023-11-22T15:59:57.619341",
     "status": "completed"
    },
    "tags": []
   },
   "outputs": [],
   "source": [
    "# Drops rows with missing values\n",
    "data.dropna(inplace=True)"
   ]
  },
  {
   "cell_type": "code",
   "execution_count": 12,
   "id": "365a025e",
   "metadata": {
    "execution": {
     "iopub.execute_input": "2023-11-22T15:59:57.983617Z",
     "iopub.status.busy": "2023-11-22T15:59:57.983288Z",
     "iopub.status.idle": "2023-11-22T15:59:57.994091Z",
     "shell.execute_reply": "2023-11-22T15:59:57.993385Z"
    },
    "papermill": {
     "duration": 0.089395,
     "end_time": "2023-11-22T15:59:57.995431",
     "exception": false,
     "start_time": "2023-11-22T15:59:57.906036",
     "status": "completed"
    },
    "tags": []
   },
   "outputs": [
    {
     "data": {
      "text/html": [
       "<div>\n",
       "<style scoped>\n",
       "    .dataframe tbody tr th:only-of-type {\n",
       "        vertical-align: middle;\n",
       "    }\n",
       "\n",
       "    .dataframe tbody tr th {\n",
       "        vertical-align: top;\n",
       "    }\n",
       "\n",
       "    .dataframe thead th {\n",
       "        text-align: right;\n",
       "    }\n",
       "</style>\n",
       "<table border=\"1\" class=\"dataframe\">\n",
       "  <thead>\n",
       "    <tr style=\"text-align: right;\">\n",
       "      <th></th>\n",
       "      <th>index</th>\n",
       "      <th>text_clean</th>\n",
       "      <th>label</th>\n",
       "    </tr>\n",
       "  </thead>\n",
       "  <tbody>\n",
       "    <tr>\n",
       "      <th>0</th>\n",
       "      <td>0</td>\n",
       "      <td>is your feature request related to a problem p...</td>\n",
       "      <td>0</td>\n",
       "    </tr>\n",
       "    <tr>\n",
       "      <th>1</th>\n",
       "      <td>1</td>\n",
       "      <td>implement an android image picker to browse im...</td>\n",
       "      <td>0</td>\n",
       "    </tr>\n",
       "    <tr>\n",
       "      <th>2</th>\n",
       "      <td>2</td>\n",
       "      <td>when a video is not playing hover should displ...</td>\n",
       "      <td>0</td>\n",
       "    </tr>\n",
       "    <tr>\n",
       "      <th>3</th>\n",
       "      <td>3</td>\n",
       "      <td>description escape shuttle accelerates faster ...</td>\n",
       "      <td>0</td>\n",
       "    </tr>\n",
       "    <tr>\n",
       "      <th>4</th>\n",
       "      <td>4</td>\n",
       "      <td>httpsnotebooksgesisorgbinderjupyteruserrussted...</td>\n",
       "      <td>0</td>\n",
       "    </tr>\n",
       "    <tr>\n",
       "      <th>...</th>\n",
       "      <td>...</td>\n",
       "      <td>...</td>\n",
       "      <td>...</td>\n",
       "    </tr>\n",
       "    <tr>\n",
       "      <th>444474</th>\n",
       "      <td>444474</td>\n",
       "      <td>cve202024977 medium severity vulnerability det...</td>\n",
       "      <td>1</td>\n",
       "    </tr>\n",
       "    <tr>\n",
       "      <th>444475</th>\n",
       "      <td>444475</td>\n",
       "      <td>tags javascript css php html sql css php html ...</td>\n",
       "      <td>1</td>\n",
       "    </tr>\n",
       "    <tr>\n",
       "      <th>444476</th>\n",
       "      <td>444476</td>\n",
       "      <td>we can access a specific tflite model through ...</td>\n",
       "      <td>1</td>\n",
       "    </tr>\n",
       "    <tr>\n",
       "      <th>444477</th>\n",
       "      <td>444477</td>\n",
       "      <td>autotuneclientregistermodels should be autotun...</td>\n",
       "      <td>1</td>\n",
       "    </tr>\n",
       "    <tr>\n",
       "      <th>444478</th>\n",
       "      <td>444478</td>\n",
       "      <td>issue description shadows have strong magenta ...</td>\n",
       "      <td>1</td>\n",
       "    </tr>\n",
       "  </tbody>\n",
       "</table>\n",
       "<p>444479 rows × 3 columns</p>\n",
       "</div>"
      ],
      "text/plain": [
       "         index                                         text_clean  label\n",
       "0            0  is your feature request related to a problem p...      0\n",
       "1            1  implement an android image picker to browse im...      0\n",
       "2            2  when a video is not playing hover should displ...      0\n",
       "3            3  description escape shuttle accelerates faster ...      0\n",
       "4            4  httpsnotebooksgesisorgbinderjupyteruserrussted...      0\n",
       "...        ...                                                ...    ...\n",
       "444474  444474  cve202024977 medium severity vulnerability det...      1\n",
       "444475  444475  tags javascript css php html sql css php html ...      1\n",
       "444476  444476  we can access a specific tflite model through ...      1\n",
       "444477  444477  autotuneclientregistermodels should be autotun...      1\n",
       "444478  444478  issue description shadows have strong magenta ...      1\n",
       "\n",
       "[444479 rows x 3 columns]"
      ]
     },
     "execution_count": 12,
     "metadata": {},
     "output_type": "execute_result"
    }
   ],
   "source": [
    "# Resets the index after dropping rows\n",
    "data.reset_index(inplace=True)\n",
    "data"
   ]
  },
  {
   "cell_type": "code",
   "execution_count": 13,
   "id": "29193757",
   "metadata": {
    "execution": {
     "iopub.execute_input": "2023-11-22T15:59:58.132875Z",
     "iopub.status.busy": "2023-11-22T15:59:58.132589Z",
     "iopub.status.idle": "2023-11-22T15:59:58.168689Z",
     "shell.execute_reply": "2023-11-22T15:59:58.168163Z"
    },
    "papermill": {
     "duration": 0.108731,
     "end_time": "2023-11-22T15:59:58.170523",
     "exception": false,
     "start_time": "2023-11-22T15:59:58.061792",
     "status": "completed"
    },
    "tags": []
   },
   "outputs": [],
   "source": [
    "#Drops the index col, better for managint the data.\n",
    "data.drop(columns= [\"index\"], inplace = True)"
   ]
  },
  {
   "cell_type": "code",
   "execution_count": 14,
   "id": "2d65133a",
   "metadata": {
    "execution": {
     "iopub.execute_input": "2023-11-22T15:59:58.286423Z",
     "iopub.status.busy": "2023-11-22T15:59:58.286128Z",
     "iopub.status.idle": "2023-11-22T15:59:58.293308Z",
     "shell.execute_reply": "2023-11-22T15:59:58.292873Z"
    },
    "papermill": {
     "duration": 0.077875,
     "end_time": "2023-11-22T15:59:58.299165",
     "exception": false,
     "start_time": "2023-11-22T15:59:58.221290",
     "status": "completed"
    },
    "tags": []
   },
   "outputs": [
    {
     "data": {
      "text/html": [
       "<div>\n",
       "<style scoped>\n",
       "    .dataframe tbody tr th:only-of-type {\n",
       "        vertical-align: middle;\n",
       "    }\n",
       "\n",
       "    .dataframe tbody tr th {\n",
       "        vertical-align: top;\n",
       "    }\n",
       "\n",
       "    .dataframe thead th {\n",
       "        text-align: right;\n",
       "    }\n",
       "</style>\n",
       "<table border=\"1\" class=\"dataframe\">\n",
       "  <thead>\n",
       "    <tr style=\"text-align: right;\">\n",
       "      <th></th>\n",
       "      <th>text_clean</th>\n",
       "      <th>label</th>\n",
       "    </tr>\n",
       "  </thead>\n",
       "  <tbody>\n",
       "    <tr>\n",
       "      <th>0</th>\n",
       "      <td>is your feature request related to a problem p...</td>\n",
       "      <td>0</td>\n",
       "    </tr>\n",
       "    <tr>\n",
       "      <th>1</th>\n",
       "      <td>implement an android image picker to browse im...</td>\n",
       "      <td>0</td>\n",
       "    </tr>\n",
       "    <tr>\n",
       "      <th>2</th>\n",
       "      <td>when a video is not playing hover should displ...</td>\n",
       "      <td>0</td>\n",
       "    </tr>\n",
       "    <tr>\n",
       "      <th>3</th>\n",
       "      <td>description escape shuttle accelerates faster ...</td>\n",
       "      <td>0</td>\n",
       "    </tr>\n",
       "    <tr>\n",
       "      <th>4</th>\n",
       "      <td>httpsnotebooksgesisorgbinderjupyteruserrussted...</td>\n",
       "      <td>0</td>\n",
       "    </tr>\n",
       "    <tr>\n",
       "      <th>...</th>\n",
       "      <td>...</td>\n",
       "      <td>...</td>\n",
       "    </tr>\n",
       "    <tr>\n",
       "      <th>444474</th>\n",
       "      <td>cve202024977 medium severity vulnerability det...</td>\n",
       "      <td>1</td>\n",
       "    </tr>\n",
       "    <tr>\n",
       "      <th>444475</th>\n",
       "      <td>tags javascript css php html sql css php html ...</td>\n",
       "      <td>1</td>\n",
       "    </tr>\n",
       "    <tr>\n",
       "      <th>444476</th>\n",
       "      <td>we can access a specific tflite model through ...</td>\n",
       "      <td>1</td>\n",
       "    </tr>\n",
       "    <tr>\n",
       "      <th>444477</th>\n",
       "      <td>autotuneclientregistermodels should be autotun...</td>\n",
       "      <td>1</td>\n",
       "    </tr>\n",
       "    <tr>\n",
       "      <th>444478</th>\n",
       "      <td>issue description shadows have strong magenta ...</td>\n",
       "      <td>1</td>\n",
       "    </tr>\n",
       "  </tbody>\n",
       "</table>\n",
       "<p>444479 rows × 2 columns</p>\n",
       "</div>"
      ],
      "text/plain": [
       "                                               text_clean  label\n",
       "0       is your feature request related to a problem p...      0\n",
       "1       implement an android image picker to browse im...      0\n",
       "2       when a video is not playing hover should displ...      0\n",
       "3       description escape shuttle accelerates faster ...      0\n",
       "4       httpsnotebooksgesisorgbinderjupyteruserrussted...      0\n",
       "...                                                   ...    ...\n",
       "444474  cve202024977 medium severity vulnerability det...      1\n",
       "444475  tags javascript css php html sql css php html ...      1\n",
       "444476  we can access a specific tflite model through ...      1\n",
       "444477  autotuneclientregistermodels should be autotun...      1\n",
       "444478  issue description shadows have strong magenta ...      1\n",
       "\n",
       "[444479 rows x 2 columns]"
      ]
     },
     "execution_count": 14,
     "metadata": {},
     "output_type": "execute_result"
    }
   ],
   "source": [
    "data"
   ]
  },
  {
   "cell_type": "code",
   "execution_count": 15,
   "id": "eb0e425f",
   "metadata": {
    "execution": {
     "iopub.execute_input": "2023-11-22T15:59:58.464988Z",
     "iopub.status.busy": "2023-11-22T15:59:58.464711Z",
     "iopub.status.idle": "2023-11-22T15:59:58.576618Z",
     "shell.execute_reply": "2023-11-22T15:59:58.576047Z"
    },
    "papermill": {
     "duration": 0.21468,
     "end_time": "2023-11-22T15:59:58.579024",
     "exception": false,
     "start_time": "2023-11-22T15:59:58.364344",
     "status": "completed"
    },
    "tags": []
   },
   "outputs": [],
   "source": [
    "# 60% trainig, 20% validate, 20% test. Seed None.\n",
    "# Test 80-10-10 and 70-15-15\n",
    "train , validate , test = train_validate_test_split(data)"
   ]
  },
  {
   "cell_type": "code",
   "execution_count": 16,
   "id": "024bdd28",
   "metadata": {
    "execution": {
     "iopub.execute_input": "2023-11-22T15:59:58.795283Z",
     "iopub.status.busy": "2023-11-22T15:59:58.793989Z",
     "iopub.status.idle": "2023-11-22T15:59:58.801131Z",
     "shell.execute_reply": "2023-11-22T15:59:58.800574Z"
    },
    "papermill": {
     "duration": 0.124332,
     "end_time": "2023-11-22T15:59:58.802761",
     "exception": false,
     "start_time": "2023-11-22T15:59:58.678429",
     "status": "completed"
    },
    "tags": []
   },
   "outputs": [],
   "source": [
    "train.set_index(\"label\" , inplace = True)\n",
    "validate.set_index(\"label\" , inplace = True)\n",
    "test.set_index(\"label\" , inplace = True)"
   ]
  },
  {
   "cell_type": "code",
   "execution_count": 17,
   "id": "6cb16842",
   "metadata": {
    "execution": {
     "iopub.execute_input": "2023-11-22T15:59:58.948237Z",
     "iopub.status.busy": "2023-11-22T15:59:58.947929Z",
     "iopub.status.idle": "2023-11-22T15:59:58.963750Z",
     "shell.execute_reply": "2023-11-22T15:59:58.963270Z"
    },
    "papermill": {
     "duration": 0.097044,
     "end_time": "2023-11-22T15:59:58.968262",
     "exception": false,
     "start_time": "2023-11-22T15:59:58.871218",
     "status": "completed"
    },
    "tags": []
   },
   "outputs": [
    {
     "data": {
      "text/html": [
       "<div>\n",
       "<style scoped>\n",
       "    .dataframe tbody tr th:only-of-type {\n",
       "        vertical-align: middle;\n",
       "    }\n",
       "\n",
       "    .dataframe tbody tr th {\n",
       "        vertical-align: top;\n",
       "    }\n",
       "\n",
       "    .dataframe thead th {\n",
       "        text-align: right;\n",
       "    }\n",
       "</style>\n",
       "<table border=\"1\" class=\"dataframe\">\n",
       "  <thead>\n",
       "    <tr style=\"text-align: right;\">\n",
       "      <th></th>\n",
       "      <th>text_clean</th>\n",
       "    </tr>\n",
       "    <tr>\n",
       "      <th>label</th>\n",
       "      <th></th>\n",
       "    </tr>\n",
       "  </thead>\n",
       "  <tbody>\n",
       "    <tr>\n",
       "      <th>1</th>\n",
       "      <td>feature request is your feature request relate...</td>\n",
       "    </tr>\n",
       "    <tr>\n",
       "      <th>1</th>\n",
       "      <td>thank you for filing a bug report  please prov...</td>\n",
       "    </tr>\n",
       "    <tr>\n",
       "      <th>0</th>\n",
       "      <td>version download master branche at 0100 pm tod...</td>\n",
       "    </tr>\n",
       "    <tr>\n",
       "      <th>0</th>\n",
       "      <td>today in the getting started for serving we do...</td>\n",
       "    </tr>\n",
       "    <tr>\n",
       "      <th>1</th>\n",
       "      <td>it is a good product appreceiate for developme...</td>\n",
       "    </tr>\n",
       "    <tr>\n",
       "      <th>...</th>\n",
       "      <td>...</td>\n",
       "    </tr>\n",
       "    <tr>\n",
       "      <th>1</th>\n",
       "      <td>might just be filling out the config might inv...</td>\n",
       "    </tr>\n",
       "    <tr>\n",
       "      <th>1</th>\n",
       "      <td>there are 4 different notificationscontrollers...</td>\n",
       "    </tr>\n",
       "    <tr>\n",
       "      <th>0</th>\n",
       "      <td>found via 1342 want to make sure the saved tex...</td>\n",
       "    </tr>\n",
       "    <tr>\n",
       "      <th>0</th>\n",
       "      <td>imagehttpsuserimagesgithubusercontentcom109195...</td>\n",
       "    </tr>\n",
       "    <tr>\n",
       "      <th>0</th>\n",
       "      <td>as any user i want to change any address in my...</td>\n",
       "    </tr>\n",
       "  </tbody>\n",
       "</table>\n",
       "<p>44449 rows × 1 columns</p>\n",
       "</div>"
      ],
      "text/plain": [
       "                                              text_clean\n",
       "label                                                   \n",
       "1      feature request is your feature request relate...\n",
       "1      thank you for filing a bug report  please prov...\n",
       "0      version download master branche at 0100 pm tod...\n",
       "0      today in the getting started for serving we do...\n",
       "1      it is a good product appreceiate for developme...\n",
       "...                                                  ...\n",
       "1      might just be filling out the config might inv...\n",
       "1      there are 4 different notificationscontrollers...\n",
       "0      found via 1342 want to make sure the saved tex...\n",
       "0      imagehttpsuserimagesgithubusercontentcom109195...\n",
       "0      as any user i want to change any address in my...\n",
       "\n",
       "[44449 rows x 1 columns]"
      ]
     },
     "execution_count": 17,
     "metadata": {},
     "output_type": "execute_result"
    }
   ],
   "source": [
    "test"
   ]
  },
  {
   "cell_type": "code",
   "execution_count": 18,
   "id": "a32ee5b1",
   "metadata": {
    "execution": {
     "iopub.execute_input": "2023-11-22T15:59:59.096790Z",
     "iopub.status.busy": "2023-11-22T15:59:59.096463Z",
     "iopub.status.idle": "2023-11-22T15:59:59.874973Z",
     "shell.execute_reply": "2023-11-22T15:59:59.874510Z"
    },
    "papermill": {
     "duration": 0.852695,
     "end_time": "2023-11-22T15:59:59.882094",
     "exception": false,
     "start_time": "2023-11-22T15:59:59.029399",
     "status": "completed"
    },
    "tags": []
   },
   "outputs": [
    {
     "data": {
      "text/plain": [
       "DatasetDict({\n",
       "    test: Dataset({\n",
       "        features: ['text_clean', 'label'],\n",
       "        num_rows: 44449\n",
       "    })\n",
       "    train: Dataset({\n",
       "        features: ['text_clean', 'label'],\n",
       "        num_rows: 355583\n",
       "    })\n",
       "    validate: Dataset({\n",
       "        features: ['text_clean', 'label'],\n",
       "        num_rows: 44447\n",
       "    })\n",
       "})"
      ]
     },
     "execution_count": 18,
     "metadata": {},
     "output_type": "execute_result"
    }
   ],
   "source": [
    "# Convert from Pandas DataFrame to Hugging Face datasets\n",
    "tds = Dataset.from_pandas(train)\n",
    "vds = Dataset.from_pandas(validate)\n",
    "testds = Dataset.from_pandas(test)\n",
    "\n",
    "ds = DatasetDict()\n",
    "\n",
    "ds[\"test\"] = testds\n",
    "ds[\"train\"] = tds\n",
    "ds[\"validate\"] = vds\n",
    "\n",
    "ds"
   ]
  },
  {
   "cell_type": "code",
   "execution_count": 19,
   "id": "386b14ca",
   "metadata": {
    "execution": {
     "iopub.execute_input": "2023-11-22T16:00:00.088274Z",
     "iopub.status.busy": "2023-11-22T16:00:00.087959Z",
     "iopub.status.idle": "2023-11-22T16:00:00.091091Z",
     "shell.execute_reply": "2023-11-22T16:00:00.090646Z"
    },
    "papermill": {
     "duration": 0.065848,
     "end_time": "2023-11-22T16:00:00.092265",
     "exception": false,
     "start_time": "2023-11-22T16:00:00.026417",
     "status": "completed"
    },
    "tags": []
   },
   "outputs": [],
   "source": [
    "train_dataset = ds[\"train\"]\n",
    "valid_dataset = ds[\"validate\"]\n",
    "test_ds = ds[\"test\"]"
   ]
  },
  {
   "cell_type": "code",
   "execution_count": 20,
   "id": "3263a36c",
   "metadata": {
    "execution": {
     "iopub.execute_input": "2023-11-22T16:00:00.249364Z",
     "iopub.status.busy": "2023-11-22T16:00:00.249064Z",
     "iopub.status.idle": "2023-11-22T16:00:00.256114Z",
     "shell.execute_reply": "2023-11-22T16:00:00.255655Z"
    },
    "papermill": {
     "duration": 0.092434,
     "end_time": "2023-11-22T16:00:00.267460",
     "exception": false,
     "start_time": "2023-11-22T16:00:00.175026",
     "status": "completed"
    },
    "tags": []
   },
   "outputs": [
    {
     "data": {
      "text/plain": [
       "{'text_clean': 'as a relationship manager i want outbound calls to be automatically dialed by the system so that i can focus on sales and not dailing numbers from a list',\n",
       " 'label': 0}"
      ]
     },
     "execution_count": 20,
     "metadata": {},
     "output_type": "execute_result"
    }
   ],
   "source": [
    "ds[\"train\"][0]"
   ]
  },
  {
   "cell_type": "code",
   "execution_count": 21,
   "id": "b7ef1614",
   "metadata": {
    "execution": {
     "iopub.execute_input": "2023-11-22T16:00:00.440869Z",
     "iopub.status.busy": "2023-11-22T16:00:00.433821Z",
     "iopub.status.idle": "2023-11-22T16:00:00.449542Z",
     "shell.execute_reply": "2023-11-22T16:00:00.449046Z"
    },
    "papermill": {
     "duration": 0.126352,
     "end_time": "2023-11-22T16:00:00.450585",
     "exception": false,
     "start_time": "2023-11-22T16:00:00.324233",
     "status": "completed"
    },
    "tags": []
   },
   "outputs": [],
   "source": [
    "def compute_metrics(pred):\n",
    "    labels = pred.label_ids\n",
    "    preds = pred.predictions.argmax(-1)\n",
    "    precision, recall, f1, _ = precision_recall_fscore_support(labels, preds)\n",
    "    acc = accuracy_score(labels, preds)\n",
    "    return {\"accuracy\": acc, \"f1\": f1, \"precision\": precision, \"recall\": recall}"
   ]
  },
  {
   "cell_type": "code",
   "execution_count": 22,
   "id": "cbffc393",
   "metadata": {
    "execution": {
     "iopub.execute_input": "2023-11-22T16:00:00.568091Z",
     "iopub.status.busy": "2023-11-22T16:00:00.567772Z",
     "iopub.status.idle": "2023-11-22T16:00:04.202042Z",
     "shell.execute_reply": "2023-11-22T16:00:04.201341Z"
    },
    "papermill": {
     "duration": 3.693778,
     "end_time": "2023-11-22T16:00:04.203370",
     "exception": false,
     "start_time": "2023-11-22T16:00:00.509592",
     "status": "completed"
    },
    "tags": []
   },
   "outputs": [
    {
     "name": "stderr",
     "output_type": "stream",
     "text": [
      "Some weights of DistilBertForSequenceClassification were not initialized from the model checkpoint at distilbert-base-uncased and are newly initialized: ['classifier.bias', 'pre_classifier.bias', 'classifier.weight', 'pre_classifier.weight']\n",
      "You should probably TRAIN this model on a down-stream task to be able to use it for predictions and inference.\n"
     ]
    }
   ],
   "source": [
    "device = torch.device(\"cuda\" if torch.cuda.is_available() else \"cpu\")\n",
    "model = AutoModelForSequenceClassification.from_pretrained(base_model_id, num_labels=num_labels)\n",
    "#tokenizer = AutoTokenizer.from_pretrained(base_model_id)\n",
    "# optim = torch.optim.Adam(model.parameters(), lr=5e-5)"
   ]
  },
  {
   "cell_type": "markdown",
   "id": "484feadf",
   "metadata": {
    "papermill": {
     "duration": 0.060439,
     "end_time": "2023-11-22T16:00:04.320967",
     "exception": false,
     "start_time": "2023-11-22T16:00:04.260528",
     "status": "completed"
    },
    "tags": []
   },
   "source": [
    "## Tokenization"
   ]
  },
  {
   "cell_type": "code",
   "execution_count": 23,
   "id": "d90b52d3",
   "metadata": {
    "execution": {
     "iopub.execute_input": "2023-11-22T16:00:04.452610Z",
     "iopub.status.busy": "2023-11-22T16:00:04.452286Z",
     "iopub.status.idle": "2023-11-22T16:00:04.876935Z",
     "shell.execute_reply": "2023-11-22T16:00:04.876303Z"
    },
    "papermill": {
     "duration": 0.48938,
     "end_time": "2023-11-22T16:00:04.878407",
     "exception": false,
     "start_time": "2023-11-22T16:00:04.389027",
     "status": "completed"
    },
    "tags": []
   },
   "outputs": [],
   "source": [
    "model_ckpt = \"distilbert-base-uncased\"\n",
    "tokenizer = AutoTokenizer.from_pretrained(model_ckpt)"
   ]
  },
  {
   "cell_type": "markdown",
   "id": "b76dfffd",
   "metadata": {
    "papermill": {
     "duration": 0.06674,
     "end_time": "2023-11-22T16:00:05.019454",
     "exception": false,
     "start_time": "2023-11-22T16:00:04.952714",
     "status": "completed"
    },
    "tags": []
   },
   "source": [
    "    Tokenizing the whole dataset"
   ]
  },
  {
   "cell_type": "code",
   "execution_count": 24,
   "id": "9c848144",
   "metadata": {
    "execution": {
     "iopub.execute_input": "2023-11-22T16:00:05.153844Z",
     "iopub.status.busy": "2023-11-22T16:00:05.153555Z",
     "iopub.status.idle": "2023-11-22T16:09:21.403307Z",
     "shell.execute_reply": "2023-11-22T16:09:21.402514Z"
    },
    "papermill": {
     "duration": 556.389299,
     "end_time": "2023-11-22T16:09:21.467508",
     "exception": false,
     "start_time": "2023-11-22T16:00:05.078209",
     "status": "completed"
    },
    "tags": []
   },
   "outputs": [
    {
     "data": {
      "application/vnd.jupyter.widget-view+json": {
       "model_id": "0712bcedd70a48bdade0dae2d5b3251d",
       "version_major": 2,
       "version_minor": 0
      },
      "text/plain": [
       "Map:   0%|          | 0/355583 [00:00<?, ? examples/s]"
      ]
     },
     "metadata": {},
     "output_type": "display_data"
    },
    {
     "data": {
      "application/vnd.jupyter.widget-view+json": {
       "model_id": "e1411429fbf84c0ca52453d6d7f09067",
       "version_major": 2,
       "version_minor": 0
      },
      "text/plain": [
       "Map:   0%|          | 0/44447 [00:00<?, ? examples/s]"
      ]
     },
     "metadata": {},
     "output_type": "display_data"
    },
    {
     "data": {
      "application/vnd.jupyter.widget-view+json": {
       "model_id": "38708b9f4718487ca677459337bbf050",
       "version_major": 2,
       "version_minor": 0
      },
      "text/plain": [
       "Map:   0%|          | 0/44449 [00:00<?, ? examples/s]"
      ]
     },
     "metadata": {},
     "output_type": "display_data"
    }
   ],
   "source": [
    "#Tokenize the dataset to the correct input for the transformer model.\n",
    "def tokenize(batch):\n",
    "    return tokenizer(batch[\"text_clean\"], padding=\"max_length\", truncation=True)\n",
    "\n",
    "train_dataset = train_dataset.map(tokenize, batched=True, batch_size=len(train_dataset))\n",
    "valid_dataset = valid_dataset.map(tokenize, batched=True, batch_size=len(valid_dataset))\n",
    "test_dataset = test_ds.map(tokenize, batched=True, batch_size=len(test_ds))"
   ]
  },
  {
   "cell_type": "markdown",
   "id": "d10c7769",
   "metadata": {
    "papermill": {
     "duration": 0.067196,
     "end_time": "2023-11-22T16:09:21.589668",
     "exception": false,
     "start_time": "2023-11-22T16:09:21.522472",
     "status": "completed"
    },
    "tags": []
   },
   "source": [
    "## Training a classifier"
   ]
  },
  {
   "cell_type": "code",
   "execution_count": 25,
   "id": "5a5a7f8c",
   "metadata": {
    "execution": {
     "iopub.execute_input": "2023-11-22T16:09:21.732886Z",
     "iopub.status.busy": "2023-11-22T16:09:21.732380Z",
     "iopub.status.idle": "2023-11-22T16:09:21.746697Z",
     "shell.execute_reply": "2023-11-22T16:09:21.745955Z"
    },
    "papermill": {
     "duration": 0.103013,
     "end_time": "2023-11-22T16:09:21.753417",
     "exception": false,
     "start_time": "2023-11-22T16:09:21.650404",
     "status": "completed"
    },
    "tags": []
   },
   "outputs": [],
   "source": [
    "training_args = TrainingArguments(\n",
    "    output_dir=model_dir,\n",
    "    num_train_epochs=epochs,\n",
    "    per_device_train_batch_size=train_batch_size,\n",
    "    per_device_eval_batch_size=eval_batch_size,\n",
    "    save_strategy=save_strategy,\n",
    "    save_steps=save_steps,\n",
    "    evaluation_strategy=\"epoch\",\n",
    "    learning_rate=learning_rate,\n",
    "    logging_steps=logging_steps,\n",
    ")"
   ]
  },
  {
   "cell_type": "code",
   "execution_count": 26,
   "id": "318fc8a3",
   "metadata": {
    "execution": {
     "iopub.execute_input": "2023-11-22T16:09:21.892405Z",
     "iopub.status.busy": "2023-11-22T16:09:21.892152Z",
     "iopub.status.idle": "2023-11-22T16:09:28.954592Z",
     "shell.execute_reply": "2023-11-22T16:09:28.953944Z"
    },
    "papermill": {
     "duration": 7.13758,
     "end_time": "2023-11-22T16:09:28.956537",
     "exception": false,
     "start_time": "2023-11-22T16:09:21.818957",
     "status": "completed"
    },
    "tags": []
   },
   "outputs": [],
   "source": [
    " trainer = Trainer(\n",
    "    model=model,\n",
    "    args=training_args,\n",
    "    tokenizer=tokenizer,\n",
    "    compute_metrics=compute_metrics,\n",
    "    train_dataset=train_dataset,\n",
    "    eval_dataset=valid_dataset,\n",
    ")"
   ]
  },
  {
   "cell_type": "code",
   "execution_count": 27,
   "id": "0b5578f2",
   "metadata": {
    "execution": {
     "iopub.execute_input": "2023-11-22T16:09:29.113365Z",
     "iopub.status.busy": "2023-11-22T16:09:29.106187Z"
    },
    "papermill": {
     "duration": 46856.216702,
     "end_time": "2023-11-23T05:10:25.244019",
     "exception": false,
     "start_time": "2023-11-22T16:09:29.027317",
     "status": "completed"
    },
    "tags": []
   },
   "outputs": [
    {
     "name": "stderr",
     "output_type": "stream",
     "text": [
      "You're using a DistilBertTokenizerFast tokenizer. Please note that with a fast tokenizer, using the `__call__` method is faster than using a method to encode the text followed by a call to the `pad` method to get a padded encoding.\n"
     ]
    }
   ],
   "source": [
    "trainer.train() "
   ]
  },
  {
   "cell_type": "markdown",
   "id": "a8ac7267",
   "metadata": {
    "papermill": {
     "duration": null,
     "end_time": null,
     "exception": null,
     "start_time": null,
     "status": "completed"
    },
    "tags": []
   },
   "source": [
    "* Training loss: Difference between the predictons made by the model on the training dataset vs on the actual data.\n",
    "* Validation loss: how well the model functions on unseen data.\n",
    "* Accuracy: How much the model gets correct. number of correct Prediction / total number of predictions.\n",
    "* F1: consider both precision and recall. \n",
    "* Precision: Accuracy of positive predictions. Percison TP = TP + FP. How often the model is correct.\n",
    "* Recall: True positive rate. how many items the model gets correct from the total amount."
   ]
  },
  {
   "cell_type": "markdown",
   "id": "7c34a7fd",
   "metadata": {
    "papermill": {
     "duration": null,
     "end_time": null,
     "exception": null,
     "start_time": null,
     "status": "completed"
    },
    "tags": []
   },
   "source": [
    "### Training loss decreases, valdiation loss increases = Overfitting"
   ]
  },
  {
   "cell_type": "code",
   "execution_count": null,
   "id": "a791423d",
   "metadata": {
    "papermill": {
     "duration": null,
     "end_time": null,
     "exception": null,
     "start_time": null,
     "status": "completed"
    },
    "tags": []
   },
   "outputs": [],
   "source": [
    "# Evaluate valdiation set\n",
    "eval_result = trainer.evaluate(eval_dataset=valid_dataset)"
   ]
  },
  {
   "cell_type": "code",
   "execution_count": null,
   "id": "88295878",
   "metadata": {
    "papermill": {
     "duration": null,
     "end_time": null,
     "exception": null,
     "start_time": null,
     "status": "completed"
    },
    "tags": []
   },
   "outputs": [],
   "source": [
    "for key, value in sorted(eval_result.items()):\n",
    "    print(f\"{key} = {value}\\n\")"
   ]
  },
  {
   "cell_type": "code",
   "execution_count": null,
   "id": "dce22454",
   "metadata": {
    "papermill": {
     "duration": null,
     "end_time": null,
     "exception": null,
     "start_time": null,
     "status": "completed"
    },
    "tags": []
   },
   "outputs": [],
   "source": [
    "# Evaluate test data set\n",
    "test_results = trainer.evaluate(eval_dataset=test_dataset)"
   ]
  },
  {
   "cell_type": "code",
   "execution_count": null,
   "id": "5970cfc5",
   "metadata": {
    "papermill": {
     "duration": null,
     "end_time": null,
     "exception": null,
     "start_time": null,
     "status": "completed"
    },
    "tags": []
   },
   "outputs": [],
   "source": [
    "for key, value in sorted(test_results.items()):\n",
    "    print(f\"{key} = {value}\\n\")"
   ]
  },
  {
   "cell_type": "code",
   "execution_count": null,
   "id": "c52c8395",
   "metadata": {
    "papermill": {
     "duration": null,
     "end_time": null,
     "exception": null,
     "start_time": null,
     "status": "completed"
    },
    "tags": []
   },
   "outputs": [],
   "source": [
    "trainer.save_model(model_dir + \"_local\") "
   ]
  },
  {
   "cell_type": "code",
   "execution_count": null,
   "id": "cac76c94",
   "metadata": {
    "papermill": {
     "duration": null,
     "end_time": null,
     "exception": null,
     "start_time": null,
     "status": "completed"
    },
    "tags": []
   },
   "outputs": [],
   "source": [
    "from transformers import pipeline\n",
    "    \n",
    "classifier = pipeline(\"text-classification\", model=\"./model_local\")"
   ]
  },
  {
   "cell_type": "code",
   "execution_count": null,
   "id": "534615c2",
   "metadata": {
    "papermill": {
     "duration": null,
     "end_time": null,
     "exception": null,
     "start_time": null,
     "status": "completed"
    },
    "tags": []
   },
   "outputs": [],
   "source": [
    "classifier.model"
   ]
  },
  {
   "cell_type": "code",
   "execution_count": null,
   "id": "ee71c0f7",
   "metadata": {
    "papermill": {
     "duration": null,
     "end_time": null,
     "exception": null,
     "start_time": null,
     "status": "completed"
    },
    "tags": []
   },
   "outputs": [],
   "source": [
    "classifier(\"this does not need to be done fast\")"
   ]
  },
  {
   "cell_type": "code",
   "execution_count": null,
   "id": "3978b8ee",
   "metadata": {
    "papermill": {
     "duration": null,
     "end_time": null,
     "exception": null,
     "start_time": null,
     "status": "completed"
    },
    "tags": []
   },
   "outputs": [],
   "source": [
    "classifier(\"this is super important\")"
   ]
  },
  {
   "cell_type": "code",
   "execution_count": null,
   "id": "fcb83892",
   "metadata": {
    "papermill": {
     "duration": null,
     "end_time": null,
     "exception": null,
     "start_time": null,
     "status": "completed"
    },
    "tags": []
   },
   "outputs": [],
   "source": [
    "classifier(\"this bug has super high impact on the project\")"
   ]
  },
  {
   "cell_type": "markdown",
   "id": "25a082ef",
   "metadata": {
    "papermill": {
     "duration": null,
     "end_time": null,
     "exception": null,
     "start_time": null,
     "status": "completed"
    },
    "tags": []
   },
   "source": [
    "## Important to delete large objects to free memory \n",
    "del train_dataset"
   ]
  },
  {
   "cell_type": "code",
   "execution_count": null,
   "id": "44bc1927",
   "metadata": {
    "papermill": {
     "duration": null,
     "end_time": null,
     "exception": null,
     "start_time": null,
     "status": "completed"
    },
    "tags": []
   },
   "outputs": [],
   "source": [
    "del valid_dataset"
   ]
  },
  {
   "cell_type": "code",
   "execution_count": null,
   "id": "7d547dc0",
   "metadata": {
    "papermill": {
     "duration": null,
     "end_time": null,
     "exception": null,
     "start_time": null,
     "status": "completed"
    },
    "tags": []
   },
   "outputs": [],
   "source": [
    "del model"
   ]
  },
  {
   "cell_type": "code",
   "execution_count": null,
   "id": "ff22f3df",
   "metadata": {
    "papermill": {
     "duration": null,
     "end_time": null,
     "exception": null,
     "start_time": null,
     "status": "completed"
    },
    "tags": []
   },
   "outputs": [],
   "source": [
    "# Free cache\n",
    "torch.cuda.empty_cache()"
   ]
  },
  {
   "cell_type": "code",
   "execution_count": null,
   "id": "3f2be48e",
   "metadata": {
    "papermill": {
     "duration": null,
     "end_time": null,
     "exception": null,
     "start_time": null,
     "status": "completed"
    },
    "tags": []
   },
   "outputs": [],
   "source": [
    "!nvidia-smi"
   ]
  },
  {
   "cell_type": "code",
   "execution_count": null,
   "id": "c7ff4d6b",
   "metadata": {
    "papermill": {
     "duration": null,
     "end_time": null,
     "exception": null,
     "start_time": null,
     "status": "completed"
    },
    "tags": []
   },
   "outputs": [],
   "source": []
  }
 ],
 "metadata": {
  "kernelspec": {
   "display_name": "Python 3 (ipykernel)",
   "language": "python",
   "name": "python3"
  },
  "language_info": {
   "codemirror_mode": {
    "name": "ipython",
    "version": 3
   },
   "file_extension": ".py",
   "mimetype": "text/x-python",
   "name": "python",
   "nbconvert_exporter": "python",
   "pygments_lexer": "ipython3",
   "version": "3.11.5"
  },
  "papermill": {
   "default_parameters": {},
   "duration": 47454.389605,
   "end_time": "2023-11-23T05:10:31.315976",
   "environment_variables": {},
   "exception": null,
   "input_path": "04_bert_priority.ipynb",
   "output_path": "04_bert_priority_out.ipynb",
   "parameters": {},
   "start_time": "2023-11-22T15:59:36.926371",
   "version": "2.5.0"
  }
 },
 "nbformat": 4,
 "nbformat_minor": 5
}