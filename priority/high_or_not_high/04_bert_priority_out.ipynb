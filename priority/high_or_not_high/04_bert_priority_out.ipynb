{
 "cells": [
  {
   "cell_type": "markdown",
   "id": "f89275a9",
   "metadata": {
    "papermill": {
     "duration": 0.07004,
     "end_time": "2023-11-03T07:28:11.231861",
     "exception": false,
     "start_time": "2023-11-03T07:28:11.161821",
     "status": "completed"
    },
    "tags": []
   },
   "source": [
    "# Importsand preparations"
   ]
  },
  {
   "cell_type": "code",
   "execution_count": 1,
   "id": "d3d342db",
   "metadata": {
    "execution": {
     "iopub.execute_input": "2023-11-03T07:28:11.361699Z",
     "iopub.status.busy": "2023-11-03T07:28:11.361451Z",
     "iopub.status.idle": "2023-11-03T07:28:16.154933Z",
     "shell.execute_reply": "2023-11-03T07:28:16.154114Z"
    },
    "papermill": {
     "duration": 4.862753,
     "end_time": "2023-11-03T07:28:16.157025",
     "exception": false,
     "start_time": "2023-11-03T07:28:11.294272",
     "status": "completed"
    },
    "tags": []
   },
   "outputs": [],
   "source": [
    "import pandas as pd\n",
    "import torch\n",
    "import os\n",
    "import numpy as np\n",
    "import datasets\n",
    "import transformers\n",
    "from GPUtil import showUtilization as gpu_usage\n",
    "from numba import cuda\n",
    "import torch.nn.functional as F\n",
    "\n",
    "from sklearn.metrics import accuracy_score, precision_recall_fscore_support\n",
    "from transformers import (\n",
    "    AutoModelForSequenceClassification,\n",
    "    AutoTokenizer,\n",
    "    Trainer,\n",
    "    TrainingArguments,\n",
    ")\n",
    "\n",
    "from datasets import load_dataset, Dataset, DatasetDict"
   ]
  },
  {
   "cell_type": "code",
   "execution_count": 2,
   "id": "13b3abce",
   "metadata": {
    "execution": {
     "iopub.execute_input": "2023-11-03T07:28:16.272133Z",
     "iopub.status.busy": "2023-11-03T07:28:16.271766Z",
     "iopub.status.idle": "2023-11-03T07:28:16.275098Z",
     "shell.execute_reply": "2023-11-03T07:28:16.274602Z"
    },
    "papermill": {
     "duration": 0.065215,
     "end_time": "2023-11-03T07:28:16.276011",
     "exception": false,
     "start_time": "2023-11-03T07:28:16.210796",
     "status": "completed"
    },
    "tags": []
   },
   "outputs": [],
   "source": [
    "# !watch -n 0.5 nvidia-smi"
   ]
  },
  {
   "cell_type": "code",
   "execution_count": 3,
   "id": "6579d707",
   "metadata": {
    "execution": {
     "iopub.execute_input": "2023-11-03T07:28:16.407886Z",
     "iopub.status.busy": "2023-11-03T07:28:16.407738Z",
     "iopub.status.idle": "2023-11-03T07:28:16.468967Z",
     "shell.execute_reply": "2023-11-03T07:28:16.468293Z"
    },
    "papermill": {
     "duration": 0.130821,
     "end_time": "2023-11-03T07:28:16.469963",
     "exception": false,
     "start_time": "2023-11-03T07:28:16.339142",
     "status": "completed"
    },
    "tags": []
   },
   "outputs": [
    {
     "name": "stdout",
     "output_type": "stream",
     "text": [
      "PyTorch version: 2.0.1+cu117\n",
      "CUDA version: 11.7\n",
      "cuDNN version: 8500\n",
      "Current device: 0\n",
      "Is cuda available: True\n"
     ]
    }
   ],
   "source": [
    "print(f'PyTorch version: {torch.__version__}')  # 1.9.1+cu111\n",
    "print(f'CUDA version: {torch.version.cuda}')  # 11.1\n",
    "print(f'cuDNN version: {torch.backends.cudnn.version()}')  # 8005\n",
    "print(f'Current device: {torch.cuda.current_device()}')  # 0\n",
    "print(f'Is cuda available: {torch.cuda.is_available()}')  # TRUE"
   ]
  },
  {
   "cell_type": "code",
   "execution_count": 4,
   "id": "30504d49",
   "metadata": {
    "execution": {
     "iopub.execute_input": "2023-11-03T07:28:16.603345Z",
     "iopub.status.busy": "2023-11-03T07:28:16.603098Z",
     "iopub.status.idle": "2023-11-03T07:28:16.606779Z",
     "shell.execute_reply": "2023-11-03T07:28:16.606218Z"
    },
    "papermill": {
     "duration": 0.056181,
     "end_time": "2023-11-03T07:28:16.607641",
     "exception": false,
     "start_time": "2023-11-03T07:28:16.551460",
     "status": "completed"
    },
    "tags": []
   },
   "outputs": [
    {
     "name": "stdout",
     "output_type": "stream",
     "text": [
      "Transformers version: 4.32.1\n",
      "Datasets version: 2.14.4\n"
     ]
    }
   ],
   "source": [
    "print(f'Transformers version: {transformers.__version__}')\n",
    "print(f'Datasets version: {datasets.__version__}')"
   ]
  },
  {
   "cell_type": "code",
   "execution_count": 5,
   "id": "1f96c096",
   "metadata": {
    "execution": {
     "iopub.execute_input": "2023-11-03T07:28:16.739890Z",
     "iopub.status.busy": "2023-11-03T07:28:16.739738Z",
     "iopub.status.idle": "2023-11-03T07:28:16.742514Z",
     "shell.execute_reply": "2023-11-03T07:28:16.742024Z"
    },
    "papermill": {
     "duration": 0.055746,
     "end_time": "2023-11-03T07:28:16.743384",
     "exception": false,
     "start_time": "2023-11-03T07:28:16.687638",
     "status": "completed"
    },
    "tags": []
   },
   "outputs": [],
   "source": [
    "# Prevent a warning related to the tokenization process in the transformers library. \n",
    "os.environ[\"TOKENIZERS_PARALLELISM\"] = \"False\"\n",
    "# Makes CUDA operations synchronous\n",
    "os.environ[\"CUDA_LAUNCH_BLOCKING\"] = \"1\""
   ]
  },
  {
   "cell_type": "code",
   "execution_count": 6,
   "id": "855ee0e4",
   "metadata": {
    "execution": {
     "iopub.execute_input": "2023-11-03T07:28:16.898477Z",
     "iopub.status.busy": "2023-11-03T07:28:16.897844Z",
     "iopub.status.idle": "2023-11-03T07:28:17.184512Z",
     "shell.execute_reply": "2023-11-03T07:28:17.183800Z"
    },
    "papermill": {
     "duration": 0.364585,
     "end_time": "2023-11-03T07:28:17.185779",
     "exception": false,
     "start_time": "2023-11-03T07:28:16.821194",
     "status": "completed"
    },
    "tags": []
   },
   "outputs": [
    {
     "name": "stdout",
     "output_type": "stream",
     "text": [
      "Fri Nov  3 08:28:16 2023       \r\n",
      "+---------------------------------------------------------------------------------------+\r\n",
      "| NVIDIA-SMI 530.30.02              Driver Version: 530.30.02    CUDA Version: 12.1     |\r\n",
      "|-----------------------------------------+----------------------+----------------------+\r\n",
      "| GPU  Name                  Persistence-M| Bus-Id        Disp.A | Volatile Uncorr. ECC |\r\n",
      "| Fan  Temp  Perf            Pwr:Usage/Cap|         Memory-Usage | GPU-Util  Compute M. |\r\n",
      "|                                         |                      |               MIG M. |\r\n",
      "|=========================================+======================+======================|\r\n",
      "|   0  NVIDIA GeForce RTX 2080 Ti      On | 00000000:01:00.0 Off |                  N/A |\r\n",
      "| 24%   43C    P2               63W / 250W|    949MiB / 11264MiB |      0%      Default |\r\n",
      "|                                         |                      |                  N/A |\r\n",
      "+-----------------------------------------+----------------------+----------------------+\r\n",
      "|   1  NVIDIA GeForce RTX 2080 Ti      On | 00000000:23:00.0 Off |                  N/A |\r\n",
      "| 43%   70C    P2              246W / 250W|  10431MiB / 11264MiB |    100%      Default |\r\n",
      "|                                         |                      |                  N/A |\r\n",
      "+-----------------------------------------+----------------------+----------------------+\r\n",
      "|   2  NVIDIA GeForce RTX 2080 Ti      On | 00000000:41:00.0 Off |                  N/A |\r\n",
      "| 43%   71C    P2              256W / 250W|  10431MiB / 11264MiB |    100%      Default |\r\n",
      "|                                         |                      |                  N/A |\r\n",
      "+-----------------------------------------+----------------------+----------------------+\r\n",
      "|   3  NVIDIA GeForce RTX 2080 Ti      On | 00000000:61:00.0 Off |                  N/A |\r\n",
      "| 37%   62C    P2              243W / 250W|  10431MiB / 11264MiB |    100%      Default |\r\n",
      "|                                         |                      |                  N/A |\r\n",
      "+-----------------------------------------+----------------------+----------------------+\r\n",
      "|   4  NVIDIA GeForce RTX 2080 Ti      On | 00000000:81:00.0 Off |                  N/A |\r\n",
      "| 22%   39C    P2               49W / 250W|   1307MiB / 11264MiB |      0%      Default |\r\n",
      "|                                         |                      |                  N/A |\r\n",
      "+-----------------------------------------+----------------------+----------------------+\r\n",
      "|   5  NVIDIA GeForce RTX 2080 Ti      On | 00000000:A1:00.0 Off |                  N/A |\r\n",
      "| 22%   29C    P8               18W / 250W|      5MiB / 11264MiB |      0%      Default |\r\n",
      "|                                         |                      |                  N/A |\r\n",
      "+-----------------------------------------+----------------------+----------------------+\r\n",
      "|   6  NVIDIA GeForce RTX 2080 Ti      On | 00000000:C1:00.0 Off |                  N/A |\r\n",
      "| 22%   34C    P8               21W / 250W|      5MiB / 11264MiB |      0%      Default |\r\n",
      "|                                         |                      |                  N/A |\r\n",
      "+-----------------------------------------+----------------------+----------------------+\r\n",
      "|   7  NVIDIA GeForce RTX 2080 Ti      On | 00000000:E1:00.0 Off |                  N/A |\r\n",
      "| 39%   66C    P2              258W / 250W|  10431MiB / 11264MiB |    100%      Default |\r\n",
      "|                                         |                      |                  N/A |\r\n",
      "+-----------------------------------------+----------------------+----------------------+\r\n",
      "                                                                                         \r\n",
      "+---------------------------------------------------------------------------------------+\r\n",
      "| Processes:                                                                            |\r\n",
      "|  GPU   GI   CI        PID   Type   Process name                            GPU Memory |\r\n",
      "|        ID   ID                                                             Usage      |\r\n",
      "|=======================================================================================|\r\n",
      "|    1   N/A  N/A   1390515      C   ...ml/home/limeng/torch_env/bin/python    10424MiB |\r\n",
      "|    2   N/A  N/A   1390516      C   ...ml/home/limeng/torch_env/bin/python    10424MiB |\r\n",
      "|    3   N/A  N/A   1390517      C   ...ml/home/limeng/torch_env/bin/python    10424MiB |\r\n"
     ]
    },
    {
     "name": "stdout",
     "output_type": "stream",
     "text": [
      "|    7   N/A  N/A   1390518      C   ...ml/home/limeng/torch_env/bin/python    10424MiB |\r\n",
      "+---------------------------------------------------------------------------------------+\r\n"
     ]
    }
   ],
   "source": [
    "# Find the GPU with the least memory usage.\n",
    "!nvidia-smi"
   ]
  },
  {
   "cell_type": "code",
   "execution_count": 7,
   "id": "c72ee9e8",
   "metadata": {
    "execution": {
     "iopub.execute_input": "2023-11-03T07:28:17.340700Z",
     "iopub.status.busy": "2023-11-03T07:28:17.340443Z",
     "iopub.status.idle": "2023-11-03T07:28:17.736252Z",
     "shell.execute_reply": "2023-11-03T07:28:17.735477Z"
    },
    "papermill": {
     "duration": 0.46618,
     "end_time": "2023-11-03T07:28:17.737375",
     "exception": false,
     "start_time": "2023-11-03T07:28:17.271195",
     "status": "completed"
    },
    "tags": []
   },
   "outputs": [
    {
     "name": "stdout",
     "output_type": "stream",
     "text": [
      "Initial GPU Usage\n",
      "| ID | GPU  | MEM |\n",
      "-------------------\n",
      "|  0 |   0% |  8% |\n",
      "|  1 | 100% | 93% |\n",
      "|  2 | 100% | 93% |\n",
      "|  3 | 100% | 93% |\n",
      "|  4 |   0% | 12% |\n",
      "|  5 |   0% |  0% |\n",
      "|  6 |   0% |  0% |\n",
      "|  7 | 100% | 93% |\n"
     ]
    },
    {
     "name": "stdout",
     "output_type": "stream",
     "text": [
      "GPU Usage after emptying the cache\n",
      "| ID | GPU  | MEM |\n",
      "-------------------\n",
      "|  0 |   0% | 10% |\n",
      "|  1 | 100% | 93% |\n",
      "|  2 | 100% | 93% |\n",
      "|  3 | 100% | 93% |\n",
      "|  4 |   0% | 12% |\n",
      "|  5 |   0% |  0% |\n",
      "|  6 |   0% |  0% |\n",
      "|  7 | 100% | 93% |\n"
     ]
    }
   ],
   "source": [
    "def free_gpu_cache():\n",
    "    print(\"Initial GPU Usage\")\n",
    "    gpu_usage()                             \n",
    "\n",
    "    # free unreferenced tensors from the GPU memory.\n",
    "    torch.cuda.empty_cache()\n",
    "\n",
    "    cuda.select_device(0)\n",
    "    cuda.close()\n",
    "    cuda.select_device(0)\n",
    "\n",
    "    print(\"GPU Usage after emptying the cache\")\n",
    "    gpu_usage()\n",
    "\n",
    "free_gpu_cache()   "
   ]
  },
  {
   "cell_type": "code",
   "execution_count": 8,
   "id": "9bc89bc2",
   "metadata": {
    "execution": {
     "iopub.execute_input": "2023-11-03T07:28:17.866930Z",
     "iopub.status.busy": "2023-11-03T07:28:17.866676Z",
     "iopub.status.idle": "2023-11-03T07:28:23.417074Z",
     "shell.execute_reply": "2023-11-03T07:28:23.416359Z"
    },
    "papermill": {
     "duration": 5.607968,
     "end_time": "2023-11-03T07:28:23.418156",
     "exception": false,
     "start_time": "2023-11-03T07:28:17.810188",
     "status": "completed"
    },
    "tags": []
   },
   "outputs": [
    {
     "data": {
      "text/html": [
       "<div>\n",
       "<style scoped>\n",
       "    .dataframe tbody tr th:only-of-type {\n",
       "        vertical-align: middle;\n",
       "    }\n",
       "\n",
       "    .dataframe tbody tr th {\n",
       "        vertical-align: top;\n",
       "    }\n",
       "\n",
       "    .dataframe thead th {\n",
       "        text-align: right;\n",
       "    }\n",
       "</style>\n",
       "<table border=\"1\" class=\"dataframe\">\n",
       "  <thead>\n",
       "    <tr style=\"text-align: right;\">\n",
       "      <th></th>\n",
       "      <th>text_clean</th>\n",
       "      <th>label</th>\n",
       "    </tr>\n",
       "  </thead>\n",
       "  <tbody>\n",
       "    <tr>\n",
       "      <th>0</th>\n",
       "      <td>implement an android image picker to browse im...</td>\n",
       "      <td>0</td>\n",
       "    </tr>\n",
       "    <tr>\n",
       "      <th>1</th>\n",
       "      <td>when a video is not playing hover should displ...</td>\n",
       "      <td>0</td>\n",
       "    </tr>\n",
       "    <tr>\n",
       "      <th>2</th>\n",
       "      <td>httpstwittercomdisneythingzstatus1224143546594...</td>\n",
       "      <td>0</td>\n",
       "    </tr>\n",
       "    <tr>\n",
       "      <th>3</th>\n",
       "      <td>description there has been a request from a nu...</td>\n",
       "      <td>0</td>\n",
       "    </tr>\n",
       "    <tr>\n",
       "      <th>4</th>\n",
       "      <td>description escape shuttle accelerates faster ...</td>\n",
       "      <td>0</td>\n",
       "    </tr>\n",
       "    <tr>\n",
       "      <th>...</th>\n",
       "      <td>...</td>\n",
       "      <td>...</td>\n",
       "    </tr>\n",
       "    <tr>\n",
       "      <th>539391</th>\n",
       "      <td>id 0x7b7d2f7b7d2f7b6578706f727465645f6e616d657...</td>\n",
       "      <td>1</td>\n",
       "    </tr>\n",
       "    <tr>\n",
       "      <th>539392</th>\n",
       "      <td>there is no link to the game from the childs p...</td>\n",
       "      <td>1</td>\n",
       "    </tr>\n",
       "    <tr>\n",
       "      <th>539393</th>\n",
       "      <td>i set up an alb with a cognito auth listener a...</td>\n",
       "      <td>1</td>\n",
       "    </tr>\n",
       "    <tr>\n",
       "      <th>539394</th>\n",
       "      <td>in bfe00c5httpsgithubcomxnaasnitterinstancesco...</td>\n",
       "      <td>1</td>\n",
       "    </tr>\n",
       "    <tr>\n",
       "      <th>539395</th>\n",
       "      <td>swap not yet working input amount cant clear</td>\n",
       "      <td>1</td>\n",
       "    </tr>\n",
       "  </tbody>\n",
       "</table>\n",
       "<p>539396 rows × 2 columns</p>\n",
       "</div>"
      ],
      "text/plain": [
       "                                               text_clean  label\n",
       "0       implement an android image picker to browse im...      0\n",
       "1       when a video is not playing hover should displ...      0\n",
       "2       httpstwittercomdisneythingzstatus1224143546594...      0\n",
       "3       description there has been a request from a nu...      0\n",
       "4       description escape shuttle accelerates faster ...      0\n",
       "...                                                   ...    ...\n",
       "539391  id 0x7b7d2f7b7d2f7b6578706f727465645f6e616d657...      1\n",
       "539392  there is no link to the game from the childs p...      1\n",
       "539393  i set up an alb with a cognito auth listener a...      1\n",
       "539394  in bfe00c5httpsgithubcomxnaasnitterinstancesco...      1\n",
       "539395       swap not yet working input amount cant clear      1\n",
       "\n",
       "[539396 rows x 2 columns]"
      ]
     },
     "execution_count": 8,
     "metadata": {},
     "output_type": "execute_result"
    }
   ],
   "source": [
    "data = pd.read_csv(\"csv/priority_high_or_not_high_clean.csv\" , index_col = 0)\n",
    "data"
   ]
  },
  {
   "cell_type": "code",
   "execution_count": 9,
   "id": "f26fa5fc",
   "metadata": {
    "execution": {
     "iopub.execute_input": "2023-11-03T07:28:23.553434Z",
     "iopub.status.busy": "2023-11-03T07:28:23.553171Z",
     "iopub.status.idle": "2023-11-03T07:28:23.556651Z",
     "shell.execute_reply": "2023-11-03T07:28:23.556182Z"
    },
    "papermill": {
     "duration": 0.081788,
     "end_time": "2023-11-03T07:28:23.557584",
     "exception": false,
     "start_time": "2023-11-03T07:28:23.475796",
     "status": "completed"
    },
    "tags": []
   },
   "outputs": [],
   "source": [
    "# Smaller and faster than bert.\n",
    "base_model_id = \"distilbert-base-uncased\"\n",
    "\n",
    "epochs = 5 #Number of full cyles through the training set.\n",
    "num_labels = 2 #Number of labels, high, med, low priority.\n",
    "learning_rate = 5e-5 # Rate the model updates based on the data its trained on.\n",
    "train_batch_size = 16 # Number of training examples in one iteration.\n",
    "eval_batch_size = 32 # Number evalutaion examples in on iteratoion.\n",
    "save_strategy = \"no\" # Should the model be saved automatically during training.\n",
    "save_steps = 500 # How often to save the model during training. No effect since no over.\n",
    "logging_steps = 100\n",
    "model_dir = \"./model\" #Where to save model\n",
    "\n",
    "# Use early stopping to prevent overfitting\n",
    "#load_best_model_at_end=True\n",
    "#metric_for_best_model=\"eval_loss\"\n",
    "#greater_is_better=False"
   ]
  },
  {
   "cell_type": "code",
   "execution_count": 10,
   "id": "c48ccefc",
   "metadata": {
    "execution": {
     "iopub.execute_input": "2023-11-03T07:28:23.709892Z",
     "iopub.status.busy": "2023-11-03T07:28:23.709697Z",
     "iopub.status.idle": "2023-11-03T07:28:23.713354Z",
     "shell.execute_reply": "2023-11-03T07:28:23.712857Z"
    },
    "papermill": {
     "duration": 0.072664,
     "end_time": "2023-11-03T07:28:23.714263",
     "exception": false,
     "start_time": "2023-11-03T07:28:23.641599",
     "status": "completed"
    },
    "tags": []
   },
   "outputs": [],
   "source": [
    "\n",
    "# Split dataframe into three parts: training, validation and testing.\n",
    "def train_validate_test_split(df, train_percent=.8, validate_percent=.1, seed=42):\n",
    "    np.random.seed(seed)\n",
    "    # Shuffle index of dataframe\n",
    "    perm = np.random.permutation(df.index)\n",
    "    \n",
    "    df_length = len(df.index)\n",
    "    \n",
    "    # Number of row in training set\n",
    "    train_end = int(train_percent * df_length)\n",
    "    # Number of rows in validate set\n",
    "    validate_end = int(validate_percent * df_length) + train_end\n",
    "    \n",
    "    # From start to train end\n",
    "    train = df.iloc[perm[:train_end]]\n",
    "    # From train_end to validate_end\n",
    "    validate = df.iloc[perm[train_end:validate_end]]\n",
    "    # From validate to the last row in dataframe.\n",
    "    test = df.iloc[perm[validate_end:]]\n",
    "    return train, validate, test"
   ]
  },
  {
   "cell_type": "code",
   "execution_count": 11,
   "id": "830cb234",
   "metadata": {
    "execution": {
     "iopub.execute_input": "2023-11-03T07:28:23.817602Z",
     "iopub.status.busy": "2023-11-03T07:28:23.817276Z",
     "iopub.status.idle": "2023-11-03T07:28:23.906956Z",
     "shell.execute_reply": "2023-11-03T07:28:23.906252Z"
    },
    "papermill": {
     "duration": 0.142828,
     "end_time": "2023-11-03T07:28:23.908617",
     "exception": false,
     "start_time": "2023-11-03T07:28:23.765789",
     "status": "completed"
    },
    "tags": []
   },
   "outputs": [],
   "source": [
    "# Drops rows with missing values\n",
    "data.dropna(inplace=True)"
   ]
  },
  {
   "cell_type": "code",
   "execution_count": 12,
   "id": "365a025e",
   "metadata": {
    "execution": {
     "iopub.execute_input": "2023-11-03T07:28:24.042620Z",
     "iopub.status.busy": "2023-11-03T07:28:24.042229Z",
     "iopub.status.idle": "2023-11-03T07:28:24.051102Z",
     "shell.execute_reply": "2023-11-03T07:28:24.050584Z"
    },
    "papermill": {
     "duration": 0.078463,
     "end_time": "2023-11-03T07:28:24.052094",
     "exception": false,
     "start_time": "2023-11-03T07:28:23.973631",
     "status": "completed"
    },
    "tags": []
   },
   "outputs": [
    {
     "data": {
      "text/html": [
       "<div>\n",
       "<style scoped>\n",
       "    .dataframe tbody tr th:only-of-type {\n",
       "        vertical-align: middle;\n",
       "    }\n",
       "\n",
       "    .dataframe tbody tr th {\n",
       "        vertical-align: top;\n",
       "    }\n",
       "\n",
       "    .dataframe thead th {\n",
       "        text-align: right;\n",
       "    }\n",
       "</style>\n",
       "<table border=\"1\" class=\"dataframe\">\n",
       "  <thead>\n",
       "    <tr style=\"text-align: right;\">\n",
       "      <th></th>\n",
       "      <th>index</th>\n",
       "      <th>text_clean</th>\n",
       "      <th>label</th>\n",
       "    </tr>\n",
       "  </thead>\n",
       "  <tbody>\n",
       "    <tr>\n",
       "      <th>0</th>\n",
       "      <td>0</td>\n",
       "      <td>implement an android image picker to browse im...</td>\n",
       "      <td>0</td>\n",
       "    </tr>\n",
       "    <tr>\n",
       "      <th>1</th>\n",
       "      <td>1</td>\n",
       "      <td>when a video is not playing hover should displ...</td>\n",
       "      <td>0</td>\n",
       "    </tr>\n",
       "    <tr>\n",
       "      <th>2</th>\n",
       "      <td>2</td>\n",
       "      <td>httpstwittercomdisneythingzstatus1224143546594...</td>\n",
       "      <td>0</td>\n",
       "    </tr>\n",
       "    <tr>\n",
       "      <th>3</th>\n",
       "      <td>3</td>\n",
       "      <td>description there has been a request from a nu...</td>\n",
       "      <td>0</td>\n",
       "    </tr>\n",
       "    <tr>\n",
       "      <th>4</th>\n",
       "      <td>4</td>\n",
       "      <td>description escape shuttle accelerates faster ...</td>\n",
       "      <td>0</td>\n",
       "    </tr>\n",
       "    <tr>\n",
       "      <th>...</th>\n",
       "      <td>...</td>\n",
       "      <td>...</td>\n",
       "      <td>...</td>\n",
       "    </tr>\n",
       "    <tr>\n",
       "      <th>539391</th>\n",
       "      <td>539391</td>\n",
       "      <td>id 0x7b7d2f7b7d2f7b6578706f727465645f6e616d657...</td>\n",
       "      <td>1</td>\n",
       "    </tr>\n",
       "    <tr>\n",
       "      <th>539392</th>\n",
       "      <td>539392</td>\n",
       "      <td>there is no link to the game from the childs p...</td>\n",
       "      <td>1</td>\n",
       "    </tr>\n",
       "    <tr>\n",
       "      <th>539393</th>\n",
       "      <td>539393</td>\n",
       "      <td>i set up an alb with a cognito auth listener a...</td>\n",
       "      <td>1</td>\n",
       "    </tr>\n",
       "    <tr>\n",
       "      <th>539394</th>\n",
       "      <td>539394</td>\n",
       "      <td>in bfe00c5httpsgithubcomxnaasnitterinstancesco...</td>\n",
       "      <td>1</td>\n",
       "    </tr>\n",
       "    <tr>\n",
       "      <th>539395</th>\n",
       "      <td>539395</td>\n",
       "      <td>swap not yet working input amount cant clear</td>\n",
       "      <td>1</td>\n",
       "    </tr>\n",
       "  </tbody>\n",
       "</table>\n",
       "<p>539396 rows × 3 columns</p>\n",
       "</div>"
      ],
      "text/plain": [
       "         index                                         text_clean  label\n",
       "0            0  implement an android image picker to browse im...      0\n",
       "1            1  when a video is not playing hover should displ...      0\n",
       "2            2  httpstwittercomdisneythingzstatus1224143546594...      0\n",
       "3            3  description there has been a request from a nu...      0\n",
       "4            4  description escape shuttle accelerates faster ...      0\n",
       "...        ...                                                ...    ...\n",
       "539391  539391  id 0x7b7d2f7b7d2f7b6578706f727465645f6e616d657...      1\n",
       "539392  539392  there is no link to the game from the childs p...      1\n",
       "539393  539393  i set up an alb with a cognito auth listener a...      1\n",
       "539394  539394  in bfe00c5httpsgithubcomxnaasnitterinstancesco...      1\n",
       "539395  539395       swap not yet working input amount cant clear      1\n",
       "\n",
       "[539396 rows x 3 columns]"
      ]
     },
     "execution_count": 12,
     "metadata": {},
     "output_type": "execute_result"
    }
   ],
   "source": [
    "# Resets the index after dropping rows\n",
    "data.reset_index(inplace=True)\n",
    "data"
   ]
  },
  {
   "cell_type": "code",
   "execution_count": 13,
   "id": "29193757",
   "metadata": {
    "execution": {
     "iopub.execute_input": "2023-11-03T07:28:24.172924Z",
     "iopub.status.busy": "2023-11-03T07:28:24.172586Z",
     "iopub.status.idle": "2023-11-03T07:28:24.206228Z",
     "shell.execute_reply": "2023-11-03T07:28:24.205502Z"
    },
    "papermill": {
     "duration": 0.090416,
     "end_time": "2023-11-03T07:28:24.207176",
     "exception": false,
     "start_time": "2023-11-03T07:28:24.116760",
     "status": "completed"
    },
    "tags": []
   },
   "outputs": [],
   "source": [
    "#Drops the index col, better for managint the data.\n",
    "data.drop(columns= [\"index\"], inplace = True)"
   ]
  },
  {
   "cell_type": "code",
   "execution_count": 14,
   "id": "2d65133a",
   "metadata": {
    "execution": {
     "iopub.execute_input": "2023-11-03T07:28:24.346851Z",
     "iopub.status.busy": "2023-11-03T07:28:24.346538Z",
     "iopub.status.idle": "2023-11-03T07:28:24.353503Z",
     "shell.execute_reply": "2023-11-03T07:28:24.353014Z"
    },
    "papermill": {
     "duration": 0.077195,
     "end_time": "2023-11-03T07:28:24.354464",
     "exception": false,
     "start_time": "2023-11-03T07:28:24.277269",
     "status": "completed"
    },
    "tags": []
   },
   "outputs": [
    {
     "data": {
      "text/html": [
       "<div>\n",
       "<style scoped>\n",
       "    .dataframe tbody tr th:only-of-type {\n",
       "        vertical-align: middle;\n",
       "    }\n",
       "\n",
       "    .dataframe tbody tr th {\n",
       "        vertical-align: top;\n",
       "    }\n",
       "\n",
       "    .dataframe thead th {\n",
       "        text-align: right;\n",
       "    }\n",
       "</style>\n",
       "<table border=\"1\" class=\"dataframe\">\n",
       "  <thead>\n",
       "    <tr style=\"text-align: right;\">\n",
       "      <th></th>\n",
       "      <th>text_clean</th>\n",
       "      <th>label</th>\n",
       "    </tr>\n",
       "  </thead>\n",
       "  <tbody>\n",
       "    <tr>\n",
       "      <th>0</th>\n",
       "      <td>implement an android image picker to browse im...</td>\n",
       "      <td>0</td>\n",
       "    </tr>\n",
       "    <tr>\n",
       "      <th>1</th>\n",
       "      <td>when a video is not playing hover should displ...</td>\n",
       "      <td>0</td>\n",
       "    </tr>\n",
       "    <tr>\n",
       "      <th>2</th>\n",
       "      <td>httpstwittercomdisneythingzstatus1224143546594...</td>\n",
       "      <td>0</td>\n",
       "    </tr>\n",
       "    <tr>\n",
       "      <th>3</th>\n",
       "      <td>description there has been a request from a nu...</td>\n",
       "      <td>0</td>\n",
       "    </tr>\n",
       "    <tr>\n",
       "      <th>4</th>\n",
       "      <td>description escape shuttle accelerates faster ...</td>\n",
       "      <td>0</td>\n",
       "    </tr>\n",
       "    <tr>\n",
       "      <th>...</th>\n",
       "      <td>...</td>\n",
       "      <td>...</td>\n",
       "    </tr>\n",
       "    <tr>\n",
       "      <th>539391</th>\n",
       "      <td>id 0x7b7d2f7b7d2f7b6578706f727465645f6e616d657...</td>\n",
       "      <td>1</td>\n",
       "    </tr>\n",
       "    <tr>\n",
       "      <th>539392</th>\n",
       "      <td>there is no link to the game from the childs p...</td>\n",
       "      <td>1</td>\n",
       "    </tr>\n",
       "    <tr>\n",
       "      <th>539393</th>\n",
       "      <td>i set up an alb with a cognito auth listener a...</td>\n",
       "      <td>1</td>\n",
       "    </tr>\n",
       "    <tr>\n",
       "      <th>539394</th>\n",
       "      <td>in bfe00c5httpsgithubcomxnaasnitterinstancesco...</td>\n",
       "      <td>1</td>\n",
       "    </tr>\n",
       "    <tr>\n",
       "      <th>539395</th>\n",
       "      <td>swap not yet working input amount cant clear</td>\n",
       "      <td>1</td>\n",
       "    </tr>\n",
       "  </tbody>\n",
       "</table>\n",
       "<p>539396 rows × 2 columns</p>\n",
       "</div>"
      ],
      "text/plain": [
       "                                               text_clean  label\n",
       "0       implement an android image picker to browse im...      0\n",
       "1       when a video is not playing hover should displ...      0\n",
       "2       httpstwittercomdisneythingzstatus1224143546594...      0\n",
       "3       description there has been a request from a nu...      0\n",
       "4       description escape shuttle accelerates faster ...      0\n",
       "...                                                   ...    ...\n",
       "539391  id 0x7b7d2f7b7d2f7b6578706f727465645f6e616d657...      1\n",
       "539392  there is no link to the game from the childs p...      1\n",
       "539393  i set up an alb with a cognito auth listener a...      1\n",
       "539394  in bfe00c5httpsgithubcomxnaasnitterinstancesco...      1\n",
       "539395       swap not yet working input amount cant clear      1\n",
       "\n",
       "[539396 rows x 2 columns]"
      ]
     },
     "execution_count": 14,
     "metadata": {},
     "output_type": "execute_result"
    }
   ],
   "source": [
    "data"
   ]
  },
  {
   "cell_type": "code",
   "execution_count": 15,
   "id": "eb0e425f",
   "metadata": {
    "execution": {
     "iopub.execute_input": "2023-11-03T07:28:24.475243Z",
     "iopub.status.busy": "2023-11-03T07:28:24.474921Z",
     "iopub.status.idle": "2023-11-03T07:28:24.557432Z",
     "shell.execute_reply": "2023-11-03T07:28:24.556720Z"
    },
    "papermill": {
     "duration": 0.150372,
     "end_time": "2023-11-03T07:28:24.559414",
     "exception": false,
     "start_time": "2023-11-03T07:28:24.409042",
     "status": "completed"
    },
    "tags": []
   },
   "outputs": [],
   "source": [
    "# 60% trainig, 20% validate, 20% test. Seed None.\n",
    "# Test 80-10-10 and 70-15-15\n",
    "train , validate , test = train_validate_test_split(data)"
   ]
  },
  {
   "cell_type": "code",
   "execution_count": 16,
   "id": "024bdd28",
   "metadata": {
    "execution": {
     "iopub.execute_input": "2023-11-03T07:28:24.676455Z",
     "iopub.status.busy": "2023-11-03T07:28:24.676148Z",
     "iopub.status.idle": "2023-11-03T07:28:24.680060Z",
     "shell.execute_reply": "2023-11-03T07:28:24.679678Z"
    },
    "papermill": {
     "duration": 0.059296,
     "end_time": "2023-11-03T07:28:24.680939",
     "exception": false,
     "start_time": "2023-11-03T07:28:24.621643",
     "status": "completed"
    },
    "tags": []
   },
   "outputs": [],
   "source": [
    "train.set_index(\"label\" , inplace = True)\n",
    "validate.set_index(\"label\" , inplace = True)\n",
    "test.set_index(\"label\" , inplace = True)"
   ]
  },
  {
   "cell_type": "code",
   "execution_count": 17,
   "id": "6cb16842",
   "metadata": {
    "execution": {
     "iopub.execute_input": "2023-11-03T07:28:24.819397Z",
     "iopub.status.busy": "2023-11-03T07:28:24.819067Z",
     "iopub.status.idle": "2023-11-03T07:28:24.825678Z",
     "shell.execute_reply": "2023-11-03T07:28:24.825196Z"
    },
    "papermill": {
     "duration": 0.072011,
     "end_time": "2023-11-03T07:28:24.826690",
     "exception": false,
     "start_time": "2023-11-03T07:28:24.754679",
     "status": "completed"
    },
    "tags": []
   },
   "outputs": [
    {
     "data": {
      "text/html": [
       "<div>\n",
       "<style scoped>\n",
       "    .dataframe tbody tr th:only-of-type {\n",
       "        vertical-align: middle;\n",
       "    }\n",
       "\n",
       "    .dataframe tbody tr th {\n",
       "        vertical-align: top;\n",
       "    }\n",
       "\n",
       "    .dataframe thead th {\n",
       "        text-align: right;\n",
       "    }\n",
       "</style>\n",
       "<table border=\"1\" class=\"dataframe\">\n",
       "  <thead>\n",
       "    <tr style=\"text-align: right;\">\n",
       "      <th></th>\n",
       "      <th>text_clean</th>\n",
       "    </tr>\n",
       "    <tr>\n",
       "      <th>label</th>\n",
       "      <th></th>\n",
       "    </tr>\n",
       "  </thead>\n",
       "  <tbody>\n",
       "    <tr>\n",
       "      <th>0</th>\n",
       "      <td>describe the bug the whole user guide is not c...</td>\n",
       "    </tr>\n",
       "    <tr>\n",
       "      <th>0</th>\n",
       "      <td>original issue 1101httpscodegooglecompcodename...</td>\n",
       "    </tr>\n",
       "    <tr>\n",
       "      <th>1</th>\n",
       "      <td>hi how do i set username and password textfiel...</td>\n",
       "    </tr>\n",
       "    <tr>\n",
       "      <th>1</th>\n",
       "      <td>on the home screen if a user doesnt have permi...</td>\n",
       "    </tr>\n",
       "    <tr>\n",
       "      <th>1</th>\n",
       "      <td>its super unlikely to be a problem but the azu...</td>\n",
       "    </tr>\n",
       "    <tr>\n",
       "      <th>...</th>\n",
       "      <td>...</td>\n",
       "    </tr>\n",
       "    <tr>\n",
       "      <th>0</th>\n",
       "      <td>browser firefox mobile 680 uaheader mozilla50 ...</td>\n",
       "    </tr>\n",
       "    <tr>\n",
       "      <th>1</th>\n",
       "      <td>a player object has the following properties n...</td>\n",
       "    </tr>\n",
       "    <tr>\n",
       "      <th>1</th>\n",
       "      <td>minecraft version 1171 forge version 3702 logs...</td>\n",
       "    </tr>\n",
       "    <tr>\n",
       "      <th>0</th>\n",
       "      <td>issue url ads httpsfishkinet2618036kchm2018vek...</td>\n",
       "    </tr>\n",
       "    <tr>\n",
       "      <th>0</th>\n",
       "      <td>when running soorgeon clean we convert the not...</td>\n",
       "    </tr>\n",
       "  </tbody>\n",
       "</table>\n",
       "<p>53941 rows × 1 columns</p>\n",
       "</div>"
      ],
      "text/plain": [
       "                                              text_clean\n",
       "label                                                   \n",
       "0      describe the bug the whole user guide is not c...\n",
       "0      original issue 1101httpscodegooglecompcodename...\n",
       "1      hi how do i set username and password textfiel...\n",
       "1      on the home screen if a user doesnt have permi...\n",
       "1      its super unlikely to be a problem but the azu...\n",
       "...                                                  ...\n",
       "0      browser firefox mobile 680 uaheader mozilla50 ...\n",
       "1      a player object has the following properties n...\n",
       "1      minecraft version 1171 forge version 3702 logs...\n",
       "0      issue url ads httpsfishkinet2618036kchm2018vek...\n",
       "0      when running soorgeon clean we convert the not...\n",
       "\n",
       "[53941 rows x 1 columns]"
      ]
     },
     "execution_count": 17,
     "metadata": {},
     "output_type": "execute_result"
    }
   ],
   "source": [
    "test"
   ]
  },
  {
   "cell_type": "code",
   "execution_count": 18,
   "id": "a32ee5b1",
   "metadata": {
    "execution": {
     "iopub.execute_input": "2023-11-03T07:28:24.957855Z",
     "iopub.status.busy": "2023-11-03T07:28:24.957585Z",
     "iopub.status.idle": "2023-11-03T07:28:25.664610Z",
     "shell.execute_reply": "2023-11-03T07:28:25.663989Z"
    },
    "papermill": {
     "duration": 0.762405,
     "end_time": "2023-11-03T07:28:25.665883",
     "exception": false,
     "start_time": "2023-11-03T07:28:24.903478",
     "status": "completed"
    },
    "tags": []
   },
   "outputs": [
    {
     "data": {
      "text/plain": [
       "DatasetDict({\n",
       "    test: Dataset({\n",
       "        features: ['text_clean', 'label'],\n",
       "        num_rows: 53941\n",
       "    })\n",
       "    train: Dataset({\n",
       "        features: ['text_clean', 'label'],\n",
       "        num_rows: 431516\n",
       "    })\n",
       "    validate: Dataset({\n",
       "        features: ['text_clean', 'label'],\n",
       "        num_rows: 53939\n",
       "    })\n",
       "})"
      ]
     },
     "execution_count": 18,
     "metadata": {},
     "output_type": "execute_result"
    }
   ],
   "source": [
    "# Convert from Pandas DataFrame to Hugging Face datasets\n",
    "tds = Dataset.from_pandas(train)\n",
    "vds = Dataset.from_pandas(validate)\n",
    "testds = Dataset.from_pandas(test)\n",
    "\n",
    "ds = DatasetDict()\n",
    "\n",
    "ds[\"test\"] = testds\n",
    "ds[\"train\"] = tds\n",
    "ds[\"validate\"] = vds\n",
    "\n",
    "ds"
   ]
  },
  {
   "cell_type": "code",
   "execution_count": 19,
   "id": "386b14ca",
   "metadata": {
    "execution": {
     "iopub.execute_input": "2023-11-03T07:28:25.829395Z",
     "iopub.status.busy": "2023-11-03T07:28:25.829138Z",
     "iopub.status.idle": "2023-11-03T07:28:25.832079Z",
     "shell.execute_reply": "2023-11-03T07:28:25.831494Z"
    },
    "papermill": {
     "duration": 0.065665,
     "end_time": "2023-11-03T07:28:25.832906",
     "exception": false,
     "start_time": "2023-11-03T07:28:25.767241",
     "status": "completed"
    },
    "tags": []
   },
   "outputs": [],
   "source": [
    "train_dataset = ds[\"train\"]\n",
    "valid_dataset = ds[\"validate\"]\n",
    "test_ds = ds[\"test\"]"
   ]
  },
  {
   "cell_type": "code",
   "execution_count": 20,
   "id": "3263a36c",
   "metadata": {
    "execution": {
     "iopub.execute_input": "2023-11-03T07:28:25.940855Z",
     "iopub.status.busy": "2023-11-03T07:28:25.940279Z",
     "iopub.status.idle": "2023-11-03T07:28:25.950269Z",
     "shell.execute_reply": "2023-11-03T07:28:25.949769Z"
    },
    "papermill": {
     "duration": 0.064147,
     "end_time": "2023-11-03T07:28:25.951152",
     "exception": false,
     "start_time": "2023-11-03T07:28:25.887005",
     "status": "completed"
    },
    "tags": []
   },
   "outputs": [
    {
     "data": {
      "text/plain": [
       "{'text_clean': 'in 19f8ba0httpsgithubcomkaratekhdstatuscommit19f8ba0124a1fc68c14a76c7f775f8eb10e68e72 iserv for comparison secretsite2 was down http code 0 response time 0 ms',\n",
       " 'label': 1}"
      ]
     },
     "execution_count": 20,
     "metadata": {},
     "output_type": "execute_result"
    }
   ],
   "source": [
    "ds[\"train\"][0]"
   ]
  },
  {
   "cell_type": "code",
   "execution_count": 21,
   "id": "b7ef1614",
   "metadata": {
    "execution": {
     "iopub.execute_input": "2023-11-03T07:28:26.080129Z",
     "iopub.status.busy": "2023-11-03T07:28:26.079562Z",
     "iopub.status.idle": "2023-11-03T07:28:26.082822Z",
     "shell.execute_reply": "2023-11-03T07:28:26.082308Z"
    },
    "papermill": {
     "duration": 0.065188,
     "end_time": "2023-11-03T07:28:26.083695",
     "exception": false,
     "start_time": "2023-11-03T07:28:26.018507",
     "status": "completed"
    },
    "tags": []
   },
   "outputs": [],
   "source": [
    "def compute_metrics(pred):\n",
    "    labels = pred.label_ids\n",
    "    preds = pred.predictions.argmax(-1)\n",
    "    precision, recall, f1, _ = precision_recall_fscore_support(labels, preds)\n",
    "    acc = accuracy_score(labels, preds)\n",
    "    return {\"accuracy\": acc, \"f1\": f1, \"precision\": precision, \"recall\": recall}"
   ]
  },
  {
   "cell_type": "code",
   "execution_count": 22,
   "id": "cbffc393",
   "metadata": {
    "execution": {
     "iopub.execute_input": "2023-11-03T07:28:26.189530Z",
     "iopub.status.busy": "2023-11-03T07:28:26.189087Z",
     "iopub.status.idle": "2023-11-03T07:28:28.002056Z",
     "shell.execute_reply": "2023-11-03T07:28:28.001307Z"
    },
    "papermill": {
     "duration": 1.866777,
     "end_time": "2023-11-03T07:28:28.003762",
     "exception": false,
     "start_time": "2023-11-03T07:28:26.136985",
     "status": "completed"
    },
    "tags": []
   },
   "outputs": [
    {
     "name": "stderr",
     "output_type": "stream",
     "text": [
      "Some weights of DistilBertForSequenceClassification were not initialized from the model checkpoint at distilbert-base-uncased and are newly initialized: ['classifier.bias', 'pre_classifier.weight', 'pre_classifier.bias', 'classifier.weight']\n",
      "You should probably TRAIN this model on a down-stream task to be able to use it for predictions and inference.\n"
     ]
    }
   ],
   "source": [
    "device = torch.device(\"cuda\" if torch.cuda.is_available() else \"cpu\")\n",
    "model = AutoModelForSequenceClassification.from_pretrained(base_model_id, num_labels=num_labels)\n",
    "#tokenizer = AutoTokenizer.from_pretrained(base_model_id)\n",
    "# optim = torch.optim.Adam(model.parameters(), lr=5e-5)"
   ]
  },
  {
   "cell_type": "markdown",
   "id": "484feadf",
   "metadata": {
    "papermill": {
     "duration": 0.062263,
     "end_time": "2023-11-03T07:28:28.148156",
     "exception": false,
     "start_time": "2023-11-03T07:28:28.085893",
     "status": "completed"
    },
    "tags": []
   },
   "source": [
    "## Tokenization"
   ]
  },
  {
   "cell_type": "code",
   "execution_count": 23,
   "id": "d90b52d3",
   "metadata": {
    "execution": {
     "iopub.execute_input": "2023-11-03T07:28:28.271514Z",
     "iopub.status.busy": "2023-11-03T07:28:28.271258Z",
     "iopub.status.idle": "2023-11-03T07:28:28.461031Z",
     "shell.execute_reply": "2023-11-03T07:28:28.460318Z"
    },
    "papermill": {
     "duration": 0.2601,
     "end_time": "2023-11-03T07:28:28.462409",
     "exception": false,
     "start_time": "2023-11-03T07:28:28.202309",
     "status": "completed"
    },
    "tags": []
   },
   "outputs": [],
   "source": [
    "model_ckpt = \"distilbert-base-uncased\"\n",
    "tokenizer = AutoTokenizer.from_pretrained(model_ckpt)"
   ]
  },
  {
   "cell_type": "markdown",
   "id": "b76dfffd",
   "metadata": {
    "papermill": {
     "duration": 0.063826,
     "end_time": "2023-11-03T07:28:28.584997",
     "exception": false,
     "start_time": "2023-11-03T07:28:28.521171",
     "status": "completed"
    },
    "tags": []
   },
   "source": [
    "    Tokenizing the whole dataset"
   ]
  },
  {
   "cell_type": "code",
   "execution_count": 24,
   "id": "9c848144",
   "metadata": {
    "execution": {
     "iopub.execute_input": "2023-11-03T07:28:28.733659Z",
     "iopub.status.busy": "2023-11-03T07:28:28.733267Z",
     "iopub.status.idle": "2023-11-03T07:37:36.894333Z",
     "shell.execute_reply": "2023-11-03T07:37:36.893373Z"
    },
    "papermill": {
     "duration": 548.253481,
     "end_time": "2023-11-03T07:37:36.895471",
     "exception": false,
     "start_time": "2023-11-03T07:28:28.641990",
     "status": "completed"
    },
    "tags": []
   },
   "outputs": [
    {
     "data": {
      "application/vnd.jupyter.widget-view+json": {
       "model_id": "2154c71c95e54f868d7e18ec4511a04e",
       "version_major": 2,
       "version_minor": 0
      },
      "text/plain": [
       "Map:   0%|          | 0/431516 [00:00<?, ? examples/s]"
      ]
     },
     "metadata": {},
     "output_type": "display_data"
    },
    {
     "data": {
      "application/vnd.jupyter.widget-view+json": {
       "model_id": "01f731a99d424c93bbdcd3b3315e8a18",
       "version_major": 2,
       "version_minor": 0
      },
      "text/plain": [
       "Map:   0%|          | 0/53939 [00:00<?, ? examples/s]"
      ]
     },
     "metadata": {},
     "output_type": "display_data"
    },
    {
     "data": {
      "application/vnd.jupyter.widget-view+json": {
       "model_id": "38f5dbe43037470797a3d2fbdde68aef",
       "version_major": 2,
       "version_minor": 0
      },
      "text/plain": [
       "Map:   0%|          | 0/53941 [00:00<?, ? examples/s]"
      ]
     },
     "metadata": {},
     "output_type": "display_data"
    }
   ],
   "source": [
    "#Tokenize the dataset to the correct input for the transformer model.\n",
    "def tokenize(batch):\n",
    "    return tokenizer(batch[\"text_clean\"], padding=\"max_length\", truncation=True)\n",
    "\n",
    "train_dataset = train_dataset.map(tokenize, batched=True, batch_size=len(train_dataset))\n",
    "valid_dataset = valid_dataset.map(tokenize, batched=True, batch_size=len(valid_dataset))\n",
    "test_dataset = test_ds.map(tokenize, batched=True, batch_size=len(test_ds))"
   ]
  },
  {
   "cell_type": "markdown",
   "id": "d10c7769",
   "metadata": {
    "papermill": {
     "duration": 0.058831,
     "end_time": "2023-11-03T07:37:37.005781",
     "exception": false,
     "start_time": "2023-11-03T07:37:36.946950",
     "status": "completed"
    },
    "tags": []
   },
   "source": [
    "## Training a classifier"
   ]
  },
  {
   "cell_type": "code",
   "execution_count": 25,
   "id": "5a5a7f8c",
   "metadata": {
    "execution": {
     "iopub.execute_input": "2023-11-03T07:37:37.127381Z",
     "iopub.status.busy": "2023-11-03T07:37:37.127185Z",
     "iopub.status.idle": "2023-11-03T07:37:37.137849Z",
     "shell.execute_reply": "2023-11-03T07:37:37.137366Z"
    },
    "papermill": {
     "duration": 0.069042,
     "end_time": "2023-11-03T07:37:37.138774",
     "exception": false,
     "start_time": "2023-11-03T07:37:37.069732",
     "status": "completed"
    },
    "tags": []
   },
   "outputs": [],
   "source": [
    "training_args = TrainingArguments(\n",
    "    output_dir=model_dir,\n",
    "    num_train_epochs=epochs,\n",
    "    per_device_train_batch_size=train_batch_size,\n",
    "    per_device_eval_batch_size=eval_batch_size,\n",
    "    save_strategy=save_strategy,\n",
    "    save_steps=save_steps,\n",
    "    evaluation_strategy=\"epoch\",\n",
    "    learning_rate=learning_rate,\n",
    "    logging_steps=logging_steps,\n",
    ")"
   ]
  },
  {
   "cell_type": "code",
   "execution_count": 26,
   "id": "318fc8a3",
   "metadata": {
    "execution": {
     "iopub.execute_input": "2023-11-03T07:37:37.266708Z",
     "iopub.status.busy": "2023-11-03T07:37:37.266499Z",
     "iopub.status.idle": "2023-11-03T07:37:41.400261Z",
     "shell.execute_reply": "2023-11-03T07:37:41.399435Z"
    },
    "papermill": {
     "duration": 4.205115,
     "end_time": "2023-11-03T07:37:41.401617",
     "exception": false,
     "start_time": "2023-11-03T07:37:37.196502",
     "status": "completed"
    },
    "tags": []
   },
   "outputs": [],
   "source": [
    " trainer = Trainer(\n",
    "    model=model,\n",
    "    args=training_args,\n",
    "    tokenizer=tokenizer,\n",
    "    compute_metrics=compute_metrics,\n",
    "    train_dataset=train_dataset,\n",
    "    eval_dataset=valid_dataset,\n",
    ")"
   ]
  },
  {
   "cell_type": "code",
   "execution_count": 27,
   "id": "0b5578f2",
   "metadata": {
    "execution": {
     "iopub.execute_input": "2023-11-03T07:37:41.519282Z",
     "iopub.status.busy": "2023-11-03T07:37:41.518885Z"
    },
    "papermill": {
     "duration": 534619.088541,
     "end_time": "2023-11-09T12:08:00.542503",
     "exception": false,
     "start_time": "2023-11-03T07:37:41.453962",
     "status": "completed"
    },
    "tags": []
   },
   "outputs": [
    {
     "name": "stderr",
     "output_type": "stream",
     "text": [
      "You're using a DistilBertTokenizerFast tokenizer. Please note that with a fast tokenizer, using the `__call__` method is faster than using a method to encode the text followed by a call to the `pad` method to get a padded encoding.\n"
     ]
    }
   ],
   "source": [
    "trainer.train() "
   ]
  },
  {
   "cell_type": "markdown",
   "id": "a8ac7267",
   "metadata": {
    "papermill": {
     "duration": null,
     "end_time": null,
     "exception": null,
     "start_time": null,
     "status": "completed"
    },
    "tags": []
   },
   "source": [
    "* Training loss: Difference between the predictons made by the model on the training dataset vs on the actual data.\n",
    "* Validation loss: how well the model functions on unseen data.\n",
    "* Accuracy: How much the model gets correct. number of correct Prediction / total number of predictions.\n",
    "* F1: consider both precision and recall. \n",
    "* Precision: Accuracy of positive predictions. Percison TP = TP + FP. How often the model is correct.\n",
    "* Recall: True positive rate. how many items the model gets correct from the total amount."
   ]
  },
  {
   "cell_type": "markdown",
   "id": "7c34a7fd",
   "metadata": {
    "papermill": {
     "duration": null,
     "end_time": null,
     "exception": null,
     "start_time": null,
     "status": "completed"
    },
    "tags": []
   },
   "source": [
    "### Training loss decreases, valdiation loss increases = Overfitting"
   ]
  },
  {
   "cell_type": "code",
   "execution_count": null,
   "id": "a791423d",
   "metadata": {
    "papermill": {
     "duration": null,
     "end_time": null,
     "exception": null,
     "start_time": null,
     "status": "completed"
    },
    "tags": []
   },
   "outputs": [],
   "source": [
    "# Evaluate valdiation set\n",
    "eval_result = trainer.evaluate(eval_dataset=valid_dataset)"
   ]
  },
  {
   "cell_type": "code",
   "execution_count": null,
   "id": "88295878",
   "metadata": {
    "papermill": {
     "duration": null,
     "end_time": null,
     "exception": null,
     "start_time": null,
     "status": "completed"
    },
    "tags": []
   },
   "outputs": [],
   "source": [
    "for key, value in sorted(eval_result.items()):\n",
    "    print(f\"{key} = {value}\\n\")"
   ]
  },
  {
   "cell_type": "code",
   "execution_count": null,
   "id": "dce22454",
   "metadata": {
    "papermill": {
     "duration": null,
     "end_time": null,
     "exception": null,
     "start_time": null,
     "status": "completed"
    },
    "tags": []
   },
   "outputs": [],
   "source": [
    "# Evaluate test data set\n",
    "test_results = trainer.evaluate(eval_dataset=test_dataset)"
   ]
  },
  {
   "cell_type": "code",
   "execution_count": null,
   "id": "5970cfc5",
   "metadata": {
    "papermill": {
     "duration": null,
     "end_time": null,
     "exception": null,
     "start_time": null,
     "status": "completed"
    },
    "tags": []
   },
   "outputs": [],
   "source": [
    "for key, value in sorted(test_results.items()):\n",
    "    print(f\"{key} = {value}\\n\")"
   ]
  },
  {
   "cell_type": "code",
   "execution_count": null,
   "id": "c52c8395",
   "metadata": {
    "papermill": {
     "duration": null,
     "end_time": null,
     "exception": null,
     "start_time": null,
     "status": "completed"
    },
    "tags": []
   },
   "outputs": [],
   "source": [
    "trainer.save_model(model_dir + \"_local\") "
   ]
  },
  {
   "cell_type": "code",
   "execution_count": null,
   "id": "cac76c94",
   "metadata": {
    "papermill": {
     "duration": null,
     "end_time": null,
     "exception": null,
     "start_time": null,
     "status": "completed"
    },
    "tags": []
   },
   "outputs": [],
   "source": [
    "from transformers import pipeline\n",
    "    \n",
    "classifier = pipeline(\"text-classification\", model=\"./model_local\")"
   ]
  },
  {
   "cell_type": "code",
   "execution_count": null,
   "id": "534615c2",
   "metadata": {
    "papermill": {
     "duration": null,
     "end_time": null,
     "exception": null,
     "start_time": null,
     "status": "completed"
    },
    "tags": []
   },
   "outputs": [],
   "source": [
    "classifier.model"
   ]
  },
  {
   "cell_type": "code",
   "execution_count": null,
   "id": "ee71c0f7",
   "metadata": {
    "papermill": {
     "duration": null,
     "end_time": null,
     "exception": null,
     "start_time": null,
     "status": "completed"
    },
    "tags": []
   },
   "outputs": [],
   "source": [
    "classifier(\"this does not need to be done fast\")"
   ]
  },
  {
   "cell_type": "code",
   "execution_count": null,
   "id": "3978b8ee",
   "metadata": {
    "papermill": {
     "duration": null,
     "end_time": null,
     "exception": null,
     "start_time": null,
     "status": "completed"
    },
    "tags": []
   },
   "outputs": [],
   "source": [
    "classifier(\"this is super important\")"
   ]
  },
  {
   "cell_type": "code",
   "execution_count": null,
   "id": "fcb83892",
   "metadata": {
    "papermill": {
     "duration": null,
     "end_time": null,
     "exception": null,
     "start_time": null,
     "status": "completed"
    },
    "tags": []
   },
   "outputs": [],
   "source": [
    "classifier(\"this bug has super high impact on the project\")"
   ]
  },
  {
   "cell_type": "markdown",
   "id": "25a082ef",
   "metadata": {
    "papermill": {
     "duration": null,
     "end_time": null,
     "exception": null,
     "start_time": null,
     "status": "completed"
    },
    "tags": []
   },
   "source": [
    "## Important to delete large objects to free memory \n",
    "del train_dataset"
   ]
  },
  {
   "cell_type": "code",
   "execution_count": null,
   "id": "44bc1927",
   "metadata": {
    "papermill": {
     "duration": null,
     "end_time": null,
     "exception": null,
     "start_time": null,
     "status": "completed"
    },
    "tags": []
   },
   "outputs": [],
   "source": [
    "del valid_dataset"
   ]
  },
  {
   "cell_type": "code",
   "execution_count": null,
   "id": "7d547dc0",
   "metadata": {
    "papermill": {
     "duration": null,
     "end_time": null,
     "exception": null,
     "start_time": null,
     "status": "completed"
    },
    "tags": []
   },
   "outputs": [],
   "source": [
    "del model"
   ]
  },
  {
   "cell_type": "code",
   "execution_count": null,
   "id": "ff22f3df",
   "metadata": {
    "papermill": {
     "duration": null,
     "end_time": null,
     "exception": null,
     "start_time": null,
     "status": "completed"
    },
    "tags": []
   },
   "outputs": [],
   "source": [
    "# Free cache\n",
    "torch.cuda.empty_cache()"
   ]
  },
  {
   "cell_type": "code",
   "execution_count": null,
   "id": "3f2be48e",
   "metadata": {
    "papermill": {
     "duration": null,
     "end_time": null,
     "exception": null,
     "start_time": null,
     "status": "completed"
    },
    "tags": []
   },
   "outputs": [],
   "source": [
    "!nvidia-smi"
   ]
  },
  {
   "cell_type": "code",
   "execution_count": null,
   "id": "c7ff4d6b",
   "metadata": {
    "papermill": {
     "duration": null,
     "end_time": null,
     "exception": null,
     "start_time": null,
     "status": "completed"
    },
    "tags": []
   },
   "outputs": [],
   "source": []
  }
 ],
 "metadata": {
  "kernelspec": {
   "display_name": "Python 3 (ipykernel)",
   "language": "python",
   "name": "python3"
  },
  "language_info": {
   "codemirror_mode": {
    "name": "ipython",
    "version": 3
   },
   "file_extension": ".py",
   "mimetype": "text/x-python",
   "name": "python",
   "nbconvert_exporter": "python",
   "pygments_lexer": "ipython3",
   "version": "3.11.5"
  },
  "papermill": {
   "default_parameters": {},
   "duration": 535191.181674,
   "end_time": "2023-11-09T12:08:01.014076",
   "environment_variables": {},
   "exception": null,
   "input_path": "04_bert_priority.ipynb",
   "output_path": "04_bert_priority_out.ipynb",
   "parameters": {},
   "start_time": "2023-11-03T07:28:09.832402",
   "version": "2.5.0"
  }
 },
 "nbformat": 4,
 "nbformat_minor": 5
}
