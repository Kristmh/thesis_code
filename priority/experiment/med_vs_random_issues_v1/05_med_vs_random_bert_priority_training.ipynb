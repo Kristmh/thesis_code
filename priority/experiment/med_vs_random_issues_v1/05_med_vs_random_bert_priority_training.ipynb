{
 "cells": [
  {
   "cell_type": "markdown",
   "id": "f89275a9",
   "metadata": {},
   "source": [
    "# Importsand preparations"
   ]
  },
  {
   "cell_type": "code",
   "execution_count": 1,
   "id": "d3d342db",
   "metadata": {
    "tags": []
   },
   "outputs": [
    {
     "name": "stderr",
     "output_type": "stream",
     "text": [
      "/itf-fi-ml/home/krimhau/.local/lib/python3.10/site-packages/tqdm/auto.py:21: TqdmWarning: IProgress not found. Please update jupyter and ipywidgets. See https://ipywidgets.readthedocs.io/en/stable/user_install.html\n",
      "  from .autonotebook import tqdm as notebook_tqdm\n"
     ]
    }
   ],
   "source": [
    "import pandas as pd\n",
    "import torch\n",
    "import os\n",
    "import numpy as np\n",
    "import datasets\n",
    "import transformers\n",
    "from GPUtil import showUtilization as gpu_usage\n",
    "from numba import cuda\n",
    "import torch.nn.functional as F\n",
    "\n",
    "from sklearn.metrics import accuracy_score, precision_recall_fscore_support\n",
    "from transformers import (\n",
    "    AutoModelForSequenceClassification,\n",
    "    AutoTokenizer,\n",
    "    Trainer,\n",
    "    TrainingArguments,\n",
    ")\n",
    "\n",
    "from datasets import load_dataset"
   ]
  },
  {
   "cell_type": "code",
   "execution_count": 2,
   "id": "13b3abce",
   "metadata": {},
   "outputs": [],
   "source": [
    "# !watch -n 0.5 nvidia-smi"
   ]
  },
  {
   "cell_type": "code",
   "execution_count": 3,
   "id": "6579d707",
   "metadata": {},
   "outputs": [
    {
     "name": "stdout",
     "output_type": "stream",
     "text": [
      "PyTorch version: 2.1.0+cu121\n",
      "CUDA version: 12.1\n",
      "cuDNN version: 8902\n",
      "Current device: 0\n",
      "Is cuda available: True\n"
     ]
    }
   ],
   "source": [
    "print(f'PyTorch version: {torch.__version__}')  # 1.9.1+cu111\n",
    "print(f'CUDA version: {torch.version.cuda}')  # 11.1\n",
    "print(f'cuDNN version: {torch.backends.cudnn.version()}')  # 8005\n",
    "print(f'Current device: {torch.cuda.current_device()}')  # 0\n",
    "print(f'Is cuda available: {torch.cuda.is_available()}')  # TRUE"
   ]
  },
  {
   "cell_type": "code",
   "execution_count": 4,
   "id": "30504d49",
   "metadata": {},
   "outputs": [
    {
     "name": "stdout",
     "output_type": "stream",
     "text": [
      "Transformers version: 4.35.0\n",
      "Datasets version: 2.14.6\n"
     ]
    }
   ],
   "source": [
    "print(f'Transformers version: {transformers.__version__}')\n",
    "print(f'Datasets version: {datasets.__version__}')"
   ]
  },
  {
   "cell_type": "code",
   "execution_count": 5,
   "id": "1f96c096",
   "metadata": {},
   "outputs": [],
   "source": [
    "# Prevent a warning related to the tokenization process in the transformers library. \n",
    "os.environ[\"TOKENIZERS_PARALLELISM\"] = \"False\"\n",
    "# Makes CUDA operations synchronous\n",
    "os.environ[\"CUDA_LAUNCH_BLOCKING\"] = \"1\""
   ]
  },
  {
   "cell_type": "code",
   "execution_count": 6,
   "id": "855ee0e4",
   "metadata": {},
   "outputs": [
    {
     "name": "stdout",
     "output_type": "stream",
     "text": [
      "Wed Jan 31 09:53:40 2024       \n",
      "+---------------------------------------------------------------------------------------+\n",
      "| NVIDIA-SMI 545.23.08              Driver Version: 545.23.08    CUDA Version: 12.3     |\n",
      "|-----------------------------------------+----------------------+----------------------+\n",
      "| GPU  Name                 Persistence-M | Bus-Id        Disp.A | Volatile Uncorr. ECC |\n",
      "| Fan  Temp   Perf          Pwr:Usage/Cap |         Memory-Usage | GPU-Util  Compute M. |\n",
      "|                                         |                      |               MIG M. |\n",
      "|=========================================+======================+======================|\n",
      "|   0  NVIDIA GeForce RTX 2080 Ti     On  | 00000000:01:00.0 Off |                  N/A |\n",
      "| 22%   32C    P2              57W / 250W |  10915MiB / 11264MiB |      1%      Default |\n",
      "|                                         |                      |                  N/A |\n",
      "+-----------------------------------------+----------------------+----------------------+\n",
      "|   1  NVIDIA GeForce RTX 2080 Ti     On  | 00000000:23:00.0 Off |                  N/A |\n",
      "| 22%   25C    P8               5W / 250W |      3MiB / 11264MiB |      0%      Default |\n",
      "|                                         |                      |                  N/A |\n",
      "+-----------------------------------------+----------------------+----------------------+\n",
      "|   2  NVIDIA GeForce RTX 2080 Ti     On  | 00000000:41:00.0 Off |                  N/A |\n",
      "| 22%   24C    P8               9W / 250W |      3MiB / 11264MiB |      0%      Default |\n",
      "|                                         |                      |                  N/A |\n",
      "+-----------------------------------------+----------------------+----------------------+\n",
      "|   3  NVIDIA GeForce RTX 2080 Ti     On  | 00000000:61:00.0 Off |                  N/A |\n",
      "| 22%   24C    P8              17W / 250W |  10503MiB / 11264MiB |      0%      Default |\n",
      "|                                         |                      |                  N/A |\n",
      "+-----------------------------------------+----------------------+----------------------+\n",
      "|   4  NVIDIA GeForce RTX 2080 Ti     On  | 00000000:81:00.0 Off |                  N/A |\n",
      "| 22%   38C    P0              90W / 250W |      3MiB / 11264MiB |    100%      Default |\n",
      "|                                         |                      |                  N/A |\n",
      "+-----------------------------------------+----------------------+----------------------+\n",
      "|   5  NVIDIA GeForce RTX 2080 Ti     On  | 00000000:A1:00.0 Off |                  N/A |\n",
      "| 22%   39C    P0              98W / 250W |      3MiB / 11264MiB |    100%      Default |\n",
      "|                                         |                      |                  N/A |\n",
      "+-----------------------------------------+----------------------+----------------------+\n",
      "|   6  NVIDIA GeForce RTX 2080 Ti     On  | 00000000:C1:00.0 Off |                  N/A |\n",
      "| 22%   38C    P0              98W / 250W |      3MiB / 11264MiB |    100%      Default |\n",
      "|                                         |                      |                  N/A |\n",
      "+-----------------------------------------+----------------------+----------------------+\n",
      "|   7  NVIDIA GeForce RTX 2080 Ti     On  | 00000000:E1:00.0 Off |                  N/A |\n",
      "| 22%   24C    P8              20W / 250W |      3MiB / 11264MiB |      0%      Default |\n",
      "|                                         |                      |                  N/A |\n",
      "+-----------------------------------------+----------------------+----------------------+\n",
      "                                                                                         \n",
      "+---------------------------------------------------------------------------------------+\n",
      "| Processes:                                                                            |\n",
      "|  GPU   GI   CI        PID   Type   Process name                            GPU Memory |\n",
      "|        ID   ID                                                             Usage      |\n",
      "|=======================================================================================|\n",
      "|    0   N/A  N/A    257091      C   python                                    10500MiB |\n",
      "|    0   N/A  N/A    772647      C   python                                      412MiB |\n",
      "|    3   N/A  N/A   3986009      C   python                                    10500MiB |\n",
      "+---------------------------------------------------------------------------------------+\n"
     ]
    }
   ],
   "source": [
    "# Find the GPU with the least memory usage.\n",
    "!nvidia-smi"
   ]
  },
  {
   "cell_type": "code",
   "execution_count": 7,
   "id": "c72ee9e8",
   "metadata": {},
   "outputs": [
    {
     "name": "stdout",
     "output_type": "stream",
     "text": [
      "Initial GPU Usage\n",
      "| ID | GPU  | MEM |\n",
      "-------------------\n",
      "|  0 |   1% | 97% |\n",
      "|  1 |   0% |  0% |\n",
      "|  2 |   0% |  0% |\n",
      "|  3 |   0% | 93% |\n",
      "|  4 | 100% |  0% |\n",
      "|  5 | 100% |  0% |\n",
      "|  6 | 100% |  0% |\n",
      "|  7 |   0% |  0% |\n",
      "GPU Usage after emptying the cache\n",
      "| ID | GPU  | MEM |\n",
      "-------------------\n",
      "|  0 |   1% | 97% |\n",
      "|  1 |   0% |  0% |\n",
      "|  2 |   0% |  0% |\n",
      "|  3 |   0% | 93% |\n",
      "|  4 | 100% |  0% |\n",
      "|  5 | 100% |  0% |\n",
      "|  6 | 100% |  0% |\n",
      "|  7 |   0% |  1% |\n"
     ]
    }
   ],
   "source": [
    "def free_gpu_cache():\n",
    "    print(\"Initial GPU Usage\")\n",
    "    gpu_usage()                             \n",
    "\n",
    "    # free unreferenced tensors from the GPU memory.\n",
    "    torch.cuda.empty_cache()\n",
    "\n",
    "    cuda.select_device(0)\n",
    "    cuda.close()\n",
    "    cuda.select_device(0)\n",
    "\n",
    "    print(\"GPU Usage after emptying the cache\")\n",
    "    gpu_usage()\n",
    "\n",
    "free_gpu_cache()   "
   ]
  },
  {
   "cell_type": "code",
   "execution_count": 8,
   "id": "f26fa5fc",
   "metadata": {},
   "outputs": [],
   "source": [
    "# Smaller and faster than bert.\n",
    "model_ckpt = \"distilbert-base-uncased\"\n",
    "\n",
    "epochs = 3 #Number of full cycles through the training set.\n",
    "num_labels = 2 #Number of labels, high, med, low priority.\n",
    "learning_rate = 5e-5 # Rate the model updates based on the data its trained on.\n",
    "train_batch_size = 16 # Number of training examples in one iteration.\n",
    "eval_batch_size = 32 # Number evaluation examples in on iteration.\n",
    "save_strategy = \"no\" # Should the model be saved automatically during training.\n",
    "save_steps = 500 # How often to save the model during training. No effect since no over.\n",
    "logging_steps = 100\n",
    "model_dir = \"./model\" #Where to save model\n",
    "\n",
    "# Use early stopping to prevent overfitting\n",
    "#load_best_model_at_end=True\n",
    "#metric_for_best_model=\"eval_loss\"\n",
    "#greater_is_better=False"
   ]
  },
  {
   "cell_type": "markdown",
   "id": "4efee485",
   "metadata": {},
   "source": [
    "Load dataset from huggingface"
   ]
  },
  {
   "cell_type": "code",
   "execution_count": 9,
   "id": "5f2d5625",
   "metadata": {},
   "outputs": [
    {
     "name": "stderr",
     "output_type": "stream",
     "text": [
      "Downloading readme: 100%|█████████████████████████████████████| 782/782 [00:00<00:00, 6.57MB/s]\n",
      "Downloading data files:   0%|                                            | 0/3 [00:00<?, ?it/s]\n",
      "Downloading data:   0%|                                            | 0.00/11.2M [00:00<?, ?B/s]\u001b[A\n",
      "Downloading data:  37%|█████████████                      | 4.19M/11.2M [00:01<00:01, 3.63MB/s]\u001b[A\n",
      "Downloading data: 100%|███████████████████████████████████| 11.2M/11.2M [00:01<00:00, 6.22MB/s]\u001b[A\n",
      "Downloading data files:  33%|████████████                        | 1/3 [00:01<00:03,  1.82s/it]\n",
      "Downloading data:   0%|                                            | 0.00/91.4M [00:00<?, ?B/s]\u001b[A\n",
      "Downloading data:   5%|█▌                                 | 4.19M/91.4M [00:00<00:19, 4.55MB/s]\u001b[A\n",
      "Downloading data:  14%|████▊                              | 12.6M/91.4M [00:01<00:11, 6.73MB/s]\u001b[A\n",
      "Downloading data:  23%|████████                           | 21.0M/91.4M [00:02<00:08, 8.14MB/s]\u001b[A\n",
      "Downloading data:  32%|███████████▏                       | 29.4M/91.4M [00:03<00:06, 9.93MB/s]\u001b[A\n",
      "Downloading data:  41%|██████████████▍                    | 37.7M/91.4M [00:04<00:05, 10.7MB/s]\u001b[A\n",
      "Downloading data:  50%|█████████████████▋                 | 46.1M/91.4M [00:04<00:04, 10.6MB/s]\u001b[A\n",
      "Downloading data:  60%|████████████████████▊              | 54.5M/91.4M [00:06<00:04, 8.68MB/s]\u001b[A\n",
      "Downloading data:  69%|████████████████████████           | 62.9M/91.4M [00:07<00:03, 8.08MB/s]\u001b[A\n",
      "Downloading data:  78%|███████████████████████████▎       | 71.3M/91.4M [00:08<00:02, 8.18MB/s]\u001b[A\n",
      "Downloading data:  87%|██████████████████████████████▌    | 79.7M/91.4M [00:09<00:01, 8.83MB/s]\u001b[A\n",
      "Downloading data: 100%|███████████████████████████████████| 91.4M/91.4M [00:10<00:00, 8.62MB/s]\u001b[A\n",
      "Downloading data files:  67%|████████████████████████            | 2/3 [00:12<00:07,  7.00s/it]\n",
      "Downloading data:   0%|                                            | 0.00/11.3M [00:00<?, ?B/s]\u001b[A\n",
      "Downloading data:  37%|█████████████                      | 4.19M/11.3M [00:00<00:01, 4.35MB/s]\u001b[A\n",
      "Downloading data: 100%|███████████████████████████████████| 11.3M/11.3M [00:01<00:00, 6.61MB/s]\u001b[A\n",
      "Downloading data files: 100%|████████████████████████████████████| 3/3 [00:14<00:00,  4.72s/it]\n",
      "Extracting data files: 100%|████████████████████████████████████| 3/3 [00:00<00:00, 292.07it/s]\n",
      "Generating test split: 100%|██████████████████| 27588/27588 [00:00<00:00, 128660.89 examples/s]\n",
      "Generating train split: 100%|███████████████| 220698/220698 [00:00<00:00, 246725.87 examples/s]\n",
      "Generating validate split: 100%|██████████████| 27587/27587 [00:00<00:00, 160862.54 examples/s]\n"
     ]
    },
    {
     "data": {
      "text/plain": [
       "DatasetDict({\n",
       "    test: Dataset({\n",
       "        features: ['text_clean', 'labels', 'class', '__index_level_0__'],\n",
       "        num_rows: 27588\n",
       "    })\n",
       "    train: Dataset({\n",
       "        features: ['text_clean', 'labels', 'class', '__index_level_0__'],\n",
       "        num_rows: 220698\n",
       "    })\n",
       "    validate: Dataset({\n",
       "        features: ['text_clean', 'labels', 'class', '__index_level_0__'],\n",
       "        num_rows: 27587\n",
       "    })\n",
       "})"
      ]
     },
     "execution_count": 9,
     "metadata": {},
     "output_type": "execute_result"
    }
   ],
   "source": [
    "dataset = load_dataset(\"kristmh/med_vs_random\")\n",
    "dataset"
   ]
  },
  {
   "cell_type": "code",
   "execution_count": 10,
   "id": "ac7b1d66",
   "metadata": {},
   "outputs": [
    {
     "name": "stderr",
     "output_type": "stream",
     "text": [
      "Downloading readme: 100%|█████████████████████████████████████| 558/558 [00:00<00:00, 4.62MB/s]\n",
      "Downloading data files:   0%|                                            | 0/1 [00:00<?, ?it/s]\n",
      "Downloading data:   0%|                                            | 0.00/5.26M [00:00<?, ?B/s]\u001b[A\n",
      "Downloading data: 100%|███████████████████████████████████| 5.26M/5.26M [00:00<00:00, 6.73MB/s]\u001b[A\n",
      "Downloading data files: 100%|████████████████████████████████████| 1/1 [00:00<00:00,  1.26it/s]\n",
      "Extracting data files: 100%|████████████████████████████████████| 1/1 [00:00<00:00, 127.39it/s]\n",
      "Generating test_separate split: 100%|█████████| 14910/14910 [00:00<00:00, 117541.83 examples/s]\n"
     ]
    },
    {
     "data": {
      "text/plain": [
       "DatasetDict({\n",
       "    test_separate: Dataset({\n",
       "        features: ['text_clean', 'labels', 'class'],\n",
       "        num_rows: 14910\n",
       "    })\n",
       "})"
      ]
     },
     "execution_count": 10,
     "metadata": {},
     "output_type": "execute_result"
    }
   ],
   "source": [
    "test_dataset = load_dataset((\"kristmh/test_med_vs_high_low_priority\"))\n",
    "test_dataset"
   ]
  },
  {
   "cell_type": "code",
   "execution_count": 11,
   "id": "b7ef1614",
   "metadata": {},
   "outputs": [],
   "source": [
    "def compute_metrics(pred):\n",
    "    labels = pred.label_ids\n",
    "    preds = pred.predictions.argmax(-1)\n",
    "    precision, recall, f1, _ = precision_recall_fscore_support(labels, preds)\n",
    "    acc = accuracy_score(labels, preds)\n",
    "    return {\"accuracy\": acc, \"f1\": f1, \"precision\": precision, \"recall\": recall}"
   ]
  },
  {
   "cell_type": "code",
   "execution_count": 12,
   "id": "051c5a21",
   "metadata": {},
   "outputs": [
    {
     "name": "stderr",
     "output_type": "stream",
     "text": [
      "Some weights of DistilBertForSequenceClassification were not initialized from the model checkpoint at distilbert-base-uncased and are newly initialized: ['pre_classifier.bias', 'classifier.weight', 'classifier.bias', 'pre_classifier.weight']\n",
      "You should probably TRAIN this model on a down-stream task to be able to use it for predictions and inference.\n"
     ]
    }
   ],
   "source": [
    "model = AutoModelForSequenceClassification.from_pretrained(model_ckpt, num_labels=num_labels)"
   ]
  },
  {
   "cell_type": "code",
   "execution_count": 13,
   "id": "cbffc393",
   "metadata": {},
   "outputs": [
    {
     "data": {
      "text/plain": [
       "device(type='cuda')"
      ]
     },
     "execution_count": 13,
     "metadata": {},
     "output_type": "execute_result"
    }
   ],
   "source": [
    "device = torch.device(\"cuda\" if torch.cuda.is_available() else \"cpu\")\n",
    "model.to(device)\n",
    "device"
   ]
  },
  {
   "cell_type": "markdown",
   "id": "484feadf",
   "metadata": {},
   "source": [
    "## Tokenization"
   ]
  },
  {
   "cell_type": "code",
   "execution_count": 14,
   "id": "d90b52d3",
   "metadata": {},
   "outputs": [],
   "source": [
    "tokenizer = AutoTokenizer.from_pretrained(model_ckpt)"
   ]
  },
  {
   "cell_type": "markdown",
   "id": "b76dfffd",
   "metadata": {},
   "source": [
    "    Tokenizing the whole dataset"
   ]
  },
  {
   "cell_type": "code",
   "execution_count": 15,
   "id": "9c848144",
   "metadata": {},
   "outputs": [],
   "source": [
    "#Tokenize the dataset to the correct input for the transformer model.\n",
    "def tokenize(batch):\n",
    "    return tokenizer(batch[\"text_clean\"], padding=\"max_length\", truncation=True)"
   ]
  },
  {
   "cell_type": "code",
   "execution_count": 16,
   "id": "a425bf42",
   "metadata": {},
   "outputs": [
    {
     "name": "stderr",
     "output_type": "stream",
     "text": [
      "Map: 100%|██████████████████████████████████████| 27588/27588 [00:21<00:00, 1286.98 examples/s]\n",
      "Map: 100%|████████████████████████████████████| 220698/220698 [02:55<00:00, 1254.76 examples/s]\n",
      "Map: 100%|██████████████████████████████████████| 27587/27587 [00:21<00:00, 1257.85 examples/s]\n"
     ]
    },
    {
     "data": {
      "text/plain": [
       "DatasetDict({\n",
       "    test: Dataset({\n",
       "        features: ['text_clean', 'labels', 'class', '__index_level_0__', 'input_ids', 'attention_mask'],\n",
       "        num_rows: 27588\n",
       "    })\n",
       "    train: Dataset({\n",
       "        features: ['text_clean', 'labels', 'class', '__index_level_0__', 'input_ids', 'attention_mask'],\n",
       "        num_rows: 220698\n",
       "    })\n",
       "    validate: Dataset({\n",
       "        features: ['text_clean', 'labels', 'class', '__index_level_0__', 'input_ids', 'attention_mask'],\n",
       "        num_rows: 27587\n",
       "    })\n",
       "})"
      ]
     },
     "execution_count": 16,
     "metadata": {},
     "output_type": "execute_result"
    }
   ],
   "source": [
    "tokenized_dataset = dataset.map(tokenize, batched=True)\n",
    "tokenized_dataset"
   ]
  },
  {
   "cell_type": "code",
   "execution_count": 17,
   "id": "cc18e535",
   "metadata": {},
   "outputs": [
    {
     "name": "stderr",
     "output_type": "stream",
     "text": [
      "Map: 100%|██████████████████████████████████████| 14910/14910 [00:10<00:00, 1457.31 examples/s]\n"
     ]
    },
    {
     "data": {
      "text/plain": [
       "DatasetDict({\n",
       "    test_separate: Dataset({\n",
       "        features: ['text_clean', 'labels', 'class', 'input_ids', 'attention_mask'],\n",
       "        num_rows: 14910\n",
       "    })\n",
       "})"
      ]
     },
     "execution_count": 17,
     "metadata": {},
     "output_type": "execute_result"
    }
   ],
   "source": [
    "test_tokenized_dataset = test_dataset.map(tokenize, batched=True)\n",
    "test_tokenized_dataset"
   ]
  },
  {
   "cell_type": "code",
   "execution_count": 18,
   "id": "6abccc4a",
   "metadata": {},
   "outputs": [
    {
     "data": {
      "text/plain": [
       "Dataset({\n",
       "    features: ['labels', 'class', 'input_ids', 'attention_mask'],\n",
       "    num_rows: 14910\n",
       "})"
      ]
     },
     "execution_count": 18,
     "metadata": {},
     "output_type": "execute_result"
    }
   ],
   "source": [
    "separate_test_set = test_tokenized_dataset[\"test_separate\"]\n",
    "separate_test_set = separate_test_set.remove_columns([\"text_clean\"])\n",
    "separate_test_set"
   ]
  },
  {
   "cell_type": "code",
   "execution_count": 19,
   "id": "b50c5678",
   "metadata": {},
   "outputs": [
    {
     "name": "stdout",
     "output_type": "stream",
     "text": [
      "Dataset({\n",
      "    features: ['labels', 'input_ids', 'attention_mask'],\n",
      "    num_rows: 220698\n",
      "})\n",
      "Dataset({\n",
      "    features: ['labels', 'input_ids', 'attention_mask'],\n",
      "    num_rows: 27587\n",
      "})\n"
     ]
    },
    {
     "data": {
      "text/plain": [
       "Dataset({\n",
       "    features: ['labels', 'input_ids', 'attention_mask'],\n",
       "    num_rows: 27588\n",
       "})"
      ]
     },
     "execution_count": 19,
     "metadata": {},
     "output_type": "execute_result"
    }
   ],
   "source": [
    "# List the columns of the dataset.\n",
    "# Should be: [\"attention_mask\", \"input_ids\", \"labels\", \"token_type_ids\"]\n",
    "# Remove unnecessary columns that the model does not expect.\n",
    "tokenized_dataset = tokenized_dataset.remove_columns([\"text_clean\",\"class\", \"__index_level_0__\"])\n",
    "\n",
    "train_dataset = tokenized_dataset[\"train\"]\n",
    "print(train_dataset)\n",
    "validation_dataset = tokenized_dataset[\"validate\"]\n",
    "print(validation_dataset)\n",
    "test_dataset = tokenized_dataset[\"test\"]\n",
    "test_dataset"
   ]
  },
  {
   "cell_type": "markdown",
   "id": "d10c7769",
   "metadata": {},
   "source": [
    "## Training a classifier"
   ]
  },
  {
   "cell_type": "code",
   "execution_count": 20,
   "id": "5a5a7f8c",
   "metadata": {},
   "outputs": [],
   "source": [
    "training_args = TrainingArguments(\n",
    "    output_dir=model_dir,\n",
    "    num_train_epochs=epochs,\n",
    "    per_device_train_batch_size=train_batch_size,\n",
    "    per_device_eval_batch_size=eval_batch_size,\n",
    "    save_strategy=save_strategy,\n",
    "    save_steps=save_steps,\n",
    "    evaluation_strategy=\"epoch\",\n",
    "    learning_rate=learning_rate,\n",
    "    logging_steps=logging_steps,\n",
    ")"
   ]
  },
  {
   "cell_type": "code",
   "execution_count": 21,
   "id": "318fc8a3",
   "metadata": {},
   "outputs": [
    {
     "name": "stderr",
     "output_type": "stream",
     "text": [
      "Detected kernel version 4.18.0, which is below the recommended minimum of 5.5.0; this can cause the process to hang. It is recommended to upgrade the kernel to the minimum version or higher.\n"
     ]
    }
   ],
   "source": [
    "trainer = Trainer(\n",
    "    model=model,\n",
    "    args=training_args,\n",
    "    tokenizer=tokenizer,\n",
    "    compute_metrics=compute_metrics,\n",
    "    train_dataset=train_dataset,\n",
    "    eval_dataset=validation_dataset,\n",
    ")"
   ]
  },
  {
   "cell_type": "code",
   "execution_count": 22,
   "id": "0b5578f2",
   "metadata": {},
   "outputs": [
    {
     "name": "stderr",
     "output_type": "stream",
     "text": [
      "You're using a DistilBertTokenizerFast tokenizer. Please note that with a fast tokenizer, using the `__call__` method is faster than using a method to encode the text followed by a call to the `pad` method to get a padded encoding.\n"
     ]
    },
    {
     "data": {
      "text/html": [
       "\n",
       "    <div>\n",
       "      \n",
       "      <progress value='41382' max='41382' style='width:300px; height:20px; vertical-align: middle;'></progress>\n",
       "      [41382/41382 3:31:53, Epoch 3/3]\n",
       "    </div>\n",
       "    <table border=\"1\" class=\"dataframe\">\n",
       "  <thead>\n",
       " <tr style=\"text-align: left;\">\n",
       "      <th>Epoch</th>\n",
       "      <th>Training Loss</th>\n",
       "      <th>Validation Loss</th>\n",
       "      <th>Accuracy</th>\n",
       "      <th>F1</th>\n",
       "      <th>Precision</th>\n",
       "      <th>Recall</th>\n",
       "    </tr>\n",
       "  </thead>\n",
       "  <tbody>\n",
       "    <tr>\n",
       "      <td>1</td>\n",
       "      <td>0.512000</td>\n",
       "      <td>0.514115</td>\n",
       "      <td>0.724145</td>\n",
       "      <td>[0.71095412 0.73618526]</td>\n",
       "      <td>[0.76782345 0.68957007]</td>\n",
       "      <td>[0.661928   0.78955979]</td>\n",
       "    </tr>\n",
       "    <tr>\n",
       "      <td>2</td>\n",
       "      <td>0.447300</td>\n",
       "      <td>0.487119</td>\n",
       "      <td>0.740385</td>\n",
       "      <td>[0.74687213 0.73355655]</td>\n",
       "      <td>[0.74645002 0.73399345]</td>\n",
       "      <td>[0.74729472 0.73312017]</td>\n",
       "    </tr>\n",
       "    <tr>\n",
       "      <td>3</td>\n",
       "      <td>0.374000</td>\n",
       "      <td>0.523545</td>\n",
       "      <td>0.740856</td>\n",
       "      <td>[0.74399284 0.73764175]</td>\n",
       "      <td>[0.75351806 0.7282081 ]</td>\n",
       "      <td>[0.73470542 0.74732302]</td>\n",
       "    </tr>\n",
       "  </tbody>\n",
       "</table><p>"
      ],
      "text/plain": [
       "<IPython.core.display.HTML object>"
      ]
     },
     "metadata": {},
     "output_type": "display_data"
    },
    {
     "data": {
      "text/plain": [
       "TrainOutput(global_step=41382, training_loss=0.46879775607910273, metrics={'train_runtime': 12716.7591, 'train_samples_per_second': 52.065, 'train_steps_per_second': 3.254, 'total_flos': 8.770586984574566e+16, 'train_loss': 0.46879775607910273, 'epoch': 3.0})"
      ]
     },
     "execution_count": 22,
     "metadata": {},
     "output_type": "execute_result"
    }
   ],
   "source": [
    "trainer.train() "
   ]
  },
  {
   "cell_type": "markdown",
   "id": "a8ac7267",
   "metadata": {},
   "source": [
    "* Training loss: Difference between the predictons made by the model on the training dataset vs on the actual data.\n",
    "* Validation loss: how well the model functions on unseen data.\n",
    "* Accuracy: How much the model gets correct. number of correct Prediction / total number of predictions.\n",
    "* F1: consider both precision and recall. \n",
    "* Precision: Accuracy of positive predictions. Percison TP = TP + FP. How often the model is correct.\n",
    "* Recall: True positive rate. how many items the model gets correct from the total amount."
   ]
  },
  {
   "cell_type": "markdown",
   "id": "7c34a7fd",
   "metadata": {},
   "source": [
    "### Training loss decreases, validation loss increases = Overfitting"
   ]
  },
  {
   "cell_type": "code",
   "execution_count": 23,
   "id": "a791423d",
   "metadata": {},
   "outputs": [
    {
     "data": {
      "text/html": [
       "\n",
       "    <div>\n",
       "      \n",
       "      <progress value='2192' max='863' style='width:300px; height:20px; vertical-align: middle;'></progress>\n",
       "      [863/863 07:14]\n",
       "    </div>\n",
       "    "
      ],
      "text/plain": [
       "<IPython.core.display.HTML object>"
      ]
     },
     "metadata": {},
     "output_type": "display_data"
    }
   ],
   "source": [
    "# Evaluate validation set\n",
    "eval_result = trainer.evaluate(eval_dataset=validation_dataset)"
   ]
  },
  {
   "cell_type": "code",
   "execution_count": 24,
   "id": "88295878",
   "metadata": {},
   "outputs": [
    {
     "name": "stdout",
     "output_type": "stream",
     "text": [
      "epoch = 3.0\n",
      "\n",
      "eval_accuracy = 0.7408562003842389\n",
      "\n",
      "eval_f1 = [0.74399284 0.73764175]\n",
      "\n",
      "eval_loss = 0.5235449075698853\n",
      "\n",
      "eval_precision = [0.75351806 0.7282081 ]\n",
      "\n",
      "eval_recall = [0.73470542 0.74732302]\n",
      "\n",
      "eval_runtime = 170.7892\n",
      "\n",
      "eval_samples_per_second = 161.527\n",
      "\n",
      "eval_steps_per_second = 5.053\n",
      "\n"
     ]
    }
   ],
   "source": [
    "for key, value in sorted(eval_result.items()):\n",
    "    print(f\"{key} = {value}\\n\")"
   ]
  },
  {
   "cell_type": "code",
   "execution_count": 25,
   "id": "dce22454",
   "metadata": {},
   "outputs": [],
   "source": [
    "# Evaluate test data set\n",
    "test_results = trainer.evaluate(eval_dataset=test_dataset)"
   ]
  },
  {
   "cell_type": "code",
   "execution_count": 26,
   "id": "5970cfc5",
   "metadata": {},
   "outputs": [
    {
     "name": "stdout",
     "output_type": "stream",
     "text": [
      "epoch = 3.0\n",
      "\n",
      "eval_accuracy = 0.7397056691315065\n",
      "\n",
      "eval_f1 = [0.74164418 0.73773785]\n",
      "\n",
      "eval_loss = 0.5290541648864746\n",
      "\n",
      "eval_precision = [0.74916412 0.73029646]\n",
      "\n",
      "eval_recall = [0.73427371 0.74533245]\n",
      "\n",
      "eval_runtime = 170.8642\n",
      "\n",
      "eval_samples_per_second = 161.462\n",
      "\n",
      "eval_steps_per_second = 5.051\n",
      "\n"
     ]
    }
   ],
   "source": [
    "for key, value in sorted(test_results.items()):\n",
    "    print(f\"{key} = {value}\\n\")"
   ]
  },
  {
   "cell_type": "code",
   "execution_count": 27,
   "id": "1831e15d",
   "metadata": {},
   "outputs": [],
   "source": [
    "trainer.save_model(model_dir + \"_local\") "
   ]
  },
  {
   "cell_type": "code",
   "execution_count": 28,
   "id": "904920e3",
   "metadata": {},
   "outputs": [],
   "source": [
    "# Evaluate separate test set\n",
    "separate_test_results = trainer.evaluate(eval_dataset=separate_test_set)"
   ]
  },
  {
   "cell_type": "code",
   "execution_count": 29,
   "id": "f7e3d032",
   "metadata": {},
   "outputs": [
    {
     "name": "stdout",
     "output_type": "stream",
     "text": [
      "epoch = 3.0\n",
      "\n",
      "eval_accuracy = 0.645271629778672\n",
      "\n",
      "eval_f1 = [0.69998298 0.56615536]\n",
      "\n",
      "eval_loss = 0.9169145822525024\n",
      "\n",
      "eval_precision = [0.61601438 0.70514916]\n",
      "\n",
      "eval_recall = [0.8104558  0.47293408]\n",
      "\n",
      "eval_runtime = 92.449\n",
      "\n",
      "eval_samples_per_second = 161.278\n",
      "\n",
      "eval_steps_per_second = 5.041\n",
      "\n"
     ]
    }
   ],
   "source": [
    "for key, value in sorted(separate_test_results.items()):\n",
    "    print(f\"{key} = {value}\\n\")"
   ]
  },
  {
   "cell_type": "code",
   "execution_count": 30,
   "id": "cac76c94",
   "metadata": {},
   "outputs": [],
   "source": [
    "from transformers import pipeline\n",
    "    \n",
    "classifier = pipeline(\"text-classification\", model=\"./model_local\")"
   ]
  },
  {
   "cell_type": "code",
   "execution_count": 31,
   "id": "534615c2",
   "metadata": {},
   "outputs": [
    {
     "data": {
      "text/plain": [
       "DistilBertForSequenceClassification(\n",
       "  (distilbert): DistilBertModel(\n",
       "    (embeddings): Embeddings(\n",
       "      (word_embeddings): Embedding(30522, 768, padding_idx=0)\n",
       "      (position_embeddings): Embedding(512, 768)\n",
       "      (LayerNorm): LayerNorm((768,), eps=1e-12, elementwise_affine=True)\n",
       "      (dropout): Dropout(p=0.1, inplace=False)\n",
       "    )\n",
       "    (transformer): Transformer(\n",
       "      (layer): ModuleList(\n",
       "        (0-5): 6 x TransformerBlock(\n",
       "          (attention): MultiHeadSelfAttention(\n",
       "            (dropout): Dropout(p=0.1, inplace=False)\n",
       "            (q_lin): Linear(in_features=768, out_features=768, bias=True)\n",
       "            (k_lin): Linear(in_features=768, out_features=768, bias=True)\n",
       "            (v_lin): Linear(in_features=768, out_features=768, bias=True)\n",
       "            (out_lin): Linear(in_features=768, out_features=768, bias=True)\n",
       "          )\n",
       "          (sa_layer_norm): LayerNorm((768,), eps=1e-12, elementwise_affine=True)\n",
       "          (ffn): FFN(\n",
       "            (dropout): Dropout(p=0.1, inplace=False)\n",
       "            (lin1): Linear(in_features=768, out_features=3072, bias=True)\n",
       "            (lin2): Linear(in_features=3072, out_features=768, bias=True)\n",
       "            (activation): GELUActivation()\n",
       "          )\n",
       "          (output_layer_norm): LayerNorm((768,), eps=1e-12, elementwise_affine=True)\n",
       "        )\n",
       "      )\n",
       "    )\n",
       "  )\n",
       "  (pre_classifier): Linear(in_features=768, out_features=768, bias=True)\n",
       "  (classifier): Linear(in_features=768, out_features=2, bias=True)\n",
       "  (dropout): Dropout(p=0.2, inplace=False)\n",
       ")"
      ]
     },
     "execution_count": 31,
     "metadata": {},
     "output_type": "execute_result"
    }
   ],
   "source": [
    "classifier.model"
   ]
  },
  {
   "cell_type": "code",
   "execution_count": 32,
   "id": "ee71c0f7",
   "metadata": {},
   "outputs": [
    {
     "data": {
      "text/plain": [
       "[{'label': 'LABEL_1', 'score': 0.8706313371658325}]"
      ]
     },
     "execution_count": 32,
     "metadata": {},
     "output_type": "execute_result"
    }
   ],
   "source": [
    "classifier(\"this does not need to be done fast\")"
   ]
  },
  {
   "cell_type": "code",
   "execution_count": 33,
   "id": "3978b8ee",
   "metadata": {},
   "outputs": [
    {
     "data": {
      "text/plain": [
       "[{'label': 'LABEL_1', 'score': 0.9203416705131531}]"
      ]
     },
     "execution_count": 33,
     "metadata": {},
     "output_type": "execute_result"
    }
   ],
   "source": [
    "classifier(\"this is super important\")"
   ]
  },
  {
   "cell_type": "code",
   "execution_count": 34,
   "id": "fcb83892",
   "metadata": {},
   "outputs": [
    {
     "data": {
      "text/plain": [
       "[{'label': 'LABEL_1', 'score': 0.8645321130752563}]"
      ]
     },
     "execution_count": 34,
     "metadata": {},
     "output_type": "execute_result"
    }
   ],
   "source": [
    "classifier(\"this bug has super high impact on the project\")"
   ]
  },
  {
   "cell_type": "markdown",
   "id": "25a082ef",
   "metadata": {},
   "source": [
    "## Important to delete large objects to free memory \n",
    "del train_dataset"
   ]
  },
  {
   "cell_type": "code",
   "execution_count": 35,
   "id": "44bc1927",
   "metadata": {},
   "outputs": [],
   "source": [
    "del validation_dataset "
   ]
  },
  {
   "cell_type": "code",
   "execution_count": 36,
   "id": "7d547dc0",
   "metadata": {},
   "outputs": [],
   "source": [
    "del model"
   ]
  },
  {
   "cell_type": "code",
   "execution_count": 37,
   "id": "ff22f3df",
   "metadata": {},
   "outputs": [],
   "source": [
    "# Free cache\n",
    "torch.cuda.empty_cache()"
   ]
  },
  {
   "cell_type": "code",
   "execution_count": 38,
   "id": "3f2be48e",
   "metadata": {},
   "outputs": [
    {
     "name": "stdout",
     "output_type": "stream",
     "text": [
      "Wed Jan 31 13:37:09 2024       \n",
      "+---------------------------------------------------------------------------------------+\n",
      "| NVIDIA-SMI 545.23.08              Driver Version: 545.23.08    CUDA Version: 12.3     |\n",
      "|-----------------------------------------+----------------------+----------------------+\n",
      "| GPU  Name                 Persistence-M | Bus-Id        Disp.A | Volatile Uncorr. ECC |\n",
      "| Fan  Temp   Perf          Pwr:Usage/Cap |         Memory-Usage | GPU-Util  Compute M. |\n",
      "|                                         |                      |               MIG M. |\n",
      "|=========================================+======================+======================|\n",
      "|   0  NVIDIA GeForce RTX 2080 Ti     On  | 00000000:01:00.0 Off |                  N/A |\n",
      "| 22%   32C    P2              58W / 250W |  10915MiB / 11264MiB |      1%      Default |\n",
      "|                                         |                      |                  N/A |\n",
      "+-----------------------------------------+----------------------+----------------------+\n",
      "|   1  NVIDIA GeForce RTX 2080 Ti     On  | 00000000:23:00.0 Off |                  N/A |\n",
      "| 22%   25C    P8               5W / 250W |      3MiB / 11264MiB |      0%      Default |\n",
      "|                                         |                      |                  N/A |\n",
      "+-----------------------------------------+----------------------+----------------------+\n",
      "|   2  NVIDIA GeForce RTX 2080 Ti     On  | 00000000:41:00.0 Off |                  N/A |\n",
      "| 22%   24C    P8               9W / 250W |      3MiB / 11264MiB |      0%      Default |\n",
      "|                                         |                      |                  N/A |\n",
      "+-----------------------------------------+----------------------+----------------------+\n",
      "|   3  NVIDIA GeForce RTX 2080 Ti     On  | 00000000:61:00.0 Off |                  N/A |\n",
      "| 22%   23C    P8              18W / 250W |  10503MiB / 11264MiB |      0%      Default |\n",
      "|                                         |                      |                  N/A |\n",
      "+-----------------------------------------+----------------------+----------------------+\n",
      "|   4  NVIDIA GeForce RTX 2080 Ti     On  | 00000000:81:00.0 Off |                  N/A |\n",
      "| 22%   38C    P0              90W / 250W |      3MiB / 11264MiB |    100%      Default |\n",
      "|                                         |                      |                  N/A |\n",
      "+-----------------------------------------+----------------------+----------------------+\n",
      "|   5  NVIDIA GeForce RTX 2080 Ti     On  | 00000000:A1:00.0 Off |                  N/A |\n",
      "| 22%   38C    P0              98W / 250W |      3MiB / 11264MiB |    100%      Default |\n",
      "|                                         |                      |                  N/A |\n",
      "+-----------------------------------------+----------------------+----------------------+\n",
      "|   6  NVIDIA GeForce RTX 2080 Ti     On  | 00000000:C1:00.0 Off |                  N/A |\n",
      "| 22%   40C    P0              99W / 250W |      3MiB / 11264MiB |    100%      Default |\n",
      "|                                         |                      |                  N/A |\n",
      "+-----------------------------------------+----------------------+----------------------+\n",
      "|   7  NVIDIA GeForce RTX 2080 Ti     On  | 00000000:E1:00.0 Off |                  N/A |\n",
      "| 31%   48C    P2              86W / 250W |   1211MiB / 11264MiB |      9%      Default |\n",
      "|                                         |                      |                  N/A |\n",
      "+-----------------------------------------+----------------------+----------------------+\n",
      "                                                                                         \n",
      "+---------------------------------------------------------------------------------------+\n",
      "| Processes:                                                                            |\n",
      "|  GPU   GI   CI        PID   Type   Process name                            GPU Memory |\n",
      "|        ID   ID                                                             Usage      |\n",
      "|=======================================================================================|\n",
      "|    0   N/A  N/A    257091      C   python                                    10500MiB |\n",
      "|    0   N/A  N/A    772647      C   python                                      412MiB |\n",
      "|    3   N/A  N/A   3986009      C   python                                    10500MiB |\n",
      "|    7   N/A  N/A   3439074      C   ...u/miniconda3/envs/thesis/bin/python     1208MiB |\n",
      "+---------------------------------------------------------------------------------------+\n"
     ]
    }
   ],
   "source": [
    "!nvidia-smi"
   ]
  }
 ],
 "metadata": {
  "kernelspec": {
   "display_name": "Python 3 (ipykernel)",
   "language": "python",
   "name": "python3"
  },
  "language_info": {
   "codemirror_mode": {
    "name": "ipython",
    "version": 3
   },
   "file_extension": ".py",
   "mimetype": "text/x-python",
   "name": "python",
   "nbconvert_exporter": "python",
   "pygments_lexer": "ipython3",
   "version": "3.10.13"
  }
 },
 "nbformat": 4,
 "nbformat_minor": 5
}
