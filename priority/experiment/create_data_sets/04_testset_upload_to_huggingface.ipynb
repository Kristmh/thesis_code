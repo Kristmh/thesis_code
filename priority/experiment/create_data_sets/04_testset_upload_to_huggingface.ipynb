{
 "cells": [
  {
   "cell_type": "markdown",
   "metadata": {},
   "source": [
    "# Split dataset and upload to huggingface\n",
    "* This notebook will spilt the dataset into: training, validate and test set.\n",
    "* Then upload the dataset to huggingface "
   ]
  },
  {
   "cell_type": "code",
   "execution_count": 27,
   "metadata": {},
   "outputs": [],
   "source": [
    "import pandas as pd\n",
    "import numpy as np\n",
    "from datasets import Dataset, DatasetDict\n",
    "from huggingface_hub import notebook_login"
   ]
  },
  {
   "cell_type": "code",
   "execution_count": 28,
   "metadata": {},
   "outputs": [
    {
     "data": {
      "text/html": [
       "<div>\n",
       "<style scoped>\n",
       "    .dataframe tbody tr th:only-of-type {\n",
       "        vertical-align: middle;\n",
       "    }\n",
       "\n",
       "    .dataframe tbody tr th {\n",
       "        vertical-align: top;\n",
       "    }\n",
       "\n",
       "    .dataframe thead th {\n",
       "        text-align: right;\n",
       "    }\n",
       "</style>\n",
       "<table border=\"1\" class=\"dataframe\">\n",
       "  <thead>\n",
       "    <tr style=\"text-align: right;\">\n",
       "      <th></th>\n",
       "      <th>text_clean</th>\n",
       "      <th>labels</th>\n",
       "      <th>class</th>\n",
       "    </tr>\n",
       "  </thead>\n",
       "  <tbody>\n",
       "    <tr>\n",
       "      <th>0</th>\n",
       "      <td>block sizesadjust block sizes to fit the provi...</td>\n",
       "      <td>1</td>\n",
       "      <td>medium_and_low_priority</td>\n",
       "    </tr>\n",
       "    <tr>\n",
       "      <th>1</th>\n",
       "      <td>ui style and widgets broken in the test enviro...</td>\n",
       "      <td>0</td>\n",
       "      <td>high_priority</td>\n",
       "    </tr>\n",
       "    <tr>\n",
       "      <th>2</th>\n",
       "      <td>this dropdown list should not work in this scr...</td>\n",
       "      <td>0</td>\n",
       "      <td>high_priority</td>\n",
       "    </tr>\n",
       "    <tr>\n",
       "      <th>3</th>\n",
       "      <td>e2e docker use mariadb instead of mysqllike is...</td>\n",
       "      <td>1</td>\n",
       "      <td>medium_and_low_priority</td>\n",
       "    </tr>\n",
       "    <tr>\n",
       "      <th>4</th>\n",
       "      <td>crosscompile toolchain variant doesnt working ...</td>\n",
       "      <td>1</td>\n",
       "      <td>medium_and_low_priority</td>\n",
       "    </tr>\n",
       "    <tr>\n",
       "      <th>...</th>\n",
       "      <td>...</td>\n",
       "      <td>...</td>\n",
       "      <td>...</td>\n",
       "    </tr>\n",
       "    <tr>\n",
       "      <th>22092</th>\n",
       "      <td>error handling sync error handling mechanismmw...</td>\n",
       "      <td>0</td>\n",
       "      <td>high_priority</td>\n",
       "    </tr>\n",
       "    <tr>\n",
       "      <th>22093</th>\n",
       "      <td>limit maximum requests in a given timethis is ...</td>\n",
       "      <td>0</td>\n",
       "      <td>high_priority</td>\n",
       "    </tr>\n",
       "    <tr>\n",
       "      <th>22094</th>\n",
       "      <td>looking for a volunteer officiel facebook page...</td>\n",
       "      <td>1</td>\n",
       "      <td>medium_and_low_priority</td>\n",
       "    </tr>\n",
       "    <tr>\n",
       "      <th>22095</th>\n",
       "      <td>add tests for add todo command its related tes...</td>\n",
       "      <td>0</td>\n",
       "      <td>high_priority</td>\n",
       "    </tr>\n",
       "    <tr>\n",
       "      <th>22096</th>\n",
       "      <td>convert sql functions to views for orm compata...</td>\n",
       "      <td>0</td>\n",
       "      <td>high_priority</td>\n",
       "    </tr>\n",
       "  </tbody>\n",
       "</table>\n",
       "<p>22097 rows × 3 columns</p>\n",
       "</div>"
      ],
      "text/plain": [
       "                                              text_clean  labels  \\\n",
       "0      block sizesadjust block sizes to fit the provi...       1   \n",
       "1      ui style and widgets broken in the test enviro...       0   \n",
       "2      this dropdown list should not work in this scr...       0   \n",
       "3      e2e docker use mariadb instead of mysqllike is...       1   \n",
       "4      crosscompile toolchain variant doesnt working ...       1   \n",
       "...                                                  ...     ...   \n",
       "22092  error handling sync error handling mechanismmw...       0   \n",
       "22093  limit maximum requests in a given timethis is ...       0   \n",
       "22094  looking for a volunteer officiel facebook page...       1   \n",
       "22095  add tests for add todo command its related tes...       0   \n",
       "22096  convert sql functions to views for orm compata...       0   \n",
       "\n",
       "                         class  \n",
       "0      medium_and_low_priority  \n",
       "1                high_priority  \n",
       "2                high_priority  \n",
       "3      medium_and_low_priority  \n",
       "4      medium_and_low_priority  \n",
       "...                        ...  \n",
       "22092            high_priority  \n",
       "22093            high_priority  \n",
       "22094  medium_and_low_priority  \n",
       "22095            high_priority  \n",
       "22096            high_priority  \n",
       "\n",
       "[22097 rows x 3 columns]"
      ]
     },
     "execution_count": 28,
     "metadata": {},
     "output_type": "execute_result"
    }
   ],
   "source": [
    "name = \"test_high_vs_med_low_priority\"\n",
    "file_name = f\"csv/clean_{name}.csv\"\n",
    "df = pd.read_csv(file_name)\n",
    "df"
   ]
  },
  {
   "cell_type": "code",
   "execution_count": 29,
   "metadata": {},
   "outputs": [
    {
     "data": {
      "text/html": [
       "<div>\n",
       "<style scoped>\n",
       "    .dataframe tbody tr th:only-of-type {\n",
       "        vertical-align: middle;\n",
       "    }\n",
       "\n",
       "    .dataframe tbody tr th {\n",
       "        vertical-align: top;\n",
       "    }\n",
       "\n",
       "    .dataframe thead th {\n",
       "        text-align: right;\n",
       "    }\n",
       "</style>\n",
       "<table border=\"1\" class=\"dataframe\">\n",
       "  <thead>\n",
       "    <tr style=\"text-align: right;\">\n",
       "      <th></th>\n",
       "      <th>count</th>\n",
       "    </tr>\n",
       "    <tr>\n",
       "      <th>class</th>\n",
       "      <th></th>\n",
       "    </tr>\n",
       "  </thead>\n",
       "  <tbody>\n",
       "    <tr>\n",
       "      <th>high_priority</th>\n",
       "      <td>11072</td>\n",
       "    </tr>\n",
       "    <tr>\n",
       "      <th>medium_and_low_priority</th>\n",
       "      <td>11025</td>\n",
       "    </tr>\n",
       "  </tbody>\n",
       "</table>\n",
       "</div>"
      ],
      "text/plain": [
       "                         count\n",
       "class                         \n",
       "high_priority            11072\n",
       "medium_and_low_priority  11025"
      ]
     },
     "execution_count": 29,
     "metadata": {},
     "output_type": "execute_result"
    }
   ],
   "source": [
    "df.labels.value_counts().to_frame()[:50]\n",
    "value_counts_df = df['class'].value_counts().to_frame()\n",
    "value_counts_df"
   ]
  },
  {
   "cell_type": "code",
   "execution_count": 30,
   "metadata": {},
   "outputs": [
    {
     "data": {
      "text/plain": [
       "DatasetDict({\n",
       "    test_separate: Dataset({\n",
       "        features: ['text_clean', 'labels', 'class'],\n",
       "        num_rows: 22097\n",
       "    })\n",
       "})"
      ]
     },
     "execution_count": 30,
     "metadata": {},
     "output_type": "execute_result"
    }
   ],
   "source": [
    "test_ds = Dataset.from_pandas(df)\n",
    "\n",
    "ds = DatasetDict()\n",
    "\n",
    "ds[\"test_separate\"] = test_ds\n",
    "\n",
    "ds"
   ]
  },
  {
   "cell_type": "code",
   "execution_count": 31,
   "metadata": {},
   "outputs": [],
   "source": [
    "# Uncomment this if not logged in.\n",
    "#notebook_login()"
   ]
  },
  {
   "cell_type": "code",
   "execution_count": 32,
   "metadata": {},
   "outputs": [
    {
     "data": {
      "application/vnd.jupyter.widget-view+json": {
       "model_id": "96ddc98874994770bfe96f43622f39c2",
       "version_major": 2,
       "version_minor": 0
      },
      "text/plain": [
       "Pushing dataset shards to the dataset hub:   0%|          | 0/1 [00:00<?, ?it/s]"
      ]
     },
     "metadata": {},
     "output_type": "display_data"
    },
    {
     "data": {
      "application/vnd.jupyter.widget-view+json": {
       "model_id": "4b6ca35157cd411e83a8b1dfadb25582",
       "version_major": 2,
       "version_minor": 0
      },
      "text/plain": [
       "Creating parquet from Arrow format:   0%|          | 0/23 [00:00<?, ?ba/s]"
      ]
     },
     "metadata": {},
     "output_type": "display_data"
    }
   ],
   "source": [
    "# Push to Hugging Face Hub\n",
    "ds.push_to_hub(name)"
   ]
  }
 ],
 "metadata": {
  "kernelspec": {
   "display_name": "thesis",
   "language": "python",
   "name": "python3"
  },
  "language_info": {
   "codemirror_mode": {
    "name": "ipython",
    "version": 3
   },
   "file_extension": ".py",
   "mimetype": "text/x-python",
   "name": "python",
   "nbconvert_exporter": "python",
   "pygments_lexer": "ipython3",
   "version": "3.11.5"
  }
 },
 "nbformat": 4,
 "nbformat_minor": 2
}
