{
 "cells": [
  {
   "cell_type": "markdown",
   "metadata": {},
   "source": [
    "# Split dataset and upload to huggingface\n",
    "* This notebook will spilt the dataset into: training, validate and test set.\n",
    "* Then upload the dataset to huggingface "
   ]
  },
  {
   "cell_type": "code",
   "execution_count": 36,
   "metadata": {},
   "outputs": [],
   "source": [
    "import pandas as pd\n",
    "import numpy as np\n",
    "from datasets import Dataset, DatasetDict\n",
    "from huggingface_hub import notebook_login"
   ]
  },
  {
   "cell_type": "code",
   "execution_count": 37,
   "metadata": {},
   "outputs": [
    {
     "data": {
      "text/html": [
       "<div>\n",
       "<style scoped>\n",
       "    .dataframe tbody tr th:only-of-type {\n",
       "        vertical-align: middle;\n",
       "    }\n",
       "\n",
       "    .dataframe tbody tr th {\n",
       "        vertical-align: top;\n",
       "    }\n",
       "\n",
       "    .dataframe thead th {\n",
       "        text-align: right;\n",
       "    }\n",
       "</style>\n",
       "<table border=\"1\" class=\"dataframe\">\n",
       "  <thead>\n",
       "    <tr style=\"text-align: right;\">\n",
       "      <th></th>\n",
       "      <th>text_clean</th>\n",
       "      <th>labels</th>\n",
       "      <th>class</th>\n",
       "    </tr>\n",
       "  </thead>\n",
       "  <tbody>\n",
       "    <tr>\n",
       "      <th>0</th>\n",
       "      <td>autolog out after some time frame is your feat...</td>\n",
       "      <td>0</td>\n",
       "      <td>high_priority</td>\n",
       "    </tr>\n",
       "    <tr>\n",
       "      <th>1</th>\n",
       "      <td>image picker for sourceimplement an android im...</td>\n",
       "      <td>0</td>\n",
       "      <td>high_priority</td>\n",
       "    </tr>\n",
       "    <tr>\n",
       "      <th>2</th>\n",
       "      <td>fix video page listitem hovering behaviour whe...</td>\n",
       "      <td>0</td>\n",
       "      <td>high_priority</td>\n",
       "    </tr>\n",
       "    <tr>\n",
       "      <th>3</th>\n",
       "      <td>escape shuttle reaches ludicrous speed descrip...</td>\n",
       "      <td>0</td>\n",
       "      <td>high_priority</td>\n",
       "    </tr>\n",
       "    <tr>\n",
       "      <th>4</th>\n",
       "      <td>binder doesnt load notebooks outside of the un...</td>\n",
       "      <td>0</td>\n",
       "      <td>high_priority</td>\n",
       "    </tr>\n",
       "    <tr>\n",
       "      <th>...</th>\n",
       "      <td>...</td>\n",
       "      <td>...</td>\n",
       "      <td>...</td>\n",
       "    </tr>\n",
       "    <tr>\n",
       "      <th>419837</th>\n",
       "      <td>include motd feature in ci testscurrent messag...</td>\n",
       "      <td>1</td>\n",
       "      <td>medium_and_low_priority</td>\n",
       "    </tr>\n",
       "    <tr>\n",
       "      <th>419838</th>\n",
       "      <td>checkbox to disable tweeting displayed for non...</td>\n",
       "      <td>1</td>\n",
       "      <td>medium_and_low_priority</td>\n",
       "    </tr>\n",
       "    <tr>\n",
       "      <th>419839</th>\n",
       "      <td>add additional labels to service monitorsis yo...</td>\n",
       "      <td>1</td>\n",
       "      <td>medium_and_low_priority</td>\n",
       "    </tr>\n",
       "    <tr>\n",
       "      <th>419840</th>\n",
       "      <td>no mic button in the keyboard for hvr build co...</td>\n",
       "      <td>1</td>\n",
       "      <td>medium_and_low_priority</td>\n",
       "    </tr>\n",
       "    <tr>\n",
       "      <th>419841</th>\n",
       "      <td>rpmem errno is not set when passing invalid le...</td>\n",
       "      <td>1</td>\n",
       "      <td>medium_and_low_priority</td>\n",
       "    </tr>\n",
       "  </tbody>\n",
       "</table>\n",
       "<p>419842 rows × 3 columns</p>\n",
       "</div>"
      ],
      "text/plain": [
       "                                               text_clean  labels  \\\n",
       "0       autolog out after some time frame is your feat...       0   \n",
       "1       image picker for sourceimplement an android im...       0   \n",
       "2       fix video page listitem hovering behaviour whe...       0   \n",
       "3       escape shuttle reaches ludicrous speed descrip...       0   \n",
       "4       binder doesnt load notebooks outside of the un...       0   \n",
       "...                                                   ...     ...   \n",
       "419837  include motd feature in ci testscurrent messag...       1   \n",
       "419838  checkbox to disable tweeting displayed for non...       1   \n",
       "419839  add additional labels to service monitorsis yo...       1   \n",
       "419840  no mic button in the keyboard for hvr build co...       1   \n",
       "419841  rpmem errno is not set when passing invalid le...       1   \n",
       "\n",
       "                          class  \n",
       "0                 high_priority  \n",
       "1                 high_priority  \n",
       "2                 high_priority  \n",
       "3                 high_priority  \n",
       "4                 high_priority  \n",
       "...                         ...  \n",
       "419837  medium_and_low_priority  \n",
       "419838  medium_and_low_priority  \n",
       "419839  medium_and_low_priority  \n",
       "419840  medium_and_low_priority  \n",
       "419841  medium_and_low_priority  \n",
       "\n",
       "[419842 rows x 3 columns]"
      ]
     },
     "execution_count": 37,
     "metadata": {},
     "output_type": "execute_result"
    }
   ],
   "source": [
    "name = \"high_vs_med_and_low_priority\"\n",
    "file_name = f\"csv/clean_{name}.csv\"\n",
    "df = pd.read_csv(file_name)\n",
    "df"
   ]
  },
  {
   "cell_type": "code",
   "execution_count": 38,
   "metadata": {},
   "outputs": [
    {
     "data": {
      "text/html": [
       "<div>\n",
       "<style scoped>\n",
       "    .dataframe tbody tr th:only-of-type {\n",
       "        vertical-align: middle;\n",
       "    }\n",
       "\n",
       "    .dataframe tbody tr th {\n",
       "        vertical-align: top;\n",
       "    }\n",
       "\n",
       "    .dataframe thead th {\n",
       "        text-align: right;\n",
       "    }\n",
       "</style>\n",
       "<table border=\"1\" class=\"dataframe\">\n",
       "  <thead>\n",
       "    <tr style=\"text-align: right;\">\n",
       "      <th></th>\n",
       "      <th>count</th>\n",
       "    </tr>\n",
       "    <tr>\n",
       "      <th>class</th>\n",
       "      <th></th>\n",
       "    </tr>\n",
       "  </thead>\n",
       "  <tbody>\n",
       "    <tr>\n",
       "      <th>high_priority</th>\n",
       "      <td>210100</td>\n",
       "    </tr>\n",
       "    <tr>\n",
       "      <th>medium_and_low_priority</th>\n",
       "      <td>209742</td>\n",
       "    </tr>\n",
       "  </tbody>\n",
       "</table>\n",
       "</div>"
      ],
      "text/plain": [
       "                          count\n",
       "class                          \n",
       "high_priority            210100\n",
       "medium_and_low_priority  209742"
      ]
     },
     "execution_count": 38,
     "metadata": {},
     "output_type": "execute_result"
    }
   ],
   "source": [
    "df.labels.value_counts().to_frame()[:50]\n",
    "value_counts_df = df['class'].value_counts().to_frame()\n",
    "value_counts_df"
   ]
  },
  {
   "cell_type": "code",
   "execution_count": 39,
   "metadata": {},
   "outputs": [],
   "source": [
    "# Split dataframe into three parts: training, validation and testing.\n",
    "# Currently 80/10/10 split.\n",
    "def train_validate_test_split(df, train_percent=.8, validate_percent=.1, seed=42):\n",
    "    np.random.seed(seed)\n",
    "    # Shuffle index of dataframe\n",
    "    perm = np.random.permutation(df.index)\n",
    "    \n",
    "    df_length = len(df.index)\n",
    "    \n",
    "    # Number of row in training set\n",
    "    train_end = int(train_percent * df_length)\n",
    "    # Number of rows in validate set\n",
    "    validate_end = int(validate_percent * df_length) + train_end\n",
    "    \n",
    "    # From start to train end\n",
    "    train = df.iloc[perm[:train_end]]\n",
    "    # From train_end to validate_end\n",
    "    validate = df.iloc[perm[train_end:validate_end]]\n",
    "    # From validate to the last row in dataframe.\n",
    "    test = df.iloc[perm[validate_end:]]\n",
    "    return train, validate, test"
   ]
  },
  {
   "cell_type": "code",
   "execution_count": 40,
   "metadata": {},
   "outputs": [],
   "source": [
    "# Split dataframe into three parts: training, validation and testing.\n",
    "train , validate , test = train_validate_test_split(df)"
   ]
  },
  {
   "cell_type": "code",
   "execution_count": 41,
   "metadata": {},
   "outputs": [
    {
     "data": {
      "text/plain": [
       "DatasetDict({\n",
       "    test: Dataset({\n",
       "        features: ['text_clean', 'labels', 'class', '__index_level_0__'],\n",
       "        num_rows: 41985\n",
       "    })\n",
       "    train: Dataset({\n",
       "        features: ['text_clean', 'labels', 'class', '__index_level_0__'],\n",
       "        num_rows: 335873\n",
       "    })\n",
       "    validate: Dataset({\n",
       "        features: ['text_clean', 'labels', 'class', '__index_level_0__'],\n",
       "        num_rows: 41984\n",
       "    })\n",
       "})"
      ]
     },
     "execution_count": 41,
     "metadata": {},
     "output_type": "execute_result"
    }
   ],
   "source": [
    "# Convert from Pandas DataFrame to Hugging Face datasets\n",
    "tds = Dataset.from_pandas(train)\n",
    "vds = Dataset.from_pandas(validate)\n",
    "test_ds = Dataset.from_pandas(test)\n",
    "\n",
    "ds = DatasetDict()\n",
    "\n",
    "ds[\"test\"] = test_ds\n",
    "ds[\"train\"] = tds\n",
    "ds[\"validate\"] = vds\n",
    "\n",
    "ds"
   ]
  },
  {
   "cell_type": "code",
   "execution_count": 42,
   "metadata": {},
   "outputs": [],
   "source": [
    "# Uncomment this if not logged in.\n",
    "#notebook_login()"
   ]
  },
  {
   "cell_type": "code",
   "execution_count": 43,
   "metadata": {},
   "outputs": [
    {
     "data": {
      "application/vnd.jupyter.widget-view+json": {
       "model_id": "7eb1056f140f4bac9a15bec8d37a7ae0",
       "version_major": 2,
       "version_minor": 0
      },
      "text/plain": [
       "Pushing dataset shards to the dataset hub:   0%|          | 0/1 [00:00<?, ?it/s]"
      ]
     },
     "metadata": {},
     "output_type": "display_data"
    },
    {
     "data": {
      "application/vnd.jupyter.widget-view+json": {
       "model_id": "365d39f2926f49f282e12bae29cbc108",
       "version_major": 2,
       "version_minor": 0
      },
      "text/plain": [
       "Creating parquet from Arrow format:   0%|          | 0/42 [00:00<?, ?ba/s]"
      ]
     },
     "metadata": {},
     "output_type": "display_data"
    },
    {
     "data": {
      "application/vnd.jupyter.widget-view+json": {
       "model_id": "04153decd45d40739abdd88a710600c0",
       "version_major": 2,
       "version_minor": 0
      },
      "text/plain": [
       "Pushing dataset shards to the dataset hub:   0%|          | 0/1 [00:00<?, ?it/s]"
      ]
     },
     "metadata": {},
     "output_type": "display_data"
    },
    {
     "data": {
      "application/vnd.jupyter.widget-view+json": {
       "model_id": "0e43af2c738c41d8a95e951cc830b39f",
       "version_major": 2,
       "version_minor": 0
      },
      "text/plain": [
       "Creating parquet from Arrow format:   0%|          | 0/336 [00:00<?, ?ba/s]"
      ]
     },
     "metadata": {},
     "output_type": "display_data"
    },
    {
     "data": {
      "application/vnd.jupyter.widget-view+json": {
       "model_id": "d87c9c6151854626a53915e200c74a4c",
       "version_major": 2,
       "version_minor": 0
      },
      "text/plain": [
       "Pushing dataset shards to the dataset hub:   0%|          | 0/1 [00:00<?, ?it/s]"
      ]
     },
     "metadata": {},
     "output_type": "display_data"
    },
    {
     "data": {
      "application/vnd.jupyter.widget-view+json": {
       "model_id": "c4483af0b1314ea8b54c6c50e6f3ce58",
       "version_major": 2,
       "version_minor": 0
      },
      "text/plain": [
       "Creating parquet from Arrow format:   0%|          | 0/42 [00:00<?, ?ba/s]"
      ]
     },
     "metadata": {},
     "output_type": "display_data"
    }
   ],
   "source": [
    "# Push to Hugging Face Hub\n",
    "ds.push_to_hub(name)"
   ]
  }
 ],
 "metadata": {
  "kernelspec": {
   "display_name": "thesis",
   "language": "python",
   "name": "python3"
  },
  "language_info": {
   "codemirror_mode": {
    "name": "ipython",
    "version": 3
   },
   "file_extension": ".py",
   "mimetype": "text/x-python",
   "name": "python",
   "nbconvert_exporter": "python",
   "pygments_lexer": "ipython3",
   "version": "3.11.5"
  }
 },
 "nbformat": 4,
 "nbformat_minor": 2
}
