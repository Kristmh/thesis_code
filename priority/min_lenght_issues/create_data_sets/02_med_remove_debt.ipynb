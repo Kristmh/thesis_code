{
 "cells": [
  {
   "cell_type": "markdown",
   "metadata": {},
   "source": [
    "# Dataset creation\n",
    "This notebook will:\n",
    "* Remove Technical debt labels\n",
    "* Extract 5% to make testing set.\n",
    "* It will produce 3 different dataset:\n",
    "  1. High/med/priority dataset with no debt\n",
    "  2. Test dataset\n",
    "  3. Debt dataset"
   ]
  },
  {
   "cell_type": "code",
   "execution_count": null,
   "metadata": {},
   "outputs": [],
   "source": [
    "import pandas as pd"
   ]
  },
  {
   "cell_type": "code",
   "execution_count": null,
   "metadata": {},
   "outputs": [],
   "source": [
    "# Read in the full dataset\n",
    "file_name = \"medium_priority\"\n",
    "priority_file_name = f'csv/medium/{file_name}_full_dataset.csv'\n",
    "priority = pd.read_csv(priority_file_name, index_col=0)\n",
    "priority"
   ]
  },
  {
   "cell_type": "code",
   "execution_count": null,
   "metadata": {},
   "outputs": [],
   "source": [
    "# Create debt dataframe\n",
    "technical_debt_regex = r'debt|\\bTD\\b'\n",
    "contains_debt_high_priority = priority['labels'].str.contains(technical_debt_regex, case=False, na=False)\n",
    "debt = priority[contains_debt_high_priority].reset_index(drop=True)\n",
    "debt"
   ]
  },
  {
   "cell_type": "code",
   "execution_count": null,
   "metadata": {},
   "outputs": [],
   "source": [
    "debt.labels.value_counts().to_frame()[:50]"
   ]
  },
  {
   "cell_type": "code",
   "execution_count": null,
   "metadata": {},
   "outputs": [],
   "source": [
    "# Dataset with debt and the given priority\n",
    "debt_file_name = f\"csv/medium/{file_name}_with_td.csv\"\n",
    "debt.to_csv(debt_file_name)"
   ]
  },
  {
   "cell_type": "code",
   "execution_count": null,
   "metadata": {},
   "outputs": [],
   "source": [
    "# To labels\n",
    "priority.labels.value_counts().to_frame()[:50] "
   ]
  },
  {
   "cell_type": "code",
   "execution_count": null,
   "metadata": {},
   "outputs": [],
   "source": [
    "# Remove debt from the dataset\n",
    "priority_no_debt = priority[~contains_debt_high_priority].reset_index(drop=True)\n",
    "priority_no_debt.reset_index(drop=True, inplace=True)\n",
    "priority_no_debt"
   ]
  },
  {
   "cell_type": "code",
   "execution_count": null,
   "metadata": {},
   "outputs": [],
   "source": [
    "# Sanity check\n",
    "should_be_empty=priority_no_debt[priority_no_debt['labels'].str.contains(technical_debt_regex, case=False, na=False)]\n",
    "should_be_empty"
   ]
  },
  {
   "cell_type": "code",
   "execution_count": null,
   "metadata": {},
   "outputs": [],
   "source": [
    "# Convert to csv\n",
    "priority_file_name = f\"csv/medium/{file_name}_no_td.csv\"\n",
    "priority_no_debt.to_csv(priority_file_name)"
   ]
  },
  {
   "cell_type": "code",
   "execution_count": null,
   "metadata": {},
   "outputs": [],
   "source": [
    "pri = pd.read_csv(priority_file_name, index_col=0)\n",
    "pri"
   ]
  },
  {
   "cell_type": "code",
   "execution_count": null,
   "metadata": {},
   "outputs": [],
   "source": [
    "debt = pd.read_csv(debt_file_name, index_col=0)\n",
    "debt"
   ]
  }
 ],
 "metadata": {
  "kernelspec": {
   "display_name": "Python 3 (ipykernel)",
   "language": "python",
   "name": "python3"
  },
  "language_info": {
   "codemirror_mode": {
    "name": "ipython",
    "version": 3
   },
   "file_extension": ".py",
   "mimetype": "text/x-python",
   "name": "python",
   "nbconvert_exporter": "python",
   "pygments_lexer": "ipython3",
   "version": "3.11.5"
  },
  "vscode": {
   "interpreter": {
    "hash": "a64f21293159cd9c4e596ef7fd6c17a9c99d13712885c299cb3370e7a4d97830"
   }
  }
 },
 "nbformat": 4,
 "nbformat_minor": 4
}
