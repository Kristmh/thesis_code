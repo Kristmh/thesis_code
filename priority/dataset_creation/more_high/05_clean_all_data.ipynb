{
 "cells": [
  {
   "cell_type": "code",
   "execution_count": null,
   "metadata": {},
   "outputs": [],
   "source": [
    "import pandas as pd\n",
    "# Save the combined DataFrame to a new CSV file\n",
    "df = pd.read_csv('csv/combined_updated_issues.csv')\n",
    "df"
   ]
  },
  {
   "cell_type": "code",
   "execution_count": null,
   "metadata": {},
   "outputs": [],
   "source": [
    "import swifter\n",
    "import numpy as np\n",
    "import re\n",
    "from string import punctuation\n",
    "from langdetect import detect\n",
    "import emoji\n",
    "\n",
    "# Your preprocess_text function slightly modified for better performance:\n",
    "def preprocess_text(text):\n",
    "    # Assume text is pre-checked or language detection is batched\n",
    "    text = text.lower()  # Lowercase text\n",
    "    text = text.strip()  # Remove leading/trailing whitespace\n",
    "    text = emoji.demojize(text)\n",
    "    text = re.sub(r'https?:\\/\\/\\S+|www\\.\\S+|:[a-z_]+:|0x[a-fA-F0-9]+|\\[.*?\\]|<.*?>+|[{}\\n]|'.format(re.escape(punctuation)) +\n",
    "                  '\\w*\\d\\w*', '', text)\n",
    "    text = \" \".join(text.split())\n",
    "    return text if text.strip() else np.nan  # Return np.nan for empty strings after processing\n",
    "\n",
    "# Example usage with swifter to apply function in parallel:\n",
    "df[\"body\"] = df['body'].astype(str)\n",
    "df[\"text\"] = df[\"body\"].swifter.apply(preprocess_text)"
   ]
  },
  {
   "cell_type": "code",
   "execution_count": null,
   "metadata": {},
   "outputs": [],
   "source": [
    "df"
   ]
  },
  {
   "cell_type": "code",
   "execution_count": null,
   "metadata": {},
   "outputs": [],
   "source": [
    "# save df to csv\n",
    "df.to_csv('csv/clean_github_repos_with_priority_issues.csv')"
   ]
  },
  {
   "cell_type": "code",
   "execution_count": null,
   "metadata": {},
   "outputs": [],
   "source": [
    "df['class'].value_counts()"
   ]
  },
  {
   "cell_type": "code",
   "execution_count": null,
   "metadata": {},
   "outputs": [],
   "source": [
    "# p2\n",
    "df.loc[df[\"class\"] == \"p2\", 'labels'].value_counts().to_frame().head(50)"
   ]
  },
  {
   "cell_type": "code",
   "execution_count": null,
   "metadata": {},
   "outputs": [],
   "source": [
    "# Critical value count\n",
    "df.loc[df['class'] == 'critical', 'labels'].value_counts().to_frame().head(50)"
   ]
  },
  {
   "cell_type": "code",
   "execution_count": null,
   "metadata": {},
   "outputs": [],
   "source": [
    "# Top labels for each priority level\n",
    "df.loc[df['class'] == 'high', 'labels'].value_counts().to_frame().head(50)\n",
    "# Print all labels for high priority\n",
    "#pd.set_option('display.max_rows', None)\n",
    "#df.loc[df['class'] == 'High', 'labels'].value_counts().to_frame()"
   ]
  },
  {
   "cell_type": "code",
   "execution_count": null,
   "metadata": {},
   "outputs": [],
   "source": [
    "# Medium\n",
    "df.loc[df['class'] == 'medium', 'labels'].value_counts().to_frame().head(50)"
   ]
  },
  {
   "cell_type": "code",
   "execution_count": null,
   "metadata": {},
   "outputs": [],
   "source": [
    "# Low\n",
    "df.loc[df['class'] == 'low', 'labels'].value_counts().to_frame().head(50)"
   ]
  },
  {
   "cell_type": "code",
   "execution_count": null,
   "metadata": {},
   "outputs": [],
   "source": [
    "# non_priority\n",
    "df.loc[df['class'] == 'non_priority', 'labels'].value_counts().to_frame().head(50)"
   ]
  },
  {
   "cell_type": "code",
   "execution_count": null,
   "metadata": {},
   "outputs": [],
   "source": [
    "# in_triage\n",
    "df.loc[df['class'] == 'in_triage', 'labels'].value_counts().to_frame().head(50)"
   ]
  },
  {
   "cell_type": "code",
   "execution_count": null,
   "metadata": {},
   "outputs": [],
   "source": [
    "# Unique repo\n",
    "df['repo'].nunique()"
   ]
  },
  {
   "cell_type": "code",
   "execution_count": null,
   "metadata": {},
   "outputs": [],
   "source": [
    "# Count of issues per repo\n",
    "df['repo'].value_counts().to_frame()[:50]"
   ]
  },
  {
   "cell_type": "code",
   "execution_count": null,
   "metadata": {},
   "outputs": [],
   "source": [
    "# Value count labels\n",
    "df[\"labels\"].value_counts().to_frame()[:50]"
   ]
  },
  {
   "cell_type": "code",
   "execution_count": null,
   "metadata": {},
   "outputs": [],
   "source": [
    "df.value_counts('class').to_frame()"
   ]
  },
  {
   "cell_type": "code",
   "execution_count": null,
   "metadata": {},
   "outputs": [],
   "source": [
    "df"
   ]
  },
  {
   "cell_type": "code",
   "execution_count": null,
   "metadata": {},
   "outputs": [],
   "source": []
  }
 ],
 "metadata": {
  "kernelspec": {
   "display_name": "hmm_test",
   "language": "python",
   "name": "python3"
  },
  "language_info": {
   "codemirror_mode": {
    "name": "ipython",
    "version": 3
   },
   "file_extension": ".py",
   "mimetype": "text/x-python",
   "name": "python",
   "nbconvert_exporter": "python",
   "pygments_lexer": "ipython3",
   "version": "3.11.8"
  }
 },
 "nbformat": 4,
 "nbformat_minor": 2
}
