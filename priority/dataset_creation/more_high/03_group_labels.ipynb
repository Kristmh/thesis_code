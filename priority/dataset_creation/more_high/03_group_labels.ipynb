{
 "cells": [
  {
   "cell_type": "code",
   "execution_count": 1,
   "metadata": {},
   "outputs": [
    {
     "name": "stdout",
     "output_type": "stream",
     "text": [
      "1\n"
     ]
    },
    {
     "name": "stderr",
     "output_type": "stream",
     "text": [
      "/tmp/ipykernel_450370/1077736601.py:71: UserWarning: This pattern is interpreted as a regular expression, and has match groups. To actually get the groups, use str.extract.\n",
      "  df.loc[df['labels'].str.contains(in_triage_regex, case=False, na=False), 'class'] = 'in_triage'\n"
     ]
    },
    {
     "name": "stdout",
     "output_type": "stream",
     "text": [
      "2\n"
     ]
    },
    {
     "name": "stderr",
     "output_type": "stream",
     "text": [
      "/tmp/ipykernel_450370/1077736601.py:71: UserWarning: This pattern is interpreted as a regular expression, and has match groups. To actually get the groups, use str.extract.\n",
      "  df.loc[df['labels'].str.contains(in_triage_regex, case=False, na=False), 'class'] = 'in_triage'\n"
     ]
    },
    {
     "name": "stdout",
     "output_type": "stream",
     "text": [
      "3\n"
     ]
    },
    {
     "name": "stderr",
     "output_type": "stream",
     "text": [
      "/tmp/ipykernel_450370/1077736601.py:71: UserWarning: This pattern is interpreted as a regular expression, and has match groups. To actually get the groups, use str.extract.\n",
      "  df.loc[df['labels'].str.contains(in_triage_regex, case=False, na=False), 'class'] = 'in_triage'\n"
     ]
    },
    {
     "name": "stdout",
     "output_type": "stream",
     "text": [
      "4\n"
     ]
    },
    {
     "name": "stderr",
     "output_type": "stream",
     "text": [
      "/tmp/ipykernel_450370/1077736601.py:71: UserWarning: This pattern is interpreted as a regular expression, and has match groups. To actually get the groups, use str.extract.\n",
      "  df.loc[df['labels'].str.contains(in_triage_regex, case=False, na=False), 'class'] = 'in_triage'\n"
     ]
    },
    {
     "name": "stdout",
     "output_type": "stream",
     "text": [
      "5\n"
     ]
    },
    {
     "name": "stderr",
     "output_type": "stream",
     "text": [
      "/tmp/ipykernel_450370/1077736601.py:71: UserWarning: This pattern is interpreted as a regular expression, and has match groups. To actually get the groups, use str.extract.\n",
      "  df.loc[df['labels'].str.contains(in_triage_regex, case=False, na=False), 'class'] = 'in_triage'\n"
     ]
    }
   ],
   "source": [
    "import re\n",
    "\n",
    "import pandas as pd\n",
    "for i in range(1, 6):\n",
    "\n",
    "    print(i)\n",
    "    df = pd.read_csv(f'csv/issues_in_repos_with_priority_part_{i}.csv')\n",
    "    # Only keep repo, label, title, description cols\n",
    "    df = df[['repo', 'labels', 'title', 'body']]\n",
    "    # drop NaN values\n",
    "    df = df.dropna()\n",
    "    df = df.reset_index(drop=True)\n",
    "    # Assuming your DataFrame 'df' is already loaded with a 'labels' column\n",
    "\n",
    "    # Define regular expressions for each priority level based on your mapping\n",
    "    #critical_priority_regex = r\"\\b(?:critical(?:priority)?|urgent|priority\\s*/\\s*urgent|priority\\s*[:/-]?\\s*blocker)\\b\"\n",
    "\n",
    "    # High and critical will be combined together later.\n",
    "    critical_priority_regex = \"critical|urgent|blocker\" \n",
    "    high_priority_regex = (\n",
    "        r\"\\b(?:high\\W*p(?:ri(?:o(?:rity)?)?)?|p(?:ri(?:o(?:rity)?)?)?\\W*high|\"\n",
    "        r\"p[01]|priority\\s*[:/-]?\\s*p[01]|\"\n",
    "        r\"important|priority\\s*/\\s*important|priority\\s*[:/-]?\\s*major|highpriority|\"\n",
    "        r\"priority\\s*[-:/]?\\s*high|is\\s*:\\s*priority)\\b\"\n",
    "    )\n",
    "\n",
    "    # high_priority_regex = (\n",
    "    #     r\"\\b(?:high\\W*p(?:ri(?:o(?:rity)?)?)?|p(?:ri(?:o(?:rity)?)?)?\\W*high|\"\n",
    "    #     r\"p[01]|priority\\s*[:/-]?\\s*p[01]|critical(?:priority)?|priority\\s*[-:/]?\\s*critical|\"\n",
    "    #     r\"urgent|priority\\s*/\\s*urgent|priority\\s*[:/-]?\\s*blocker|important|\"\n",
    "    #     r\"priority\\s*/\\s*important|priority\\s*[:/-]?\\s*major|highpriority|\"\n",
    "    #     r\"priority\\s*[-:/]?\\s*high|is\\s*:\\s*priority)\\b\"\n",
    "    # )\n",
    "    # Medium and low will be grouped together so not that important to separate them.\n",
    "    medium_priority_regex = (\n",
    "        r\"\\b(?:medium\\W*p(?:ri(?:o(?:rity)?)?)?|p(?:ri(?:o(?:rity)?)?)?\\W*medium|\"\n",
    "        r\"p[2]|priority\\s*[:/-]?\\s*p[2]|normal(?:priority)?|priority\\s*[-:/]?\\s*normal|\"\n",
    "        r\"moderate|priority\\s*/\\s*moderate|priority\\s*[:/-]?\\s*standard|\"\n",
    "        r\"mediumpriority|priority\\s*[-:/]?\\s*medium|is\\s*:\\s*priority)\\b\"\n",
    "    )\n",
    "\n",
    "    low_priority_regex = (\n",
    "        r\"\\b(?:low\\W*p(?:ri(?:o(?:rity)?)?)?|p(?:ri(?:o(?:rity)?)?)?\\W*low|\"\n",
    "        r\"p[3]|priority\\s*[:/-]?\\s*p[3]|minor(?:priority)?|priority\\s*[-:/]?\\s*minor|\"\n",
    "        r\"trivial|priority\\s*/\\s*trivial|priority\\s*[:/-]?\\s*low|\"\n",
    "        r\"lowpriority|priority\\s*[-:/]?\\s*low|is\\s*:\\s*priority)\\b\"\n",
    "    )\n",
    "    # p2 can both mean p2:high and p2:medium\n",
    "    # potential remove this since the labels are unclear.\n",
    "    p2 = \"p2\"\n",
    "    in_triage_regex = (\n",
    "        r'\\b('\n",
    "        r'In\\s*Triage|'\n",
    "        r'Triage|'\n",
    "        r'Needs\\s*Triage|'\n",
    "        r'Triage\\s*:\\s*Review|'\n",
    "        r'Triage\\s*:\\s*Needs\\s*Review|'\n",
    "        r'Untriage|'\n",
    "        r'Un\\s*Triage'\n",
    "        r')\\b'\n",
    "    )\n",
    "    # Add this to high since we know that there are high priority\n",
    "    p2_high_regex = \"P2: High|p2-high\"\n",
    "    # If no priority level is found, set the 'class' column to 'non_priority'\n",
    "    df['class'] = 'non_priority'\n",
    "\n",
    "    # Update the 'class' column based on the defined regular expressions\n",
    "    df.loc[df['labels'].str.contains(critical_priority_regex, case=False, na=False), 'class'] = 'critical'\n",
    "    df.loc[df['labels'].str.contains(medium_priority_regex, case=False, na=False), 'class'] = 'medium'\n",
    "    df.loc[df['labels'].str.contains(low_priority_regex, case=False, na=False), 'class'] = 'low'\n",
    "    df.loc[df['labels'].str.contains(in_triage_regex, case=False, na=False), 'class'] = 'in_triage'\n",
    "    df.loc[df['labels'].str.contains(p2, case=False, na=False), 'class'] = 'p2'\n",
    "    df.loc[df['labels'].str.contains(p2_high_regex, case=False, na=False), 'class'] = 'p2_high'\n",
    "    df.loc[df['labels'].str.contains(high_priority_regex, case=False, na=False), 'class'] = 'high'\n",
    "\n",
    "    df.to_csv(f'csv/updated_issues_part_{i}.csv', index=False)\n",
    "\n",
    "    # The 'class' column is now updated with priority levels based on the regex matches\n"
   ]
  },
  {
   "cell_type": "code",
   "execution_count": null,
   "metadata": {},
   "outputs": [],
   "source": [
    "df['class'].value_counts()"
   ]
  },
  {
   "cell_type": "code",
   "execution_count": null,
   "metadata": {},
   "outputs": [],
   "source": [
    "# p2\n",
    "df.loc[df[\"class\"] == \"p2\", 'labels'].value_counts().to_frame().head(50)"
   ]
  },
  {
   "cell_type": "code",
   "execution_count": null,
   "metadata": {},
   "outputs": [],
   "source": [
    "# repo with label that contains important\n",
    "df.loc[df['labels'].str.contains('important', case=False, na=False), 'repo'].unique()"
   ]
  },
  {
   "cell_type": "code",
   "execution_count": null,
   "metadata": {},
   "outputs": [],
   "source": [
    "# Critical value count\n",
    "df.loc[df['class'] == 'critical', 'labels'].value_counts().to_frame().head(50)"
   ]
  },
  {
   "cell_type": "code",
   "execution_count": null,
   "metadata": {},
   "outputs": [],
   "source": [
    "# Top labels for each priority level\n",
    "df.loc[df['class'] == 'high', 'labels'].value_counts().to_frame().head(50)\n",
    "# Print all labels for high priority\n",
    "#pd.set_option('display.max_rows', None)\n",
    "#df.loc[df['class'] == 'High', 'labels'].value_counts().to_frame()"
   ]
  },
  {
   "cell_type": "code",
   "execution_count": null,
   "metadata": {},
   "outputs": [],
   "source": [
    "# Medium\n",
    "df.loc[df['class'] == 'medium', 'labels'].value_counts().to_frame().head(50)"
   ]
  },
  {
   "cell_type": "code",
   "execution_count": null,
   "metadata": {},
   "outputs": [],
   "source": [
    "# Low\n",
    "df.loc[df['class'] == 'low', 'labels'].value_counts().to_frame().head(50)"
   ]
  },
  {
   "cell_type": "code",
   "execution_count": null,
   "metadata": {},
   "outputs": [],
   "source": [
    "# non_priority\n",
    "df.loc[df['class'] == 'non_priority', 'labels'].value_counts().to_frame().head(50)"
   ]
  },
  {
   "cell_type": "code",
   "execution_count": null,
   "metadata": {},
   "outputs": [],
   "source": [
    "# in_triage\n",
    "df.loc[df['class'] == 'in_triage', 'labels'].value_counts().to_frame().head(50)"
   ]
  },
  {
   "cell_type": "code",
   "execution_count": null,
   "metadata": {},
   "outputs": [],
   "source": [
    "# Unique repo\n",
    "df['repo'].nunique()"
   ]
  },
  {
   "cell_type": "code",
   "execution_count": null,
   "metadata": {},
   "outputs": [],
   "source": [
    "# Count of issues per repo\n",
    "df['repo'].value_counts().to_frame()[:50]"
   ]
  },
  {
   "cell_type": "code",
   "execution_count": null,
   "metadata": {},
   "outputs": [],
   "source": [
    "# Value count labels\n",
    "df[\"labels\"].value_counts().to_frame()[:50]"
   ]
  },
  {
   "cell_type": "code",
   "execution_count": null,
   "metadata": {},
   "outputs": [],
   "source": [
    "df.value_counts('class').to_frame()"
   ]
  },
  {
   "cell_type": "code",
   "execution_count": null,
   "metadata": {},
   "outputs": [],
   "source": [
    "df"
   ]
  },
  {
   "cell_type": "code",
   "execution_count": null,
   "metadata": {},
   "outputs": [],
   "source": []
  }
 ],
 "metadata": {
  "kernelspec": {
   "display_name": "hmm_test",
   "language": "python",
   "name": "python3"
  },
  "language_info": {
   "codemirror_mode": {
    "name": "ipython",
    "version": 3
   },
   "file_extension": ".py",
   "mimetype": "text/x-python",
   "name": "python",
   "nbconvert_exporter": "python",
   "pygments_lexer": "ipython3",
   "version": "3.11.8"
  }
 },
 "nbformat": 4,
 "nbformat_minor": 2
}
