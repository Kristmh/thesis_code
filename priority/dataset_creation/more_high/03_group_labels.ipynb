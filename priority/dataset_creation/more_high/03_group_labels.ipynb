{
 "cells": [
  {
   "cell_type": "code",
   "execution_count": 52,
   "metadata": {},
   "outputs": [],
   "source": [
    "import pandas as pd\n",
    "df = pd.read_csv('csv/issues_in_repos_with_priority_part_1.csv')\n",
    "df"
   ]
  },
  {
   "cell_type": "code",
   "execution_count": null,
   "metadata": {},
   "outputs": [],
   "source": [
    "# Only keep repo, label, title, description cols\n",
    "df = df[['repo', 'labels', 'title', 'body']]\n",
    "df"
   ]
  },
  {
   "cell_type": "code",
   "execution_count": null,
   "metadata": {},
   "outputs": [],
   "source": [
    "import re\n",
    "\n",
    "# Assuming your DataFrame 'df' is already loaded with a 'labels' column\n",
    "\n",
    "# Define regular expressions for each priority level based on your mapping\n",
    "high_priority = (\n",
    "    r\"\\b(?:high\\W*p(?:ri(?:o(?:rity)?)?)?|p(?:ri(?:o(?:rity)?)?)?\\W*high|\"\n",
    "    r\"p[01]|priority\\s*[:/-]?\\s*p[01]|critical(?:priority)?|priority\\s*[-:/]?\\s*critical|\"\n",
    "    r\"urgent|priority\\s*/\\s*urgent|priority\\s*[:/-]?\\s*blocker|important|\"\n",
    "    r\"priority\\s*/\\s*important|priority\\s*[:/-]?\\s*major|highpriority|\"\n",
    "    r\"priority\\s*[-:/]?\\s*high|is\\s*:\\s*priority)\\b\"\n",
    ")\n",
    "medium_priority_regex = r'\\b(Medium|Major|P2|P3-Medium|Important|P2: Important|Major - P3)\\b'\n",
    "low_priority_regex = r'\\b(Low|Minor|P3|Normal|P4-Low|P3: Somewhat important|Minor - P4|Lowest|P4|Trivial|P5-Trivial|P4: Low|Trivial - P5|P5: Not important)\\b'\n",
    "\n",
    "# Initialize the 'class' column to a default value, e.g., 'Undefined'\n",
    "df['class'] = 'Undefined'\n",
    "\n",
    "# Update the 'class' column based on the defined regular expressions\n",
    "df.loc[df['labels'].str.contains(high_priority_regex, case=False, na=False), 'class'] = 'High'\n",
    "df.loc[df['labels'].str.contains(medium_priority_regex, case=False, na=False), 'class'] = 'Medium'\n",
    "df.loc[df['labels'].str.contains(low_priority_regex, case=False, na=False), 'class'] = 'Low'\n",
    "\n",
    "# The 'class' column is now updated with priority levels based on the regex matches\n"
   ]
  },
  {
   "cell_type": "code",
   "execution_count": null,
   "metadata": {},
   "outputs": [],
   "source": [
    "df['class'].value_counts()"
   ]
  },
  {
   "cell_type": "code",
   "execution_count": null,
   "metadata": {},
   "outputs": [],
   "source": [
    "# Top labels for each priority level\n",
    "df.loc[df['class'] == 'High', 'labels'].value_counts().to_frame().head(100)\n",
    "# Print all labels for high priority\n",
    "#pd.set_option('display.max_rows', None)\n",
    "#df.loc[df['class'] == 'High', 'labels'].value_counts().to_frame()"
   ]
  },
  {
   "cell_type": "code",
   "execution_count": null,
   "metadata": {},
   "outputs": [],
   "source": [
    "# Medium\n",
    "df.loc[df['class'] == 'Medium', 'labels'].value_counts().to_frame().head(50)"
   ]
  },
  {
   "cell_type": "code",
   "execution_count": null,
   "metadata": {},
   "outputs": [],
   "source": [
    "# Low\n",
    "df.loc[df['class'] == 'Low', 'labels'].value_counts().to_frame().head(50)"
   ]
  },
  {
   "cell_type": "code",
   "execution_count": null,
   "metadata": {},
   "outputs": [],
   "source": [
    "# Unique repo\n",
    "df['repo'].nunique()"
   ]
  },
  {
   "cell_type": "code",
   "execution_count": null,
   "metadata": {},
   "outputs": [],
   "source": [
    "# Count of issues per repo\n",
    "df['repo'].value_counts().to_frame()[:50]"
   ]
  },
  {
   "cell_type": "code",
   "execution_count": null,
   "metadata": {},
   "outputs": [],
   "source": [
    "# Value count labels\n",
    "df[\"labels\"].value_counts().to_frame()[:50]"
   ]
  },
  {
   "cell_type": "code",
   "execution_count": null,
   "metadata": {},
   "outputs": [],
   "source": [
    "df.value_counts('class').to_frame()"
   ]
  },
  {
   "cell_type": "code",
   "execution_count": null,
   "metadata": {},
   "outputs": [],
   "source": []
  }
 ],
 "metadata": {
  "kernelspec": {
   "display_name": "hmm_test",
   "language": "python",
   "name": "python3"
  },
  "language_info": {
   "codemirror_mode": {
    "name": "ipython",
    "version": 3
   },
   "file_extension": ".py",
   "mimetype": "text/x-python",
   "name": "python",
   "nbconvert_exporter": "python",
   "pygments_lexer": "ipython3",
   "version": "3.11.8"
  }
 },
 "nbformat": 4,
 "nbformat_minor": 2
}
