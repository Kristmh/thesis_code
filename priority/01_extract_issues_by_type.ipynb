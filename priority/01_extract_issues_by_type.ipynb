{
 "cells": [
  {
   "cell_type": "code",
   "execution_count": null,
   "metadata": {},
   "outputs": [],
   "source": [
    "import pandas as pd\n",
    "import re\n",
    "import os"
   ]
  },
  {
   "cell_type": "code",
   "execution_count": null,
   "metadata": {},
   "outputs": [],
   "source": [
    "\n",
    "# folder path\n",
    "dir_path = r'../csv/all_issues' ## Point to the extracted folder containing all the issues csv files\n",
    "\n",
    "# list to store files\n",
    "res = []\n",
    "\n",
    "# Iterate directory\n",
    "for path in os.listdir(dir_path):\n",
    "    # check if current path is a file\n",
    "    if os.path.isfile(os.path.join(dir_path, path)):\n",
    "        res.append(path)\n",
    "print(res)"
   ]
  },
  {
   "cell_type": "code",
   "execution_count": null,
   "metadata": {},
   "outputs": [],
   "source": [
    "\n",
    "# Regular expression to capture various variations of \"high priority\"\n",
    "high_priority = r\"\\b(?:priority[\\s\\-_,.]*high|high[\\s\\-_,.]*priority|top[\\s\\-_,.]*priority|urgent|critical|high[\\s\\-_,.]*prio|high[\\s\\-_,.]*pri|prio[\\s\\-_,.]*high|pri[\\s\\-_,.]*high)\\b\"\n",
    "\n",
    "medium_priority = r\"\\b(?:priority[\\s\\-_,.]*medium|medium[\\s\\-_,.]*priority|moderate[\\s\\-_,.]*priority|medium[\\s\\-_,.]*prio|medium[\\s\\-_,.]*pri|prio[\\s\\-_,.]*medium|pri[\\s\\-_,.]*medium)\\b\"\n",
    "\n",
    "low_priority = r\"\\b(?:priority[\\s\\-_,.]*low|low[\\s\\-_,.]*priority|minor[\\s\\-_,.]*priority|low[\\s\\-_,.]*prio|low[\\s\\-_,.]*pri|prio[\\s\\-_,.]*low|pri[\\s\\-_,.]*low)\\b\"\n",
    "\n",
    "\n",
    "\n",
    "# Define the patterns\n",
    "patterns = [\"important\", \"urgent\", \"critical\"]\n",
    "\n",
    "# Initialize a dictionary to store DataFrames for each pattern\n",
    "pattern_dataframes = {pattern: [] for pattern in patterns}\n",
    "\n",
    "for i in res:\n",
    "    try:\n",
    "        file_path = f\"{dir_path}/{i}\"\n",
    "        df = pd.read_csv(file_path, index_col=0)\n",
    "\n",
    "        # Apply filtering for each pattern\n",
    "        for pattern in patterns:\n",
    "            filtered_df = df[df[\"labels\"].str.contains(pattern, case=False, na=False, regex=True)]\n",
    "            if not filtered_df.empty:\n",
    "                pattern_dataframes[pattern].append(filtered_df)\n",
    "\n",
    "        print(f\"Processed: {i}\")\n",
    "    except Exception as e:\n",
    "        print(f\"Error processing {i}: {e}\")\n",
    "\n",
    "# Concatenate DataFrames for each pattern\n",
    "for pattern in patterns:\n",
    "    if pattern_dataframes[pattern]:\n",
    "        pattern_dataframes[pattern] = pd.concat(pattern_dataframes[pattern], ignore_index=True)\n",
    "    else:\n",
    "        pattern_dataframes[pattern] = pd.DataFrame()  # Create an empty DataFrame if no data was found\n"
   ]
  },
  {
   "cell_type": "code",
   "execution_count": null,
   "metadata": {},
   "outputs": [],
   "source": [
    "pattern_dataframes[\"critical\"].labels.value_counts().to_frame()[:50]"
   ]
  },
  {
   "cell_type": "code",
   "execution_count": null,
   "metadata": {},
   "outputs": [],
   "source": [
    "# Assuming 'appended_data' is your DataFrame\n",
    "label_repo_counts = pattern_dataframes[\"critical\"].groupby(['labels', 'repo']).size().reset_index(name='counts')\n",
    "top_label_repo = label_repo_counts.sort_values(by='counts', ascending=False).head(60)\n",
    "top_label_repo\n"
   ]
  },
  {
   "cell_type": "code",
   "execution_count": null,
   "metadata": {},
   "outputs": [],
   "source": [
    "# Convert to csv\n",
    "# data_to_csv = f\"csv/final_medium_dataset.csv\"\n",
    "# appended_data.to_csv(data_to_csv)# type: ignore"
   ]
  }
 ],
 "metadata": {
  "kernelspec": {
   "display_name": "Python 3",
   "language": "python",
   "name": "python3"
  },
  "language_info": {
   "codemirror_mode": {
    "name": "ipython",
    "version": 3
   },
   "file_extension": ".py",
   "mimetype": "text/x-python",
   "name": "python",
   "nbconvert_exporter": "python",
   "pygments_lexer": "ipython3",
   "version": "3.11.5"
  },
  "vscode": {
   "interpreter": {
    "hash": "a64f21293159cd9c4e596ef7fd6c17a9c99d13712885c299cb3370e7a4d97830"
   }
  }
 },
 "nbformat": 4,
 "nbformat_minor": 4
}
