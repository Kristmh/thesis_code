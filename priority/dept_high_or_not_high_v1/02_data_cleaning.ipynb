{
 "cells": [
  {
   "cell_type": "markdown",
   "metadata": {},
   "source": [
    "# Data cleaning\n",
    "We want the class with labels as numerical value and the body with clean text.\n",
    "\n",
    "This will remove:\n",
    "* duplicates\n",
    "* NaN entires\n",
    "* non english\n",
    "* url, html\n",
    "\n",
    "* make it lowercase\n",
    "* combine title and body"
   ]
  },
  {
   "cell_type": "code",
   "execution_count": null,
   "metadata": {},
   "outputs": [],
   "source": [
    "import pandas as pd\n",
    "import sys\n",
    "import numpy as np\n",
    "sys.path.append(\"../../scripts_shared/\")\n",
    "from preprocess_text import preprocess_text\n"
   ]
  },
  {
   "cell_type": "code",
   "execution_count": null,
   "metadata": {},
   "outputs": [],
   "source": [
    "# Read CSV into a dataframe\n",
    "high_priority = pd.read_csv(\"csv/high_priority_with_td.csv\", index_col=0)\n",
    "not_high_priority = pd.read_csv(\"csv/not_high_no_td1.csv\", index_col=0)"
   ]
  },
  {
   "cell_type": "code",
   "execution_count": null,
   "metadata": {},
   "outputs": [],
   "source": [
    "contains_stale = not_high_priority['labels'].str.contains(\"stale\", case=False, na=False)\n",
    "not_high_priority= not_high_priority[~contains_stale].reset_index(drop=True)\n",
    "not_high_priority.reset_index(drop=True, inplace=True)\n",
    "not_high_priority"
   ]
  },
  {
   "cell_type": "code",
   "execution_count": null,
   "metadata": {},
   "outputs": [],
   "source": [
    "# Number or different labels\n",
    "high_priority.labels.value_counts().to_frame()[:50]"
   ]
  },
  {
   "cell_type": "code",
   "execution_count": null,
   "metadata": {},
   "outputs": [],
   "source": [
    "high_priority[high_priority[\"repo\"] == \"python/mypy\"]"
   ]
  },
  {
   "cell_type": "code",
   "execution_count": null,
   "metadata": {},
   "outputs": [],
   "source": [
    "# Remove mypy from the dataset\n",
    "high_priority = high_priority[high_priority[\"repo\"] != \"python/mypy\"]\n",
    "high_priority"
   ]
  },
  {
   "cell_type": "code",
   "execution_count": null,
   "metadata": {},
   "outputs": [],
   "source": [
    "not_high_priority[not_high_priority[\"repo\"] == \"python/mypy\"]"
   ]
  },
  {
   "cell_type": "code",
   "execution_count": null,
   "metadata": {},
   "outputs": [],
   "source": [
    "# Remove mypy from the dataset\n",
    "not_high_priority = not_high_priority[not_high_priority[\"repo\"] != \"python/mypy\"]\n",
    "not_high_priority"
   ]
  },
  {
   "cell_type": "code",
   "execution_count": null,
   "metadata": {},
   "outputs": [],
   "source": [
    "# Number or different labels\n",
    "not_high_priority.labels.value_counts().to_frame()[:50]"
   ]
  },
  {
   "cell_type": "code",
   "execution_count": null,
   "metadata": {
    "scrolled": true
   },
   "outputs": [],
   "source": [
    "#Give each priority a label by number.\n",
    "# 'Label encoding'. Makes is easier for machine learning models to work with categorical data.\n",
    "high_priority[\"label\"] = 0\n",
    "high_priority[\"class\"] = \"high_priority\"\n",
    "high_priority.head()"
   ]
  },
  {
   "cell_type": "code",
   "execution_count": null,
   "metadata": {},
   "outputs": [],
   "source": [
    "not_high_priority[\"label\"] = 1\n",
    "not_high_priority[\"class\"] = \"not_high_priority\" \n",
    "not_high_priority.head()"
   ]
  },
  {
   "cell_type": "code",
   "execution_count": null,
   "metadata": {},
   "outputs": [],
   "source": [
    "# Drop duplicates by the content of the body\n",
    "high_priority = high_priority.drop_duplicates(subset=['title'], keep='last')\n",
    "high_priority.dropna(inplace=True)\n",
    "high_priority.reset_index(inplace=True)\n",
    "high_priority.drop(columns=[\"index\"] , inplace= True)\n",
    "high_priority[\"class\"].value_counts()"
   ]
  },
  {
   "cell_type": "code",
   "execution_count": null,
   "metadata": {},
   "outputs": [],
   "source": [
    "# Drop duplicates by the content of the body\n",
    "not_high_priority = not_high_priority.drop_duplicates(subset=['title'], keep='last')\n",
    "not_high_priority.dropna(inplace=True)\n",
    "not_high_priority.reset_index(inplace=True)\n",
    "not_high_priority.drop(columns=[\"index\"] , inplace= True)\n",
    "not_high_priority[\"class\"].value_counts()"
   ]
  },
  {
   "cell_type": "code",
   "execution_count": null,
   "metadata": {},
   "outputs": [],
   "source": [
    "high_priority.info()"
   ]
  },
  {
   "cell_type": "code",
   "execution_count": null,
   "metadata": {},
   "outputs": [],
   "source": [
    "label_counts = high_priority[\"class\"].value_counts()\n",
    "label_counts_nhp = not_high_priority[\"class\"].value_counts()\n",
    "print(label_counts)\n",
    "not_high_priority_count = label_counts_nhp[\"not_high_priority\"]\n",
    "print(not_high_priority_count)\n",
    "hp_count = label_counts[\"high_priority\"]\n",
    "hp_count"
   ]
  },
  {
   "cell_type": "code",
   "execution_count": null,
   "metadata": {},
   "outputs": [],
   "source": [
    "not_high_priority = not_high_priority.sample(frac=hp_count/not_high_priority_count, random_state=42)\n",
    "not_high_priority"
   ]
  },
  {
   "cell_type": "code",
   "execution_count": null,
   "metadata": {},
   "outputs": [],
   "source": [
    "all_priority = pd.concat([high_priority,not_high_priority] , ignore_index = True)\n",
    "all_priority.tail()"
   ]
  },
  {
   "cell_type": "code",
   "execution_count": null,
   "metadata": {},
   "outputs": [],
   "source": [
    "# Does this need to be more balanced?\n",
    "all_priority[\"label\"].value_counts()"
   ]
  },
  {
   "cell_type": "code",
   "execution_count": null,
   "metadata": {},
   "outputs": [],
   "source": [
    "print(all_priority[\"title\"][0])\n",
    "print(all_priority[\"body\"][0])"
   ]
  },
  {
   "cell_type": "code",
   "execution_count": null,
   "metadata": {},
   "outputs": [],
   "source": [
    "# Copy content of body to a new col named text\n",
    "all_priority[\"text\"] = all_priority[\"title\"] + all_priority[\"body\"]\n",
    "all_priority.tail()"
   ]
  },
  {
   "cell_type": "code",
   "execution_count": null,
   "metadata": {},
   "outputs": [],
   "source": [
    "all_priority[\"text\"][0]"
   ]
  },
  {
   "cell_type": "code",
   "execution_count": null,
   "metadata": {},
   "outputs": [],
   "source": [
    "# Make a new dataframe with only text, label and class cols.\n",
    "all_priority_subset = all_priority[[\"text\" , \"label\" , \"class\"]]\n",
    "all_priority_subset"
   ]
  },
  {
   "cell_type": "code",
   "execution_count": null,
   "metadata": {},
   "outputs": [],
   "source": [
    "# Convert to string\n",
    "all_priority_subset[\"text_str\"] = all_priority_subset['text'].astype(str)"
   ]
  },
  {
   "cell_type": "code",
   "execution_count": null,
   "metadata": {},
   "outputs": [],
   "source": [
    "all_priority_subset"
   ]
  },
  {
   "cell_type": "code",
   "execution_count": null,
   "metadata": {},
   "outputs": [],
   "source": [
    "# Clean the data.\n",
    "all_priority_subset[\"text_clean\"] = all_priority_subset[\"text_str\"].map(preprocess_text)"
   ]
  },
  {
   "cell_type": "code",
   "execution_count": null,
   "metadata": {},
   "outputs": [],
   "source": [
    "# Make a subset with text_clean and label\n",
    "priority_label_text = all_priority_subset[[\"text_clean\" , \"label\"]]\n",
    "priority_label_text"
   ]
  },
  {
   "cell_type": "code",
   "execution_count": null,
   "metadata": {},
   "outputs": [],
   "source": [
    "# Need to dropna here since cleaning function returns NaN for not english text.\n",
    "priority_label_text.dropna(inplace=True)\n",
    "priority_label_text.reset_index(inplace=True)\n",
    "priority_label_text.drop(columns=[\"index\"] , inplace= True)\n",
    "\n",
    "priority_label_text"
   ]
  },
  {
   "cell_type": "code",
   "execution_count": null,
   "metadata": {},
   "outputs": [],
   "source": [
    "# Clean dataset with clean text and labels.\n",
    "# 0 = high priority, 1 = not high priority\n",
    "priority_label_text.to_csv(\"csv/clean_priority_debt_high_or_not_high.csv\")"
   ]
  },
  {
   "cell_type": "code",
   "execution_count": 73,
   "metadata": {},
   "outputs": [
    {
     "data": {
      "text/html": [
       "<div>\n",
       "<style scoped>\n",
       "    .dataframe tbody tr th:only-of-type {\n",
       "        vertical-align: middle;\n",
       "    }\n",
       "\n",
       "    .dataframe tbody tr th {\n",
       "        vertical-align: top;\n",
       "    }\n",
       "\n",
       "    .dataframe thead th {\n",
       "        text-align: right;\n",
       "    }\n",
       "</style>\n",
       "<table border=\"1\" class=\"dataframe\">\n",
       "  <thead>\n",
       "    <tr style=\"text-align: right;\">\n",
       "      <th></th>\n",
       "      <th>text_clean</th>\n",
       "      <th>label</th>\n",
       "    </tr>\n",
       "  </thead>\n",
       "  <tbody>\n",
       "    <tr>\n",
       "      <th>0</th>\n",
       "      <td>remove step from platform orientation template...</td>\n",
       "      <td>0</td>\n",
       "    </tr>\n",
       "    <tr>\n",
       "      <th>1</th>\n",
       "      <td>upgrade to latest appenginepluginscorethe late...</td>\n",
       "      <td>0</td>\n",
       "    </tr>\n",
       "    <tr>\n",
       "      <th>2</th>\n",
       "      <td>implement file system based throttlerwill nip ...</td>\n",
       "      <td>0</td>\n",
       "    </tr>\n",
       "    <tr>\n",
       "      <th>3</th>\n",
       "      <td>finish search v2 querystring custom extension ...</td>\n",
       "      <td>0</td>\n",
       "    </tr>\n",
       "    <tr>\n",
       "      <th>4</th>\n",
       "      <td>update versions fix all audit warningslast ver...</td>\n",
       "      <td>0</td>\n",
       "    </tr>\n",
       "    <tr>\n",
       "      <th>...</th>\n",
       "      <td>...</td>\n",
       "      <td>...</td>\n",
       "    </tr>\n",
       "    <tr>\n",
       "      <th>955</th>\n",
       "      <td>unify standard names structuresee httpsgithubc...</td>\n",
       "      <td>1</td>\n",
       "    </tr>\n",
       "    <tr>\n",
       "      <th>956</th>\n",
       "      <td>mouse move may have wrong coordinateswhen no m...</td>\n",
       "      <td>1</td>\n",
       "    </tr>\n",
       "    <tr>\n",
       "      <th>957</th>\n",
       "      <td>using colons in title field of frontmatterusin...</td>\n",
       "      <td>1</td>\n",
       "    </tr>\n",
       "    <tr>\n",
       "      <th>958</th>\n",
       "      <td>config file watcher on network mount wont reco...</td>\n",
       "      <td>1</td>\n",
       "    </tr>\n",
       "    <tr>\n",
       "      <th>959</th>\n",
       "      <td>cve202016119 high detected in linuxstablertv41...</td>\n",
       "      <td>1</td>\n",
       "    </tr>\n",
       "  </tbody>\n",
       "</table>\n",
       "<p>960 rows × 2 columns</p>\n",
       "</div>"
      ],
      "text/plain": [
       "                                            text_clean  label\n",
       "0    remove step from platform orientation template...      0\n",
       "1    upgrade to latest appenginepluginscorethe late...      0\n",
       "2    implement file system based throttlerwill nip ...      0\n",
       "3    finish search v2 querystring custom extension ...      0\n",
       "4    update versions fix all audit warningslast ver...      0\n",
       "..                                                 ...    ...\n",
       "955  unify standard names structuresee httpsgithubc...      1\n",
       "956  mouse move may have wrong coordinateswhen no m...      1\n",
       "957  using colons in title field of frontmatterusin...      1\n",
       "958  config file watcher on network mount wont reco...      1\n",
       "959  cve202016119 high detected in linuxstablertv41...      1\n",
       "\n",
       "[960 rows x 2 columns]"
      ]
     },
     "execution_count": 73,
     "metadata": {},
     "output_type": "execute_result"
    }
   ],
   "source": [
    "pri = pd.read_csv(\"csv/clean_priority_debt_high_or_not_high.csv\", index_col=0)\n",
    "pri"
   ]
  },
  {
   "cell_type": "code",
   "execution_count": 74,
   "metadata": {},
   "outputs": [],
   "source": [
    "# Split dataframe into three parts: training, validation and testing.\n",
    "def train_validate_test_split(df, train_percent=.8, validate_percent=.1, seed=42):\n",
    "    np.random.seed(seed)\n",
    "    # Shuffle index of dataframe\n",
    "    perm = np.random.permutation(df.index)\n",
    "    \n",
    "    df_length = len(df.index)\n",
    "    \n",
    "    # Number of row in training set\n",
    "    train_end = int(train_percent * df_length)\n",
    "    # Number of rows in validate set\n",
    "    validate_end = int(validate_percent * df_length) + train_end\n",
    "    \n",
    "    # From start to train end\n",
    "    train = df.iloc[perm[:train_end]]\n",
    "    # From train_end to validate_end\n",
    "    validate = df.iloc[perm[train_end:validate_end]]\n",
    "    # From validate to the last row in dataframe.\n",
    "    test = df.iloc[perm[validate_end:]]\n",
    "    return train, validate, test\n"
   ]
  },
  {
   "cell_type": "code",
   "execution_count": 75,
   "metadata": {},
   "outputs": [],
   "source": [
    "train , validate , test = train_validate_test_split(priority_label_text)"
   ]
  },
  {
   "cell_type": "code",
   "execution_count": 77,
   "metadata": {},
   "outputs": [
    {
     "data": {
      "text/plain": [
       "DatasetDict({\n",
       "    test: Dataset({\n",
       "        features: ['text_clean', 'label', '__index_level_0__'],\n",
       "        num_rows: 96\n",
       "    })\n",
       "    train: Dataset({\n",
       "        features: ['text_clean', 'label', '__index_level_0__'],\n",
       "        num_rows: 768\n",
       "    })\n",
       "    validate: Dataset({\n",
       "        features: ['text_clean', 'label', '__index_level_0__'],\n",
       "        num_rows: 96\n",
       "    })\n",
       "})"
      ]
     },
     "execution_count": 77,
     "metadata": {},
     "output_type": "execute_result"
    }
   ],
   "source": [
    "from datasets import Dataset, DatasetDict\n",
    "# Convert from Pandas DataFrame to Hugging Face datasets\n",
    "tds = Dataset.from_pandas(train)\n",
    "vds = Dataset.from_pandas(validate)\n",
    "test_ds = Dataset.from_pandas(test)\n",
    "\n",
    "ds = DatasetDict()\n",
    "\n",
    "ds[\"test\"] = test_ds\n",
    "ds[\"train\"] = tds\n",
    "ds[\"validate\"] = vds\n",
    "\n",
    "ds"
   ]
  },
  {
   "cell_type": "code",
   "execution_count": 78,
   "metadata": {},
   "outputs": [
    {
     "data": {
      "application/vnd.jupyter.widget-view+json": {
       "model_id": "b6fe9df14a864049b5a3c35d5f9abae5",
       "version_major": 2,
       "version_minor": 0
      },
      "text/plain": [
       "VBox(children=(HTML(value='<center> <img\\nsrc=https://huggingface.co/front/assets/huggingface_logo-noborder.sv…"
      ]
     },
     "metadata": {},
     "output_type": "display_data"
    }
   ],
   "source": [
    "from huggingface_hub import notebook_login\n",
    "\n",
    "notebook_login()"
   ]
  },
  {
   "cell_type": "code",
   "execution_count": null,
   "metadata": {},
   "outputs": [],
   "source": [
    "from datasets import Dataset\n",
    "\n",
    "# Convert the DataFrame\n",
    "hf_dataset = Dataset.from_pandas(priority_label_text)\n",
    "hf_dataset"
   ]
  },
  {
   "cell_type": "code",
   "execution_count": 80,
   "metadata": {},
   "outputs": [
    {
     "name": "stderr",
     "output_type": "stream",
     "text": [
      "Pushing dataset shards to the dataset hub: 100%|██████████| 1/1 [00:00<00:00, 33554.43it/s]\n",
      "Pushing dataset shards to the dataset hub: 100%|██████████| 1/1 [00:00<00:00, 32263.88it/s]\n",
      "Pushing dataset shards to the dataset hub: 100%|██████████| 1/1 [00:00<00:00, 32263.88it/s]\n",
      "Downloading metadata: 100%|██████████| 737/737 [00:00<00:00, 8.76MB/s]\n"
     ]
    }
   ],
   "source": [
    "ds.push_to_hub(\"high_priority_or_not_high_1\")\n"
   ]
  }
 ],
 "metadata": {
  "kernelspec": {
   "display_name": "Python 3 (ipykernel)",
   "language": "python",
   "name": "python3"
  },
  "language_info": {
   "codemirror_mode": {
    "name": "ipython",
    "version": 3
   },
   "file_extension": ".py",
   "mimetype": "text/x-python",
   "name": "python",
   "nbconvert_exporter": "python",
   "pygments_lexer": "ipython3",
   "version": "3.11.5"
  },
  "vscode": {
   "interpreter": {
    "hash": "9c8c1d29baca421c992713322bc02d129892a44846f1f6fab21a46344afe0421"
   }
  }
 },
 "nbformat": 4,
 "nbformat_minor": 4
}
