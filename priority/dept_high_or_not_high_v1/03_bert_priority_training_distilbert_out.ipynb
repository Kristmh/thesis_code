{
 "cells": [
  {
   "cell_type": "markdown",
   "id": "f89275a9",
   "metadata": {
    "papermill": {
     "duration": 0.09266,
     "end_time": "2023-11-30T13:33:15.953785",
     "exception": false,
     "start_time": "2023-11-30T13:33:15.861125",
     "status": "completed"
    },
    "tags": []
   },
   "source": [
    "# Importsand preparations"
   ]
  },
  {
   "cell_type": "code",
   "execution_count": 1,
   "id": "d3d342db",
   "metadata": {
    "execution": {
     "iopub.execute_input": "2023-11-30T13:33:16.113700Z",
     "iopub.status.busy": "2023-11-30T13:33:16.113448Z",
     "iopub.status.idle": "2023-11-30T13:34:02.177454Z",
     "shell.execute_reply": "2023-11-30T13:34:02.176617Z"
    },
    "papermill": {
     "duration": 46.151088,
     "end_time": "2023-11-30T13:34:02.179975",
     "exception": false,
     "start_time": "2023-11-30T13:33:16.028887",
     "status": "completed"
    },
    "tags": []
   },
   "outputs": [],
   "source": [
    "import pandas as pd\n",
    "import torch\n",
    "import os\n",
    "import numpy as np\n",
    "import datasets\n",
    "import transformers\n",
    "from GPUtil import showUtilization as gpu_usage\n",
    "from numba import cuda\n",
    "import torch.nn.functional as F\n",
    "\n",
    "from sklearn.metrics import accuracy_score, precision_recall_fscore_support\n",
    "from transformers import (\n",
    "    AutoModelForSequenceClassification,\n",
    "    AutoTokenizer,\n",
    "    Trainer,\n",
    "    TrainingArguments,\n",
    ")\n",
    "\n",
    "from datasets import load_dataset, Dataset, DatasetDict"
   ]
  },
  {
   "cell_type": "code",
   "execution_count": 2,
   "id": "13b3abce",
   "metadata": {
    "execution": {
     "iopub.execute_input": "2023-11-30T13:34:02.327328Z",
     "iopub.status.busy": "2023-11-30T13:34:02.326682Z",
     "iopub.status.idle": "2023-11-30T13:34:02.331709Z",
     "shell.execute_reply": "2023-11-30T13:34:02.331106Z"
    },
    "papermill": {
     "duration": 0.06902,
     "end_time": "2023-11-30T13:34:02.332949",
     "exception": false,
     "start_time": "2023-11-30T13:34:02.263929",
     "status": "completed"
    },
    "tags": []
   },
   "outputs": [],
   "source": [
    "# !watch -n 0.5 nvidia-smi"
   ]
  },
  {
   "cell_type": "code",
   "execution_count": 3,
   "id": "6579d707",
   "metadata": {
    "execution": {
     "iopub.execute_input": "2023-11-30T13:34:02.493747Z",
     "iopub.status.busy": "2023-11-30T13:34:02.493545Z",
     "iopub.status.idle": "2023-11-30T13:34:02.723623Z",
     "shell.execute_reply": "2023-11-30T13:34:02.722789Z"
    },
    "papermill": {
     "duration": 0.30318,
     "end_time": "2023-11-30T13:34:02.725222",
     "exception": false,
     "start_time": "2023-11-30T13:34:02.422042",
     "status": "completed"
    },
    "tags": []
   },
   "outputs": [
    {
     "name": "stdout",
     "output_type": "stream",
     "text": [
      "PyTorch version: 2.0.1+cu117\n",
      "CUDA version: 11.7\n",
      "cuDNN version: 8500\n",
      "Current device: 0\n",
      "Is cuda available: True\n"
     ]
    }
   ],
   "source": [
    "print(f'PyTorch version: {torch.__version__}')  # 1.9.1+cu111\n",
    "print(f'CUDA version: {torch.version.cuda}')  # 11.1\n",
    "print(f'cuDNN version: {torch.backends.cudnn.version()}')  # 8005\n",
    "print(f'Current device: {torch.cuda.current_device()}')  # 0\n",
    "print(f'Is cuda available: {torch.cuda.is_available()}')  # TRUE"
   ]
  },
  {
   "cell_type": "code",
   "execution_count": 4,
   "id": "30504d49",
   "metadata": {
    "execution": {
     "iopub.execute_input": "2023-11-30T13:34:02.874297Z",
     "iopub.status.busy": "2023-11-30T13:34:02.874047Z",
     "iopub.status.idle": "2023-11-30T13:34:02.877181Z",
     "shell.execute_reply": "2023-11-30T13:34:02.876758Z"
    },
    "papermill": {
     "duration": 0.080757,
     "end_time": "2023-11-30T13:34:02.878352",
     "exception": false,
     "start_time": "2023-11-30T13:34:02.797595",
     "status": "completed"
    },
    "tags": []
   },
   "outputs": [
    {
     "name": "stdout",
     "output_type": "stream",
     "text": [
      "Transformers version: 4.32.1\n",
      "Datasets version: 2.14.4\n"
     ]
    }
   ],
   "source": [
    "print(f'Transformers version: {transformers.__version__}')\n",
    "print(f'Datasets version: {datasets.__version__}')"
   ]
  },
  {
   "cell_type": "code",
   "execution_count": 5,
   "id": "1f96c096",
   "metadata": {
    "execution": {
     "iopub.execute_input": "2023-11-30T13:34:03.025109Z",
     "iopub.status.busy": "2023-11-30T13:34:03.024921Z",
     "iopub.status.idle": "2023-11-30T13:34:03.027681Z",
     "shell.execute_reply": "2023-11-30T13:34:03.027187Z"
    },
    "papermill": {
     "duration": 0.07151,
     "end_time": "2023-11-30T13:34:03.028665",
     "exception": false,
     "start_time": "2023-11-30T13:34:02.957155",
     "status": "completed"
    },
    "tags": []
   },
   "outputs": [],
   "source": [
    "# Prevent a warning related to the tokenization process in the transformers library. \n",
    "os.environ[\"TOKENIZERS_PARALLELISM\"] = \"False\"\n",
    "# Makes CUDA operations synchronous\n",
    "os.environ[\"CUDA_LAUNCH_BLOCKING\"] = \"1\""
   ]
  },
  {
   "cell_type": "code",
   "execution_count": 6,
   "id": "855ee0e4",
   "metadata": {
    "execution": {
     "iopub.execute_input": "2023-11-30T13:34:03.184626Z",
     "iopub.status.busy": "2023-11-30T13:34:03.184043Z",
     "iopub.status.idle": "2023-11-30T13:34:04.461715Z",
     "shell.execute_reply": "2023-11-30T13:34:04.461032Z"
    },
    "papermill": {
     "duration": 1.335325,
     "end_time": "2023-11-30T13:34:04.463510",
     "exception": false,
     "start_time": "2023-11-30T13:34:03.128185",
     "status": "completed"
    },
    "tags": []
   },
   "outputs": [
    {
     "name": "stdout",
     "output_type": "stream",
     "text": [
      "Thu Nov 30 14:34:03 2023       \r\n",
      "+---------------------------------------------------------------------------------------+\r\n",
      "| NVIDIA-SMI 530.30.02              Driver Version: 530.30.02    CUDA Version: 12.1     |\r\n",
      "|-----------------------------------------+----------------------+----------------------+\r\n",
      "| GPU  Name                  Persistence-M| Bus-Id        Disp.A | Volatile Uncorr. ECC |\r\n",
      "| Fan  Temp  Perf            Pwr:Usage/Cap|         Memory-Usage | GPU-Util  Compute M. |\r\n",
      "|                                         |                      |               MIG M. |\r\n",
      "|=========================================+======================+======================|\r\n"
     ]
    },
    {
     "name": "stdout",
     "output_type": "stream",
     "text": [
      "|   0  NVIDIA A100-PCIE-40GB           On | 00000000:01:00.0 Off |                    0 |\r\n",
      "| N/A   43C    P0              210W / 250W|  18350MiB / 40960MiB |     37%      Default |\r\n",
      "|                                         |                      |             Disabled |\r\n",
      "+-----------------------------------------+----------------------+----------------------+\r\n",
      "|   1  NVIDIA A100-PCIE-40GB           On | 00000000:25:00.0 Off |                    0 |\r\n",
      "| N/A   41C    P0              196W / 250W|  18258MiB / 40960MiB |     35%      Default |\r\n",
      "|                                         |                      |             Disabled |\r\n",
      "+-----------------------------------------+----------------------+----------------------+\r\n",
      "|   2  NVIDIA A100-PCIE-40GB           On | 00000000:C1:00.0 Off |                    0 |\r\n",
      "| N/A   28C    P0               36W / 250W|  36144MiB / 40960MiB |      0%      Default |\r\n",
      "|                                         |                      |             Disabled |\r\n",
      "+-----------------------------------------+----------------------+----------------------+\r\n",
      "|   3  NVIDIA A100-PCIE-40GB           On | 00000000:E1:00.0 Off |                    0 |\r\n",
      "| N/A   40C    P0              157W / 250W|  36482MiB / 40960MiB |     45%      Default |\r\n",
      "|                                         |                      |             Disabled |\r\n",
      "+-----------------------------------------+----------------------+----------------------+\r\n",
      "                                                                                         \r\n",
      "+---------------------------------------------------------------------------------------+\r\n",
      "| Processes:                                                                            |\r\n",
      "|  GPU   GI   CI        PID   Type   Process name                            GPU Memory |\r\n",
      "|        ID   ID                                                             Usage      |\r\n",
      "|=======================================================================================|\r\n",
      "|    0   N/A  N/A    136234      C   ...s/h2o-llmstudio-KHVkQbck/bin/python      978MiB |\r\n",
      "|    0   N/A  N/A   1548549      C   python                                    17370MiB |\r\n"
     ]
    },
    {
     "name": "stdout",
     "output_type": "stream",
     "text": [
      "|    1   N/A  N/A   1548549      C   python                                    17124MiB |\r\n",
      "|    1   N/A  N/A   3986343      C   python3                                    1130MiB |\r\n",
      "|    2   N/A  N/A    136234      C   ...s/h2o-llmstudio-KHVkQbck/bin/python     2132MiB |\r\n",
      "|    2   N/A  N/A    176249      C   ...s/h2o-llmstudio-KHVkQbck/bin/python    34006MiB |\r\n",
      "|    3   N/A  N/A   1163734      C   python3.10                                19394MiB |\r\n",
      "|    3   N/A  N/A   1548549      C   python                                    17084MiB |\r\n",
      "+---------------------------------------------------------------------------------------+\r\n"
     ]
    }
   ],
   "source": [
    "# Find the GPU with the least memory usage.\n",
    "!nvidia-smi"
   ]
  },
  {
   "cell_type": "code",
   "execution_count": 7,
   "id": "c72ee9e8",
   "metadata": {
    "execution": {
     "iopub.execute_input": "2023-11-30T13:34:04.635015Z",
     "iopub.status.busy": "2023-11-30T13:34:04.634839Z",
     "iopub.status.idle": "2023-11-30T13:34:05.421935Z",
     "shell.execute_reply": "2023-11-30T13:34:05.421192Z"
    },
    "papermill": {
     "duration": 0.858195,
     "end_time": "2023-11-30T13:34:05.423104",
     "exception": false,
     "start_time": "2023-11-30T13:34:04.564909",
     "status": "completed"
    },
    "tags": []
   },
   "outputs": [
    {
     "name": "stdout",
     "output_type": "stream",
     "text": [
      "Initial GPU Usage\n",
      "| ID | GPU | MEM |\n",
      "------------------\n",
      "|  0 | 39% | 45% |\n",
      "|  1 | 44% | 45% |\n",
      "|  2 |  0% | 88% |\n",
      "|  3 | 57% | 89% |\n"
     ]
    },
    {
     "name": "stdout",
     "output_type": "stream",
     "text": [
      "GPU Usage after emptying the cache\n",
      "| ID | GPU | MEM |\n",
      "------------------\n",
      "|  0 | 62% | 46% |\n",
      "|  1 | 51% | 45% |\n",
      "|  2 |  0% | 88% |\n",
      "|  3 | 67% | 89% |\n"
     ]
    }
   ],
   "source": [
    "def free_gpu_cache():\n",
    "    print(\"Initial GPU Usage\")\n",
    "    gpu_usage()                             \n",
    "\n",
    "    # free unreferenced tensors from the GPU memory.\n",
    "    torch.cuda.empty_cache()\n",
    "\n",
    "    cuda.select_device(0)\n",
    "    cuda.close()\n",
    "    cuda.select_device(0)\n",
    "\n",
    "    print(\"GPU Usage after emptying the cache\")\n",
    "    gpu_usage()\n",
    "\n",
    "free_gpu_cache()   "
   ]
  },
  {
   "cell_type": "code",
   "execution_count": 8,
   "id": "f26fa5fc",
   "metadata": {
    "execution": {
     "iopub.execute_input": "2023-11-30T13:34:05.548435Z",
     "iopub.status.busy": "2023-11-30T13:34:05.548267Z",
     "iopub.status.idle": "2023-11-30T13:34:05.552704Z",
     "shell.execute_reply": "2023-11-30T13:34:05.552343Z"
    },
    "papermill": {
     "duration": 0.067485,
     "end_time": "2023-11-30T13:34:05.553828",
     "exception": false,
     "start_time": "2023-11-30T13:34:05.486343",
     "status": "completed"
    },
    "tags": []
   },
   "outputs": [],
   "source": [
    "# Smaller and faster than bert.\n",
    "\n",
    "model_ckpt = \"distilbert-base-uncased\"\n",
    "\n",
    "epochs = 5 #Number of full cyles through the training set.\n",
    "num_labels = 2 #Number of labels, high, med, low priority.\n",
    "learning_rate = 5e-5 # Rate the model updates based on the data its trained on.\n",
    "train_batch_size = 16 # Number of training examples in one iteration.\n",
    "eval_batch_size = 32 # Number evalutaion examples in on iteratoion.\n",
    "save_strategy = \"no\" # Should the model be saved automatically during training.\n",
    "save_steps = 500 # How often to save the model during training. No effect since no over.\n",
    "logging_steps = 100\n",
    "model_dir = \"./model1\" #Where to save model\n",
    "\n",
    "# Use early stopping to prevent overfitting\n",
    "#load_best_model_at_end=True\n",
    "#metric_for_best_model=\"eval_loss\"\n",
    "#greater_is_better=False"
   ]
  },
  {
   "cell_type": "markdown",
   "id": "ffd5e02a",
   "metadata": {
    "papermill": {
     "duration": 0.070431,
     "end_time": "2023-11-30T13:34:05.677209",
     "exception": false,
     "start_time": "2023-11-30T13:34:05.606778",
     "status": "completed"
    },
    "tags": []
   },
   "source": [
    "Load dataset from huggingface"
   ]
  },
  {
   "cell_type": "code",
   "execution_count": 9,
   "id": "507c3d9e",
   "metadata": {
    "execution": {
     "iopub.execute_input": "2023-11-30T13:34:05.812454Z",
     "iopub.status.busy": "2023-11-30T13:34:05.812308Z",
     "iopub.status.idle": "2023-11-30T13:34:09.931293Z",
     "shell.execute_reply": "2023-11-30T13:34:09.930759Z"
    },
    "papermill": {
     "duration": 4.189184,
     "end_time": "2023-11-30T13:34:09.932628",
     "exception": false,
     "start_time": "2023-11-30T13:34:05.743444",
     "status": "completed"
    },
    "tags": []
   },
   "outputs": [
    {
     "data": {
      "application/vnd.jupyter.widget-view+json": {
       "model_id": "de0e1f386d57459abbdfc0271ba27609",
       "version_major": 2,
       "version_minor": 0
      },
      "text/plain": [
       "Downloading data files:   0%|          | 0/3 [00:00<?, ?it/s]"
      ]
     },
     "metadata": {},
     "output_type": "display_data"
    },
    {
     "data": {
      "application/vnd.jupyter.widget-view+json": {
       "model_id": "73557de82e3c4cc5a1d89fe41072a692",
       "version_major": 2,
       "version_minor": 0
      },
      "text/plain": [
       "Extracting data files:   0%|          | 0/3 [00:00<?, ?it/s]"
      ]
     },
     "metadata": {},
     "output_type": "display_data"
    },
    {
     "data": {
      "application/vnd.jupyter.widget-view+json": {
       "model_id": "fe3d76f9798e4202a3097dacbb4e640a",
       "version_major": 2,
       "version_minor": 0
      },
      "text/plain": [
       "Generating test split:   0%|          | 0/96 [00:00<?, ? examples/s]"
      ]
     },
     "metadata": {},
     "output_type": "display_data"
    },
    {
     "data": {
      "application/vnd.jupyter.widget-view+json": {
       "model_id": "4c18ee5e86764db59240552659e3dfff",
       "version_major": 2,
       "version_minor": 0
      },
      "text/plain": [
       "Generating train split:   0%|          | 0/768 [00:00<?, ? examples/s]"
      ]
     },
     "metadata": {},
     "output_type": "display_data"
    },
    {
     "data": {
      "application/vnd.jupyter.widget-view+json": {
       "model_id": "7651be0ab6b0455a871e40966e956bd3",
       "version_major": 2,
       "version_minor": 0
      },
      "text/plain": [
       "Generating validate split:   0%|          | 0/96 [00:00<?, ? examples/s]"
      ]
     },
     "metadata": {},
     "output_type": "display_data"
    },
    {
     "data": {
      "text/plain": [
       "DatasetDict({\n",
       "    test: Dataset({\n",
       "        features: ['text_clean', 'label', '__index_level_0__'],\n",
       "        num_rows: 96\n",
       "    })\n",
       "    train: Dataset({\n",
       "        features: ['text_clean', 'label', '__index_level_0__'],\n",
       "        num_rows: 768\n",
       "    })\n",
       "    validate: Dataset({\n",
       "        features: ['text_clean', 'label', '__index_level_0__'],\n",
       "        num_rows: 96\n",
       "    })\n",
       "})"
      ]
     },
     "execution_count": 9,
     "metadata": {},
     "output_type": "execute_result"
    }
   ],
   "source": [
    "dataset = load_dataset(\"kristmh/high_priority_or_not_high_1\")\n",
    "dataset"
   ]
  },
  {
   "cell_type": "code",
   "execution_count": 10,
   "id": "b7ef1614",
   "metadata": {
    "execution": {
     "iopub.execute_input": "2023-11-30T13:34:10.076805Z",
     "iopub.status.busy": "2023-11-30T13:34:10.076642Z",
     "iopub.status.idle": "2023-11-30T13:34:10.080710Z",
     "shell.execute_reply": "2023-11-30T13:34:10.080328Z"
    },
    "papermill": {
     "duration": 0.083907,
     "end_time": "2023-11-30T13:34:10.081782",
     "exception": false,
     "start_time": "2023-11-30T13:34:09.997875",
     "status": "completed"
    },
    "tags": []
   },
   "outputs": [],
   "source": [
    "def compute_metrics(pred):\n",
    "    labels = pred.label_ids\n",
    "    preds = pred.predictions.argmax(-1)\n",
    "    precision, recall, f1, _ = precision_recall_fscore_support(labels, preds)\n",
    "    acc = accuracy_score(labels, preds)\n",
    "    return {\"accuracy\": acc, \"f1\": f1, \"precision\": precision, \"recall\": recall}"
   ]
  },
  {
   "cell_type": "code",
   "execution_count": 11,
   "id": "d22582ef",
   "metadata": {
    "execution": {
     "iopub.execute_input": "2023-11-30T13:34:10.225609Z",
     "iopub.status.busy": "2023-11-30T13:34:10.225236Z",
     "iopub.status.idle": "2023-11-30T13:34:15.648429Z",
     "shell.execute_reply": "2023-11-30T13:34:15.647647Z"
    },
    "papermill": {
     "duration": 5.509315,
     "end_time": "2023-11-30T13:34:15.650013",
     "exception": false,
     "start_time": "2023-11-30T13:34:10.140698",
     "status": "completed"
    },
    "tags": []
   },
   "outputs": [
    {
     "name": "stderr",
     "output_type": "stream",
     "text": [
      "Some weights of DistilBertForSequenceClassification were not initialized from the model checkpoint at distilbert-base-uncased and are newly initialized: ['classifier.weight', 'pre_classifier.bias', 'classifier.bias', 'pre_classifier.weight']\n",
      "You should probably TRAIN this model on a down-stream task to be able to use it for predictions and inference.\n"
     ]
    }
   ],
   "source": [
    "model = AutoModelForSequenceClassification.from_pretrained(model_ckpt, num_labels=num_labels)\n",
    "#tokenizer = AutoTokenizer.from_pretrained(base_model_id)\n",
    "# optim = torch.optim.Adam(model.parameters(), lr=5e-5)"
   ]
  },
  {
   "cell_type": "code",
   "execution_count": 12,
   "id": "cbffc393",
   "metadata": {
    "execution": {
     "iopub.execute_input": "2023-11-30T13:34:15.805020Z",
     "iopub.status.busy": "2023-11-30T13:34:15.804692Z",
     "iopub.status.idle": "2023-11-30T13:34:21.825336Z",
     "shell.execute_reply": "2023-11-30T13:34:21.824315Z"
    },
    "papermill": {
     "duration": 6.077771,
     "end_time": "2023-11-30T13:34:21.827323",
     "exception": false,
     "start_time": "2023-11-30T13:34:15.749552",
     "status": "completed"
    },
    "tags": []
   },
   "outputs": [
    {
     "data": {
      "text/plain": [
       "device(type='cuda')"
      ]
     },
     "execution_count": 12,
     "metadata": {},
     "output_type": "execute_result"
    }
   ],
   "source": [
    "device = torch.device(\"cuda\" if torch.cuda.is_available() else \"cpu\")\n",
    "model.to(device)\n",
    "device"
   ]
  },
  {
   "cell_type": "markdown",
   "id": "484feadf",
   "metadata": {
    "papermill": {
     "duration": 0.076666,
     "end_time": "2023-11-30T13:34:21.982111",
     "exception": false,
     "start_time": "2023-11-30T13:34:21.905445",
     "status": "completed"
    },
    "tags": []
   },
   "source": [
    "## Tokenization"
   ]
  },
  {
   "cell_type": "code",
   "execution_count": 13,
   "id": "d90b52d3",
   "metadata": {
    "execution": {
     "iopub.execute_input": "2023-11-30T13:34:22.120754Z",
     "iopub.status.busy": "2023-11-30T13:34:22.120426Z",
     "iopub.status.idle": "2023-11-30T13:34:22.333468Z",
     "shell.execute_reply": "2023-11-30T13:34:22.332769Z"
    },
    "papermill": {
     "duration": 0.290211,
     "end_time": "2023-11-30T13:34:22.335067",
     "exception": false,
     "start_time": "2023-11-30T13:34:22.044856",
     "status": "completed"
    },
    "tags": []
   },
   "outputs": [],
   "source": [
    "tokenizer = AutoTokenizer.from_pretrained(model_ckpt)"
   ]
  },
  {
   "cell_type": "markdown",
   "id": "b76dfffd",
   "metadata": {
    "papermill": {
     "duration": 0.061771,
     "end_time": "2023-11-30T13:34:22.455087",
     "exception": false,
     "start_time": "2023-11-30T13:34:22.393316",
     "status": "completed"
    },
    "tags": []
   },
   "source": [
    "    Tokenizing the whole dataset"
   ]
  },
  {
   "cell_type": "code",
   "execution_count": 14,
   "id": "9c848144",
   "metadata": {
    "execution": {
     "iopub.execute_input": "2023-11-30T13:34:22.576767Z",
     "iopub.status.busy": "2023-11-30T13:34:22.576425Z",
     "iopub.status.idle": "2023-11-30T13:34:22.579932Z",
     "shell.execute_reply": "2023-11-30T13:34:22.579387Z"
    },
    "papermill": {
     "duration": 0.070526,
     "end_time": "2023-11-30T13:34:22.581196",
     "exception": false,
     "start_time": "2023-11-30T13:34:22.510670",
     "status": "completed"
    },
    "tags": []
   },
   "outputs": [],
   "source": [
    "#Tokenize the dataset to the correct input for the transformer model.\n",
    "def tokenize(batch):\n",
    "    return tokenizer(batch[\"text_clean\"], padding=\"max_length\", truncation=True)"
   ]
  },
  {
   "cell_type": "code",
   "execution_count": 15,
   "id": "7370e391",
   "metadata": {
    "execution": {
     "iopub.execute_input": "2023-11-30T13:34:22.714462Z",
     "iopub.status.busy": "2023-11-30T13:34:22.714314Z",
     "iopub.status.idle": "2023-11-30T13:34:24.771896Z",
     "shell.execute_reply": "2023-11-30T13:34:24.771394Z"
    },
    "papermill": {
     "duration": 2.12421,
     "end_time": "2023-11-30T13:34:24.773149",
     "exception": false,
     "start_time": "2023-11-30T13:34:22.648939",
     "status": "completed"
    },
    "tags": []
   },
   "outputs": [
    {
     "data": {
      "application/vnd.jupyter.widget-view+json": {
       "model_id": "efd14d10db1843c9a708c4cec943839b",
       "version_major": 2,
       "version_minor": 0
      },
      "text/plain": [
       "Map:   0%|          | 0/96 [00:00<?, ? examples/s]"
      ]
     },
     "metadata": {},
     "output_type": "display_data"
    },
    {
     "data": {
      "application/vnd.jupyter.widget-view+json": {
       "model_id": "bcc7a004805e474297cfb997970268fd",
       "version_major": 2,
       "version_minor": 0
      },
      "text/plain": [
       "Map:   0%|          | 0/768 [00:00<?, ? examples/s]"
      ]
     },
     "metadata": {},
     "output_type": "display_data"
    },
    {
     "data": {
      "application/vnd.jupyter.widget-view+json": {
       "model_id": "3d58548b5bdf4d8f8b12e849d50ba33f",
       "version_major": 2,
       "version_minor": 0
      },
      "text/plain": [
       "Map:   0%|          | 0/96 [00:00<?, ? examples/s]"
      ]
     },
     "metadata": {},
     "output_type": "display_data"
    }
   ],
   "source": [
    "tokenized_dataset = dataset.map(tokenize, batched=True)"
   ]
  },
  {
   "cell_type": "code",
   "execution_count": 16,
   "id": "7878a91b",
   "metadata": {
    "execution": {
     "iopub.execute_input": "2023-11-30T13:34:24.912060Z",
     "iopub.status.busy": "2023-11-30T13:34:24.911870Z",
     "iopub.status.idle": "2023-11-30T13:34:24.917954Z",
     "shell.execute_reply": "2023-11-30T13:34:24.917516Z"
    },
    "papermill": {
     "duration": 0.061965,
     "end_time": "2023-11-30T13:34:24.919017",
     "exception": false,
     "start_time": "2023-11-30T13:34:24.857052",
     "status": "completed"
    },
    "tags": []
   },
   "outputs": [
    {
     "name": "stdout",
     "output_type": "stream",
     "text": [
      "Dataset({\n",
      "    features: ['text_clean', 'label', '__index_level_0__', 'input_ids', 'attention_mask'],\n",
      "    num_rows: 768\n",
      "})\n",
      "Dataset({\n",
      "    features: ['text_clean', 'label', '__index_level_0__', 'input_ids', 'attention_mask'],\n",
      "    num_rows: 96\n",
      "})\n"
     ]
    },
    {
     "data": {
      "text/plain": [
       "Dataset({\n",
       "    features: ['text_clean', 'label', '__index_level_0__', 'input_ids', 'attention_mask'],\n",
       "    num_rows: 96\n",
       "})"
      ]
     },
     "execution_count": 16,
     "metadata": {},
     "output_type": "execute_result"
    }
   ],
   "source": [
    "train_dataset = tokenized_dataset[\"train\"]\n",
    "print(train_dataset)\n",
    "validation_dataset = tokenized_dataset[\"validate\"]\n",
    "print(validation_dataset)\n",
    "test_dataset = tokenized_dataset[\"test\"]\n",
    "test_dataset"
   ]
  },
  {
   "cell_type": "markdown",
   "id": "d10c7769",
   "metadata": {
    "papermill": {
     "duration": 0.066848,
     "end_time": "2023-11-30T13:34:25.048051",
     "exception": false,
     "start_time": "2023-11-30T13:34:24.981203",
     "status": "completed"
    },
    "tags": []
   },
   "source": [
    "## Training a classifier"
   ]
  },
  {
   "cell_type": "code",
   "execution_count": 17,
   "id": "5a5a7f8c",
   "metadata": {
    "execution": {
     "iopub.execute_input": "2023-11-30T13:34:25.177557Z",
     "iopub.status.busy": "2023-11-30T13:34:25.177387Z",
     "iopub.status.idle": "2023-11-30T13:34:25.183954Z",
     "shell.execute_reply": "2023-11-30T13:34:25.183562Z"
    },
    "papermill": {
     "duration": 0.061963,
     "end_time": "2023-11-30T13:34:25.185017",
     "exception": false,
     "start_time": "2023-11-30T13:34:25.123054",
     "status": "completed"
    },
    "tags": []
   },
   "outputs": [],
   "source": [
    "training_args = TrainingArguments(\n",
    "    output_dir=model_dir,\n",
    "    num_train_epochs=epochs,\n",
    "    per_device_train_batch_size=train_batch_size,\n",
    "    per_device_eval_batch_size=eval_batch_size,\n",
    "    save_strategy=save_strategy,\n",
    "    save_steps=save_steps,\n",
    "    evaluation_strategy=\"epoch\",\n",
    "    learning_rate=learning_rate,\n",
    "    logging_steps=logging_steps,\n",
    ")"
   ]
  },
  {
   "cell_type": "code",
   "execution_count": 18,
   "id": "318fc8a3",
   "metadata": {
    "execution": {
     "iopub.execute_input": "2023-11-30T13:34:25.309372Z",
     "iopub.status.busy": "2023-11-30T13:34:25.309230Z",
     "iopub.status.idle": "2023-11-30T13:34:25.324591Z",
     "shell.execute_reply": "2023-11-30T13:34:25.324005Z"
    },
    "papermill": {
     "duration": 0.069763,
     "end_time": "2023-11-30T13:34:25.325777",
     "exception": false,
     "start_time": "2023-11-30T13:34:25.256014",
     "status": "completed"
    },
    "tags": []
   },
   "outputs": [],
   "source": [
    "trainer = Trainer(\n",
    "    model=model,\n",
    "    args=training_args,\n",
    "    tokenizer=tokenizer,\n",
    "    compute_metrics=compute_metrics,\n",
    "    train_dataset=train_dataset,\n",
    "    eval_dataset=validation_dataset,\n",
    ")"
   ]
  },
  {
   "cell_type": "code",
   "execution_count": 19,
   "id": "0b5578f2",
   "metadata": {
    "execution": {
     "iopub.execute_input": "2023-11-30T13:34:25.473648Z",
     "iopub.status.busy": "2023-11-30T13:34:25.473493Z"
    },
    "papermill": {
     "duration": 2399.559911,
     "end_time": "2023-11-30T14:14:24.963220",
     "exception": false,
     "start_time": "2023-11-30T13:34:25.403309",
     "status": "completed"
    },
    "tags": []
   },
   "outputs": [
    {
     "name": "stderr",
     "output_type": "stream",
     "text": [
      "You're using a DistilBertTokenizerFast tokenizer. Please note that with a fast tokenizer, using the `__call__` method is faster than using a method to encode the text followed by a call to the `pad` method to get a padded encoding.\n"
     ]
    }
   ],
   "source": [
    "trainer.train() "
   ]
  },
  {
   "cell_type": "markdown",
   "id": "a8ac7267",
   "metadata": {
    "papermill": {
     "duration": null,
     "end_time": null,
     "exception": null,
     "start_time": null,
     "status": "completed"
    },
    "tags": []
   },
   "source": [
    "* Training loss: Difference between the predictons made by the model on the training dataset vs on the actual data.\n",
    "* Validation loss: how well the model functions on unseen data.\n",
    "* Accuracy: How much the model gets correct. number of correct Prediction / total number of predictions.\n",
    "* F1: consider both precision and recall. \n",
    "* Precision: Accuracy of positive predictions. Percison TP = TP + FP. How often the model is correct.\n",
    "* Recall: True positive rate. how many items the model gets correct from the total amount."
   ]
  },
  {
   "cell_type": "markdown",
   "id": "7c34a7fd",
   "metadata": {
    "papermill": {
     "duration": null,
     "end_time": null,
     "exception": null,
     "start_time": null,
     "status": "completed"
    },
    "tags": []
   },
   "source": [
    "### Training loss decreases, valdiation loss increases = Overfitting"
   ]
  },
  {
   "cell_type": "code",
   "execution_count": null,
   "id": "a791423d",
   "metadata": {
    "papermill": {
     "duration": null,
     "end_time": null,
     "exception": null,
     "start_time": null,
     "status": "completed"
    },
    "tags": []
   },
   "outputs": [],
   "source": [
    "# Evaluate validation set\n",
    "eval_result = trainer.evaluate(eval_dataset=validation_dataset)"
   ]
  },
  {
   "cell_type": "code",
   "execution_count": null,
   "id": "88295878",
   "metadata": {
    "papermill": {
     "duration": null,
     "end_time": null,
     "exception": null,
     "start_time": null,
     "status": "completed"
    },
    "tags": []
   },
   "outputs": [],
   "source": [
    "for key, value in sorted(eval_result.items()):\n",
    "    print(f\"{key} = {value}\\n\")"
   ]
  },
  {
   "cell_type": "code",
   "execution_count": null,
   "id": "dce22454",
   "metadata": {
    "papermill": {
     "duration": null,
     "end_time": null,
     "exception": null,
     "start_time": null,
     "status": "completed"
    },
    "tags": []
   },
   "outputs": [],
   "source": [
    "# Evaluate test data set\n",
    "test_results = trainer.evaluate(eval_dataset=test_dataset)"
   ]
  },
  {
   "cell_type": "code",
   "execution_count": null,
   "id": "5970cfc5",
   "metadata": {
    "papermill": {
     "duration": null,
     "end_time": null,
     "exception": null,
     "start_time": null,
     "status": "completed"
    },
    "tags": []
   },
   "outputs": [],
   "source": [
    "for key, value in sorted(test_results.items()):\n",
    "    print(f\"{key} = {value}\\n\")"
   ]
  },
  {
   "cell_type": "code",
   "execution_count": null,
   "id": "17901854",
   "metadata": {
    "papermill": {
     "duration": null,
     "end_time": null,
     "exception": null,
     "start_time": null,
     "status": "completed"
    },
    "tags": []
   },
   "outputs": [],
   "source": [
    "trainer.save_model(model_dir + \"_local\") "
   ]
  },
  {
   "cell_type": "code",
   "execution_count": null,
   "id": "cac76c94",
   "metadata": {
    "papermill": {
     "duration": null,
     "end_time": null,
     "exception": null,
     "start_time": null,
     "status": "completed"
    },
    "tags": []
   },
   "outputs": [],
   "source": [
    "from transformers import pipeline\n",
    "    \n",
    "classifier = pipeline(\"text-classification\", model=\"./model_local\")"
   ]
  },
  {
   "cell_type": "code",
   "execution_count": null,
   "id": "534615c2",
   "metadata": {
    "papermill": {
     "duration": null,
     "end_time": null,
     "exception": null,
     "start_time": null,
     "status": "completed"
    },
    "tags": []
   },
   "outputs": [],
   "source": [
    "classifier.model"
   ]
  },
  {
   "cell_type": "code",
   "execution_count": null,
   "id": "ee71c0f7",
   "metadata": {
    "papermill": {
     "duration": null,
     "end_time": null,
     "exception": null,
     "start_time": null,
     "status": "completed"
    },
    "tags": []
   },
   "outputs": [],
   "source": [
    "classifier(\"this does not need to be done fast\")"
   ]
  },
  {
   "cell_type": "code",
   "execution_count": null,
   "id": "3978b8ee",
   "metadata": {
    "papermill": {
     "duration": null,
     "end_time": null,
     "exception": null,
     "start_time": null,
     "status": "completed"
    },
    "tags": []
   },
   "outputs": [],
   "source": [
    "classifier(\"this is super important\")"
   ]
  },
  {
   "cell_type": "code",
   "execution_count": null,
   "id": "fcb83892",
   "metadata": {
    "papermill": {
     "duration": null,
     "end_time": null,
     "exception": null,
     "start_time": null,
     "status": "completed"
    },
    "tags": []
   },
   "outputs": [],
   "source": [
    "classifier(\"this bug has super high impact on the project\")"
   ]
  },
  {
   "cell_type": "markdown",
   "id": "25a082ef",
   "metadata": {
    "papermill": {
     "duration": null,
     "end_time": null,
     "exception": null,
     "start_time": null,
     "status": "completed"
    },
    "tags": []
   },
   "source": [
    "## Important to delete large objects to free memory \n",
    "del train_dataset"
   ]
  },
  {
   "cell_type": "code",
   "execution_count": null,
   "id": "44bc1927",
   "metadata": {
    "papermill": {
     "duration": null,
     "end_time": null,
     "exception": null,
     "start_time": null,
     "status": "completed"
    },
    "tags": []
   },
   "outputs": [],
   "source": [
    "del validation_dataset "
   ]
  },
  {
   "cell_type": "code",
   "execution_count": null,
   "id": "7d547dc0",
   "metadata": {
    "papermill": {
     "duration": null,
     "end_time": null,
     "exception": null,
     "start_time": null,
     "status": "completed"
    },
    "tags": []
   },
   "outputs": [],
   "source": [
    "del model"
   ]
  },
  {
   "cell_type": "code",
   "execution_count": null,
   "id": "ff22f3df",
   "metadata": {
    "papermill": {
     "duration": null,
     "end_time": null,
     "exception": null,
     "start_time": null,
     "status": "completed"
    },
    "tags": []
   },
   "outputs": [],
   "source": [
    "# Free cache\n",
    "torch.cuda.empty_cache()"
   ]
  },
  {
   "cell_type": "code",
   "execution_count": null,
   "id": "3f2be48e",
   "metadata": {
    "papermill": {
     "duration": null,
     "end_time": null,
     "exception": null,
     "start_time": null,
     "status": "completed"
    },
    "tags": []
   },
   "outputs": [],
   "source": [
    "!nvidia-smi"
   ]
  }
 ],
 "metadata": {
  "kernelspec": {
   "display_name": "Python 3 (ipykernel)",
   "language": "python",
   "name": "python3"
  },
  "language_info": {
   "codemirror_mode": {
    "name": "ipython",
    "version": 3
   },
   "file_extension": ".py",
   "mimetype": "text/x-python",
   "name": "python",
   "nbconvert_exporter": "python",
   "pygments_lexer": "ipython3",
   "version": "3.11.5"
  },
  "papermill": {
   "default_parameters": {},
   "duration": 2472.086148,
   "end_time": "2023-11-30T14:14:25.405891",
   "environment_variables": {},
   "exception": null,
   "input_path": "03_bert_priority_training_distilbert.ipynb",
   "output_path": "03_bert_priority_training_distilbert_out.ipynb",
   "parameters": {},
   "start_time": "2023-11-30T13:33:13.319743",
   "version": "2.5.0"
  }
 },
 "nbformat": 4,
 "nbformat_minor": 5
}
