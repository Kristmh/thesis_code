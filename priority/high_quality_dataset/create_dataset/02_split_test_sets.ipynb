{
 "cells": [
  {
   "cell_type": "code",
   "execution_count": null,
   "metadata": {},
   "outputs": [],
   "source": [
    "import pandas as pd"
   ]
  },
  {
   "cell_type": "code",
   "execution_count": null,
   "metadata": {},
   "outputs": [],
   "source": [
    "df = pd.read_csv('csv/test_repos.csv')\n",
    "# Remove column named Unnamed:0\n",
    "df = df.drop('Unnamed: 0', axis=1)\n",
    "df"
   ]
  },
  {
   "cell_type": "code",
   "execution_count": null,
   "metadata": {},
   "outputs": [],
   "source": [
    "# Define the pattern as a variable\n",
    "pattern = 'priority-0-high'\n",
    "\n",
    "# Check if 'labels' contains the pattern\n",
    "filtered_df = df[df['labels'].str.contains(pattern)]\n",
    "# Reset index\n",
    "filtered_df = filtered_df.reset_index(drop=True)\n",
    "filtered_df"
   ]
  },
  {
   "cell_type": "code",
   "execution_count": null,
   "metadata": {},
   "outputs": [],
   "source": [
    "# Split dataframe into the different test repos\n",
    "mypy = df[df['repo'] == 'python/mypy']\n",
    "# Reset index\n",
    "mypy = mypy.reset_index(drop=True)\n",
    "rust = df[df['repo'] == 'rust-lang/rust']\n",
    "# Reset index\n",
    "rust = rust.reset_index(drop=True)\n",
    "\n",
    "\n",
    "mypy"
   ]
  },
  {
   "cell_type": "code",
   "execution_count": null,
   "metadata": {},
   "outputs": [],
   "source": []
  }
 ],
 "metadata": {
  "kernelspec": {
   "display_name": "thesis",
   "language": "python",
   "name": "python3"
  },
  "language_info": {
   "codemirror_mode": {
    "name": "ipython",
    "version": 3
   },
   "file_extension": ".py",
   "mimetype": "text/x-python",
   "name": "python",
   "nbconvert_exporter": "python",
   "pygments_lexer": "ipython3",
   "version": "3.11.5"
  }
 },
 "nbformat": 4,
 "nbformat_minor": 2
}
