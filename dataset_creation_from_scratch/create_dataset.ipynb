{
 "cells": [
  {
   "cell_type": "code",
   "execution_count": null,
   "id": "9c867efb-3956-4190-ae91-c60a3419fc1b",
   "metadata": {},
   "outputs": [],
   "source": [
    "import pandas as pd\n",
    "\n",
    "# Specify a chunk size (number of rows per chunk)\n",
    "chunk_size = 100000  # You can adjust this based on your available memory and the specific tasks you're doing\n",
    "\n",
    "# Create an iterator to read the file in chunks\n",
    "chunk_iter = pd.read_csv('all_issue_events.csv', chunksize=chunk_size, dtype=str, low_memory=False)\n",
    "\n",
    "# Process each chunk\n",
    "for i, chunk in enumerate(chunk_iter):\n",
    "    print(f\"Processing chunk {i + 1}\")\n",
    "    \n",
    "    # Here, you can perform your data processing operations on each chunk\n",
    "    # For demonstration purposes, I'll just print the first 5 rows of each chunk\n",
    "    print(chunk.head())"
   ]
  },
  {
   "cell_type": "code",
   "execution_count": 1,
   "id": "5111ab02-fb94-4885-9edb-2fb41e5f21b4",
   "metadata": {},
   "outputs": [
    {
     "ename": "NameError",
     "evalue": "name 'data' is not defined",
     "output_type": "error",
     "traceback": [
      "\u001b[0;31m---------------------------------------------------------------------------\u001b[0m",
      "\u001b[0;31mNameError\u001b[0m                                 Traceback (most recent call last)",
      "Cell \u001b[0;32mIn[1], line 2\u001b[0m\n\u001b[1;32m      1\u001b[0m \u001b[38;5;66;03m# Split combined labels and get individual labels\u001b[39;00m\n\u001b[0;32m----> 2\u001b[0m individual_labels \u001b[38;5;241m=\u001b[39m \u001b[43mdata\u001b[49m[\u001b[38;5;124m'\u001b[39m\u001b[38;5;124mlabels\u001b[39m\u001b[38;5;124m'\u001b[39m]\u001b[38;5;241m.\u001b[39mstr\u001b[38;5;241m.\u001b[39msplit()\u001b[38;5;241m.\u001b[39mexplode()\n\u001b[1;32m      4\u001b[0m \u001b[38;5;66;03m# Get the frequency of each individual label\u001b[39;00m\n\u001b[1;32m      5\u001b[0m label_counts \u001b[38;5;241m=\u001b[39m individual_labels\u001b[38;5;241m.\u001b[39mvalue_counts()\n",
      "\u001b[0;31mNameError\u001b[0m: name 'data' is not defined"
     ]
    }
   ],
   "source": [
    "# Split combined labels and get individual labels\n",
    "individual_labels = data['labels'].str.split().explode()\n",
    "\n",
    "# Get the frequency of each individual label\n",
    "label_counts = individual_labels.value_counts()\n",
    "\n",
    "# Display the top N individual labels by frequency (change N as needed)\n",
    "N = 100\n",
    "print(label_counts.head(N))\n",
    "\n",
    "# To explore specific labels, you can filter them like this:\n",
    "# Replace 'label_to_search' with the label you want to explore\n",
    "# This will show you rows in the original dataset with that label\n",
    "filtered_data = data[data['labels'].str.contains('label_to_search', na=False, case=False)]\n",
    "print(filtered_data)"
   ]
  },
  {
   "cell_type": "code",
   "execution_count": null,
   "id": "ea0c0b6f-8048-472e-ae96-3cd9b29f8a78",
   "metadata": {},
   "outputs": [],
   "source": []
  }
 ],
 "metadata": {
  "kernelspec": {
   "display_name": "Python 3 (ipykernel)",
   "language": "python",
   "name": "python3"
  },
  "language_info": {
   "codemirror_mode": {
    "name": "ipython",
    "version": 3
   },
   "file_extension": ".py",
   "mimetype": "text/x-python",
   "name": "python",
   "nbconvert_exporter": "python",
   "pygments_lexer": "ipython3",
   "version": "3.11.5"
  }
 },
 "nbformat": 4,
 "nbformat_minor": 5
}
