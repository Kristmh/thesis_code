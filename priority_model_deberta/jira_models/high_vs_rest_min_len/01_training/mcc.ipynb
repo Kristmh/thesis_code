{
 "cells": [
  {
   "cell_type": "markdown",
   "id": "f5c8e29e",
   "metadata": {},
   "source": [
    "# Training\n",
    "This notebook trains the model with 3 fold cross validation."
   ]
  },
  {
   "cell_type": "code",
   "execution_count": 1,
   "id": "6fc2a6e9-5307-4fe4-85eb-c93b411ea352",
   "metadata": {},
   "outputs": [
    {
     "name": "stderr",
     "output_type": "stream",
     "text": [
      "[codecarbon INFO @ 09:57:31] [setup] RAM Tracking...\n",
      "[codecarbon INFO @ 09:57:31] [setup] GPU Tracking...\n",
      "[codecarbon INFO @ 09:57:32] Tracking Nvidia GPU via pynvml\n",
      "[codecarbon INFO @ 09:57:32] [setup] CPU Tracking...\n",
      "[codecarbon WARNING @ 09:57:32] No CPU tracking mode found. Falling back on CPU constant mode.\n",
      "[codecarbon WARNING @ 09:57:34] We saw that you have a AMD EPYC 7642 48-Core Processor but we don't know it. Please contact us.\n",
      "[codecarbon INFO @ 09:57:34] CPU Model on constant consumption mode: AMD EPYC 7642 48-Core Processor\n",
      "[codecarbon INFO @ 09:57:34] >>> Tracker's metadata:\n",
      "[codecarbon INFO @ 09:57:34]   Platform system: Linux-5.14.0-362.8.1.el9_3.x86_64-x86_64-with-glibc2.34\n",
      "[codecarbon INFO @ 09:57:34]   Python version: 3.11.3\n",
      "[codecarbon INFO @ 09:57:34]   CodeCarbon version: 2.3.4\n",
      "[codecarbon INFO @ 09:57:34]   Available RAM : 256.000 GB\n",
      "[codecarbon INFO @ 09:57:34]   CPU count: 24\n",
      "[codecarbon INFO @ 09:57:34]   CPU model: AMD EPYC 7642 48-Core Processor\n",
      "[codecarbon INFO @ 09:57:34]   GPU count: 1\n",
      "[codecarbon INFO @ 09:57:34]   GPU model: 1 x NVIDIA A100-PCIE-40GB\n"
     ]
    }
   ],
   "source": [
    "from codecarbon import EmissionsTracker\n",
    "import logging\n",
    "output_directory = \"/fp/homes01/u01/ec-krimhau/thesis_code/\"\n",
    "\n",
    "tracker = EmissionsTracker(output_dir=output_directory)\n",
    "tracker.start()"
   ]
  },
  {
   "cell_type": "code",
   "execution_count": 2,
   "id": "0327e264-b371-42d5-afa0-c46c53b0382f",
   "metadata": {},
   "outputs": [],
   "source": [
    "logging.getLogger('codecarbon').setLevel(logging.WARNING)"
   ]
  },
  {
   "cell_type": "markdown",
   "id": "4ad35c23",
   "metadata": {},
   "source": [
    "# Imports and setup"
   ]
  },
  {
   "cell_type": "code",
   "execution_count": 3,
   "id": "ac26d5cb-fc6b-4b1a-83bb-dbd1428303f4",
   "metadata": {},
   "outputs": [],
   "source": [
    "import sys\n",
    "# Need this to load the packages correct in Fox ml nodes.\n",
    "sys.path.append(\"/fp/homes01/u01/ec-krimhau/.local/lib/python3.11/site-packages\")"
   ]
  },
  {
   "cell_type": "code",
   "execution_count": 4,
   "id": "f8674f4c",
   "metadata": {},
   "outputs": [],
   "source": [
    "import os\n",
    "import gc\n",
    "import copy\n",
    "import time\n",
    "import random\n",
    "import string\n",
    "import joblib\n",
    "\n",
    "# For data manipulation\n",
    "import numpy as np\n",
    "import pandas as pd\n",
    "\n",
    "# Pytorch Imports\n",
    "import torch\n",
    "import torch.nn as nn\n",
    "import torch.optim as optim\n",
    "from torch.optim import lr_scheduler\n",
    "from torch.utils.data import Dataset, DataLoader\n",
    "\n",
    "# Utils\n",
    "from tqdm import tqdm\n",
    "from collections import defaultdict\n",
    "\n",
    "# Sklearn Imports\n",
    "from sklearn.preprocessing import LabelEncoder\n",
    "from sklearn.model_selection import GroupKFold, KFold\n",
    "\n",
    "# For Transformer Models\n",
    "from transformers import AutoTokenizer, AutoModel, AutoConfig, AdamW\n",
    "from transformers import DataCollatorWithPadding\n",
    "import datasets\n",
    "# For colored terminal text\n",
    "from colorama import Fore, Back, Style\n",
    "b_ = Fore.BLUE\n",
    "y_ = Fore.YELLOW\n",
    "sr_ = Style.RESET_ALL\n",
    "\n",
    "# Suppress warnings\n",
    "import warnings\n",
    "warnings.filterwarnings(\"ignore\")\n",
    "\n",
    "# For descriptive error messages\n",
    "os.environ['CUDA_LAUNCH_BLOCKING'] = \"1\"\n",
    "\n",
    "import wandb"
   ]
  },
  {
   "cell_type": "code",
   "execution_count": 5,
   "id": "315755f0-f5e7-403d-aaef-9e5181f97867",
   "metadata": {},
   "outputs": [],
   "source": [
    "# Load .env file\n",
    "%load_ext dotenv\n",
    "%dotenv /fp/homes01/u01/ec-krimhau/thesis_code/.env"
   ]
  },
  {
   "cell_type": "code",
   "execution_count": 6,
   "id": "2acc4972-259a-40ab-9c55-c8e8d5386dfb",
   "metadata": {},
   "outputs": [
    {
     "name": "stderr",
     "output_type": "stream",
     "text": [
      "Failed to detect the name of this notebook, you can set it manually with the WANDB_NOTEBOOK_NAME environment variable to enable code saving.\n",
      "\u001b[34m\u001b[1mwandb\u001b[0m: Currently logged in as: \u001b[33mhaugerud-kristian\u001b[0m (\u001b[33mkrimhau\u001b[0m). Use \u001b[1m`wandb login --relogin`\u001b[0m to force relogin\n",
      "\u001b[34m\u001b[1mwandb\u001b[0m: \u001b[33mWARNING\u001b[0m If you're specifying your api key in code, ensure this code is not shared publicly.\n",
      "\u001b[34m\u001b[1mwandb\u001b[0m: \u001b[33mWARNING\u001b[0m Consider setting the WANDB_API_KEY environment variable, or running `wandb login` from the command line.\n",
      "\u001b[34m\u001b[1mwandb\u001b[0m: Appending key for api.wandb.ai to your netrc file: /fp/homes01/u01/ec-krimhau/.netrc\n"
     ]
    },
    {
     "data": {
      "text/plain": [
       "True"
      ]
     },
     "execution_count": 6,
     "metadata": {},
     "output_type": "execute_result"
    }
   ],
   "source": [
    "# Get wandb api key from .env file\n",
    "wandb_api_key = os.getenv('WANDB_API_KEY')\n",
    "# Login to wandb to track results\n",
    "wandb.login(key = wandb_api_key) # API key"
   ]
  },
  {
   "cell_type": "code",
   "execution_count": 7,
   "id": "c7fcade8-1e6d-418a-acd1-c860be6c3c62",
   "metadata": {},
   "outputs": [
    {
     "name": "stdout",
     "output_type": "stream",
     "text": [
      "cdzut7azn4hr\n"
     ]
    }
   ],
   "source": [
    "# Function to generate a unique random identifier for experiment tracking.\n",
    "def id_generator(size=12, chars=string.ascii_lowercase + string.digits):\n",
    "    return ''.join(random.SystemRandom().choice(chars) for _ in range(size))\n",
    "\n",
    "\n",
    "HASH_NAME = \"cdzut7azn4hr\"\n",
    "print(HASH_NAME)"
   ]
  },
  {
   "cell_type": "code",
   "execution_count": 8,
   "id": "ec0aa632-8739-4e63-bde0-5f4fc123f891",
   "metadata": {},
   "outputs": [],
   "source": [
    "# Config for the model\n",
    "CONFIG = {\"seed\": 42,\n",
    "          \"epochs\": 3,\n",
    "          \"model_name\": \"microsoft/deberta-v3-base\",\n",
    "          \"train_batch_size\": 8,\n",
    "          \"valid_batch_size\": 16,\n",
    "          \"max_length\": 512,\n",
    "          \"learning_rate\": 1e-5,\n",
    "          \"scheduler\": 'CosineAnnealingLR',\n",
    "          \"min_lr\": 1e-6,\n",
    "          \"T_max\": 500,\n",
    "          \"weight_decay\": 1e-6,\n",
    "          \"n_fold\": 3,\n",
    "          \"n_accumulate\": 1,\n",
    "          \"num_classes\": 2,\n",
    "          \"device\": torch.device(\"cuda:0\" if torch.cuda.is_available() else \"cpu\"),\n",
    "          \"hash_name\": HASH_NAME,\n",
    "          \"_wandb_kernel\": \"deb\",\n",
    "          }\n",
    "\n",
    "CONFIG[\"tokenizer\"] = AutoTokenizer.from_pretrained(CONFIG['model_name'])\n",
    "CONFIG['group'] = f'{HASH_NAME}-Baseline'\n"
   ]
  },
  {
   "cell_type": "code",
   "execution_count": 9,
   "id": "31dc5cac-8438-438d-b45b-e2dab3b74949",
   "metadata": {},
   "outputs": [],
   "source": [
    "def set_seed(seed=42):\n",
    "    '''Sets the seed of the entire notebook so results are the same every time we run.\n",
    "    This is for REPRODUCIBILITY.'''\n",
    "    np.random.seed(seed)\n",
    "    torch.manual_seed(seed)\n",
    "    torch.cuda.manual_seed(seed)\n",
    "    # When running on the CuDNN backend, two further options must be set\n",
    "    torch.backends.cudnn.deterministic = True\n",
    "    torch.backends.cudnn.benchmark = False\n",
    "    # Set a fixed value for the hash seed\n",
    "    os.environ['PYTHONHASHSEED'] = str(seed)\n",
    "    \n",
    "set_seed(CONFIG['seed'])"
   ]
  },
  {
   "cell_type": "code",
   "execution_count": 10,
   "id": "5220e6af-9036-4a04-8808-b374d2c8728a",
   "metadata": {},
   "outputs": [],
   "source": [
    "# Splits the data into train and test. Validation is done using KFold.\n",
    "def train_test_split(df, train_percent=.85, seed=42):\n",
    "    np.random.seed(seed)\n",
    "    perm = np.random.permutation(df.index)\n",
    "    m = len(df.index)\n",
    "    train_end = int(train_percent * m)\n",
    "    train = df.iloc[perm[:train_end]]\n",
    "    test = df.iloc[perm[train_end:]]\n",
    "    return train, test"
   ]
  },
  {
   "cell_type": "code",
   "execution_count": null,
   "id": "def3a0c0-46a8-4cd9-8f9b-c4de16dac65b",
   "metadata": {},
   "outputs": [],
   "source": []
  },
  {
   "cell_type": "code",
   "execution_count": 11,
   "id": "e63a646f-1ab1-4c53-b2b2-017b2001b5af",
   "metadata": {},
   "outputs": [
    {
     "name": "stdout",
     "output_type": "stream",
     "text": [
      "highest_high_vs_low_lowest_balanced_jira.csv\thigh_highest_vs_rest\n",
      "highest_vs_lowest_balanced_jira.csv\t\thigh_vs_rest\n",
      "highest_vs_rest_min_len_25th_balanced_jira.csv\tjira_clean_with_all_cols.csv\n"
     ]
    }
   ],
   "source": [
    "import pandas as pd\n",
    "path_to_files = \"//fp/projects01/ec307/ec-krimhau/jira_datasets\"\n",
    "file_name = \"highest_vs_rest_min_len_25th_balanced_jira.csv\"\n",
    "!ls /fp/projects01/ec307/ec-krimhau/jira_datasets"
   ]
  },
  {
   "cell_type": "code",
   "execution_count": 12,
   "id": "f8658d03-5e18-4ee3-8718-c8845c07a3dd",
   "metadata": {},
   "outputs": [
    {
     "data": {
      "text/html": [
       "<div>\n",
       "<style scoped>\n",
       "    .dataframe tbody tr th:only-of-type {\n",
       "        vertical-align: middle;\n",
       "    }\n",
       "\n",
       "    .dataframe tbody tr th {\n",
       "        vertical-align: top;\n",
       "    }\n",
       "\n",
       "    .dataframe thead th {\n",
       "        text-align: right;\n",
       "    }\n",
       "</style>\n",
       "<table border=\"1\" class=\"dataframe\">\n",
       "  <thead>\n",
       "    <tr style=\"text-align: right;\">\n",
       "      <th></th>\n",
       "      <th>label</th>\n",
       "      <th>text</th>\n",
       "    </tr>\n",
       "  </thead>\n",
       "  <tbody>\n",
       "    <tr>\n",
       "      <th>0</th>\n",
       "      <td>1</td>\n",
       "      <td>codejava in importtestmodule mod selffspathpyi...</td>\n",
       "    </tr>\n",
       "    <tr>\n",
       "      <th>1</th>\n",
       "      <td>0</td>\n",
       "      <td>o the goal is move the add node delete node ad...</td>\n",
       "    </tr>\n",
       "    <tr>\n",
       "      <th>2</th>\n",
       "      <td>0</td>\n",
       "      <td>fileformatwriterwrite will sort the partition ...</td>\n",
       "    </tr>\n",
       "    <tr>\n",
       "      <th>3</th>\n",
       "      <td>1</td>\n",
       "      <td>it would be nice to have the ability in mapred...</td>\n",
       "    </tr>\n",
       "    <tr>\n",
       "      <th>4</th>\n",
       "      <td>1</td>\n",
       "      <td>enable maker checker in go to systemconfigure ...</td>\n",
       "    </tr>\n",
       "    <tr>\n",
       "      <th>...</th>\n",
       "      <td>...</td>\n",
       "      <td>...</td>\n",
       "    </tr>\n",
       "    <tr>\n",
       "      <th>89551</th>\n",
       "      <td>1</td>\n",
       "      <td>for jbide please perform the following make su...</td>\n",
       "    </tr>\n",
       "    <tr>\n",
       "      <th>89552</th>\n",
       "      <td>0</td>\n",
       "      <td>the main idea to add a few strategies of index...</td>\n",
       "    </tr>\n",
       "    <tr>\n",
       "      <th>89553</th>\n",
       "      <td>0</td>\n",
       "      <td>each partition has its own version number so t...</td>\n",
       "    </tr>\n",
       "    <tr>\n",
       "      <th>89554</th>\n",
       "      <td>1</td>\n",
       "      <td>expected behavior jibmaven task published the ...</td>\n",
       "    </tr>\n",
       "    <tr>\n",
       "      <th>89555</th>\n",
       "      <td>1</td>\n",
       "      <td>in site manage in the level lables where sourc...</td>\n",
       "    </tr>\n",
       "  </tbody>\n",
       "</table>\n",
       "<p>89556 rows × 2 columns</p>\n",
       "</div>"
      ],
      "text/plain": [
       "       label                                               text\n",
       "0          1  codejava in importtestmodule mod selffspathpyi...\n",
       "1          0  o the goal is move the add node delete node ad...\n",
       "2          0  fileformatwriterwrite will sort the partition ...\n",
       "3          1  it would be nice to have the ability in mapred...\n",
       "4          1  enable maker checker in go to systemconfigure ...\n",
       "...      ...                                                ...\n",
       "89551      1  for jbide please perform the following make su...\n",
       "89552      0  the main idea to add a few strategies of index...\n",
       "89553      0  each partition has its own version number so t...\n",
       "89554      1  expected behavior jibmaven task published the ...\n",
       "89555      1  in site manage in the level lables where sourc...\n",
       "\n",
       "[89556 rows x 2 columns]"
      ]
     },
     "execution_count": 12,
     "metadata": {},
     "output_type": "execute_result"
    }
   ],
   "source": [
    "priority_df = pd.read_csv(f\"{path_to_files}/{file_name}\")\n",
    "priority_df"
   ]
  },
  {
   "cell_type": "code",
   "execution_count": 13,
   "id": "f33cbd6a-34c0-4cd2-9894-2ae7f51aae76",
   "metadata": {},
   "outputs": [
    {
     "data": {
      "text/plain": [
       "label    False\n",
       "text     False\n",
       "dtype: bool"
      ]
     },
     "execution_count": 13,
     "metadata": {},
     "output_type": "execute_result"
    }
   ],
   "source": [
    "# Check if NaN\n",
    "priority_df.isna().any()"
   ]
  },
  {
   "cell_type": "code",
   "execution_count": 14,
   "id": "18b31cd4",
   "metadata": {},
   "outputs": [
    {
     "data": {
      "text/html": [
       "<div>\n",
       "<style scoped>\n",
       "    .dataframe tbody tr th:only-of-type {\n",
       "        vertical-align: middle;\n",
       "    }\n",
       "\n",
       "    .dataframe tbody tr th {\n",
       "        vertical-align: top;\n",
       "    }\n",
       "\n",
       "    .dataframe thead th {\n",
       "        text-align: right;\n",
       "    }\n",
       "</style>\n",
       "<table border=\"1\" class=\"dataframe\">\n",
       "  <thead>\n",
       "    <tr style=\"text-align: right;\">\n",
       "      <th></th>\n",
       "      <th>label</th>\n",
       "      <th>text</th>\n",
       "    </tr>\n",
       "  </thead>\n",
       "  <tbody>\n",
       "    <tr>\n",
       "      <th>0</th>\n",
       "      <td>1</td>\n",
       "      <td>codejava in importtestmodule mod selffspathpyi...</td>\n",
       "    </tr>\n",
       "    <tr>\n",
       "      <th>1</th>\n",
       "      <td>0</td>\n",
       "      <td>o the goal is move the add node delete node ad...</td>\n",
       "    </tr>\n",
       "    <tr>\n",
       "      <th>2</th>\n",
       "      <td>0</td>\n",
       "      <td>fileformatwriterwrite will sort the partition ...</td>\n",
       "    </tr>\n",
       "    <tr>\n",
       "      <th>3</th>\n",
       "      <td>1</td>\n",
       "      <td>it would be nice to have the ability in mapred...</td>\n",
       "    </tr>\n",
       "    <tr>\n",
       "      <th>4</th>\n",
       "      <td>1</td>\n",
       "      <td>enable maker checker in go to systemconfigure ...</td>\n",
       "    </tr>\n",
       "    <tr>\n",
       "      <th>...</th>\n",
       "      <td>...</td>\n",
       "      <td>...</td>\n",
       "    </tr>\n",
       "    <tr>\n",
       "      <th>89551</th>\n",
       "      <td>1</td>\n",
       "      <td>for jbide please perform the following make su...</td>\n",
       "    </tr>\n",
       "    <tr>\n",
       "      <th>89552</th>\n",
       "      <td>0</td>\n",
       "      <td>the main idea to add a few strategies of index...</td>\n",
       "    </tr>\n",
       "    <tr>\n",
       "      <th>89553</th>\n",
       "      <td>0</td>\n",
       "      <td>each partition has its own version number so t...</td>\n",
       "    </tr>\n",
       "    <tr>\n",
       "      <th>89554</th>\n",
       "      <td>1</td>\n",
       "      <td>expected behavior jibmaven task published the ...</td>\n",
       "    </tr>\n",
       "    <tr>\n",
       "      <th>89555</th>\n",
       "      <td>1</td>\n",
       "      <td>in site manage in the level lables where sourc...</td>\n",
       "    </tr>\n",
       "  </tbody>\n",
       "</table>\n",
       "<p>89556 rows × 2 columns</p>\n",
       "</div>"
      ],
      "text/plain": [
       "       label                                               text\n",
       "0          1  codejava in importtestmodule mod selffspathpyi...\n",
       "1          0  o the goal is move the add node delete node ad...\n",
       "2          0  fileformatwriterwrite will sort the partition ...\n",
       "3          1  it would be nice to have the ability in mapred...\n",
       "4          1  enable maker checker in go to systemconfigure ...\n",
       "...      ...                                                ...\n",
       "89551      1  for jbide please perform the following make su...\n",
       "89552      0  the main idea to add a few strategies of index...\n",
       "89553      0  each partition has its own version number so t...\n",
       "89554      1  expected behavior jibmaven task published the ...\n",
       "89555      1  in site manage in the level lables where sourc...\n",
       "\n",
       "[89556 rows x 2 columns]"
      ]
     },
     "execution_count": 14,
     "metadata": {},
     "output_type": "execute_result"
    }
   ],
   "source": [
    "priority_df"
   ]
  },
  {
   "cell_type": "code",
   "execution_count": 15,
   "id": "581c32a0-57b6-44fe-8427-0e7d550a1af9",
   "metadata": {},
   "outputs": [
    {
     "data": {
      "text/plain": [
       "label\n",
       "1    44778\n",
       "0    44778\n",
       "Name: count, dtype: int64"
      ]
     },
     "execution_count": 15,
     "metadata": {},
     "output_type": "execute_result"
    }
   ],
   "source": [
    "priority_df[\"label\"].value_counts()"
   ]
  },
  {
   "cell_type": "code",
   "execution_count": 16,
   "id": "abede05d-ccb8-427c-b64a-135ba811adb4",
   "metadata": {},
   "outputs": [],
   "source": [
    "train_hp_df , test_hp_df = train_test_split(priority_df)"
   ]
  },
  {
   "cell_type": "code",
   "execution_count": 17,
   "id": "d1b91f54",
   "metadata": {},
   "outputs": [
    {
     "data": {
      "text/html": [
       "<div>\n",
       "<style scoped>\n",
       "    .dataframe tbody tr th:only-of-type {\n",
       "        vertical-align: middle;\n",
       "    }\n",
       "\n",
       "    .dataframe tbody tr th {\n",
       "        vertical-align: top;\n",
       "    }\n",
       "\n",
       "    .dataframe thead th {\n",
       "        text-align: right;\n",
       "    }\n",
       "</style>\n",
       "<table border=\"1\" class=\"dataframe\">\n",
       "  <thead>\n",
       "    <tr style=\"text-align: right;\">\n",
       "      <th></th>\n",
       "      <th>label</th>\n",
       "      <th>text</th>\n",
       "    </tr>\n",
       "  </thead>\n",
       "  <tbody>\n",
       "    <tr>\n",
       "      <th>19418</th>\n",
       "      <td>0</td>\n",
       "      <td>the querynifi reporting task does not keep tra...</td>\n",
       "    </tr>\n",
       "    <tr>\n",
       "      <th>52661</th>\n",
       "      <td>0</td>\n",
       "      <td>if there is a problem with the validity of the...</td>\n",
       "    </tr>\n",
       "    <tr>\n",
       "      <th>52529</th>\n",
       "      <td>1</td>\n",
       "      <td>this bug was imported from another system and ...</td>\n",
       "    </tr>\n",
       "    <tr>\n",
       "      <th>40999</th>\n",
       "      <td>0</td>\n",
       "      <td>without the explicit setting of the property h...</td>\n",
       "    </tr>\n",
       "    <tr>\n",
       "      <th>28166</th>\n",
       "      <td>1</td>\n",
       "      <td>this usually causes multiple test failures esp...</td>\n",
       "    </tr>\n",
       "    <tr>\n",
       "      <th>...</th>\n",
       "      <td>...</td>\n",
       "      <td>...</td>\n",
       "    </tr>\n",
       "    <tr>\n",
       "      <th>59263</th>\n",
       "      <td>0</td>\n",
       "      <td>i needed functionality for the return numbers ...</td>\n",
       "    </tr>\n",
       "    <tr>\n",
       "      <th>68623</th>\n",
       "      <td>0</td>\n",
       "      <td>assume you are using the following configurati...</td>\n",
       "    </tr>\n",
       "    <tr>\n",
       "      <th>16484</th>\n",
       "      <td>0</td>\n",
       "      <td>reproduce： create three tables hive e explain ...</td>\n",
       "    </tr>\n",
       "    <tr>\n",
       "      <th>27086</th>\n",
       "      <td>1</td>\n",
       "      <td>start a server with phoenixallowsystemcatalogr...</td>\n",
       "    </tr>\n",
       "    <tr>\n",
       "      <th>51630</th>\n",
       "      <td>0</td>\n",
       "      <td>the annotationmethodhandleradapter contains a ...</td>\n",
       "    </tr>\n",
       "  </tbody>\n",
       "</table>\n",
       "<p>76122 rows × 2 columns</p>\n",
       "</div>"
      ],
      "text/plain": [
       "       label                                               text\n",
       "19418      0  the querynifi reporting task does not keep tra...\n",
       "52661      0  if there is a problem with the validity of the...\n",
       "52529      1  this bug was imported from another system and ...\n",
       "40999      0  without the explicit setting of the property h...\n",
       "28166      1  this usually causes multiple test failures esp...\n",
       "...      ...                                                ...\n",
       "59263      0  i needed functionality for the return numbers ...\n",
       "68623      0  assume you are using the following configurati...\n",
       "16484      0  reproduce： create three tables hive e explain ...\n",
       "27086      1  start a server with phoenixallowsystemcatalogr...\n",
       "51630      0  the annotationmethodhandleradapter contains a ...\n",
       "\n",
       "[76122 rows x 2 columns]"
      ]
     },
     "execution_count": 17,
     "metadata": {},
     "output_type": "execute_result"
    }
   ],
   "source": [
    "df = train_hp_df\n",
    "df"
   ]
  },
  {
   "cell_type": "code",
   "execution_count": 18,
   "id": "7fc38a0a-127a-4cd3-b48f-0b4396cfc4aa",
   "metadata": {},
   "outputs": [
    {
     "data": {
      "text/html": [
       "<div>\n",
       "<style scoped>\n",
       "    .dataframe tbody tr th:only-of-type {\n",
       "        vertical-align: middle;\n",
       "    }\n",
       "\n",
       "    .dataframe tbody tr th {\n",
       "        vertical-align: top;\n",
       "    }\n",
       "\n",
       "    .dataframe thead th {\n",
       "        text-align: right;\n",
       "    }\n",
       "</style>\n",
       "<table border=\"1\" class=\"dataframe\">\n",
       "  <thead>\n",
       "    <tr style=\"text-align: right;\">\n",
       "      <th></th>\n",
       "      <th>label</th>\n",
       "      <th>text</th>\n",
       "    </tr>\n",
       "  </thead>\n",
       "  <tbody>\n",
       "    <tr>\n",
       "      <th>0</th>\n",
       "      <td>0</td>\n",
       "      <td>the querynifi reporting task does not keep tra...</td>\n",
       "    </tr>\n",
       "    <tr>\n",
       "      <th>1</th>\n",
       "      <td>0</td>\n",
       "      <td>if there is a problem with the validity of the...</td>\n",
       "    </tr>\n",
       "    <tr>\n",
       "      <th>2</th>\n",
       "      <td>1</td>\n",
       "      <td>this bug was imported from another system and ...</td>\n",
       "    </tr>\n",
       "    <tr>\n",
       "      <th>3</th>\n",
       "      <td>0</td>\n",
       "      <td>without the explicit setting of the property h...</td>\n",
       "    </tr>\n",
       "    <tr>\n",
       "      <th>4</th>\n",
       "      <td>1</td>\n",
       "      <td>this usually causes multiple test failures esp...</td>\n",
       "    </tr>\n",
       "    <tr>\n",
       "      <th>...</th>\n",
       "      <td>...</td>\n",
       "      <td>...</td>\n",
       "    </tr>\n",
       "    <tr>\n",
       "      <th>76117</th>\n",
       "      <td>0</td>\n",
       "      <td>i needed functionality for the return numbers ...</td>\n",
       "    </tr>\n",
       "    <tr>\n",
       "      <th>76118</th>\n",
       "      <td>0</td>\n",
       "      <td>assume you are using the following configurati...</td>\n",
       "    </tr>\n",
       "    <tr>\n",
       "      <th>76119</th>\n",
       "      <td>0</td>\n",
       "      <td>reproduce： create three tables hive e explain ...</td>\n",
       "    </tr>\n",
       "    <tr>\n",
       "      <th>76120</th>\n",
       "      <td>1</td>\n",
       "      <td>start a server with phoenixallowsystemcatalogr...</td>\n",
       "    </tr>\n",
       "    <tr>\n",
       "      <th>76121</th>\n",
       "      <td>0</td>\n",
       "      <td>the annotationmethodhandleradapter contains a ...</td>\n",
       "    </tr>\n",
       "  </tbody>\n",
       "</table>\n",
       "<p>76122 rows × 2 columns</p>\n",
       "</div>"
      ],
      "text/plain": [
       "       label                                               text\n",
       "0          0  the querynifi reporting task does not keep tra...\n",
       "1          0  if there is a problem with the validity of the...\n",
       "2          1  this bug was imported from another system and ...\n",
       "3          0  without the explicit setting of the property h...\n",
       "4          1  this usually causes multiple test failures esp...\n",
       "...      ...                                                ...\n",
       "76117      0  i needed functionality for the return numbers ...\n",
       "76118      0  assume you are using the following configurati...\n",
       "76119      0  reproduce： create three tables hive e explain ...\n",
       "76120      1  start a server with phoenixallowsystemcatalogr...\n",
       "76121      0  the annotationmethodhandleradapter contains a ...\n",
       "\n",
       "[76122 rows x 2 columns]"
      ]
     },
     "execution_count": 18,
     "metadata": {},
     "output_type": "execute_result"
    }
   ],
   "source": [
    "df.reset_index(inplace = True)\n",
    "df = df.drop('index', axis=1)\n",
    "df"
   ]
  },
  {
   "cell_type": "code",
   "execution_count": 19,
   "id": "1902e2d0-9479-4a54-9148-7b6ddd0e44e1",
   "metadata": {},
   "outputs": [],
   "source": [
    "gkf = GroupKFold(n_splits=CONFIG['n_fold'])\n",
    "\n",
    "for fold, ( _, val_) in enumerate(gkf.split(X=df, groups=df.text)):\n",
    "    df.loc[val_ , \"kfold\"] = int(fold)\n",
    "    \n",
    "df[\"kfold\"] = df[\"kfold\"].astype(int)\n"
   ]
  },
  {
   "cell_type": "code",
   "execution_count": 20,
   "id": "60874b39-4bec-4d96-9973-01d6935693dd",
   "metadata": {},
   "outputs": [
    {
     "data": {
      "text/plain": [
       "kfold  label\n",
       "0      1        12846\n",
       "       0        12528\n",
       "1      0        12804\n",
       "       1        12570\n",
       "2      0        12796\n",
       "       1        12578\n",
       "Name: count, dtype: int64"
      ]
     },
     "execution_count": 20,
     "metadata": {},
     "output_type": "execute_result"
    }
   ],
   "source": [
    "df.groupby('kfold')['label'].value_counts()\n"
   ]
  },
  {
   "cell_type": "code",
   "execution_count": 21,
   "id": "455d058b-1561-4493-bd19-11cb59be06cb",
   "metadata": {},
   "outputs": [
    {
     "data": {
      "text/html": [
       "<div>\n",
       "<style scoped>\n",
       "    .dataframe tbody tr th:only-of-type {\n",
       "        vertical-align: middle;\n",
       "    }\n",
       "\n",
       "    .dataframe tbody tr th {\n",
       "        vertical-align: top;\n",
       "    }\n",
       "\n",
       "    .dataframe thead th {\n",
       "        text-align: right;\n",
       "    }\n",
       "</style>\n",
       "<table border=\"1\" class=\"dataframe\">\n",
       "  <thead>\n",
       "    <tr style=\"text-align: right;\">\n",
       "      <th></th>\n",
       "      <th>label</th>\n",
       "      <th>text</th>\n",
       "      <th>kfold</th>\n",
       "    </tr>\n",
       "  </thead>\n",
       "  <tbody>\n",
       "    <tr>\n",
       "      <th>0</th>\n",
       "      <td>0</td>\n",
       "      <td>the querynifi reporting task does not keep tra...</td>\n",
       "      <td>0</td>\n",
       "    </tr>\n",
       "    <tr>\n",
       "      <th>1</th>\n",
       "      <td>0</td>\n",
       "      <td>if there is a problem with the validity of the...</td>\n",
       "      <td>0</td>\n",
       "    </tr>\n",
       "    <tr>\n",
       "      <th>2</th>\n",
       "      <td>1</td>\n",
       "      <td>this bug was imported from another system and ...</td>\n",
       "      <td>0</td>\n",
       "    </tr>\n",
       "    <tr>\n",
       "      <th>3</th>\n",
       "      <td>0</td>\n",
       "      <td>without the explicit setting of the property h...</td>\n",
       "      <td>2</td>\n",
       "    </tr>\n",
       "    <tr>\n",
       "      <th>4</th>\n",
       "      <td>1</td>\n",
       "      <td>this usually causes multiple test failures esp...</td>\n",
       "      <td>0</td>\n",
       "    </tr>\n",
       "    <tr>\n",
       "      <th>...</th>\n",
       "      <td>...</td>\n",
       "      <td>...</td>\n",
       "      <td>...</td>\n",
       "    </tr>\n",
       "    <tr>\n",
       "      <th>76117</th>\n",
       "      <td>0</td>\n",
       "      <td>i needed functionality for the return numbers ...</td>\n",
       "      <td>1</td>\n",
       "    </tr>\n",
       "    <tr>\n",
       "      <th>76118</th>\n",
       "      <td>0</td>\n",
       "      <td>assume you are using the following configurati...</td>\n",
       "      <td>1</td>\n",
       "    </tr>\n",
       "    <tr>\n",
       "      <th>76119</th>\n",
       "      <td>0</td>\n",
       "      <td>reproduce： create three tables hive e explain ...</td>\n",
       "      <td>2</td>\n",
       "    </tr>\n",
       "    <tr>\n",
       "      <th>76120</th>\n",
       "      <td>1</td>\n",
       "      <td>start a server with phoenixallowsystemcatalogr...</td>\n",
       "      <td>0</td>\n",
       "    </tr>\n",
       "    <tr>\n",
       "      <th>76121</th>\n",
       "      <td>0</td>\n",
       "      <td>the annotationmethodhandleradapter contains a ...</td>\n",
       "      <td>1</td>\n",
       "    </tr>\n",
       "  </tbody>\n",
       "</table>\n",
       "<p>76122 rows × 3 columns</p>\n",
       "</div>"
      ],
      "text/plain": [
       "       label                                               text  kfold\n",
       "0          0  the querynifi reporting task does not keep tra...      0\n",
       "1          0  if there is a problem with the validity of the...      0\n",
       "2          1  this bug was imported from another system and ...      0\n",
       "3          0  without the explicit setting of the property h...      2\n",
       "4          1  this usually causes multiple test failures esp...      0\n",
       "...      ...                                                ...    ...\n",
       "76117      0  i needed functionality for the return numbers ...      1\n",
       "76118      0  assume you are using the following configurati...      1\n",
       "76119      0  reproduce： create three tables hive e explain ...      2\n",
       "76120      1  start a server with phoenixallowsystemcatalogr...      0\n",
       "76121      0  the annotationmethodhandleradapter contains a ...      1\n",
       "\n",
       "[76122 rows x 3 columns]"
      ]
     },
     "execution_count": 21,
     "metadata": {},
     "output_type": "execute_result"
    }
   ],
   "source": [
    "df"
   ]
  },
  {
   "cell_type": "code",
   "execution_count": 22,
   "id": "e2e6cfb2-d1e2-4ef8-8694-2d18e56296a1",
   "metadata": {},
   "outputs": [],
   "source": [
    "class HP_Dataset(Dataset):\n",
    "    def __init__(self, df, tokenizer, max_length):\n",
    "        self.df = df\n",
    "        self.max_len = max_length\n",
    "        self.tokenizer = tokenizer\n",
    "        self.text = df['text'].values\n",
    "        self.targets = df['label'].values\n",
    "        \n",
    "    def __len__(self):\n",
    "        return len(self.df)\n",
    "    \n",
    "    def __getitem__(self, index):\n",
    "        text = self.text[index]\n",
    "        inputs = self.tokenizer.encode_plus(\n",
    "                        text,\n",
    "                        truncation=True,\n",
    "                        add_special_tokens=True,\n",
    "                        max_length=self.max_len\n",
    "                    )\n",
    "        \n",
    "        return {\n",
    "            'input_ids': inputs['input_ids'],\n",
    "            'attention_mask': inputs['attention_mask'],\n",
    "            'target': self.targets[index]\n",
    "        }"
   ]
  },
  {
   "cell_type": "code",
   "execution_count": 23,
   "id": "dbc28466-4efa-44b1-9486-63cc0b2d7c77",
   "metadata": {},
   "outputs": [],
   "source": [
    "collate_fn = DataCollatorWithPadding(tokenizer=CONFIG['tokenizer'])\n"
   ]
  },
  {
   "cell_type": "code",
   "execution_count": 24,
   "id": "d739c680-fc15-4d64-8cf4-8902174dfe12",
   "metadata": {},
   "outputs": [],
   "source": [
    "class MeanPooling(nn.Module):\n",
    "    def __init__(self):\n",
    "        super(MeanPooling, self).__init__()\n",
    "        \n",
    "    def forward(self, last_hidden_state, attention_mask):\n",
    "        input_mask_expanded = attention_mask.unsqueeze(-1).expand(last_hidden_state.size()).float()\n",
    "        sum_embeddings = torch.sum(last_hidden_state * input_mask_expanded, 1)\n",
    "        sum_mask = input_mask_expanded.sum(1)\n",
    "        sum_mask = torch.clamp(sum_mask, min=1e-9)\n",
    "        mean_embeddings = sum_embeddings / sum_mask\n",
    "        return mean_embeddings"
   ]
  },
  {
   "cell_type": "code",
   "execution_count": 25,
   "id": "dba820b1-375c-4a0c-970a-fd554c94ace3",
   "metadata": {},
   "outputs": [],
   "source": [
    "class HP_Model(nn.Module):\n",
    "    def __init__(self, model_name):\n",
    "        super(HP_Model, self).__init__()\n",
    "        self.model = AutoModel.from_pretrained(model_name)\n",
    "        self.config = AutoConfig.from_pretrained(model_name)\n",
    "        self.drop = nn.Dropout(p=0.2)\n",
    "        self.pooler = MeanPooling()\n",
    "        self.fc = nn.Linear(self.config.hidden_size, CONFIG['num_classes'])\n",
    "        \n",
    "    def forward(self, ids, mask):        \n",
    "        out = self.model(input_ids=ids,attention_mask=mask,\n",
    "                         output_hidden_states=False)\n",
    "        out = self.pooler(out.last_hidden_state, mask)\n",
    "        out = self.drop(out)\n",
    "        outputs = self.fc(out)\n",
    "        return outputs"
   ]
  },
  {
   "cell_type": "code",
   "execution_count": 26,
   "id": "1abf13ca-1c86-4cfe-9955-3ff4d0cafe56",
   "metadata": {},
   "outputs": [],
   "source": [
    "def criterion(outputs, labels):\n",
    "    return nn.CrossEntropyLoss()(outputs, labels)"
   ]
  },
  {
   "cell_type": "code",
   "execution_count": 27,
   "id": "013d660f-6376-45cf-9c52-2de074708b50",
   "metadata": {},
   "outputs": [],
   "source": [
    "def train_one_epoch(model, optimizer, scheduler, dataloader, device, epoch):\n",
    "    model.train()\n",
    "    \n",
    "    dataset_size = 0\n",
    "    running_loss = 0.0\n",
    "    \n",
    "    bar = tqdm(enumerate(dataloader), total=len(dataloader))\n",
    "    for step, data in bar:\n",
    "        ids = data['input_ids'].to(device, dtype = torch.long)\n",
    "        mask = data['attention_mask'].to(device, dtype = torch.long)\n",
    "        targets = data['target'].to(device, dtype=torch.long)\n",
    "        \n",
    "        batch_size = ids.size(0)\n",
    "\n",
    "        outputs = model(ids, mask)\n",
    "        \n",
    "        loss = criterion(outputs, targets)\n",
    "        loss = loss / CONFIG['n_accumulate']\n",
    "        loss.backward()\n",
    "    \n",
    "        if (step + 1) % CONFIG['n_accumulate'] == 0:\n",
    "            optimizer.step()\n",
    "\n",
    "            # zero the parameter gradients\n",
    "            optimizer.zero_grad()\n",
    "\n",
    "            if scheduler is not None:\n",
    "                scheduler.step()\n",
    "                \n",
    "        running_loss += (loss.item() * batch_size)\n",
    "        dataset_size += batch_size\n",
    "        \n",
    "        epoch_loss = running_loss / dataset_size\n",
    "        \n",
    "        bar.set_postfix(Epoch=epoch, Train_Loss=epoch_loss,\n",
    "                        LR=optimizer.param_groups[0]['lr'])\n",
    "    gc.collect()\n",
    "    \n",
    "    return epoch_loss"
   ]
  },
  {
   "cell_type": "code",
   "execution_count": 28,
   "id": "77809ed9-c4a1-436f-9bc5-d806ffe6d93e",
   "metadata": {},
   "outputs": [],
   "source": [
    "import seaborn as sns\n",
    "import matplotlib.pyplot as plt\n",
    "from sklearn.metrics import confusion_matrix\n",
    "from sklearn.metrics import classification_report\n",
    "from sklearn.metrics import f1_score\n",
    "from sklearn.metrics import accuracy_score\n",
    "\n"
   ]
  },
  {
   "cell_type": "code",
   "execution_count": 29,
   "id": "2df79ea9-afa8-4de5-a84b-d6dfdc826ff8",
   "metadata": {},
   "outputs": [],
   "source": [
    "def all_classification_report(y_true, y_pred, target_names = ['Non_HP', 'HP'], digits=4):\n",
    "    \n",
    "    print('Classification Report:')\n",
    "    print(classification_report(y_true, y_pred, target_names = target_names, digits=4))\n",
    "    \n",
    "    accuracy =round(accuracy_score(y_true, y_pred),4)\n",
    "    print(\"Accuracy =\",  accuracy)\n",
    "    f1score = round(f1_score(y_true, y_pred),4)\n",
    "    print(\"F1_score =\", f1score)\n",
    "\n",
    "    cm = confusion_matrix(y_true, y_pred, labels=[1,0])\n",
    "    ax= plt.subplot()\n",
    "    sns.heatmap(cm, annot=True, ax = ax, cmap='Blues', fmt=\"d\")\n",
    "\n",
    "    ax.set_title('Confusion Matrix')\n",
    "\n",
    "    ax.set_xlabel('Predicted Labels')\n",
    "    ax.set_ylabel('True Labels')\n",
    "\n",
    "    ax.xaxis.set_ticklabels(['Non_HP', 'HP'])\n",
    "    ax.yaxis.set_ticklabels(['Non_HP', 'HP'])\n",
    "    \n",
    "    return  accuracy , f1score\n",
    "    \n",
    "    "
   ]
  },
  {
   "cell_type": "code",
   "execution_count": 30,
   "id": "c0633e6f-e935-4b94-853b-f3ef01cf97a2",
   "metadata": {},
   "outputs": [],
   "source": [
    "@torch.no_grad()\n",
    "def valid_one_epoch(model, dataloader, device, epoch):\n",
    "    model.eval()\n",
    "    dataset_size = 0\n",
    "    running_loss = 0.0\n",
    "    \n",
    "    y_pred = []\n",
    "    y_true = []\n",
    "    \n",
    "    bar = tqdm(enumerate(dataloader), total=len(dataloader))\n",
    "    for step, data in bar:        \n",
    "        ids = data['input_ids'].to(device, dtype = torch.long)\n",
    "        mask = data['attention_mask'].to(device, dtype = torch.long)\n",
    "        targets = data['target'].to(device, dtype=torch.long)\n",
    "        \n",
    "        batch_size = ids.size(0)\n",
    "\n",
    "        outputs = model(ids, mask)\n",
    "        \n",
    "        loss = criterion(outputs, targets)\n",
    "        \n",
    "\n",
    "        predictions = torch.argmax(outputs, dim=-1).flatten().tolist()\n",
    "        \n",
    "        target = targets.tolist()\n",
    "\n",
    "        y_pred.extend(predictions)\n",
    "        y_true.extend(target)\n",
    "        running_loss += (loss.item() * batch_size)\n",
    "        dataset_size += batch_size\n",
    "        \n",
    "        epoch_loss = running_loss / dataset_size\n",
    "        \n",
    "        bar.set_postfix(Epoch=epoch, Valid_Loss=epoch_loss,LR=optimizer.param_groups[0]['lr'])   \n",
    "    \n",
    "    \n",
    "    accuracy, f1score = all_classification_report(y_true,y_pred)\n",
    "    gc.collect()\n",
    "    \n",
    "    return epoch_loss , accuracy , f1score"
   ]
  },
  {
   "cell_type": "code",
   "execution_count": 31,
   "id": "e2a01d01-3b43-4723-9874-43b38ffcbdc4",
   "metadata": {},
   "outputs": [],
   "source": [
    "def run_training(model, optimizer, scheduler, device, num_epochs, fold):\n",
    "    # To automatically log gradients\n",
    "    wandb.watch(model, log_freq=100)\n",
    "    \n",
    "    if torch.cuda.is_available():\n",
    "        print(\"[INFO] Using GPU: {}\\n\".format(torch.cuda.get_device_name()))\n",
    "    \n",
    "    start = time.time()\n",
    "    best_model_wts = copy.deepcopy(model.state_dict())\n",
    "    best_epoch_loss = np.inf\n",
    "    history = defaultdict(list)\n",
    "    \n",
    "    for epoch in range(1, num_epochs + 1): \n",
    "        gc.collect()\n",
    "        train_epoch_loss = train_one_epoch(model, optimizer, scheduler, \n",
    "                                           dataloader=train_loader, \n",
    "                                           device=CONFIG['device'], epoch=epoch)\n",
    "        \n",
    "        val_epoch_loss, accuracy , f1score = valid_one_epoch(model, valid_loader, device=CONFIG['device'], \n",
    "                                         epoch=epoch)\n",
    "    \n",
    "        history['Train Loss'].append(train_epoch_loss)\n",
    "        history['Valid Loss'].append(val_epoch_loss)\n",
    "      \n",
    "        history['Valid accuracy'].append(accuracy)\n",
    "        history['Valid f1score'].append(f1score)\n",
    "\n",
    "\n",
    "\n",
    "        \n",
    "        # Log the metrics\n",
    "        wandb.log({\"Train Loss\": train_epoch_loss})\n",
    "        wandb.log({\"Valid Loss\": val_epoch_loss})\n",
    "        wandb.log({\"Valid Accuracy\": accuracy})\n",
    "        wandb.log({\"Valid F1_score\": f1score})\n",
    "\n",
    "\n",
    "        \n",
    "        # deep copy the model\n",
    "        if val_epoch_loss <= best_epoch_loss:\n",
    "            print(f\"{b_}Validation Loss Improved ({best_epoch_loss} ---> {val_epoch_loss})\")\n",
    "            best_epoch_loss = val_epoch_loss\n",
    "            run.summary[\"Best Loss\"] = best_epoch_loss\n",
    "            best_model_wts = copy.deepcopy(model.state_dict())\n",
    "            PATH = f\"{HASH_NAME}-Loss-Fold-{fold}.bin\"\n",
    "            torch.save(model.state_dict(), PATH)\n",
    "            # Save a model file from the current directory\n",
    "            print(f\"Model Saved{sr_}\")\n",
    "            \n",
    "        print()\n",
    "    \n",
    "    end = time.time()\n",
    "    time_elapsed = end - start\n",
    "    print('Training complete in {:.0f}h {:.0f}m {:.0f}s'.format(\n",
    "        time_elapsed // 3600, (time_elapsed % 3600) // 60, (time_elapsed % 3600) % 60))\n",
    "    print(\"Best Loss: {:.4f}\".format(best_epoch_loss))\n",
    "    \n",
    "    # load best model weights\n",
    "    model.load_state_dict(best_model_wts)\n",
    "    \n",
    "    return model, history\n"
   ]
  },
  {
   "cell_type": "code",
   "execution_count": 32,
   "id": "7ac45314-e0b4-4150-8e2a-06beba582112",
   "metadata": {},
   "outputs": [],
   "source": [
    "def prepare_loaders(fold):\n",
    "    df_train = df[df.kfold != fold].reset_index(drop=True)\n",
    "    df_valid = df[df.kfold == fold].reset_index(drop=True)\n",
    "    \n",
    "    train_dataset = HP_Dataset(df_train, tokenizer=CONFIG['tokenizer'], max_length=CONFIG['max_length'])\n",
    "    valid_dataset = HP_Dataset(df_valid, tokenizer=CONFIG['tokenizer'], max_length=CONFIG['max_length'])\n",
    "\n",
    "    train_loader = DataLoader(train_dataset, batch_size=CONFIG['train_batch_size'], collate_fn=collate_fn, \n",
    "                              num_workers=2, shuffle=True, pin_memory=True, drop_last=True)\n",
    "    valid_loader = DataLoader(valid_dataset, batch_size=CONFIG['valid_batch_size'], collate_fn=collate_fn,\n",
    "                              num_workers=2, shuffle=False, pin_memory=True)\n",
    "    \n",
    "    return train_loader, valid_loader"
   ]
  },
  {
   "cell_type": "code",
   "execution_count": 33,
   "id": "b3b81685-ab3f-47ca-b1de-86dc9d79fe16",
   "metadata": {},
   "outputs": [],
   "source": [
    "def fetch_scheduler(optimizer):\n",
    "    if CONFIG['scheduler'] == 'CosineAnnealingLR':\n",
    "        scheduler = lr_scheduler.CosineAnnealingLR(optimizer,T_max=CONFIG['T_max'], \n",
    "                                                   eta_min=CONFIG['min_lr'])\n",
    "    elif CONFIG['scheduler'] == 'CosineAnnealingWarmRestarts':\n",
    "        scheduler = lr_scheduler.CosineAnnealingWarmRestarts(optimizer,T_0=CONFIG['T_0'], \n",
    "                                                             eta_min=CONFIG['min_lr'])\n",
    "    elif CONFIG['scheduler'] == None:\n",
    "        return None\n",
    "        \n",
    "    return scheduler"
   ]
  },
  {
   "cell_type": "markdown",
   "id": "f151c433",
   "metadata": {},
   "source": [
    "<h2> Testing Inference </h2>\n"
   ]
  },
  {
   "cell_type": "code",
   "execution_count": 34,
   "id": "c8f36497-0ef8-4e3c-8c9e-50c92b92e7a3",
   "metadata": {},
   "outputs": [],
   "source": [
    "import warnings,transformers,logging,torch\n",
    "\n",
    "warnings.simplefilter('ignore')\n",
    "logging.disable(logging.WARNING)"
   ]
  },
  {
   "cell_type": "code",
   "execution_count": 35,
   "id": "1b25e683-7c36-487f-ba36-905d9b04ba13",
   "metadata": {},
   "outputs": [],
   "source": [
    "test_df = test_hp_df"
   ]
  },
  {
   "cell_type": "code",
   "execution_count": 36,
   "id": "f6be00e4-81ad-4264-b42a-afff577eff59",
   "metadata": {},
   "outputs": [
    {
     "data": {
      "text/html": [
       "<div>\n",
       "<style scoped>\n",
       "    .dataframe tbody tr th:only-of-type {\n",
       "        vertical-align: middle;\n",
       "    }\n",
       "\n",
       "    .dataframe tbody tr th {\n",
       "        vertical-align: top;\n",
       "    }\n",
       "\n",
       "    .dataframe thead th {\n",
       "        text-align: right;\n",
       "    }\n",
       "</style>\n",
       "<table border=\"1\" class=\"dataframe\">\n",
       "  <thead>\n",
       "    <tr style=\"text-align: right;\">\n",
       "      <th></th>\n",
       "      <th>label</th>\n",
       "      <th>text</th>\n",
       "    </tr>\n",
       "  </thead>\n",
       "  <tbody>\n",
       "    <tr>\n",
       "      <th>54583</th>\n",
       "      <td>0</td>\n",
       "      <td>after patching hbase where lzo compression is ...</td>\n",
       "    </tr>\n",
       "    <tr>\n",
       "      <th>59967</th>\n",
       "      <td>0</td>\n",
       "      <td>converter library to convert industry foundati...</td>\n",
       "    </tr>\n",
       "    <tr>\n",
       "      <th>26485</th>\n",
       "      <td>1</td>\n",
       "      <td>for jbide please perform the following tasks c...</td>\n",
       "    </tr>\n",
       "    <tr>\n",
       "      <th>34297</th>\n",
       "      <td>0</td>\n",
       "      <td>ats application timeline severservice we alrea...</td>\n",
       "    </tr>\n",
       "    <tr>\n",
       "      <th>1286</th>\n",
       "      <td>1</td>\n",
       "      <td>the current code in applicationmasterservice i...</td>\n",
       "    </tr>\n",
       "    <tr>\n",
       "      <th>...</th>\n",
       "      <td>...</td>\n",
       "      <td>...</td>\n",
       "    </tr>\n",
       "    <tr>\n",
       "      <th>6265</th>\n",
       "      <td>1</td>\n",
       "      <td>on which uses a db conversion a preexisitng ac...</td>\n",
       "    </tr>\n",
       "    <tr>\n",
       "      <th>54886</th>\n",
       "      <td>1</td>\n",
       "      <td>weve talked about putting setters on mojos for...</td>\n",
       "    </tr>\n",
       "    <tr>\n",
       "      <th>76820</th>\n",
       "      <td>1</td>\n",
       "      <td>hi guysi found this issue when trying to creat...</td>\n",
       "    </tr>\n",
       "    <tr>\n",
       "      <th>860</th>\n",
       "      <td>0</td>\n",
       "      <td>given a bean field declared with an multifield...</td>\n",
       "    </tr>\n",
       "    <tr>\n",
       "      <th>15795</th>\n",
       "      <td>0</td>\n",
       "      <td>with the increase of project size more and mor...</td>\n",
       "    </tr>\n",
       "  </tbody>\n",
       "</table>\n",
       "<p>13434 rows × 2 columns</p>\n",
       "</div>"
      ],
      "text/plain": [
       "       label                                               text\n",
       "54583      0  after patching hbase where lzo compression is ...\n",
       "59967      0  converter library to convert industry foundati...\n",
       "26485      1  for jbide please perform the following tasks c...\n",
       "34297      0  ats application timeline severservice we alrea...\n",
       "1286       1  the current code in applicationmasterservice i...\n",
       "...      ...                                                ...\n",
       "6265       1  on which uses a db conversion a preexisitng ac...\n",
       "54886      1  weve talked about putting setters on mojos for...\n",
       "76820      1  hi guysi found this issue when trying to creat...\n",
       "860        0  given a bean field declared with an multifield...\n",
       "15795      0  with the increase of project size more and mor...\n",
       "\n",
       "[13434 rows x 2 columns]"
      ]
     },
     "execution_count": 36,
     "metadata": {},
     "output_type": "execute_result"
    }
   ],
   "source": [
    "test_df"
   ]
  },
  {
   "cell_type": "code",
   "execution_count": 37,
   "id": "690f08dd-983c-429c-a6b4-86c20e540b21",
   "metadata": {},
   "outputs": [],
   "source": [
    "class HP_TestDataset(Dataset):\n",
    "    def __init__(self, df, tokenizer, max_length):\n",
    "        self.df = df\n",
    "        self.max_len = max_length\n",
    "        self.tokenizer = tokenizer\n",
    "        self.text = df['text'].values\n",
    "        \n",
    "    def __len__(self):\n",
    "        return len(self.df)\n",
    "    \n",
    "    def __getitem__(self, index):\n",
    "        text = self.text[index]\n",
    "        inputs = self.tokenizer.encode_plus(\n",
    "                        text,\n",
    "                        truncation=True,\n",
    "                        add_special_tokens=True,\n",
    "                        max_length=self.max_len\n",
    "                    )\n",
    "        \n",
    "        samples = {\n",
    "            'input_ids': inputs['input_ids'],\n",
    "            'attention_mask': inputs['attention_mask'],\n",
    "            \n",
    "        }\n",
    "\n",
    "        if 'token_type_ids' in inputs:\n",
    "            samples['token_type_ids'] = inputs['token_type_ids']\n",
    "        \n",
    "        return samples"
   ]
  },
  {
   "cell_type": "code",
   "execution_count": 38,
   "id": "b437f36d-a3a6-4690-a4c5-7c8567b184c8",
   "metadata": {},
   "outputs": [],
   "source": [
    "collate_fn = DataCollatorWithPadding(tokenizer=CONFIG['tokenizer'])\n",
    "\n",
    "softmax = nn.Softmax(dim=1)\n",
    "model = HP_Model(CONFIG['model_name'])"
   ]
  },
  {
   "cell_type": "code",
   "execution_count": 39,
   "id": "c310d8ae-a37e-4eec-84ab-75cf6273df04",
   "metadata": {},
   "outputs": [],
   "source": [
    "def prepare_test_loader(test_df):    \n",
    "    test_dataset = HP_TestDataset(test_df, \n",
    "                                   tokenizer=CONFIG['tokenizer'], \n",
    "                                   max_length=CONFIG['max_length'])\n",
    "    \n",
    "    test_loader = DataLoader(test_dataset, \n",
    "                             batch_size=CONFIG['valid_batch_size'], \n",
    "                             collate_fn=collate_fn, \n",
    "                             num_workers=2, \n",
    "                             shuffle=False, \n",
    "                             pin_memory=True, \n",
    "                             drop_last=False)\n",
    "    return test_loader\n",
    "\n",
    "test_loader = prepare_test_loader(test_df)"
   ]
  },
  {
   "cell_type": "code",
   "execution_count": 40,
   "id": "42c35623-2819-4bad-a2bc-6fde708a1420",
   "metadata": {},
   "outputs": [],
   "source": [
    "@torch.no_grad()\n",
    "def inference(test_loader, model, device):\n",
    "    preds = []\n",
    "    preds_target = []\n",
    "    model.eval()\n",
    "    model.to(device)\n",
    "    \n",
    "    bar = tqdm(enumerate(test_loader), total=len(test_loader))\n",
    "    \n",
    "    for step, data in bar: \n",
    "        ids = data['input_ids'].to(device, dtype = torch.long)\n",
    "        mask = data['attention_mask'].to(device, dtype = torch.long)\n",
    "        \n",
    "        output = model(ids, mask)\n",
    "        y_preds = softmax(torch.tensor(output.to('cpu'))).numpy()\n",
    "        pred_target = torch.argmax(output, dim=-1).flatten().tolist()\n",
    "        \n",
    "        preds.append(y_preds)\n",
    "        preds_target.append(pred_target) \n",
    "    predictions = np.concatenate(preds)\n",
    "    predictions_label = np.concatenate(preds_target)\n",
    "    return predictions , predictions_label"
   ]
  },
  {
   "cell_type": "code",
   "execution_count": 41,
   "id": "601c0907-fc9a-4ede-9836-ed7df661b947",
   "metadata": {},
   "outputs": [
    {
     "name": "stdout",
     "output_type": "stream",
     "text": [
      "Fold 0\n"
     ]
    },
    {
     "name": "stderr",
     "output_type": "stream",
     "text": [
      "100%|██████████| 840/840 [04:20<00:00,  3.22it/s]\n"
     ]
    },
    {
     "name": "stdout",
     "output_type": "stream",
     "text": [
      "Fold 1\n"
     ]
    },
    {
     "name": "stderr",
     "output_type": "stream",
     "text": [
      "100%|██████████| 840/840 [04:20<00:00,  3.22it/s]\n"
     ]
    },
    {
     "name": "stdout",
     "output_type": "stream",
     "text": [
      "Fold 2\n"
     ]
    },
    {
     "name": "stderr",
     "output_type": "stream",
     "text": [
      "100%|██████████| 840/840 [04:20<00:00,  3.23it/s]\n"
     ]
    }
   ],
   "source": [
    "deberta_predictions = []\n",
    "deberta_predictions_labels = []\n",
    "\n",
    "\n",
    "\n",
    "for fold in range(0, CONFIG['n_fold']):\n",
    "    print(\"Fold {}\".format(fold))\n",
    "    \n",
    "    state = torch.load(f'{HASH_NAME}-Loss-Fold-{fold}.bin')\n",
    "    model.load_state_dict(state)\n",
    "    \n",
    "    prediction, predictions_label = inference(test_loader, model, CONFIG['device'])\n",
    "    deberta_predictions.append(prediction)\n",
    "    deberta_predictions_labels.append(predictions_label)\n",
    "    del state, prediction; gc.collect()\n",
    "    torch.cuda.empty_cache()\n",
    "del model"
   ]
  },
  {
   "cell_type": "code",
   "execution_count": 42,
   "id": "b89ee418-5404-468e-88bd-18913c2d3da5",
   "metadata": {},
   "outputs": [
    {
     "data": {
      "text/plain": [
       "[array([[2.5552234e-01, 7.4447769e-01],\n",
       "        [9.4422060e-01, 5.5779349e-02],\n",
       "        [4.5716055e-04, 9.9954283e-01],\n",
       "        ...,\n",
       "        [6.2843752e-01, 3.7156245e-01],\n",
       "        [5.0506634e-01, 4.9493366e-01],\n",
       "        [7.5984627e-01, 2.4015373e-01]], dtype=float32),\n",
       " array([[0.30010578, 0.69989413],\n",
       "        [0.9530199 , 0.04698011],\n",
       "        [0.0095847 , 0.99041533],\n",
       "        ...,\n",
       "        [0.6967184 , 0.30328155],\n",
       "        [0.50805485, 0.49194515],\n",
       "        [0.86450255, 0.1354974 ]], dtype=float32),\n",
       " array([[0.18194963, 0.81805044],\n",
       "        [0.9210891 , 0.07891092],\n",
       "        [0.00266797, 0.9973321 ],\n",
       "        ...,\n",
       "        [0.50376976, 0.4962302 ],\n",
       "        [0.6103056 , 0.38969436],\n",
       "        [0.87513536, 0.1248647 ]], dtype=float32)]"
      ]
     },
     "execution_count": 42,
     "metadata": {},
     "output_type": "execute_result"
    }
   ],
   "source": [
    "deberta_predictions\n"
   ]
  },
  {
   "cell_type": "code",
   "execution_count": 43,
   "id": "036a364a-2e0f-4b27-9f77-c2925d3ce2e6",
   "metadata": {},
   "outputs": [
    {
     "data": {
      "text/plain": [
       "array([[0.24585925, 0.7541408 ],\n",
       "       [0.9394432 , 0.06055679],\n",
       "       [0.00423661, 0.9957635 ],\n",
       "       ...,\n",
       "       [0.6096419 , 0.3903581 ],\n",
       "       [0.5411422 , 0.45885774],\n",
       "       [0.8331614 , 0.1668386 ]], dtype=float32)"
      ]
     },
     "execution_count": 43,
     "metadata": {},
     "output_type": "execute_result"
    }
   ],
   "source": [
    "predictions = np.mean(deberta_predictions, axis=0)\n",
    "predictions"
   ]
  },
  {
   "cell_type": "code",
   "execution_count": 44,
   "id": "cc393a64-0fb7-4f65-a69a-bdccddf89edb",
   "metadata": {},
   "outputs": [
    {
     "data": {
      "text/plain": [
       "13434"
      ]
     },
     "execution_count": 44,
     "metadata": {},
     "output_type": "execute_result"
    }
   ],
   "source": [
    "len(predictions)"
   ]
  },
  {
   "cell_type": "code",
   "execution_count": 45,
   "id": "b3348dbf-e8d9-46c0-be55-89592c29445e",
   "metadata": {},
   "outputs": [
    {
     "data": {
      "text/plain": [
       "array([[0.24585925, 0.7541408 ],\n",
       "       [0.9394432 , 0.06055679],\n",
       "       [0.00423661, 0.9957635 ],\n",
       "       ...,\n",
       "       [0.6096419 , 0.3903581 ],\n",
       "       [0.5411422 , 0.45885774],\n",
       "       [0.8331614 , 0.1668386 ]], dtype=float32)"
      ]
     },
     "execution_count": 45,
     "metadata": {},
     "output_type": "execute_result"
    }
   ],
   "source": [
    "predictions"
   ]
  },
  {
   "cell_type": "code",
   "execution_count": 46,
   "id": "94b2a1d7-8f4e-417d-9e02-570d4107feda",
   "metadata": {},
   "outputs": [],
   "source": [
    "test_df[\"prediction_0\"] = predictions[:, 0] "
   ]
  },
  {
   "cell_type": "code",
   "execution_count": 47,
   "id": "1b4c2333-024e-47ca-8828-5c5d19ad07cb",
   "metadata": {},
   "outputs": [],
   "source": [
    "test_df[\"prediction_1\"] = predictions[:, 1] "
   ]
  },
  {
   "cell_type": "code",
   "execution_count": 48,
   "id": "78b2fb4c-ec25-4df0-9d25-c2db6e09e6b1",
   "metadata": {},
   "outputs": [],
   "source": [
    "for i in range(0, CONFIG['n_fold']):\n",
    "\n",
    "    test_df[f\"prediction_label_fold_{i}\"] = deberta_predictions_labels[i]\n"
   ]
  },
  {
   "cell_type": "code",
   "execution_count": 49,
   "id": "c4473d1d-6485-49e6-88bf-6aa3f05326cd",
   "metadata": {},
   "outputs": [
    {
     "data": {
      "text/html": [
       "<div>\n",
       "<style scoped>\n",
       "    .dataframe tbody tr th:only-of-type {\n",
       "        vertical-align: middle;\n",
       "    }\n",
       "\n",
       "    .dataframe tbody tr th {\n",
       "        vertical-align: top;\n",
       "    }\n",
       "\n",
       "    .dataframe thead th {\n",
       "        text-align: right;\n",
       "    }\n",
       "</style>\n",
       "<table border=\"1\" class=\"dataframe\">\n",
       "  <thead>\n",
       "    <tr style=\"text-align: right;\">\n",
       "      <th></th>\n",
       "      <th>label</th>\n",
       "      <th>text</th>\n",
       "      <th>prediction_0</th>\n",
       "      <th>prediction_1</th>\n",
       "      <th>prediction_label_fold_0</th>\n",
       "      <th>prediction_label_fold_1</th>\n",
       "      <th>prediction_label_fold_2</th>\n",
       "    </tr>\n",
       "  </thead>\n",
       "  <tbody>\n",
       "    <tr>\n",
       "      <th>54583</th>\n",
       "      <td>0</td>\n",
       "      <td>after patching hbase where lzo compression is ...</td>\n",
       "      <td>0.245859</td>\n",
       "      <td>0.754141</td>\n",
       "      <td>1</td>\n",
       "      <td>1</td>\n",
       "      <td>1</td>\n",
       "    </tr>\n",
       "    <tr>\n",
       "      <th>59967</th>\n",
       "      <td>0</td>\n",
       "      <td>converter library to convert industry foundati...</td>\n",
       "      <td>0.939443</td>\n",
       "      <td>0.060557</td>\n",
       "      <td>0</td>\n",
       "      <td>0</td>\n",
       "      <td>0</td>\n",
       "    </tr>\n",
       "    <tr>\n",
       "      <th>26485</th>\n",
       "      <td>1</td>\n",
       "      <td>for jbide please perform the following tasks c...</td>\n",
       "      <td>0.004237</td>\n",
       "      <td>0.995763</td>\n",
       "      <td>1</td>\n",
       "      <td>1</td>\n",
       "      <td>1</td>\n",
       "    </tr>\n",
       "    <tr>\n",
       "      <th>34297</th>\n",
       "      <td>0</td>\n",
       "      <td>ats application timeline severservice we alrea...</td>\n",
       "      <td>0.589539</td>\n",
       "      <td>0.410461</td>\n",
       "      <td>0</td>\n",
       "      <td>0</td>\n",
       "      <td>0</td>\n",
       "    </tr>\n",
       "    <tr>\n",
       "      <th>1286</th>\n",
       "      <td>1</td>\n",
       "      <td>the current code in applicationmasterservice i...</td>\n",
       "      <td>0.475095</td>\n",
       "      <td>0.524905</td>\n",
       "      <td>1</td>\n",
       "      <td>0</td>\n",
       "      <td>1</td>\n",
       "    </tr>\n",
       "    <tr>\n",
       "      <th>...</th>\n",
       "      <td>...</td>\n",
       "      <td>...</td>\n",
       "      <td>...</td>\n",
       "      <td>...</td>\n",
       "      <td>...</td>\n",
       "      <td>...</td>\n",
       "      <td>...</td>\n",
       "    </tr>\n",
       "    <tr>\n",
       "      <th>6265</th>\n",
       "      <td>1</td>\n",
       "      <td>on which uses a db conversion a preexisitng ac...</td>\n",
       "      <td>0.200443</td>\n",
       "      <td>0.799557</td>\n",
       "      <td>1</td>\n",
       "      <td>1</td>\n",
       "      <td>1</td>\n",
       "    </tr>\n",
       "    <tr>\n",
       "      <th>54886</th>\n",
       "      <td>1</td>\n",
       "      <td>weve talked about putting setters on mojos for...</td>\n",
       "      <td>0.557497</td>\n",
       "      <td>0.442503</td>\n",
       "      <td>0</td>\n",
       "      <td>0</td>\n",
       "      <td>0</td>\n",
       "    </tr>\n",
       "    <tr>\n",
       "      <th>76820</th>\n",
       "      <td>1</td>\n",
       "      <td>hi guysi found this issue when trying to creat...</td>\n",
       "      <td>0.609642</td>\n",
       "      <td>0.390358</td>\n",
       "      <td>0</td>\n",
       "      <td>0</td>\n",
       "      <td>0</td>\n",
       "    </tr>\n",
       "    <tr>\n",
       "      <th>860</th>\n",
       "      <td>0</td>\n",
       "      <td>given a bean field declared with an multifield...</td>\n",
       "      <td>0.541142</td>\n",
       "      <td>0.458858</td>\n",
       "      <td>0</td>\n",
       "      <td>0</td>\n",
       "      <td>0</td>\n",
       "    </tr>\n",
       "    <tr>\n",
       "      <th>15795</th>\n",
       "      <td>0</td>\n",
       "      <td>with the increase of project size more and mor...</td>\n",
       "      <td>0.833161</td>\n",
       "      <td>0.166839</td>\n",
       "      <td>0</td>\n",
       "      <td>0</td>\n",
       "      <td>0</td>\n",
       "    </tr>\n",
       "  </tbody>\n",
       "</table>\n",
       "<p>13434 rows × 7 columns</p>\n",
       "</div>"
      ],
      "text/plain": [
       "       label                                               text  prediction_0  \\\n",
       "54583      0  after patching hbase where lzo compression is ...      0.245859   \n",
       "59967      0  converter library to convert industry foundati...      0.939443   \n",
       "26485      1  for jbide please perform the following tasks c...      0.004237   \n",
       "34297      0  ats application timeline severservice we alrea...      0.589539   \n",
       "1286       1  the current code in applicationmasterservice i...      0.475095   \n",
       "...      ...                                                ...           ...   \n",
       "6265       1  on which uses a db conversion a preexisitng ac...      0.200443   \n",
       "54886      1  weve talked about putting setters on mojos for...      0.557497   \n",
       "76820      1  hi guysi found this issue when trying to creat...      0.609642   \n",
       "860        0  given a bean field declared with an multifield...      0.541142   \n",
       "15795      0  with the increase of project size more and mor...      0.833161   \n",
       "\n",
       "       prediction_1  prediction_label_fold_0  prediction_label_fold_1  \\\n",
       "54583      0.754141                        1                        1   \n",
       "59967      0.060557                        0                        0   \n",
       "26485      0.995763                        1                        1   \n",
       "34297      0.410461                        0                        0   \n",
       "1286       0.524905                        1                        0   \n",
       "...             ...                      ...                      ...   \n",
       "6265       0.799557                        1                        1   \n",
       "54886      0.442503                        0                        0   \n",
       "76820      0.390358                        0                        0   \n",
       "860        0.458858                        0                        0   \n",
       "15795      0.166839                        0                        0   \n",
       "\n",
       "       prediction_label_fold_2  \n",
       "54583                        1  \n",
       "59967                        0  \n",
       "26485                        1  \n",
       "34297                        0  \n",
       "1286                         1  \n",
       "...                        ...  \n",
       "6265                         1  \n",
       "54886                        0  \n",
       "76820                        0  \n",
       "860                          0  \n",
       "15795                        0  \n",
       "\n",
       "[13434 rows x 7 columns]"
      ]
     },
     "execution_count": 49,
     "metadata": {},
     "output_type": "execute_result"
    }
   ],
   "source": [
    "test_df"
   ]
  },
  {
   "cell_type": "code",
   "execution_count": 50,
   "id": "68812cae-b8d4-4f6d-bee3-cb7a3ff24441",
   "metadata": {},
   "outputs": [
    {
     "data": {
      "text/plain": [
       "13434"
      ]
     },
     "execution_count": 50,
     "metadata": {},
     "output_type": "execute_result"
    }
   ],
   "source": [
    "len(test_df)"
   ]
  },
  {
   "cell_type": "code",
   "execution_count": 51,
   "id": "806c1731-776c-4105-90a1-5e9e6cb29b14",
   "metadata": {},
   "outputs": [],
   "source": [
    "test_df['Max'] = test_df[['prediction_0','prediction_1']].idxmax(axis=1)"
   ]
  },
  {
   "cell_type": "code",
   "execution_count": 52,
   "id": "6cbb0e15-dc91-4785-adcd-bd9c1676d226",
   "metadata": {},
   "outputs": [],
   "source": [
    "test_df[\"pred\"] = test_df['Max'].apply(lambda x: x.replace(\"prediction_0\", \"0\"))"
   ]
  },
  {
   "cell_type": "code",
   "execution_count": 53,
   "id": "c1ef524d-f2f0-41d3-b0f1-3f61d47d5448",
   "metadata": {},
   "outputs": [],
   "source": [
    "test_df[\"pred\"] = test_df['pred'].apply(lambda x: x.replace(\"prediction_1\", \"1\"))\n"
   ]
  },
  {
   "cell_type": "code",
   "execution_count": 54,
   "id": "72170b82-c414-41da-8f02-b41c13aa84cb",
   "metadata": {},
   "outputs": [],
   "source": [
    "test_df[\"pred\"] = test_df[\"pred\"].astype(int)"
   ]
  },
  {
   "cell_type": "code",
   "execution_count": 55,
   "id": "f26e7e7b-5712-4bae-b8fd-81586e97a5fc",
   "metadata": {},
   "outputs": [
    {
     "data": {
      "text/html": [
       "<div>\n",
       "<style scoped>\n",
       "    .dataframe tbody tr th:only-of-type {\n",
       "        vertical-align: middle;\n",
       "    }\n",
       "\n",
       "    .dataframe tbody tr th {\n",
       "        vertical-align: top;\n",
       "    }\n",
       "\n",
       "    .dataframe thead th {\n",
       "        text-align: right;\n",
       "    }\n",
       "</style>\n",
       "<table border=\"1\" class=\"dataframe\">\n",
       "  <thead>\n",
       "    <tr style=\"text-align: right;\">\n",
       "      <th></th>\n",
       "      <th>label</th>\n",
       "      <th>text</th>\n",
       "      <th>prediction_0</th>\n",
       "      <th>prediction_1</th>\n",
       "      <th>prediction_label_fold_0</th>\n",
       "      <th>prediction_label_fold_1</th>\n",
       "      <th>prediction_label_fold_2</th>\n",
       "      <th>Max</th>\n",
       "      <th>pred</th>\n",
       "    </tr>\n",
       "  </thead>\n",
       "  <tbody>\n",
       "    <tr>\n",
       "      <th>54583</th>\n",
       "      <td>0</td>\n",
       "      <td>after patching hbase where lzo compression is ...</td>\n",
       "      <td>0.245859</td>\n",
       "      <td>0.754141</td>\n",
       "      <td>1</td>\n",
       "      <td>1</td>\n",
       "      <td>1</td>\n",
       "      <td>prediction_1</td>\n",
       "      <td>1</td>\n",
       "    </tr>\n",
       "    <tr>\n",
       "      <th>59967</th>\n",
       "      <td>0</td>\n",
       "      <td>converter library to convert industry foundati...</td>\n",
       "      <td>0.939443</td>\n",
       "      <td>0.060557</td>\n",
       "      <td>0</td>\n",
       "      <td>0</td>\n",
       "      <td>0</td>\n",
       "      <td>prediction_0</td>\n",
       "      <td>0</td>\n",
       "    </tr>\n",
       "    <tr>\n",
       "      <th>26485</th>\n",
       "      <td>1</td>\n",
       "      <td>for jbide please perform the following tasks c...</td>\n",
       "      <td>0.004237</td>\n",
       "      <td>0.995763</td>\n",
       "      <td>1</td>\n",
       "      <td>1</td>\n",
       "      <td>1</td>\n",
       "      <td>prediction_1</td>\n",
       "      <td>1</td>\n",
       "    </tr>\n",
       "    <tr>\n",
       "      <th>34297</th>\n",
       "      <td>0</td>\n",
       "      <td>ats application timeline severservice we alrea...</td>\n",
       "      <td>0.589539</td>\n",
       "      <td>0.410461</td>\n",
       "      <td>0</td>\n",
       "      <td>0</td>\n",
       "      <td>0</td>\n",
       "      <td>prediction_0</td>\n",
       "      <td>0</td>\n",
       "    </tr>\n",
       "    <tr>\n",
       "      <th>1286</th>\n",
       "      <td>1</td>\n",
       "      <td>the current code in applicationmasterservice i...</td>\n",
       "      <td>0.475095</td>\n",
       "      <td>0.524905</td>\n",
       "      <td>1</td>\n",
       "      <td>0</td>\n",
       "      <td>1</td>\n",
       "      <td>prediction_1</td>\n",
       "      <td>1</td>\n",
       "    </tr>\n",
       "    <tr>\n",
       "      <th>...</th>\n",
       "      <td>...</td>\n",
       "      <td>...</td>\n",
       "      <td>...</td>\n",
       "      <td>...</td>\n",
       "      <td>...</td>\n",
       "      <td>...</td>\n",
       "      <td>...</td>\n",
       "      <td>...</td>\n",
       "      <td>...</td>\n",
       "    </tr>\n",
       "    <tr>\n",
       "      <th>6265</th>\n",
       "      <td>1</td>\n",
       "      <td>on which uses a db conversion a preexisitng ac...</td>\n",
       "      <td>0.200443</td>\n",
       "      <td>0.799557</td>\n",
       "      <td>1</td>\n",
       "      <td>1</td>\n",
       "      <td>1</td>\n",
       "      <td>prediction_1</td>\n",
       "      <td>1</td>\n",
       "    </tr>\n",
       "    <tr>\n",
       "      <th>54886</th>\n",
       "      <td>1</td>\n",
       "      <td>weve talked about putting setters on mojos for...</td>\n",
       "      <td>0.557497</td>\n",
       "      <td>0.442503</td>\n",
       "      <td>0</td>\n",
       "      <td>0</td>\n",
       "      <td>0</td>\n",
       "      <td>prediction_0</td>\n",
       "      <td>0</td>\n",
       "    </tr>\n",
       "    <tr>\n",
       "      <th>76820</th>\n",
       "      <td>1</td>\n",
       "      <td>hi guysi found this issue when trying to creat...</td>\n",
       "      <td>0.609642</td>\n",
       "      <td>0.390358</td>\n",
       "      <td>0</td>\n",
       "      <td>0</td>\n",
       "      <td>0</td>\n",
       "      <td>prediction_0</td>\n",
       "      <td>0</td>\n",
       "    </tr>\n",
       "    <tr>\n",
       "      <th>860</th>\n",
       "      <td>0</td>\n",
       "      <td>given a bean field declared with an multifield...</td>\n",
       "      <td>0.541142</td>\n",
       "      <td>0.458858</td>\n",
       "      <td>0</td>\n",
       "      <td>0</td>\n",
       "      <td>0</td>\n",
       "      <td>prediction_0</td>\n",
       "      <td>0</td>\n",
       "    </tr>\n",
       "    <tr>\n",
       "      <th>15795</th>\n",
       "      <td>0</td>\n",
       "      <td>with the increase of project size more and mor...</td>\n",
       "      <td>0.833161</td>\n",
       "      <td>0.166839</td>\n",
       "      <td>0</td>\n",
       "      <td>0</td>\n",
       "      <td>0</td>\n",
       "      <td>prediction_0</td>\n",
       "      <td>0</td>\n",
       "    </tr>\n",
       "  </tbody>\n",
       "</table>\n",
       "<p>13434 rows × 9 columns</p>\n",
       "</div>"
      ],
      "text/plain": [
       "       label                                               text  prediction_0  \\\n",
       "54583      0  after patching hbase where lzo compression is ...      0.245859   \n",
       "59967      0  converter library to convert industry foundati...      0.939443   \n",
       "26485      1  for jbide please perform the following tasks c...      0.004237   \n",
       "34297      0  ats application timeline severservice we alrea...      0.589539   \n",
       "1286       1  the current code in applicationmasterservice i...      0.475095   \n",
       "...      ...                                                ...           ...   \n",
       "6265       1  on which uses a db conversion a preexisitng ac...      0.200443   \n",
       "54886      1  weve talked about putting setters on mojos for...      0.557497   \n",
       "76820      1  hi guysi found this issue when trying to creat...      0.609642   \n",
       "860        0  given a bean field declared with an multifield...      0.541142   \n",
       "15795      0  with the increase of project size more and mor...      0.833161   \n",
       "\n",
       "       prediction_1  prediction_label_fold_0  prediction_label_fold_1  \\\n",
       "54583      0.754141                        1                        1   \n",
       "59967      0.060557                        0                        0   \n",
       "26485      0.995763                        1                        1   \n",
       "34297      0.410461                        0                        0   \n",
       "1286       0.524905                        1                        0   \n",
       "...             ...                      ...                      ...   \n",
       "6265       0.799557                        1                        1   \n",
       "54886      0.442503                        0                        0   \n",
       "76820      0.390358                        0                        0   \n",
       "860        0.458858                        0                        0   \n",
       "15795      0.166839                        0                        0   \n",
       "\n",
       "       prediction_label_fold_2           Max  pred  \n",
       "54583                        1  prediction_1     1  \n",
       "59967                        0  prediction_0     0  \n",
       "26485                        1  prediction_1     1  \n",
       "34297                        0  prediction_0     0  \n",
       "1286                         1  prediction_1     1  \n",
       "...                        ...           ...   ...  \n",
       "6265                         1  prediction_1     1  \n",
       "54886                        0  prediction_0     0  \n",
       "76820                        0  prediction_0     0  \n",
       "860                          0  prediction_0     0  \n",
       "15795                        0  prediction_0     0  \n",
       "\n",
       "[13434 rows x 9 columns]"
      ]
     },
     "execution_count": 55,
     "metadata": {},
     "output_type": "execute_result"
    }
   ],
   "source": [
    "test_df"
   ]
  },
  {
   "cell_type": "code",
   "execution_count": 56,
   "id": "2ce8ca5b-1611-400a-98ea-590e18e3e4d6",
   "metadata": {},
   "outputs": [
    {
     "name": "stdout",
     "output_type": "stream",
     "text": [
      "[[4279 2371]\n",
      " [1590 5194]]\n"
     ]
    }
   ],
   "source": [
    "from sklearn.metrics import confusion_matrix\n",
    "cf_matrix = confusion_matrix(test_df[\"label\"].values, test_df[\"pred\"].values)\n",
    "\n",
    "print(cf_matrix)"
   ]
  },
  {
   "cell_type": "code",
   "execution_count": 57,
   "id": "f07ff2ad-0501-46c3-b5c8-7f414a2e7b83",
   "metadata": {},
   "outputs": [
    {
     "data": {
      "image/png": "[encoded data removed]",
      "text/plain": [
       "<Figure size 640x480 with 2 Axes>"
      ]
     },
     "metadata": {},
     "output_type": "display_data"
    }
   ],
   "source": [
    "import seaborn as sns\n",
    "import matplotlib.pyplot as plt\n",
    "ax = sns.heatmap(cf_matrix/np.sum(cf_matrix), annot=True, \n",
    "            fmt='.2%', cmap='Blues')\n",
    "\n",
    "ax.set_title('Jira: High vs rest. Min len 25th percentile\\n\\n NonHP vs HP \\n\\n');\n",
    "ax.set_xlabel('\\nPredicted Values')\n",
    "ax.set_ylabel('Actual Values ');\n",
    "\n",
    "## Ticket labels - List must be in alphabetical order\n",
    "ax.xaxis.set_ticklabels(['False(NonHP)','True(HP)'])\n",
    "ax.yaxis.set_ticklabels(['False(NonHP)','True(HP)'])\n",
    "\n",
    "## Display the visualization of the Confusion Matrix.\n",
    "plt.show()"
   ]
  },
  {
   "cell_type": "code",
   "execution_count": 58,
   "id": "b9228c89-6cae-4a8e-a433-e7b5328dba1e",
   "metadata": {},
   "outputs": [
    {
     "name": "stdout",
     "output_type": "stream",
     "text": [
      "              precision    recall  f1-score   support\n",
      "\n",
      "           0       0.73      0.64      0.68      6650\n",
      "           1       0.69      0.77      0.72      6784\n",
      "\n",
      "    accuracy                           0.71     13434\n",
      "   macro avg       0.71      0.70      0.70     13434\n",
      "weighted avg       0.71      0.71      0.70     13434\n",
      "\n"
     ]
    }
   ],
   "source": [
    "from sklearn.metrics import classification_report\n",
    "\n",
    "\n",
    "print(classification_report(test_df[\"label\"].values, test_df[\"pred\"].values))"
   ]
  },
  {
   "cell_type": "code",
   "execution_count": 59,
   "id": "11396cfe-189e-4d07-9958-29f19d9c3cda",
   "metadata": {},
   "outputs": [
    {
     "name": "stdout",
     "output_type": "stream",
     "text": [
      "Matthew's Correlation Coefficient: 0.41236266716530245\n"
     ]
    }
   ],
   "source": [
    "from sklearn.metrics import matthews_corrcoef\n",
    "\n",
    "# Calculate the Matthew's Correlation Coefficient\n",
    "mcc = matthews_corrcoef(test_df[\"label\"].values, test_df[\"pred\"].values)\n",
    "print(\"Matthew's Correlation Coefficient:\", mcc)"
   ]
  },
  {
   "cell_type": "code",
   "execution_count": 60,
   "id": "2f2df1a2-253f-4e67-9bad-a799f788b426",
   "metadata": {},
   "outputs": [
    {
     "data": {
      "text/plain": [
       "0.0019357310813580735"
      ]
     },
     "execution_count": 60,
     "metadata": {},
     "output_type": "execute_result"
    }
   ],
   "source": [
    "tracker.stop()"
   ]
  }
 ],
 "metadata": {
  "kernelspec": {
   "display_name": "Python 3 (ipykernel)",
   "language": "python",
   "name": "python3"
  },
  "language_info": {
   "codemirror_mode": {
    "name": "ipython",
    "version": 3
   },
   "file_extension": ".py",
   "mimetype": "text/x-python",
   "name": "python",
   "nbconvert_exporter": "python",
   "pygments_lexer": "ipython3",
   "version": "3.11.3"
  },
  "vscode": {
   "interpreter": {
    "hash": "a64f21293159cd9c4e596ef7fd6c17a9c99d13712885c299cb3370e7a4d97830"
   }
  }
 },
 "nbformat": 4,
 "nbformat_minor": 5
}
