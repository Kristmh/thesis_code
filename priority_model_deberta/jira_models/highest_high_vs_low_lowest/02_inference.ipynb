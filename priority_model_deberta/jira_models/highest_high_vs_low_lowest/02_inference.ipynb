{
 "cells": [
  {
   "cell_type": "markdown",
   "id": "f5c8e29e",
   "metadata": {},
   "source": [
    "# Training\n",
    "This notebook trains the model with 3 fold cross validation."
   ]
  },
  {
   "cell_type": "code",
   "execution_count": 1,
   "id": "6fc2a6e9-5307-4fe4-85eb-c93b411ea352",
   "metadata": {},
   "outputs": [
    {
     "name": "stderr",
     "output_type": "stream",
     "text": [
      "[codecarbon INFO @ 06:38:38] [setup] RAM Tracking...\n",
      "[codecarbon INFO @ 06:38:38] [setup] GPU Tracking...\n",
      "[codecarbon INFO @ 06:38:38] Tracking Nvidia GPU via pynvml\n",
      "[codecarbon INFO @ 06:38:38] [setup] CPU Tracking...\n",
      "[codecarbon WARNING @ 06:38:38] No CPU tracking mode found. Falling back on CPU constant mode.\n",
      "[codecarbon WARNING @ 06:38:39] We saw that you have a AMD EPYC 7452 32-Core Processor but we don't know it. Please contact us.\n",
      "[codecarbon INFO @ 06:38:39] CPU Model on constant consumption mode: AMD EPYC 7452 32-Core Processor\n",
      "[codecarbon INFO @ 06:38:39] >>> Tracker's metadata:\n",
      "[codecarbon INFO @ 06:38:39]   Platform system: Linux-5.14.0-284.30.1.el9_2.x86_64-x86_64-with-glibc2.34\n",
      "[codecarbon INFO @ 06:38:39]   Python version: 3.11.3\n",
      "[codecarbon INFO @ 06:38:39]   CodeCarbon version: 2.3.4\n",
      "[codecarbon INFO @ 06:38:39]   Available RAM : 64.000 GB\n",
      "[codecarbon INFO @ 06:38:39]   CPU count: 24\n",
      "[codecarbon INFO @ 06:38:39]   CPU model: AMD EPYC 7452 32-Core Processor\n",
      "[codecarbon INFO @ 06:38:39]   GPU count: 1\n",
      "[codecarbon INFO @ 06:38:39]   GPU model: 1 x NVIDIA GeForce RTX 3090\n"
     ]
    }
   ],
   "source": [
    "from codecarbon import EmissionsTracker\n",
    "import logging\n",
    "output_directory = \"/fp/homes01/u01/ec-krimhau/thesis_code/\"\n",
    "\n",
    "tracker = EmissionsTracker(output_dir=output_directory)\n",
    "tracker.start()"
   ]
  },
  {
   "cell_type": "code",
   "execution_count": 2,
   "id": "0327e264-b371-42d5-afa0-c46c53b0382f",
   "metadata": {},
   "outputs": [],
   "source": [
    "logging.getLogger('codecarbon').setLevel(logging.WARNING)"
   ]
  },
  {
   "cell_type": "markdown",
   "id": "4ad35c23",
   "metadata": {},
   "source": [
    "# Imports and setup"
   ]
  },
  {
   "cell_type": "code",
   "execution_count": 3,
   "id": "ac26d5cb-fc6b-4b1a-83bb-dbd1428303f4",
   "metadata": {},
   "outputs": [],
   "source": [
    "import sys\n",
    "# Need this to load the packages correc in Fox ml nodes.\n",
    "sys.path.append(\"/fp/homes01/u01/ec-krimhau/.local/lib/python3.11/site-packages\")"
   ]
  },
  {
   "cell_type": "code",
   "execution_count": 4,
   "id": "f8674f4c",
   "metadata": {},
   "outputs": [],
   "source": [
    "import os\n",
    "import gc\n",
    "import copy\n",
    "import time\n",
    "import random\n",
    "import string\n",
    "import joblib\n",
    "\n",
    "# For data manipulation\n",
    "import numpy as np\n",
    "import pandas as pd\n",
    "\n",
    "# Pytorch Imports\n",
    "import torch\n",
    "import torch.nn as nn\n",
    "import torch.optim as optim\n",
    "from torch.optim import lr_scheduler\n",
    "from torch.utils.data import Dataset, DataLoader\n",
    "\n",
    "# Utils\n",
    "from tqdm import tqdm\n",
    "from collections import defaultdict\n",
    "\n",
    "# Sklearn Imports\n",
    "from sklearn.preprocessing import LabelEncoder\n",
    "from sklearn.model_selection import GroupKFold, KFold\n",
    "\n",
    "# For Transformer Models\n",
    "from transformers import AutoTokenizer, AutoModel, AutoConfig, AdamW\n",
    "from transformers import DataCollatorWithPadding\n",
    "import datasets\n",
    "# For colored terminal text\n",
    "from colorama import Fore, Back, Style\n",
    "b_ = Fore.BLUE\n",
    "y_ = Fore.YELLOW\n",
    "sr_ = Style.RESET_ALL\n",
    "\n",
    "# Suppress warnings\n",
    "import warnings\n",
    "warnings.filterwarnings(\"ignore\")\n",
    "\n",
    "# For descriptive error messages\n",
    "os.environ['CUDA_LAUNCH_BLOCKING'] = \"1\"\n",
    "\n",
    "import wandb"
   ]
  },
  {
   "cell_type": "code",
   "execution_count": 5,
   "id": "315755f0-f5e7-403d-aaef-9e5181f97867",
   "metadata": {},
   "outputs": [],
   "source": [
    "# Load .env file\n",
    "%load_ext dotenv\n",
    "%dotenv /fp/homes01/u01/ec-krimhau/thesis_code/.env"
   ]
  },
  {
   "cell_type": "code",
   "execution_count": 6,
   "id": "2acc4972-259a-40ab-9c55-c8e8d5386dfb",
   "metadata": {},
   "outputs": [
    {
     "name": "stderr",
     "output_type": "stream",
     "text": [
      "Failed to detect the name of this notebook, you can set it manually with the WANDB_NOTEBOOK_NAME environment variable to enable code saving.\n",
      "\u001b[34m\u001b[1mwandb\u001b[0m: Currently logged in as: \u001b[33mhaugerud-kristian\u001b[0m (\u001b[33mkrimhau\u001b[0m). Use \u001b[1m`wandb login --relogin`\u001b[0m to force relogin\n",
      "\u001b[34m\u001b[1mwandb\u001b[0m: \u001b[33mWARNING\u001b[0m If you're specifying your api key in code, ensure this code is not shared publicly.\n",
      "\u001b[34m\u001b[1mwandb\u001b[0m: \u001b[33mWARNING\u001b[0m Consider setting the WANDB_API_KEY environment variable, or running `wandb login` from the command line.\n",
      "\u001b[34m\u001b[1mwandb\u001b[0m: Appending key for api.wandb.ai to your netrc file: /fp/homes01/u01/ec-krimhau/.netrc\n"
     ]
    },
    {
     "data": {
      "text/plain": [
       "True"
      ]
     },
     "execution_count": 6,
     "metadata": {},
     "output_type": "execute_result"
    }
   ],
   "source": [
    "# Get wandb api key from .env file\n",
    "wandb_api_key = os.getenv('WANDB_API_KEY')\n",
    "# Login to wandb to track results\n",
    "wandb.login(key = wandb_api_key) # API key"
   ]
  },
  {
   "cell_type": "code",
   "execution_count": 7,
   "id": "c7fcade8-1e6d-418a-acd1-c860be6c3c62",
   "metadata": {},
   "outputs": [
    {
     "name": "stdout",
     "output_type": "stream",
     "text": [
      "05wyh68d15r6\n"
     ]
    }
   ],
   "source": [
    "# Function to generate a unique random identifier for experiment tracking.\n",
    "def id_generator(size=12, chars=string.ascii_lowercase + string.digits):\n",
    "    return ''.join(random.SystemRandom().choice(chars) for _ in range(size))\n",
    "\n",
    "\n",
    "HASH_NAME = \"05wyh68d15r6\"\n",
    "print(HASH_NAME)"
   ]
  },
  {
   "cell_type": "code",
   "execution_count": 8,
   "id": "ec0aa632-8739-4e63-bde0-5f4fc123f891",
   "metadata": {},
   "outputs": [],
   "source": [
    "# Config for the model\n",
    "CONFIG = {\"seed\": 42,\n",
    "          \"epochs\": 3,\n",
    "          \"model_name\": \"microsoft/deberta-v3-base\",\n",
    "          \"train_batch_size\": 8,\n",
    "          \"valid_batch_size\": 16,\n",
    "          \"max_length\": 512,\n",
    "          \"learning_rate\": 1e-5,\n",
    "          \"scheduler\": 'CosineAnnealingLR',\n",
    "          \"min_lr\": 1e-6,\n",
    "          \"T_max\": 500,\n",
    "          \"weight_decay\": 1e-6,\n",
    "          \"n_fold\": 3,\n",
    "          \"n_accumulate\": 1,\n",
    "          \"num_classes\": 2,\n",
    "          \"device\": torch.device(\"cuda:0\" if torch.cuda.is_available() else \"cpu\"),\n",
    "          \"hash_name\": HASH_NAME,\n",
    "          \"_wandb_kernel\": \"deb\",\n",
    "          }\n",
    "\n",
    "CONFIG[\"tokenizer\"] = AutoTokenizer.from_pretrained(CONFIG['model_name'])\n",
    "CONFIG['group'] = f'{HASH_NAME}-Baseline'\n"
   ]
  },
  {
   "cell_type": "code",
   "execution_count": 9,
   "id": "31dc5cac-8438-438d-b45b-e2dab3b74949",
   "metadata": {},
   "outputs": [],
   "source": [
    "def set_seed(seed=42):\n",
    "    '''Sets the seed of the entire notebook so results are the same every time we run.\n",
    "    This is for REPRODUCIBILITY.'''\n",
    "    np.random.seed(seed)\n",
    "    torch.manual_seed(seed)\n",
    "    torch.cuda.manual_seed(seed)\n",
    "    # When running on the CuDNN backend, two further options must be set\n",
    "    torch.backends.cudnn.deterministic = True\n",
    "    torch.backends.cudnn.benchmark = False\n",
    "    # Set a fixed value for the hash seed\n",
    "    os.environ['PYTHONHASHSEED'] = str(seed)\n",
    "    \n",
    "set_seed(CONFIG['seed'])"
   ]
  },
  {
   "cell_type": "code",
   "execution_count": 10,
   "id": "5220e6af-9036-4a04-8808-b374d2c8728a",
   "metadata": {},
   "outputs": [],
   "source": [
    "# Splits the data into train and test. Validation is done using KFold.\n",
    "def train_test_split(df, train_percent=.85, seed=42):\n",
    "    np.random.seed(seed)\n",
    "    perm = np.random.permutation(df.index)\n",
    "    m = len(df.index)\n",
    "    train_end = int(train_percent * m)\n",
    "    train = df.iloc[perm[:train_end]]\n",
    "    test = df.iloc[perm[train_end:]]\n",
    "    return train, test"
   ]
  },
  {
   "cell_type": "code",
   "execution_count": 11,
   "id": "75ea89d7-0135-4f71-ba57-d03daa523c46",
   "metadata": {},
   "outputs": [
    {
     "name": "stdout",
     "output_type": "stream",
     "text": [
      "highest_high_vs_low_lowest_balanced_jira.csv\thigh_vs_rest\n",
      "highest_vs_lowest_balanced_jira.csv\t\tjira_clean_with_all_cols.csv\n",
      "highest_vs_rest_balanced_jira.csv\t\tjira_highest_high_vs_low_lowest\n",
      "highest_vs_rest_min_len_25th_balanced_jira.csv\tjira_highest_vs_lowest\n",
      "high_highest_vs_rest\t\t\t\ttestsets_clean\n"
     ]
    }
   ],
   "source": [
    "!ls /fp/projects01/ec307/ec-krimhau/jira_datasets"
   ]
  },
  {
   "cell_type": "code",
   "execution_count": 12,
   "id": "baa222ec-5e9d-454f-8e82-1bc8dbd54c35",
   "metadata": {},
   "outputs": [],
   "source": [
    "path_name = \"/fp/projects01/ec307/ec-krimhau/jira_datasets\"\n",
    "file_name = \"highest_high_vs_low_lowest_balanced_jira.csv\""
   ]
  },
  {
   "cell_type": "code",
   "execution_count": 13,
   "id": "08fbf305-6c3b-496b-9ffc-0fb43dca7010",
   "metadata": {},
   "outputs": [
    {
     "data": {
      "text/html": [
       "<div>\n",
       "<style scoped>\n",
       "    .dataframe tbody tr th:only-of-type {\n",
       "        vertical-align: middle;\n",
       "    }\n",
       "\n",
       "    .dataframe tbody tr th {\n",
       "        vertical-align: top;\n",
       "    }\n",
       "\n",
       "    .dataframe thead th {\n",
       "        text-align: right;\n",
       "    }\n",
       "</style>\n",
       "<table border=\"1\" class=\"dataframe\">\n",
       "  <thead>\n",
       "    <tr style=\"text-align: right;\">\n",
       "      <th></th>\n",
       "      <th>label</th>\n",
       "      <th>text</th>\n",
       "    </tr>\n",
       "  </thead>\n",
       "  <tbody>\n",
       "    <tr>\n",
       "      <th>0</th>\n",
       "      <td>1</td>\n",
       "      <td>we need to bump the version to example image e...</td>\n",
       "    </tr>\n",
       "    <tr>\n",
       "      <th>1</th>\n",
       "      <td>1</td>\n",
       "      <td>right now it is almost impossible to create se...</td>\n",
       "    </tr>\n",
       "    <tr>\n",
       "      <th>2</th>\n",
       "      <td>0</td>\n",
       "      <td>this is a followup of which contained two issu...</td>\n",
       "    </tr>\n",
       "    <tr>\n",
       "      <th>3</th>\n",
       "      <td>1</td>\n",
       "      <td>create a maven assembly to produce a zip file ...</td>\n",
       "    </tr>\n",
       "    <tr>\n",
       "      <th>4</th>\n",
       "      <td>0</td>\n",
       "      <td>suggestion slack bot that runs upstream should...</td>\n",
       "    </tr>\n",
       "    <tr>\n",
       "      <th>...</th>\n",
       "      <td>...</td>\n",
       "      <td>...</td>\n",
       "    </tr>\n",
       "    <tr>\n",
       "      <th>273519</th>\n",
       "      <td>1</td>\n",
       "      <td>noformatnopaneltrueexternalstestspy fileextern...</td>\n",
       "    </tr>\n",
       "    <tr>\n",
       "      <th>273520</th>\n",
       "      <td>0</td>\n",
       "      <td>when you browse the mbeans in jconsole both ac...</td>\n",
       "    </tr>\n",
       "    <tr>\n",
       "      <th>273521</th>\n",
       "      <td>1</td>\n",
       "      <td>after creating new instance from bare karaf in...</td>\n",
       "    </tr>\n",
       "    <tr>\n",
       "      <th>273522</th>\n",
       "      <td>0</td>\n",
       "      <td>im writing a method which is not existing yet ...</td>\n",
       "    </tr>\n",
       "    <tr>\n",
       "      <th>273523</th>\n",
       "      <td>1</td>\n",
       "      <td>pagerank input runs very slow and eventually f...</td>\n",
       "    </tr>\n",
       "  </tbody>\n",
       "</table>\n",
       "<p>273524 rows × 2 columns</p>\n",
       "</div>"
      ],
      "text/plain": [
       "        label                                               text\n",
       "0           1  we need to bump the version to example image e...\n",
       "1           1  right now it is almost impossible to create se...\n",
       "2           0  this is a followup of which contained two issu...\n",
       "3           1  create a maven assembly to produce a zip file ...\n",
       "4           0  suggestion slack bot that runs upstream should...\n",
       "...       ...                                                ...\n",
       "273519      1  noformatnopaneltrueexternalstestspy fileextern...\n",
       "273520      0  when you browse the mbeans in jconsole both ac...\n",
       "273521      1  after creating new instance from bare karaf in...\n",
       "273522      0  im writing a method which is not existing yet ...\n",
       "273523      1  pagerank input runs very slow and eventually f...\n",
       "\n",
       "[273524 rows x 2 columns]"
      ]
     },
     "execution_count": 13,
     "metadata": {},
     "output_type": "execute_result"
    }
   ],
   "source": [
    "import pandas as pd\n",
    "priority_df = pd.read_csv(f\"{path_name}/{file_name}\")\n",
    "priority_df"
   ]
  },
  {
   "cell_type": "code",
   "execution_count": 14,
   "id": "d1a098df-a892-430d-b7db-7534b1304e9e",
   "metadata": {},
   "outputs": [
    {
     "data": {
      "text/plain": [
       "label\n",
       "1    136762\n",
       "0    136762\n",
       "Name: count, dtype: int64"
      ]
     },
     "execution_count": 14,
     "metadata": {},
     "output_type": "execute_result"
    }
   ],
   "source": [
    "priority_df['label'].value_counts()"
   ]
  },
  {
   "cell_type": "code",
   "execution_count": 15,
   "id": "3035a1d7-60c2-4f20-b365-88b84858ce87",
   "metadata": {},
   "outputs": [
    {
     "data": {
      "text/plain": [
       "False"
      ]
     },
     "execution_count": 15,
     "metadata": {},
     "output_type": "execute_result"
    }
   ],
   "source": [
    "priority_df.isna().any().any()"
   ]
  },
  {
   "cell_type": "code",
   "execution_count": 16,
   "id": "abede05d-ccb8-427c-b64a-135ba811adb4",
   "metadata": {},
   "outputs": [],
   "source": [
    "train_hp_df , test_hp_df = train_test_split(priority_df)"
   ]
  },
  {
   "cell_type": "code",
   "execution_count": 17,
   "id": "d1b91f54",
   "metadata": {},
   "outputs": [],
   "source": [
    "df = train_hp_df"
   ]
  },
  {
   "cell_type": "code",
   "execution_count": 18,
   "id": "7fc38a0a-127a-4cd3-b48f-0b4396cfc4aa",
   "metadata": {},
   "outputs": [],
   "source": [
    "df.reset_index(inplace = True)"
   ]
  },
  {
   "cell_type": "code",
   "execution_count": 19,
   "id": "c81cfe39-f370-4899-be2e-e99acdcbff95",
   "metadata": {},
   "outputs": [],
   "source": [
    "df.drop(columns=[\"index\"], inplace=True)"
   ]
  },
  {
   "cell_type": "code",
   "execution_count": 20,
   "id": "b7a78193-7048-494e-bcb7-443982ffd50e",
   "metadata": {},
   "outputs": [
    {
     "data": {
      "text/html": [
       "<div>\n",
       "<style scoped>\n",
       "    .dataframe tbody tr th:only-of-type {\n",
       "        vertical-align: middle;\n",
       "    }\n",
       "\n",
       "    .dataframe tbody tr th {\n",
       "        vertical-align: top;\n",
       "    }\n",
       "\n",
       "    .dataframe thead th {\n",
       "        text-align: right;\n",
       "    }\n",
       "</style>\n",
       "<table border=\"1\" class=\"dataframe\">\n",
       "  <thead>\n",
       "    <tr style=\"text-align: right;\">\n",
       "      <th></th>\n",
       "      <th>label</th>\n",
       "      <th>text</th>\n",
       "    </tr>\n",
       "  </thead>\n",
       "  <tbody>\n",
       "    <tr>\n",
       "      <th>0</th>\n",
       "      <td>1</td>\n",
       "      <td>if an assessment contains an audio recording q...</td>\n",
       "    </tr>\n",
       "    <tr>\n",
       "      <th>1</th>\n",
       "      <td>0</td>\n",
       "      <td>click on student view tab the blue info box an...</td>\n",
       "    </tr>\n",
       "    <tr>\n",
       "      <th>2</th>\n",
       "      <td>0</td>\n",
       "      <td>after the start of trafodion the log filenames...</td>\n",
       "    </tr>\n",
       "    <tr>\n",
       "      <th>3</th>\n",
       "      <td>1</td>\n",
       "      <td>im getting eof reached before python server ac...</td>\n",
       "    </tr>\n",
       "    <tr>\n",
       "      <th>4</th>\n",
       "      <td>1</td>\n",
       "      <td>str deploy cluster try to add a new host only ...</td>\n",
       "    </tr>\n",
       "    <tr>\n",
       "      <th>...</th>\n",
       "      <td>...</td>\n",
       "      <td>...</td>\n",
       "    </tr>\n",
       "    <tr>\n",
       "      <th>232490</th>\n",
       "      <td>1</td>\n",
       "      <td>the filename in jpa changelog is invalidis be</td>\n",
       "    </tr>\n",
       "    <tr>\n",
       "      <th>232491</th>\n",
       "      <td>1</td>\n",
       "      <td>commonls chukwahomelibjar chukwahomehadoopjars...</td>\n",
       "    </tr>\n",
       "    <tr>\n",
       "      <th>232492</th>\n",
       "      <td>1</td>\n",
       "      <td>this is the sequence of default executor launc...</td>\n",
       "    </tr>\n",
       "    <tr>\n",
       "      <th>232493</th>\n",
       "      <td>1</td>\n",
       "      <td>after upgrading our app from to we got several...</td>\n",
       "    </tr>\n",
       "    <tr>\n",
       "      <th>232494</th>\n",
       "      <td>1</td>\n",
       "      <td>on the node cluster i attempted to do stopall ...</td>\n",
       "    </tr>\n",
       "  </tbody>\n",
       "</table>\n",
       "<p>232495 rows × 2 columns</p>\n",
       "</div>"
      ],
      "text/plain": [
       "        label                                               text\n",
       "0           1  if an assessment contains an audio recording q...\n",
       "1           0  click on student view tab the blue info box an...\n",
       "2           0  after the start of trafodion the log filenames...\n",
       "3           1  im getting eof reached before python server ac...\n",
       "4           1  str deploy cluster try to add a new host only ...\n",
       "...       ...                                                ...\n",
       "232490      1      the filename in jpa changelog is invalidis be\n",
       "232491      1  commonls chukwahomelibjar chukwahomehadoopjars...\n",
       "232492      1  this is the sequence of default executor launc...\n",
       "232493      1  after upgrading our app from to we got several...\n",
       "232494      1  on the node cluster i attempted to do stopall ...\n",
       "\n",
       "[232495 rows x 2 columns]"
      ]
     },
     "execution_count": 20,
     "metadata": {},
     "output_type": "execute_result"
    }
   ],
   "source": [
    "df"
   ]
  },
  {
   "cell_type": "code",
   "execution_count": 21,
   "id": "1902e2d0-9479-4a54-9148-7b6ddd0e44e1",
   "metadata": {},
   "outputs": [],
   "source": [
    "gkf = GroupKFold(n_splits=CONFIG['n_fold'])\n",
    "\n",
    "for fold, ( _, val_) in enumerate(gkf.split(X=df, groups=df.text)):\n",
    "    df.loc[val_ , \"kfold\"] = int(fold)\n",
    "    \n",
    "df[\"kfold\"] = df[\"kfold\"].astype(int)\n"
   ]
  },
  {
   "cell_type": "code",
   "execution_count": 22,
   "id": "60874b39-4bec-4d96-9973-01d6935693dd",
   "metadata": {},
   "outputs": [
    {
     "data": {
      "text/plain": [
       "kfold  label\n",
       "0      0        39268\n",
       "       1        38231\n",
       "1      1        38976\n",
       "       0        38522\n",
       "2      1        39131\n",
       "       0        38367\n",
       "Name: count, dtype: int64"
      ]
     },
     "execution_count": 22,
     "metadata": {},
     "output_type": "execute_result"
    }
   ],
   "source": [
    "df.groupby('kfold')['label'].value_counts()\n"
   ]
  },
  {
   "cell_type": "code",
   "execution_count": 23,
   "id": "455d058b-1561-4493-bd19-11cb59be06cb",
   "metadata": {},
   "outputs": [
    {
     "data": {
      "text/html": [
       "<div>\n",
       "<style scoped>\n",
       "    .dataframe tbody tr th:only-of-type {\n",
       "        vertical-align: middle;\n",
       "    }\n",
       "\n",
       "    .dataframe tbody tr th {\n",
       "        vertical-align: top;\n",
       "    }\n",
       "\n",
       "    .dataframe thead th {\n",
       "        text-align: right;\n",
       "    }\n",
       "</style>\n",
       "<table border=\"1\" class=\"dataframe\">\n",
       "  <thead>\n",
       "    <tr style=\"text-align: right;\">\n",
       "      <th></th>\n",
       "      <th>label</th>\n",
       "      <th>text</th>\n",
       "      <th>kfold</th>\n",
       "    </tr>\n",
       "  </thead>\n",
       "  <tbody>\n",
       "    <tr>\n",
       "      <th>0</th>\n",
       "      <td>1</td>\n",
       "      <td>if an assessment contains an audio recording q...</td>\n",
       "      <td>1</td>\n",
       "    </tr>\n",
       "    <tr>\n",
       "      <th>1</th>\n",
       "      <td>0</td>\n",
       "      <td>click on student view tab the blue info box an...</td>\n",
       "      <td>2</td>\n",
       "    </tr>\n",
       "    <tr>\n",
       "      <th>2</th>\n",
       "      <td>0</td>\n",
       "      <td>after the start of trafodion the log filenames...</td>\n",
       "      <td>2</td>\n",
       "    </tr>\n",
       "    <tr>\n",
       "      <th>3</th>\n",
       "      <td>1</td>\n",
       "      <td>im getting eof reached before python server ac...</td>\n",
       "      <td>1</td>\n",
       "    </tr>\n",
       "    <tr>\n",
       "      <th>4</th>\n",
       "      <td>1</td>\n",
       "      <td>str deploy cluster try to add a new host only ...</td>\n",
       "      <td>0</td>\n",
       "    </tr>\n",
       "    <tr>\n",
       "      <th>...</th>\n",
       "      <td>...</td>\n",
       "      <td>...</td>\n",
       "      <td>...</td>\n",
       "    </tr>\n",
       "    <tr>\n",
       "      <th>232490</th>\n",
       "      <td>1</td>\n",
       "      <td>the filename in jpa changelog is invalidis be</td>\n",
       "      <td>2</td>\n",
       "    </tr>\n",
       "    <tr>\n",
       "      <th>232491</th>\n",
       "      <td>1</td>\n",
       "      <td>commonls chukwahomelibjar chukwahomehadoopjars...</td>\n",
       "      <td>1</td>\n",
       "    </tr>\n",
       "    <tr>\n",
       "      <th>232492</th>\n",
       "      <td>1</td>\n",
       "      <td>this is the sequence of default executor launc...</td>\n",
       "      <td>0</td>\n",
       "    </tr>\n",
       "    <tr>\n",
       "      <th>232493</th>\n",
       "      <td>1</td>\n",
       "      <td>after upgrading our app from to we got several...</td>\n",
       "      <td>1</td>\n",
       "    </tr>\n",
       "    <tr>\n",
       "      <th>232494</th>\n",
       "      <td>1</td>\n",
       "      <td>on the node cluster i attempted to do stopall ...</td>\n",
       "      <td>1</td>\n",
       "    </tr>\n",
       "  </tbody>\n",
       "</table>\n",
       "<p>232495 rows × 3 columns</p>\n",
       "</div>"
      ],
      "text/plain": [
       "        label                                               text  kfold\n",
       "0           1  if an assessment contains an audio recording q...      1\n",
       "1           0  click on student view tab the blue info box an...      2\n",
       "2           0  after the start of trafodion the log filenames...      2\n",
       "3           1  im getting eof reached before python server ac...      1\n",
       "4           1  str deploy cluster try to add a new host only ...      0\n",
       "...       ...                                                ...    ...\n",
       "232490      1      the filename in jpa changelog is invalidis be      2\n",
       "232491      1  commonls chukwahomelibjar chukwahomehadoopjars...      1\n",
       "232492      1  this is the sequence of default executor launc...      0\n",
       "232493      1  after upgrading our app from to we got several...      1\n",
       "232494      1  on the node cluster i attempted to do stopall ...      1\n",
       "\n",
       "[232495 rows x 3 columns]"
      ]
     },
     "execution_count": 23,
     "metadata": {},
     "output_type": "execute_result"
    }
   ],
   "source": [
    "df"
   ]
  },
  {
   "cell_type": "code",
   "execution_count": 24,
   "id": "e2e6cfb2-d1e2-4ef8-8694-2d18e56296a1",
   "metadata": {},
   "outputs": [],
   "source": [
    "class HP_Dataset(Dataset):\n",
    "    def __init__(self, df, tokenizer, max_length):\n",
    "        self.df = df\n",
    "        self.max_len = max_length\n",
    "        self.tokenizer = tokenizer\n",
    "        self.text = df['text'].values\n",
    "        self.targets = df['label'].values\n",
    "        \n",
    "    def __len__(self):\n",
    "        return len(self.df)\n",
    "    \n",
    "    def __getitem__(self, index):\n",
    "        text = self.text[index]\n",
    "        inputs = self.tokenizer.encode_plus(\n",
    "                        text,\n",
    "                        truncation=True,\n",
    "                        add_special_tokens=True,\n",
    "                        max_length=self.max_len\n",
    "                    )\n",
    "        \n",
    "        return {\n",
    "            'input_ids': inputs['input_ids'],\n",
    "            'attention_mask': inputs['attention_mask'],\n",
    "            'target': self.targets[index]\n",
    "        }"
   ]
  },
  {
   "cell_type": "code",
   "execution_count": 25,
   "id": "dbc28466-4efa-44b1-9486-63cc0b2d7c77",
   "metadata": {},
   "outputs": [],
   "source": [
    "collate_fn = DataCollatorWithPadding(tokenizer=CONFIG['tokenizer'])\n"
   ]
  },
  {
   "cell_type": "code",
   "execution_count": 26,
   "id": "d739c680-fc15-4d64-8cf4-8902174dfe12",
   "metadata": {},
   "outputs": [],
   "source": [
    "class MeanPooling(nn.Module):\n",
    "    def __init__(self):\n",
    "        super(MeanPooling, self).__init__()\n",
    "        \n",
    "    def forward(self, last_hidden_state, attention_mask):\n",
    "        input_mask_expanded = attention_mask.unsqueeze(-1).expand(last_hidden_state.size()).float()\n",
    "        sum_embeddings = torch.sum(last_hidden_state * input_mask_expanded, 1)\n",
    "        sum_mask = input_mask_expanded.sum(1)\n",
    "        sum_mask = torch.clamp(sum_mask, min=1e-9)\n",
    "        mean_embeddings = sum_embeddings / sum_mask\n",
    "        return mean_embeddings"
   ]
  },
  {
   "cell_type": "code",
   "execution_count": 27,
   "id": "dba820b1-375c-4a0c-970a-fd554c94ace3",
   "metadata": {},
   "outputs": [],
   "source": [
    "class HP_Model(nn.Module):\n",
    "    def __init__(self, model_name):\n",
    "        super(HP_Model, self).__init__()\n",
    "        self.model = AutoModel.from_pretrained(model_name)\n",
    "        self.config = AutoConfig.from_pretrained(model_name)\n",
    "        self.drop = nn.Dropout(p=0.2)\n",
    "        self.pooler = MeanPooling()\n",
    "        self.fc = nn.Linear(self.config.hidden_size, CONFIG['num_classes'])\n",
    "        \n",
    "    def forward(self, ids, mask):        \n",
    "        out = self.model(input_ids=ids,attention_mask=mask,\n",
    "                         output_hidden_states=False)\n",
    "        out = self.pooler(out.last_hidden_state, mask)\n",
    "        out = self.drop(out)\n",
    "        outputs = self.fc(out)\n",
    "        return outputs"
   ]
  },
  {
   "cell_type": "code",
   "execution_count": 28,
   "id": "1abf13ca-1c86-4cfe-9955-3ff4d0cafe56",
   "metadata": {},
   "outputs": [],
   "source": [
    "def criterion(outputs, labels):\n",
    "    return nn.CrossEntropyLoss()(outputs, labels)"
   ]
  },
  {
   "cell_type": "code",
   "execution_count": 29,
   "id": "013d660f-6376-45cf-9c52-2de074708b50",
   "metadata": {},
   "outputs": [],
   "source": [
    "def train_one_epoch(model, optimizer, scheduler, dataloader, device, epoch):\n",
    "    model.train()\n",
    "    \n",
    "    dataset_size = 0\n",
    "    running_loss = 0.0\n",
    "    \n",
    "    bar = tqdm(enumerate(dataloader), total=len(dataloader))\n",
    "    for step, data in bar:\n",
    "        ids = data['input_ids'].to(device, dtype = torch.long)\n",
    "        mask = data['attention_mask'].to(device, dtype = torch.long)\n",
    "        targets = data['target'].to(device, dtype=torch.long)\n",
    "        \n",
    "        batch_size = ids.size(0)\n",
    "\n",
    "        outputs = model(ids, mask)\n",
    "        \n",
    "        loss = criterion(outputs, targets)\n",
    "        loss = loss / CONFIG['n_accumulate']\n",
    "        loss.backward()\n",
    "    \n",
    "        if (step + 1) % CONFIG['n_accumulate'] == 0:\n",
    "            optimizer.step()\n",
    "\n",
    "            # zero the parameter gradients\n",
    "            optimizer.zero_grad()\n",
    "\n",
    "            if scheduler is not None:\n",
    "                scheduler.step()\n",
    "                \n",
    "        running_loss += (loss.item() * batch_size)\n",
    "        dataset_size += batch_size\n",
    "        \n",
    "        epoch_loss = running_loss / dataset_size\n",
    "        \n",
    "        bar.set_postfix(Epoch=epoch, Train_Loss=epoch_loss,\n",
    "                        LR=optimizer.param_groups[0]['lr'])\n",
    "    gc.collect()\n",
    "    \n",
    "    return epoch_loss"
   ]
  },
  {
   "cell_type": "code",
   "execution_count": 30,
   "id": "77809ed9-c4a1-436f-9bc5-d806ffe6d93e",
   "metadata": {},
   "outputs": [],
   "source": [
    "import seaborn as sns\n",
    "import matplotlib.pyplot as plt\n",
    "from sklearn.metrics import confusion_matrix\n",
    "from sklearn.metrics import classification_report\n",
    "from sklearn.metrics import f1_score\n",
    "from sklearn.metrics import accuracy_score\n",
    "\n"
   ]
  },
  {
   "cell_type": "code",
   "execution_count": 31,
   "id": "2df79ea9-afa8-4de5-a84b-d6dfdc826ff8",
   "metadata": {},
   "outputs": [],
   "source": [
    "def all_classification_report(y_true, y_pred, target_names = ['Non_HP', 'HP'], digits=4):\n",
    "    \n",
    "    print('Classification Report:')\n",
    "    print(classification_report(y_true, y_pred, target_names = target_names, digits=4))\n",
    "    \n",
    "    accuracy =round(accuracy_score(y_true, y_pred),4)\n",
    "    print(\"Accuracy =\",  accuracy)\n",
    "    f1score = round(f1_score(y_true, y_pred),4)\n",
    "    print(\"F1_score =\", f1score)\n",
    "\n",
    "    cm = confusion_matrix(y_true, y_pred, labels=[1,0])\n",
    "    ax= plt.subplot()\n",
    "    sns.heatmap(cm, annot=True, ax = ax, cmap='Blues', fmt=\"d\")\n",
    "\n",
    "    ax.set_title('Confusion Matrix')\n",
    "\n",
    "    ax.set_xlabel('Predicted Labels')\n",
    "    ax.set_ylabel('True Labels')\n",
    "\n",
    "    ax.xaxis.set_ticklabels(['Non_HP', 'HP'])\n",
    "    ax.yaxis.set_ticklabels(['Non_HP', 'HP'])\n",
    "    \n",
    "    return  accuracy , f1score\n",
    "    \n",
    "    "
   ]
  },
  {
   "cell_type": "code",
   "execution_count": 32,
   "id": "c0633e6f-e935-4b94-853b-f3ef01cf97a2",
   "metadata": {},
   "outputs": [],
   "source": [
    "@torch.no_grad()\n",
    "def valid_one_epoch(model, dataloader, device, epoch):\n",
    "    model.eval()\n",
    "    dataset_size = 0\n",
    "    running_loss = 0.0\n",
    "    \n",
    "    y_pred = []\n",
    "    y_true = []\n",
    "    \n",
    "    bar = tqdm(enumerate(dataloader), total=len(dataloader))\n",
    "    for step, data in bar:        \n",
    "        ids = data['input_ids'].to(device, dtype = torch.long)\n",
    "        mask = data['attention_mask'].to(device, dtype = torch.long)\n",
    "        targets = data['target'].to(device, dtype=torch.long)\n",
    "        \n",
    "        batch_size = ids.size(0)\n",
    "\n",
    "        outputs = model(ids, mask)\n",
    "        \n",
    "        loss = criterion(outputs, targets)\n",
    "        \n",
    "\n",
    "        predictions = torch.argmax(outputs, dim=-1).flatten().tolist()\n",
    "        \n",
    "        target = targets.tolist()\n",
    "\n",
    "        y_pred.extend(predictions)\n",
    "        y_true.extend(target)\n",
    "        running_loss += (loss.item() * batch_size)\n",
    "        dataset_size += batch_size\n",
    "        \n",
    "        epoch_loss = running_loss / dataset_size\n",
    "        \n",
    "        bar.set_postfix(Epoch=epoch, Valid_Loss=epoch_loss,LR=optimizer.param_groups[0]['lr'])   \n",
    "    \n",
    "    \n",
    "    accuracy, f1score = all_classification_report(y_true,y_pred)\n",
    "    gc.collect()\n",
    "    \n",
    "    return epoch_loss , accuracy , f1score"
   ]
  },
  {
   "cell_type": "code",
   "execution_count": 33,
   "id": "e2a01d01-3b43-4723-9874-43b38ffcbdc4",
   "metadata": {},
   "outputs": [],
   "source": [
    "def run_training(model, optimizer, scheduler, device, num_epochs, fold):\n",
    "    # To automatically log gradients\n",
    "    wandb.watch(model, log_freq=100)\n",
    "    \n",
    "    if torch.cuda.is_available():\n",
    "        print(\"[INFO] Using GPU: {}\\n\".format(torch.cuda.get_device_name()))\n",
    "    \n",
    "    start = time.time()\n",
    "    best_model_wts = copy.deepcopy(model.state_dict())\n",
    "    best_epoch_loss = np.inf\n",
    "    history = defaultdict(list)\n",
    "    \n",
    "    for epoch in range(1, num_epochs + 1): \n",
    "        gc.collect()\n",
    "        train_epoch_loss = train_one_epoch(model, optimizer, scheduler, \n",
    "                                           dataloader=train_loader, \n",
    "                                           device=CONFIG['device'], epoch=epoch)\n",
    "        \n",
    "        val_epoch_loss, accuracy , f1score = valid_one_epoch(model, valid_loader, device=CONFIG['device'], \n",
    "                                         epoch=epoch)\n",
    "    \n",
    "        history['Train Loss'].append(train_epoch_loss)\n",
    "        history['Valid Loss'].append(val_epoch_loss)\n",
    "      \n",
    "        history['Valid accuracy'].append(accuracy)\n",
    "        history['Valid f1score'].append(f1score)\n",
    "\n",
    "\n",
    "\n",
    "        \n",
    "        # Log the metrics\n",
    "        wandb.log({\"Train Loss\": train_epoch_loss})\n",
    "        wandb.log({\"Valid Loss\": val_epoch_loss})\n",
    "        wandb.log({\"Valid Accuracy\": accuracy})\n",
    "        wandb.log({\"Valid F1_score\": f1score})\n",
    "\n",
    "\n",
    "        \n",
    "        # deep copy the model\n",
    "        if val_epoch_loss <= best_epoch_loss:\n",
    "            print(f\"{b_}Validation Loss Improved ({best_epoch_loss} ---> {val_epoch_loss})\")\n",
    "            best_epoch_loss = val_epoch_loss\n",
    "            run.summary[\"Best Loss\"] = best_epoch_loss\n",
    "            best_model_wts = copy.deepcopy(model.state_dict())\n",
    "            PATH = f\"{HASH_NAME}-Loss-Fold-{fold}.bin\"\n",
    "            torch.save(model.state_dict(), PATH)\n",
    "            # Save a model file from the current directory\n",
    "            print(f\"Model Saved{sr_}\")\n",
    "            \n",
    "        print()\n",
    "    \n",
    "    end = time.time()\n",
    "    time_elapsed = end - start\n",
    "    print('Training complete in {:.0f}h {:.0f}m {:.0f}s'.format(\n",
    "        time_elapsed // 3600, (time_elapsed % 3600) // 60, (time_elapsed % 3600) % 60))\n",
    "    print(\"Best Loss: {:.4f}\".format(best_epoch_loss))\n",
    "    \n",
    "    # load best model weights\n",
    "    model.load_state_dict(best_model_wts)\n",
    "    \n",
    "    return model, history\n"
   ]
  },
  {
   "cell_type": "code",
   "execution_count": 34,
   "id": "7ac45314-e0b4-4150-8e2a-06beba582112",
   "metadata": {},
   "outputs": [],
   "source": [
    "def prepare_loaders(fold):\n",
    "    df_train = df[df.kfold != fold].reset_index(drop=True)\n",
    "    df_valid = df[df.kfold == fold].reset_index(drop=True)\n",
    "    \n",
    "    train_dataset = HP_Dataset(df_train, tokenizer=CONFIG['tokenizer'], max_length=CONFIG['max_length'])\n",
    "    valid_dataset = HP_Dataset(df_valid, tokenizer=CONFIG['tokenizer'], max_length=CONFIG['max_length'])\n",
    "\n",
    "    train_loader = DataLoader(train_dataset, batch_size=CONFIG['train_batch_size'], collate_fn=collate_fn, \n",
    "                              num_workers=2, shuffle=True, pin_memory=True, drop_last=True)\n",
    "    valid_loader = DataLoader(valid_dataset, batch_size=CONFIG['valid_batch_size'], collate_fn=collate_fn,\n",
    "                              num_workers=2, shuffle=False, pin_memory=True)\n",
    "    \n",
    "    return train_loader, valid_loader"
   ]
  },
  {
   "cell_type": "code",
   "execution_count": 35,
   "id": "b3b81685-ab3f-47ca-b1de-86dc9d79fe16",
   "metadata": {},
   "outputs": [],
   "source": [
    "def fetch_scheduler(optimizer):\n",
    "    if CONFIG['scheduler'] == 'CosineAnnealingLR':\n",
    "        scheduler = lr_scheduler.CosineAnnealingLR(optimizer,T_max=CONFIG['T_max'], \n",
    "                                                   eta_min=CONFIG['min_lr'])\n",
    "    elif CONFIG['scheduler'] == 'CosineAnnealingWarmRestarts':\n",
    "        scheduler = lr_scheduler.CosineAnnealingWarmRestarts(optimizer,T_0=CONFIG['T_0'], \n",
    "                                                             eta_min=CONFIG['min_lr'])\n",
    "    elif CONFIG['scheduler'] == None:\n",
    "        return None\n",
    "        \n",
    "    return scheduler"
   ]
  },
  {
   "cell_type": "markdown",
   "id": "f151c433",
   "metadata": {},
   "source": [
    "<h2> Testing Inference </h2>\n"
   ]
  },
  {
   "cell_type": "code",
   "execution_count": 36,
   "id": "c8f36497-0ef8-4e3c-8c9e-50c92b92e7a3",
   "metadata": {},
   "outputs": [],
   "source": [
    "import warnings,transformers,logging,torch\n",
    "\n",
    "warnings.simplefilter('ignore')\n",
    "logging.disable(logging.WARNING)"
   ]
  },
  {
   "cell_type": "code",
   "execution_count": 37,
   "id": "1b25e683-7c36-487f-ba36-905d9b04ba13",
   "metadata": {},
   "outputs": [],
   "source": [
    "test_df = test_hp_df"
   ]
  },
  {
   "cell_type": "code",
   "execution_count": 38,
   "id": "f6be00e4-81ad-4264-b42a-afff577eff59",
   "metadata": {},
   "outputs": [
    {
     "data": {
      "text/html": [
       "<div>\n",
       "<style scoped>\n",
       "    .dataframe tbody tr th:only-of-type {\n",
       "        vertical-align: middle;\n",
       "    }\n",
       "\n",
       "    .dataframe tbody tr th {\n",
       "        vertical-align: top;\n",
       "    }\n",
       "\n",
       "    .dataframe thead th {\n",
       "        text-align: right;\n",
       "    }\n",
       "</style>\n",
       "<table border=\"1\" class=\"dataframe\">\n",
       "  <thead>\n",
       "    <tr style=\"text-align: right;\">\n",
       "      <th></th>\n",
       "      <th>label</th>\n",
       "      <th>text</th>\n",
       "    </tr>\n",
       "  </thead>\n",
       "  <tbody>\n",
       "    <tr>\n",
       "      <th>230243</th>\n",
       "      <td>0</td>\n",
       "      <td>to give a pool the correct size it is mandator...</td>\n",
       "    </tr>\n",
       "    <tr>\n",
       "      <th>49775</th>\n",
       "      <td>0</td>\n",
       "      <td>repositoryinterfaceawarebeanpostprocessorpredi...</td>\n",
       "    </tr>\n",
       "    <tr>\n",
       "      <th>58433</th>\n",
       "      <td>0</td>\n",
       "      <td>when trying to use the backslashbackslash esca...</td>\n",
       "    </tr>\n",
       "    <tr>\n",
       "      <th>159647</th>\n",
       "      <td>1</td>\n",
       "      <td>i am writing a decoder to decode and print out...</td>\n",
       "    </tr>\n",
       "    <tr>\n",
       "      <th>26430</th>\n",
       "      <td>0</td>\n",
       "      <td>steps to open the html file in the attached zi...</td>\n",
       "    </tr>\n",
       "    <tr>\n",
       "      <th>...</th>\n",
       "      <td>...</td>\n",
       "      <td>...</td>\n",
       "    </tr>\n",
       "    <tr>\n",
       "      <th>119879</th>\n",
       "      <td>0</td>\n",
       "      <td>the defaultparameterparser does not decode car...</td>\n",
       "    </tr>\n",
       "    <tr>\n",
       "      <th>259178</th>\n",
       "      <td>0</td>\n",
       "      <td>new hybrid mobile projects should support temp...</td>\n",
       "    </tr>\n",
       "    <tr>\n",
       "      <th>131932</th>\n",
       "      <td>0</td>\n",
       "      <td>consider the following query codesql select fr...</td>\n",
       "    </tr>\n",
       "    <tr>\n",
       "      <th>146867</th>\n",
       "      <td>1</td>\n",
       "      <td>hiin our multimodules project we have added a ...</td>\n",
       "    </tr>\n",
       "    <tr>\n",
       "      <th>121958</th>\n",
       "      <td>1</td>\n",
       "      <td>it seems that property access via categories i...</td>\n",
       "    </tr>\n",
       "  </tbody>\n",
       "</table>\n",
       "<p>41029 rows × 2 columns</p>\n",
       "</div>"
      ],
      "text/plain": [
       "        label                                               text\n",
       "230243      0  to give a pool the correct size it is mandator...\n",
       "49775       0  repositoryinterfaceawarebeanpostprocessorpredi...\n",
       "58433       0  when trying to use the backslashbackslash esca...\n",
       "159647      1  i am writing a decoder to decode and print out...\n",
       "26430       0  steps to open the html file in the attached zi...\n",
       "...       ...                                                ...\n",
       "119879      0  the defaultparameterparser does not decode car...\n",
       "259178      0  new hybrid mobile projects should support temp...\n",
       "131932      0  consider the following query codesql select fr...\n",
       "146867      1  hiin our multimodules project we have added a ...\n",
       "121958      1  it seems that property access via categories i...\n",
       "\n",
       "[41029 rows x 2 columns]"
      ]
     },
     "execution_count": 38,
     "metadata": {},
     "output_type": "execute_result"
    }
   ],
   "source": [
    "test_df"
   ]
  },
  {
   "cell_type": "code",
   "execution_count": 39,
   "id": "690f08dd-983c-429c-a6b4-86c20e540b21",
   "metadata": {},
   "outputs": [],
   "source": [
    "class HP_TestDataset(Dataset):\n",
    "    def __init__(self, df, tokenizer, max_length):\n",
    "        self.df = df\n",
    "        self.max_len = max_length\n",
    "        self.tokenizer = tokenizer\n",
    "        self.text = df['text'].values\n",
    "        \n",
    "    def __len__(self):\n",
    "        return len(self.df)\n",
    "    \n",
    "    def __getitem__(self, index):\n",
    "        text = self.text[index]\n",
    "        inputs = self.tokenizer.encode_plus(\n",
    "                        text,\n",
    "                        truncation=True,\n",
    "                        add_special_tokens=True,\n",
    "                        max_length=self.max_len\n",
    "                    )\n",
    "        \n",
    "        samples = {\n",
    "            'input_ids': inputs['input_ids'],\n",
    "            'attention_mask': inputs['attention_mask'],\n",
    "            \n",
    "        }\n",
    "\n",
    "        if 'token_type_ids' in inputs:\n",
    "            samples['token_type_ids'] = inputs['token_type_ids']\n",
    "        \n",
    "        return samples"
   ]
  },
  {
   "cell_type": "code",
   "execution_count": 40,
   "id": "b437f36d-a3a6-4690-a4c5-7c8567b184c8",
   "metadata": {},
   "outputs": [],
   "source": [
    "collate_fn = DataCollatorWithPadding(tokenizer=CONFIG['tokenizer'])\n",
    "\n",
    "softmax = nn.Softmax(dim=1)\n",
    "model = HP_Model(CONFIG['model_name'])"
   ]
  },
  {
   "cell_type": "code",
   "execution_count": 41,
   "id": "c310d8ae-a37e-4eec-84ab-75cf6273df04",
   "metadata": {},
   "outputs": [],
   "source": [
    "def prepare_test_loader(test_df):    \n",
    "    test_dataset = HP_TestDataset(test_df, \n",
    "                                   tokenizer=CONFIG['tokenizer'], \n",
    "                                   max_length=CONFIG['max_length'])\n",
    "    \n",
    "    test_loader = DataLoader(test_dataset, \n",
    "                             batch_size=CONFIG['valid_batch_size'], \n",
    "                             collate_fn=collate_fn, \n",
    "                             num_workers=2, \n",
    "                             shuffle=False, \n",
    "                             pin_memory=True, \n",
    "                             drop_last=False)\n",
    "    return test_loader\n",
    "\n",
    "test_loader = prepare_test_loader(test_df)"
   ]
  },
  {
   "cell_type": "code",
   "execution_count": 42,
   "id": "42c35623-2819-4bad-a2bc-6fde708a1420",
   "metadata": {},
   "outputs": [],
   "source": [
    "@torch.no_grad()\n",
    "def inference(test_loader, model, device):\n",
    "    preds = []\n",
    "    preds_target = []\n",
    "    model.eval()\n",
    "    model.to(device)\n",
    "    \n",
    "    bar = tqdm(enumerate(test_loader), total=len(test_loader))\n",
    "    \n",
    "    for step, data in bar: \n",
    "        ids = data['input_ids'].to(device, dtype = torch.long)\n",
    "        mask = data['attention_mask'].to(device, dtype = torch.long)\n",
    "        \n",
    "        output = model(ids, mask)\n",
    "        y_preds = softmax(torch.tensor(output.to('cpu'))).numpy()\n",
    "        pred_target = torch.argmax(output, dim=-1).flatten().tolist()\n",
    "        \n",
    "        preds.append(y_preds)\n",
    "        preds_target.append(pred_target) \n",
    "    predictions = np.concatenate(preds)\n",
    "    predictions_label = np.concatenate(preds_target)\n",
    "    return predictions , predictions_label"
   ]
  },
  {
   "cell_type": "code",
   "execution_count": 43,
   "id": "601c0907-fc9a-4ede-9836-ed7df661b947",
   "metadata": {},
   "outputs": [
    {
     "name": "stdout",
     "output_type": "stream",
     "text": [
      "Fold 0\n"
     ]
    },
    {
     "name": "stderr",
     "output_type": "stream",
     "text": [
      "100%|██████████| 2565/2565 [05:31<00:00,  7.74it/s]\n"
     ]
    },
    {
     "name": "stdout",
     "output_type": "stream",
     "text": [
      "Fold 1\n"
     ]
    },
    {
     "name": "stderr",
     "output_type": "stream",
     "text": [
      "100%|██████████| 2565/2565 [05:31<00:00,  7.75it/s]\n"
     ]
    },
    {
     "name": "stdout",
     "output_type": "stream",
     "text": [
      "Fold 2\n"
     ]
    },
    {
     "name": "stderr",
     "output_type": "stream",
     "text": [
      "100%|██████████| 2565/2565 [05:31<00:00,  7.75it/s]\n"
     ]
    }
   ],
   "source": [
    "deberta_predictions = []\n",
    "deberta_predictions_labels = []\n",
    "\n",
    "\n",
    "\n",
    "for fold in range(0, CONFIG['n_fold']):\n",
    "    print(\"Fold {}\".format(fold))\n",
    "    \n",
    "    state = torch.load(f'{HASH_NAME}-Loss-Fold-{fold}.bin')\n",
    "    model.load_state_dict(state)\n",
    "    \n",
    "    prediction, predictions_label = inference(test_loader, model, CONFIG['device'])\n",
    "    deberta_predictions.append(prediction)\n",
    "    deberta_predictions_labels.append(predictions_label)\n",
    "    del state, prediction; gc.collect()\n",
    "    torch.cuda.empty_cache()\n",
    "del model"
   ]
  },
  {
   "cell_type": "code",
   "execution_count": 44,
   "id": "b89ee418-5404-468e-88bd-18913c2d3da5",
   "metadata": {},
   "outputs": [
    {
     "data": {
      "text/plain": [
       "[array([[0.6421475 , 0.35785255],\n",
       "        [0.9346304 , 0.06536961],\n",
       "        [0.51164633, 0.4883537 ],\n",
       "        ...,\n",
       "        [0.48352957, 0.5164704 ],\n",
       "        [0.57484627, 0.42515373],\n",
       "        [0.23657575, 0.7634243 ]], dtype=float32),\n",
       " array([[0.71826375, 0.28173622],\n",
       "        [0.92294353, 0.07705648],\n",
       "        [0.7317419 , 0.2682581 ],\n",
       "        ...,\n",
       "        [0.13836133, 0.86163867],\n",
       "        [0.2925457 , 0.70745426],\n",
       "        [0.02743321, 0.9725667 ]], dtype=float32),\n",
       " array([[0.5754708 , 0.4245292 ],\n",
       "        [0.8921012 , 0.10789876],\n",
       "        [0.49810943, 0.50189054],\n",
       "        ...,\n",
       "        [0.24139804, 0.758602  ],\n",
       "        [0.35691035, 0.64308965],\n",
       "        [0.16152562, 0.83847445]], dtype=float32)]"
      ]
     },
     "execution_count": 44,
     "metadata": {},
     "output_type": "execute_result"
    }
   ],
   "source": [
    "deberta_predictions\n"
   ]
  },
  {
   "cell_type": "code",
   "execution_count": 45,
   "id": "036a364a-2e0f-4b27-9f77-c2925d3ce2e6",
   "metadata": {},
   "outputs": [
    {
     "data": {
      "text/plain": [
       "array([[0.645294  , 0.35470596],\n",
       "       [0.91655844, 0.08344162],\n",
       "       [0.58049923, 0.4195008 ],\n",
       "       ...,\n",
       "       [0.28776297, 0.71223706],\n",
       "       [0.40810075, 0.5918992 ],\n",
       "       [0.14184487, 0.8581552 ]], dtype=float32)"
      ]
     },
     "execution_count": 45,
     "metadata": {},
     "output_type": "execute_result"
    }
   ],
   "source": [
    "predictions = np.mean(deberta_predictions, axis=0)\n",
    "predictions"
   ]
  },
  {
   "cell_type": "code",
   "execution_count": 46,
   "id": "cc393a64-0fb7-4f65-a69a-bdccddf89edb",
   "metadata": {},
   "outputs": [
    {
     "data": {
      "text/plain": [
       "41029"
      ]
     },
     "execution_count": 46,
     "metadata": {},
     "output_type": "execute_result"
    }
   ],
   "source": [
    "len(predictions)"
   ]
  },
  {
   "cell_type": "code",
   "execution_count": 47,
   "id": "b3348dbf-e8d9-46c0-be55-89592c29445e",
   "metadata": {},
   "outputs": [
    {
     "data": {
      "text/plain": [
       "array([[0.645294  , 0.35470596],\n",
       "       [0.91655844, 0.08344162],\n",
       "       [0.58049923, 0.4195008 ],\n",
       "       ...,\n",
       "       [0.28776297, 0.71223706],\n",
       "       [0.40810075, 0.5918992 ],\n",
       "       [0.14184487, 0.8581552 ]], dtype=float32)"
      ]
     },
     "execution_count": 47,
     "metadata": {},
     "output_type": "execute_result"
    }
   ],
   "source": [
    "predictions"
   ]
  },
  {
   "cell_type": "code",
   "execution_count": 48,
   "id": "94b2a1d7-8f4e-417d-9e02-570d4107feda",
   "metadata": {},
   "outputs": [],
   "source": [
    "test_df[\"prediction_0\"] = predictions[:, 0] "
   ]
  },
  {
   "cell_type": "code",
   "execution_count": 49,
   "id": "1b4c2333-024e-47ca-8828-5c5d19ad07cb",
   "metadata": {},
   "outputs": [],
   "source": [
    "test_df[\"prediction_1\"] = predictions[:, 1] "
   ]
  },
  {
   "cell_type": "code",
   "execution_count": 50,
   "id": "78b2fb4c-ec25-4df0-9d25-c2db6e09e6b1",
   "metadata": {},
   "outputs": [],
   "source": [
    "for i in range(0, CONFIG['n_fold']):\n",
    "\n",
    "    test_df[f\"prediction_label_fold_{i}\"] = deberta_predictions_labels[i]\n"
   ]
  },
  {
   "cell_type": "code",
   "execution_count": 51,
   "id": "c4473d1d-6485-49e6-88bf-6aa3f05326cd",
   "metadata": {},
   "outputs": [
    {
     "data": {
      "text/html": [
       "<div>\n",
       "<style scoped>\n",
       "    .dataframe tbody tr th:only-of-type {\n",
       "        vertical-align: middle;\n",
       "    }\n",
       "\n",
       "    .dataframe tbody tr th {\n",
       "        vertical-align: top;\n",
       "    }\n",
       "\n",
       "    .dataframe thead th {\n",
       "        text-align: right;\n",
       "    }\n",
       "</style>\n",
       "<table border=\"1\" class=\"dataframe\">\n",
       "  <thead>\n",
       "    <tr style=\"text-align: right;\">\n",
       "      <th></th>\n",
       "      <th>label</th>\n",
       "      <th>text</th>\n",
       "      <th>prediction_0</th>\n",
       "      <th>prediction_1</th>\n",
       "      <th>prediction_label_fold_0</th>\n",
       "      <th>prediction_label_fold_1</th>\n",
       "      <th>prediction_label_fold_2</th>\n",
       "    </tr>\n",
       "  </thead>\n",
       "  <tbody>\n",
       "    <tr>\n",
       "      <th>230243</th>\n",
       "      <td>0</td>\n",
       "      <td>to give a pool the correct size it is mandator...</td>\n",
       "      <td>0.645294</td>\n",
       "      <td>0.354706</td>\n",
       "      <td>0</td>\n",
       "      <td>0</td>\n",
       "      <td>0</td>\n",
       "    </tr>\n",
       "    <tr>\n",
       "      <th>49775</th>\n",
       "      <td>0</td>\n",
       "      <td>repositoryinterfaceawarebeanpostprocessorpredi...</td>\n",
       "      <td>0.916558</td>\n",
       "      <td>0.083442</td>\n",
       "      <td>0</td>\n",
       "      <td>0</td>\n",
       "      <td>0</td>\n",
       "    </tr>\n",
       "    <tr>\n",
       "      <th>58433</th>\n",
       "      <td>0</td>\n",
       "      <td>when trying to use the backslashbackslash esca...</td>\n",
       "      <td>0.580499</td>\n",
       "      <td>0.419501</td>\n",
       "      <td>0</td>\n",
       "      <td>0</td>\n",
       "      <td>1</td>\n",
       "    </tr>\n",
       "    <tr>\n",
       "      <th>159647</th>\n",
       "      <td>1</td>\n",
       "      <td>i am writing a decoder to decode and print out...</td>\n",
       "      <td>0.752685</td>\n",
       "      <td>0.247315</td>\n",
       "      <td>0</td>\n",
       "      <td>0</td>\n",
       "      <td>0</td>\n",
       "    </tr>\n",
       "    <tr>\n",
       "      <th>26430</th>\n",
       "      <td>0</td>\n",
       "      <td>steps to open the html file in the attached zi...</td>\n",
       "      <td>0.573262</td>\n",
       "      <td>0.426738</td>\n",
       "      <td>0</td>\n",
       "      <td>0</td>\n",
       "      <td>0</td>\n",
       "    </tr>\n",
       "    <tr>\n",
       "      <th>...</th>\n",
       "      <td>...</td>\n",
       "      <td>...</td>\n",
       "      <td>...</td>\n",
       "      <td>...</td>\n",
       "      <td>...</td>\n",
       "      <td>...</td>\n",
       "      <td>...</td>\n",
       "    </tr>\n",
       "    <tr>\n",
       "      <th>119879</th>\n",
       "      <td>0</td>\n",
       "      <td>the defaultparameterparser does not decode car...</td>\n",
       "      <td>0.805808</td>\n",
       "      <td>0.194192</td>\n",
       "      <td>0</td>\n",
       "      <td>0</td>\n",
       "      <td>0</td>\n",
       "    </tr>\n",
       "    <tr>\n",
       "      <th>259178</th>\n",
       "      <td>0</td>\n",
       "      <td>new hybrid mobile projects should support temp...</td>\n",
       "      <td>0.357233</td>\n",
       "      <td>0.642767</td>\n",
       "      <td>1</td>\n",
       "      <td>1</td>\n",
       "      <td>1</td>\n",
       "    </tr>\n",
       "    <tr>\n",
       "      <th>131932</th>\n",
       "      <td>0</td>\n",
       "      <td>consider the following query codesql select fr...</td>\n",
       "      <td>0.287763</td>\n",
       "      <td>0.712237</td>\n",
       "      <td>1</td>\n",
       "      <td>1</td>\n",
       "      <td>1</td>\n",
       "    </tr>\n",
       "    <tr>\n",
       "      <th>146867</th>\n",
       "      <td>1</td>\n",
       "      <td>hiin our multimodules project we have added a ...</td>\n",
       "      <td>0.408101</td>\n",
       "      <td>0.591899</td>\n",
       "      <td>0</td>\n",
       "      <td>1</td>\n",
       "      <td>1</td>\n",
       "    </tr>\n",
       "    <tr>\n",
       "      <th>121958</th>\n",
       "      <td>1</td>\n",
       "      <td>it seems that property access via categories i...</td>\n",
       "      <td>0.141845</td>\n",
       "      <td>0.858155</td>\n",
       "      <td>1</td>\n",
       "      <td>1</td>\n",
       "      <td>1</td>\n",
       "    </tr>\n",
       "  </tbody>\n",
       "</table>\n",
       "<p>41029 rows × 7 columns</p>\n",
       "</div>"
      ],
      "text/plain": [
       "        label                                               text  \\\n",
       "230243      0  to give a pool the correct size it is mandator...   \n",
       "49775       0  repositoryinterfaceawarebeanpostprocessorpredi...   \n",
       "58433       0  when trying to use the backslashbackslash esca...   \n",
       "159647      1  i am writing a decoder to decode and print out...   \n",
       "26430       0  steps to open the html file in the attached zi...   \n",
       "...       ...                                                ...   \n",
       "119879      0  the defaultparameterparser does not decode car...   \n",
       "259178      0  new hybrid mobile projects should support temp...   \n",
       "131932      0  consider the following query codesql select fr...   \n",
       "146867      1  hiin our multimodules project we have added a ...   \n",
       "121958      1  it seems that property access via categories i...   \n",
       "\n",
       "        prediction_0  prediction_1  prediction_label_fold_0  \\\n",
       "230243      0.645294      0.354706                        0   \n",
       "49775       0.916558      0.083442                        0   \n",
       "58433       0.580499      0.419501                        0   \n",
       "159647      0.752685      0.247315                        0   \n",
       "26430       0.573262      0.426738                        0   \n",
       "...              ...           ...                      ...   \n",
       "119879      0.805808      0.194192                        0   \n",
       "259178      0.357233      0.642767                        1   \n",
       "131932      0.287763      0.712237                        1   \n",
       "146867      0.408101      0.591899                        0   \n",
       "121958      0.141845      0.858155                        1   \n",
       "\n",
       "        prediction_label_fold_1  prediction_label_fold_2  \n",
       "230243                        0                        0  \n",
       "49775                         0                        0  \n",
       "58433                         0                        1  \n",
       "159647                        0                        0  \n",
       "26430                         0                        0  \n",
       "...                         ...                      ...  \n",
       "119879                        0                        0  \n",
       "259178                        1                        1  \n",
       "131932                        1                        1  \n",
       "146867                        1                        1  \n",
       "121958                        1                        1  \n",
       "\n",
       "[41029 rows x 7 columns]"
      ]
     },
     "execution_count": 51,
     "metadata": {},
     "output_type": "execute_result"
    }
   ],
   "source": [
    "test_df"
   ]
  },
  {
   "cell_type": "code",
   "execution_count": 52,
   "id": "68812cae-b8d4-4f6d-bee3-cb7a3ff24441",
   "metadata": {},
   "outputs": [
    {
     "data": {
      "text/plain": [
       "41029"
      ]
     },
     "execution_count": 52,
     "metadata": {},
     "output_type": "execute_result"
    }
   ],
   "source": [
    "len(test_df)"
   ]
  },
  {
   "cell_type": "code",
   "execution_count": 53,
   "id": "806c1731-776c-4105-90a1-5e9e6cb29b14",
   "metadata": {},
   "outputs": [],
   "source": [
    "test_df['Max'] = test_df[['prediction_0','prediction_1']].idxmax(axis=1)"
   ]
  },
  {
   "cell_type": "code",
   "execution_count": 54,
   "id": "6cbb0e15-dc91-4785-adcd-bd9c1676d226",
   "metadata": {},
   "outputs": [],
   "source": [
    "test_df[\"pred\"] = test_df['Max'].apply(lambda x: x.replace(\"prediction_0\", \"0\"))"
   ]
  },
  {
   "cell_type": "code",
   "execution_count": 55,
   "id": "c1ef524d-f2f0-41d3-b0f1-3f61d47d5448",
   "metadata": {},
   "outputs": [],
   "source": [
    "test_df[\"pred\"] = test_df['pred'].apply(lambda x: x.replace(\"prediction_1\", \"1\"))\n"
   ]
  },
  {
   "cell_type": "code",
   "execution_count": 56,
   "id": "72170b82-c414-41da-8f02-b41c13aa84cb",
   "metadata": {},
   "outputs": [],
   "source": [
    "test_df[\"pred\"] = test_df[\"pred\"].astype(int)"
   ]
  },
  {
   "cell_type": "code",
   "execution_count": 57,
   "id": "f26e7e7b-5712-4bae-b8fd-81586e97a5fc",
   "metadata": {},
   "outputs": [
    {
     "data": {
      "text/html": [
       "<div>\n",
       "<style scoped>\n",
       "    .dataframe tbody tr th:only-of-type {\n",
       "        vertical-align: middle;\n",
       "    }\n",
       "\n",
       "    .dataframe tbody tr th {\n",
       "        vertical-align: top;\n",
       "    }\n",
       "\n",
       "    .dataframe thead th {\n",
       "        text-align: right;\n",
       "    }\n",
       "</style>\n",
       "<table border=\"1\" class=\"dataframe\">\n",
       "  <thead>\n",
       "    <tr style=\"text-align: right;\">\n",
       "      <th></th>\n",
       "      <th>label</th>\n",
       "      <th>text</th>\n",
       "      <th>prediction_0</th>\n",
       "      <th>prediction_1</th>\n",
       "      <th>prediction_label_fold_0</th>\n",
       "      <th>prediction_label_fold_1</th>\n",
       "      <th>prediction_label_fold_2</th>\n",
       "      <th>Max</th>\n",
       "      <th>pred</th>\n",
       "    </tr>\n",
       "  </thead>\n",
       "  <tbody>\n",
       "    <tr>\n",
       "      <th>230243</th>\n",
       "      <td>0</td>\n",
       "      <td>to give a pool the correct size it is mandator...</td>\n",
       "      <td>0.645294</td>\n",
       "      <td>0.354706</td>\n",
       "      <td>0</td>\n",
       "      <td>0</td>\n",
       "      <td>0</td>\n",
       "      <td>prediction_0</td>\n",
       "      <td>0</td>\n",
       "    </tr>\n",
       "    <tr>\n",
       "      <th>49775</th>\n",
       "      <td>0</td>\n",
       "      <td>repositoryinterfaceawarebeanpostprocessorpredi...</td>\n",
       "      <td>0.916558</td>\n",
       "      <td>0.083442</td>\n",
       "      <td>0</td>\n",
       "      <td>0</td>\n",
       "      <td>0</td>\n",
       "      <td>prediction_0</td>\n",
       "      <td>0</td>\n",
       "    </tr>\n",
       "    <tr>\n",
       "      <th>58433</th>\n",
       "      <td>0</td>\n",
       "      <td>when trying to use the backslashbackslash esca...</td>\n",
       "      <td>0.580499</td>\n",
       "      <td>0.419501</td>\n",
       "      <td>0</td>\n",
       "      <td>0</td>\n",
       "      <td>1</td>\n",
       "      <td>prediction_0</td>\n",
       "      <td>0</td>\n",
       "    </tr>\n",
       "    <tr>\n",
       "      <th>159647</th>\n",
       "      <td>1</td>\n",
       "      <td>i am writing a decoder to decode and print out...</td>\n",
       "      <td>0.752685</td>\n",
       "      <td>0.247315</td>\n",
       "      <td>0</td>\n",
       "      <td>0</td>\n",
       "      <td>0</td>\n",
       "      <td>prediction_0</td>\n",
       "      <td>0</td>\n",
       "    </tr>\n",
       "    <tr>\n",
       "      <th>26430</th>\n",
       "      <td>0</td>\n",
       "      <td>steps to open the html file in the attached zi...</td>\n",
       "      <td>0.573262</td>\n",
       "      <td>0.426738</td>\n",
       "      <td>0</td>\n",
       "      <td>0</td>\n",
       "      <td>0</td>\n",
       "      <td>prediction_0</td>\n",
       "      <td>0</td>\n",
       "    </tr>\n",
       "    <tr>\n",
       "      <th>...</th>\n",
       "      <td>...</td>\n",
       "      <td>...</td>\n",
       "      <td>...</td>\n",
       "      <td>...</td>\n",
       "      <td>...</td>\n",
       "      <td>...</td>\n",
       "      <td>...</td>\n",
       "      <td>...</td>\n",
       "      <td>...</td>\n",
       "    </tr>\n",
       "    <tr>\n",
       "      <th>119879</th>\n",
       "      <td>0</td>\n",
       "      <td>the defaultparameterparser does not decode car...</td>\n",
       "      <td>0.805808</td>\n",
       "      <td>0.194192</td>\n",
       "      <td>0</td>\n",
       "      <td>0</td>\n",
       "      <td>0</td>\n",
       "      <td>prediction_0</td>\n",
       "      <td>0</td>\n",
       "    </tr>\n",
       "    <tr>\n",
       "      <th>259178</th>\n",
       "      <td>0</td>\n",
       "      <td>new hybrid mobile projects should support temp...</td>\n",
       "      <td>0.357233</td>\n",
       "      <td>0.642767</td>\n",
       "      <td>1</td>\n",
       "      <td>1</td>\n",
       "      <td>1</td>\n",
       "      <td>prediction_1</td>\n",
       "      <td>1</td>\n",
       "    </tr>\n",
       "    <tr>\n",
       "      <th>131932</th>\n",
       "      <td>0</td>\n",
       "      <td>consider the following query codesql select fr...</td>\n",
       "      <td>0.287763</td>\n",
       "      <td>0.712237</td>\n",
       "      <td>1</td>\n",
       "      <td>1</td>\n",
       "      <td>1</td>\n",
       "      <td>prediction_1</td>\n",
       "      <td>1</td>\n",
       "    </tr>\n",
       "    <tr>\n",
       "      <th>146867</th>\n",
       "      <td>1</td>\n",
       "      <td>hiin our multimodules project we have added a ...</td>\n",
       "      <td>0.408101</td>\n",
       "      <td>0.591899</td>\n",
       "      <td>0</td>\n",
       "      <td>1</td>\n",
       "      <td>1</td>\n",
       "      <td>prediction_1</td>\n",
       "      <td>1</td>\n",
       "    </tr>\n",
       "    <tr>\n",
       "      <th>121958</th>\n",
       "      <td>1</td>\n",
       "      <td>it seems that property access via categories i...</td>\n",
       "      <td>0.141845</td>\n",
       "      <td>0.858155</td>\n",
       "      <td>1</td>\n",
       "      <td>1</td>\n",
       "      <td>1</td>\n",
       "      <td>prediction_1</td>\n",
       "      <td>1</td>\n",
       "    </tr>\n",
       "  </tbody>\n",
       "</table>\n",
       "<p>41029 rows × 9 columns</p>\n",
       "</div>"
      ],
      "text/plain": [
       "        label                                               text  \\\n",
       "230243      0  to give a pool the correct size it is mandator...   \n",
       "49775       0  repositoryinterfaceawarebeanpostprocessorpredi...   \n",
       "58433       0  when trying to use the backslashbackslash esca...   \n",
       "159647      1  i am writing a decoder to decode and print out...   \n",
       "26430       0  steps to open the html file in the attached zi...   \n",
       "...       ...                                                ...   \n",
       "119879      0  the defaultparameterparser does not decode car...   \n",
       "259178      0  new hybrid mobile projects should support temp...   \n",
       "131932      0  consider the following query codesql select fr...   \n",
       "146867      1  hiin our multimodules project we have added a ...   \n",
       "121958      1  it seems that property access via categories i...   \n",
       "\n",
       "        prediction_0  prediction_1  prediction_label_fold_0  \\\n",
       "230243      0.645294      0.354706                        0   \n",
       "49775       0.916558      0.083442                        0   \n",
       "58433       0.580499      0.419501                        0   \n",
       "159647      0.752685      0.247315                        0   \n",
       "26430       0.573262      0.426738                        0   \n",
       "...              ...           ...                      ...   \n",
       "119879      0.805808      0.194192                        0   \n",
       "259178      0.357233      0.642767                        1   \n",
       "131932      0.287763      0.712237                        1   \n",
       "146867      0.408101      0.591899                        0   \n",
       "121958      0.141845      0.858155                        1   \n",
       "\n",
       "        prediction_label_fold_1  prediction_label_fold_2           Max  pred  \n",
       "230243                        0                        0  prediction_0     0  \n",
       "49775                         0                        0  prediction_0     0  \n",
       "58433                         0                        1  prediction_0     0  \n",
       "159647                        0                        0  prediction_0     0  \n",
       "26430                         0                        0  prediction_0     0  \n",
       "...                         ...                      ...           ...   ...  \n",
       "119879                        0                        0  prediction_0     0  \n",
       "259178                        1                        1  prediction_1     1  \n",
       "131932                        1                        1  prediction_1     1  \n",
       "146867                        1                        1  prediction_1     1  \n",
       "121958                        1                        1  prediction_1     1  \n",
       "\n",
       "[41029 rows x 9 columns]"
      ]
     },
     "execution_count": 57,
     "metadata": {},
     "output_type": "execute_result"
    }
   ],
   "source": [
    "test_df"
   ]
  },
  {
   "cell_type": "code",
   "execution_count": 58,
   "id": "2ce8ca5b-1611-400a-98ea-590e18e3e4d6",
   "metadata": {},
   "outputs": [
    {
     "name": "stdout",
     "output_type": "stream",
     "text": [
      "[[15443  5162]\n",
      " [ 4203 16221]]\n"
     ]
    }
   ],
   "source": [
    "from sklearn.metrics import confusion_matrix\n",
    "cf_matrix = confusion_matrix(test_df[\"label\"].values, test_df[\"pred\"].values)\n",
    "\n",
    "print(cf_matrix)"
   ]
  },
  {
   "cell_type": "code",
   "execution_count": 59,
   "id": "f07ff2ad-0501-46c3-b5c8-7f414a2e7b83",
   "metadata": {},
   "outputs": [
    {
     "data": {
      "image/png": "[encoded data removed]",
      "text/plain": [
       "<Figure size 640x480 with 2 Axes>"
      ]
     },
     "metadata": {},
     "output_type": "display_data"
    }
   ],
   "source": [
    "import seaborn as sns\n",
    "import matplotlib.pyplot as plt\n",
    "ax = sns.heatmap(cf_matrix/np.sum(cf_matrix), annot=True, \n",
    "            fmt='.2%', cmap='Blues')\n",
    "\n",
    "ax.set_title('Jira: Highest, high vs low, lowest\\n\\n NonHP vs HP \\n\\n');\n",
    "ax.set_xlabel('\\nPredicted Values')\n",
    "ax.set_ylabel('Actual Values ');\n",
    "\n",
    "## Ticket labels - List must be in alphabetical order\n",
    "ax.xaxis.set_ticklabels(['False(NonHP)','True(HP)'])\n",
    "ax.yaxis.set_ticklabels(['False(NonHP)','True(HP)'])\n",
    "\n",
    "## Display the visualization of the Confusion Matrix.\n",
    "plt.show()"
   ]
  },
  {
   "cell_type": "code",
   "execution_count": 60,
   "id": "b9228c89-6cae-4a8e-a433-e7b5328dba1e",
   "metadata": {},
   "outputs": [
    {
     "name": "stdout",
     "output_type": "stream",
     "text": [
      "              precision    recall  f1-score   support\n",
      "\n",
      "           0       0.79      0.75      0.77     20605\n",
      "           1       0.76      0.79      0.78     20424\n",
      "\n",
      "    accuracy                           0.77     41029\n",
      "   macro avg       0.77      0.77      0.77     41029\n",
      "weighted avg       0.77      0.77      0.77     41029\n",
      "\n"
     ]
    }
   ],
   "source": [
    "from sklearn.metrics import classification_report\n",
    "\n",
    "\n",
    "print(classification_report(test_df[\"label\"].values, test_df[\"pred\"].values))"
   ]
  },
  {
   "cell_type": "code",
   "execution_count": 61,
   "id": "057e531d-3486-454d-9d0f-b37a4f6fb1e6",
   "metadata": {},
   "outputs": [
    {
     "name": "stdout",
     "output_type": "stream",
     "text": [
      "Matthew's Correlation Coefficient: 0.5441735701814994\n"
     ]
    }
   ],
   "source": [
    "from sklearn.metrics import matthews_corrcoef\n",
    "\n",
    "# Calculate the Matthew's Correlation Coefficient\n",
    "mcc = matthews_corrcoef(test_df[\"label\"].values, test_df[\"pred\"].values)\n",
    "print(\"Matthew's Correlation Coefficient:\", mcc)"
   ]
  },
  {
   "cell_type": "code",
   "execution_count": 62,
   "id": "2f2df1a2-253f-4e67-9bad-a799f788b426",
   "metadata": {},
   "outputs": [
    {
     "data": {
      "text/plain": [
       "0.003173624291332565"
      ]
     },
     "execution_count": 62,
     "metadata": {},
     "output_type": "execute_result"
    }
   ],
   "source": [
    "tracker.stop()"
   ]
  }
 ],
 "metadata": {
  "kernelspec": {
   "display_name": "Python 3 (ipykernel)",
   "language": "python",
   "name": "python3"
  },
  "language_info": {
   "codemirror_mode": {
    "name": "ipython",
    "version": 3
   },
   "file_extension": ".py",
   "mimetype": "text/x-python",
   "name": "python",
   "nbconvert_exporter": "python",
   "pygments_lexer": "ipython3",
   "version": "3.11.3"
  },
  "vscode": {
   "interpreter": {
    "hash": "a64f21293159cd9c4e596ef7fd6c17a9c99d13712885c299cb3370e7a4d97830"
   }
  }
 },
 "nbformat": 4,
 "nbformat_minor": 5
}
