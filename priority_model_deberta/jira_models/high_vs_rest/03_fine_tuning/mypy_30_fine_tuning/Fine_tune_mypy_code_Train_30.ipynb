{
 "cells": [
  {
   "cell_type": "code",
   "execution_count": 1,
   "id": "99249a9d-1abd-402b-ac83-e5d1264efb16",
   "metadata": {},
   "outputs": [
    {
     "name": "stderr",
     "output_type": "stream",
     "text": [
      "[codecarbon INFO @ 10:29:13] [setup] RAM Tracking...\n",
      "[codecarbon INFO @ 10:29:13] [setup] GPU Tracking...\n",
      "[codecarbon INFO @ 10:29:13] Tracking Nvidia GPU via pynvml\n",
      "[codecarbon INFO @ 10:29:13] [setup] CPU Tracking...\n",
      "[codecarbon WARNING @ 10:29:13] No CPU tracking mode found. Falling back on CPU constant mode.\n",
      "[codecarbon WARNING @ 10:29:16] We saw that you have a AMD EPYC 7642 48-Core Processor but we don't know it. Please contact us.\n",
      "[codecarbon INFO @ 10:29:16] CPU Model on constant consumption mode: AMD EPYC 7642 48-Core Processor\n",
      "[codecarbon INFO @ 10:29:16] >>> Tracker's metadata:\n",
      "[codecarbon INFO @ 10:29:16]   Platform system: Linux-5.14.0-362.8.1.el9_3.x86_64-x86_64-with-glibc2.34\n",
      "[codecarbon INFO @ 10:29:16]   Python version: 3.11.3\n",
      "[codecarbon INFO @ 10:29:16]   CodeCarbon version: 2.3.4\n",
      "[codecarbon INFO @ 10:29:16]   Available RAM : 256.000 GB\n",
      "[codecarbon INFO @ 10:29:16]   CPU count: 24\n",
      "[codecarbon INFO @ 10:29:16]   CPU model: AMD EPYC 7642 48-Core Processor\n",
      "[codecarbon INFO @ 10:29:16]   GPU count: 1\n",
      "[codecarbon INFO @ 10:29:16]   GPU model: 1 x NVIDIA A100-PCIE-40GB\n"
     ]
    }
   ],
   "source": [
    "from codecarbon import EmissionsTracker\n",
    "import logging\n",
    "output_directory = \"/fp/homes01/u01/ec-krimhau/thesis_code/\"\n",
    "\n",
    "tracker = EmissionsTracker(output_dir=output_directory)\n",
    "tracker.start()"
   ]
  },
  {
   "cell_type": "code",
   "execution_count": 2,
   "id": "a29e554f-5f00-426e-afa1-a3b54dab7ad7",
   "metadata": {},
   "outputs": [],
   "source": [
    "logging.getLogger('codecarbon').setLevel(logging.WARNING)"
   ]
  },
  {
   "cell_type": "code",
   "execution_count": 3,
   "id": "d0c4206f-a9dc-470b-bb55-415584f2116f",
   "metadata": {},
   "outputs": [],
   "source": [
    "import os\n",
    "import gc\n",
    "import copy\n",
    "import time\n",
    "import random\n",
    "import string\n",
    "import joblib\n",
    "\n",
    "# For data manipulation\n",
    "import numpy as np\n",
    "import pandas as pd\n",
    "\n",
    "# Pytorch Imports\n",
    "import torch\n",
    "import torch.nn as nn\n",
    "import torch.optim as optim\n",
    "from torch.optim import lr_scheduler\n",
    "from torch.utils.data import Dataset, DataLoader\n",
    "\n",
    "# Utils\n",
    "from tqdm import tqdm\n",
    "from collections import defaultdict\n",
    "\n",
    "# Sklearn Imports\n",
    "from sklearn.preprocessing import LabelEncoder\n",
    "from sklearn.model_selection import GroupKFold, KFold\n",
    "\n",
    "# For Transformer Models\n",
    "from transformers import AutoTokenizer, AutoModel, AutoConfig, AdamW\n",
    "from transformers import DataCollatorWithPadding\n",
    "import datasets\n",
    "# For colored terminal text\n",
    "from colorama import Fore, Back, Style\n",
    "b_ = Fore.BLUE\n",
    "y_ = Fore.YELLOW\n",
    "sr_ = Style.RESET_ALL\n",
    "\n",
    "# Suppress warnings\n",
    "import warnings\n",
    "warnings.filterwarnings(\"ignore\")\n",
    "\n",
    "import wandb\n",
    "# For descriptive error messages\n",
    "os.environ['CUDA_LAUNCH_BLOCKING'] = \"1\""
   ]
  },
  {
   "cell_type": "code",
   "execution_count": 4,
   "id": "33f8979d-d850-4977-8dda-971ac6eea3a0",
   "metadata": {},
   "outputs": [],
   "source": [
    "# Load .env file\n",
    "%load_ext dotenv\n",
    "%dotenv /fp/homes01/u01/ec-krimhau/thesis_code/.env"
   ]
  },
  {
   "cell_type": "code",
   "execution_count": 5,
   "id": "677223cd",
   "metadata": {},
   "outputs": [
    {
     "name": "stderr",
     "output_type": "stream",
     "text": [
      "\u001b[34m\u001b[1mwandb\u001b[0m: \u001b[33mWARNING\u001b[0m WANDB_NOTEBOOK_NAME should be a path to a notebook file, couldn't find /fp/homes01/u01/ec-krimhau/thesis_code/jira/priority_model/highest_vs_rest/deberta/01_training/01_train_highest_vs_rest.ipynb.\n",
      "\u001b[34m\u001b[1mwandb\u001b[0m: Currently logged in as: \u001b[33mhaugerud-kristian\u001b[0m (\u001b[33mkrimhau\u001b[0m). Use \u001b[1m`wandb login --relogin`\u001b[0m to force relogin\n",
      "\u001b[34m\u001b[1mwandb\u001b[0m: \u001b[33mWARNING\u001b[0m If you're specifying your api key in code, ensure this code is not shared publicly.\n",
      "\u001b[34m\u001b[1mwandb\u001b[0m: \u001b[33mWARNING\u001b[0m Consider setting the WANDB_API_KEY environment variable, or running `wandb login` from the command line.\n",
      "\u001b[34m\u001b[1mwandb\u001b[0m: Appending key for api.wandb.ai to your netrc file: /fp/homes01/u01/ec-krimhau/.netrc\n"
     ]
    },
    {
     "data": {
      "text/plain": [
       "True"
      ]
     },
     "execution_count": 5,
     "metadata": {},
     "output_type": "execute_result"
    }
   ],
   "source": [
    "os.environ['WANDB_NOTEBOOK_NAME'] = '/fp/homes01/u01/ec-krimhau/thesis_code/jira/priority_model/highest_vs_rest/deberta/01_training/01_train_highest_vs_rest.ipynb'\n",
    "# Get wandb api key from .env file\n",
    "wandb_api_key = os.getenv('WANDB_API_KEY')\n",
    "# Login to wandb to track results\n",
    "wandb.login(key = wandb_api_key) # API key"
   ]
  },
  {
   "cell_type": "code",
   "execution_count": 6,
   "id": "c7fcade8-1e6d-418a-acd1-c860be6c3c62",
   "metadata": {},
   "outputs": [
    {
     "name": "stdout",
     "output_type": "stream",
     "text": [
      "lck7bcexh4er\n"
     ]
    }
   ],
   "source": [
    "def id_generator(size=12, chars=string.ascii_lowercase + string.digits):\n",
    "    return ''.join(random.SystemRandom().choice(chars) for _ in range(size))\n",
    "\n",
    "\n",
    "HASH_NAME = id_generator(size=12)\n",
    "print(HASH_NAME)\n"
   ]
  },
  {
   "cell_type": "code",
   "execution_count": 7,
   "id": "ec0aa632-8739-4e63-bde0-5f4fc123f891",
   "metadata": {},
   "outputs": [],
   "source": [
    "CONFIG = {\"seed\": 42,\n",
    "          \"epochs\": 3,\n",
    "          \"model_name\": \"microsoft/deberta-v3-base\",\n",
    "          \"train_batch_size\": 8,\n",
    "          \"valid_batch_size\": 16,\n",
    "          \"max_length\": 512,\n",
    "          \"learning_rate\": 1e-5,\n",
    "          \"scheduler\": 'CosineAnnealingLR',\n",
    "          \"min_lr\": 1e-6,\n",
    "          \"T_max\": 500,\n",
    "          \"weight_decay\": 1e-6,\n",
    "          \"n_fold\": 3,\n",
    "          \"n_accumulate\": 1,\n",
    "          \"num_classes\": 2,\n",
    "          \"device\": torch.device(\"cuda:0\" if torch.cuda.is_available() else \"cpu\"),\n",
    "          \"hash_name\": HASH_NAME,\n",
    "          \"_wandb_kernel\": \"deb\",\n",
    "          }\n",
    "\n",
    "CONFIG[\"tokenizer\"] = AutoTokenizer.from_pretrained(CONFIG['model_name'])\n",
    "CONFIG['group'] = f'{HASH_NAME}-Baseline'\n"
   ]
  },
  {
   "cell_type": "code",
   "execution_count": 8,
   "id": "31dc5cac-8438-438d-b45b-e2dab3b74949",
   "metadata": {},
   "outputs": [],
   "source": [
    "def set_seed(seed=42):\n",
    "    '''Sets the seed of the entire notebook so results are the same every time we run.\n",
    "    This is for REPRODUCIBILITY.'''\n",
    "    np.random.seed(seed)\n",
    "    torch.manual_seed(seed)\n",
    "    torch.cuda.manual_seed(seed)\n",
    "    # When running on the CuDNN backend, two further options must be set\n",
    "    torch.backends.cudnn.deterministic = True\n",
    "    torch.backends.cudnn.benchmark = False\n",
    "    # Set a fixed value for the hash seed\n",
    "    os.environ['PYTHONHASHSEED'] = str(seed)\n",
    "    \n",
    "set_seed(CONFIG['seed'])"
   ]
  },
  {
   "cell_type": "code",
   "execution_count": 9,
   "id": "5220e6af-9036-4a04-8808-b374d2c8728a",
   "metadata": {},
   "outputs": [],
   "source": [
    "def train_test_split(df, train_percent=.85, seed=42):\n",
    "    np.random.seed(seed)\n",
    "    perm = np.random.permutation(df.index)\n",
    "    m = len(df.index)\n",
    "    train_end = int(train_percent * m)\n",
    "    train = df.iloc[perm[:train_end]]\n",
    "    test = df.iloc[perm[train_end:]]\n",
    "    return train, test"
   ]
  },
  {
   "cell_type": "code",
   "execution_count": 10,
   "id": "179c96ee-42ea-42eb-bb1b-242173a38663",
   "metadata": {},
   "outputs": [
    {
     "data": {
      "text/html": [
       "<div>\n",
       "<style scoped>\n",
       "    .dataframe tbody tr th:only-of-type {\n",
       "        vertical-align: middle;\n",
       "    }\n",
       "\n",
       "    .dataframe tbody tr th {\n",
       "        vertical-align: top;\n",
       "    }\n",
       "\n",
       "    .dataframe thead th {\n",
       "        text-align: right;\n",
       "    }\n",
       "</style>\n",
       "<table border=\"1\" class=\"dataframe\">\n",
       "  <thead>\n",
       "    <tr style=\"text-align: right;\">\n",
       "      <th></th>\n",
       "      <th>text_clean</th>\n",
       "      <th>label</th>\n",
       "      <th>class_original</th>\n",
       "    </tr>\n",
       "    <tr>\n",
       "      <th>class</th>\n",
       "      <th></th>\n",
       "      <th></th>\n",
       "      <th></th>\n",
       "    </tr>\n",
       "  </thead>\n",
       "  <tbody>\n",
       "    <tr>\n",
       "      <th>highest</th>\n",
       "      <td>when we do range query on simple keys it does ...</td>\n",
       "      <td>1</td>\n",
       "      <td>Highest</td>\n",
       "    </tr>\n",
       "    <tr>\n",
       "      <th>highest</th>\n",
       "      <td>unhandledpromiserejectionwarning unhandled pro...</td>\n",
       "      <td>1</td>\n",
       "      <td>Highest</td>\n",
       "    </tr>\n",
       "    <tr>\n",
       "      <th>rest</th>\n",
       "      <td>the fabricunittestdaily branch failing intermi...</td>\n",
       "      <td>0</td>\n",
       "      <td>Medium</td>\n",
       "    </tr>\n",
       "    <tr>\n",
       "      <th>rest</th>\n",
       "      <td>as a system operator i want to receive alerts ...</td>\n",
       "      <td>0</td>\n",
       "      <td>Medium</td>\n",
       "    </tr>\n",
       "    <tr>\n",
       "      <th>rest</th>\n",
       "      <td>there is no support in datasourcetransactionma...</td>\n",
       "      <td>0</td>\n",
       "      <td>Medium</td>\n",
       "    </tr>\n",
       "    <tr>\n",
       "      <th>...</th>\n",
       "      <td>...</td>\n",
       "      <td>...</td>\n",
       "      <td>...</td>\n",
       "    </tr>\n",
       "    <tr>\n",
       "      <th>rest</th>\n",
       "      <td>once i have imported a widget into the store i...</td>\n",
       "      <td>0</td>\n",
       "      <td>Low</td>\n",
       "    </tr>\n",
       "    <tr>\n",
       "      <th>rest</th>\n",
       "      <td>the spec defines an axiom of a ie singleton li...</td>\n",
       "      <td>0</td>\n",
       "      <td>Medium</td>\n",
       "    </tr>\n",
       "    <tr>\n",
       "      <th>rest</th>\n",
       "      <td>to have an history on master of all csvs setup...</td>\n",
       "      <td>0</td>\n",
       "      <td>Medium</td>\n",
       "    </tr>\n",
       "    <tr>\n",
       "      <th>highest</th>\n",
       "      <td>there are still some changes expected to be me...</td>\n",
       "      <td>1</td>\n",
       "      <td>Highest</td>\n",
       "    </tr>\n",
       "    <tr>\n",
       "      <th>highest</th>\n",
       "      <td>crw failed to install from operatorhub because...</td>\n",
       "      <td>1</td>\n",
       "      <td>Highest</td>\n",
       "    </tr>\n",
       "  </tbody>\n",
       "</table>\n",
       "<p>110716 rows × 3 columns</p>\n",
       "</div>"
      ],
      "text/plain": [
       "                                                text_clean  label  \\\n",
       "class                                                               \n",
       "highest  when we do range query on simple keys it does ...      1   \n",
       "highest  unhandledpromiserejectionwarning unhandled pro...      1   \n",
       "rest     the fabricunittestdaily branch failing intermi...      0   \n",
       "rest     as a system operator i want to receive alerts ...      0   \n",
       "rest     there is no support in datasourcetransactionma...      0   \n",
       "...                                                    ...    ...   \n",
       "rest     once i have imported a widget into the store i...      0   \n",
       "rest     the spec defines an axiom of a ie singleton li...      0   \n",
       "rest     to have an history on master of all csvs setup...      0   \n",
       "highest  there are still some changes expected to be me...      1   \n",
       "highest  crw failed to install from operatorhub because...      1   \n",
       "\n",
       "        class_original  \n",
       "class                   \n",
       "highest        Highest  \n",
       "highest        Highest  \n",
       "rest            Medium  \n",
       "rest            Medium  \n",
       "rest            Medium  \n",
       "...                ...  \n",
       "rest               Low  \n",
       "rest            Medium  \n",
       "rest            Medium  \n",
       "highest        Highest  \n",
       "highest        Highest  \n",
       "\n",
       "[110716 rows x 3 columns]"
      ]
     },
     "execution_count": 10,
     "metadata": {},
     "output_type": "execute_result"
    }
   ],
   "source": [
    "full_training_df = pd.read_csv(\"../../csv/highest_vs_rest_balanced_jira.csv\" , index_col = 0)\n",
    "full_training_df\n"
   ]
  },
  {
   "cell_type": "code",
   "execution_count": 11,
   "id": "7de7d000",
   "metadata": {},
   "outputs": [],
   "source": [
    "\n",
    "# Drop NaN values and reset index of dataframe\n",
    "full_training_df = full_training_df[full_training_df['text_clean'].notna()]\n",
    "full_training_df = full_training_df.rename(columns={'text_clean': 'text'})\n",
    "full_training_df = full_training_df.reset_index()\n",
    "full_training_df.drop(columns=[\"class\", \"class_original\"], inplace=True)"
   ]
  },
  {
   "cell_type": "code",
   "execution_count": 12,
   "id": "29268f6a",
   "metadata": {},
   "outputs": [
    {
     "data": {
      "text/html": [
       "<div>\n",
       "<style scoped>\n",
       "    .dataframe tbody tr th:only-of-type {\n",
       "        vertical-align: middle;\n",
       "    }\n",
       "\n",
       "    .dataframe tbody tr th {\n",
       "        vertical-align: top;\n",
       "    }\n",
       "\n",
       "    .dataframe thead th {\n",
       "        text-align: right;\n",
       "    }\n",
       "</style>\n",
       "<table border=\"1\" class=\"dataframe\">\n",
       "  <thead>\n",
       "    <tr style=\"text-align: right;\">\n",
       "      <th></th>\n",
       "      <th>text</th>\n",
       "      <th>label</th>\n",
       "    </tr>\n",
       "  </thead>\n",
       "  <tbody>\n",
       "    <tr>\n",
       "      <th>0</th>\n",
       "      <td>when we do range query on simple keys it does ...</td>\n",
       "      <td>1</td>\n",
       "    </tr>\n",
       "    <tr>\n",
       "      <th>1</th>\n",
       "      <td>unhandledpromiserejectionwarning unhandled pro...</td>\n",
       "      <td>1</td>\n",
       "    </tr>\n",
       "    <tr>\n",
       "      <th>2</th>\n",
       "      <td>the fabricunittestdaily branch failing intermi...</td>\n",
       "      <td>0</td>\n",
       "    </tr>\n",
       "    <tr>\n",
       "      <th>3</th>\n",
       "      <td>as a system operator i want to receive alerts ...</td>\n",
       "      <td>0</td>\n",
       "    </tr>\n",
       "    <tr>\n",
       "      <th>4</th>\n",
       "      <td>there is no support in datasourcetransactionma...</td>\n",
       "      <td>0</td>\n",
       "    </tr>\n",
       "    <tr>\n",
       "      <th>...</th>\n",
       "      <td>...</td>\n",
       "      <td>...</td>\n",
       "    </tr>\n",
       "    <tr>\n",
       "      <th>110711</th>\n",
       "      <td>once i have imported a widget into the store i...</td>\n",
       "      <td>0</td>\n",
       "    </tr>\n",
       "    <tr>\n",
       "      <th>110712</th>\n",
       "      <td>the spec defines an axiom of a ie singleton li...</td>\n",
       "      <td>0</td>\n",
       "    </tr>\n",
       "    <tr>\n",
       "      <th>110713</th>\n",
       "      <td>to have an history on master of all csvs setup...</td>\n",
       "      <td>0</td>\n",
       "    </tr>\n",
       "    <tr>\n",
       "      <th>110714</th>\n",
       "      <td>there are still some changes expected to be me...</td>\n",
       "      <td>1</td>\n",
       "    </tr>\n",
       "    <tr>\n",
       "      <th>110715</th>\n",
       "      <td>crw failed to install from operatorhub because...</td>\n",
       "      <td>1</td>\n",
       "    </tr>\n",
       "  </tbody>\n",
       "</table>\n",
       "<p>110716 rows × 2 columns</p>\n",
       "</div>"
      ],
      "text/plain": [
       "                                                     text  label\n",
       "0       when we do range query on simple keys it does ...      1\n",
       "1       unhandledpromiserejectionwarning unhandled pro...      1\n",
       "2       the fabricunittestdaily branch failing intermi...      0\n",
       "3       as a system operator i want to receive alerts ...      0\n",
       "4       there is no support in datasourcetransactionma...      0\n",
       "...                                                   ...    ...\n",
       "110711  once i have imported a widget into the store i...      0\n",
       "110712  the spec defines an axiom of a ie singleton li...      0\n",
       "110713  to have an history on master of all csvs setup...      0\n",
       "110714  there are still some changes expected to be me...      1\n",
       "110715  crw failed to install from operatorhub because...      1\n",
       "\n",
       "[110716 rows x 2 columns]"
      ]
     },
     "execution_count": 12,
     "metadata": {},
     "output_type": "execute_result"
    }
   ],
   "source": [
    "full_training_df"
   ]
  },
  {
   "cell_type": "code",
   "execution_count": 13,
   "id": "38bd7fa7-7b96-4934-b210-2b4a63881828",
   "metadata": {},
   "outputs": [
    {
     "data": {
      "text/html": [
       "<div>\n",
       "<style scoped>\n",
       "    .dataframe tbody tr th:only-of-type {\n",
       "        vertical-align: middle;\n",
       "    }\n",
       "\n",
       "    .dataframe tbody tr th {\n",
       "        vertical-align: top;\n",
       "    }\n",
       "\n",
       "    .dataframe thead th {\n",
       "        text-align: right;\n",
       "    }\n",
       "</style>\n",
       "<table border=\"1\" class=\"dataframe\">\n",
       "  <thead>\n",
       "    <tr style=\"text-align: right;\">\n",
       "      <th></th>\n",
       "      <th>text_clean</th>\n",
       "      <th>label</th>\n",
       "    </tr>\n",
       "  </thead>\n",
       "  <tbody>\n",
       "    <tr>\n",
       "      <th>0</th>\n",
       "      <td>error code misc and build errors it probably s...</td>\n",
       "      <td>1</td>\n",
       "    </tr>\n",
       "    <tr>\n",
       "      <th>1</th>\n",
       "      <td>no error when setter has too many arguments py...</td>\n",
       "      <td>0</td>\n",
       "    </tr>\n",
       "    <tr>\n",
       "      <th>2</th>\n",
       "      <td>warn about always truefalse isinstance tests t...</td>\n",
       "      <td>1</td>\n",
       "    </tr>\n",
       "    <tr>\n",
       "      <th>3</th>\n",
       "      <td>several crashes on pyright test suite the cras...</td>\n",
       "      <td>0</td>\n",
       "    </tr>\n",
       "    <tr>\n",
       "      <th>4</th>\n",
       "      <td>assert file not in selfflushedfiles without my...</td>\n",
       "      <td>1</td>\n",
       "    </tr>\n",
       "    <tr>\n",
       "      <th>...</th>\n",
       "      <td>...</td>\n",
       "      <td>...</td>\n",
       "    </tr>\n",
       "    <tr>\n",
       "      <th>729</th>\n",
       "      <td>segfault on recursive type im running mypy on ...</td>\n",
       "      <td>1</td>\n",
       "    </tr>\n",
       "    <tr>\n",
       "      <th>730</th>\n",
       "      <td>plugin use mypy to enrich ast with types with ...</td>\n",
       "      <td>0</td>\n",
       "    </tr>\n",
       "    <tr>\n",
       "      <th>731</th>\n",
       "      <td>give better error messages when calling overlo...</td>\n",
       "      <td>1</td>\n",
       "    </tr>\n",
       "    <tr>\n",
       "      <th>732</th>\n",
       "      <td>incompatible assignment using typeddict in gen...</td>\n",
       "      <td>0</td>\n",
       "    </tr>\n",
       "    <tr>\n",
       "      <th>733</th>\n",
       "      <td>support indexing and iterating enum type objec...</td>\n",
       "      <td>1</td>\n",
       "    </tr>\n",
       "  </tbody>\n",
       "</table>\n",
       "<p>734 rows × 2 columns</p>\n",
       "</div>"
      ],
      "text/plain": [
       "                                            text_clean  label\n",
       "0    error code misc and build errors it probably s...      1\n",
       "1    no error when setter has too many arguments py...      0\n",
       "2    warn about always truefalse isinstance tests t...      1\n",
       "3    several crashes on pyright test suite the cras...      0\n",
       "4    assert file not in selfflushedfiles without my...      1\n",
       "..                                                 ...    ...\n",
       "729  segfault on recursive type im running mypy on ...      1\n",
       "730  plugin use mypy to enrich ast with types with ...      0\n",
       "731  give better error messages when calling overlo...      1\n",
       "732  incompatible assignment using typeddict in gen...      0\n",
       "733  support indexing and iterating enum type objec...      1\n",
       "\n",
       "[734 rows x 2 columns]"
      ]
     },
     "execution_count": 13,
     "metadata": {},
     "output_type": "execute_result"
    }
   ],
   "source": [
    "import pandas as pd\n",
    "fine_tuning_df = pd.read_csv(\"../../csv/github_clean_mypy_testset.csv\")\n",
    "fine_tuning_df\n"
   ]
  },
  {
   "cell_type": "code",
   "execution_count": 14,
   "id": "fb7f500a",
   "metadata": {},
   "outputs": [
    {
     "data": {
      "text/html": [
       "<div>\n",
       "<style scoped>\n",
       "    .dataframe tbody tr th:only-of-type {\n",
       "        vertical-align: middle;\n",
       "    }\n",
       "\n",
       "    .dataframe tbody tr th {\n",
       "        vertical-align: top;\n",
       "    }\n",
       "\n",
       "    .dataframe thead th {\n",
       "        text-align: right;\n",
       "    }\n",
       "</style>\n",
       "<table border=\"1\" class=\"dataframe\">\n",
       "  <thead>\n",
       "    <tr style=\"text-align: right;\">\n",
       "      <th></th>\n",
       "      <th>text</th>\n",
       "      <th>label</th>\n",
       "    </tr>\n",
       "  </thead>\n",
       "  <tbody>\n",
       "    <tr>\n",
       "      <th>0</th>\n",
       "      <td>error code misc and build errors it probably s...</td>\n",
       "      <td>1</td>\n",
       "    </tr>\n",
       "    <tr>\n",
       "      <th>1</th>\n",
       "      <td>no error when setter has too many arguments py...</td>\n",
       "      <td>0</td>\n",
       "    </tr>\n",
       "    <tr>\n",
       "      <th>2</th>\n",
       "      <td>warn about always truefalse isinstance tests t...</td>\n",
       "      <td>1</td>\n",
       "    </tr>\n",
       "    <tr>\n",
       "      <th>3</th>\n",
       "      <td>several crashes on pyright test suite the cras...</td>\n",
       "      <td>0</td>\n",
       "    </tr>\n",
       "    <tr>\n",
       "      <th>4</th>\n",
       "      <td>assert file not in selfflushedfiles without my...</td>\n",
       "      <td>1</td>\n",
       "    </tr>\n",
       "    <tr>\n",
       "      <th>...</th>\n",
       "      <td>...</td>\n",
       "      <td>...</td>\n",
       "    </tr>\n",
       "    <tr>\n",
       "      <th>729</th>\n",
       "      <td>segfault on recursive type im running mypy on ...</td>\n",
       "      <td>1</td>\n",
       "    </tr>\n",
       "    <tr>\n",
       "      <th>730</th>\n",
       "      <td>plugin use mypy to enrich ast with types with ...</td>\n",
       "      <td>0</td>\n",
       "    </tr>\n",
       "    <tr>\n",
       "      <th>731</th>\n",
       "      <td>give better error messages when calling overlo...</td>\n",
       "      <td>1</td>\n",
       "    </tr>\n",
       "    <tr>\n",
       "      <th>732</th>\n",
       "      <td>incompatible assignment using typeddict in gen...</td>\n",
       "      <td>0</td>\n",
       "    </tr>\n",
       "    <tr>\n",
       "      <th>733</th>\n",
       "      <td>support indexing and iterating enum type objec...</td>\n",
       "      <td>1</td>\n",
       "    </tr>\n",
       "  </tbody>\n",
       "</table>\n",
       "<p>734 rows × 2 columns</p>\n",
       "</div>"
      ],
      "text/plain": [
       "                                                  text  label\n",
       "0    error code misc and build errors it probably s...      1\n",
       "1    no error when setter has too many arguments py...      0\n",
       "2    warn about always truefalse isinstance tests t...      1\n",
       "3    several crashes on pyright test suite the cras...      0\n",
       "4    assert file not in selfflushedfiles without my...      1\n",
       "..                                                 ...    ...\n",
       "729  segfault on recursive type im running mypy on ...      1\n",
       "730  plugin use mypy to enrich ast with types with ...      0\n",
       "731  give better error messages when calling overlo...      1\n",
       "732  incompatible assignment using typeddict in gen...      0\n",
       "733  support indexing and iterating enum type objec...      1\n",
       "\n",
       "[734 rows x 2 columns]"
      ]
     },
     "execution_count": 14,
     "metadata": {},
     "output_type": "execute_result"
    }
   ],
   "source": [
    "\n",
    "fine_tuning_df = fine_tuning_df.rename(columns={'text_clean': 'text'})\n",
    "fine_tuning_df"
   ]
  },
  {
   "cell_type": "code",
   "execution_count": 15,
   "id": "abede05d-ccb8-427c-b64a-135ba811adb4",
   "metadata": {},
   "outputs": [],
   "source": [
    "# Split the full training dataframe into training and test dataframes\n",
    "# 85/15 split. Validation set will be created from the training set later.\n",
    "train_full_training_df, test_full_training_df = train_test_split(full_training_df)\n"
   ]
  },
  {
   "cell_type": "code",
   "execution_count": 16,
   "id": "5ba5200b-d0af-4cc0-9d9c-7ae701d07b5d",
   "metadata": {},
   "outputs": [],
   "source": [
    "# Split the fine-tuning data frame into training and test data frames\n",
    "# Where 30% of the data is used for training and 70% for testing\n",
    "fine_tune_train_df , fine_tune_test_df = train_test_split(fine_tuning_df, train_percent=.30) # 30%"
   ]
  },
  {
   "cell_type": "code",
   "execution_count": 17,
   "id": "f2acee4a",
   "metadata": {},
   "outputs": [
    {
     "data": {
      "text/html": [
       "<div>\n",
       "<style scoped>\n",
       "    .dataframe tbody tr th:only-of-type {\n",
       "        vertical-align: middle;\n",
       "    }\n",
       "\n",
       "    .dataframe tbody tr th {\n",
       "        vertical-align: top;\n",
       "    }\n",
       "\n",
       "    .dataframe thead th {\n",
       "        text-align: right;\n",
       "    }\n",
       "</style>\n",
       "<table border=\"1\" class=\"dataframe\">\n",
       "  <thead>\n",
       "    <tr style=\"text-align: right;\">\n",
       "      <th></th>\n",
       "      <th>text</th>\n",
       "      <th>label</th>\n",
       "    </tr>\n",
       "  </thead>\n",
       "  <tbody>\n",
       "    <tr>\n",
       "      <th>559</th>\n",
       "      <td>modules as protocols doesnt typecheck against ...</td>\n",
       "      <td>1</td>\n",
       "    </tr>\n",
       "    <tr>\n",
       "      <th>33</th>\n",
       "      <td>subclassing a contextmanager fails from contex...</td>\n",
       "      <td>0</td>\n",
       "    </tr>\n",
       "    <tr>\n",
       "      <th>275</th>\n",
       "      <td>cannot assign to field of callable type consid...</td>\n",
       "      <td>1</td>\n",
       "    </tr>\n",
       "    <tr>\n",
       "      <th>198</th>\n",
       "      <td>unintended consequences of eliminating promoti...</td>\n",
       "      <td>0</td>\n",
       "    </tr>\n",
       "    <tr>\n",
       "      <th>192</th>\n",
       "      <td>are incomplete type annotations allowed under ...</td>\n",
       "      <td>0</td>\n",
       "    </tr>\n",
       "    <tr>\n",
       "      <th>...</th>\n",
       "      <td>...</td>\n",
       "      <td>...</td>\n",
       "    </tr>\n",
       "    <tr>\n",
       "      <th>209</th>\n",
       "      <td>make columnline numbers more precise for commo...</td>\n",
       "      <td>1</td>\n",
       "    </tr>\n",
       "    <tr>\n",
       "      <th>568</th>\n",
       "      <td>wrong message when forstatements index variabl...</td>\n",
       "      <td>0</td>\n",
       "    </tr>\n",
       "    <tr>\n",
       "      <th>412</th>\n",
       "      <td>map with lambda is broken in python gives obje...</td>\n",
       "      <td>1</td>\n",
       "    </tr>\n",
       "    <tr>\n",
       "      <th>176</th>\n",
       "      <td>mypy doesnt understand sixwithmetaclass exampl...</td>\n",
       "      <td>1</td>\n",
       "    </tr>\n",
       "    <tr>\n",
       "      <th>548</th>\n",
       "      <td>detect and flag as errors forward references t...</td>\n",
       "      <td>1</td>\n",
       "    </tr>\n",
       "  </tbody>\n",
       "</table>\n",
       "<p>220 rows × 2 columns</p>\n",
       "</div>"
      ],
      "text/plain": [
       "                                                  text  label\n",
       "559  modules as protocols doesnt typecheck against ...      1\n",
       "33   subclassing a contextmanager fails from contex...      0\n",
       "275  cannot assign to field of callable type consid...      1\n",
       "198  unintended consequences of eliminating promoti...      0\n",
       "192  are incomplete type annotations allowed under ...      0\n",
       "..                                                 ...    ...\n",
       "209  make columnline numbers more precise for commo...      1\n",
       "568  wrong message when forstatements index variabl...      0\n",
       "412  map with lambda is broken in python gives obje...      1\n",
       "176  mypy doesnt understand sixwithmetaclass exampl...      1\n",
       "548  detect and flag as errors forward references t...      1\n",
       "\n",
       "[220 rows x 2 columns]"
      ]
     },
     "execution_count": 17,
     "metadata": {},
     "output_type": "execute_result"
    }
   ],
   "source": [
    "fine_tune_train_df"
   ]
  },
  {
   "cell_type": "code",
   "execution_count": 18,
   "id": "f13fa85a-e5f6-4aec-9592-3f60f514f7a2",
   "metadata": {},
   "outputs": [],
   "source": [
    "# Concatenate the training dataframes into the final training dataframe\n",
    "df = pd.concat([train_full_training_df, fine_tune_train_df], ignore_index = True)"
   ]
  },
  {
   "cell_type": "code",
   "execution_count": 19,
   "id": "d1b91f54",
   "metadata": {},
   "outputs": [
    {
     "data": {
      "text/html": [
       "<div>\n",
       "<style scoped>\n",
       "    .dataframe tbody tr th:only-of-type {\n",
       "        vertical-align: middle;\n",
       "    }\n",
       "\n",
       "    .dataframe tbody tr th {\n",
       "        vertical-align: top;\n",
       "    }\n",
       "\n",
       "    .dataframe thead th {\n",
       "        text-align: right;\n",
       "    }\n",
       "</style>\n",
       "<table border=\"1\" class=\"dataframe\">\n",
       "  <thead>\n",
       "    <tr style=\"text-align: right;\">\n",
       "      <th></th>\n",
       "      <th>text</th>\n",
       "      <th>label</th>\n",
       "    </tr>\n",
       "  </thead>\n",
       "  <tbody>\n",
       "    <tr>\n",
       "      <th>0</th>\n",
       "      <td>currently we are using usrshareelasticsearch a...</td>\n",
       "      <td>0</td>\n",
       "    </tr>\n",
       "    <tr>\n",
       "      <th>1</th>\n",
       "      <td>its been over hrs since the mirror has been up...</td>\n",
       "      <td>0</td>\n",
       "    </tr>\n",
       "    <tr>\n",
       "      <th>2</th>\n",
       "      <td>there has been discussion on the mailing lists...</td>\n",
       "      <td>0</td>\n",
       "    </tr>\n",
       "    <tr>\n",
       "      <th>3</th>\n",
       "      <td>when elytron client tries to obtain clientconf...</td>\n",
       "      <td>1</td>\n",
       "    </tr>\n",
       "    <tr>\n",
       "      <th>4</th>\n",
       "      <td>need to be able to release all items at once v...</td>\n",
       "      <td>1</td>\n",
       "    </tr>\n",
       "    <tr>\n",
       "      <th>...</th>\n",
       "      <td>...</td>\n",
       "      <td>...</td>\n",
       "    </tr>\n",
       "    <tr>\n",
       "      <th>94323</th>\n",
       "      <td>make columnline numbers more precise for commo...</td>\n",
       "      <td>1</td>\n",
       "    </tr>\n",
       "    <tr>\n",
       "      <th>94324</th>\n",
       "      <td>wrong message when forstatements index variabl...</td>\n",
       "      <td>0</td>\n",
       "    </tr>\n",
       "    <tr>\n",
       "      <th>94325</th>\n",
       "      <td>map with lambda is broken in python gives obje...</td>\n",
       "      <td>1</td>\n",
       "    </tr>\n",
       "    <tr>\n",
       "      <th>94326</th>\n",
       "      <td>mypy doesnt understand sixwithmetaclass exampl...</td>\n",
       "      <td>1</td>\n",
       "    </tr>\n",
       "    <tr>\n",
       "      <th>94327</th>\n",
       "      <td>detect and flag as errors forward references t...</td>\n",
       "      <td>1</td>\n",
       "    </tr>\n",
       "  </tbody>\n",
       "</table>\n",
       "<p>94328 rows × 2 columns</p>\n",
       "</div>"
      ],
      "text/plain": [
       "                                                    text  label\n",
       "0      currently we are using usrshareelasticsearch a...      0\n",
       "1      its been over hrs since the mirror has been up...      0\n",
       "2      there has been discussion on the mailing lists...      0\n",
       "3      when elytron client tries to obtain clientconf...      1\n",
       "4      need to be able to release all items at once v...      1\n",
       "...                                                  ...    ...\n",
       "94323  make columnline numbers more precise for commo...      1\n",
       "94324  wrong message when forstatements index variabl...      0\n",
       "94325  map with lambda is broken in python gives obje...      1\n",
       "94326  mypy doesnt understand sixwithmetaclass exampl...      1\n",
       "94327  detect and flag as errors forward references t...      1\n",
       "\n",
       "[94328 rows x 2 columns]"
      ]
     },
     "execution_count": 19,
     "metadata": {},
     "output_type": "execute_result"
    }
   ],
   "source": [
    "df"
   ]
  },
  {
   "cell_type": "code",
   "execution_count": 20,
   "id": "1902e2d0-9479-4a54-9148-7b6ddd0e44e1",
   "metadata": {},
   "outputs": [],
   "source": [
    "gkf = GroupKFold(n_splits=CONFIG['n_fold'])\n",
    "\n",
    "for fold, ( _, val_) in enumerate(gkf.split(X=df, groups=df.text)):\n",
    "    df.loc[val_ , \"kfold\"] = int(fold)\n",
    "    \n",
    "df[\"kfold\"] = df[\"kfold\"].astype(int)\n"
   ]
  },
  {
   "cell_type": "code",
   "execution_count": 21,
   "id": "60874b39-4bec-4d96-9973-01d6935693dd",
   "metadata": {},
   "outputs": [
    {
     "data": {
      "text/plain": [
       "kfold  label\n",
       "0      1        15949\n",
       "       0        15494\n",
       "1      0        15825\n",
       "       1        15618\n",
       "2      0        15815\n",
       "       1        15627\n",
       "Name: count, dtype: int64"
      ]
     },
     "execution_count": 21,
     "metadata": {},
     "output_type": "execute_result"
    }
   ],
   "source": [
    "df.groupby('kfold')['label'].value_counts()\n"
   ]
  },
  {
   "cell_type": "code",
   "execution_count": 22,
   "id": "455d058b-1561-4493-bd19-11cb59be06cb",
   "metadata": {},
   "outputs": [
    {
     "data": {
      "text/html": [
       "<div>\n",
       "<style scoped>\n",
       "    .dataframe tbody tr th:only-of-type {\n",
       "        vertical-align: middle;\n",
       "    }\n",
       "\n",
       "    .dataframe tbody tr th {\n",
       "        vertical-align: top;\n",
       "    }\n",
       "\n",
       "    .dataframe thead th {\n",
       "        text-align: right;\n",
       "    }\n",
       "</style>\n",
       "<table border=\"1\" class=\"dataframe\">\n",
       "  <thead>\n",
       "    <tr style=\"text-align: right;\">\n",
       "      <th></th>\n",
       "      <th>text</th>\n",
       "      <th>label</th>\n",
       "      <th>kfold</th>\n",
       "    </tr>\n",
       "  </thead>\n",
       "  <tbody>\n",
       "    <tr>\n",
       "      <th>0</th>\n",
       "      <td>currently we are using usrshareelasticsearch a...</td>\n",
       "      <td>0</td>\n",
       "      <td>1</td>\n",
       "    </tr>\n",
       "    <tr>\n",
       "      <th>1</th>\n",
       "      <td>its been over hrs since the mirror has been up...</td>\n",
       "      <td>0</td>\n",
       "      <td>2</td>\n",
       "    </tr>\n",
       "    <tr>\n",
       "      <th>2</th>\n",
       "      <td>there has been discussion on the mailing lists...</td>\n",
       "      <td>0</td>\n",
       "      <td>1</td>\n",
       "    </tr>\n",
       "    <tr>\n",
       "      <th>3</th>\n",
       "      <td>when elytron client tries to obtain clientconf...</td>\n",
       "      <td>1</td>\n",
       "      <td>0</td>\n",
       "    </tr>\n",
       "    <tr>\n",
       "      <th>4</th>\n",
       "      <td>need to be able to release all items at once v...</td>\n",
       "      <td>1</td>\n",
       "      <td>2</td>\n",
       "    </tr>\n",
       "    <tr>\n",
       "      <th>...</th>\n",
       "      <td>...</td>\n",
       "      <td>...</td>\n",
       "      <td>...</td>\n",
       "    </tr>\n",
       "    <tr>\n",
       "      <th>94323</th>\n",
       "      <td>make columnline numbers more precise for commo...</td>\n",
       "      <td>1</td>\n",
       "      <td>2</td>\n",
       "    </tr>\n",
       "    <tr>\n",
       "      <th>94324</th>\n",
       "      <td>wrong message when forstatements index variabl...</td>\n",
       "      <td>0</td>\n",
       "      <td>2</td>\n",
       "    </tr>\n",
       "    <tr>\n",
       "      <th>94325</th>\n",
       "      <td>map with lambda is broken in python gives obje...</td>\n",
       "      <td>1</td>\n",
       "      <td>0</td>\n",
       "    </tr>\n",
       "    <tr>\n",
       "      <th>94326</th>\n",
       "      <td>mypy doesnt understand sixwithmetaclass exampl...</td>\n",
       "      <td>1</td>\n",
       "      <td>1</td>\n",
       "    </tr>\n",
       "    <tr>\n",
       "      <th>94327</th>\n",
       "      <td>detect and flag as errors forward references t...</td>\n",
       "      <td>1</td>\n",
       "      <td>1</td>\n",
       "    </tr>\n",
       "  </tbody>\n",
       "</table>\n",
       "<p>94328 rows × 3 columns</p>\n",
       "</div>"
      ],
      "text/plain": [
       "                                                    text  label  kfold\n",
       "0      currently we are using usrshareelasticsearch a...      0      1\n",
       "1      its been over hrs since the mirror has been up...      0      2\n",
       "2      there has been discussion on the mailing lists...      0      1\n",
       "3      when elytron client tries to obtain clientconf...      1      0\n",
       "4      need to be able to release all items at once v...      1      2\n",
       "...                                                  ...    ...    ...\n",
       "94323  make columnline numbers more precise for commo...      1      2\n",
       "94324  wrong message when forstatements index variabl...      0      2\n",
       "94325  map with lambda is broken in python gives obje...      1      0\n",
       "94326  mypy doesnt understand sixwithmetaclass exampl...      1      1\n",
       "94327  detect and flag as errors forward references t...      1      1\n",
       "\n",
       "[94328 rows x 3 columns]"
      ]
     },
     "execution_count": 22,
     "metadata": {},
     "output_type": "execute_result"
    }
   ],
   "source": [
    "df"
   ]
  },
  {
   "cell_type": "code",
   "execution_count": 23,
   "id": "e2e6cfb2-d1e2-4ef8-8694-2d18e56296a1",
   "metadata": {},
   "outputs": [],
   "source": [
    "class HP_Dataset(Dataset):\n",
    "    def __init__(self, df, tokenizer, max_length):\n",
    "        self.df = df\n",
    "        self.max_len = max_length\n",
    "        self.tokenizer = tokenizer\n",
    "        self.text = df['text'].values\n",
    "        self.targets = df['label'].values\n",
    "        \n",
    "    def __len__(self):\n",
    "        return len(self.df)\n",
    "    \n",
    "    def __getitem__(self, index):\n",
    "        text = self.text[index]\n",
    "        inputs = self.tokenizer.encode_plus(\n",
    "                        text,\n",
    "                        truncation=True,\n",
    "                        add_special_tokens=True,\n",
    "                        max_length=self.max_len\n",
    "                    )\n",
    "        \n",
    "        return {\n",
    "            'input_ids': inputs['input_ids'],\n",
    "            'attention_mask': inputs['attention_mask'],\n",
    "            'target': self.targets[index]\n",
    "        }"
   ]
  },
  {
   "cell_type": "code",
   "execution_count": 24,
   "id": "dbc28466-4efa-44b1-9486-63cc0b2d7c77",
   "metadata": {},
   "outputs": [],
   "source": [
    "collate_fn = DataCollatorWithPadding(tokenizer=CONFIG['tokenizer'])\n"
   ]
  },
  {
   "cell_type": "code",
   "execution_count": 25,
   "id": "d739c680-fc15-4d64-8cf4-8902174dfe12",
   "metadata": {},
   "outputs": [],
   "source": [
    "class MeanPooling(nn.Module):\n",
    "    def __init__(self):\n",
    "        super(MeanPooling, self).__init__()\n",
    "        \n",
    "    def forward(self, last_hidden_state, attention_mask):\n",
    "        input_mask_expanded = attention_mask.unsqueeze(-1).expand(last_hidden_state.size()).float()\n",
    "        sum_embeddings = torch.sum(last_hidden_state * input_mask_expanded, 1)\n",
    "        sum_mask = input_mask_expanded.sum(1)\n",
    "        sum_mask = torch.clamp(sum_mask, min=1e-9)\n",
    "        mean_embeddings = sum_embeddings / sum_mask\n",
    "        return mean_embeddings"
   ]
  },
  {
   "cell_type": "code",
   "execution_count": 26,
   "id": "dba820b1-375c-4a0c-970a-fd554c94ace3",
   "metadata": {},
   "outputs": [],
   "source": [
    "class HP_Model(nn.Module):\n",
    "    def __init__(self, model_name):\n",
    "        super(HP_Model, self).__init__()\n",
    "        self.model = AutoModel.from_pretrained(model_name)\n",
    "        self.config = AutoConfig.from_pretrained(model_name)\n",
    "        self.drop = nn.Dropout(p=0.2)\n",
    "        self.pooler = MeanPooling()\n",
    "        self.fc = nn.Linear(self.config.hidden_size, CONFIG['num_classes'])\n",
    "        \n",
    "    def forward(self, ids, mask):        \n",
    "        out = self.model(input_ids=ids,attention_mask=mask,\n",
    "                         output_hidden_states=False)\n",
    "        out = self.pooler(out.last_hidden_state, mask)\n",
    "        out = self.drop(out)\n",
    "        outputs = self.fc(out)\n",
    "        return outputs"
   ]
  },
  {
   "cell_type": "code",
   "execution_count": 27,
   "id": "1abf13ca-1c86-4cfe-9955-3ff4d0cafe56",
   "metadata": {},
   "outputs": [],
   "source": [
    "def criterion(outputs, labels):\n",
    "    return nn.CrossEntropyLoss()(outputs, labels)"
   ]
  },
  {
   "cell_type": "code",
   "execution_count": 28,
   "id": "013d660f-6376-45cf-9c52-2de074708b50",
   "metadata": {},
   "outputs": [],
   "source": [
    "def train_one_epoch(model, optimizer, scheduler, dataloader, device, epoch):\n",
    "    model.train()\n",
    "    \n",
    "    dataset_size = 0\n",
    "    running_loss = 0.0\n",
    "    \n",
    "    bar = tqdm(enumerate(dataloader), total=len(dataloader))\n",
    "    for step, data in bar:\n",
    "        ids = data['input_ids'].to(device, dtype = torch.long)\n",
    "        mask = data['attention_mask'].to(device, dtype = torch.long)\n",
    "        targets = data['target'].to(device, dtype=torch.long)\n",
    "        \n",
    "        batch_size = ids.size(0)\n",
    "\n",
    "        outputs = model(ids, mask)\n",
    "        \n",
    "        loss = criterion(outputs, targets)\n",
    "        loss = loss / CONFIG['n_accumulate']\n",
    "        loss.backward()\n",
    "    \n",
    "        if (step + 1) % CONFIG['n_accumulate'] == 0:\n",
    "            optimizer.step()\n",
    "\n",
    "            # zero the parameter gradients\n",
    "            optimizer.zero_grad()\n",
    "\n",
    "            if scheduler is not None:\n",
    "                scheduler.step()\n",
    "                \n",
    "        running_loss += (loss.item() * batch_size)\n",
    "        dataset_size += batch_size\n",
    "        \n",
    "        epoch_loss = running_loss / dataset_size\n",
    "        \n",
    "        bar.set_postfix(Epoch=epoch, Train_Loss=epoch_loss,\n",
    "                        LR=optimizer.param_groups[0]['lr'])\n",
    "    gc.collect()\n",
    "    \n",
    "    return epoch_loss"
   ]
  },
  {
   "cell_type": "code",
   "execution_count": 29,
   "id": "77809ed9-c4a1-436f-9bc5-d806ffe6d93e",
   "metadata": {},
   "outputs": [],
   "source": [
    "import seaborn as sns\n",
    "import matplotlib.pyplot as plt\n",
    "from sklearn.metrics import confusion_matrix\n",
    "from sklearn.metrics import classification_report\n",
    "from sklearn.metrics import f1_score\n",
    "from sklearn.metrics import accuracy_score\n",
    "\n"
   ]
  },
  {
   "cell_type": "code",
   "execution_count": 30,
   "id": "2df79ea9-afa8-4de5-a84b-d6dfdc826ff8",
   "metadata": {},
   "outputs": [],
   "source": [
    "def all_classification_report(y_true, y_pred, target_names = ['Non_HP', 'HP'], digits=4):\n",
    "    \n",
    "    print('Classification Report:')\n",
    "    print(classification_report(y_true, y_pred, target_names = target_names, digits=4))\n",
    "    \n",
    "    accuracy =round(accuracy_score(y_true, y_pred),4)\n",
    "    print(\"Accuracy =\",  accuracy)\n",
    "    f1score = round(f1_score(y_true, y_pred),4)\n",
    "    print(\"F1_score =\", f1score)\n",
    "\n",
    "    cm = confusion_matrix(y_true, y_pred, labels=[1,0])\n",
    "    ax= plt.subplot()\n",
    "    sns.heatmap(cm, annot=True, ax = ax, cmap='Blues', fmt=\"d\")\n",
    "\n",
    "    ax.set_title('Confusion Matrix')\n",
    "\n",
    "    ax.set_xlabel('Predicted Labels')\n",
    "    ax.set_ylabel('True Labels')\n",
    "\n",
    "    ax.xaxis.set_ticklabels(['Non_HP', 'HP'])\n",
    "    ax.yaxis.set_ticklabels(['Non_HP', 'HP'])\n",
    "    \n",
    "    return  accuracy , f1score\n",
    "    \n",
    "    "
   ]
  },
  {
   "cell_type": "code",
   "execution_count": 31,
   "id": "c0633e6f-e935-4b94-853b-f3ef01cf97a2",
   "metadata": {},
   "outputs": [],
   "source": [
    "@torch.no_grad()\n",
    "def valid_one_epoch(model, dataloader, device, epoch):\n",
    "    model.eval()\n",
    "    dataset_size = 0\n",
    "    running_loss = 0.0\n",
    "    \n",
    "    y_pred = []\n",
    "    y_true = []\n",
    "    \n",
    "    bar = tqdm(enumerate(dataloader), total=len(dataloader))\n",
    "    for step, data in bar:        \n",
    "        ids = data['input_ids'].to(device, dtype = torch.long)\n",
    "        mask = data['attention_mask'].to(device, dtype = torch.long)\n",
    "        targets = data['target'].to(device, dtype=torch.long)\n",
    "        \n",
    "        batch_size = ids.size(0)\n",
    "\n",
    "        outputs = model(ids, mask)\n",
    "        \n",
    "        loss = criterion(outputs, targets)\n",
    "        \n",
    "\n",
    "        predictions = torch.argmax(outputs, dim=-1).flatten().tolist()\n",
    "        \n",
    "        target = targets.tolist()\n",
    "\n",
    "        y_pred.extend(predictions)\n",
    "        y_true.extend(target)\n",
    "        running_loss += (loss.item() * batch_size)\n",
    "        dataset_size += batch_size\n",
    "        \n",
    "        epoch_loss = running_loss / dataset_size\n",
    "        \n",
    "        bar.set_postfix(Epoch=epoch, Valid_Loss=epoch_loss,LR=optimizer.param_groups[0]['lr'])   \n",
    "    \n",
    "    \n",
    "    accuracy, f1score = all_classification_report(y_true,y_pred)\n",
    "    gc.collect()\n",
    "    \n",
    "    return epoch_loss , accuracy , f1score"
   ]
  },
  {
   "cell_type": "code",
   "execution_count": 32,
   "id": "e2a01d01-3b43-4723-9874-43b38ffcbdc4",
   "metadata": {},
   "outputs": [],
   "source": [
    "def run_training(model, optimizer, scheduler, device, num_epochs, fold):\n",
    "    # To automatically log gradients\n",
    "    wandb.watch(model, log_freq=100)\n",
    "    \n",
    "    if torch.cuda.is_available():\n",
    "        print(\"[INFO] Using GPU: {}\\n\".format(torch.cuda.get_device_name()))\n",
    "    \n",
    "    start = time.time()\n",
    "    best_model_wts = copy.deepcopy(model.state_dict())\n",
    "    best_epoch_loss = np.inf\n",
    "    history = defaultdict(list)\n",
    "    \n",
    "    for epoch in range(1, num_epochs + 1): \n",
    "        gc.collect()\n",
    "        train_epoch_loss = train_one_epoch(model, optimizer, scheduler, \n",
    "                                           dataloader=train_loader, \n",
    "                                           device=CONFIG['device'], epoch=epoch)\n",
    "        \n",
    "        val_epoch_loss, accuracy , f1score = valid_one_epoch(model, valid_loader, device=CONFIG['device'], \n",
    "                                         epoch=epoch)\n",
    "    \n",
    "        history['Train Loss'].append(train_epoch_loss)\n",
    "        history['Valid Loss'].append(val_epoch_loss)\n",
    "      \n",
    "        history['Valid accuracy'].append(accuracy)\n",
    "        history['Valid f1score'].append(f1score)\n",
    "\n",
    "\n",
    "\n",
    "        \n",
    "        # Log the metrics\n",
    "        wandb.log({\"Train Loss\": train_epoch_loss})\n",
    "        wandb.log({\"Valid Loss\": val_epoch_loss})\n",
    "        wandb.log({\"Valid Accuracy\": accuracy})\n",
    "        wandb.log({\"Valid F1_score\": f1score})\n",
    "\n",
    "\n",
    "        \n",
    "        # deep copy the model\n",
    "        if val_epoch_loss <= best_epoch_loss:\n",
    "            print(f\"{b_}Validation Loss Improved ({best_epoch_loss} ---> {val_epoch_loss})\")\n",
    "            best_epoch_loss = val_epoch_loss\n",
    "            run.summary[\"Best Loss\"] = best_epoch_loss\n",
    "            best_model_wts = copy.deepcopy(model.state_dict())\n",
    "            PATH = f\"{HASH_NAME}-Loss-Fold-{fold}.bin\"\n",
    "            torch.save(model.state_dict(), PATH)\n",
    "            # Save a model file from the current directory\n",
    "            print(f\"Model Saved{sr_}\")\n",
    "            \n",
    "        print()\n",
    "    \n",
    "    end = time.time()\n",
    "    time_elapsed = end - start\n",
    "    print('Training complete in {:.0f}h {:.0f}m {:.0f}s'.format(\n",
    "        time_elapsed // 3600, (time_elapsed % 3600) // 60, (time_elapsed % 3600) % 60))\n",
    "    print(\"Best Loss: {:.4f}\".format(best_epoch_loss))\n",
    "    \n",
    "    # load best model weights\n",
    "    model.load_state_dict(best_model_wts)\n",
    "    \n",
    "    return model, history\n"
   ]
  },
  {
   "cell_type": "code",
   "execution_count": 33,
   "id": "7ac45314-e0b4-4150-8e2a-06beba582112",
   "metadata": {},
   "outputs": [],
   "source": [
    "def prepare_loaders(fold):\n",
    "    df_train = df[df.kfold != fold].reset_index(drop=True)\n",
    "    df_valid = df[df.kfold == fold].reset_index(drop=True)\n",
    "    \n",
    "    train_dataset = HP_Dataset(df_train, tokenizer=CONFIG['tokenizer'], max_length=CONFIG['max_length'])\n",
    "    valid_dataset = HP_Dataset(df_valid, tokenizer=CONFIG['tokenizer'], max_length=CONFIG['max_length'])\n",
    "\n",
    "    train_loader = DataLoader(train_dataset, batch_size=CONFIG['train_batch_size'], collate_fn=collate_fn, \n",
    "                              num_workers=2, shuffle=True, pin_memory=True, drop_last=True)\n",
    "    valid_loader = DataLoader(valid_dataset, batch_size=CONFIG['valid_batch_size'], collate_fn=collate_fn,\n",
    "                              num_workers=2, shuffle=False, pin_memory=True)\n",
    "    \n",
    "    return train_loader, valid_loader"
   ]
  },
  {
   "cell_type": "code",
   "execution_count": 34,
   "id": "b3b81685-ab3f-47ca-b1de-86dc9d79fe16",
   "metadata": {},
   "outputs": [],
   "source": [
    "def fetch_scheduler(optimizer):\n",
    "    if CONFIG['scheduler'] == 'CosineAnnealingLR':\n",
    "        scheduler = lr_scheduler.CosineAnnealingLR(optimizer,T_max=CONFIG['T_max'], \n",
    "                                                   eta_min=CONFIG['min_lr'])\n",
    "    elif CONFIG['scheduler'] == 'CosineAnnealingWarmRestarts':\n",
    "        scheduler = lr_scheduler.CosineAnnealingWarmRestarts(optimizer,T_0=CONFIG['T_0'], \n",
    "                                                             eta_min=CONFIG['min_lr'])\n",
    "    elif CONFIG['scheduler'] == None:\n",
    "        return None\n",
    "        \n",
    "    return scheduler"
   ]
  },
  {
   "cell_type": "code",
   "execution_count": 35,
   "id": "1a6d0841-320f-4794-8377-ce2073b72bab",
   "metadata": {},
   "outputs": [
    {
     "name": "stdout",
     "output_type": "stream",
     "text": [
      "\u001b[33m====== Fold: 0 ======\u001b[0m\n"
     ]
    },
    {
     "data": {
      "text/html": [
       "Tracking run with wandb version 0.16.6"
      ],
      "text/plain": [
       "<IPython.core.display.HTML object>"
      ]
     },
     "metadata": {},
     "output_type": "display_data"
    },
    {
     "data": {
      "text/html": [
       "Run data is saved locally in <code>/fp/homes01/u01/ec-krimhau/thesis_code/priority_model_deberta/jira_models/high_vs_rest/03_fine_tuning/mypy_30_fine_tuning/wandb/run-20240419_102941-qidtp9fr</code>"
      ],
      "text/plain": [
       "<IPython.core.display.HTML object>"
      ]
     },
     "metadata": {},
     "output_type": "display_data"
    },
    {
     "data": {
      "text/html": [
       "Syncing run <strong><a href='https://wandb.ai/krimhau/HP_results_Jira_High_vs_rest_results/runs/qidtp9fr' target=\"_blank\">lck7bcexh4er-fold-0</a></strong> to <a href='https://wandb.ai/krimhau/HP_results_Jira_High_vs_rest_results' target=\"_blank\">Weights & Biases</a> (<a href='https://wandb.me/run' target=\"_blank\">docs</a>)<br/>"
      ],
      "text/plain": [
       "<IPython.core.display.HTML object>"
      ]
     },
     "metadata": {},
     "output_type": "display_data"
    },
    {
     "data": {
      "text/html": [
       " View project at <a href='https://wandb.ai/krimhau/HP_results_Jira_High_vs_rest_results' target=\"_blank\">https://wandb.ai/krimhau/HP_results_Jira_High_vs_rest_results</a>"
      ],
      "text/plain": [
       "<IPython.core.display.HTML object>"
      ]
     },
     "metadata": {},
     "output_type": "display_data"
    },
    {
     "data": {
      "text/html": [
       " View run at <a href='https://wandb.ai/krimhau/HP_results_Jira_High_vs_rest_results/runs/qidtp9fr' target=\"_blank\">https://wandb.ai/krimhau/HP_results_Jira_High_vs_rest_results/runs/qidtp9fr</a>"
      ],
      "text/plain": [
       "<IPython.core.display.HTML object>"
      ]
     },
     "metadata": {},
     "output_type": "display_data"
    },
    {
     "name": "stdout",
     "output_type": "stream",
     "text": [
      "[INFO] Using GPU: NVIDIA A100-PCIE-40GB\n",
      "\n"
     ]
    },
    {
     "name": "stderr",
     "output_type": "stream",
     "text": [
      "100%|██████████| 7860/7860 [30:14<00:00,  4.33it/s, Epoch=1, LR=8.37e-6, Train_Loss=0.607]\n",
      "100%|██████████| 1966/1966 [04:17<00:00,  7.62it/s, Epoch=1, LR=8.37e-6, Valid_Loss=0.607]\n"
     ]
    },
    {
     "name": "stdout",
     "output_type": "stream",
     "text": [
      "Classification Report:\n",
      "              precision    recall  f1-score   support\n",
      "\n",
      "      Non_HP     0.6790    0.5467    0.6057     15494\n",
      "          HP     0.6297    0.7489    0.6842     15949\n",
      "\n",
      "    accuracy                         0.6493     31443\n",
      "   macro avg     0.6544    0.6478    0.6449     31443\n",
      "weighted avg     0.6540    0.6493    0.6455     31443\n",
      "\n",
      "Accuracy = 0.6493\n",
      "F1_score = 0.6842\n",
      "\u001b[34mValidation Loss Improved (inf ---> 0.6073731552309857)\n",
      "Model Saved\u001b[0m\n",
      "\n"
     ]
    },
    {
     "name": "stderr",
     "output_type": "stream",
     "text": [
      "100%|██████████| 7860/7860 [29:59<00:00,  4.37it/s, Epoch=2, LR=4.66e-6, Train_Loss=0.559]\n",
      "100%|██████████| 1966/1966 [04:17<00:00,  7.62it/s, Epoch=2, LR=4.66e-6, Valid_Loss=0.591]\n"
     ]
    },
    {
     "name": "stdout",
     "output_type": "stream",
     "text": [
      "Classification Report:\n",
      "              precision    recall  f1-score   support\n",
      "\n",
      "      Non_HP     0.6586    0.6938    0.6757     15494\n",
      "          HP     0.6862    0.6506    0.6680     15949\n",
      "\n",
      "    accuracy                         0.6719     31443\n",
      "   macro avg     0.6724    0.6722    0.6718     31443\n",
      "weighted avg     0.6726    0.6719    0.6718     31443\n",
      "\n",
      "Accuracy = 0.6719\n",
      "F1_score = 0.668\n",
      "\u001b[34mValidation Loss Improved (0.6073731552309857 ---> 0.5910777189999793)\n",
      "Model Saved\u001b[0m\n",
      "\n"
     ]
    },
    {
     "name": "stderr",
     "output_type": "stream",
     "text": [
      "100%|██████████| 7860/7860 [30:22<00:00,  4.31it/s, Epoch=3, LR=1.56e-6, Train_Loss=0.522]\n",
      "100%|██████████| 1966/1966 [04:17<00:00,  7.62it/s, Epoch=3, LR=1.56e-6, Valid_Loss=0.586]\n"
     ]
    },
    {
     "name": "stdout",
     "output_type": "stream",
     "text": [
      "Classification Report:\n",
      "              precision    recall  f1-score   support\n",
      "\n",
      "      Non_HP     0.6940    0.7256    0.7094     15494\n",
      "          HP     0.7211    0.6891    0.7047     15949\n",
      "\n",
      "    accuracy                         0.7071     31443\n",
      "   macro avg     0.7075    0.7074    0.7071     31443\n",
      "weighted avg     0.7077    0.7071    0.7070     31443\n",
      "\n",
      "Accuracy = 0.7071\n",
      "F1_score = 0.7047\n",
      "\u001b[34mValidation Loss Improved (0.5910777189999793 ---> 0.5855992803803208)\n",
      "Model Saved\u001b[0m\n",
      "\n",
      "Training complete in 1h 43m 34s\n",
      "Best Loss: 0.5856\n"
     ]
    },
    {
     "data": {
      "application/vnd.jupyter.widget-view+json": {
       "model_id": "",
       "version_major": 2,
       "version_minor": 0
      },
      "text/plain": [
       "VBox(children=(Label(value='0.021 MB of 0.021 MB uploaded\\r'), FloatProgress(value=1.0, max=1.0)))"
      ]
     },
     "metadata": {},
     "output_type": "display_data"
    },
    {
     "data": {
      "text/html": [
       "<style>\n",
       "    table.wandb td:nth-child(1) { padding: 0 10px; text-align: left ; width: auto;} td:nth-child(2) {text-align: left ; width: 100%}\n",
       "    .wandb-row { display: flex; flex-direction: row; flex-wrap: wrap; justify-content: flex-start; width: 100% }\n",
       "    .wandb-col { display: flex; flex-direction: column; flex-basis: 100%; flex: 1; padding: 10px; }\n",
       "    </style>\n",
       "<div class=\"wandb-row\"><div class=\"wandb-col\"><h3>Run history:</h3><br/><table class=\"wandb\"><tr><td>Train Loss</td><td>█▄▁</td></tr><tr><td>Valid Accuracy</td><td>▁▄█</td></tr><tr><td>Valid F1_score</td><td>▄▁█</td></tr><tr><td>Valid Loss</td><td>█▃▁</td></tr></table><br/></div><div class=\"wandb-col\"><h3>Run summary:</h3><br/><table class=\"wandb\"><tr><td>Best Loss</td><td>0.5856</td></tr><tr><td>Train Loss</td><td>0.5216</td></tr><tr><td>Valid Accuracy</td><td>0.7071</td></tr><tr><td>Valid F1_score</td><td>0.7047</td></tr><tr><td>Valid Loss</td><td>0.5856</td></tr></table><br/></div></div>"
      ],
      "text/plain": [
       "<IPython.core.display.HTML object>"
      ]
     },
     "metadata": {},
     "output_type": "display_data"
    },
    {
     "data": {
      "text/html": [
       " View run <strong style=\"color:#cdcd00\">lck7bcexh4er-fold-0</strong> at: <a href='https://wandb.ai/krimhau/HP_results_Jira_High_vs_rest_results/runs/qidtp9fr' target=\"_blank\">https://wandb.ai/krimhau/HP_results_Jira_High_vs_rest_results/runs/qidtp9fr</a><br/> View project at: <a href='https://wandb.ai/krimhau/HP_results_Jira_High_vs_rest_results' target=\"_blank\">https://wandb.ai/krimhau/HP_results_Jira_High_vs_rest_results</a><br/>Synced 5 W&B file(s), 0 media file(s), 0 artifact file(s) and 0 other file(s)"
      ],
      "text/plain": [
       "<IPython.core.display.HTML object>"
      ]
     },
     "metadata": {},
     "output_type": "display_data"
    },
    {
     "data": {
      "text/html": [
       "Find logs at: <code>./wandb/run-20240419_102941-qidtp9fr/logs</code>"
      ],
      "text/plain": [
       "<IPython.core.display.HTML object>"
      ]
     },
     "metadata": {},
     "output_type": "display_data"
    },
    {
     "name": "stdout",
     "output_type": "stream",
     "text": [
      "\n",
      "\u001b[33m====== Fold: 1 ======\u001b[0m\n"
     ]
    },
    {
     "data": {
      "application/vnd.jupyter.widget-view+json": {
       "model_id": "dcf562f8494b4208af01be6b0609406a",
       "version_major": 2,
       "version_minor": 0
      },
      "text/plain": [
       "VBox(children=(Label(value='Waiting for wandb.init()...\\r'), FloatProgress(value=0.011113943547631304, max=1.0…"
      ]
     },
     "metadata": {},
     "output_type": "display_data"
    },
    {
     "data": {
      "text/html": [
       "Tracking run with wandb version 0.16.6"
      ],
      "text/plain": [
       "<IPython.core.display.HTML object>"
      ]
     },
     "metadata": {},
     "output_type": "display_data"
    },
    {
     "data": {
      "text/html": [
       "Run data is saved locally in <code>/fp/homes01/u01/ec-krimhau/thesis_code/priority_model_deberta/jira_models/high_vs_rest/03_fine_tuning/mypy_30_fine_tuning/wandb/run-20240419_121333-djyqqgx2</code>"
      ],
      "text/plain": [
       "<IPython.core.display.HTML object>"
      ]
     },
     "metadata": {},
     "output_type": "display_data"
    },
    {
     "data": {
      "text/html": [
       "Syncing run <strong><a href='https://wandb.ai/krimhau/HP_results_Jira_High_vs_rest_results/runs/djyqqgx2' target=\"_blank\">lck7bcexh4er-fold-1</a></strong> to <a href='https://wandb.ai/krimhau/HP_results_Jira_High_vs_rest_results' target=\"_blank\">Weights & Biases</a> (<a href='https://wandb.me/run' target=\"_blank\">docs</a>)<br/>"
      ],
      "text/plain": [
       "<IPython.core.display.HTML object>"
      ]
     },
     "metadata": {},
     "output_type": "display_data"
    },
    {
     "data": {
      "text/html": [
       " View project at <a href='https://wandb.ai/krimhau/HP_results_Jira_High_vs_rest_results' target=\"_blank\">https://wandb.ai/krimhau/HP_results_Jira_High_vs_rest_results</a>"
      ],
      "text/plain": [
       "<IPython.core.display.HTML object>"
      ]
     },
     "metadata": {},
     "output_type": "display_data"
    },
    {
     "data": {
      "text/html": [
       " View run at <a href='https://wandb.ai/krimhau/HP_results_Jira_High_vs_rest_results/runs/djyqqgx2' target=\"_blank\">https://wandb.ai/krimhau/HP_results_Jira_High_vs_rest_results/runs/djyqqgx2</a>"
      ],
      "text/plain": [
       "<IPython.core.display.HTML object>"
      ]
     },
     "metadata": {},
     "output_type": "display_data"
    },
    {
     "name": "stdout",
     "output_type": "stream",
     "text": [
      "[INFO] Using GPU: NVIDIA A100-PCIE-40GB\n",
      "\n"
     ]
    },
    {
     "name": "stderr",
     "output_type": "stream",
     "text": [
      "100%|██████████| 7860/7860 [29:57<00:00,  4.37it/s, Epoch=1, LR=8.37e-6, Train_Loss=0.609]\n",
      "100%|██████████| 1966/1966 [04:24<00:00,  7.44it/s, Epoch=1, LR=8.37e-6, Valid_Loss=0.588]\n"
     ]
    },
    {
     "name": "stdout",
     "output_type": "stream",
     "text": [
      "Classification Report:\n",
      "              precision    recall  f1-score   support\n",
      "\n",
      "      Non_HP     0.7652    0.5285    0.6252     15825\n",
      "          HP     0.6363    0.8356    0.7224     15618\n",
      "\n",
      "    accuracy                         0.6811     31443\n",
      "   macro avg     0.7007    0.6821    0.6738     31443\n",
      "weighted avg     0.7011    0.6811    0.6735     31443\n",
      "\n",
      "Accuracy = 0.6811\n",
      "F1_score = 0.7224\n",
      "\u001b[34mValidation Loss Improved (inf ---> 0.5881901573001992)\n",
      "Model Saved\u001b[0m\n",
      "\n"
     ]
    },
    {
     "name": "stderr",
     "output_type": "stream",
     "text": [
      "100%|██████████| 7860/7860 [30:21<00:00,  4.32it/s, Epoch=2, LR=4.66e-6, Train_Loss=0.556]\n",
      "100%|██████████| 1966/1966 [04:24<00:00,  7.44it/s, Epoch=2, LR=4.66e-6, Valid_Loss=0.565]\n"
     ]
    },
    {
     "name": "stdout",
     "output_type": "stream",
     "text": [
      "Classification Report:\n",
      "              precision    recall  f1-score   support\n",
      "\n",
      "      Non_HP     0.7117    0.6935    0.7025     15825\n",
      "          HP     0.6973    0.7154    0.7062     15618\n",
      "\n",
      "    accuracy                         0.7044     31443\n",
      "   macro avg     0.7045    0.7044    0.7043     31443\n",
      "weighted avg     0.7045    0.7044    0.7043     31443\n",
      "\n",
      "Accuracy = 0.7044\n",
      "F1_score = 0.7062\n",
      "\u001b[34mValidation Loss Improved (0.5881901573001992 ---> 0.5653016694332964)\n",
      "Model Saved\u001b[0m\n",
      "\n"
     ]
    },
    {
     "name": "stderr",
     "output_type": "stream",
     "text": [
      "100%|██████████| 7860/7860 [29:54<00:00,  4.38it/s, Epoch=3, LR=1.56e-6, Train_Loss=0.514]\n",
      "100%|██████████| 1966/1966 [04:24<00:00,  7.43it/s, Epoch=3, LR=1.56e-6, Valid_Loss=0.566]\n"
     ]
    },
    {
     "name": "stdout",
     "output_type": "stream",
     "text": [
      "Classification Report:\n",
      "              precision    recall  f1-score   support\n",
      "\n",
      "      Non_HP     0.7198    0.6861    0.7025     15825\n",
      "          HP     0.6963    0.7294    0.7125     15618\n",
      "\n",
      "    accuracy                         0.7076     31443\n",
      "   macro avg     0.7081    0.7077    0.7075     31443\n",
      "weighted avg     0.7082    0.7076    0.7075     31443\n",
      "\n",
      "Accuracy = 0.7076\n",
      "F1_score = 0.7125\n",
      "\n",
      "Training complete in 1h 43m 30s\n",
      "Best Loss: 0.5653\n"
     ]
    },
    {
     "data": {
      "application/vnd.jupyter.widget-view+json": {
       "model_id": "",
       "version_major": 2,
       "version_minor": 0
      },
      "text/plain": [
       "VBox(children=(Label(value='0.021 MB of 0.021 MB uploaded\\r'), FloatProgress(value=1.0, max=1.0)))"
      ]
     },
     "metadata": {},
     "output_type": "display_data"
    },
    {
     "data": {
      "text/html": [
       "<style>\n",
       "    table.wandb td:nth-child(1) { padding: 0 10px; text-align: left ; width: auto;} td:nth-child(2) {text-align: left ; width: 100%}\n",
       "    .wandb-row { display: flex; flex-direction: row; flex-wrap: wrap; justify-content: flex-start; width: 100% }\n",
       "    .wandb-col { display: flex; flex-direction: column; flex-basis: 100%; flex: 1; padding: 10px; }\n",
       "    </style>\n",
       "<div class=\"wandb-row\"><div class=\"wandb-col\"><h3>Run history:</h3><br/><table class=\"wandb\"><tr><td>Train Loss</td><td>█▄▁</td></tr><tr><td>Valid Accuracy</td><td>▁▇█</td></tr><tr><td>Valid F1_score</td><td>█▁▄</td></tr><tr><td>Valid Loss</td><td>█▁▁</td></tr></table><br/></div><div class=\"wandb-col\"><h3>Run summary:</h3><br/><table class=\"wandb\"><tr><td>Best Loss</td><td>0.5653</td></tr><tr><td>Train Loss</td><td>0.51366</td></tr><tr><td>Valid Accuracy</td><td>0.7076</td></tr><tr><td>Valid F1_score</td><td>0.7125</td></tr><tr><td>Valid Loss</td><td>0.5655</td></tr></table><br/></div></div>"
      ],
      "text/plain": [
       "<IPython.core.display.HTML object>"
      ]
     },
     "metadata": {},
     "output_type": "display_data"
    },
    {
     "data": {
      "text/html": [
       " View run <strong style=\"color:#cdcd00\">lck7bcexh4er-fold-1</strong> at: <a href='https://wandb.ai/krimhau/HP_results_Jira_High_vs_rest_results/runs/djyqqgx2' target=\"_blank\">https://wandb.ai/krimhau/HP_results_Jira_High_vs_rest_results/runs/djyqqgx2</a><br/> View project at: <a href='https://wandb.ai/krimhau/HP_results_Jira_High_vs_rest_results' target=\"_blank\">https://wandb.ai/krimhau/HP_results_Jira_High_vs_rest_results</a><br/>Synced 5 W&B file(s), 0 media file(s), 0 artifact file(s) and 0 other file(s)"
      ],
      "text/plain": [
       "<IPython.core.display.HTML object>"
      ]
     },
     "metadata": {},
     "output_type": "display_data"
    },
    {
     "data": {
      "text/html": [
       "Find logs at: <code>./wandb/run-20240419_121333-djyqqgx2/logs</code>"
      ],
      "text/plain": [
       "<IPython.core.display.HTML object>"
      ]
     },
     "metadata": {},
     "output_type": "display_data"
    },
    {
     "name": "stdout",
     "output_type": "stream",
     "text": [
      "\n",
      "\u001b[33m====== Fold: 2 ======\u001b[0m\n"
     ]
    },
    {
     "data": {
      "application/vnd.jupyter.widget-view+json": {
       "model_id": "3dd8b2aa6ef544b484061c2ddd1f0e51",
       "version_major": 2,
       "version_minor": 0
      },
      "text/plain": [
       "VBox(children=(Label(value='Waiting for wandb.init()...\\r'), FloatProgress(value=0.011113920197304752, max=1.0…"
      ]
     },
     "metadata": {},
     "output_type": "display_data"
    },
    {
     "data": {
      "text/html": [
       "Tracking run with wandb version 0.16.6"
      ],
      "text/plain": [
       "<IPython.core.display.HTML object>"
      ]
     },
     "metadata": {},
     "output_type": "display_data"
    },
    {
     "data": {
      "text/html": [
       "Run data is saved locally in <code>/fp/homes01/u01/ec-krimhau/thesis_code/priority_model_deberta/jira_models/high_vs_rest/03_fine_tuning/mypy_30_fine_tuning/wandb/run-20240419_135714-4t7rml3j</code>"
      ],
      "text/plain": [
       "<IPython.core.display.HTML object>"
      ]
     },
     "metadata": {},
     "output_type": "display_data"
    },
    {
     "data": {
      "text/html": [
       "Syncing run <strong><a href='https://wandb.ai/krimhau/HP_results_Jira_High_vs_rest_results/runs/4t7rml3j' target=\"_blank\">lck7bcexh4er-fold-2</a></strong> to <a href='https://wandb.ai/krimhau/HP_results_Jira_High_vs_rest_results' target=\"_blank\">Weights & Biases</a> (<a href='https://wandb.me/run' target=\"_blank\">docs</a>)<br/>"
      ],
      "text/plain": [
       "<IPython.core.display.HTML object>"
      ]
     },
     "metadata": {},
     "output_type": "display_data"
    },
    {
     "data": {
      "text/html": [
       " View project at <a href='https://wandb.ai/krimhau/HP_results_Jira_High_vs_rest_results' target=\"_blank\">https://wandb.ai/krimhau/HP_results_Jira_High_vs_rest_results</a>"
      ],
      "text/plain": [
       "<IPython.core.display.HTML object>"
      ]
     },
     "metadata": {},
     "output_type": "display_data"
    },
    {
     "data": {
      "text/html": [
       " View run at <a href='https://wandb.ai/krimhau/HP_results_Jira_High_vs_rest_results/runs/4t7rml3j' target=\"_blank\">https://wandb.ai/krimhau/HP_results_Jira_High_vs_rest_results/runs/4t7rml3j</a>"
      ],
      "text/plain": [
       "<IPython.core.display.HTML object>"
      ]
     },
     "metadata": {},
     "output_type": "display_data"
    },
    {
     "name": "stdout",
     "output_type": "stream",
     "text": [
      "[INFO] Using GPU: NVIDIA A100-PCIE-40GB\n",
      "\n"
     ]
    },
    {
     "name": "stderr",
     "output_type": "stream",
     "text": [
      "100%|██████████| 7860/7860 [30:14<00:00,  4.33it/s, Epoch=1, LR=8.37e-6, Train_Loss=0.609]\n",
      "100%|██████████| 1966/1966 [04:17<00:00,  7.64it/s, Epoch=1, LR=8.37e-6, Valid_Loss=0.578]\n"
     ]
    },
    {
     "name": "stdout",
     "output_type": "stream",
     "text": [
      "Classification Report:\n",
      "              precision    recall  f1-score   support\n",
      "\n",
      "      Non_HP     0.7389    0.6002    0.6624     15815\n",
      "          HP     0.6600    0.7854    0.7172     15627\n",
      "\n",
      "    accuracy                         0.6922     31442\n",
      "   macro avg     0.6994    0.6928    0.6898     31442\n",
      "weighted avg     0.6997    0.6922    0.6896     31442\n",
      "\n",
      "Accuracy = 0.6922\n",
      "F1_score = 0.7172\n",
      "\u001b[34mValidation Loss Improved (inf ---> 0.5776379474375162)\n",
      "Model Saved\u001b[0m\n",
      "\n"
     ]
    },
    {
     "name": "stderr",
     "output_type": "stream",
     "text": [
      "100%|██████████| 7860/7860 [30:21<00:00,  4.32it/s, Epoch=2, LR=4.66e-6, Train_Loss=0.559]\n",
      "100%|██████████| 1966/1966 [04:17<00:00,  7.64it/s, Epoch=2, LR=4.66e-6, Valid_Loss=0.561]\n"
     ]
    },
    {
     "name": "stdout",
     "output_type": "stream",
     "text": [
      "Classification Report:\n",
      "              precision    recall  f1-score   support\n",
      "\n",
      "      Non_HP     0.7029    0.7196    0.7111     15815\n",
      "          HP     0.7092    0.6921    0.7006     15627\n",
      "\n",
      "    accuracy                         0.7059     31442\n",
      "   macro avg     0.7060    0.7059    0.7058     31442\n",
      "weighted avg     0.7060    0.7059    0.7059     31442\n",
      "\n",
      "Accuracy = 0.7059\n",
      "F1_score = 0.7006\n",
      "\u001b[34mValidation Loss Improved (0.5776379474375162 ---> 0.5608460582870008)\n",
      "Model Saved\u001b[0m\n",
      "\n"
     ]
    },
    {
     "name": "stderr",
     "output_type": "stream",
     "text": [
      "100%|██████████| 7860/7860 [30:37<00:00,  4.28it/s, Epoch=3, LR=1.56e-6, Train_Loss=0.517]\n",
      "100%|██████████| 1966/1966 [04:17<00:00,  7.63it/s, Epoch=3, LR=1.56e-6, Valid_Loss=0.563]\n"
     ]
    },
    {
     "name": "stdout",
     "output_type": "stream",
     "text": [
      "Classification Report:\n",
      "              precision    recall  f1-score   support\n",
      "\n",
      "      Non_HP     0.7246    0.6935    0.7087     15815\n",
      "          HP     0.7027    0.7332    0.7176     15627\n",
      "\n",
      "    accuracy                         0.7132     31442\n",
      "   macro avg     0.7136    0.7133    0.7131     31442\n",
      "weighted avg     0.7137    0.7132    0.7131     31442\n",
      "\n",
      "Accuracy = 0.7132\n",
      "F1_score = 0.7176\n",
      "\n",
      "Training complete in 1h 44m 11s\n",
      "Best Loss: 0.5608\n"
     ]
    },
    {
     "data": {
      "application/vnd.jupyter.widget-view+json": {
       "model_id": "",
       "version_major": 2,
       "version_minor": 0
      },
      "text/plain": [
       "VBox(children=(Label(value='0.021 MB of 0.021 MB uploaded\\r'), FloatProgress(value=1.0, max=1.0)))"
      ]
     },
     "metadata": {},
     "output_type": "display_data"
    },
    {
     "data": {
      "text/html": [
       "<style>\n",
       "    table.wandb td:nth-child(1) { padding: 0 10px; text-align: left ; width: auto;} td:nth-child(2) {text-align: left ; width: 100%}\n",
       "    .wandb-row { display: flex; flex-direction: row; flex-wrap: wrap; justify-content: flex-start; width: 100% }\n",
       "    .wandb-col { display: flex; flex-direction: column; flex-basis: 100%; flex: 1; padding: 10px; }\n",
       "    </style>\n",
       "<div class=\"wandb-row\"><div class=\"wandb-col\"><h3>Run history:</h3><br/><table class=\"wandb\"><tr><td>Train Loss</td><td>█▄▁</td></tr><tr><td>Valid Accuracy</td><td>▁▆█</td></tr><tr><td>Valid F1_score</td><td>█▁█</td></tr><tr><td>Valid Loss</td><td>█▁▂</td></tr></table><br/></div><div class=\"wandb-col\"><h3>Run summary:</h3><br/><table class=\"wandb\"><tr><td>Best Loss</td><td>0.56085</td></tr><tr><td>Train Loss</td><td>0.51711</td></tr><tr><td>Valid Accuracy</td><td>0.7132</td></tr><tr><td>Valid F1_score</td><td>0.7176</td></tr><tr><td>Valid Loss</td><td>0.56312</td></tr></table><br/></div></div>"
      ],
      "text/plain": [
       "<IPython.core.display.HTML object>"
      ]
     },
     "metadata": {},
     "output_type": "display_data"
    },
    {
     "data": {
      "text/html": [
       " View run <strong style=\"color:#cdcd00\">lck7bcexh4er-fold-2</strong> at: <a href='https://wandb.ai/krimhau/HP_results_Jira_High_vs_rest_results/runs/4t7rml3j' target=\"_blank\">https://wandb.ai/krimhau/HP_results_Jira_High_vs_rest_results/runs/4t7rml3j</a><br/> View project at: <a href='https://wandb.ai/krimhau/HP_results_Jira_High_vs_rest_results' target=\"_blank\">https://wandb.ai/krimhau/HP_results_Jira_High_vs_rest_results</a><br/>Synced 5 W&B file(s), 0 media file(s), 0 artifact file(s) and 0 other file(s)"
      ],
      "text/plain": [
       "<IPython.core.display.HTML object>"
      ]
     },
     "metadata": {},
     "output_type": "display_data"
    },
    {
     "data": {
      "text/html": [
       "Find logs at: <code>./wandb/run-20240419_135714-4t7rml3j/logs</code>"
      ],
      "text/plain": [
       "<IPython.core.display.HTML object>"
      ]
     },
     "metadata": {},
     "output_type": "display_data"
    },
    {
     "name": "stdout",
     "output_type": "stream",
     "text": [
      "\n"
     ]
    },
    {
     "data": {
      "image/png": "[encoded data removed]",
      "text/plain": [
       "<Figure size 640x480 with 18 Axes>"
      ]
     },
     "metadata": {},
     "output_type": "display_data"
    }
   ],
   "source": [
    "for fold in range(0, CONFIG['n_fold']):\n",
    "    print(f\"{y_}====== Fold: {fold} ======{sr_}\")\n",
    "    run = wandb.init(project='HP_results_Jira_High_vs_rest_results', \n",
    "                     config=CONFIG,\n",
    "                     job_type='Train',\n",
    "                     group=CONFIG['group'],\n",
    "                     tags=[CONFIG['model_name'], f'{HASH_NAME}'],\n",
    "                     name=f'{HASH_NAME}-fold-{fold}',\n",
    "                     anonymous='must')\n",
    "    \n",
    "    # Create Dataloaders\n",
    "    train_loader, valid_loader = prepare_loaders(fold=fold)\n",
    "    \n",
    "    model = HP_Model(CONFIG['model_name'])\n",
    "    model.to(CONFIG['device'])\n",
    "    \n",
    "    # Define Optimizer and Scheduler\n",
    "    optimizer = AdamW(model.parameters(), lr=CONFIG['learning_rate'], weight_decay=CONFIG['weight_decay'])\n",
    "    scheduler = fetch_scheduler(optimizer)\n",
    "    \n",
    "    model, history = run_training(model, optimizer, scheduler,\n",
    "                                  device=CONFIG['device'],\n",
    "                                  num_epochs=CONFIG['epochs'],\n",
    "                                  fold=fold)\n",
    "    \n",
    "    run.finish()\n",
    "    \n",
    "    del model, history, train_loader, valid_loader\n",
    "    _ = gc.collect()\n",
    "    print()"
   ]
  },
  {
   "cell_type": "markdown",
   "id": "489b5b4c",
   "metadata": {},
   "source": [
    "<h2> Testing Inference </h2>\n"
   ]
  },
  {
   "cell_type": "code",
   "execution_count": 36,
   "id": "c8f36497-0ef8-4e3c-8c9e-50c92b92e7a3",
   "metadata": {},
   "outputs": [],
   "source": [
    "import warnings,transformers,logging,torch\n",
    "\n",
    "warnings.simplefilter('ignore')\n",
    "logging.disable(logging.WARNING)"
   ]
  },
  {
   "cell_type": "code",
   "execution_count": 37,
   "id": "1b25e683-7c36-487f-ba36-905d9b04ba13",
   "metadata": {},
   "outputs": [],
   "source": [
    "test_df = fine_tune_test_df"
   ]
  },
  {
   "cell_type": "code",
   "execution_count": 38,
   "id": "f6be00e4-81ad-4264-b42a-afff577eff59",
   "metadata": {},
   "outputs": [
    {
     "data": {
      "text/html": [
       "<div>\n",
       "<style scoped>\n",
       "    .dataframe tbody tr th:only-of-type {\n",
       "        vertical-align: middle;\n",
       "    }\n",
       "\n",
       "    .dataframe tbody tr th {\n",
       "        vertical-align: top;\n",
       "    }\n",
       "\n",
       "    .dataframe thead th {\n",
       "        text-align: right;\n",
       "    }\n",
       "</style>\n",
       "<table border=\"1\" class=\"dataframe\">\n",
       "  <thead>\n",
       "    <tr style=\"text-align: right;\">\n",
       "      <th></th>\n",
       "      <th>text</th>\n",
       "      <th>label</th>\n",
       "    </tr>\n",
       "  </thead>\n",
       "  <tbody>\n",
       "    <tr>\n",
       "      <th>264</th>\n",
       "      <td>self doesnt work when appears in a callable di...</td>\n",
       "      <td>0</td>\n",
       "    </tr>\n",
       "    <tr>\n",
       "      <th>536</th>\n",
       "      <td>strictequality should be more flexible current...</td>\n",
       "      <td>0</td>\n",
       "    </tr>\n",
       "    <tr>\n",
       "      <th>259</th>\n",
       "      <td>incorrect type inferred for dictiterable this ...</td>\n",
       "      <td>0</td>\n",
       "    </tr>\n",
       "    <tr>\n",
       "      <th>137</th>\n",
       "      <td>crash on master branch when using customtypesh...</td>\n",
       "      <td>1</td>\n",
       "    </tr>\n",
       "    <tr>\n",
       "      <th>227</th>\n",
       "      <td>new semantic analyzer crash on cyce in inherit...</td>\n",
       "      <td>1</td>\n",
       "    </tr>\n",
       "    <tr>\n",
       "      <th>...</th>\n",
       "      <td>...</td>\n",
       "      <td>...</td>\n",
       "    </tr>\n",
       "    <tr>\n",
       "      <th>71</th>\n",
       "      <td>tuple used as immutable sequence is considered...</td>\n",
       "      <td>1</td>\n",
       "    </tr>\n",
       "    <tr>\n",
       "      <th>106</th>\n",
       "      <td>incorrect assuming class property is a method ...</td>\n",
       "      <td>0</td>\n",
       "    </tr>\n",
       "    <tr>\n",
       "      <th>270</th>\n",
       "      <td>allow disabling implicit any for type aliases ...</td>\n",
       "      <td>0</td>\n",
       "    </tr>\n",
       "    <tr>\n",
       "      <th>435</th>\n",
       "      <td>literal type not accepted as key when construc...</td>\n",
       "      <td>1</td>\n",
       "    </tr>\n",
       "    <tr>\n",
       "      <th>102</th>\n",
       "      <td>reassigning variable with functoolspartial res...</td>\n",
       "      <td>0</td>\n",
       "    </tr>\n",
       "  </tbody>\n",
       "</table>\n",
       "<p>514 rows × 2 columns</p>\n",
       "</div>"
      ],
      "text/plain": [
       "                                                  text  label\n",
       "264  self doesnt work when appears in a callable di...      0\n",
       "536  strictequality should be more flexible current...      0\n",
       "259  incorrect type inferred for dictiterable this ...      0\n",
       "137  crash on master branch when using customtypesh...      1\n",
       "227  new semantic analyzer crash on cyce in inherit...      1\n",
       "..                                                 ...    ...\n",
       "71   tuple used as immutable sequence is considered...      1\n",
       "106  incorrect assuming class property is a method ...      0\n",
       "270  allow disabling implicit any for type aliases ...      0\n",
       "435  literal type not accepted as key when construc...      1\n",
       "102  reassigning variable with functoolspartial res...      0\n",
       "\n",
       "[514 rows x 2 columns]"
      ]
     },
     "execution_count": 38,
     "metadata": {},
     "output_type": "execute_result"
    }
   ],
   "source": [
    "test_df"
   ]
  },
  {
   "cell_type": "code",
   "execution_count": 39,
   "id": "690f08dd-983c-429c-a6b4-86c20e540b21",
   "metadata": {},
   "outputs": [],
   "source": [
    "class HP_TestDataset(Dataset):\n",
    "    def __init__(self, df, tokenizer, max_length):\n",
    "        self.df = df\n",
    "        self.max_len = max_length\n",
    "        self.tokenizer = tokenizer\n",
    "        self.text = df['text'].values\n",
    "        \n",
    "    def __len__(self):\n",
    "        return len(self.df)\n",
    "    \n",
    "    def __getitem__(self, index):\n",
    "        text = self.text[index]\n",
    "        inputs = self.tokenizer.encode_plus(\n",
    "                        text,\n",
    "                        truncation=True,\n",
    "                        add_special_tokens=True,\n",
    "                        max_length=self.max_len\n",
    "                    )\n",
    "        \n",
    "        samples = {\n",
    "            'input_ids': inputs['input_ids'],\n",
    "            'attention_mask': inputs['attention_mask'],\n",
    "            \n",
    "        }\n",
    "\n",
    "        if 'token_type_ids' in inputs:\n",
    "            samples['token_type_ids'] = inputs['token_type_ids']\n",
    "        \n",
    "        return samples"
   ]
  },
  {
   "cell_type": "code",
   "execution_count": 40,
   "id": "b437f36d-a3a6-4690-a4c5-7c8567b184c8",
   "metadata": {},
   "outputs": [],
   "source": [
    "collate_fn = DataCollatorWithPadding(tokenizer=CONFIG['tokenizer'])\n",
    "\n",
    "softmax = nn.Softmax(dim=1)\n",
    "model = HP_Model(CONFIG['model_name'])"
   ]
  },
  {
   "cell_type": "code",
   "execution_count": 41,
   "id": "c310d8ae-a37e-4eec-84ab-75cf6273df04",
   "metadata": {},
   "outputs": [],
   "source": [
    "def prepare_test_loader(test_df):    \n",
    "    test_dataset = HP_TestDataset(test_df, \n",
    "                                   tokenizer=CONFIG['tokenizer'], \n",
    "                                   max_length=CONFIG['max_length'])\n",
    "    \n",
    "    test_loader = DataLoader(test_dataset, \n",
    "                             batch_size=CONFIG['valid_batch_size'], \n",
    "                             collate_fn=collate_fn, \n",
    "                             num_workers=2, \n",
    "                             shuffle=False, \n",
    "                             pin_memory=True, \n",
    "                             drop_last=False)\n",
    "    return test_loader\n",
    "\n",
    "test_loader = prepare_test_loader(test_df)"
   ]
  },
  {
   "cell_type": "code",
   "execution_count": 42,
   "id": "42c35623-2819-4bad-a2bc-6fde708a1420",
   "metadata": {},
   "outputs": [],
   "source": [
    "@torch.no_grad()\n",
    "def inference(test_loader, model, device):\n",
    "    preds = []\n",
    "    preds_target = []\n",
    "    model.eval()\n",
    "    model.to(device)\n",
    "    \n",
    "    bar = tqdm(enumerate(test_loader), total=len(test_loader))\n",
    "    \n",
    "    for step, data in bar: \n",
    "        ids = data['input_ids'].to(device, dtype = torch.long)\n",
    "        mask = data['attention_mask'].to(device, dtype = torch.long)\n",
    "        \n",
    "        output = model(ids, mask)\n",
    "        y_preds = softmax(torch.tensor(output.to('cpu'))).numpy()\n",
    "        pred_target = torch.argmax(output, dim=-1).flatten().tolist()\n",
    "        \n",
    "        preds.append(y_preds)\n",
    "        preds_target.append(pred_target) \n",
    "    predictions = np.concatenate(preds)\n",
    "    predictions_label = np.concatenate(preds_target)\n",
    "    return predictions , predictions_label"
   ]
  },
  {
   "cell_type": "code",
   "execution_count": 43,
   "id": "47e9ceb3-2116-4b8d-94a1-abd27e314c73",
   "metadata": {},
   "outputs": [],
   "source": [
    "# Change the HASH_NAME according to new generated hash for your run\n",
    "#HASH_NAME = \"ekgx4wmexn91\"\n"
   ]
  },
  {
   "cell_type": "code",
   "execution_count": 44,
   "id": "601c0907-fc9a-4ede-9836-ed7df661b947",
   "metadata": {},
   "outputs": [
    {
     "name": "stdout",
     "output_type": "stream",
     "text": [
      "Fold 0\n"
     ]
    },
    {
     "name": "stderr",
     "output_type": "stream",
     "text": [
      "100%|██████████| 33/33 [00:05<00:00,  5.65it/s]\n"
     ]
    },
    {
     "name": "stdout",
     "output_type": "stream",
     "text": [
      "Fold 1\n"
     ]
    },
    {
     "name": "stderr",
     "output_type": "stream",
     "text": [
      "100%|██████████| 33/33 [00:05<00:00,  6.05it/s]\n"
     ]
    },
    {
     "name": "stdout",
     "output_type": "stream",
     "text": [
      "Fold 2\n"
     ]
    },
    {
     "name": "stderr",
     "output_type": "stream",
     "text": [
      "100%|██████████| 33/33 [00:05<00:00,  6.04it/s]\n"
     ]
    }
   ],
   "source": [
    "deberta_predictions = []\n",
    "deberta_predictions_labels = []\n",
    "\n",
    "\n",
    "\n",
    "for fold in range(0, CONFIG['n_fold']):\n",
    "    print(\"Fold {}\".format(fold))\n",
    "    \n",
    "    state = torch.load(f'{HASH_NAME}-Loss-Fold-{fold}.bin')\n",
    "    model.load_state_dict(state)\n",
    "    \n",
    "    prediction, predictions_label = inference(test_loader, model, CONFIG['device'])\n",
    "    deberta_predictions.append(prediction)\n",
    "    deberta_predictions_labels.append(predictions_label)\n",
    "    del state, prediction; gc.collect()\n",
    "    torch.cuda.empty_cache()\n",
    "del model"
   ]
  },
  {
   "cell_type": "code",
   "execution_count": 45,
   "id": "b89ee418-5404-468e-88bd-18913c2d3da5",
   "metadata": {},
   "outputs": [
    {
     "data": {
      "text/plain": [
       "[array([[0.76993865, 0.23006138],\n",
       "        [0.866936  , 0.13306405],\n",
       "        [0.5231336 , 0.47686642],\n",
       "        ...,\n",
       "        [0.8291652 , 0.17083476],\n",
       "        [0.78468835, 0.21531168],\n",
       "        [0.9055498 , 0.09445017]], dtype=float32),\n",
       " array([[0.74207664, 0.2579233 ],\n",
       "        [0.8993734 , 0.10062658],\n",
       "        [0.6239178 , 0.3760822 ],\n",
       "        ...,\n",
       "        [0.84298104, 0.15701899],\n",
       "        [0.7422861 , 0.25771382],\n",
       "        [0.8179553 , 0.18204463]], dtype=float32),\n",
       " array([[0.66096175, 0.33903825],\n",
       "        [0.9047623 , 0.09523762],\n",
       "        [0.6089975 , 0.39100257],\n",
       "        ...,\n",
       "        [0.7704104 , 0.22958957],\n",
       "        [0.57101667, 0.4289834 ],\n",
       "        [0.7678826 , 0.23211741]], dtype=float32)]"
      ]
     },
     "execution_count": 45,
     "metadata": {},
     "output_type": "execute_result"
    }
   ],
   "source": [
    "deberta_predictions\n"
   ]
  },
  {
   "cell_type": "code",
   "execution_count": 46,
   "id": "036a364a-2e0f-4b27-9f77-c2925d3ce2e6",
   "metadata": {},
   "outputs": [
    {
     "data": {
      "text/plain": [
       "array([[0.72432566, 0.2756743 ],\n",
       "       [0.89035726, 0.10964274],\n",
       "       [0.5853496 , 0.4146504 ],\n",
       "       ...,\n",
       "       [0.8141856 , 0.18581444],\n",
       "       [0.69933033, 0.30066964],\n",
       "       [0.83046263, 0.16953741]], dtype=float32)"
      ]
     },
     "execution_count": 46,
     "metadata": {},
     "output_type": "execute_result"
    }
   ],
   "source": [
    "predictions = np.mean(deberta_predictions, axis=0)\n",
    "predictions"
   ]
  },
  {
   "cell_type": "code",
   "execution_count": 47,
   "id": "cc393a64-0fb7-4f65-a69a-bdccddf89edb",
   "metadata": {},
   "outputs": [
    {
     "data": {
      "text/plain": [
       "514"
      ]
     },
     "execution_count": 47,
     "metadata": {},
     "output_type": "execute_result"
    }
   ],
   "source": [
    "len(predictions)"
   ]
  },
  {
   "cell_type": "code",
   "execution_count": 48,
   "id": "b3348dbf-e8d9-46c0-be55-89592c29445e",
   "metadata": {},
   "outputs": [
    {
     "data": {
      "text/plain": [
       "array([[0.72432566, 0.2756743 ],\n",
       "       [0.89035726, 0.10964274],\n",
       "       [0.5853496 , 0.4146504 ],\n",
       "       ...,\n",
       "       [0.8141856 , 0.18581444],\n",
       "       [0.69933033, 0.30066964],\n",
       "       [0.83046263, 0.16953741]], dtype=float32)"
      ]
     },
     "execution_count": 48,
     "metadata": {},
     "output_type": "execute_result"
    }
   ],
   "source": [
    "predictions"
   ]
  },
  {
   "cell_type": "code",
   "execution_count": 49,
   "id": "94b2a1d7-8f4e-417d-9e02-570d4107feda",
   "metadata": {},
   "outputs": [],
   "source": [
    "test_df[\"prediction_0\"] = predictions[:, 0] "
   ]
  },
  {
   "cell_type": "code",
   "execution_count": 50,
   "id": "1b4c2333-024e-47ca-8828-5c5d19ad07cb",
   "metadata": {},
   "outputs": [],
   "source": [
    "test_df[\"prediction_1\"] = predictions[:, 1] "
   ]
  },
  {
   "cell_type": "code",
   "execution_count": 51,
   "id": "78b2fb4c-ec25-4df0-9d25-c2db6e09e6b1",
   "metadata": {},
   "outputs": [],
   "source": [
    "for i in range(0, CONFIG['n_fold']):\n",
    "\n",
    "    test_df[f\"prediction_label_fold_{i}\"] = deberta_predictions_labels[i]\n"
   ]
  },
  {
   "cell_type": "code",
   "execution_count": 52,
   "id": "c4473d1d-6485-49e6-88bf-6aa3f05326cd",
   "metadata": {},
   "outputs": [
    {
     "data": {
      "text/html": [
       "<div>\n",
       "<style scoped>\n",
       "    .dataframe tbody tr th:only-of-type {\n",
       "        vertical-align: middle;\n",
       "    }\n",
       "\n",
       "    .dataframe tbody tr th {\n",
       "        vertical-align: top;\n",
       "    }\n",
       "\n",
       "    .dataframe thead th {\n",
       "        text-align: right;\n",
       "    }\n",
       "</style>\n",
       "<table border=\"1\" class=\"dataframe\">\n",
       "  <thead>\n",
       "    <tr style=\"text-align: right;\">\n",
       "      <th></th>\n",
       "      <th>text</th>\n",
       "      <th>label</th>\n",
       "      <th>prediction_0</th>\n",
       "      <th>prediction_1</th>\n",
       "      <th>prediction_label_fold_0</th>\n",
       "      <th>prediction_label_fold_1</th>\n",
       "      <th>prediction_label_fold_2</th>\n",
       "    </tr>\n",
       "  </thead>\n",
       "  <tbody>\n",
       "    <tr>\n",
       "      <th>264</th>\n",
       "      <td>self doesnt work when appears in a callable di...</td>\n",
       "      <td>0</td>\n",
       "      <td>0.724326</td>\n",
       "      <td>0.275674</td>\n",
       "      <td>0</td>\n",
       "      <td>0</td>\n",
       "      <td>0</td>\n",
       "    </tr>\n",
       "    <tr>\n",
       "      <th>536</th>\n",
       "      <td>strictequality should be more flexible current...</td>\n",
       "      <td>0</td>\n",
       "      <td>0.890357</td>\n",
       "      <td>0.109643</td>\n",
       "      <td>0</td>\n",
       "      <td>0</td>\n",
       "      <td>0</td>\n",
       "    </tr>\n",
       "    <tr>\n",
       "      <th>259</th>\n",
       "      <td>incorrect type inferred for dictiterable this ...</td>\n",
       "      <td>0</td>\n",
       "      <td>0.585350</td>\n",
       "      <td>0.414650</td>\n",
       "      <td>0</td>\n",
       "      <td>0</td>\n",
       "      <td>0</td>\n",
       "    </tr>\n",
       "    <tr>\n",
       "      <th>137</th>\n",
       "      <td>crash on master branch when using customtypesh...</td>\n",
       "      <td>1</td>\n",
       "      <td>0.119847</td>\n",
       "      <td>0.880153</td>\n",
       "      <td>1</td>\n",
       "      <td>1</td>\n",
       "      <td>1</td>\n",
       "    </tr>\n",
       "    <tr>\n",
       "      <th>227</th>\n",
       "      <td>new semantic analyzer crash on cyce in inherit...</td>\n",
       "      <td>1</td>\n",
       "      <td>0.100066</td>\n",
       "      <td>0.899934</td>\n",
       "      <td>1</td>\n",
       "      <td>1</td>\n",
       "      <td>1</td>\n",
       "    </tr>\n",
       "    <tr>\n",
       "      <th>...</th>\n",
       "      <td>...</td>\n",
       "      <td>...</td>\n",
       "      <td>...</td>\n",
       "      <td>...</td>\n",
       "      <td>...</td>\n",
       "      <td>...</td>\n",
       "      <td>...</td>\n",
       "    </tr>\n",
       "    <tr>\n",
       "      <th>71</th>\n",
       "      <td>tuple used as immutable sequence is considered...</td>\n",
       "      <td>1</td>\n",
       "      <td>0.887251</td>\n",
       "      <td>0.112749</td>\n",
       "      <td>0</td>\n",
       "      <td>0</td>\n",
       "      <td>0</td>\n",
       "    </tr>\n",
       "    <tr>\n",
       "      <th>106</th>\n",
       "      <td>incorrect assuming class property is a method ...</td>\n",
       "      <td>0</td>\n",
       "      <td>0.754398</td>\n",
       "      <td>0.245602</td>\n",
       "      <td>0</td>\n",
       "      <td>0</td>\n",
       "      <td>0</td>\n",
       "    </tr>\n",
       "    <tr>\n",
       "      <th>270</th>\n",
       "      <td>allow disabling implicit any for type aliases ...</td>\n",
       "      <td>0</td>\n",
       "      <td>0.814186</td>\n",
       "      <td>0.185814</td>\n",
       "      <td>0</td>\n",
       "      <td>0</td>\n",
       "      <td>0</td>\n",
       "    </tr>\n",
       "    <tr>\n",
       "      <th>435</th>\n",
       "      <td>literal type not accepted as key when construc...</td>\n",
       "      <td>1</td>\n",
       "      <td>0.699330</td>\n",
       "      <td>0.300670</td>\n",
       "      <td>0</td>\n",
       "      <td>0</td>\n",
       "      <td>0</td>\n",
       "    </tr>\n",
       "    <tr>\n",
       "      <th>102</th>\n",
       "      <td>reassigning variable with functoolspartial res...</td>\n",
       "      <td>0</td>\n",
       "      <td>0.830463</td>\n",
       "      <td>0.169537</td>\n",
       "      <td>0</td>\n",
       "      <td>0</td>\n",
       "      <td>0</td>\n",
       "    </tr>\n",
       "  </tbody>\n",
       "</table>\n",
       "<p>514 rows × 7 columns</p>\n",
       "</div>"
      ],
      "text/plain": [
       "                                                  text  label  prediction_0  \\\n",
       "264  self doesnt work when appears in a callable di...      0      0.724326   \n",
       "536  strictequality should be more flexible current...      0      0.890357   \n",
       "259  incorrect type inferred for dictiterable this ...      0      0.585350   \n",
       "137  crash on master branch when using customtypesh...      1      0.119847   \n",
       "227  new semantic analyzer crash on cyce in inherit...      1      0.100066   \n",
       "..                                                 ...    ...           ...   \n",
       "71   tuple used as immutable sequence is considered...      1      0.887251   \n",
       "106  incorrect assuming class property is a method ...      0      0.754398   \n",
       "270  allow disabling implicit any for type aliases ...      0      0.814186   \n",
       "435  literal type not accepted as key when construc...      1      0.699330   \n",
       "102  reassigning variable with functoolspartial res...      0      0.830463   \n",
       "\n",
       "     prediction_1  prediction_label_fold_0  prediction_label_fold_1  \\\n",
       "264      0.275674                        0                        0   \n",
       "536      0.109643                        0                        0   \n",
       "259      0.414650                        0                        0   \n",
       "137      0.880153                        1                        1   \n",
       "227      0.899934                        1                        1   \n",
       "..            ...                      ...                      ...   \n",
       "71       0.112749                        0                        0   \n",
       "106      0.245602                        0                        0   \n",
       "270      0.185814                        0                        0   \n",
       "435      0.300670                        0                        0   \n",
       "102      0.169537                        0                        0   \n",
       "\n",
       "     prediction_label_fold_2  \n",
       "264                        0  \n",
       "536                        0  \n",
       "259                        0  \n",
       "137                        1  \n",
       "227                        1  \n",
       "..                       ...  \n",
       "71                         0  \n",
       "106                        0  \n",
       "270                        0  \n",
       "435                        0  \n",
       "102                        0  \n",
       "\n",
       "[514 rows x 7 columns]"
      ]
     },
     "execution_count": 52,
     "metadata": {},
     "output_type": "execute_result"
    }
   ],
   "source": [
    "test_df"
   ]
  },
  {
   "cell_type": "code",
   "execution_count": 53,
   "id": "68812cae-b8d4-4f6d-bee3-cb7a3ff24441",
   "metadata": {},
   "outputs": [
    {
     "data": {
      "text/plain": [
       "514"
      ]
     },
     "execution_count": 53,
     "metadata": {},
     "output_type": "execute_result"
    }
   ],
   "source": [
    "len(test_df)"
   ]
  },
  {
   "cell_type": "code",
   "execution_count": 54,
   "id": "806c1731-776c-4105-90a1-5e9e6cb29b14",
   "metadata": {},
   "outputs": [],
   "source": [
    "test_df['Max'] = test_df[['prediction_0','prediction_1']].idxmax(axis=1)"
   ]
  },
  {
   "cell_type": "code",
   "execution_count": 55,
   "id": "6cbb0e15-dc91-4785-adcd-bd9c1676d226",
   "metadata": {},
   "outputs": [],
   "source": [
    "test_df[\"pred\"] = test_df['Max'].apply(lambda x: x.replace(\"prediction_0\", \"0\"))"
   ]
  },
  {
   "cell_type": "code",
   "execution_count": 56,
   "id": "c1ef524d-f2f0-41d3-b0f1-3f61d47d5448",
   "metadata": {},
   "outputs": [],
   "source": [
    "test_df[\"pred\"] = test_df['pred'].apply(lambda x: x.replace(\"prediction_1\", \"1\"))\n"
   ]
  },
  {
   "cell_type": "code",
   "execution_count": 57,
   "id": "72170b82-c414-41da-8f02-b41c13aa84cb",
   "metadata": {},
   "outputs": [],
   "source": [
    "test_df[\"pred\"] = test_df[\"pred\"].astype(int)"
   ]
  },
  {
   "cell_type": "code",
   "execution_count": 58,
   "id": "f26e7e7b-5712-4bae-b8fd-81586e97a5fc",
   "metadata": {},
   "outputs": [
    {
     "data": {
      "text/html": [
       "<div>\n",
       "<style scoped>\n",
       "    .dataframe tbody tr th:only-of-type {\n",
       "        vertical-align: middle;\n",
       "    }\n",
       "\n",
       "    .dataframe tbody tr th {\n",
       "        vertical-align: top;\n",
       "    }\n",
       "\n",
       "    .dataframe thead th {\n",
       "        text-align: right;\n",
       "    }\n",
       "</style>\n",
       "<table border=\"1\" class=\"dataframe\">\n",
       "  <thead>\n",
       "    <tr style=\"text-align: right;\">\n",
       "      <th></th>\n",
       "      <th>text</th>\n",
       "      <th>label</th>\n",
       "      <th>prediction_0</th>\n",
       "      <th>prediction_1</th>\n",
       "      <th>prediction_label_fold_0</th>\n",
       "      <th>prediction_label_fold_1</th>\n",
       "      <th>prediction_label_fold_2</th>\n",
       "      <th>Max</th>\n",
       "      <th>pred</th>\n",
       "    </tr>\n",
       "  </thead>\n",
       "  <tbody>\n",
       "    <tr>\n",
       "      <th>264</th>\n",
       "      <td>self doesnt work when appears in a callable di...</td>\n",
       "      <td>0</td>\n",
       "      <td>0.724326</td>\n",
       "      <td>0.275674</td>\n",
       "      <td>0</td>\n",
       "      <td>0</td>\n",
       "      <td>0</td>\n",
       "      <td>prediction_0</td>\n",
       "      <td>0</td>\n",
       "    </tr>\n",
       "    <tr>\n",
       "      <th>536</th>\n",
       "      <td>strictequality should be more flexible current...</td>\n",
       "      <td>0</td>\n",
       "      <td>0.890357</td>\n",
       "      <td>0.109643</td>\n",
       "      <td>0</td>\n",
       "      <td>0</td>\n",
       "      <td>0</td>\n",
       "      <td>prediction_0</td>\n",
       "      <td>0</td>\n",
       "    </tr>\n",
       "    <tr>\n",
       "      <th>259</th>\n",
       "      <td>incorrect type inferred for dictiterable this ...</td>\n",
       "      <td>0</td>\n",
       "      <td>0.585350</td>\n",
       "      <td>0.414650</td>\n",
       "      <td>0</td>\n",
       "      <td>0</td>\n",
       "      <td>0</td>\n",
       "      <td>prediction_0</td>\n",
       "      <td>0</td>\n",
       "    </tr>\n",
       "    <tr>\n",
       "      <th>137</th>\n",
       "      <td>crash on master branch when using customtypesh...</td>\n",
       "      <td>1</td>\n",
       "      <td>0.119847</td>\n",
       "      <td>0.880153</td>\n",
       "      <td>1</td>\n",
       "      <td>1</td>\n",
       "      <td>1</td>\n",
       "      <td>prediction_1</td>\n",
       "      <td>1</td>\n",
       "    </tr>\n",
       "    <tr>\n",
       "      <th>227</th>\n",
       "      <td>new semantic analyzer crash on cyce in inherit...</td>\n",
       "      <td>1</td>\n",
       "      <td>0.100066</td>\n",
       "      <td>0.899934</td>\n",
       "      <td>1</td>\n",
       "      <td>1</td>\n",
       "      <td>1</td>\n",
       "      <td>prediction_1</td>\n",
       "      <td>1</td>\n",
       "    </tr>\n",
       "    <tr>\n",
       "      <th>...</th>\n",
       "      <td>...</td>\n",
       "      <td>...</td>\n",
       "      <td>...</td>\n",
       "      <td>...</td>\n",
       "      <td>...</td>\n",
       "      <td>...</td>\n",
       "      <td>...</td>\n",
       "      <td>...</td>\n",
       "      <td>...</td>\n",
       "    </tr>\n",
       "    <tr>\n",
       "      <th>71</th>\n",
       "      <td>tuple used as immutable sequence is considered...</td>\n",
       "      <td>1</td>\n",
       "      <td>0.887251</td>\n",
       "      <td>0.112749</td>\n",
       "      <td>0</td>\n",
       "      <td>0</td>\n",
       "      <td>0</td>\n",
       "      <td>prediction_0</td>\n",
       "      <td>0</td>\n",
       "    </tr>\n",
       "    <tr>\n",
       "      <th>106</th>\n",
       "      <td>incorrect assuming class property is a method ...</td>\n",
       "      <td>0</td>\n",
       "      <td>0.754398</td>\n",
       "      <td>0.245602</td>\n",
       "      <td>0</td>\n",
       "      <td>0</td>\n",
       "      <td>0</td>\n",
       "      <td>prediction_0</td>\n",
       "      <td>0</td>\n",
       "    </tr>\n",
       "    <tr>\n",
       "      <th>270</th>\n",
       "      <td>allow disabling implicit any for type aliases ...</td>\n",
       "      <td>0</td>\n",
       "      <td>0.814186</td>\n",
       "      <td>0.185814</td>\n",
       "      <td>0</td>\n",
       "      <td>0</td>\n",
       "      <td>0</td>\n",
       "      <td>prediction_0</td>\n",
       "      <td>0</td>\n",
       "    </tr>\n",
       "    <tr>\n",
       "      <th>435</th>\n",
       "      <td>literal type not accepted as key when construc...</td>\n",
       "      <td>1</td>\n",
       "      <td>0.699330</td>\n",
       "      <td>0.300670</td>\n",
       "      <td>0</td>\n",
       "      <td>0</td>\n",
       "      <td>0</td>\n",
       "      <td>prediction_0</td>\n",
       "      <td>0</td>\n",
       "    </tr>\n",
       "    <tr>\n",
       "      <th>102</th>\n",
       "      <td>reassigning variable with functoolspartial res...</td>\n",
       "      <td>0</td>\n",
       "      <td>0.830463</td>\n",
       "      <td>0.169537</td>\n",
       "      <td>0</td>\n",
       "      <td>0</td>\n",
       "      <td>0</td>\n",
       "      <td>prediction_0</td>\n",
       "      <td>0</td>\n",
       "    </tr>\n",
       "  </tbody>\n",
       "</table>\n",
       "<p>514 rows × 9 columns</p>\n",
       "</div>"
      ],
      "text/plain": [
       "                                                  text  label  prediction_0  \\\n",
       "264  self doesnt work when appears in a callable di...      0      0.724326   \n",
       "536  strictequality should be more flexible current...      0      0.890357   \n",
       "259  incorrect type inferred for dictiterable this ...      0      0.585350   \n",
       "137  crash on master branch when using customtypesh...      1      0.119847   \n",
       "227  new semantic analyzer crash on cyce in inherit...      1      0.100066   \n",
       "..                                                 ...    ...           ...   \n",
       "71   tuple used as immutable sequence is considered...      1      0.887251   \n",
       "106  incorrect assuming class property is a method ...      0      0.754398   \n",
       "270  allow disabling implicit any for type aliases ...      0      0.814186   \n",
       "435  literal type not accepted as key when construc...      1      0.699330   \n",
       "102  reassigning variable with functoolspartial res...      0      0.830463   \n",
       "\n",
       "     prediction_1  prediction_label_fold_0  prediction_label_fold_1  \\\n",
       "264      0.275674                        0                        0   \n",
       "536      0.109643                        0                        0   \n",
       "259      0.414650                        0                        0   \n",
       "137      0.880153                        1                        1   \n",
       "227      0.899934                        1                        1   \n",
       "..            ...                      ...                      ...   \n",
       "71       0.112749                        0                        0   \n",
       "106      0.245602                        0                        0   \n",
       "270      0.185814                        0                        0   \n",
       "435      0.300670                        0                        0   \n",
       "102      0.169537                        0                        0   \n",
       "\n",
       "     prediction_label_fold_2           Max  pred  \n",
       "264                        0  prediction_0     0  \n",
       "536                        0  prediction_0     0  \n",
       "259                        0  prediction_0     0  \n",
       "137                        1  prediction_1     1  \n",
       "227                        1  prediction_1     1  \n",
       "..                       ...           ...   ...  \n",
       "71                         0  prediction_0     0  \n",
       "106                        0  prediction_0     0  \n",
       "270                        0  prediction_0     0  \n",
       "435                        0  prediction_0     0  \n",
       "102                        0  prediction_0     0  \n",
       "\n",
       "[514 rows x 9 columns]"
      ]
     },
     "execution_count": 58,
     "metadata": {},
     "output_type": "execute_result"
    }
   ],
   "source": [
    "test_df"
   ]
  },
  {
   "cell_type": "code",
   "execution_count": 59,
   "id": "2ce8ca5b-1611-400a-98ea-590e18e3e4d6",
   "metadata": {},
   "outputs": [
    {
     "name": "stdout",
     "output_type": "stream",
     "text": [
      "[[223  34]\n",
      " [146 111]]\n"
     ]
    }
   ],
   "source": [
    "from sklearn.metrics import confusion_matrix\n",
    "cf_matrix = confusion_matrix(test_df[\"label\"].values, test_df[\"pred\"].values)\n",
    "\n",
    "print(cf_matrix)"
   ]
  },
  {
   "cell_type": "code",
   "execution_count": 60,
   "id": "f07ff2ad-0501-46c3-b5c8-7f414a2e7b83",
   "metadata": {},
   "outputs": [
    {
     "data": {
      "image/png": "[encoded data removed]",
      "text/plain": [
       "<Figure size 640x480 with 2 Axes>"
      ]
     },
     "metadata": {},
     "output_type": "display_data"
    }
   ],
   "source": [
    "import seaborn as sns\n",
    "import matplotlib.pyplot as plt\n",
    "ax = sns.heatmap(cf_matrix/np.sum(cf_matrix), annot=True, \n",
    "            fmt='.2%', cmap='Blues')\n",
    "\n",
    "ax.set_title('Jira Model on GitHub data: Mypy fine tuning \\n\\nNonHP vs HP \\n\\n');\n",
    "ax.set_xlabel('\\nPredicted Values')\n",
    "ax.set_ylabel('Actual Values ');\n",
    "\n",
    "## Ticket labels - List must be in alphabetical order\n",
    "ax.xaxis.set_ticklabels(['False(NonHP)','True(HP)'])\n",
    "ax.yaxis.set_ticklabels(['False(NonHP)','True(HP)'])\n",
    "\n",
    "## Display the visualization of the Confusion Matrix.\n",
    "plt.show()"
   ]
  },
  {
   "cell_type": "code",
   "execution_count": 61,
   "id": "b9228c89-6cae-4a8e-a433-e7b5328dba1e",
   "metadata": {},
   "outputs": [
    {
     "name": "stdout",
     "output_type": "stream",
     "text": [
      "              precision    recall  f1-score   support\n",
      "\n",
      "           0       0.60      0.87      0.71       257\n",
      "           1       0.77      0.43      0.55       257\n",
      "\n",
      "    accuracy                           0.65       514\n",
      "   macro avg       0.68      0.65      0.63       514\n",
      "weighted avg       0.68      0.65      0.63       514\n",
      "\n"
     ]
    }
   ],
   "source": [
    "from sklearn.metrics import classification_report\n",
    "\n",
    "\n",
    "print(classification_report(test_df[\"label\"].values, test_df[\"pred\"].values))"
   ]
  },
  {
   "cell_type": "code",
   "execution_count": 62,
   "id": "61a155c0-14f8-4918-8b58-8ebc91c06d5f",
   "metadata": {},
   "outputs": [],
   "source": [
    "test_df[[\"text\",\"label\",\"pred\"]].to_csv(\"Flutter_70_Test_inference.csv\")"
   ]
  },
  {
   "cell_type": "code",
   "execution_count": 63,
   "id": "a014999c-079e-4fe7-baad-3dc8fa8daabe",
   "metadata": {},
   "outputs": [
    {
     "name": "stdout",
     "output_type": "stream",
     "text": [
      "Matthew's Correlation Coefficient: 0.3328844749128108\n"
     ]
    }
   ],
   "source": [
    "from sklearn.metrics import matthews_corrcoef\n",
    "\n",
    "# Calculate the Matthew's Correlation Coefficient\n",
    "mcc = matthews_corrcoef(test_df[\"label\"].values, test_df[\"pred\"].values)\n",
    "print(\"Matthew's Correlation Coefficient:\", mcc)"
   ]
  },
  {
   "cell_type": "code",
   "execution_count": 64,
   "id": "347de704-da8f-415a-bb42-eee04effbd2a",
   "metadata": {},
   "outputs": [
    {
     "data": {
      "text/plain": [
       "0.04803157196325461"
      ]
     },
     "execution_count": 64,
     "metadata": {},
     "output_type": "execute_result"
    }
   ],
   "source": [
    "tracker.stop()"
   ]
  }
 ],
 "metadata": {
  "kernelspec": {
   "display_name": "Python 3 (ipykernel)",
   "language": "python",
   "name": "python3"
  },
  "language_info": {
   "codemirror_mode": {
    "name": "ipython",
    "version": 3
   },
   "file_extension": ".py",
   "mimetype": "text/x-python",
   "name": "python",
   "nbconvert_exporter": "python",
   "pygments_lexer": "ipython3",
   "version": "3.11.3"
  },
  "vscode": {
   "interpreter": {
    "hash": "a64f21293159cd9c4e596ef7fd6c17a9c99d13712885c299cb3370e7a4d97830"
   }
  }
 },
 "nbformat": 4,
 "nbformat_minor": 5
}
