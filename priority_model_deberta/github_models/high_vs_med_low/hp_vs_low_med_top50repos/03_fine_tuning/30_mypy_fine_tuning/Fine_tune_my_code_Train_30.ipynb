{
 "cells": [
  {
   "cell_type": "code",
   "execution_count": 1,
   "id": "19518cd7-ef84-4ae3-8724-8152825e5de4",
   "metadata": {},
   "outputs": [],
   "source": [
    "import sys\n",
    "sys.path.append(\"/fp/homes01/u01/ec-krimhau/.local/lib/python3.11/site-packages\")"
   ]
  },
  {
   "cell_type": "code",
   "execution_count": 2,
   "id": "99249a9d-1abd-402b-ac83-e5d1264efb16",
   "metadata": {},
   "outputs": [
    {
     "name": "stderr",
     "output_type": "stream",
     "text": [
      "[codecarbon INFO @ 13:34:09] [setup] RAM Tracking...\n",
      "[codecarbon INFO @ 13:34:09] [setup] GPU Tracking...\n",
      "[codecarbon INFO @ 13:34:09] Tracking Nvidia GPU via pynvml\n",
      "[codecarbon INFO @ 13:34:09] [setup] CPU Tracking...\n",
      "[codecarbon WARNING @ 13:34:09] No CPU tracking mode found. Falling back on CPU constant mode.\n",
      "[codecarbon WARNING @ 13:34:12] We saw that you have a AMD EPYC 7642 48-Core Processor but we don't know it. Please contact us.\n",
      "[codecarbon INFO @ 13:34:12] CPU Model on constant consumption mode: AMD EPYC 7642 48-Core Processor\n",
      "[codecarbon INFO @ 13:34:12] >>> Tracker's metadata:\n",
      "[codecarbon INFO @ 13:34:12]   Platform system: Linux-5.14.0-362.8.1.el9_3.x86_64-x86_64-with-glibc2.34\n",
      "[codecarbon INFO @ 13:34:12]   Python version: 3.11.3\n",
      "[codecarbon INFO @ 13:34:12]   CodeCarbon version: 2.3.4\n",
      "[codecarbon INFO @ 13:34:12]   Available RAM : 256.000 GB\n",
      "[codecarbon INFO @ 13:34:12]   CPU count: 24\n",
      "[codecarbon INFO @ 13:34:12]   CPU model: AMD EPYC 7642 48-Core Processor\n",
      "[codecarbon INFO @ 13:34:12]   GPU count: 1\n",
      "[codecarbon INFO @ 13:34:12]   GPU model: 1 x NVIDIA A100-PCIE-40GB\n"
     ]
    }
   ],
   "source": [
    "from codecarbon import EmissionsTracker\n",
    "import logging\n",
    "output_directory = \"/fp/homes01/u01/ec-krimhau/thesis_code/\"\n",
    "\n",
    "tracker = EmissionsTracker(output_dir=output_directory)\n",
    "tracker.start()"
   ]
  },
  {
   "cell_type": "code",
   "execution_count": 3,
   "id": "a29e554f-5f00-426e-afa1-a3b54dab7ad7",
   "metadata": {},
   "outputs": [],
   "source": [
    "logging.getLogger('codecarbon').setLevel(logging.WARNING)"
   ]
  },
  {
   "cell_type": "code",
   "execution_count": 4,
   "id": "d0c4206f-a9dc-470b-bb55-415584f2116f",
   "metadata": {},
   "outputs": [],
   "source": [
    "import os\n",
    "import gc\n",
    "import copy\n",
    "import time\n",
    "import random\n",
    "import string\n",
    "import joblib\n",
    "\n",
    "# For data manipulation\n",
    "import numpy as np\n",
    "import pandas as pd\n",
    "\n",
    "# Pytorch Imports\n",
    "import torch\n",
    "import torch.nn as nn\n",
    "import torch.optim as optim\n",
    "from torch.optim import lr_scheduler\n",
    "from torch.utils.data import Dataset, DataLoader\n",
    "\n",
    "# Utils\n",
    "from tqdm import tqdm\n",
    "from collections import defaultdict\n",
    "\n",
    "# Sklearn Imports\n",
    "from sklearn.preprocessing import LabelEncoder\n",
    "from sklearn.model_selection import GroupKFold, KFold\n",
    "\n",
    "# For Transformer Models\n",
    "from transformers import AutoTokenizer, AutoModel, AutoConfig, AdamW\n",
    "from transformers import DataCollatorWithPadding\n",
    "import datasets\n",
    "# For colored terminal text\n",
    "from colorama import Fore, Back, Style\n",
    "b_ = Fore.BLUE\n",
    "y_ = Fore.YELLOW\n",
    "sr_ = Style.RESET_ALL\n",
    "\n",
    "# Suppress warnings\n",
    "import warnings\n",
    "warnings.filterwarnings(\"ignore\")\n",
    "\n",
    "import wandb\n",
    "# For descriptive error messages\n",
    "os.environ['CUDA_LAUNCH_BLOCKING'] = \"1\""
   ]
  },
  {
   "cell_type": "code",
   "execution_count": 5,
   "id": "33f8979d-d850-4977-8dda-971ac6eea3a0",
   "metadata": {},
   "outputs": [],
   "source": [
    "# Load .env file\n",
    "%load_ext dotenv\n",
    "%dotenv /fp/homes01/u01/ec-krimhau/thesis_code/.env"
   ]
  },
  {
   "cell_type": "code",
   "execution_count": 6,
   "id": "677223cd",
   "metadata": {},
   "outputs": [
    {
     "name": "stderr",
     "output_type": "stream",
     "text": [
      "Failed to detect the name of this notebook, you can set it manually with the WANDB_NOTEBOOK_NAME environment variable to enable code saving.\n",
      "\u001b[34m\u001b[1mwandb\u001b[0m: Currently logged in as: \u001b[33mhaugerud-kristian\u001b[0m (\u001b[33mkrimhau\u001b[0m). Use \u001b[1m`wandb login --relogin`\u001b[0m to force relogin\n",
      "\u001b[34m\u001b[1mwandb\u001b[0m: \u001b[33mWARNING\u001b[0m If you're specifying your api key in code, ensure this code is not shared publicly.\n",
      "\u001b[34m\u001b[1mwandb\u001b[0m: \u001b[33mWARNING\u001b[0m Consider setting the WANDB_API_KEY environment variable, or running `wandb login` from the command line.\n",
      "\u001b[34m\u001b[1mwandb\u001b[0m: Appending key for api.wandb.ai to your netrc file: /fp/homes01/u01/ec-krimhau/.netrc\n"
     ]
    },
    {
     "data": {
      "text/plain": [
       "True"
      ]
     },
     "execution_count": 6,
     "metadata": {},
     "output_type": "execute_result"
    }
   ],
   "source": [
    "# Get wandb api key from .env file\n",
    "wandb_api_key = os.getenv('WANDB_API_KEY')\n",
    "# Login to wandb to track results\n",
    "wandb.login(key = wandb_api_key) # API key"
   ]
  },
  {
   "cell_type": "code",
   "execution_count": 7,
   "id": "c7fcade8-1e6d-418a-acd1-c860be6c3c62",
   "metadata": {},
   "outputs": [
    {
     "name": "stdout",
     "output_type": "stream",
     "text": [
      "n17wvb3ltq0a\n"
     ]
    }
   ],
   "source": [
    "def id_generator(size=12, chars=string.ascii_lowercase + string.digits):\n",
    "    return ''.join(random.SystemRandom().choice(chars) for _ in range(size))\n",
    "\n",
    "\n",
    "HASH_NAME = id_generator(size=12)\n",
    "print(HASH_NAME)\n"
   ]
  },
  {
   "cell_type": "code",
   "execution_count": 8,
   "id": "ec0aa632-8739-4e63-bde0-5f4fc123f891",
   "metadata": {},
   "outputs": [],
   "source": [
    "CONFIG = {\"seed\": 42,\n",
    "          \"epochs\": 3,\n",
    "          \"model_name\": \"microsoft/deberta-v3-base\",\n",
    "          \"train_batch_size\": 8,\n",
    "          \"valid_batch_size\": 16,\n",
    "          \"max_length\": 512,\n",
    "          \"learning_rate\": 1e-5,\n",
    "          \"scheduler\": 'CosineAnnealingLR',\n",
    "          \"min_lr\": 1e-6,\n",
    "          \"T_max\": 500,\n",
    "          \"weight_decay\": 1e-6,\n",
    "          \"n_fold\": 3,\n",
    "          \"n_accumulate\": 1,\n",
    "          \"num_classes\": 2,\n",
    "          \"device\": torch.device(\"cuda:0\" if torch.cuda.is_available() else \"cpu\"),\n",
    "          \"hash_name\": HASH_NAME,\n",
    "          \"_wandb_kernel\": \"deb\",\n",
    "          }\n",
    "\n",
    "CONFIG[\"tokenizer\"] = AutoTokenizer.from_pretrained(CONFIG['model_name'])\n",
    "CONFIG['group'] = f'{HASH_NAME}-Baseline'\n"
   ]
  },
  {
   "cell_type": "code",
   "execution_count": 9,
   "id": "31dc5cac-8438-438d-b45b-e2dab3b74949",
   "metadata": {},
   "outputs": [],
   "source": [
    "def set_seed(seed=42):\n",
    "    '''Sets the seed of the entire notebook so results are the same every time we run.\n",
    "    This is for REPRODUCIBILITY.'''\n",
    "    np.random.seed(seed)\n",
    "    torch.manual_seed(seed)\n",
    "    torch.cuda.manual_seed(seed)\n",
    "    # When running on the CuDNN backend, two further options must be set\n",
    "    torch.backends.cudnn.deterministic = True\n",
    "    torch.backends.cudnn.benchmark = False\n",
    "    # Set a fixed value for the hash seed\n",
    "    os.environ['PYTHONHASHSEED'] = str(seed)\n",
    "    \n",
    "set_seed(CONFIG['seed'])"
   ]
  },
  {
   "cell_type": "code",
   "execution_count": 10,
   "id": "5220e6af-9036-4a04-8808-b374d2c8728a",
   "metadata": {},
   "outputs": [],
   "source": [
    "def train_test_split(df, train_percent=.85, seed=42):\n",
    "    np.random.seed(seed)\n",
    "    perm = np.random.permutation(df.index)\n",
    "    m = len(df.index)\n",
    "    train_end = int(train_percent * m)\n",
    "    train = df.iloc[perm[:train_end]]\n",
    "    test = df.iloc[perm[train_end:]]\n",
    "    return train, test"
   ]
  },
  {
   "cell_type": "code",
   "execution_count": 11,
   "id": "179c96ee-42ea-42eb-bb1b-242173a38663",
   "metadata": {},
   "outputs": [
    {
     "data": {
      "text/html": [
       "<div>\n",
       "<style scoped>\n",
       "    .dataframe tbody tr th:only-of-type {\n",
       "        vertical-align: middle;\n",
       "    }\n",
       "\n",
       "    .dataframe tbody tr th {\n",
       "        vertical-align: top;\n",
       "    }\n",
       "\n",
       "    .dataframe thead th {\n",
       "        text-align: right;\n",
       "    }\n",
       "</style>\n",
       "<table border=\"1\" class=\"dataframe\">\n",
       "  <thead>\n",
       "    <tr style=\"text-align: right;\">\n",
       "      <th></th>\n",
       "      <th>label</th>\n",
       "      <th>text</th>\n",
       "    </tr>\n",
       "  </thead>\n",
       "  <tbody>\n",
       "    <tr>\n",
       "      <th>0</th>\n",
       "      <td>0</td>\n",
       "      <td>speed up asymmetry calculation this issue was ...</td>\n",
       "    </tr>\n",
       "    <tr>\n",
       "      <th>1</th>\n",
       "      <td>0</td>\n",
       "      <td>with pgleaderchangewaitqueuestestaddtwoservers...</td>\n",
       "    </tr>\n",
       "    <tr>\n",
       "      <th>2</th>\n",
       "      <td>1</td>\n",
       "      <td>healthcareapiclientfhirfhirresourcestest testc...</td>\n",
       "    </tr>\n",
       "    <tr>\n",
       "      <th>3</th>\n",
       "      <td>0</td>\n",
       "      <td>on there is a core seen within less than an ho...</td>\n",
       "    </tr>\n",
       "    <tr>\n",
       "      <th>4</th>\n",
       "      <td>0</td>\n",
       "      <td>capture and send the submitter button when sub...</td>\n",
       "    </tr>\n",
       "    <tr>\n",
       "      <th>...</th>\n",
       "      <td>...</td>\n",
       "      <td>...</td>\n",
       "    </tr>\n",
       "    <tr>\n",
       "      <th>42625</th>\n",
       "      <td>0</td>\n",
       "      <td>add preview button to the form for creating ne...</td>\n",
       "    </tr>\n",
       "    <tr>\n",
       "      <th>42626</th>\n",
       "      <td>0</td>\n",
       "      <td>ecommerce customers menu item visibility quick...</td>\n",
       "    </tr>\n",
       "    <tr>\n",
       "      <th>42627</th>\n",
       "      <td>1</td>\n",
       "      <td>could not add relations i could not add a new ...</td>\n",
       "    </tr>\n",
       "    <tr>\n",
       "      <th>42628</th>\n",
       "      <td>0</td>\n",
       "      <td>deleting a profile does not remove the instanc...</td>\n",
       "    </tr>\n",
       "    <tr>\n",
       "      <th>42629</th>\n",
       "      <td>0</td>\n",
       "      <td>jetpack monthly plans show errors about expiri...</td>\n",
       "    </tr>\n",
       "  </tbody>\n",
       "</table>\n",
       "<p>42630 rows × 2 columns</p>\n",
       "</div>"
      ],
      "text/plain": [
       "       label                                               text\n",
       "0          0  speed up asymmetry calculation this issue was ...\n",
       "1          0  with pgleaderchangewaitqueuestestaddtwoservers...\n",
       "2          1  healthcareapiclientfhirfhirresourcestest testc...\n",
       "3          0  on there is a core seen within less than an ho...\n",
       "4          0  capture and send the submitter button when sub...\n",
       "...      ...                                                ...\n",
       "42625      0  add preview button to the form for creating ne...\n",
       "42626      0  ecommerce customers menu item visibility quick...\n",
       "42627      1  could not add relations i could not add a new ...\n",
       "42628      0  deleting a profile does not remove the instanc...\n",
       "42629      0  jetpack monthly plans show errors about expiri...\n",
       "\n",
       "[42630 rows x 2 columns]"
      ]
     },
     "execution_count": 11,
     "metadata": {},
     "output_type": "execute_result"
    }
   ],
   "source": [
    "import pandas as pd\n",
    "path_to_files = \"/fp/projects01/ec307/ec-krimhau/github_datasets/HP_vs_med_low\"\n",
    "file_name = \"high_vs_med_low_top_50_hp_repos_balanced_github.csv\"\n",
    "full_training_df = pd.read_csv(f\"{path_to_files}/{file_name}\")\n",
    "full_training_df"
   ]
  },
  {
   "cell_type": "code",
   "execution_count": 12,
   "id": "29268f6a",
   "metadata": {},
   "outputs": [
    {
     "data": {
      "text/html": [
       "<div>\n",
       "<style scoped>\n",
       "    .dataframe tbody tr th:only-of-type {\n",
       "        vertical-align: middle;\n",
       "    }\n",
       "\n",
       "    .dataframe tbody tr th {\n",
       "        vertical-align: top;\n",
       "    }\n",
       "\n",
       "    .dataframe thead th {\n",
       "        text-align: right;\n",
       "    }\n",
       "</style>\n",
       "<table border=\"1\" class=\"dataframe\">\n",
       "  <thead>\n",
       "    <tr style=\"text-align: right;\">\n",
       "      <th></th>\n",
       "      <th>label</th>\n",
       "      <th>text</th>\n",
       "    </tr>\n",
       "  </thead>\n",
       "  <tbody>\n",
       "    <tr>\n",
       "      <th>0</th>\n",
       "      <td>0</td>\n",
       "      <td>speed up asymmetry calculation this issue was ...</td>\n",
       "    </tr>\n",
       "    <tr>\n",
       "      <th>1</th>\n",
       "      <td>0</td>\n",
       "      <td>with pgleaderchangewaitqueuestestaddtwoservers...</td>\n",
       "    </tr>\n",
       "    <tr>\n",
       "      <th>2</th>\n",
       "      <td>1</td>\n",
       "      <td>healthcareapiclientfhirfhirresourcestest testc...</td>\n",
       "    </tr>\n",
       "    <tr>\n",
       "      <th>3</th>\n",
       "      <td>0</td>\n",
       "      <td>on there is a core seen within less than an ho...</td>\n",
       "    </tr>\n",
       "    <tr>\n",
       "      <th>4</th>\n",
       "      <td>0</td>\n",
       "      <td>capture and send the submitter button when sub...</td>\n",
       "    </tr>\n",
       "    <tr>\n",
       "      <th>...</th>\n",
       "      <td>...</td>\n",
       "      <td>...</td>\n",
       "    </tr>\n",
       "    <tr>\n",
       "      <th>42625</th>\n",
       "      <td>0</td>\n",
       "      <td>add preview button to the form for creating ne...</td>\n",
       "    </tr>\n",
       "    <tr>\n",
       "      <th>42626</th>\n",
       "      <td>0</td>\n",
       "      <td>ecommerce customers menu item visibility quick...</td>\n",
       "    </tr>\n",
       "    <tr>\n",
       "      <th>42627</th>\n",
       "      <td>1</td>\n",
       "      <td>could not add relations i could not add a new ...</td>\n",
       "    </tr>\n",
       "    <tr>\n",
       "      <th>42628</th>\n",
       "      <td>0</td>\n",
       "      <td>deleting a profile does not remove the instanc...</td>\n",
       "    </tr>\n",
       "    <tr>\n",
       "      <th>42629</th>\n",
       "      <td>0</td>\n",
       "      <td>jetpack monthly plans show errors about expiri...</td>\n",
       "    </tr>\n",
       "  </tbody>\n",
       "</table>\n",
       "<p>42630 rows × 2 columns</p>\n",
       "</div>"
      ],
      "text/plain": [
       "       label                                               text\n",
       "0          0  speed up asymmetry calculation this issue was ...\n",
       "1          0  with pgleaderchangewaitqueuestestaddtwoservers...\n",
       "2          1  healthcareapiclientfhirfhirresourcestest testc...\n",
       "3          0  on there is a core seen within less than an ho...\n",
       "4          0  capture and send the submitter button when sub...\n",
       "...      ...                                                ...\n",
       "42625      0  add preview button to the form for creating ne...\n",
       "42626      0  ecommerce customers menu item visibility quick...\n",
       "42627      1  could not add relations i could not add a new ...\n",
       "42628      0  deleting a profile does not remove the instanc...\n",
       "42629      0  jetpack monthly plans show errors about expiri...\n",
       "\n",
       "[42630 rows x 2 columns]"
      ]
     },
     "execution_count": 12,
     "metadata": {},
     "output_type": "execute_result"
    }
   ],
   "source": [
    "full_training_df"
   ]
  },
  {
   "cell_type": "code",
   "execution_count": 13,
   "id": "38bd7fa7-7b96-4934-b210-2b4a63881828",
   "metadata": {},
   "outputs": [
    {
     "data": {
      "text/html": [
       "<div>\n",
       "<style scoped>\n",
       "    .dataframe tbody tr th:only-of-type {\n",
       "        vertical-align: middle;\n",
       "    }\n",
       "\n",
       "    .dataframe tbody tr th {\n",
       "        vertical-align: top;\n",
       "    }\n",
       "\n",
       "    .dataframe thead th {\n",
       "        text-align: right;\n",
       "    }\n",
       "</style>\n",
       "<table border=\"1\" class=\"dataframe\">\n",
       "  <thead>\n",
       "    <tr style=\"text-align: right;\">\n",
       "      <th></th>\n",
       "      <th>text</th>\n",
       "      <th>label</th>\n",
       "    </tr>\n",
       "  </thead>\n",
       "  <tbody>\n",
       "    <tr>\n",
       "      <th>0</th>\n",
       "      <td>name resolution in mypy doesnt match python fo...</td>\n",
       "      <td>1</td>\n",
       "    </tr>\n",
       "    <tr>\n",
       "      <th>1</th>\n",
       "      <td>support indexing and iterating enum type objec...</td>\n",
       "      <td>1</td>\n",
       "    </tr>\n",
       "    <tr>\n",
       "      <th>2</th>\n",
       "      <td>new semantic analyzer invalid type variable pr...</td>\n",
       "      <td>0</td>\n",
       "    </tr>\n",
       "    <tr>\n",
       "      <th>3</th>\n",
       "      <td>parameterless generic functions are allowed py...</td>\n",
       "      <td>0</td>\n",
       "    </tr>\n",
       "    <tr>\n",
       "      <th>4</th>\n",
       "      <td>support type aliases in finegrained incrementa...</td>\n",
       "      <td>1</td>\n",
       "    </tr>\n",
       "    <tr>\n",
       "      <th>...</th>\n",
       "      <td>...</td>\n",
       "      <td>...</td>\n",
       "    </tr>\n",
       "    <tr>\n",
       "      <th>729</th>\n",
       "      <td>error codes in type ignore dont suppress relat...</td>\n",
       "      <td>1</td>\n",
       "    </tr>\n",
       "    <tr>\n",
       "      <th>730</th>\n",
       "      <td>crash on unpacking to member expression this t...</td>\n",
       "      <td>1</td>\n",
       "    </tr>\n",
       "    <tr>\n",
       "      <th>731</th>\n",
       "      <td>give better error messages when calling overlo...</td>\n",
       "      <td>1</td>\n",
       "    </tr>\n",
       "    <tr>\n",
       "      <th>732</th>\n",
       "      <td>two issues with subclassing namedtuplegenerate...</td>\n",
       "      <td>1</td>\n",
       "    </tr>\n",
       "    <tr>\n",
       "      <th>733</th>\n",
       "      <td>no trees are reused ever thats a regression in...</td>\n",
       "      <td>1</td>\n",
       "    </tr>\n",
       "  </tbody>\n",
       "</table>\n",
       "<p>734 rows × 2 columns</p>\n",
       "</div>"
      ],
      "text/plain": [
       "                                                  text  label\n",
       "0    name resolution in mypy doesnt match python fo...      1\n",
       "1    support indexing and iterating enum type objec...      1\n",
       "2    new semantic analyzer invalid type variable pr...      0\n",
       "3    parameterless generic functions are allowed py...      0\n",
       "4    support type aliases in finegrained incrementa...      1\n",
       "..                                                 ...    ...\n",
       "729  error codes in type ignore dont suppress relat...      1\n",
       "730  crash on unpacking to member expression this t...      1\n",
       "731  give better error messages when calling overlo...      1\n",
       "732  two issues with subclassing namedtuplegenerate...      1\n",
       "733  no trees are reused ever thats a regression in...      1\n",
       "\n",
       "[734 rows x 2 columns]"
      ]
     },
     "execution_count": 13,
     "metadata": {},
     "output_type": "execute_result"
    }
   ],
   "source": [
    "import pandas as pd\n",
    "fine_tuning_df = pd.read_csv(\"clean_high_vs_med_low_mypy_testset.csv\")\n",
    "fine_tuning_df"
   ]
  },
  {
   "cell_type": "code",
   "execution_count": 14,
   "id": "abede05d-ccb8-427c-b64a-135ba811adb4",
   "metadata": {},
   "outputs": [],
   "source": [
    "# Split the full training dataframe into training and test dataframes\n",
    "# 85/15 split. Validation set will be created from the training set later.\n",
    "train_full_training_df, test_full_training_df = train_test_split(full_training_df)\n"
   ]
  },
  {
   "cell_type": "code",
   "execution_count": 15,
   "id": "5ba5200b-d0af-4cc0-9d9c-7ae701d07b5d",
   "metadata": {},
   "outputs": [],
   "source": [
    "# Split the fine-tuning data frame into training and test data frames\n",
    "# Where 30% of the data is used for training and 70% for testing\n",
    "fine_tune_train_df , fine_tune_test_df = train_test_split(fine_tuning_df, train_percent=.30) # 30%"
   ]
  },
  {
   "cell_type": "code",
   "execution_count": 16,
   "id": "f2acee4a",
   "metadata": {},
   "outputs": [
    {
     "data": {
      "text/html": [
       "<div>\n",
       "<style scoped>\n",
       "    .dataframe tbody tr th:only-of-type {\n",
       "        vertical-align: middle;\n",
       "    }\n",
       "\n",
       "    .dataframe tbody tr th {\n",
       "        vertical-align: top;\n",
       "    }\n",
       "\n",
       "    .dataframe thead th {\n",
       "        text-align: right;\n",
       "    }\n",
       "</style>\n",
       "<table border=\"1\" class=\"dataframe\">\n",
       "  <thead>\n",
       "    <tr style=\"text-align: right;\">\n",
       "      <th></th>\n",
       "      <th>text</th>\n",
       "      <th>label</th>\n",
       "    </tr>\n",
       "  </thead>\n",
       "  <tbody>\n",
       "    <tr>\n",
       "      <th>559</th>\n",
       "      <td>make mypy more positive maybe someone already ...</td>\n",
       "      <td>0</td>\n",
       "    </tr>\n",
       "    <tr>\n",
       "      <th>33</th>\n",
       "      <td>false positive for union tuple the following c...</td>\n",
       "      <td>0</td>\n",
       "    </tr>\n",
       "    <tr>\n",
       "      <th>275</th>\n",
       "      <td>use plugin to support numpy this was originall...</td>\n",
       "      <td>0</td>\n",
       "    </tr>\n",
       "    <tr>\n",
       "      <th>198</th>\n",
       "      <td>support pep syntax for runtime use cases this ...</td>\n",
       "      <td>1</td>\n",
       "    </tr>\n",
       "    <tr>\n",
       "      <th>192</th>\n",
       "      <td>if list item has incompatible type display exp...</td>\n",
       "      <td>1</td>\n",
       "    </tr>\n",
       "    <tr>\n",
       "      <th>...</th>\n",
       "      <td>...</td>\n",
       "      <td>...</td>\n",
       "    </tr>\n",
       "    <tr>\n",
       "      <th>209</th>\n",
       "      <td>union is not processed correctly if its mentio...</td>\n",
       "      <td>0</td>\n",
       "    </tr>\n",
       "    <tr>\n",
       "      <th>568</th>\n",
       "      <td>forward reference to typinglist results in any...</td>\n",
       "      <td>1</td>\n",
       "    </tr>\n",
       "    <tr>\n",
       "      <th>412</th>\n",
       "      <td>x tuple type tuple incompatible types in assig...</td>\n",
       "      <td>0</td>\n",
       "    </tr>\n",
       "    <tr>\n",
       "      <th>176</th>\n",
       "      <td>add hover text with explanations to html repor...</td>\n",
       "      <td>0</td>\n",
       "    </tr>\n",
       "    <tr>\n",
       "      <th>548</th>\n",
       "      <td>intenum with newtype value type regression the...</td>\n",
       "      <td>1</td>\n",
       "    </tr>\n",
       "  </tbody>\n",
       "</table>\n",
       "<p>220 rows × 2 columns</p>\n",
       "</div>"
      ],
      "text/plain": [
       "                                                  text  label\n",
       "559  make mypy more positive maybe someone already ...      0\n",
       "33   false positive for union tuple the following c...      0\n",
       "275  use plugin to support numpy this was originall...      0\n",
       "198  support pep syntax for runtime use cases this ...      1\n",
       "192  if list item has incompatible type display exp...      1\n",
       "..                                                 ...    ...\n",
       "209  union is not processed correctly if its mentio...      0\n",
       "568  forward reference to typinglist results in any...      1\n",
       "412  x tuple type tuple incompatible types in assig...      0\n",
       "176  add hover text with explanations to html repor...      0\n",
       "548  intenum with newtype value type regression the...      1\n",
       "\n",
       "[220 rows x 2 columns]"
      ]
     },
     "execution_count": 16,
     "metadata": {},
     "output_type": "execute_result"
    }
   ],
   "source": [
    "fine_tune_train_df"
   ]
  },
  {
   "cell_type": "code",
   "execution_count": 17,
   "id": "f13fa85a-e5f6-4aec-9592-3f60f514f7a2",
   "metadata": {},
   "outputs": [],
   "source": [
    "# Concatenate the training dataframes into the final training dataframe\n",
    "df = pd.concat([train_full_training_df, fine_tune_train_df], ignore_index = True)"
   ]
  },
  {
   "cell_type": "code",
   "execution_count": 18,
   "id": "d1b91f54",
   "metadata": {},
   "outputs": [
    {
     "data": {
      "text/html": [
       "<div>\n",
       "<style scoped>\n",
       "    .dataframe tbody tr th:only-of-type {\n",
       "        vertical-align: middle;\n",
       "    }\n",
       "\n",
       "    .dataframe tbody tr th {\n",
       "        vertical-align: top;\n",
       "    }\n",
       "\n",
       "    .dataframe thead th {\n",
       "        text-align: right;\n",
       "    }\n",
       "</style>\n",
       "<table border=\"1\" class=\"dataframe\">\n",
       "  <thead>\n",
       "    <tr style=\"text-align: right;\">\n",
       "      <th></th>\n",
       "      <th>label</th>\n",
       "      <th>text</th>\n",
       "    </tr>\n",
       "  </thead>\n",
       "  <tbody>\n",
       "    <tr>\n",
       "      <th>0</th>\n",
       "      <td>0</td>\n",
       "      <td>use correct case for help documentation in eg ...</td>\n",
       "    </tr>\n",
       "    <tr>\n",
       "      <th>1</th>\n",
       "      <td>0</td>\n",
       "      <td>overwriting bookmark folders when syncing devi...</td>\n",
       "    </tr>\n",
       "    <tr>\n",
       "      <th>2</th>\n",
       "      <td>0</td>\n",
       "      <td>no results if country is specified in the quer...</td>\n",
       "    </tr>\n",
       "    <tr>\n",
       "      <th>3</th>\n",
       "      <td>0</td>\n",
       "      <td>prepopulate subject of message when clicking r...</td>\n",
       "    </tr>\n",
       "    <tr>\n",
       "      <th>4</th>\n",
       "      <td>0</td>\n",
       "      <td>timeout on wiki listoffeaturedimages does not ...</td>\n",
       "    </tr>\n",
       "    <tr>\n",
       "      <th>...</th>\n",
       "      <td>...</td>\n",
       "      <td>...</td>\n",
       "    </tr>\n",
       "    <tr>\n",
       "      <th>36450</th>\n",
       "      <td>0</td>\n",
       "      <td>union is not processed correctly if its mentio...</td>\n",
       "    </tr>\n",
       "    <tr>\n",
       "      <th>36451</th>\n",
       "      <td>1</td>\n",
       "      <td>forward reference to typinglist results in any...</td>\n",
       "    </tr>\n",
       "    <tr>\n",
       "      <th>36452</th>\n",
       "      <td>0</td>\n",
       "      <td>x tuple type tuple incompatible types in assig...</td>\n",
       "    </tr>\n",
       "    <tr>\n",
       "      <th>36453</th>\n",
       "      <td>0</td>\n",
       "      <td>add hover text with explanations to html repor...</td>\n",
       "    </tr>\n",
       "    <tr>\n",
       "      <th>36454</th>\n",
       "      <td>1</td>\n",
       "      <td>intenum with newtype value type regression the...</td>\n",
       "    </tr>\n",
       "  </tbody>\n",
       "</table>\n",
       "<p>36455 rows × 2 columns</p>\n",
       "</div>"
      ],
      "text/plain": [
       "       label                                               text\n",
       "0          0  use correct case for help documentation in eg ...\n",
       "1          0  overwriting bookmark folders when syncing devi...\n",
       "2          0  no results if country is specified in the quer...\n",
       "3          0  prepopulate subject of message when clicking r...\n",
       "4          0  timeout on wiki listoffeaturedimages does not ...\n",
       "...      ...                                                ...\n",
       "36450      0  union is not processed correctly if its mentio...\n",
       "36451      1  forward reference to typinglist results in any...\n",
       "36452      0  x tuple type tuple incompatible types in assig...\n",
       "36453      0  add hover text with explanations to html repor...\n",
       "36454      1  intenum with newtype value type regression the...\n",
       "\n",
       "[36455 rows x 2 columns]"
      ]
     },
     "execution_count": 18,
     "metadata": {},
     "output_type": "execute_result"
    }
   ],
   "source": [
    "df"
   ]
  },
  {
   "cell_type": "code",
   "execution_count": 19,
   "id": "1902e2d0-9479-4a54-9148-7b6ddd0e44e1",
   "metadata": {},
   "outputs": [],
   "source": [
    "gkf = GroupKFold(n_splits=CONFIG['n_fold'])\n",
    "\n",
    "for fold, ( _, val_) in enumerate(gkf.split(X=df, groups=df.text)):\n",
    "    df.loc[val_ , \"kfold\"] = int(fold)\n",
    "    \n",
    "df[\"kfold\"] = df[\"kfold\"].astype(int)\n"
   ]
  },
  {
   "cell_type": "code",
   "execution_count": 20,
   "id": "60874b39-4bec-4d96-9973-01d6935693dd",
   "metadata": {},
   "outputs": [
    {
     "data": {
      "text/plain": [
       "kfold  label\n",
       "0      1        6077\n",
       "       0        6075\n",
       "1      1        6102\n",
       "       0        6050\n",
       "2      0        6113\n",
       "       1        6038\n",
       "Name: count, dtype: int64"
      ]
     },
     "execution_count": 20,
     "metadata": {},
     "output_type": "execute_result"
    }
   ],
   "source": [
    "df.groupby('kfold')['label'].value_counts()\n"
   ]
  },
  {
   "cell_type": "code",
   "execution_count": 21,
   "id": "455d058b-1561-4493-bd19-11cb59be06cb",
   "metadata": {},
   "outputs": [
    {
     "data": {
      "text/html": [
       "<div>\n",
       "<style scoped>\n",
       "    .dataframe tbody tr th:only-of-type {\n",
       "        vertical-align: middle;\n",
       "    }\n",
       "\n",
       "    .dataframe tbody tr th {\n",
       "        vertical-align: top;\n",
       "    }\n",
       "\n",
       "    .dataframe thead th {\n",
       "        text-align: right;\n",
       "    }\n",
       "</style>\n",
       "<table border=\"1\" class=\"dataframe\">\n",
       "  <thead>\n",
       "    <tr style=\"text-align: right;\">\n",
       "      <th></th>\n",
       "      <th>label</th>\n",
       "      <th>text</th>\n",
       "      <th>kfold</th>\n",
       "    </tr>\n",
       "  </thead>\n",
       "  <tbody>\n",
       "    <tr>\n",
       "      <th>0</th>\n",
       "      <td>0</td>\n",
       "      <td>use correct case for help documentation in eg ...</td>\n",
       "      <td>0</td>\n",
       "    </tr>\n",
       "    <tr>\n",
       "      <th>1</th>\n",
       "      <td>0</td>\n",
       "      <td>overwriting bookmark folders when syncing devi...</td>\n",
       "      <td>2</td>\n",
       "    </tr>\n",
       "    <tr>\n",
       "      <th>2</th>\n",
       "      <td>0</td>\n",
       "      <td>no results if country is specified in the quer...</td>\n",
       "      <td>1</td>\n",
       "    </tr>\n",
       "    <tr>\n",
       "      <th>3</th>\n",
       "      <td>0</td>\n",
       "      <td>prepopulate subject of message when clicking r...</td>\n",
       "      <td>1</td>\n",
       "    </tr>\n",
       "    <tr>\n",
       "      <th>4</th>\n",
       "      <td>0</td>\n",
       "      <td>timeout on wiki listoffeaturedimages does not ...</td>\n",
       "      <td>1</td>\n",
       "    </tr>\n",
       "    <tr>\n",
       "      <th>...</th>\n",
       "      <td>...</td>\n",
       "      <td>...</td>\n",
       "      <td>...</td>\n",
       "    </tr>\n",
       "    <tr>\n",
       "      <th>36450</th>\n",
       "      <td>0</td>\n",
       "      <td>union is not processed correctly if its mentio...</td>\n",
       "      <td>0</td>\n",
       "    </tr>\n",
       "    <tr>\n",
       "      <th>36451</th>\n",
       "      <td>1</td>\n",
       "      <td>forward reference to typinglist results in any...</td>\n",
       "      <td>1</td>\n",
       "    </tr>\n",
       "    <tr>\n",
       "      <th>36452</th>\n",
       "      <td>0</td>\n",
       "      <td>x tuple type tuple incompatible types in assig...</td>\n",
       "      <td>2</td>\n",
       "    </tr>\n",
       "    <tr>\n",
       "      <th>36453</th>\n",
       "      <td>0</td>\n",
       "      <td>add hover text with explanations to html repor...</td>\n",
       "      <td>2</td>\n",
       "    </tr>\n",
       "    <tr>\n",
       "      <th>36454</th>\n",
       "      <td>1</td>\n",
       "      <td>intenum with newtype value type regression the...</td>\n",
       "      <td>0</td>\n",
       "    </tr>\n",
       "  </tbody>\n",
       "</table>\n",
       "<p>36455 rows × 3 columns</p>\n",
       "</div>"
      ],
      "text/plain": [
       "       label                                               text  kfold\n",
       "0          0  use correct case for help documentation in eg ...      0\n",
       "1          0  overwriting bookmark folders when syncing devi...      2\n",
       "2          0  no results if country is specified in the quer...      1\n",
       "3          0  prepopulate subject of message when clicking r...      1\n",
       "4          0  timeout on wiki listoffeaturedimages does not ...      1\n",
       "...      ...                                                ...    ...\n",
       "36450      0  union is not processed correctly if its mentio...      0\n",
       "36451      1  forward reference to typinglist results in any...      1\n",
       "36452      0  x tuple type tuple incompatible types in assig...      2\n",
       "36453      0  add hover text with explanations to html repor...      2\n",
       "36454      1  intenum with newtype value type regression the...      0\n",
       "\n",
       "[36455 rows x 3 columns]"
      ]
     },
     "execution_count": 21,
     "metadata": {},
     "output_type": "execute_result"
    }
   ],
   "source": [
    "df"
   ]
  },
  {
   "cell_type": "code",
   "execution_count": 22,
   "id": "e2e6cfb2-d1e2-4ef8-8694-2d18e56296a1",
   "metadata": {},
   "outputs": [],
   "source": [
    "class HP_Dataset(Dataset):\n",
    "    def __init__(self, df, tokenizer, max_length):\n",
    "        self.df = df\n",
    "        self.max_len = max_length\n",
    "        self.tokenizer = tokenizer\n",
    "        self.text = df['text'].values\n",
    "        self.targets = df['label'].values\n",
    "        \n",
    "    def __len__(self):\n",
    "        return len(self.df)\n",
    "    \n",
    "    def __getitem__(self, index):\n",
    "        text = self.text[index]\n",
    "        inputs = self.tokenizer.encode_plus(\n",
    "                        text,\n",
    "                        truncation=True,\n",
    "                        add_special_tokens=True,\n",
    "                        max_length=self.max_len\n",
    "                    )\n",
    "        \n",
    "        return {\n",
    "            'input_ids': inputs['input_ids'],\n",
    "            'attention_mask': inputs['attention_mask'],\n",
    "            'target': self.targets[index]\n",
    "        }"
   ]
  },
  {
   "cell_type": "code",
   "execution_count": 23,
   "id": "dbc28466-4efa-44b1-9486-63cc0b2d7c77",
   "metadata": {},
   "outputs": [],
   "source": [
    "collate_fn = DataCollatorWithPadding(tokenizer=CONFIG['tokenizer'])\n"
   ]
  },
  {
   "cell_type": "code",
   "execution_count": 24,
   "id": "d739c680-fc15-4d64-8cf4-8902174dfe12",
   "metadata": {},
   "outputs": [],
   "source": [
    "class MeanPooling(nn.Module):\n",
    "    def __init__(self):\n",
    "        super(MeanPooling, self).__init__()\n",
    "        \n",
    "    def forward(self, last_hidden_state, attention_mask):\n",
    "        input_mask_expanded = attention_mask.unsqueeze(-1).expand(last_hidden_state.size()).float()\n",
    "        sum_embeddings = torch.sum(last_hidden_state * input_mask_expanded, 1)\n",
    "        sum_mask = input_mask_expanded.sum(1)\n",
    "        sum_mask = torch.clamp(sum_mask, min=1e-9)\n",
    "        mean_embeddings = sum_embeddings / sum_mask\n",
    "        return mean_embeddings"
   ]
  },
  {
   "cell_type": "code",
   "execution_count": 25,
   "id": "dba820b1-375c-4a0c-970a-fd554c94ace3",
   "metadata": {},
   "outputs": [],
   "source": [
    "class HP_Model(nn.Module):\n",
    "    def __init__(self, model_name):\n",
    "        super(HP_Model, self).__init__()\n",
    "        self.model = AutoModel.from_pretrained(model_name)\n",
    "        self.config = AutoConfig.from_pretrained(model_name)\n",
    "        self.drop = nn.Dropout(p=0.2)\n",
    "        self.pooler = MeanPooling()\n",
    "        self.fc = nn.Linear(self.config.hidden_size, CONFIG['num_classes'])\n",
    "        \n",
    "    def forward(self, ids, mask):        \n",
    "        out = self.model(input_ids=ids,attention_mask=mask,\n",
    "                         output_hidden_states=False)\n",
    "        out = self.pooler(out.last_hidden_state, mask)\n",
    "        out = self.drop(out)\n",
    "        outputs = self.fc(out)\n",
    "        return outputs"
   ]
  },
  {
   "cell_type": "code",
   "execution_count": 26,
   "id": "1abf13ca-1c86-4cfe-9955-3ff4d0cafe56",
   "metadata": {},
   "outputs": [],
   "source": [
    "def criterion(outputs, labels):\n",
    "    return nn.CrossEntropyLoss()(outputs, labels)"
   ]
  },
  {
   "cell_type": "code",
   "execution_count": 27,
   "id": "013d660f-6376-45cf-9c52-2de074708b50",
   "metadata": {},
   "outputs": [],
   "source": [
    "def train_one_epoch(model, optimizer, scheduler, dataloader, device, epoch):\n",
    "    model.train()\n",
    "    \n",
    "    dataset_size = 0\n",
    "    running_loss = 0.0\n",
    "    \n",
    "    bar = tqdm(enumerate(dataloader), total=len(dataloader))\n",
    "    for step, data in bar:\n",
    "        ids = data['input_ids'].to(device, dtype = torch.long)\n",
    "        mask = data['attention_mask'].to(device, dtype = torch.long)\n",
    "        targets = data['target'].to(device, dtype=torch.long)\n",
    "        \n",
    "        batch_size = ids.size(0)\n",
    "\n",
    "        outputs = model(ids, mask)\n",
    "        \n",
    "        loss = criterion(outputs, targets)\n",
    "        loss = loss / CONFIG['n_accumulate']\n",
    "        loss.backward()\n",
    "    \n",
    "        if (step + 1) % CONFIG['n_accumulate'] == 0:\n",
    "            optimizer.step()\n",
    "\n",
    "            # zero the parameter gradients\n",
    "            optimizer.zero_grad()\n",
    "\n",
    "            if scheduler is not None:\n",
    "                scheduler.step()\n",
    "                \n",
    "        running_loss += (loss.item() * batch_size)\n",
    "        dataset_size += batch_size\n",
    "        \n",
    "        epoch_loss = running_loss / dataset_size\n",
    "        \n",
    "        bar.set_postfix(Epoch=epoch, Train_Loss=epoch_loss,\n",
    "                        LR=optimizer.param_groups[0]['lr'])\n",
    "    gc.collect()\n",
    "    \n",
    "    return epoch_loss"
   ]
  },
  {
   "cell_type": "code",
   "execution_count": 28,
   "id": "77809ed9-c4a1-436f-9bc5-d806ffe6d93e",
   "metadata": {},
   "outputs": [],
   "source": [
    "import seaborn as sns\n",
    "import matplotlib.pyplot as plt\n",
    "from sklearn.metrics import confusion_matrix\n",
    "from sklearn.metrics import classification_report\n",
    "from sklearn.metrics import f1_score\n",
    "from sklearn.metrics import accuracy_score\n",
    "\n"
   ]
  },
  {
   "cell_type": "code",
   "execution_count": 29,
   "id": "2df79ea9-afa8-4de5-a84b-d6dfdc826ff8",
   "metadata": {},
   "outputs": [],
   "source": [
    "def all_classification_report(y_true, y_pred, target_names = ['Non_HP', 'HP'], digits=4):\n",
    "    \n",
    "    print('Classification Report:')\n",
    "    print(classification_report(y_true, y_pred, target_names = target_names, digits=4))\n",
    "    \n",
    "    accuracy =round(accuracy_score(y_true, y_pred),4)\n",
    "    print(\"Accuracy =\",  accuracy)\n",
    "    f1score = round(f1_score(y_true, y_pred),4)\n",
    "    print(\"F1_score =\", f1score)\n",
    "\n",
    "    cm = confusion_matrix(y_true, y_pred, labels=[1,0])\n",
    "    ax= plt.subplot()\n",
    "    sns.heatmap(cm, annot=True, ax = ax, cmap='Blues', fmt=\"d\")\n",
    "\n",
    "    ax.set_title('Confusion Matrix')\n",
    "\n",
    "    ax.set_xlabel('Predicted Labels')\n",
    "    ax.set_ylabel('True Labels')\n",
    "\n",
    "    ax.xaxis.set_ticklabels(['Non_HP', 'HP'])\n",
    "    ax.yaxis.set_ticklabels(['Non_HP', 'HP'])\n",
    "    \n",
    "    return  accuracy , f1score\n",
    "    \n",
    "    "
   ]
  },
  {
   "cell_type": "code",
   "execution_count": 30,
   "id": "c0633e6f-e935-4b94-853b-f3ef01cf97a2",
   "metadata": {},
   "outputs": [],
   "source": [
    "@torch.no_grad()\n",
    "def valid_one_epoch(model, dataloader, device, epoch):\n",
    "    model.eval()\n",
    "    dataset_size = 0\n",
    "    running_loss = 0.0\n",
    "    \n",
    "    y_pred = []\n",
    "    y_true = []\n",
    "    \n",
    "    bar = tqdm(enumerate(dataloader), total=len(dataloader))\n",
    "    for step, data in bar:        \n",
    "        ids = data['input_ids'].to(device, dtype = torch.long)\n",
    "        mask = data['attention_mask'].to(device, dtype = torch.long)\n",
    "        targets = data['target'].to(device, dtype=torch.long)\n",
    "        \n",
    "        batch_size = ids.size(0)\n",
    "\n",
    "        outputs = model(ids, mask)\n",
    "        \n",
    "        loss = criterion(outputs, targets)\n",
    "        \n",
    "\n",
    "        predictions = torch.argmax(outputs, dim=-1).flatten().tolist()\n",
    "        \n",
    "        target = targets.tolist()\n",
    "\n",
    "        y_pred.extend(predictions)\n",
    "        y_true.extend(target)\n",
    "        running_loss += (loss.item() * batch_size)\n",
    "        dataset_size += batch_size\n",
    "        \n",
    "        epoch_loss = running_loss / dataset_size\n",
    "        \n",
    "        bar.set_postfix(Epoch=epoch, Valid_Loss=epoch_loss,LR=optimizer.param_groups[0]['lr'])   \n",
    "    \n",
    "    \n",
    "    accuracy, f1score = all_classification_report(y_true,y_pred)\n",
    "    gc.collect()\n",
    "    \n",
    "    return epoch_loss , accuracy , f1score"
   ]
  },
  {
   "cell_type": "code",
   "execution_count": 31,
   "id": "e2a01d01-3b43-4723-9874-43b38ffcbdc4",
   "metadata": {},
   "outputs": [],
   "source": [
    "def run_training(model, optimizer, scheduler, device, num_epochs, fold):\n",
    "    # To automatically log gradients\n",
    "    wandb.watch(model, log_freq=100)\n",
    "    \n",
    "    if torch.cuda.is_available():\n",
    "        print(\"[INFO] Using GPU: {}\\n\".format(torch.cuda.get_device_name()))\n",
    "    \n",
    "    start = time.time()\n",
    "    best_model_wts = copy.deepcopy(model.state_dict())\n",
    "    best_epoch_loss = np.inf\n",
    "    history = defaultdict(list)\n",
    "    \n",
    "    for epoch in range(1, num_epochs + 1): \n",
    "        gc.collect()\n",
    "        train_epoch_loss = train_one_epoch(model, optimizer, scheduler, \n",
    "                                           dataloader=train_loader, \n",
    "                                           device=CONFIG['device'], epoch=epoch)\n",
    "        \n",
    "        val_epoch_loss, accuracy , f1score = valid_one_epoch(model, valid_loader, device=CONFIG['device'], \n",
    "                                         epoch=epoch)\n",
    "    \n",
    "        history['Train Loss'].append(train_epoch_loss)\n",
    "        history['Valid Loss'].append(val_epoch_loss)\n",
    "      \n",
    "        history['Valid accuracy'].append(accuracy)\n",
    "        history['Valid f1score'].append(f1score)\n",
    "\n",
    "\n",
    "\n",
    "        \n",
    "        # Log the metrics\n",
    "        wandb.log({\"Train Loss\": train_epoch_loss})\n",
    "        wandb.log({\"Valid Loss\": val_epoch_loss})\n",
    "        wandb.log({\"Valid Accuracy\": accuracy})\n",
    "        wandb.log({\"Valid F1_score\": f1score})\n",
    "\n",
    "\n",
    "        \n",
    "        # deep copy the model\n",
    "        if val_epoch_loss <= best_epoch_loss:\n",
    "            print(f\"{b_}Validation Loss Improved ({best_epoch_loss} ---> {val_epoch_loss})\")\n",
    "            best_epoch_loss = val_epoch_loss\n",
    "            run.summary[\"Best Loss\"] = best_epoch_loss\n",
    "            best_model_wts = copy.deepcopy(model.state_dict())\n",
    "            PATH = f\"{HASH_NAME}-Loss-Fold-{fold}.bin\"\n",
    "            torch.save(model.state_dict(), PATH)\n",
    "            # Save a model file from the current directory\n",
    "            print(f\"Model Saved{sr_}\")\n",
    "            \n",
    "        print()\n",
    "    \n",
    "    end = time.time()\n",
    "    time_elapsed = end - start\n",
    "    print('Training complete in {:.0f}h {:.0f}m {:.0f}s'.format(\n",
    "        time_elapsed // 3600, (time_elapsed % 3600) // 60, (time_elapsed % 3600) % 60))\n",
    "    print(\"Best Loss: {:.4f}\".format(best_epoch_loss))\n",
    "    \n",
    "    # load best model weights\n",
    "    model.load_state_dict(best_model_wts)\n",
    "    \n",
    "    return model, history\n"
   ]
  },
  {
   "cell_type": "code",
   "execution_count": 32,
   "id": "7ac45314-e0b4-4150-8e2a-06beba582112",
   "metadata": {},
   "outputs": [],
   "source": [
    "def prepare_loaders(fold):\n",
    "    df_train = df[df.kfold != fold].reset_index(drop=True)\n",
    "    df_valid = df[df.kfold == fold].reset_index(drop=True)\n",
    "    \n",
    "    train_dataset = HP_Dataset(df_train, tokenizer=CONFIG['tokenizer'], max_length=CONFIG['max_length'])\n",
    "    valid_dataset = HP_Dataset(df_valid, tokenizer=CONFIG['tokenizer'], max_length=CONFIG['max_length'])\n",
    "\n",
    "    train_loader = DataLoader(train_dataset, batch_size=CONFIG['train_batch_size'], collate_fn=collate_fn, \n",
    "                              num_workers=2, shuffle=True, pin_memory=True, drop_last=True)\n",
    "    valid_loader = DataLoader(valid_dataset, batch_size=CONFIG['valid_batch_size'], collate_fn=collate_fn,\n",
    "                              num_workers=2, shuffle=False, pin_memory=True)\n",
    "    \n",
    "    return train_loader, valid_loader"
   ]
  },
  {
   "cell_type": "code",
   "execution_count": 33,
   "id": "b3b81685-ab3f-47ca-b1de-86dc9d79fe16",
   "metadata": {},
   "outputs": [],
   "source": [
    "def fetch_scheduler(optimizer):\n",
    "    if CONFIG['scheduler'] == 'CosineAnnealingLR':\n",
    "        scheduler = lr_scheduler.CosineAnnealingLR(optimizer,T_max=CONFIG['T_max'], \n",
    "                                                   eta_min=CONFIG['min_lr'])\n",
    "    elif CONFIG['scheduler'] == 'CosineAnnealingWarmRestarts':\n",
    "        scheduler = lr_scheduler.CosineAnnealingWarmRestarts(optimizer,T_0=CONFIG['T_0'], \n",
    "                                                             eta_min=CONFIG['min_lr'])\n",
    "    elif CONFIG['scheduler'] == None:\n",
    "        return None\n",
    "        \n",
    "    return scheduler"
   ]
  },
  {
   "cell_type": "code",
   "execution_count": 34,
   "id": "1a6d0841-320f-4794-8377-ce2073b72bab",
   "metadata": {},
   "outputs": [
    {
     "name": "stdout",
     "output_type": "stream",
     "text": [
      "\u001b[33m====== Fold: 0 ======\u001b[0m\n"
     ]
    },
    {
     "data": {
      "text/html": [
       "Tracking run with wandb version 0.16.6"
      ],
      "text/plain": [
       "<IPython.core.display.HTML object>"
      ]
     },
     "metadata": {},
     "output_type": "display_data"
    },
    {
     "data": {
      "text/html": [
       "Run data is saved locally in <code>/fp/homes01/u01/ec-krimhau/thesis_code/priority_model_deberta/github_models/high_vs_med_low/hp_vs_low_med_top50repos/03_fine_tuning/30_mypy_fine_tuning/wandb/run-20240415_133432-gurmyd9w</code>"
      ],
      "text/plain": [
       "<IPython.core.display.HTML object>"
      ]
     },
     "metadata": {},
     "output_type": "display_data"
    },
    {
     "data": {
      "text/html": [
       "Syncing run <strong><a href='https://wandb.ai/krimhau/HP_results_Jira_High_vs_rest_results/runs/gurmyd9w' target=\"_blank\">n17wvb3ltq0a-fold-0</a></strong> to <a href='https://wandb.ai/krimhau/HP_results_Jira_High_vs_rest_results' target=\"_blank\">Weights & Biases</a> (<a href='https://wandb.me/run' target=\"_blank\">docs</a>)<br/>"
      ],
      "text/plain": [
       "<IPython.core.display.HTML object>"
      ]
     },
     "metadata": {},
     "output_type": "display_data"
    },
    {
     "data": {
      "text/html": [
       " View project at <a href='https://wandb.ai/krimhau/HP_results_Jira_High_vs_rest_results' target=\"_blank\">https://wandb.ai/krimhau/HP_results_Jira_High_vs_rest_results</a>"
      ],
      "text/plain": [
       "<IPython.core.display.HTML object>"
      ]
     },
     "metadata": {},
     "output_type": "display_data"
    },
    {
     "data": {
      "text/html": [
       " View run at <a href='https://wandb.ai/krimhau/HP_results_Jira_High_vs_rest_results/runs/gurmyd9w' target=\"_blank\">https://wandb.ai/krimhau/HP_results_Jira_High_vs_rest_results/runs/gurmyd9w</a>"
      ],
      "text/plain": [
       "<IPython.core.display.HTML object>"
      ]
     },
     "metadata": {},
     "output_type": "display_data"
    },
    {
     "name": "stdout",
     "output_type": "stream",
     "text": [
      "[INFO] Using GPU: NVIDIA A100-PCIE-40GB\n",
      "\n"
     ]
    },
    {
     "name": "stderr",
     "output_type": "stream",
     "text": [
      "100%|██████████| 3037/3037 [13:54<00:00,  3.64it/s, Epoch=1, LR=9.88e-6, Train_Loss=0.586]\n",
      "100%|██████████| 760/760 [02:02<00:00,  6.19it/s, Epoch=1, LR=9.88e-6, Valid_Loss=0.522]\n"
     ]
    },
    {
     "name": "stdout",
     "output_type": "stream",
     "text": [
      "Classification Report:\n",
      "              precision    recall  f1-score   support\n",
      "\n",
      "      Non_HP     0.6782    0.8897    0.7697      6075\n",
      "          HP     0.8398    0.5779    0.6847      6077\n",
      "\n",
      "    accuracy                         0.7338     12152\n",
      "   macro avg     0.7590    0.7338    0.7272     12152\n",
      "weighted avg     0.7590    0.7338    0.7272     12152\n",
      "\n",
      "Accuracy = 0.7338\n",
      "F1_score = 0.6847\n",
      "\u001b[34mValidation Loss Improved (inf ---> 0.5217418662217826)\n",
      "Model Saved\u001b[0m\n",
      "\n"
     ]
    },
    {
     "name": "stderr",
     "output_type": "stream",
     "text": [
      "100%|██████████| 3037/3037 [21:47<00:00,  2.32it/s, Epoch=2, LR=9.52e-6, Train_Loss=0.471]\n",
      "100%|██████████| 760/760 [02:02<00:00,  6.18it/s, Epoch=2, LR=9.52e-6, Valid_Loss=0.543]\n"
     ]
    },
    {
     "name": "stdout",
     "output_type": "stream",
     "text": [
      "Classification Report:\n",
      "              precision    recall  f1-score   support\n",
      "\n",
      "      Non_HP     0.6575    0.9491    0.7769      6075\n",
      "          HP     0.9087    0.5058    0.6499      6077\n",
      "\n",
      "    accuracy                         0.7275     12152\n",
      "   macro avg     0.7831    0.7275    0.7134     12152\n",
      "weighted avg     0.7831    0.7275    0.7134     12152\n",
      "\n",
      "Accuracy = 0.7275\n",
      "F1_score = 0.6499\n",
      "\n"
     ]
    },
    {
     "name": "stderr",
     "output_type": "stream",
     "text": [
      "100%|██████████| 3037/3037 [19:00<00:00,  2.66it/s, Epoch=3, LR=8.95e-6, Train_Loss=0.415]\n",
      "100%|██████████| 760/760 [02:02<00:00,  6.18it/s, Epoch=3, LR=8.95e-6, Valid_Loss=0.538]\n"
     ]
    },
    {
     "name": "stdout",
     "output_type": "stream",
     "text": [
      "Classification Report:\n",
      "              precision    recall  f1-score   support\n",
      "\n",
      "      Non_HP     0.6928    0.9225    0.7913      6075\n",
      "          HP     0.8841    0.5911    0.7085      6077\n",
      "\n",
      "    accuracy                         0.7567     12152\n",
      "   macro avg     0.7884    0.7568    0.7499     12152\n",
      "weighted avg     0.7884    0.7567    0.7499     12152\n",
      "\n",
      "Accuracy = 0.7567\n",
      "F1_score = 0.7085\n",
      "\n",
      "Training complete in 1h 0m 53s\n",
      "Best Loss: 0.5217\n"
     ]
    },
    {
     "data": {
      "application/vnd.jupyter.widget-view+json": {
       "model_id": "",
       "version_major": 2,
       "version_minor": 0
      },
      "text/plain": [
       "VBox(children=(Label(value='0.020 MB of 0.020 MB uploaded\\r'), FloatProgress(value=1.0, max=1.0)))"
      ]
     },
     "metadata": {},
     "output_type": "display_data"
    },
    {
     "data": {
      "text/html": [
       "<style>\n",
       "    table.wandb td:nth-child(1) { padding: 0 10px; text-align: left ; width: auto;} td:nth-child(2) {text-align: left ; width: 100%}\n",
       "    .wandb-row { display: flex; flex-direction: row; flex-wrap: wrap; justify-content: flex-start; width: 100% }\n",
       "    .wandb-col { display: flex; flex-direction: column; flex-basis: 100%; flex: 1; padding: 10px; }\n",
       "    </style>\n",
       "<div class=\"wandb-row\"><div class=\"wandb-col\"><h3>Run history:</h3><br/><table class=\"wandb\"><tr><td>Train Loss</td><td>█▃▁</td></tr><tr><td>Valid Accuracy</td><td>▃▁█</td></tr><tr><td>Valid F1_score</td><td>▅▁█</td></tr><tr><td>Valid Loss</td><td>▁█▆</td></tr></table><br/></div><div class=\"wandb-col\"><h3>Run summary:</h3><br/><table class=\"wandb\"><tr><td>Best Loss</td><td>0.52174</td></tr><tr><td>Train Loss</td><td>0.41505</td></tr><tr><td>Valid Accuracy</td><td>0.7567</td></tr><tr><td>Valid F1_score</td><td>0.7085</td></tr><tr><td>Valid Loss</td><td>0.53761</td></tr></table><br/></div></div>"
      ],
      "text/plain": [
       "<IPython.core.display.HTML object>"
      ]
     },
     "metadata": {},
     "output_type": "display_data"
    },
    {
     "data": {
      "text/html": [
       " View run <strong style=\"color:#cdcd00\">n17wvb3ltq0a-fold-0</strong> at: <a href='https://wandb.ai/krimhau/HP_results_Jira_High_vs_rest_results/runs/gurmyd9w' target=\"_blank\">https://wandb.ai/krimhau/HP_results_Jira_High_vs_rest_results/runs/gurmyd9w</a><br/> View project at: <a href='https://wandb.ai/krimhau/HP_results_Jira_High_vs_rest_results' target=\"_blank\">https://wandb.ai/krimhau/HP_results_Jira_High_vs_rest_results</a><br/>Synced 5 W&B file(s), 0 media file(s), 0 artifact file(s) and 0 other file(s)"
      ],
      "text/plain": [
       "<IPython.core.display.HTML object>"
      ]
     },
     "metadata": {},
     "output_type": "display_data"
    },
    {
     "data": {
      "text/html": [
       "Find logs at: <code>./wandb/run-20240415_133432-gurmyd9w/logs</code>"
      ],
      "text/plain": [
       "<IPython.core.display.HTML object>"
      ]
     },
     "metadata": {},
     "output_type": "display_data"
    },
    {
     "name": "stdout",
     "output_type": "stream",
     "text": [
      "\n",
      "\u001b[33m====== Fold: 1 ======\u001b[0m\n"
     ]
    },
    {
     "data": {
      "application/vnd.jupyter.widget-view+json": {
       "model_id": "318e6ceb8835480dbda65ca09e7ba567",
       "version_major": 2,
       "version_minor": 0
      },
      "text/plain": [
       "VBox(children=(Label(value='Waiting for wandb.init()...\\r'), FloatProgress(value=0.011113957424337665, max=1.0…"
      ]
     },
     "metadata": {},
     "output_type": "display_data"
    },
    {
     "data": {
      "text/html": [
       "Tracking run with wandb version 0.16.6"
      ],
      "text/plain": [
       "<IPython.core.display.HTML object>"
      ]
     },
     "metadata": {},
     "output_type": "display_data"
    },
    {
     "data": {
      "text/html": [
       "Run data is saved locally in <code>/fp/homes01/u01/ec-krimhau/thesis_code/priority_model_deberta/github_models/high_vs_med_low/hp_vs_low_med_top50repos/03_fine_tuning/30_mypy_fine_tuning/wandb/run-20240415_143542-hqv4u8f6</code>"
      ],
      "text/plain": [
       "<IPython.core.display.HTML object>"
      ]
     },
     "metadata": {},
     "output_type": "display_data"
    },
    {
     "data": {
      "text/html": [
       "Syncing run <strong><a href='https://wandb.ai/krimhau/HP_results_Jira_High_vs_rest_results/runs/hqv4u8f6' target=\"_blank\">n17wvb3ltq0a-fold-1</a></strong> to <a href='https://wandb.ai/krimhau/HP_results_Jira_High_vs_rest_results' target=\"_blank\">Weights & Biases</a> (<a href='https://wandb.me/run' target=\"_blank\">docs</a>)<br/>"
      ],
      "text/plain": [
       "<IPython.core.display.HTML object>"
      ]
     },
     "metadata": {},
     "output_type": "display_data"
    },
    {
     "data": {
      "text/html": [
       " View project at <a href='https://wandb.ai/krimhau/HP_results_Jira_High_vs_rest_results' target=\"_blank\">https://wandb.ai/krimhau/HP_results_Jira_High_vs_rest_results</a>"
      ],
      "text/plain": [
       "<IPython.core.display.HTML object>"
      ]
     },
     "metadata": {},
     "output_type": "display_data"
    },
    {
     "data": {
      "text/html": [
       " View run at <a href='https://wandb.ai/krimhau/HP_results_Jira_High_vs_rest_results/runs/hqv4u8f6' target=\"_blank\">https://wandb.ai/krimhau/HP_results_Jira_High_vs_rest_results/runs/hqv4u8f6</a>"
      ],
      "text/plain": [
       "<IPython.core.display.HTML object>"
      ]
     },
     "metadata": {},
     "output_type": "display_data"
    },
    {
     "name": "stdout",
     "output_type": "stream",
     "text": [
      "[INFO] Using GPU: NVIDIA A100-PCIE-40GB\n",
      "\n"
     ]
    },
    {
     "name": "stderr",
     "output_type": "stream",
     "text": [
      "100%|██████████| 3037/3037 [15:21<00:00,  3.29it/s, Epoch=1, LR=9.88e-6, Train_Loss=0.587] \n",
      "100%|██████████| 760/760 [02:05<00:00,  6.08it/s, Epoch=1, LR=9.88e-6, Valid_Loss=0.537]\n"
     ]
    },
    {
     "name": "stdout",
     "output_type": "stream",
     "text": [
      "Classification Report:\n",
      "              precision    recall  f1-score   support\n",
      "\n",
      "      Non_HP     0.8007    0.6031    0.6880      6050\n",
      "          HP     0.6839    0.8512    0.7584      6102\n",
      "\n",
      "    accuracy                         0.7277     12152\n",
      "   macro avg     0.7423    0.7272    0.7232     12152\n",
      "weighted avg     0.7421    0.7277    0.7234     12152\n",
      "\n",
      "Accuracy = 0.7277\n",
      "F1_score = 0.7584\n",
      "\u001b[34mValidation Loss Improved (inf ---> 0.5373212426920483)\n",
      "Model Saved\u001b[0m\n",
      "\n"
     ]
    },
    {
     "name": "stderr",
     "output_type": "stream",
     "text": [
      "100%|██████████| 3037/3037 [13:49<00:00,  3.66it/s, Epoch=2, LR=9.52e-6, Train_Loss=0.471]\n",
      "100%|██████████| 760/760 [02:04<00:00,  6.08it/s, Epoch=2, LR=9.52e-6, Valid_Loss=0.466]\n"
     ]
    },
    {
     "name": "stdout",
     "output_type": "stream",
     "text": [
      "Classification Report:\n",
      "              precision    recall  f1-score   support\n",
      "\n",
      "      Non_HP     0.7660    0.7769    0.7714      6050\n",
      "          HP     0.7756    0.7647    0.7701      6102\n",
      "\n",
      "    accuracy                         0.7707     12152\n",
      "   macro avg     0.7708    0.7708    0.7707     12152\n",
      "weighted avg     0.7708    0.7707    0.7707     12152\n",
      "\n",
      "Accuracy = 0.7707\n",
      "F1_score = 0.7701\n",
      "\u001b[34mValidation Loss Improved (0.5373212426920483 ---> 0.46575491254937107)\n",
      "Model Saved\u001b[0m\n",
      "\n"
     ]
    },
    {
     "name": "stderr",
     "output_type": "stream",
     "text": [
      "100%|██████████| 3037/3037 [16:50<00:00,  3.01it/s, Epoch=3, LR=8.95e-6, Train_Loss=0.407] \n",
      "100%|██████████| 760/760 [02:05<00:00,  6.08it/s, Epoch=3, LR=8.95e-6, Valid_Loss=0.504]\n"
     ]
    },
    {
     "name": "stdout",
     "output_type": "stream",
     "text": [
      "Classification Report:\n",
      "              precision    recall  f1-score   support\n",
      "\n",
      "      Non_HP     0.7087    0.8993    0.7927      6050\n",
      "          HP     0.8639    0.6336    0.7310      6102\n",
      "\n",
      "    accuracy                         0.7659     12152\n",
      "   macro avg     0.7863    0.7665    0.7619     12152\n",
      "weighted avg     0.7867    0.7659    0.7618     12152\n",
      "\n",
      "Accuracy = 0.7659\n",
      "F1_score = 0.731\n",
      "\n",
      "Training complete in 0h 52m 20s\n",
      "Best Loss: 0.4658\n"
     ]
    },
    {
     "data": {
      "application/vnd.jupyter.widget-view+json": {
       "model_id": "",
       "version_major": 2,
       "version_minor": 0
      },
      "text/plain": [
       "VBox(children=(Label(value='0.020 MB of 0.020 MB uploaded\\r'), FloatProgress(value=1.0, max=1.0)))"
      ]
     },
     "metadata": {},
     "output_type": "display_data"
    },
    {
     "data": {
      "text/html": [
       "<style>\n",
       "    table.wandb td:nth-child(1) { padding: 0 10px; text-align: left ; width: auto;} td:nth-child(2) {text-align: left ; width: 100%}\n",
       "    .wandb-row { display: flex; flex-direction: row; flex-wrap: wrap; justify-content: flex-start; width: 100% }\n",
       "    .wandb-col { display: flex; flex-direction: column; flex-basis: 100%; flex: 1; padding: 10px; }\n",
       "    </style>\n",
       "<div class=\"wandb-row\"><div class=\"wandb-col\"><h3>Run history:</h3><br/><table class=\"wandb\"><tr><td>Train Loss</td><td>█▃▁</td></tr><tr><td>Valid Accuracy</td><td>▁█▇</td></tr><tr><td>Valid F1_score</td><td>▆█▁</td></tr><tr><td>Valid Loss</td><td>█▁▅</td></tr></table><br/></div><div class=\"wandb-col\"><h3>Run summary:</h3><br/><table class=\"wandb\"><tr><td>Best Loss</td><td>0.46575</td></tr><tr><td>Train Loss</td><td>0.40728</td></tr><tr><td>Valid Accuracy</td><td>0.7659</td></tr><tr><td>Valid F1_score</td><td>0.731</td></tr><tr><td>Valid Loss</td><td>0.50448</td></tr></table><br/></div></div>"
      ],
      "text/plain": [
       "<IPython.core.display.HTML object>"
      ]
     },
     "metadata": {},
     "output_type": "display_data"
    },
    {
     "data": {
      "text/html": [
       " View run <strong style=\"color:#cdcd00\">n17wvb3ltq0a-fold-1</strong> at: <a href='https://wandb.ai/krimhau/HP_results_Jira_High_vs_rest_results/runs/hqv4u8f6' target=\"_blank\">https://wandb.ai/krimhau/HP_results_Jira_High_vs_rest_results/runs/hqv4u8f6</a><br/> View project at: <a href='https://wandb.ai/krimhau/HP_results_Jira_High_vs_rest_results' target=\"_blank\">https://wandb.ai/krimhau/HP_results_Jira_High_vs_rest_results</a><br/>Synced 5 W&B file(s), 0 media file(s), 0 artifact file(s) and 0 other file(s)"
      ],
      "text/plain": [
       "<IPython.core.display.HTML object>"
      ]
     },
     "metadata": {},
     "output_type": "display_data"
    },
    {
     "data": {
      "text/html": [
       "Find logs at: <code>./wandb/run-20240415_143542-hqv4u8f6/logs</code>"
      ],
      "text/plain": [
       "<IPython.core.display.HTML object>"
      ]
     },
     "metadata": {},
     "output_type": "display_data"
    },
    {
     "name": "stdout",
     "output_type": "stream",
     "text": [
      "\n",
      "\u001b[33m====== Fold: 2 ======\u001b[0m\n"
     ]
    },
    {
     "data": {
      "application/vnd.jupyter.widget-view+json": {
       "model_id": "0cceb5e8dc4f4930894e043e6d431c8d",
       "version_major": 2,
       "version_minor": 0
      },
      "text/plain": [
       "VBox(children=(Label(value='Waiting for wandb.init()...\\r'), FloatProgress(value=0.011112365944104061, max=1.0…"
      ]
     },
     "metadata": {},
     "output_type": "display_data"
    },
    {
     "data": {
      "text/html": [
       "Tracking run with wandb version 0.16.6"
      ],
      "text/plain": [
       "<IPython.core.display.HTML object>"
      ]
     },
     "metadata": {},
     "output_type": "display_data"
    },
    {
     "data": {
      "text/html": [
       "Run data is saved locally in <code>/fp/homes01/u01/ec-krimhau/thesis_code/priority_model_deberta/github_models/high_vs_med_low/hp_vs_low_med_top50repos/03_fine_tuning/30_mypy_fine_tuning/wandb/run-20240415_152816-btov3mp7</code>"
      ],
      "text/plain": [
       "<IPython.core.display.HTML object>"
      ]
     },
     "metadata": {},
     "output_type": "display_data"
    },
    {
     "data": {
      "text/html": [
       "Syncing run <strong><a href='https://wandb.ai/krimhau/HP_results_Jira_High_vs_rest_results/runs/btov3mp7' target=\"_blank\">n17wvb3ltq0a-fold-2</a></strong> to <a href='https://wandb.ai/krimhau/HP_results_Jira_High_vs_rest_results' target=\"_blank\">Weights & Biases</a> (<a href='https://wandb.me/run' target=\"_blank\">docs</a>)<br/>"
      ],
      "text/plain": [
       "<IPython.core.display.HTML object>"
      ]
     },
     "metadata": {},
     "output_type": "display_data"
    },
    {
     "data": {
      "text/html": [
       " View project at <a href='https://wandb.ai/krimhau/HP_results_Jira_High_vs_rest_results' target=\"_blank\">https://wandb.ai/krimhau/HP_results_Jira_High_vs_rest_results</a>"
      ],
      "text/plain": [
       "<IPython.core.display.HTML object>"
      ]
     },
     "metadata": {},
     "output_type": "display_data"
    },
    {
     "data": {
      "text/html": [
       " View run at <a href='https://wandb.ai/krimhau/HP_results_Jira_High_vs_rest_results/runs/btov3mp7' target=\"_blank\">https://wandb.ai/krimhau/HP_results_Jira_High_vs_rest_results/runs/btov3mp7</a>"
      ],
      "text/plain": [
       "<IPython.core.display.HTML object>"
      ]
     },
     "metadata": {},
     "output_type": "display_data"
    },
    {
     "name": "stdout",
     "output_type": "stream",
     "text": [
      "[INFO] Using GPU: NVIDIA A100-PCIE-40GB\n",
      "\n"
     ]
    },
    {
     "name": "stderr",
     "output_type": "stream",
     "text": [
      "100%|██████████| 3038/3038 [13:44<00:00,  3.68it/s, Epoch=1, LR=9.87e-6, Train_Loss=0.585]\n",
      "100%|██████████| 760/760 [02:05<00:00,  6.08it/s, Epoch=1, LR=9.87e-6, Valid_Loss=0.504]\n"
     ]
    },
    {
     "name": "stdout",
     "output_type": "stream",
     "text": [
      "Classification Report:\n",
      "              precision    recall  f1-score   support\n",
      "\n",
      "      Non_HP     0.7057    0.8510    0.7716      6113\n",
      "          HP     0.8094    0.6408    0.7153      6038\n",
      "\n",
      "    accuracy                         0.7465     12151\n",
      "   macro avg     0.7576    0.7459    0.7434     12151\n",
      "weighted avg     0.7573    0.7465    0.7436     12151\n",
      "\n",
      "Accuracy = 0.7465\n",
      "F1_score = 0.7153\n",
      "\u001b[34mValidation Loss Improved (inf ---> 0.5039326117103673)\n",
      "Model Saved\u001b[0m\n",
      "\n"
     ]
    },
    {
     "name": "stderr",
     "output_type": "stream",
     "text": [
      "100%|██████████| 3038/3038 [13:46<00:00,  3.67it/s, Epoch=2, LR=9.5e-6, Train_Loss=0.463] \n",
      "100%|██████████| 760/760 [02:05<00:00,  6.07it/s, Epoch=2, LR=9.5e-6, Valid_Loss=0.499]\n"
     ]
    },
    {
     "name": "stdout",
     "output_type": "stream",
     "text": [
      "Classification Report:\n",
      "              precision    recall  f1-score   support\n",
      "\n",
      "      Non_HP     0.8049    0.6815    0.7381      6113\n",
      "          HP     0.7209    0.8327    0.7728      6038\n",
      "\n",
      "    accuracy                         0.7566     12151\n",
      "   macro avg     0.7629    0.7571    0.7554     12151\n",
      "weighted avg     0.7631    0.7566    0.7553     12151\n",
      "\n",
      "Accuracy = 0.7566\n",
      "F1_score = 0.7728\n",
      "\u001b[34mValidation Loss Improved (0.5039326117103673 ---> 0.4993224293520868)\n",
      "Model Saved\u001b[0m\n",
      "\n"
     ]
    },
    {
     "name": "stderr",
     "output_type": "stream",
     "text": [
      "100%|██████████| 3038/3038 [13:45<00:00,  3.68it/s, Epoch=3, LR=8.89e-6, Train_Loss=0.402]\n",
      "100%|██████████| 760/760 [02:05<00:00,  6.07it/s, Epoch=3, LR=8.89e-6, Valid_Loss=0.491]\n"
     ]
    },
    {
     "name": "stdout",
     "output_type": "stream",
     "text": [
      "Classification Report:\n",
      "              precision    recall  f1-score   support\n",
      "\n",
      "      Non_HP     0.8080    0.7075    0.7544      6113\n",
      "          HP     0.7370    0.8297    0.7806      6038\n",
      "\n",
      "    accuracy                         0.7682     12151\n",
      "   macro avg     0.7725    0.7686    0.7675     12151\n",
      "weighted avg     0.7727    0.7682    0.7674     12151\n",
      "\n",
      "Accuracy = 0.7682\n",
      "F1_score = 0.7806\n",
      "\u001b[34mValidation Loss Improved (0.4993224293520868 ---> 0.49120073001940606)\n",
      "Model Saved\u001b[0m\n",
      "\n",
      "Training complete in 0h 47m 38s\n",
      "Best Loss: 0.4912\n"
     ]
    },
    {
     "data": {
      "application/vnd.jupyter.widget-view+json": {
       "model_id": "",
       "version_major": 2,
       "version_minor": 0
      },
      "text/plain": [
       "VBox(children=(Label(value='0.020 MB of 0.020 MB uploaded\\r'), FloatProgress(value=1.0, max=1.0)))"
      ]
     },
     "metadata": {},
     "output_type": "display_data"
    },
    {
     "data": {
      "text/html": [
       "<style>\n",
       "    table.wandb td:nth-child(1) { padding: 0 10px; text-align: left ; width: auto;} td:nth-child(2) {text-align: left ; width: 100%}\n",
       "    .wandb-row { display: flex; flex-direction: row; flex-wrap: wrap; justify-content: flex-start; width: 100% }\n",
       "    .wandb-col { display: flex; flex-direction: column; flex-basis: 100%; flex: 1; padding: 10px; }\n",
       "    </style>\n",
       "<div class=\"wandb-row\"><div class=\"wandb-col\"><h3>Run history:</h3><br/><table class=\"wandb\"><tr><td>Train Loss</td><td>█▃▁</td></tr><tr><td>Valid Accuracy</td><td>▁▄█</td></tr><tr><td>Valid F1_score</td><td>▁▇█</td></tr><tr><td>Valid Loss</td><td>█▅▁</td></tr></table><br/></div><div class=\"wandb-col\"><h3>Run summary:</h3><br/><table class=\"wandb\"><tr><td>Best Loss</td><td>0.4912</td></tr><tr><td>Train Loss</td><td>0.40214</td></tr><tr><td>Valid Accuracy</td><td>0.7682</td></tr><tr><td>Valid F1_score</td><td>0.7806</td></tr><tr><td>Valid Loss</td><td>0.4912</td></tr></table><br/></div></div>"
      ],
      "text/plain": [
       "<IPython.core.display.HTML object>"
      ]
     },
     "metadata": {},
     "output_type": "display_data"
    },
    {
     "data": {
      "text/html": [
       " View run <strong style=\"color:#cdcd00\">n17wvb3ltq0a-fold-2</strong> at: <a href='https://wandb.ai/krimhau/HP_results_Jira_High_vs_rest_results/runs/btov3mp7' target=\"_blank\">https://wandb.ai/krimhau/HP_results_Jira_High_vs_rest_results/runs/btov3mp7</a><br/> View project at: <a href='https://wandb.ai/krimhau/HP_results_Jira_High_vs_rest_results' target=\"_blank\">https://wandb.ai/krimhau/HP_results_Jira_High_vs_rest_results</a><br/>Synced 5 W&B file(s), 0 media file(s), 0 artifact file(s) and 0 other file(s)"
      ],
      "text/plain": [
       "<IPython.core.display.HTML object>"
      ]
     },
     "metadata": {},
     "output_type": "display_data"
    },
    {
     "data": {
      "text/html": [
       "Find logs at: <code>./wandb/run-20240415_152816-btov3mp7/logs</code>"
      ],
      "text/plain": [
       "<IPython.core.display.HTML object>"
      ]
     },
     "metadata": {},
     "output_type": "display_data"
    },
    {
     "name": "stdout",
     "output_type": "stream",
     "text": [
      "\n"
     ]
    },
    {
     "data": {
      "image/png": "[encoded data removed]",
      "text/plain": [
       "<Figure size 640x480 with 18 Axes>"
      ]
     },
     "metadata": {},
     "output_type": "display_data"
    }
   ],
   "source": [
    "for fold in range(0, CONFIG['n_fold']):\n",
    "    print(f\"{y_}====== Fold: {fold} ======{sr_}\")\n",
    "    run = wandb.init(project='HP_results_Jira_High_vs_rest_results', \n",
    "                     config=CONFIG,\n",
    "                     job_type='Train',\n",
    "                     group=CONFIG['group'],\n",
    "                     tags=[CONFIG['model_name'], f'{HASH_NAME}'],\n",
    "                     name=f'{HASH_NAME}-fold-{fold}',\n",
    "                     anonymous='must')\n",
    "    \n",
    "    # Create Dataloaders\n",
    "    train_loader, valid_loader = prepare_loaders(fold=fold)\n",
    "    \n",
    "    model = HP_Model(CONFIG['model_name'])\n",
    "    model.to(CONFIG['device'])\n",
    "    \n",
    "    # Define Optimizer and Scheduler\n",
    "    optimizer = AdamW(model.parameters(), lr=CONFIG['learning_rate'], weight_decay=CONFIG['weight_decay'])\n",
    "    scheduler = fetch_scheduler(optimizer)\n",
    "    \n",
    "    model, history = run_training(model, optimizer, scheduler,\n",
    "                                  device=CONFIG['device'],\n",
    "                                  num_epochs=CONFIG['epochs'],\n",
    "                                  fold=fold)\n",
    "    \n",
    "    run.finish()\n",
    "    \n",
    "    del model, history, train_loader, valid_loader\n",
    "    _ = gc.collect()\n",
    "    print()"
   ]
  },
  {
   "cell_type": "markdown",
   "id": "489b5b4c",
   "metadata": {},
   "source": [
    "<h2> Testing Inference </h2>\n"
   ]
  },
  {
   "cell_type": "code",
   "execution_count": 35,
   "id": "c8f36497-0ef8-4e3c-8c9e-50c92b92e7a3",
   "metadata": {},
   "outputs": [],
   "source": [
    "import warnings,transformers,logging,torch\n",
    "\n",
    "warnings.simplefilter('ignore')\n",
    "logging.disable(logging.WARNING)"
   ]
  },
  {
   "cell_type": "code",
   "execution_count": 36,
   "id": "1b25e683-7c36-487f-ba36-905d9b04ba13",
   "metadata": {},
   "outputs": [],
   "source": [
    "test_df = fine_tune_test_df"
   ]
  },
  {
   "cell_type": "code",
   "execution_count": 37,
   "id": "f6be00e4-81ad-4264-b42a-afff577eff59",
   "metadata": {},
   "outputs": [
    {
     "data": {
      "text/html": [
       "<div>\n",
       "<style scoped>\n",
       "    .dataframe tbody tr th:only-of-type {\n",
       "        vertical-align: middle;\n",
       "    }\n",
       "\n",
       "    .dataframe tbody tr th {\n",
       "        vertical-align: top;\n",
       "    }\n",
       "\n",
       "    .dataframe thead th {\n",
       "        text-align: right;\n",
       "    }\n",
       "</style>\n",
       "<table border=\"1\" class=\"dataframe\">\n",
       "  <thead>\n",
       "    <tr style=\"text-align: right;\">\n",
       "      <th></th>\n",
       "      <th>text</th>\n",
       "      <th>label</th>\n",
       "    </tr>\n",
       "  </thead>\n",
       "  <tbody>\n",
       "    <tr>\n",
       "      <th>264</th>\n",
       "      <td>behaviour of not annotated init on inheritance...</td>\n",
       "      <td>0</td>\n",
       "    </tr>\n",
       "    <tr>\n",
       "      <th>536</th>\n",
       "      <td>union of a class with any base and none is som...</td>\n",
       "      <td>1</td>\n",
       "    </tr>\n",
       "    <tr>\n",
       "      <th>259</th>\n",
       "      <td>error cannot redefine t as a type variable wit...</td>\n",
       "      <td>0</td>\n",
       "    </tr>\n",
       "    <tr>\n",
       "      <th>137</th>\n",
       "      <td>support function decorators excellently decora...</td>\n",
       "      <td>0</td>\n",
       "    </tr>\n",
       "    <tr>\n",
       "      <th>227</th>\n",
       "      <td>prohibit issubclass for runtime protocols with...</td>\n",
       "      <td>0</td>\n",
       "    </tr>\n",
       "    <tr>\n",
       "      <th>...</th>\n",
       "      <td>...</td>\n",
       "      <td>...</td>\n",
       "    </tr>\n",
       "    <tr>\n",
       "      <th>71</th>\n",
       "      <td>better type for self in untyped functions runn...</td>\n",
       "      <td>0</td>\n",
       "    </tr>\n",
       "    <tr>\n",
       "      <th>106</th>\n",
       "      <td>internal error when using assignment expressio...</td>\n",
       "      <td>1</td>\n",
       "    </tr>\n",
       "    <tr>\n",
       "      <th>270</th>\n",
       "      <td>noimplicitreexport should treat names in all a...</td>\n",
       "      <td>1</td>\n",
       "    </tr>\n",
       "    <tr>\n",
       "      <th>435</th>\n",
       "      <td>enum final checking false positive in complex ...</td>\n",
       "      <td>1</td>\n",
       "    </tr>\n",
       "    <tr>\n",
       "      <th>102</th>\n",
       "      <td>crash on definition of typeddict method im not...</td>\n",
       "      <td>0</td>\n",
       "    </tr>\n",
       "  </tbody>\n",
       "</table>\n",
       "<p>514 rows × 2 columns</p>\n",
       "</div>"
      ],
      "text/plain": [
       "                                                  text  label\n",
       "264  behaviour of not annotated init on inheritance...      0\n",
       "536  union of a class with any base and none is som...      1\n",
       "259  error cannot redefine t as a type variable wit...      0\n",
       "137  support function decorators excellently decora...      0\n",
       "227  prohibit issubclass for runtime protocols with...      0\n",
       "..                                                 ...    ...\n",
       "71   better type for self in untyped functions runn...      0\n",
       "106  internal error when using assignment expressio...      1\n",
       "270  noimplicitreexport should treat names in all a...      1\n",
       "435  enum final checking false positive in complex ...      1\n",
       "102  crash on definition of typeddict method im not...      0\n",
       "\n",
       "[514 rows x 2 columns]"
      ]
     },
     "execution_count": 37,
     "metadata": {},
     "output_type": "execute_result"
    }
   ],
   "source": [
    "test_df"
   ]
  },
  {
   "cell_type": "code",
   "execution_count": 38,
   "id": "690f08dd-983c-429c-a6b4-86c20e540b21",
   "metadata": {},
   "outputs": [],
   "source": [
    "class HP_TestDataset(Dataset):\n",
    "    def __init__(self, df, tokenizer, max_length):\n",
    "        self.df = df\n",
    "        self.max_len = max_length\n",
    "        self.tokenizer = tokenizer\n",
    "        self.text = df['text'].values\n",
    "        \n",
    "    def __len__(self):\n",
    "        return len(self.df)\n",
    "    \n",
    "    def __getitem__(self, index):\n",
    "        text = self.text[index]\n",
    "        inputs = self.tokenizer.encode_plus(\n",
    "                        text,\n",
    "                        truncation=True,\n",
    "                        add_special_tokens=True,\n",
    "                        max_length=self.max_len\n",
    "                    )\n",
    "        \n",
    "        samples = {\n",
    "            'input_ids': inputs['input_ids'],\n",
    "            'attention_mask': inputs['attention_mask'],\n",
    "            \n",
    "        }\n",
    "\n",
    "        if 'token_type_ids' in inputs:\n",
    "            samples['token_type_ids'] = inputs['token_type_ids']\n",
    "        \n",
    "        return samples"
   ]
  },
  {
   "cell_type": "code",
   "execution_count": 39,
   "id": "b437f36d-a3a6-4690-a4c5-7c8567b184c8",
   "metadata": {},
   "outputs": [],
   "source": [
    "collate_fn = DataCollatorWithPadding(tokenizer=CONFIG['tokenizer'])\n",
    "\n",
    "softmax = nn.Softmax(dim=1)\n",
    "model = HP_Model(CONFIG['model_name'])"
   ]
  },
  {
   "cell_type": "code",
   "execution_count": 40,
   "id": "c310d8ae-a37e-4eec-84ab-75cf6273df04",
   "metadata": {},
   "outputs": [],
   "source": [
    "def prepare_test_loader(test_df):    \n",
    "    test_dataset = HP_TestDataset(test_df, \n",
    "                                   tokenizer=CONFIG['tokenizer'], \n",
    "                                   max_length=CONFIG['max_length'])\n",
    "    \n",
    "    test_loader = DataLoader(test_dataset, \n",
    "                             batch_size=CONFIG['valid_batch_size'], \n",
    "                             collate_fn=collate_fn, \n",
    "                             num_workers=2, \n",
    "                             shuffle=False, \n",
    "                             pin_memory=True, \n",
    "                             drop_last=False)\n",
    "    return test_loader\n",
    "\n",
    "test_loader = prepare_test_loader(test_df)"
   ]
  },
  {
   "cell_type": "code",
   "execution_count": 41,
   "id": "42c35623-2819-4bad-a2bc-6fde708a1420",
   "metadata": {},
   "outputs": [],
   "source": [
    "@torch.no_grad()\n",
    "def inference(test_loader, model, device):\n",
    "    preds = []\n",
    "    preds_target = []\n",
    "    model.eval()\n",
    "    model.to(device)\n",
    "    \n",
    "    bar = tqdm(enumerate(test_loader), total=len(test_loader))\n",
    "    \n",
    "    for step, data in bar: \n",
    "        ids = data['input_ids'].to(device, dtype = torch.long)\n",
    "        mask = data['attention_mask'].to(device, dtype = torch.long)\n",
    "        \n",
    "        output = model(ids, mask)\n",
    "        y_preds = softmax(torch.tensor(output.to('cpu'))).numpy()\n",
    "        pred_target = torch.argmax(output, dim=-1).flatten().tolist()\n",
    "        \n",
    "        preds.append(y_preds)\n",
    "        preds_target.append(pred_target) \n",
    "    predictions = np.concatenate(preds)\n",
    "    predictions_label = np.concatenate(preds_target)\n",
    "    return predictions , predictions_label"
   ]
  },
  {
   "cell_type": "code",
   "execution_count": 42,
   "id": "47e9ceb3-2116-4b8d-94a1-abd27e314c73",
   "metadata": {},
   "outputs": [],
   "source": [
    "# Change the HASH_NAME according to new generated hash for your run\n",
    "#HASH_NAME = \"ekgx4wmexn91\"\n"
   ]
  },
  {
   "cell_type": "code",
   "execution_count": 43,
   "id": "601c0907-fc9a-4ede-9836-ed7df661b947",
   "metadata": {},
   "outputs": [
    {
     "name": "stdout",
     "output_type": "stream",
     "text": [
      "Fold 0\n"
     ]
    },
    {
     "name": "stderr",
     "output_type": "stream",
     "text": [
      "100%|██████████| 33/33 [00:05<00:00,  6.25it/s]\n"
     ]
    },
    {
     "name": "stdout",
     "output_type": "stream",
     "text": [
      "Fold 1\n"
     ]
    },
    {
     "name": "stderr",
     "output_type": "stream",
     "text": [
      "100%|██████████| 33/33 [00:05<00:00,  6.30it/s]\n"
     ]
    },
    {
     "name": "stdout",
     "output_type": "stream",
     "text": [
      "Fold 2\n"
     ]
    },
    {
     "name": "stderr",
     "output_type": "stream",
     "text": [
      "100%|██████████| 33/33 [00:05<00:00,  6.31it/s]\n"
     ]
    }
   ],
   "source": [
    "deberta_predictions = []\n",
    "deberta_predictions_labels = []\n",
    "\n",
    "\n",
    "\n",
    "for fold in range(0, CONFIG['n_fold']):\n",
    "    print(\"Fold {}\".format(fold))\n",
    "    \n",
    "    state = torch.load(f'{HASH_NAME}-Loss-Fold-{fold}.bin')\n",
    "    model.load_state_dict(state)\n",
    "    \n",
    "    prediction, predictions_label = inference(test_loader, model, CONFIG['device'])\n",
    "    deberta_predictions.append(prediction)\n",
    "    deberta_predictions_labels.append(predictions_label)\n",
    "    del state, prediction; gc.collect()\n",
    "    torch.cuda.empty_cache()\n",
    "del model"
   ]
  },
  {
   "cell_type": "code",
   "execution_count": 44,
   "id": "b89ee418-5404-468e-88bd-18913c2d3da5",
   "metadata": {},
   "outputs": [
    {
     "data": {
      "text/plain": [
       "[array([[0.5719163 , 0.4280837 ],\n",
       "        [0.57818645, 0.42181352],\n",
       "        [0.24460849, 0.75539154],\n",
       "        ...,\n",
       "        [0.69053555, 0.30946448],\n",
       "        [0.55178636, 0.44821367],\n",
       "        [0.6782048 , 0.3217952 ]], dtype=float32),\n",
       " array([[0.56513345, 0.43486658],\n",
       "        [0.30590877, 0.69409126],\n",
       "        [0.5787353 , 0.42126468],\n",
       "        ...,\n",
       "        [0.8592156 , 0.14078435],\n",
       "        [0.08581269, 0.91418725],\n",
       "        [0.46962404, 0.5303759 ]], dtype=float32),\n",
       " array([[0.5011364 , 0.49886358],\n",
       "        [0.16670102, 0.8332989 ],\n",
       "        [0.4797356 , 0.5202644 ],\n",
       "        ...,\n",
       "        [0.80200523, 0.19799481],\n",
       "        [0.06168047, 0.93831944],\n",
       "        [0.66956   , 0.33043998]], dtype=float32)]"
      ]
     },
     "execution_count": 44,
     "metadata": {},
     "output_type": "execute_result"
    }
   ],
   "source": [
    "deberta_predictions\n"
   ]
  },
  {
   "cell_type": "code",
   "execution_count": 45,
   "id": "036a364a-2e0f-4b27-9f77-c2925d3ce2e6",
   "metadata": {},
   "outputs": [
    {
     "data": {
      "text/plain": [
       "array([[0.54606205, 0.45393792],\n",
       "       [0.3502654 , 0.64973456],\n",
       "       [0.4343598 , 0.5656402 ],\n",
       "       ...,\n",
       "       [0.7839188 , 0.21608122],\n",
       "       [0.23309319, 0.76690674],\n",
       "       [0.6057963 , 0.39420366]], dtype=float32)"
      ]
     },
     "execution_count": 45,
     "metadata": {},
     "output_type": "execute_result"
    }
   ],
   "source": [
    "predictions = np.mean(deberta_predictions, axis=0)\n",
    "predictions"
   ]
  },
  {
   "cell_type": "code",
   "execution_count": 46,
   "id": "cc393a64-0fb7-4f65-a69a-bdccddf89edb",
   "metadata": {},
   "outputs": [
    {
     "data": {
      "text/plain": [
       "514"
      ]
     },
     "execution_count": 46,
     "metadata": {},
     "output_type": "execute_result"
    }
   ],
   "source": [
    "len(predictions)"
   ]
  },
  {
   "cell_type": "code",
   "execution_count": 47,
   "id": "b3348dbf-e8d9-46c0-be55-89592c29445e",
   "metadata": {},
   "outputs": [
    {
     "data": {
      "text/plain": [
       "array([[0.54606205, 0.45393792],\n",
       "       [0.3502654 , 0.64973456],\n",
       "       [0.4343598 , 0.5656402 ],\n",
       "       ...,\n",
       "       [0.7839188 , 0.21608122],\n",
       "       [0.23309319, 0.76690674],\n",
       "       [0.6057963 , 0.39420366]], dtype=float32)"
      ]
     },
     "execution_count": 47,
     "metadata": {},
     "output_type": "execute_result"
    }
   ],
   "source": [
    "predictions"
   ]
  },
  {
   "cell_type": "code",
   "execution_count": 48,
   "id": "94b2a1d7-8f4e-417d-9e02-570d4107feda",
   "metadata": {},
   "outputs": [],
   "source": [
    "test_df[\"prediction_0\"] = predictions[:, 0] "
   ]
  },
  {
   "cell_type": "code",
   "execution_count": 49,
   "id": "1b4c2333-024e-47ca-8828-5c5d19ad07cb",
   "metadata": {},
   "outputs": [],
   "source": [
    "test_df[\"prediction_1\"] = predictions[:, 1] "
   ]
  },
  {
   "cell_type": "code",
   "execution_count": 50,
   "id": "78b2fb4c-ec25-4df0-9d25-c2db6e09e6b1",
   "metadata": {},
   "outputs": [],
   "source": [
    "for i in range(0, CONFIG['n_fold']):\n",
    "\n",
    "    test_df[f\"prediction_label_fold_{i}\"] = deberta_predictions_labels[i]\n"
   ]
  },
  {
   "cell_type": "code",
   "execution_count": 51,
   "id": "c4473d1d-6485-49e6-88bf-6aa3f05326cd",
   "metadata": {},
   "outputs": [
    {
     "data": {
      "text/html": [
       "<div>\n",
       "<style scoped>\n",
       "    .dataframe tbody tr th:only-of-type {\n",
       "        vertical-align: middle;\n",
       "    }\n",
       "\n",
       "    .dataframe tbody tr th {\n",
       "        vertical-align: top;\n",
       "    }\n",
       "\n",
       "    .dataframe thead th {\n",
       "        text-align: right;\n",
       "    }\n",
       "</style>\n",
       "<table border=\"1\" class=\"dataframe\">\n",
       "  <thead>\n",
       "    <tr style=\"text-align: right;\">\n",
       "      <th></th>\n",
       "      <th>text</th>\n",
       "      <th>label</th>\n",
       "      <th>prediction_0</th>\n",
       "      <th>prediction_1</th>\n",
       "      <th>prediction_label_fold_0</th>\n",
       "      <th>prediction_label_fold_1</th>\n",
       "      <th>prediction_label_fold_2</th>\n",
       "    </tr>\n",
       "  </thead>\n",
       "  <tbody>\n",
       "    <tr>\n",
       "      <th>264</th>\n",
       "      <td>behaviour of not annotated init on inheritance...</td>\n",
       "      <td>0</td>\n",
       "      <td>0.546062</td>\n",
       "      <td>0.453938</td>\n",
       "      <td>0</td>\n",
       "      <td>0</td>\n",
       "      <td>0</td>\n",
       "    </tr>\n",
       "    <tr>\n",
       "      <th>536</th>\n",
       "      <td>union of a class with any base and none is som...</td>\n",
       "      <td>1</td>\n",
       "      <td>0.350265</td>\n",
       "      <td>0.649735</td>\n",
       "      <td>0</td>\n",
       "      <td>1</td>\n",
       "      <td>1</td>\n",
       "    </tr>\n",
       "    <tr>\n",
       "      <th>259</th>\n",
       "      <td>error cannot redefine t as a type variable wit...</td>\n",
       "      <td>0</td>\n",
       "      <td>0.434360</td>\n",
       "      <td>0.565640</td>\n",
       "      <td>1</td>\n",
       "      <td>0</td>\n",
       "      <td>1</td>\n",
       "    </tr>\n",
       "    <tr>\n",
       "      <th>137</th>\n",
       "      <td>support function decorators excellently decora...</td>\n",
       "      <td>0</td>\n",
       "      <td>0.521325</td>\n",
       "      <td>0.478675</td>\n",
       "      <td>0</td>\n",
       "      <td>1</td>\n",
       "      <td>0</td>\n",
       "    </tr>\n",
       "    <tr>\n",
       "      <th>227</th>\n",
       "      <td>prohibit issubclass for runtime protocols with...</td>\n",
       "      <td>0</td>\n",
       "      <td>0.621966</td>\n",
       "      <td>0.378034</td>\n",
       "      <td>0</td>\n",
       "      <td>0</td>\n",
       "      <td>0</td>\n",
       "    </tr>\n",
       "    <tr>\n",
       "      <th>...</th>\n",
       "      <td>...</td>\n",
       "      <td>...</td>\n",
       "      <td>...</td>\n",
       "      <td>...</td>\n",
       "      <td>...</td>\n",
       "      <td>...</td>\n",
       "      <td>...</td>\n",
       "    </tr>\n",
       "    <tr>\n",
       "      <th>71</th>\n",
       "      <td>better type for self in untyped functions runn...</td>\n",
       "      <td>0</td>\n",
       "      <td>0.750634</td>\n",
       "      <td>0.249365</td>\n",
       "      <td>0</td>\n",
       "      <td>0</td>\n",
       "      <td>0</td>\n",
       "    </tr>\n",
       "    <tr>\n",
       "      <th>106</th>\n",
       "      <td>internal error when using assignment expressio...</td>\n",
       "      <td>1</td>\n",
       "      <td>0.270699</td>\n",
       "      <td>0.729301</td>\n",
       "      <td>1</td>\n",
       "      <td>1</td>\n",
       "      <td>1</td>\n",
       "    </tr>\n",
       "    <tr>\n",
       "      <th>270</th>\n",
       "      <td>noimplicitreexport should treat names in all a...</td>\n",
       "      <td>1</td>\n",
       "      <td>0.783919</td>\n",
       "      <td>0.216081</td>\n",
       "      <td>0</td>\n",
       "      <td>0</td>\n",
       "      <td>0</td>\n",
       "    </tr>\n",
       "    <tr>\n",
       "      <th>435</th>\n",
       "      <td>enum final checking false positive in complex ...</td>\n",
       "      <td>1</td>\n",
       "      <td>0.233093</td>\n",
       "      <td>0.766907</td>\n",
       "      <td>0</td>\n",
       "      <td>1</td>\n",
       "      <td>1</td>\n",
       "    </tr>\n",
       "    <tr>\n",
       "      <th>102</th>\n",
       "      <td>crash on definition of typeddict method im not...</td>\n",
       "      <td>0</td>\n",
       "      <td>0.605796</td>\n",
       "      <td>0.394204</td>\n",
       "      <td>0</td>\n",
       "      <td>1</td>\n",
       "      <td>0</td>\n",
       "    </tr>\n",
       "  </tbody>\n",
       "</table>\n",
       "<p>514 rows × 7 columns</p>\n",
       "</div>"
      ],
      "text/plain": [
       "                                                  text  label  prediction_0  \\\n",
       "264  behaviour of not annotated init on inheritance...      0      0.546062   \n",
       "536  union of a class with any base and none is som...      1      0.350265   \n",
       "259  error cannot redefine t as a type variable wit...      0      0.434360   \n",
       "137  support function decorators excellently decora...      0      0.521325   \n",
       "227  prohibit issubclass for runtime protocols with...      0      0.621966   \n",
       "..                                                 ...    ...           ...   \n",
       "71   better type for self in untyped functions runn...      0      0.750634   \n",
       "106  internal error when using assignment expressio...      1      0.270699   \n",
       "270  noimplicitreexport should treat names in all a...      1      0.783919   \n",
       "435  enum final checking false positive in complex ...      1      0.233093   \n",
       "102  crash on definition of typeddict method im not...      0      0.605796   \n",
       "\n",
       "     prediction_1  prediction_label_fold_0  prediction_label_fold_1  \\\n",
       "264      0.453938                        0                        0   \n",
       "536      0.649735                        0                        1   \n",
       "259      0.565640                        1                        0   \n",
       "137      0.478675                        0                        1   \n",
       "227      0.378034                        0                        0   \n",
       "..            ...                      ...                      ...   \n",
       "71       0.249365                        0                        0   \n",
       "106      0.729301                        1                        1   \n",
       "270      0.216081                        0                        0   \n",
       "435      0.766907                        0                        1   \n",
       "102      0.394204                        0                        1   \n",
       "\n",
       "     prediction_label_fold_2  \n",
       "264                        0  \n",
       "536                        1  \n",
       "259                        1  \n",
       "137                        0  \n",
       "227                        0  \n",
       "..                       ...  \n",
       "71                         0  \n",
       "106                        1  \n",
       "270                        0  \n",
       "435                        1  \n",
       "102                        0  \n",
       "\n",
       "[514 rows x 7 columns]"
      ]
     },
     "execution_count": 51,
     "metadata": {},
     "output_type": "execute_result"
    }
   ],
   "source": [
    "test_df"
   ]
  },
  {
   "cell_type": "code",
   "execution_count": 52,
   "id": "68812cae-b8d4-4f6d-bee3-cb7a3ff24441",
   "metadata": {},
   "outputs": [
    {
     "data": {
      "text/plain": [
       "514"
      ]
     },
     "execution_count": 52,
     "metadata": {},
     "output_type": "execute_result"
    }
   ],
   "source": [
    "len(test_df)"
   ]
  },
  {
   "cell_type": "code",
   "execution_count": 53,
   "id": "806c1731-776c-4105-90a1-5e9e6cb29b14",
   "metadata": {},
   "outputs": [],
   "source": [
    "test_df['Max'] = test_df[['prediction_0','prediction_1']].idxmax(axis=1)"
   ]
  },
  {
   "cell_type": "code",
   "execution_count": 54,
   "id": "6cbb0e15-dc91-4785-adcd-bd9c1676d226",
   "metadata": {},
   "outputs": [],
   "source": [
    "test_df[\"pred\"] = test_df['Max'].apply(lambda x: x.replace(\"prediction_0\", \"0\"))"
   ]
  },
  {
   "cell_type": "code",
   "execution_count": 55,
   "id": "c1ef524d-f2f0-41d3-b0f1-3f61d47d5448",
   "metadata": {},
   "outputs": [],
   "source": [
    "test_df[\"pred\"] = test_df['pred'].apply(lambda x: x.replace(\"prediction_1\", \"1\"))\n"
   ]
  },
  {
   "cell_type": "code",
   "execution_count": 56,
   "id": "72170b82-c414-41da-8f02-b41c13aa84cb",
   "metadata": {},
   "outputs": [],
   "source": [
    "test_df[\"pred\"] = test_df[\"pred\"].astype(int)"
   ]
  },
  {
   "cell_type": "code",
   "execution_count": 57,
   "id": "f26e7e7b-5712-4bae-b8fd-81586e97a5fc",
   "metadata": {},
   "outputs": [
    {
     "data": {
      "text/html": [
       "<div>\n",
       "<style scoped>\n",
       "    .dataframe tbody tr th:only-of-type {\n",
       "        vertical-align: middle;\n",
       "    }\n",
       "\n",
       "    .dataframe tbody tr th {\n",
       "        vertical-align: top;\n",
       "    }\n",
       "\n",
       "    .dataframe thead th {\n",
       "        text-align: right;\n",
       "    }\n",
       "</style>\n",
       "<table border=\"1\" class=\"dataframe\">\n",
       "  <thead>\n",
       "    <tr style=\"text-align: right;\">\n",
       "      <th></th>\n",
       "      <th>text</th>\n",
       "      <th>label</th>\n",
       "      <th>prediction_0</th>\n",
       "      <th>prediction_1</th>\n",
       "      <th>prediction_label_fold_0</th>\n",
       "      <th>prediction_label_fold_1</th>\n",
       "      <th>prediction_label_fold_2</th>\n",
       "      <th>Max</th>\n",
       "      <th>pred</th>\n",
       "    </tr>\n",
       "  </thead>\n",
       "  <tbody>\n",
       "    <tr>\n",
       "      <th>264</th>\n",
       "      <td>behaviour of not annotated init on inheritance...</td>\n",
       "      <td>0</td>\n",
       "      <td>0.546062</td>\n",
       "      <td>0.453938</td>\n",
       "      <td>0</td>\n",
       "      <td>0</td>\n",
       "      <td>0</td>\n",
       "      <td>prediction_0</td>\n",
       "      <td>0</td>\n",
       "    </tr>\n",
       "    <tr>\n",
       "      <th>536</th>\n",
       "      <td>union of a class with any base and none is som...</td>\n",
       "      <td>1</td>\n",
       "      <td>0.350265</td>\n",
       "      <td>0.649735</td>\n",
       "      <td>0</td>\n",
       "      <td>1</td>\n",
       "      <td>1</td>\n",
       "      <td>prediction_1</td>\n",
       "      <td>1</td>\n",
       "    </tr>\n",
       "    <tr>\n",
       "      <th>259</th>\n",
       "      <td>error cannot redefine t as a type variable wit...</td>\n",
       "      <td>0</td>\n",
       "      <td>0.434360</td>\n",
       "      <td>0.565640</td>\n",
       "      <td>1</td>\n",
       "      <td>0</td>\n",
       "      <td>1</td>\n",
       "      <td>prediction_1</td>\n",
       "      <td>1</td>\n",
       "    </tr>\n",
       "    <tr>\n",
       "      <th>137</th>\n",
       "      <td>support function decorators excellently decora...</td>\n",
       "      <td>0</td>\n",
       "      <td>0.521325</td>\n",
       "      <td>0.478675</td>\n",
       "      <td>0</td>\n",
       "      <td>1</td>\n",
       "      <td>0</td>\n",
       "      <td>prediction_0</td>\n",
       "      <td>0</td>\n",
       "    </tr>\n",
       "    <tr>\n",
       "      <th>227</th>\n",
       "      <td>prohibit issubclass for runtime protocols with...</td>\n",
       "      <td>0</td>\n",
       "      <td>0.621966</td>\n",
       "      <td>0.378034</td>\n",
       "      <td>0</td>\n",
       "      <td>0</td>\n",
       "      <td>0</td>\n",
       "      <td>prediction_0</td>\n",
       "      <td>0</td>\n",
       "    </tr>\n",
       "    <tr>\n",
       "      <th>...</th>\n",
       "      <td>...</td>\n",
       "      <td>...</td>\n",
       "      <td>...</td>\n",
       "      <td>...</td>\n",
       "      <td>...</td>\n",
       "      <td>...</td>\n",
       "      <td>...</td>\n",
       "      <td>...</td>\n",
       "      <td>...</td>\n",
       "    </tr>\n",
       "    <tr>\n",
       "      <th>71</th>\n",
       "      <td>better type for self in untyped functions runn...</td>\n",
       "      <td>0</td>\n",
       "      <td>0.750634</td>\n",
       "      <td>0.249365</td>\n",
       "      <td>0</td>\n",
       "      <td>0</td>\n",
       "      <td>0</td>\n",
       "      <td>prediction_0</td>\n",
       "      <td>0</td>\n",
       "    </tr>\n",
       "    <tr>\n",
       "      <th>106</th>\n",
       "      <td>internal error when using assignment expressio...</td>\n",
       "      <td>1</td>\n",
       "      <td>0.270699</td>\n",
       "      <td>0.729301</td>\n",
       "      <td>1</td>\n",
       "      <td>1</td>\n",
       "      <td>1</td>\n",
       "      <td>prediction_1</td>\n",
       "      <td>1</td>\n",
       "    </tr>\n",
       "    <tr>\n",
       "      <th>270</th>\n",
       "      <td>noimplicitreexport should treat names in all a...</td>\n",
       "      <td>1</td>\n",
       "      <td>0.783919</td>\n",
       "      <td>0.216081</td>\n",
       "      <td>0</td>\n",
       "      <td>0</td>\n",
       "      <td>0</td>\n",
       "      <td>prediction_0</td>\n",
       "      <td>0</td>\n",
       "    </tr>\n",
       "    <tr>\n",
       "      <th>435</th>\n",
       "      <td>enum final checking false positive in complex ...</td>\n",
       "      <td>1</td>\n",
       "      <td>0.233093</td>\n",
       "      <td>0.766907</td>\n",
       "      <td>0</td>\n",
       "      <td>1</td>\n",
       "      <td>1</td>\n",
       "      <td>prediction_1</td>\n",
       "      <td>1</td>\n",
       "    </tr>\n",
       "    <tr>\n",
       "      <th>102</th>\n",
       "      <td>crash on definition of typeddict method im not...</td>\n",
       "      <td>0</td>\n",
       "      <td>0.605796</td>\n",
       "      <td>0.394204</td>\n",
       "      <td>0</td>\n",
       "      <td>1</td>\n",
       "      <td>0</td>\n",
       "      <td>prediction_0</td>\n",
       "      <td>0</td>\n",
       "    </tr>\n",
       "  </tbody>\n",
       "</table>\n",
       "<p>514 rows × 9 columns</p>\n",
       "</div>"
      ],
      "text/plain": [
       "                                                  text  label  prediction_0  \\\n",
       "264  behaviour of not annotated init on inheritance...      0      0.546062   \n",
       "536  union of a class with any base and none is som...      1      0.350265   \n",
       "259  error cannot redefine t as a type variable wit...      0      0.434360   \n",
       "137  support function decorators excellently decora...      0      0.521325   \n",
       "227  prohibit issubclass for runtime protocols with...      0      0.621966   \n",
       "..                                                 ...    ...           ...   \n",
       "71   better type for self in untyped functions runn...      0      0.750634   \n",
       "106  internal error when using assignment expressio...      1      0.270699   \n",
       "270  noimplicitreexport should treat names in all a...      1      0.783919   \n",
       "435  enum final checking false positive in complex ...      1      0.233093   \n",
       "102  crash on definition of typeddict method im not...      0      0.605796   \n",
       "\n",
       "     prediction_1  prediction_label_fold_0  prediction_label_fold_1  \\\n",
       "264      0.453938                        0                        0   \n",
       "536      0.649735                        0                        1   \n",
       "259      0.565640                        1                        0   \n",
       "137      0.478675                        0                        1   \n",
       "227      0.378034                        0                        0   \n",
       "..            ...                      ...                      ...   \n",
       "71       0.249365                        0                        0   \n",
       "106      0.729301                        1                        1   \n",
       "270      0.216081                        0                        0   \n",
       "435      0.766907                        0                        1   \n",
       "102      0.394204                        0                        1   \n",
       "\n",
       "     prediction_label_fold_2           Max  pred  \n",
       "264                        0  prediction_0     0  \n",
       "536                        1  prediction_1     1  \n",
       "259                        1  prediction_1     1  \n",
       "137                        0  prediction_0     0  \n",
       "227                        0  prediction_0     0  \n",
       "..                       ...           ...   ...  \n",
       "71                         0  prediction_0     0  \n",
       "106                        1  prediction_1     1  \n",
       "270                        0  prediction_0     0  \n",
       "435                        1  prediction_1     1  \n",
       "102                        0  prediction_0     0  \n",
       "\n",
       "[514 rows x 9 columns]"
      ]
     },
     "execution_count": 57,
     "metadata": {},
     "output_type": "execute_result"
    }
   ],
   "source": [
    "test_df"
   ]
  },
  {
   "cell_type": "code",
   "execution_count": 58,
   "id": "2ce8ca5b-1611-400a-98ea-590e18e3e4d6",
   "metadata": {},
   "outputs": [
    {
     "name": "stdout",
     "output_type": "stream",
     "text": [
      "[[169  88]\n",
      " [ 85 172]]\n"
     ]
    }
   ],
   "source": [
    "from sklearn.metrics import confusion_matrix\n",
    "cf_matrix = confusion_matrix(test_df[\"label\"].values, test_df[\"pred\"].values)\n",
    "\n",
    "print(cf_matrix)"
   ]
  },
  {
   "cell_type": "code",
   "execution_count": 59,
   "id": "f07ff2ad-0501-46c3-b5c8-7f414a2e7b83",
   "metadata": {},
   "outputs": [
    {
     "data": {
      "image/png": "[encoded data removed]",
      "text/plain": [
       "<Figure size 640x480 with 2 Axes>"
      ]
     },
     "metadata": {},
     "output_type": "display_data"
    }
   ],
   "source": [
    "import seaborn as sns\n",
    "import matplotlib.pyplot as plt\n",
    "ax = sns.heatmap(cf_matrix/np.sum(cf_matrix), annot=True, \n",
    "            fmt='.2%', cmap='Blues')\n",
    "\n",
    "ax.set_title('GitHub: High vs med/low fintune mypy\\n\\nNonHP vs HP \\n\\n');\n",
    "ax.set_xlabel('\\nPredicted Values')\n",
    "ax.set_ylabel('Actual Values ');\n",
    "\n",
    "## Ticket labels - List must be in alphabetical order\n",
    "ax.xaxis.set_ticklabels(['False(NonHP)','True(HP)'])\n",
    "ax.yaxis.set_ticklabels(['False(NonHP)','True(HP)'])\n",
    "\n",
    "## Display the visualization of the Confusion Matrix.\n",
    "plt.show()"
   ]
  },
  {
   "cell_type": "code",
   "execution_count": 60,
   "id": "b9228c89-6cae-4a8e-a433-e7b5328dba1e",
   "metadata": {},
   "outputs": [
    {
     "name": "stdout",
     "output_type": "stream",
     "text": [
      "              precision    recall  f1-score   support\n",
      "\n",
      "           0       0.67      0.66      0.66       257\n",
      "           1       0.66      0.67      0.67       257\n",
      "\n",
      "    accuracy                           0.66       514\n",
      "   macro avg       0.66      0.66      0.66       514\n",
      "weighted avg       0.66      0.66      0.66       514\n",
      "\n"
     ]
    }
   ],
   "source": [
    "from sklearn.metrics import classification_report\n",
    "\n",
    "\n",
    "print(classification_report(test_df[\"label\"].values, test_df[\"pred\"].values))"
   ]
  },
  {
   "cell_type": "code",
   "execution_count": 61,
   "id": "61a155c0-14f8-4918-8b58-8ebc91c06d5f",
   "metadata": {},
   "outputs": [],
   "source": [
    "test_df[[\"text\",\"label\",\"pred\"]].to_csv(\"mypy_70_Test_inference.csv\")"
   ]
  },
  {
   "cell_type": "code",
   "execution_count": 62,
   "id": "d940b3ed-6b21-4c66-840e-dd163af1d487",
   "metadata": {},
   "outputs": [
    {
     "name": "stdout",
     "output_type": "stream",
     "text": [
      "Matthew's Correlation Coefficient: 0.3268705198784323\n"
     ]
    }
   ],
   "source": [
    "from sklearn.metrics import matthews_corrcoef\n",
    "\n",
    "# Calculate the Matthew's Correlation Coefficient\n",
    "mcc = matthews_corrcoef(test_df[\"label\"].values, test_df[\"pred\"].values)\n",
    "print(\"Matthew's Correlation Coefficient:\", mcc)"
   ]
  },
  {
   "cell_type": "code",
   "execution_count": 63,
   "id": "347de704-da8f-415a-bb42-eee04effbd2a",
   "metadata": {},
   "outputs": [
    {
     "data": {
      "text/plain": [
       "0.025957747939053935"
      ]
     },
     "execution_count": 63,
     "metadata": {},
     "output_type": "execute_result"
    }
   ],
   "source": [
    "tracker.stop()"
   ]
  }
 ],
 "metadata": {
  "kernelspec": {
   "display_name": "Python 3 (ipykernel)",
   "language": "python",
   "name": "python3"
  },
  "language_info": {
   "codemirror_mode": {
    "name": "ipython",
    "version": 3
   },
   "file_extension": ".py",
   "mimetype": "text/x-python",
   "name": "python",
   "nbconvert_exporter": "python",
   "pygments_lexer": "ipython3",
   "version": "3.11.3"
  },
  "vscode": {
   "interpreter": {
    "hash": "a64f21293159cd9c4e596ef7fd6c17a9c99d13712885c299cb3370e7a4d97830"
   }
  }
 },
 "nbformat": 4,
 "nbformat_minor": 5
}
